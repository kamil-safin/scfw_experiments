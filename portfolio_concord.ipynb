{
 "cells": [
  {
   "cell_type": "code",
   "execution_count": 4,
   "metadata": {},
   "outputs": [],
   "source": [
    "import time\n",
    "import scipy\n",
    "import pickle\n",
    "import scipy.io\n",
    "import numpy as np\n",
    "from scipy.linalg import norm\n",
    "import matplotlib.pyplot as plt"
   ]
  },
  {
   "cell_type": "code",
   "execution_count": 55,
   "metadata": {},
   "outputs": [],
   "source": [
    "data = scipy.io.loadmat('./data/syn_1000_1500_10_50.mat')\n",
    "W = data['W']\n",
    "with open('./data/1000_1500_sol.pckl', 'rb') as f:\n",
    "    sol = pickle.load(f)"
   ]
  },
  {
   "cell_type": "code",
   "execution_count": 56,
   "metadata": {},
   "outputs": [],
   "source": [
    "def obj_func(x):\n",
    "    return -np.sum(np.log(W.dot(x)))"
   ]
  },
  {
   "cell_type": "code",
   "execution_count": 57,
   "metadata": {},
   "outputs": [],
   "source": [
    "n, p = W.shape\n",
    "x = np.ones(p) / p\n",
    "n_steps = 1000\n",
    "printst = 1\n",
    "terminate_tol = 1e-8\n",
    "sub_tol = 0.25 * terminate_tol\n",
    "steps_tol = 0.05\n",
    "Lest = 1"
   ]
  },
  {
   "cell_type": "code",
   "execution_count": 58,
   "metadata": {},
   "outputs": [],
   "source": [
    "s_deactive = 0\n",
    "\n",
    "if Lest == 1:\n",
    "    #Estimate Lipschitz Constant\n",
    "    Denom = W.dot(np.ones(p)) / p\n",
    "    RatH = 1 / (Denom**2)    \n",
    "    dirr = np.ones(p)\n",
    "    for Liter in range(1, 16):\n",
    "        Dir = W.T.dot(RatH * (W.dot(dirr)))\n",
    "        dirr = Dir / norm(Dir)\n",
    "    Hd = W.T.dot(RatH * (W.dot(dirr)))\n",
    "    dHd = dirr.dot(Hd)\n",
    "    L = dHd / (dirr.dot(dirr))"
   ]
  },
  {
   "cell_type": "code",
   "execution_count": 59,
   "metadata": {},
   "outputs": [],
   "source": [
    "def fn_portf_proxsplx(y):\n",
    "    m = len(y)\n",
    "    bget = False\n",
    "    s  = sorted(y, reverse=True)\n",
    "    tmpsum = 0\n",
    "    for i in range(m - 1):\n",
    "        tmpsum = tmpsum + s[i]\n",
    "        tmax = (tmpsum - 1) / (i + 1)\n",
    "        if tmax >= s[i+1]:\n",
    "            bget = True\n",
    "            break\n",
    "    if not bget:\n",
    "        tmax = (tmpsum + s[m - 1] - 1) / m\n",
    "    x = np.maximum(y - tmax, 0)\n",
    "    return x"
   ]
  },
  {
   "cell_type": "code",
   "execution_count": 60,
   "metadata": {},
   "outputs": [],
   "source": [
    "def fn_portf_fista(Grad, Hopr, x, L, tol):\n",
    "    y = x.copy()\n",
    "    x_cur = y.copy()\n",
    "    t = 1\n",
    "    kmax = 1200\n",
    "    for k in range(1, kmax + 1):\n",
    "        DQ = Hopr(y - x) + Grad\n",
    "        x_tmp = y - 1 / L * DQ\n",
    "        x_nxt = fn_portf_proxsplx(x_tmp)\n",
    "        xdiff = x_nxt - x_cur\n",
    "        ndiff = norm(xdiff)\n",
    "        if (ndiff < tol) and (k > 1):\n",
    "            print('Fista err = %3.3e; Subiter = %3d; subproblem converged!\\n' % (ndiff, k))\n",
    "            break\n",
    "        t_nxt = 0.5 * (1 + np.sqrt(1 + 4 * t**2))\n",
    "        y = x_nxt + (t - 1) / t_nxt * xdiff\n",
    "        t  = t_nxt\n",
    "        x_cur = x_nxt\n",
    "    return x_nxt"
   ]
  },
  {
   "cell_type": "code",
   "execution_count": 61,
   "metadata": {
    "scrolled": true
   },
   "outputs": [
    {
     "name": "stdout",
     "output_type": "stream",
     "text": [
      "iter =    1, stepsize = 6.693e-01, rdiff = 3.020e-01\n",
      "\n",
      "iter =    2, stepsize = 8.164e-01, rdiff = 1.415e-01\n",
      "\n",
      "iter =    3, stepsize = 8.925e-01, rdiff = 7.755e-02\n",
      "\n",
      "iter =    4, stepsize = 9.248e-01, rdiff = 5.272e-02\n",
      "\n",
      "iter =    5, stepsize = 9.450e-01, rdiff = 3.727e-02\n",
      "\n",
      "iter =    6, stepsize = 1.000e+00, rdiff = 2.783e-02\n",
      "\n",
      "iter =    7, stepsize = 1.000e+00, rdiff = 2.043e-02\n",
      "\n",
      "iter =    8, stepsize = 1.000e+00, rdiff = 1.418e-02\n",
      "\n",
      "iter =    9, stepsize = 1.000e+00, rdiff = 1.008e-02\n",
      "\n",
      "iter =   10, stepsize = 1.000e+00, rdiff = 6.094e-03\n",
      "\n",
      "iter =   11, stepsize = 1.000e+00, rdiff = 4.531e-03\n",
      "\n",
      "iter =   12, stepsize = 1.000e+00, rdiff = 3.386e-03\n",
      "\n",
      "iter =   13, stepsize = 1.000e+00, rdiff = 2.530e-03\n",
      "\n",
      "iter =   14, stepsize = 1.000e+00, rdiff = 1.891e-03\n",
      "\n",
      "iter =   15, stepsize = 1.000e+00, rdiff = 1.414e-03\n",
      "\n",
      "iter =   16, stepsize = 1.000e+00, rdiff = 1.057e-03\n",
      "\n",
      "iter =   17, stepsize = 1.000e+00, rdiff = 7.907e-04\n",
      "\n",
      "iter =   18, stepsize = 1.000e+00, rdiff = 5.913e-04\n",
      "\n",
      "iter =   19, stepsize = 1.000e+00, rdiff = 4.423e-04\n",
      "\n",
      "Fista err = 2.000e-09; Subiter =   2; subproblem converged!\n",
      "\n",
      "Convergence achieved!\n",
      "iter =   20, stepsize = 1.000e+00, rdiff = 4.000e-09\n",
      "\n"
     ]
    }
   ],
   "source": [
    "err, times, points = [], [], []\n",
    "\n",
    "points.append(x)\n",
    "\n",
    "int_start = time.time()\n",
    "for i in range(1, n_steps + 1):\n",
    "    \n",
    "    start = time.time()\n",
    "    \n",
    "    # Compute the denominator.\n",
    "    denom = W.dot(x) # n by 1 vector\n",
    "    \n",
    "    # Evaluate the gradient.\n",
    "    ratG = 1 / denom # n by 1 vector\n",
    "    Grad = -W.T.dot(ratG) # p by 1 vector\n",
    "    \n",
    "    # Evaluate the Hessian\n",
    "    ratH = 1 / (denom**2) # n by 1 vector\n",
    "    Hopr = lambda d: W.T.dot(ratH * (W.dot(d))) # p by 1 vector\n",
    " \n",
    "    if Lest == 0:\n",
    "        # Compute Lipschitz Constant  \n",
    "        dirr = np.ones(p)\n",
    "        for Liter in range(1, 21):\n",
    "            Dir = Hopr(dirr)\n",
    "            dirr = Dir / norm(Dir)\n",
    "        Hd = Hopr(dirr)\n",
    "        dHd  = dirr.dot(Hd)\n",
    "        L = dHd / (dirr.dot(dirr))\n",
    "    \n",
    "    x_nxt = fn_portf_fista(Grad, Hopr, x, L, sub_tol)\n",
    "    diffx = x_nxt - x\n",
    "    \n",
    "    # solution value stop-criterion    \n",
    "    nrm_dx = norm(diffx)\n",
    "    rdiff = nrm_dx / max(1.0, norm(x))\n",
    "    err.append(rdiff)\n",
    "    \n",
    "    # Check the stopping criterion.\n",
    "    if (rdiff <= terminate_tol) and i > 1:\n",
    "        print('Convergence achieved!')\n",
    "        print('iter = %4d, stepsize = %3.3e, rdiff = %3.3e\\n' % (i, s, rdiff))\n",
    "        break\n",
    "    \n",
    "    # Compute a step-size if required.\n",
    "    if not s_deactive:\n",
    "        Hd = Hopr(diffx)\n",
    "        dHd = diffx.dot(Hd)\n",
    "        lams = np.sqrt(dHd)\n",
    "        s = 1 / (1 + lams)   # 0.5 * Mf = 1\n",
    "        \n",
    "    if (1 - s <= steps_tol):\n",
    "        s = 1\n",
    "        s_deactive = 1               \n",
    "    x = x + s * diffx\n",
    "    \n",
    "    end = time.time()\n",
    "    \n",
    "    times.append(end - start)\n",
    "    points.append(x)\n",
    "    \n",
    "    if (i % printst == 0) or (i == 1):\n",
    "        print('iter = %4d, stepsize = %3.3e, rdiff = %3.3e\\n' % (i, s, rdiff))\n",
    "\n",
    "# if mod(iter, options.printst) ~= 0\n",
    "#     fprintf('iter = %4d, stepsize = %3.3e, rdiff = %3.3e\\n', iter, s, rdiff);\n",
    "# end\n",
    "\n",
    "int_end = time.time()\n",
    "if i >= n_steps:\n",
    "    print('Exceed the maximum number of iterations')"
   ]
  },
  {
   "cell_type": "code",
   "execution_count": 62,
   "metadata": {},
   "outputs": [],
   "source": [
    "with open('./concord_times.pckl', 'wb') as f:\n",
    "    pickle.dump(times, f)"
   ]
  },
  {
   "cell_type": "code",
   "execution_count": 63,
   "metadata": {},
   "outputs": [
    {
     "data": {
      "text/plain": [
       "0.0012938336311932035"
      ]
     },
     "execution_count": 63,
     "metadata": {},
     "output_type": "execute_result"
    }
   ],
   "source": [
    "norm(x - sol) / max(1, norm(sol))"
   ]
  },
  {
   "cell_type": "code",
   "execution_count": 64,
   "metadata": {},
   "outputs": [
    {
     "data": {
      "text/plain": [
       "136.99677872657776"
      ]
     },
     "execution_count": 64,
     "metadata": {},
     "output_type": "execute_result"
    }
   ],
   "source": [
    "int_end - int_start"
   ]
  },
  {
   "cell_type": "code",
   "execution_count": 67,
   "metadata": {},
   "outputs": [
    {
     "data": {
      "text/plain": [
       "20"
      ]
     },
     "execution_count": 67,
     "metadata": {},
     "output_type": "execute_result"
    }
   ],
   "source": [
    "i"
   ]
  },
  {
   "cell_type": "code",
   "execution_count": null,
   "metadata": {},
   "outputs": [],
   "source": []
  }
 ],
 "metadata": {
  "kernelspec": {
   "display_name": "Python 3.7.3 (pyenv)",
   "language": "python",
   "name": "venv3.7"
  },
  "language_info": {
   "codemirror_mode": {
    "name": "ipython",
    "version": 3
   },
   "file_extension": ".py",
   "mimetype": "text/x-python",
   "name": "python",
   "nbconvert_exporter": "python",
   "pygments_lexer": "ipython3",
   "version": "3.7.3"
  }
 },
 "nbformat": 4,
 "nbformat_minor": 4
}
