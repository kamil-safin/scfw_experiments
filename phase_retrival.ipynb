{
 "cells": [
  {
   "cell_type": "code",
   "execution_count": 679,
   "metadata": {},
   "outputs": [],
   "source": [
    "import pickle\n",
    "import numpy as np\n",
    "from tqdm.notebook import tqdm\n",
    "import matplotlib.pyplot as plt\n",
    "from scipy.optimize import minimize\n",
    "from line_profiler import LineProfiler"
   ]
  },
  {
   "cell_type": "code",
   "execution_count": null,
   "metadata": {},
   "outputs": [],
   "source": [
    "#tqdm._instances.clear()"
   ]
  },
  {
   "cell_type": "code",
   "execution_count": null,
   "metadata": {},
   "outputs": [],
   "source": [
    "np.random.seed(42)"
   ]
  },
  {
   "cell_type": "code",
   "execution_count": 6,
   "metadata": {},
   "outputs": [],
   "source": [
    "def norm(x):\n",
    "    return np.imag(x)**2 + np.real(x)**2"
   ]
  },
  {
   "cell_type": "code",
   "execution_count": 192,
   "metadata": {},
   "outputs": [],
   "source": [
    "def phase_val(A, X, y):\n",
    "    sum_val = 0\n",
    "    for y_i, A_i in zip(y, A):\n",
    "        trace = np.trace(A_i.dot(X)).real\n",
    "        sum_val += -y_i * np.log(trace) + trace\n",
    "    return sum_val"
   ]
  },
  {
   "cell_type": "code",
   "execution_count": 576,
   "metadata": {},
   "outputs": [],
   "source": [
    "def phase_gradient(A, X, y):\n",
    "    sum_val = 0\n",
    "#    A_T = np.conjugate(np.transpose(A, axes=(0, 2, 1)))\n",
    "#    return np.sum((-y / np.trace(A.dot(X), axis1=1, axis2=2).real)[:, None, None] * A_T + A_T, axis=0)\n",
    "    for y_i, A_i in zip(y, A):\n",
    "        sum_val += -y_i * np.conjugate(A_i).T / np.trace(A_i.dot(X)).real + np.conjugate(A_i).T\n",
    "    return sum_val"
   ]
  },
  {
   "cell_type": "code",
   "execution_count": 4,
   "metadata": {},
   "outputs": [],
   "source": [
    "def x_norm(A, X, y, u):\n",
    "    sum_val = 0\n",
    "    for y_i, A_i in zip(y, A):\n",
    "        sum_val += y_i * np.trace(A_i.dot(u)).real**2 / np.trace(A_i.dot(X)).real**2\n",
    "    return np.sqrt(sum_val)"
   ]
  },
  {
   "cell_type": "code",
   "execution_count": 585,
   "metadata": {},
   "outputs": [],
   "source": [
    "def complex_scalar_dot(A, B):\n",
    "    return np.trace(np.conjugate(A).T.dot(B)).real"
   ]
  },
  {
   "cell_type": "code",
   "execution_count": 697,
   "metadata": {},
   "outputs": [],
   "source": [
    "def run_Frank_Wolf(A, X, y, c, tau_policy='standard', num_iter=100, tol=1e-6):\n",
    "    points = [X]\n",
    "    gaps = []\n",
    "    for t in tqdm(range(num_iter)):\n",
    "        grad = phase_gradient(A, X, y)\n",
    "        eig_vals, eig_vecs = np.linalg.eigh(grad) # eigh ?\n",
    "        u_t = eig_vecs[:, np.argmin(eig_vals.real)]\n",
    "        V_t = c * np.dot(u_t.reshape(-1, 1), np.conj(u_t).reshape(1, -1))\n",
    "        # scalar product in matrix space\n",
    "        #gap = np.trace(np.conjugate(X - V_t).T.dot(grad)).real\n",
    "        gap = complex_scalar_dot(X - V_t, grad)\n",
    "        if tau_policy == 'standard':\n",
    "            tau = 2 / (t + 2)\n",
    "        if tau_policy == 'line_search':\n",
    "            optim_func = lambda t_val: phase_val(A, (1 - t_val) * X + t_val * V_t, y)\n",
    "            tau = minimize(optim_func, 0.5, bounds=[(0, 1)]).x\n",
    "            #print(tau)\n",
    "        if tau_policy == 'icml':\n",
    "            e = x_norm(A, X, y, V_t - X)\n",
    "            tau = min(1, gap / (e * gap + e))\n",
    "        X_prev = X\n",
    "        X = (1 - tau) * X + tau * V_t\n",
    "        #diff_norm = np.sqrt(complex_scalar_dot(X - X_prev, X - X_prev))\n",
    "        #rdiff = diff_norm / max(1, np.sqrt(complex_scalar_dot(X_prev, X_prev)))\n",
    "        prev_val = phase_val(A, X_prev, y)\n",
    "        fdiff = np.abs(prev_val - phase_val(A, X, y)) / np.abs(prev_val)\n",
    "        points.append(X)\n",
    "        gaps.append(gap)\n",
    "        if fdiff < tol:\n",
    "            print('Convergence achieved')\n",
    "            print('Function value: %f' % phase_val(A, X, y))\n",
    "            print('Fdiff: %.2e' % fdiff)\n",
    "            print('Gap: %.2f' % gap)\n",
    "            return points, gaps\n",
    "    print('Function value: %f' % phase_val(A, X, y))\n",
    "    print('Fdiff: %.2e' % fdiff)\n",
    "    print('Gap: %.2f' % gap)\n",
    "    return points, gaps\n",
    "\n",
    "def compute_residuals(A, y, points, X_sol):\n",
    "    sol_val = phase_val(A, X_sol, y)\n",
    "    return [(phase_val(A, X, y) - sol_val) / sol_val for X in points]"
   ]
  },
  {
   "cell_type": "markdown",
   "metadata": {},
   "source": [
    "Т.к. все матрицы эрмитовы, то операции trace - вещественны, но из-за ошибки округления, надо явно отбрасывать комплексную часть. То же самое для собсвтенных чисел - они вещественны, но надо явно отбрасывать комплексную часть."
   ]
  },
  {
   "cell_type": "code",
   "execution_count": 705,
   "metadata": {},
   "outputs": [],
   "source": [
    "# complex case\n",
    "p = 256\n",
    "n = 32\n",
    "\n",
    "mu, sigma = 0, 1\n",
    "a = np.random.normal(mu, sigma, size=(n, p)) + np.random.normal(mu, sigma, size=(n,p)) * 1j\n",
    "A = np.array([np.dot(a_i.reshape(-1, 1), np.conj(a_i).reshape(1, -1)) for a_i in a])\n",
    "\n",
    "x_sol = np.random.normal(0, 1, p) + np.random.normal(0, 1, p) * 1j\n",
    "X_sol = np.dot(x_sol.reshape(-1, 1), np.conj(x_sol).reshape(1, -1))\n",
    "\n",
    "lambda_val = [norm(np.vdot(a_i, x_sol)) for a_i in a]\n",
    "\n",
    "y = np.array([np.random.poisson(lambda_i) for lambda_i in lambda_val])\n",
    "c = np.mean(y)\n",
    "\n",
    "x_0 = np.random.normal(0, 1, p) + np.random.normal(0, 1, p) * 1j\n",
    "X_0 = np.dot(x_0.reshape(-1, 1), np.conj(x_0).reshape(1, -1))\n",
    "\n",
    "with open('./data/phase_data_' + str(p) + '_' + str(n) + '.pckl', 'wb') as f:\n",
    "    pickle.dump({'a': a, 'x_sol': x_sol, 'x_0': x_0, 'y': y}, f)"
   ]
  },
  {
   "cell_type": "code",
   "execution_count": 712,
   "metadata": {},
   "outputs": [],
   "source": [
    "# load data\n",
    "with open('./data/phase_data_128_32.pckl', 'rb') as f:\n",
    "    data = pickle.load(f)\n",
    "    \n",
    "a = data['a']\n",
    "x_sol = data['x_sol']\n",
    "x_0 = data['x_0']\n",
    "A = np.array([np.dot(a_i.reshape(-1, 1), np.conj(a_i).reshape(1, -1)) for a_i in a])\n",
    "X_sol = np.dot(x_sol.reshape(-1, 1), np.conj(x_sol).reshape(1, -1))\n",
    "X_0 = np.dot(x_0.reshape(-1, 1), np.conj(x_0).reshape(1, -1))\n",
    "\n",
    "y = data['y']\n",
    "c = np.mean(y)"
   ]
  },
  {
   "cell_type": "code",
   "execution_count": 713,
   "metadata": {
    "scrolled": true
   },
   "outputs": [
    {
     "data": {
      "application/vnd.jupyter.widget-view+json": {
       "model_id": "d200601326c54414930bde6a16f7d2c3",
       "version_major": 2,
       "version_minor": 0
      },
      "text/plain": [
       "HBox(children=(FloatProgress(value=0.0, max=1000.0), HTML(value='')))"
      ]
     },
     "metadata": {},
     "output_type": "display_data"
    },
    {
     "name": "stdout",
     "output_type": "stream",
     "text": [
      "\n",
      "Function value: -130455.758208\n",
      "Fdiff: 6.65e-05\n",
      "Gap: 4366.50\n",
      "Wall time: 23.3 s\n"
     ]
    }
   ],
   "source": [
    "%%time\n",
    "points_standard, gaps_standard = run_Frank_Wolf(A, X_0, y, c, num_iter=1000)"
   ]
  },
  {
   "cell_type": "code",
   "execution_count": 714,
   "metadata": {
    "scrolled": true
   },
   "outputs": [
    {
     "data": {
      "application/vnd.jupyter.widget-view+json": {
       "model_id": "bb38212c304f4977a70807be4b317286",
       "version_major": 2,
       "version_minor": 0
      },
      "text/plain": [
       "HBox(children=(FloatProgress(value=0.0, max=1000.0), HTML(value='')))"
      ]
     },
     "metadata": {},
     "output_type": "display_data"
    },
    {
     "name": "stdout",
     "output_type": "stream",
     "text": [
      "Convergence achieved\n",
      "Function value: -129857.019672\n",
      "Fdiff: 6.33e-07\n",
      "Gap: 2724.93\n",
      "Wall time: 5.64 s\n"
     ]
    }
   ],
   "source": [
    "%%time\n",
    "points_line_search, gaps_line_search = run_Frank_Wolf(A, X_0, y, c, tau_policy='line_search', num_iter=1000)"
   ]
  },
  {
   "cell_type": "code",
   "execution_count": 715,
   "metadata": {
    "scrolled": true
   },
   "outputs": [
    {
     "data": {
      "application/vnd.jupyter.widget-view+json": {
       "model_id": "5114e97cbb694876ac6a60809e155ebf",
       "version_major": 2,
       "version_minor": 0
      },
      "text/plain": [
       "HBox(children=(FloatProgress(value=0.0, max=1000.0), HTML(value='')))"
      ]
     },
     "metadata": {},
     "output_type": "display_data"
    },
    {
     "name": "stdout",
     "output_type": "stream",
     "text": [
      "Convergence achieved\n",
      "Function value: -127777.526464\n",
      "Fdiff: 1.75e-07\n",
      "Gap: 5527.98\n",
      "Wall time: 12.6 s\n"
     ]
    }
   ],
   "source": [
    "%%time\n",
    "points_icml, gaps_icml = run_Frank_Wolf(A, X_0, y, c, tau_policy='icml', num_iter=1000)"
   ]
  },
  {
   "cell_type": "code",
   "execution_count": 710,
   "metadata": {},
   "outputs": [
    {
     "data": {
      "image/png": "[encoded data removed]",
      "text/plain": [
       "<Figure size 432x288 with 1 Axes>"
      ]
     },
     "metadata": {
      "needs_background": "light"
     },
     "output_type": "display_data"
    }
   ],
   "source": [
    "plt.plot([phase_val(A, X, y) for X in points_standard], 'b', label='standard')\n",
    "plt.plot([phase_val(A, X, y) for X in points_line_search], 'r', label='line_search')\n",
    "plt.plot([phase_val(A, X, y) for X in points_icml], 'g', label='icml')\n",
    "plt.legend()\n",
    "plt.ylabel('f(x)')\n",
    "plt.xscale('log')\n",
    "plt.xlabel('x log scaled')\n",
    "plt.tight_layout()\n",
    "plt.savefig('./pics/phase_f_' + str(p) + '_' + str(n) + '.png')\n",
    "plt.show()"
   ]
  },
  {
   "cell_type": "code",
   "execution_count": 711,
   "metadata": {},
   "outputs": [
    {
     "data": {
      "image/png": "[encoded data removed]",
      "text/plain": [
       "<Figure size 432x288 with 1 Axes>"
      ]
     },
     "metadata": {
      "needs_background": "light"
     },
     "output_type": "display_data"
    }
   ],
   "source": [
    "plt.plot(gaps_standard, 'b', label='standard')\n",
    "plt.plot(gaps_line_search, 'r', label='line_search')\n",
    "plt.plot(gaps_icml, 'g', label='icml')\n",
    "plt.xscale('log')\n",
    "plt.ylabel('Gap')\n",
    "plt.xlabel('x log scaled')\n",
    "plt.legend()\n",
    "plt.tight_layout()\n",
    "plt.savefig('./pics/phase_gap_' + str(p) + '_' + str(n) + '.png')\n",
    "plt.show()"
   ]
  },
  {
   "cell_type": "code",
   "execution_count": null,
   "metadata": {},
   "outputs": [],
   "source": []
  }
 ],
 "metadata": {
  "kernelspec": {
   "display_name": "Python 3",
   "language": "python",
   "name": "python3"
  },
  "language_info": {
   "codemirror_mode": {
    "name": "ipython",
    "version": 3
   },
   "file_extension": ".py",
   "mimetype": "text/x-python",
   "name": "python",
   "nbconvert_exporter": "python",
   "pygments_lexer": "ipython3",
   "version": "3.7.3"
  }
 },
 "nbformat": 4,
 "nbformat_minor": 2
}
