{
 "cells": [
  {
   "cell_type": "code",
   "execution_count": 1,
   "metadata": {},
   "outputs": [],
   "source": [
    "import time\n",
    "import scipy\n",
    "import pickle\n",
    "import scipy.io\n",
    "import numpy as np\n",
    "from scipy.linalg import norm\n",
    "import matplotlib.pyplot as plt"
   ]
  },
  {
   "cell_type": "code",
   "execution_count": 32,
   "metadata": {},
   "outputs": [],
   "source": [
    "data = scipy.io.loadmat('./data/syn_1000_1200_10_50.mat')\n",
    "W = data['W']\n",
    "with open('./data/1000_1200_sol.pckl', 'rb') as f:\n",
    "    sol = pickle.load(f)"
   ]
  },
  {
   "cell_type": "code",
   "execution_count": 25,
   "metadata": {},
   "outputs": [],
   "source": [
    "def obj_func(x):\n",
    "    return -np.sum(np.log(W.dot(x)))"
   ]
  },
  {
   "cell_type": "code",
   "execution_count": 26,
   "metadata": {},
   "outputs": [],
   "source": [
    "n, p = W.shape\n",
    "x = np.ones(p) / p\n",
    "n_steps = 3000\n",
    "printst = 100\n",
    "terminate_tol = 1e-8\n",
    "sub_tol = 0.25 * terminate_tol\n",
    "steps_tol = 0.05\n",
    "Lest = 1"
   ]
  },
  {
   "cell_type": "code",
   "execution_count": 27,
   "metadata": {},
   "outputs": [],
   "source": [
    "s_deactive = 0\n",
    "\n",
    "if Lest == 1:\n",
    "    #Estimate Lipschitz Constant\n",
    "    Denom = W.dot(np.ones(p)) / p\n",
    "    RatH = 1 / (Denom**2)    \n",
    "    dirr = np.ones(p)\n",
    "    for Liter in range(1, 16):\n",
    "        Dir = W.T.dot(RatH * (W.dot(dirr)))\n",
    "        dirr = Dir / norm(Dir)\n",
    "    Hd = W.T.dot(RatH * (W.dot(dirr)))\n",
    "    dHd = dirr.dot(Hd)\n",
    "    L = dHd / (dirr.dot(dirr))"
   ]
  },
  {
   "cell_type": "code",
   "execution_count": 28,
   "metadata": {},
   "outputs": [],
   "source": [
    "def fn_portf_proxsplx(y):\n",
    "    m = len(y)\n",
    "    bget = False\n",
    "    s  = sorted(y, reverse=True)\n",
    "    tmpsum = 0\n",
    "    for i in range(m - 1):\n",
    "        tmpsum = tmpsum + s[i]\n",
    "        tmax = (tmpsum - 1) / (i + 1)\n",
    "        if tmax >= s[i+1]:\n",
    "            bget = True\n",
    "            break\n",
    "    if not bget:\n",
    "        tmax = (tmpsum + s[m - 1] - 1) / m\n",
    "    x = np.maximum(y - tmax, 0)\n",
    "    return x"
   ]
  },
  {
   "cell_type": "code",
   "execution_count": 29,
   "metadata": {},
   "outputs": [],
   "source": [
    "def fn_portf_fw_bi(Fval, a, b, tol, n):\n",
    "    Vl = Fval(a)\n",
    "    Vr = Fval(b)\n",
    "    Sol = 2 / (n + 1)\n",
    "    for i in range(1, 5001):\n",
    "        if abs(Vl) <= tol:\n",
    "            Sol = a\n",
    "            #print( 'Binary search stops after %2d iterations\\n' % i)\n",
    "            break\n",
    "\n",
    "        if abs(Vr) <= tol:\n",
    "            Sol = b\n",
    "            #print( 'Binary search stops after %2d iterations\\n' % i)\n",
    "            break\n",
    "\n",
    "        c = (a + b) / 2\n",
    "        Vc = Fval(c)\n",
    "        if Vc * Vl > 0:\n",
    "            a = c\n",
    "            Vl = Vc\n",
    "        else:\n",
    "            b = c\n",
    "            Vr = Vc\n",
    "    return Sol, i"
   ]
  },
  {
   "cell_type": "code",
   "execution_count": 30,
   "metadata": {
    "scrolled": true
   },
   "outputs": [
    {
     "name": "stdout",
     "output_type": "stream",
     "text": [
      "********* Algorithm starts *********\n",
      "\n",
      "iter =    1, stepsize = 1.000e+00, rdiff = 9.996e-01\n",
      "\n",
      "iter =  100, stepsize = 2.665e-04, rdiff = 2.029e-04\n",
      "\n",
      "iter =  200, stepsize = 2.859e-04, rdiff = 2.036e-04\n",
      "\n",
      "iter =  300, stepsize = 3.076e-04, rdiff = 2.039e-04\n",
      "\n",
      "iter =  400, stepsize = 3.317e-04, rdiff = 2.035e-04\n",
      "\n",
      "iter =  500, stepsize = 3.586e-04, rdiff = 2.024e-04\n",
      "\n",
      "iter =  600, stepsize = 3.885e-04, rdiff = 2.005e-04\n",
      "\n",
      "iter =  700, stepsize = 4.217e-04, rdiff = 1.974e-04\n",
      "\n",
      "iter =  800, stepsize = 4.584e-04, rdiff = 1.931e-04\n",
      "\n",
      "iter =  900, stepsize = 4.988e-04, rdiff = 1.873e-04\n",
      "\n",
      "iter = 1000, stepsize = 5.427e-04, rdiff = 1.799e-04\n",
      "\n",
      "iter = 1100, stepsize = 5.900e-04, rdiff = 1.708e-04\n",
      "\n",
      "iter = 1200, stepsize = 6.400e-04, rdiff = 1.600e-04\n",
      "\n",
      "iter = 1300, stepsize = 6.918e-04, rdiff = 1.476e-04\n",
      "\n",
      "iter = 1400, stepsize = 7.442e-04, rdiff = 1.339e-04\n",
      "\n",
      "iter = 1500, stepsize = 7.957e-04, rdiff = 1.193e-04\n",
      "\n",
      "iter = 1600, stepsize = 8.447e-04, rdiff = 1.043e-04\n",
      "\n",
      "iter = 1700, stepsize = 8.898e-04, rdiff = 8.953e-05\n",
      "\n",
      "iter = 1800, stepsize = 9.300e-04, rdiff = 7.553e-05\n",
      "\n",
      "iter = 1900, stepsize = 9.645e-04, rdiff = 6.271e-05\n",
      "\n",
      "iter = 2000, stepsize = 9.932e-04, rdiff = 5.136e-05\n",
      "\n",
      "iter = 2100, stepsize = 1.016e-03, rdiff = 4.157e-05\n",
      "\n",
      "iter = 2200, stepsize = 1.035e-03, rdiff = 3.333e-05\n",
      "\n",
      "iter = 2300, stepsize = 1.049e-03, rdiff = 2.653e-05\n",
      "\n",
      "iter = 2400, stepsize = 1.059e-03, rdiff = 2.100e-05\n",
      "\n",
      "iter = 2500, stepsize = 1.067e-03, rdiff = 1.656e-05\n",
      "\n",
      "iter = 2600, stepsize = 1.073e-03, rdiff = 1.302e-05\n",
      "\n",
      "iter = 2700, stepsize = 1.078e-03, rdiff = 1.022e-05\n",
      "\n",
      "iter = 2800, stepsize = 1.082e-03, rdiff = 8.019e-06\n",
      "\n",
      "iter = 2900, stepsize = 1.085e-03, rdiff = 6.286e-06\n",
      "\n",
      "iter = 3000, stepsize = 1.088e-03, rdiff = 4.926e-06\n",
      "\n"
     ]
    }
   ],
   "source": [
    "err, times, points = [], [], []\n",
    "points.append(x)\n",
    "\n",
    "print('********* Algorithm starts *********\\n');\n",
    "\n",
    "int_start = time.time()\n",
    "for i in range(1, n_steps + 1):   \n",
    "    \n",
    "    start = time.time()\n",
    "    \n",
    "    # Compute the denominator.\n",
    "    denom = W.dot(x)\n",
    "    \n",
    "    # Evaluate the gradient.\n",
    "    ratG = 1 / denom # n by 1 vector\n",
    "    Grad = -W.T.dot(ratG) # p by 1 vector\n",
    "    \n",
    "    if i == 1:\n",
    "        nume = W.dot(Grad)\n",
    "        Gradtau = lambda t: np.sum(nume / (denom - t*nume))\n",
    "        tau, _ = fn_portf_fw_bi(Gradtau, 0, 1, 1e-7, i)\n",
    "    else:\n",
    "        Gradif = Grad - Grad_pre;\n",
    "        tau = (diffx.dot(Gradif)) / (Gradif.dot(Gradif)) \n",
    "        \n",
    "    x_nxt_tmp = x - tau * Grad\n",
    "    x_nxt = fn_portf_proxsplx(x_nxt_tmp)\n",
    "\n",
    "    diffx = x_nxt - x\n",
    "    \n",
    "    # solution value stop-criterion    \n",
    "    nrm_dx = norm(diffx)\n",
    "    rdiff = nrm_dx / max(1.0, norm(x))\n",
    "    err.append(rdiff)\n",
    "    \n",
    "    # Check the stopping criterion\n",
    "    if (rdiff <= terminate_tol) and i > 1:\n",
    "        print('Convergence achieved!')\n",
    "        print('iter = %4d, stepsize = %3.3e, rdiff = %3.3e\\n' % (i, tau, rdiff))\n",
    "        break\n",
    "    \n",
    "    x = x_nxt\n",
    "    Grad_pre = Grad\n",
    "    \n",
    "    end = time.time()\n",
    "    times.append(end - start)\n",
    "    points.append(x)\n",
    "    if i % printst == 0 or i == 1:\n",
    "        print('iter = %4d, stepsize = %3.3e, rdiff = %3.3e\\n' % (i, tau, rdiff))\n",
    "\n",
    "int_end = time.time()"
   ]
  },
  {
   "cell_type": "code",
   "execution_count": 33,
   "metadata": {},
   "outputs": [
    {
     "data": {
      "text/plain": [
       "0.0019005556139938924"
      ]
     },
     "execution_count": 33,
     "metadata": {},
     "output_type": "execute_result"
    }
   ],
   "source": [
    "norm(x - sol) / max(1, norm(sol))"
   ]
  },
  {
   "cell_type": "code",
   "execution_count": 34,
   "metadata": {},
   "outputs": [
    {
     "data": {
      "text/plain": [
       "11.673953294754028"
      ]
     },
     "execution_count": 34,
     "metadata": {},
     "output_type": "execute_result"
    }
   ],
   "source": [
    "int_end - int_start"
   ]
  },
  {
   "cell_type": "code",
   "execution_count": 15,
   "metadata": {},
   "outputs": [],
   "source": [
    "with open('./AGD_times.pckl', 'wb') as f:\n",
    "    pickle.dump(times, f)"
   ]
  },
  {
   "cell_type": "code",
   "execution_count": null,
   "metadata": {},
   "outputs": [],
   "source": []
  }
 ],
 "metadata": {
  "kernelspec": {
   "display_name": "Python 3.7.3 (pyenv)",
   "language": "python",
   "name": "venv3.7"
  },
  "language_info": {
   "codemirror_mode": {
    "name": "ipython",
    "version": 3
   },
   "file_extension": ".py",
   "mimetype": "text/x-python",
   "name": "python",
   "nbconvert_exporter": "python",
   "pygments_lexer": "ipython3",
   "version": "3.7.3"
  }
 },
 "nbformat": 4,
 "nbformat_minor": 4
}
