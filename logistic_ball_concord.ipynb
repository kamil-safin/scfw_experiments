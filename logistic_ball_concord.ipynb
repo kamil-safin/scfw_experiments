{
 "cells": [
  {
   "cell_type": "code",
   "execution_count": 10,
   "metadata": {},
   "outputs": [],
   "source": [
    "import scipy\n",
    "import pickle\n",
    "import numpy as np\n",
    "from tqdm import tqdm_notebook as tqdm\n",
    "from scipy.linalg import norm\n",
    "from sklearn.datasets import load_svmlight_file\n",
    "import matplotlib.pyplot as plt"
   ]
  },
  {
   "cell_type": "code",
   "execution_count": 13,
   "metadata": {},
   "outputs": [],
   "source": [
    "W, y = load_svmlight_file('./data/cod-rna')"
   ]
  },
  {
   "cell_type": "code",
   "execution_count": 14,
   "metadata": {},
   "outputs": [],
   "source": [
    "# параметры алгоритма\n",
    "n = W.shape[0]\n",
    "p = W.shape[1]\n",
    "R = 1\n",
    "x = np.zeros(p)\n",
    "lam  = np.max(np.sqrt(np.sum(W.power(2), axis=1)))**2 / (4 * n)\n",
    "bias = 0\n",
    "terminate_tol = 1e-8\n",
    "sub_tol = 0.25 * terminate_tol\n",
    "steps_tol = 0.25\n",
    "n_steps = 500\n",
    "alpha = 2 # alpha = 3\n",
    "Lest = 1\n",
    "s_deactive = 0\n",
    "printst = 10"
   ]
  },
  {
   "cell_type": "code",
   "execution_count": 15,
   "metadata": {},
   "outputs": [],
   "source": [
    "def fn_logis_Val(y, W, bias, x, lam, topv=None):\n",
    "    \n",
    "    if topv is None:\n",
    "        topv = np.exp(-y * (W * x + bias))\n",
    "    Valv = np.log(1 + topv)\n",
    "    Val1 = np.sum(Valv) / n\n",
    "    Val2 = 0.5 * lam * (np.dot(x, x))\n",
    "    Val = Val1 + Val2\n",
    "    return Val"
   ]
  },
  {
   "cell_type": "code",
   "execution_count": 16,
   "metadata": {},
   "outputs": [],
   "source": [
    "def fn_logis_Grad(y, W, bias, x, lam):\n",
    "    Top = np.exp(-y * ( W * x  + bias)) # why minus?\n",
    "    Rat = Top / (1 + Top)\n",
    "    LM = -Rat * y\n",
    "    ResM = scipy.sparse.diags(LM) * W\n",
    "    Grad = ResM.sum(axis=0).A1 + lam * n * x\n",
    "    return Grad, Top"
   ]
  },
  {
   "cell_type": "code",
   "execution_count": 17,
   "metadata": {},
   "outputs": [],
   "source": [
    "def projection_simplex_sort(v, z=1):\n",
    "    n_features = v.shape[0]\n",
    "    u = np.sort(v)[::-1]\n",
    "    cssv = np.cumsum(u) - z\n",
    "    ind = np.arange(n_features) + 1\n",
    "    cond = u - cssv / ind > 0\n",
    "    rho = ind[cond][-1]\n",
    "    theta = cssv[cond][-1] / float(rho)\n",
    "    w = np.maximum(v - theta, 0)\n",
    "    return w\n",
    "\n",
    "def l1_ball_projection(y, z=R):\n",
    "    if norm(y, 1) <= R:\n",
    "        return y\n",
    "    pos_proj = projection_simplex_sort(np.abs(y), z)\n",
    "    return np.sign(y) * pos_proj"
   ]
  },
  {
   "cell_type": "code",
   "execution_count": 18,
   "metadata": {},
   "outputs": [],
   "source": [
    "def fn_portf_fista(Grad, Hopr, x, L, tol):\n",
    "    y = x.copy()\n",
    "    x_cur = y.copy()\n",
    "    t = 1\n",
    "    #kmax = 1200\n",
    "    kmax = 100\n",
    "    for k in range(1, kmax + 1):\n",
    "        DQ = Hopr(y - x) + Grad\n",
    "        x_tmp = y - 1 / L * DQ\n",
    "        x_nxt = l1_ball_projection(x_tmp)\n",
    "        xdiff = x_nxt - x_cur\n",
    "        ndiff = norm(xdiff)\n",
    "        if (ndiff < tol) and (k > 1):\n",
    "            print('Fista err = %3.3e; Subiter = %3d; subproblem converged!\\n' % (ndiff, k))\n",
    "            break\n",
    "        t_nxt = 0.5 * (1 + np.sqrt(1 + 4 * t**2))\n",
    "        y = x_nxt + (t - 1) / t_nxt * xdiff\n",
    "        t  = t_nxt\n",
    "        x_cur = x_nxt\n",
    "    return x_nxt"
   ]
  },
  {
   "cell_type": "code",
   "execution_count": 19,
   "metadata": {},
   "outputs": [],
   "source": [
    "def powereig2(svec, M):  \n",
    "    # A = M' * M\n",
    "    d = svec\n",
    "    for i in range(1, 21):\n",
    "        dv = M.transpose() * ( M * d)\n",
    "        d = dv / norm(d)\n",
    "    maxeig = dv.dot(d) / (d.dot(d))\n",
    "    return maxeig"
   ]
  },
  {
   "cell_type": "code",
   "execution_count": 20,
   "metadata": {
    "scrolled": true
   },
   "outputs": [
    {
     "name": "stdout",
     "output_type": "stream",
     "text": [
      "iter =    1, stepsize = 5.251e-03, rdiff = 5.281e-02\n",
      "\n",
      "iter =   10, stepsize = 5.523e-03, rdiff = 5.026e-02\n",
      "\n",
      "iter =   20, stepsize = 5.836e-03, rdiff = 4.780e-02\n",
      "\n",
      "iter =   30, stepsize = 6.161e-03, rdiff = 4.565e-02\n",
      "\n",
      "iter =   40, stepsize = 6.503e-03, rdiff = 4.376e-02\n",
      "\n",
      "iter =   50, stepsize = 6.868e-03, rdiff = 4.205e-02\n",
      "\n",
      "iter =   60, stepsize = 7.265e-03, rdiff = 4.046e-02\n",
      "\n",
      "iter =   70, stepsize = 7.704e-03, rdiff = 3.893e-02\n",
      "\n",
      "iter =   80, stepsize = 8.200e-03, rdiff = 3.742e-02\n",
      "\n",
      "iter =   90, stepsize = 8.771e-03, rdiff = 3.587e-02\n",
      "\n",
      "iter =  100, stepsize = 9.441e-03, rdiff = 3.424e-02\n",
      "\n",
      "iter =  110, stepsize = 1.025e-02, rdiff = 3.249e-02\n",
      "\n",
      "iter =  120, stepsize = 1.123e-02, rdiff = 3.057e-02\n",
      "\n",
      "iter =  130, stepsize = 1.246e-02, rdiff = 2.845e-02\n",
      "\n",
      "iter =  140, stepsize = 1.404e-02, rdiff = 2.611e-02\n",
      "\n",
      "iter =  150, stepsize = 1.612e-02, rdiff = 2.354e-02\n",
      "\n",
      "iter =  160, stepsize = 1.896e-02, rdiff = 2.072e-02\n",
      "\n",
      "iter =  170, stepsize = 2.305e-02, rdiff = 1.766e-02\n",
      "\n",
      "iter =  180, stepsize = 2.930e-02, rdiff = 1.437e-02\n",
      "\n",
      "iter =  190, stepsize = 3.992e-02, rdiff = 1.087e-02\n",
      "\n",
      "iter =  200, stepsize = 6.134e-02, rdiff = 7.213e-03\n",
      "\n",
      "iter =  210, stepsize = 1.230e-01, rdiff = 3.506e-03\n",
      "\n",
      "iter =  220, stepsize = 6.109e-01, rdiff = 3.279e-04\n",
      "\n",
      "Fista err = 1.826e-09; Subiter =   2; subproblem converged!\n",
      "\n",
      "Convergence achieved!\n",
      "iter =  229, stepsize = 1.000e+00, rdiff = 3.653e-09\n",
      "\n"
     ]
    }
   ],
   "source": [
    "err, f_vals = [], []\n",
    "\n",
    "mu = lam * n\n",
    "\n",
    "if p < n:\n",
    "    M = W.copy()\n",
    "    svec = np.ones(p)\n",
    "else:\n",
    "    M  = W.transpose()\n",
    "    svec = np.ones(n)\n",
    "\n",
    "maxeig = powereig2(svec, M)\n",
    "L  = 0.25 * maxeig + mu\n",
    "\n",
    "points = []\n",
    "points.append(x)\n",
    "for i in range(1, n_steps + 1):   \n",
    "    # Compute the denominator.\n",
    "    Grad, Top = fn_logis_Grad(y, W, 0, x, lam)\n",
    "    \n",
    "    # Evaluate the Hessian\n",
    "    Rat = Top /(1 + Top)**2\n",
    "    Mid = y**2 * Rat\n",
    "    Hopr = lambda d: (W.transpose() * (Mid * (W * d)) + lam * n * d)\n",
    "    \n",
    "    x_nxt = fn_portf_fista(Grad, Hopr, x, L, sub_tol)\n",
    "    diffx = x_nxt - x\n",
    "    \n",
    "    # solution value stop-criterion    \n",
    "    nrm_dx = norm(diffx)\n",
    "    rdiff = nrm_dx / max(1.0, norm(x))\n",
    "    err.append(rdiff)\n",
    "        \n",
    "    # Check the stopping criterion.\n",
    "    if (rdiff <= terminate_tol) and i > 1:\n",
    "        print('Convergence achieved!')\n",
    "        print('iter = %4d, stepsize = %3.3e, rdiff = %3.3e\\n' % (i, s, rdiff))\n",
    "        break\n",
    "    \n",
    "    # Compute a step-size if required.\n",
    "    if not s_deactive:\n",
    "        Hd = Hopr(diffx)\n",
    "        dHd = diffx.dot(Hd)\n",
    "        lams = np.sqrt(dHd)\n",
    "        s = 1 / (1 + lams)   # 0.5 * Mf = 1\n",
    "        \n",
    "    if (1 - s <= steps_tol):\n",
    "        s = 1\n",
    "        s_deactive = 1               \n",
    "    x = x + s * diffx\n",
    "    f_vals.append(fn_logis_Val(y, W, 0, x, lam))\n",
    "    \n",
    "    if (i % printst == 0) or (i == 1):\n",
    "        print('iter = %4d, stepsize = %3.3e, rdiff = %3.3e\\n' % (i, s, rdiff))\n",
    "    \n",
    "    points.append(x)\n",
    "\n",
    "# if mod(iter, options.printst) ~= 0\n",
    "#     fprintf('iter = %4d, stepsize = %3.3e, rdiff = %3.3e\\n', iter, s, rdiff);\n",
    "# end\n",
    "\n",
    "if i >= n_steps:\n",
    "    print('Exceed the maximum number of iterations')"
   ]
  },
  {
   "cell_type": "code",
   "execution_count": 21,
   "metadata": {},
   "outputs": [],
   "source": [
    "with open('./concord_points.pckl', 'wb') as f:\n",
    "    pickle.dump(points, f)"
   ]
  },
  {
   "cell_type": "code",
   "execution_count": 11,
   "metadata": {},
   "outputs": [
    {
     "data": {
      "text/plain": [
       "[<matplotlib.lines.Line2D at 0x18e31a5fc18>]"
      ]
     },
     "execution_count": 11,
     "metadata": {},
     "output_type": "execute_result"
    },
    {
     "data": {
      "image/png": "[encoded data removed]",
      "text/plain": [
       "<Figure size 432x288 with 1 Axes>"
      ]
     },
     "metadata": {
      "needs_background": "light"
     },
     "output_type": "display_data"
    }
   ],
   "source": [
    "plt.plot(f_vals)"
   ]
  },
  {
   "cell_type": "code",
   "execution_count": null,
   "metadata": {},
   "outputs": [],
   "source": []
  }
 ],
 "metadata": {
  "kernelspec": {
   "display_name": "Python 3",
   "language": "python",
   "name": "python3"
  },
  "language_info": {
   "codemirror_mode": {
    "name": "ipython",
    "version": 3
   },
   "file_extension": ".py",
   "mimetype": "text/x-python",
   "name": "python",
   "nbconvert_exporter": "python",
   "pygments_lexer": "ipython3",
   "version": "3.7.3"
  }
 },
 "nbformat": 4,
 "nbformat_minor": 2
}
