{
 "cells": [
  {
   "cell_type": "code",
   "execution_count": 1,
   "metadata": {},
   "outputs": [],
   "source": [
    "import scipy\n",
    "import scipy.io\n",
    "import numpy as np\n",
    "from scipy.linalg import norm\n",
    "from scipy.sparse import csr_matrix\n",
    "from scipy.linalg import norm\n",
    "import pickle\n",
    "import time\n",
    "from collections import defaultdict\n",
    "import json\n",
    "from sklearn.datasets import load_svmlight_file\n",
    "import matplotlib.pyplot as plt\n",
    "import pandas as pd\n",
    "import numpy.matlib"
   ]
  },
  {
   "cell_type": "markdown",
   "metadata": {},
   "source": [
    "$$g(x) = -\\sum_{t=1}^n \\log(r_t^T x)$$ \n",
    "$$\\min g(x),\\ x_i \\ge 0,\\ \\sum_{t = 1}^n x_t = 1$$"
   ]
  },
  {
   "cell_type": "code",
   "execution_count": 4,
   "metadata": {},
   "outputs": [],
   "source": [
    "def portfolio(R, x):\n",
    "    \"\"\"\n",
    "        R -- object matrix (N x n)\n",
    "        x -- weights (n)\n",
    "    \"\"\"    \n",
    "    Rx = R @ x\n",
    "    return -np.sum(np.log(Rx)), Rx"
   ]
  },
  {
   "cell_type": "markdown",
   "metadata": {},
   "source": [
    "$$\\nabla g(x) = -\\sum_{t = 1}^n \\frac{r_t}{r_t^T x}$$"
   ]
  },
  {
   "cell_type": "code",
   "execution_count": 5,
   "metadata": {},
   "outputs": [],
   "source": [
    "def grad_portfolio(R, x, Rx):\n",
    "    \"\"\"\n",
    "        R -- object matrix (N x n)\n",
    "        x -- weights (n)\n",
    "    \"\"\"\n",
    "    if Rx is None:\n",
    "        Rx = R.dot(x)\n",
    "    return -R.T.dot(1 / Rx)"
   ]
  },
  {
   "cell_type": "markdown",
   "metadata": {},
   "source": [
    "$$\\nabla^2 g(x) = \\sum_{t = 1}^n \\frac{r_t r_t^T}{(r_t^T x)^2}$$\n",
    "\n",
    "$$(s-x)^\\top\\nabla^2 g(x)(s-x) = \\sum_{t = 1}^n \\left(\\frac{(s-x)^\\top r_t}{(r_t^T x)}\\right)^2$$\n"
   ]
  },
  {
   "cell_type": "code",
   "execution_count": 6,
   "metadata": {},
   "outputs": [],
   "source": [
    "def hess_portfolio(R, d, Rx):\n",
    "    \"\"\"\n",
    "        R -- object matrix (N x n)\n",
    "        x -- weights (n)\n",
    "    \"\"\"\n",
    "    dtype = R.dtype\n",
    "    Z = R / Rx.reshape(-1, 1)\n",
    "    return np.einsum('ij,ik->jk', Z, Z, dtype=dtype)\n",
    "\n",
    "def hess_mult_vec(R,d,Rx):\n",
    "    \"\"\"\n",
    "        W -- object matrix (N x n)\n",
    "        y -- labels (N)\n",
    "        x -- weights (n)\n",
    "    \"\"\"\n",
    "    Rd=R@d\n",
    "    return R.T.dot(Rd/Rx**2) \n",
    "\n",
    "def hess_mult_portfolio(R,d,Rx):\n",
    "    \"\"\"\n",
    "        R -- object matrix (N x n)\n",
    "        x -- weights (n)\n",
    "    \"\"\"\n",
    "    dtype = R.dtype\n",
    "    Rd = (R @ d)\n",
    "    Z = (Rd / Rx)**2\n",
    "    return np.sum(Z)"
   ]
  },
  {
   "cell_type": "code",
   "execution_count": null,
   "metadata": {},
   "outputs": [],
   "source": [
    "def linear_oracle_simplex(grad):\n",
    "    grad_min = np.min(grad)\n",
    "    s = np.array([el == grad_min for el in grad])\n",
    "    s=s/sum(s)\n",
    "    return s     \n",
    "\n",
    "def proj_simplex(y):\n",
    "    ind=np.argsort(y)\n",
    "    sum_y=0\n",
    "    sum_y=sum(y)\n",
    "    origin_y=sum_y\n",
    "    n=len(y)\n",
    "    Py=y;\n",
    "    for i in range(n):  \n",
    "        t=(sum_y-1)/(n-i)\n",
    "        if (origin_y>1 and t<0): #for numerical errors\n",
    "            sum_y=sum(y[ind[i:n-1]])\n",
    "            t=(sum_y-1)/(n-i)\n",
    "        if i>0:\n",
    "            if t<=y[ind[i]] and t>=y[ind[i-1]]:\n",
    "                break;\n",
    "        elif t<=y[ind[i]]: \n",
    "            break;\n",
    "        sum_y-=y[ind[i]]\n",
    "        Py[ind[i]]=0\n",
    "    Py=np.maximum(y-t,np.zeros(n)) \n",
    "    return Py"
   ]
  }
 ],
 "metadata": {
  "kernelspec": {
   "display_name": "Python 3",
   "language": "python",
   "name": "python3"
  },
  "language_info": {
   "codemirror_mode": {
    "name": "ipython",
    "version": 3
   },
   "file_extension": ".py",
   "mimetype": "text/x-python",
   "name": "python",
   "nbconvert_exporter": "python",
   "pygments_lexer": "ipython3",
   "version": "3.7.0"
  }
 },
 "nbformat": 4,
 "nbformat_minor": 4
}
