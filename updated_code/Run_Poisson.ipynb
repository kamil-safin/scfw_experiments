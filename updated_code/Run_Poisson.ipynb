{
 "cells": [
  {
   "cell_type": "code",
   "execution_count": 1,
   "metadata": {},
   "outputs": [
    {
     "name": "stdout",
     "output_type": "stream",
     "text": [
      "importing Jupyter notebook from Poisson.ipynb\n",
      "importing Jupyter notebook from FW.ipynb\n",
      "importing Jupyter notebook from SCOPT.ipynb\n"
     ]
    }
   ],
   "source": [
    "import scipy\n",
    "import scipy.io\n",
    "import numpy as np\n",
    "from scipy.linalg import norm\n",
    "from scipy.sparse import csr_matrix\n",
    "from scipy.linalg import norm\n",
    "import pickle\n",
    "import time\n",
    "from collections import defaultdict\n",
    "import json\n",
    "from sklearn.datasets import load_svmlight_file\n",
    "import matplotlib.pyplot as plt\n",
    "import pandas as pd\n",
    "import numpy.matlib\n",
    "import import_ipynb\n",
    "import Poisson as ps\n",
    "import FW\n",
    "import SCOPT as sc\n",
    "#import SCOPT\n"
   ]
  },
  {
   "cell_type": "code",
   "execution_count": 2,
   "metadata": {},
   "outputs": [],
   "source": [
    "results = defaultdict(dict)\n",
    "with open('./results/results_poisson_dict.pckl', 'rb') as f:\n",
    "        results=pickle.load(f)"
   ]
  },
  {
   "cell_type": "markdown",
   "metadata": {},
   "source": [
    "## Data load"
   ]
  },
  {
   "cell_type": "code",
   "execution_count": 3,
   "metadata": {},
   "outputs": [],
   "source": [
    "example='a9a'\n",
    "W, y = load_svmlight_file('./data/'+ example)\n",
    "y = y.reshape(-1, 1)\n",
    "W = W.toarray()"
   ]
  },
  {
   "cell_type": "code",
   "execution_count": 4,
   "metadata": {},
   "outputs": [
    {
     "data": {
      "text/plain": [
       "((32561, 123), (32561, 1))"
      ]
     },
     "execution_count": 4,
     "metadata": {},
     "output_type": "execute_result"
    }
   ],
   "source": [
    "W.shape, y.shape"
   ]
  },
  {
   "cell_type": "code",
   "execution_count": 5,
   "metadata": {},
   "outputs": [],
   "source": [
    "#y = y.squeeze()"
   ]
  },
  {
   "cell_type": "markdown",
   "metadata": {},
   "source": [
    "### Some preprocessing"
   ]
  },
  {
   "cell_type": "code",
   "execution_count": 6,
   "metadata": {},
   "outputs": [],
   "source": [
    "# multiplicative multiplication of the structure of the recognizable structure\n",
    "W = numpy.matlib.repmat(y, 1, W.shape[1]) * W\n",
    "# summation of feature descriptions\n",
    "sA = np.sum(W, 1)\n",
    "# if the sum of the string is negative, invert it\n",
    "W[sA < 0, :] = -W[sA < 0, :]\n",
    "# zero row deletion\n",
    "W = W[sA != 0, :]\n",
    "# W = scipy.sparse.csr_matrix(W)"
   ]
  },
  {
   "cell_type": "code",
   "execution_count": 7,
   "metadata": {},
   "outputs": [],
   "source": [
    "Bias = 1\n",
    "b = (Bias * y).squeeze()\n",
    "b = np.abs(b)\n",
    "if (b.any == 0):\n",
    "    print(' Input parameter y error')"
   ]
  },
  {
   "cell_type": "code",
   "execution_count": 8,
   "metadata": {},
   "outputs": [
    {
     "data": {
      "text/plain": [
       "(32561,)"
      ]
     },
     "execution_count": 8,
     "metadata": {},
     "output_type": "execute_result"
    }
   ],
   "source": [
    "y = b\n",
    "y.shape"
   ]
  },
  {
   "cell_type": "code",
   "execution_count": 9,
   "metadata": {},
   "outputs": [],
   "source": [
    "N, n = W.shape\n",
    "lam = 1 / 2 * np.sqrt(N)\n",
    "Mf = max(2/np.sqrt(y))\n",
    "nu = 2\n",
    "I = np.eye(n)\n",
    "Iv = np.ones(n)\n",
    "\n",
    "#running parameters\n",
    "x0 = np.ones(n) / n\n",
    "terminate_tol = 1e-10\n",
    "\n",
    "#parameters for FW\n",
    "FW_params={\n",
    "    'iter_FW':50000,\n",
    "    'line_search_tol':1e-10,\n",
    "}\n",
    "\n",
    "\n",
    "sc_params={\n",
    "    #parameters for SCOPT\n",
    "    'iter_SC': 1000,\n",
    "    'Lest': 'estimate', #estimate L\n",
    "    'use_two_phase':False,\n",
    "    #FISTA parameters\n",
    "    'fista_type': 'mfista',\n",
    "    'fista_tol': 1e-5,\n",
    "    'fista_iter': 1000,\n",
    "    #Conjugate Gradient Parameters\n",
    "    'conj_grad_tol':1e-5,\n",
    "    'conj_grad_iter':1000,\n",
    "}"
   ]
  },
  {
   "cell_type": "markdown",
   "metadata": {},
   "source": [
    "## Auxilary functions"
   ]
  },
  {
   "cell_type": "code",
   "execution_count": 10,
   "metadata": {},
   "outputs": [],
   "source": [
    "func_x = lambda x: ps.poisson(W,y,lam,x)\n",
    "grad_x = lambda x,dot_product: ps.grad_poisson(W, y, lam, x,dot_product)\n",
    "grad_beta = lambda x,s,beta,dot_product,dot_product_s: ps.grad_poisson(W, y, lam, (1-beta)*x+beta*x,(1-beta)*dot_product+beta*dot_product_s)\n",
    "hess_mult_x = lambda x,dot_product: ps.hess_mult(W, y, x, dot_product)\n",
    "hess_mult_vec_x= lambda s,dot_product: ps.hess_mult_vec(W, y, s, dot_product)\n",
    "extra_func = lambda x: W@x\n",
    "linear_orcale = lambda grad,M: ps.proj_simplex_full(grad, M,lam)\n",
    "prox_func=lambda x: np.maximum(x,np.zeros(len(x)))"
   ]
  },
  {
   "cell_type": "markdown",
   "metadata": {},
   "source": [
    "# Run FW"
   ]
  },
  {
   "cell_type": "code",
   "execution_count": 11,
   "metadata": {
    "scrolled": true
   },
   "outputs": [
    {
     "name": "stdout",
     "output_type": "stream",
     "text": [
      "********* Algorithm starts *********\n",
      "iter = 1, stepsize = 0.6666666666666666, criterion = 1.0, upper_bound=74847.9848381503, lower_bound=-74847.9848381503\n",
      "iter = 1000, stepsize = 0.001996007984031936, criterion = 0.0019960079840319806, upper_bound=32922.98750499013, lower_bound=32103.48038269494\n",
      "iter = 2000, stepsize = 0.000999000999000999, criterion = 0.000999000999000969, upper_bound=32922.98750499013, lower_bound=32103.48038269494\n",
      "iter = 3000, stepsize = 0.0006662225183211193, criterion = 0.000666222518321145, upper_bound=32922.98750499013, lower_bound=32103.48038269494\n",
      "iter = 4000, stepsize = 0.0004997501249375312, criterion = 0.0004997501249375221, upper_bound=32922.98750499013, lower_bound=32103.48038269494\n",
      "iter = 5000, stepsize = 0.00039984006397441024, criterion = 0.0003998400639744218, upper_bound=32922.98750499013, lower_bound=32103.48038269494\n",
      "iter = 6000, stepsize = 0.0003332222592469177, criterion = 0.00033322225924697186, upper_bound=32922.98750499013, lower_bound=32103.48038269494\n",
      "iter = 7000, stepsize = 0.00028563267637817766, criterion = 0.0002856326763781911, upper_bound=32922.98750499013, lower_bound=32103.48038269494\n",
      "iter = 8000, stepsize = 0.00024993751562109475, criterion = 0.00024993751562106433, upper_bound=32922.98750499013, lower_bound=32103.48038269494\n",
      "iter = 9000, stepsize = 0.00022217285047767163, criterion = 0.00022217285047768489, upper_bound=32841.51105935291, lower_bound=32103.48038269494\n",
      "iter = 10000, stepsize = 0.0001999600079984003, criterion = 0.0001999600079984163, upper_bound=32818.74200387323, lower_bound=32360.20455092461\n",
      "iter = 11000, stepsize = 0.00018178512997636792, criterion = 0.00018178512997638838, upper_bound=32818.74200387323, lower_bound=32360.20455092461\n",
      "iter = 12000, stepsize = 0.00016663889351774705, criterion = 0.00016663889351775795, upper_bound=32818.74200387323, lower_bound=32360.20455092461\n",
      "iter = 13000, stepsize = 0.00015382248884786957, criterion = 0.00015382248884781031, upper_bound=32818.74200387323, lower_bound=32360.20455092461\n",
      "iter = 14000, stepsize = 0.00014283673760891302, criterion = 0.00014283673760896024, upper_bound=32818.74200387323, lower_bound=32360.20455092461\n",
      "iter = 15000, stepsize = 0.0001333155579256099, criterion = 0.00013331555792556592, upper_bound=32818.74200387323, lower_bound=32360.20455092461\n",
      "iter = 16000, stepsize = 0.00012498437695288088, criterion = 0.00012498437695292723, upper_bound=32818.74200387323, lower_bound=32360.20455092461\n",
      "iter = 17000, stepsize = 0.00011763321962122103, criterion = 0.00011763321962122824, upper_bound=32818.74200387323, lower_bound=32360.20455092461\n",
      "iter = 18000, stepsize = 0.00011109876680368848, criterion = 0.00011109876680373557, upper_bound=32818.74200387323, lower_bound=32360.20455092461\n",
      "iter = 19000, stepsize = 0.00010525207872855489, criterion = 0.00010525207872860252, upper_bound=32818.74200387323, lower_bound=32360.20455092461\n",
      "iter = 20000, stepsize = 9.999000099990002e-05, criterion = 9.999000099990288e-05, upper_bound=32818.74200387323, lower_bound=32360.20455092461\n",
      "iter = 21000, stepsize = 9.522902580706599e-05, criterion = 9.522902580706957e-05, upper_bound=32818.74200387323, lower_bound=32360.20455092461\n",
      "iter = 22000, stepsize = 9.09008271975275e-05, criterion = 9.090082719749357e-05, upper_bound=32818.74200387323, lower_bound=32360.20455092461\n",
      "iter = 23000, stepsize = 8.694896095991653e-05, criterion = 8.694896095990926e-05, upper_bound=32818.74200387323, lower_bound=32360.20455092461\n",
      "iter = 24000, stepsize = 8.332638946754438e-05, criterion = 8.33263894675465e-05, upper_bound=32818.74200387323, lower_bound=32360.20455092461\n",
      "iter = 25000, stepsize = 7.999360051195904e-05, criterion = 7.999360051193458e-05, upper_bound=32818.74200387323, lower_bound=32360.20455092461\n",
      "iter = 26000, stepsize = 7.691716021844474e-05, criterion = 7.691716021849237e-05, upper_bound=32818.74200387323, lower_bound=32360.20455092461\n",
      "iter = 27000, stepsize = 7.406858751203614e-05, criterion = 7.406858751198409e-05, upper_bound=32818.74200387323, lower_bound=32360.20455092461\n",
      "iter = 28000, stepsize = 7.142346975216056e-05, criterion = 7.142346975217464e-05, upper_bound=32818.74200387323, lower_bound=32360.20455092461\n",
      "iter = 29000, stepsize = 6.896076132680504e-05, criterion = 6.896076132683535e-05, upper_bound=32818.74200387323, lower_bound=32360.20455092461\n",
      "iter = 30000, stepsize = 6.666222251849876e-05, criterion = 6.666222251848138e-05, upper_bound=32818.74200387323, lower_bound=32360.20455092461\n",
      "iter = 31000, stepsize = 6.451196696987291e-05, criterion = 6.451196696984556e-05, upper_bound=32818.74200387323, lower_bound=32360.20455092461\n",
      "iter = 32000, stepsize = 6.249609399412537e-05, criterion = 6.249609399415472e-05, upper_bound=32818.74200387323, lower_bound=32360.20455092461\n",
      "iter = 33000, stepsize = 6.0602387734076725e-05, criterion = 6.060238773409952e-05, upper_bound=32818.74200387323, lower_bound=32360.20455092461\n",
      "iter = 34000, stepsize = 5.88200694076819e-05, criterion = 5.882006940767441e-05, upper_bound=32818.74200387323, lower_bound=32360.20455092461\n",
      "iter = 35000, stepsize = 5.713959202331295e-05, criterion = 5.713959202325028e-05, upper_bound=32818.74200387323, lower_bound=32360.20455092461\n",
      "iter = 36000, stepsize = 5.555246930726071e-05, criterion = 5.5552469307307466e-05, upper_bound=32818.74200387323, lower_bound=32360.20455092461\n",
      "iter = 37000, stepsize = 5.4051132371223176e-05, criterion = 5.4051132371168905e-05, upper_bound=32818.74200387323, lower_bound=32360.20455092461\n",
      "iter = 38000, stepsize = 5.2628809010052104e-05, criterion = 5.262880901011301e-05, upper_bound=32789.03964037079, lower_bound=32360.20455092461\n",
      "iter = 39000, stepsize = 5.127942156812471e-05, criterion = 5.127942156813792e-05, upper_bound=32785.304452753015, lower_bound=32466.55954799212\n",
      "iter = 40000, stepsize = 4.999750012499375e-05, criterion = 4.999750012499153e-05, upper_bound=32785.304452753015, lower_bound=32466.55954799212\n",
      "iter = 41000, stepsize = 4.877810838495683e-05, criterion = 4.8778108385053204e-05, upper_bound=32785.304452753015, lower_bound=32466.55954799212\n",
      "iter = 42000, stepsize = 4.7616780153326035e-05, criterion = 4.761678015330773e-05, upper_bound=32785.304452753015, lower_bound=32466.55954799212\n",
      "iter = 43000, stepsize = 4.650946467606158e-05, criterion = 4.650946467611162e-05, upper_bound=32785.304452753015, lower_bound=32466.55954799212\n",
      "iter = 44000, stepsize = 4.545247943275306e-05, criterion = 4.5452479432803934e-05, upper_bound=32785.304452753015, lower_bound=32466.55954799212\n",
      "iter = 45000, stepsize = 4.444246922359006e-05, criterion = 4.444246922363152e-05, upper_bound=32785.304452753015, lower_bound=32466.55954799212\n",
      "iter = 46000, stepsize = 4.347637059258293e-05, criterion = 4.347637059253327e-05, upper_bound=32785.304452753015, lower_bound=32466.55954799212\n",
      "iter = 47000, stepsize = 4.255138079230671e-05, criterion = 4.255138079232745e-05, upper_bound=32785.304452753015, lower_bound=32466.55954799212\n",
      "iter = 48000, stepsize = 4.1664930627890504e-05, criterion = 4.1664930627924454e-05, upper_bound=32785.304452753015, lower_bound=32466.55954799212\n",
      "iter = 49000, stepsize = 4.0814660626096896e-05, criterion = 4.081466062609296e-05, upper_bound=32785.304452753015, lower_bound=32466.55954799212\n",
      "iter = 50000, stepsize = 3.999840006399744e-05, criterion = 3.999840006401663e-05, upper_bound=32785.304452753015, lower_bound=32466.55954799212\n",
      "302.62014269828796\n",
      "********* Algorithm starts *********\n",
      "iter = 1, stepsize = 1.1815631296485662e-05, criterion = 0.8843760960711264, upper_bound=74847.9848381503, lower_bound=-74847.9848381503\n",
      "Convergence achieved!\n",
      "iter = 18, stepsize = 5.820766091346741e-11, crit = 5.820766745115701e-11, upper_bound=32796.181448336705, lower_bound=32796.181446808296\n",
      "********* Algorithm starts *********\n",
      "iter = 1, stepsize = 2.5389991010179643e-08, criterion = 0.0019003894557493755, upper_bound=74847.9848381503, lower_bound=-74847.9848381503\n",
      "Convergence achieved!\n",
      "iter = 315, stepsize = 1.62038808586471e-11, crit = 9.832616405860988e-12, upper_bound=32846.37258814903, lower_bound=32846.37266446175\n"
     ]
    }
   ],
   "source": [
    "run_alpha_policies = [\"standard\",\"line_search\",\"icml\"]\n",
    "\n",
    "for policy in run_alpha_policies:\n",
    "    x, alpha_hist, Gap_hist, Q_hist, time_hist, grad_hist = FW.frank_wolfe(func_x,\n",
    "                       grad_x,\n",
    "                       grad_beta,\n",
    "                       hess_mult_x,\n",
    "                       extra_func,                                                    \n",
    "                       Mf,\n",
    "                       linear_orcale,                                                    \n",
    "                       x0,\n",
    "                       FW_params,        \n",
    "                       alpha_policy=policy,                                                    \n",
    "                       eps=terminate_tol, \n",
    "                       print_every=1000, \n",
    "                       debug_info=False)\n",
    "    \n",
    "    results[example][policy] = {\n",
    "        'x': x,\n",
    "        'alpha_hist': alpha_hist,\n",
    "        'Gap_hist': Gap_hist,\n",
    "        'Q_hist': Q_hist,\n",
    "        'time_hist': time_hist,\n",
    "        'grad_hist': grad_hist\n",
    "    }\n",
    "    "
   ]
  },
  {
   "cell_type": "markdown",
   "metadata": {},
   "source": [
    "## Run SCOPT"
   ]
  },
  {
   "cell_type": "code",
   "execution_count": 12,
   "metadata": {},
   "outputs": [
    {
     "name": "stdout",
     "output_type": "stream",
     "text": [
      "iter =    1, stepsize = 6.507e-01, rdiff = 6.189e-01 , f = 74848\n",
      "\n",
      "Convergence achieved!\n",
      "iter =    6, stepsize = 0.000e+00, rdiff = 0.000e+00,value=32904.3\n",
      "\n",
      "44.739245653152466\n"
     ]
    }
   ],
   "source": [
    " x, alpha_hist, Q_hist, time_hist, grad_hist = sc.scopt(func_x,\n",
    "          grad_x,\n",
    "          hess_mult_x,\n",
    "          hess_mult_vec_x,\n",
    "          Mf,\n",
    "          nu,\n",
    "          prox_func,\n",
    "          x0,  \n",
    "          sc_params,                                              \n",
    "          eps=terminate_tol,                                              \n",
    "          print_every=10)\n",
    "    \n",
    "results[example]['scopt'] = {\n",
    "    'x': x,\n",
    "    'alpha_hist': alpha_hist,\n",
    "    'Gap_hist': Gap_hist,\n",
    "    'Q_hist': Q_hist,\n",
    "    'time_hist': time_hist,\n",
    "    'grad_hist': grad_hist\n",
    "}"
   ]
  },
  {
   "cell_type": "markdown",
   "metadata": {},
   "source": [
    "## Save results"
   ]
  },
  {
   "cell_type": "code",
   "execution_count": 13,
   "metadata": {},
   "outputs": [],
   "source": [
    "with open('./results/results_poisson_dict.pckl', 'wb') as f:\n",
    "    pickle.dump(results, f)"
   ]
  },
  {
   "cell_type": "markdown",
   "metadata": {},
   "source": [
    "## Summarize"
   ]
  },
  {
   "cell_type": "code",
   "execution_count": 14,
   "metadata": {},
   "outputs": [
    {
     "name": "stdout",
     "output_type": "stream",
     "text": [
      "a9a\n",
      "standard\n",
      "sum_x=6.20465,total_time=2.989e+02,time_per_iter=0.00597722,minimal_val=32785.3\n",
      "\n",
      "line_search\n",
      "sum_x=2.52873,total_time=1.128e+00,time_per_iter=0.0626615,minimal_val=32796.2\n",
      "\n",
      "icml\n",
      "sum_x=2.4611,total_time=2.433e+00,time_per_iter=0.00772535,minimal_val=32846.4\n",
      "\n",
      "scopt\n",
      "sum_x=3.38437,total_time=4.474e+01,time_per_iter=7.45621,minimal_val=32904.3\n",
      "\n"
     ]
    }
   ],
   "source": [
    "print(example)\n",
    "\n",
    "methods= [\"standard\",\"line_search\",\"icml\",\"scopt\"]\n",
    "\n",
    "for method in methods:\n",
    "    \n",
    "    x=results[example][method]['x']\n",
    "    time_hist=results[example][method]['time_hist']\n",
    "    Q_hist=results[example][method]['Q_hist']\n",
    "    \n",
    "    print(method)\n",
    "    print(\"sum_x=%g,total_time=%3.3e,time_per_iter=%g,minimal_val=%g\\n\"%(sum(abs(x)),sum(time_hist),sum(time_hist)/(len(time_hist)-1),\n",
    "        min(Q_hist)))\n"
   ]
  },
  {
   "cell_type": "code",
   "execution_count": 15,
   "metadata": {
    "scrolled": true
   },
   "outputs": [
    {
     "data": {
      "image/png": "[encoded data removed]",
      "text/plain": [
       "<Figure size 432x288 with 1 Axes>"
      ]
     },
     "metadata": {
      "needs_background": "light"
     },
     "output_type": "display_data"
    },
    {
     "data": {
      "image/png": "[encoded data removed]",
      "text/plain": [
       "<Figure size 432x288 with 1 Axes>"
      ]
     },
     "metadata": {
      "needs_background": "light"
     },
     "output_type": "display_data"
    },
    {
     "data": {
      "image/png": "[encoded data removed]",
      "text/plain": [
       "<Figure size 432x288 with 1 Axes>"
      ]
     },
     "metadata": {
      "needs_background": "light"
     },
     "output_type": "display_data"
    },
    {
     "data": {
      "image/png": "[encoded data removed]",
      "text/plain": [
       "<Figure size 432x288 with 1 Axes>"
      ]
     },
     "metadata": {
      "needs_background": "light"
     },
     "output_type": "display_data"
    }
   ],
   "source": [
    "with open('./results/results_poisson_dict.pckl', 'rb') as f:\n",
    "        results=pickle.load(f)\n",
    "k=0\n",
    "colors={'icml':'r','standard':'b','line_search':'g','scopt':'k'}\n",
    "for example in ['a9a','a5a']:\n",
    "    min_Q=1e10\n",
    "    for method in methods:\n",
    "        min_Q=min(min(results[example][method]['Q_hist']),min_Q)\n",
    "    min_Q=min_Q-1e-10\n",
    "        \n",
    "    plt.figure(k)\n",
    "    for method in methods:\n",
    "        plt.loglog(results[example][method]['Q_hist']/min_Q-1,colors[method])\n",
    "    plt.ylim((1e-5,1e+9))\n",
    "    plt.xlabel('Iteration')\n",
    "    plt.ylabel('Distance from optimal')\n",
    "    plt.title(example)\n",
    "    \n",
    "    k+=1\n",
    "    plt.figure(k)\n",
    "    for method in methods:\n",
    "        plt.loglog(np.cumsum(results[example][method]['time_hist']),results[example][method]['Q_hist']/min_Q-1,colors[method])\n",
    "    plt.xlim((0.4e-2,1e+3))\n",
    "    plt.ylim((1e-5,1e+9))\n",
    "    plt.xlabel('Time')\n",
    "    plt.ylabel('Distance from optimal')\n",
    "    plt.title(example)\n",
    "    k+=1"
   ]
  }
 ],
 "metadata": {
  "kernelspec": {
   "display_name": "Python 3",
   "language": "python",
   "name": "python3"
  },
  "language_info": {
   "codemirror_mode": {
    "name": "ipython",
    "version": 3
   },
   "file_extension": ".py",
   "mimetype": "text/x-python",
   "name": "python",
   "nbconvert_exporter": "python",
   "pygments_lexer": "ipython3",
   "version": "3.6.6"
  }
 },
 "nbformat": 4,
 "nbformat_minor": 4
}
