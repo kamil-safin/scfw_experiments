{
 "cells": [
  {
   "cell_type": "code",
   "execution_count": 1,
   "metadata": {},
   "outputs": [],
   "source": [
    "import os\n",
    "import pickle\n",
    "import skimage\n",
    "import numpy as np\n",
    "from scipy import sparse\n",
    "import matplotlib.pyplot as plt\n",
    "\n",
    "from scfw.frank_wolfe import frank_wolfe\n",
    "from scfw.scopt import scopt\n",
    "import scfw.phase_retrival as pr"
   ]
  },
  {
   "cell_type": "code",
   "execution_count": 2,
   "metadata": {},
   "outputs": [],
   "source": [
    "def norm(x):\n",
    "    return np.imag(x)**2 + np.real(x)**2"
   ]
  },
  {
   "cell_type": "code",
   "execution_count": 3,
   "metadata": {},
   "outputs": [],
   "source": [
    "pic_data = np.load('../data/pic28.npy')"
   ]
  },
  {
   "cell_type": "code",
   "execution_count": 4,
   "metadata": {},
   "outputs": [],
   "source": [
    "p = len(pic_data)\n",
    "n = 5 * p\n",
    "\n",
    "mu, sigma = 0, 1\n",
    "#a = sparse.random(n, p, density=0.5, data_rvs=np.random.randn)\n",
    "a = np.random.randn(n, p).astype('float16') \n",
    "A = np.array([np.dot(a_i.reshape(-1, 1), np.conj(a_i).reshape(1, -1)) for a_i in a])"
   ]
  },
  {
   "cell_type": "code",
   "execution_count": 5,
   "metadata": {},
   "outputs": [],
   "source": [
    "x_sol = pic_data.flatten()\n",
    "X_sol = np.dot(x_sol.reshape(-1, 1), np.conj(x_sol).reshape(1, -1))\n",
    "\n",
    "lambda_val = [norm(np.vdot(a_i, x_sol)) for a_i in a]\n",
    "\n",
    "y = np.array([np.random.poisson(lambda_i) for lambda_i in lambda_val])\n",
    "c = np.mean(y)\n",
    "\n",
    "x_0 = np.random.normal(0, 1, p)\n",
    "X_0 = np.dot(x_0.reshape(-1, 1), np.conj(x_0).reshape(1, -1))"
   ]
  },
  {
   "cell_type": "code",
   "execution_count": 6,
   "metadata": {},
   "outputs": [],
   "source": [
    "#first set of parameters\n",
    "Mf = 2\n",
    "nu = 3\n",
    "#running parameters\n",
    "\n",
    "terminate_tol = 1e-10\n",
    "\n",
    "FW_params={\n",
    "    'iter_FW': 100,\n",
    "    'line_search_tol': 1e-10,\n",
    "}\n",
    "\n",
    "\n",
    "sc_params={\n",
    "    #parameters for SCOPT\n",
    "    'iter_SC': 1000,\n",
    "    'Lest': 'estimate', #estimate L\n",
    "    'use_two_phase': True,\n",
    "    #FISTA parameters\n",
    "    'fista_type': 'mfista',\n",
    "    'fista_tol': 1e-5,\n",
    "    'fista_iter': 1000,\n",
    "    #Conjugate Gradient Parameters\n",
    "    'conj_grad_tol': 1e-2,\n",
    "    'conj_grad_iter': 100,\n",
    "}"
   ]
  },
  {
   "cell_type": "code",
   "execution_count": 7,
   "metadata": {},
   "outputs": [],
   "source": [
    "func_x = lambda X: pr.phase_val(A, X, y)\n",
    "func_beta = lambda X, S, beta, extra_param, extra_param_s: pr.phase_val(A, (1 - beta) * X + beta * S, y)\n",
    "grad_x = lambda X, trace_sum: pr.phase_gradient(A, X, y, trace_sum)\n",
    "grad_beta = lambda X, S, beta, trace_sum, trace_sum_s: pr.phase_gradient(A, (1 - beta) * X + beta * S, y)\n",
    "hess_mult_x = lambda S, trace_sum: pr.hess_mult(A, y, S, trace_sum)\n",
    "hess_mult_vec_x = lambda S, trace_sum: pr.hess_mult_vec(A, y, S, trace_sum)\n",
    "extra_func = lambda X: np.array([np.trace(A_i.dot(X)).real for A_i in A])\n",
    "linear_oracle = lambda grad: pr.linear_oracle(grad, c)\n",
    "prox_func = lambda X, L: pr.proj_map(X, c) #used for SCOPT"
   ]
  },
  {
   "cell_type": "code",
   "execution_count": 8,
   "metadata": {},
   "outputs": [],
   "source": [
    "results = {}"
   ]
  },
  {
   "cell_type": "code",
   "execution_count": 9,
   "metadata": {},
   "outputs": [
    {
     "output_type": "stream",
     "name": "stdout",
     "text": "********* Algorithm starts *********\n-0.10651486756010109\n"
    },
    {
     "output_type": "error",
     "ename": "SystemExit",
     "evalue": "Error!",
     "traceback": [
      "An exception has occurred, use %tb to see the full traceback.\n",
      "\u001b[1;31mSystemExit\u001b[0m\u001b[1;31m:\u001b[0m Error!\n"
     ]
    }
   ],
   "source": [
    "#run_alpha_policies = [\"standard\", \"line_search\", \"icml\", \"backtracking\"]\n",
    "run_alpha_policies = [\"backtracking\"]\n",
    "\n",
    "for policy in run_alpha_policies:\n",
    "    x, alpha_hist, Gap_hist, Q_hist, time_hist  = frank_wolfe(func_x,\n",
    "                       func_beta,                                       \n",
    "                       grad_x,\n",
    "                       grad_beta,\n",
    "                       hess_mult_x,\n",
    "                       extra_func,                                                    \n",
    "                       Mf,\n",
    "                       nu,\n",
    "                       linear_oracle,                                                    \n",
    "                       X_0,\n",
    "                       FW_params,\n",
    "                       #hess=hess_x, \n",
    "                       #lloo_oracle=llo_oracle,                                                 \n",
    "                       alpha_policy=policy,                                                    \n",
    "                       eps=terminate_tol, \n",
    "                       print_every=1, \n",
    "                       debug_info=False)\n",
    "    \n",
    "    results[policy] = {\n",
    "        'x': x,\n",
    "        'alpha_hist': alpha_hist,\n",
    "        'Gap_hist': Gap_hist,\n",
    "        'Q_hist': Q_hist,\n",
    "        'time_hist': time_hist,\n",
    "    }"
   ]
  },
  {
   "cell_type": "code",
   "execution_count": 27,
   "metadata": {},
   "outputs": [],
   "source": [
    "with open('./pic_res.pkl', 'wb') as f:\n",
    "    pickle.dump(results, f)"
   ]
  },
  {
   "cell_type": "code",
   "execution_count": 28,
   "metadata": {},
   "outputs": [
    {
     "data": {
      "text/plain": [
       "dict_keys(['standard', 'icml'])"
      ]
     },
     "execution_count": 28,
     "metadata": {},
     "output_type": "execute_result"
    }
   ],
   "source": [
    "results.keys()"
   ]
  },
  {
   "cell_type": "code",
   "execution_count": 25,
   "metadata": {},
   "outputs": [
    {
     "data": {
      "text/plain": [
       "{'x': array([[ 1.77620885e+00, -1.81581028e+00, -1.36961784e+00, ...,\n",
       "         -3.07557857e+00, -8.85648319e-02,  6.43768571e-01],\n",
       "        [-1.81581028e+00,  1.85629465e+00,  1.40015413e+00, ...,\n",
       "          3.14415008e+00,  9.05394276e-02, -6.58121702e-01],\n",
       "        [-1.36961784e+00,  1.40015413e+00,  1.05609936e+00, ...,\n",
       "          2.37154954e+00,  6.82915042e-02, -4.96403856e-01],\n",
       "        ...,\n",
       "        [-3.07557857e+00,  3.14415008e+00,  2.37154954e+00, ...,\n",
       "          5.32549060e+00,  1.53353644e-01, -1.11471172e+00],\n",
       "        [-8.85648319e-02,  9.05394276e-02,  6.82915042e-02, ...,\n",
       "          1.53353644e-01,  4.41599504e-03, -3.20994096e-02],\n",
       "        [ 6.43768571e-01, -6.58121702e-01, -4.96403856e-01, ...,\n",
       "         -1.11471172e+00, -3.20994096e-02,  2.33327277e-01]]),\n",
       " 'alpha_hist': [9.342377943120246e-20],\n",
       " 'Gap_hist': [2.4193019663839593e+22],\n",
       " 'Q_hist': [-53681919593.08092, -53681919593.08092],\n",
       " 'time_hist': [0, 216.33529686927795]}"
      ]
     },
     "execution_count": 25,
     "metadata": {},
     "output_type": "execute_result"
    }
   ],
   "source": [
    "results['icml']"
   ]
  },
  {
   "cell_type": "code",
   "execution_count": null,
   "metadata": {},
   "outputs": [],
   "source": []
  }
 ],
 "metadata": {
  "kernelspec": {
   "display_name": "Python 3",
   "language": "python",
   "name": "python3"
  },
  "language_info": {
   "codemirror_mode": {
    "name": "ipython",
    "version": 3
   },
   "file_extension": ".py",
   "mimetype": "text/x-python",
   "name": "python",
   "nbconvert_exporter": "python",
   "pygments_lexer": "ipython3",
   "version": "3.7.3-final"
  }
 },
 "nbformat": 4,
 "nbformat_minor": 4
}