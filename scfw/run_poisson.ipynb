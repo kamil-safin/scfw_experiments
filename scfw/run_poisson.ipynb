{
 "nbformat": 4,
 "nbformat_minor": 2,
 "metadata": {
  "language_info": {
   "name": "python",
   "codemirror_mode": {
    "name": "ipython",
    "version": 3
   },
   "version": "3.7.3-final"
  },
  "orig_nbformat": 2,
  "file_extension": ".py",
  "mimetype": "text/x-python",
  "name": "python",
  "npconvert_exporter": "python",
  "pygments_lexer": "ipython3",
  "version": 3,
  "kernelspec": {
   "name": "python3",
   "display_name": "Python 3"
  }
 },
 "cells": [
  {
   "cell_type": "code",
   "execution_count": 8,
   "metadata": {},
   "outputs": [],
   "source": [
    "import os\n",
    "import numpy as np\n",
    "import poisson as ps\n",
    "import numpy.matlib\n",
    "from scopt import scopt\n",
    "from sklearn.datasets import load_svmlight_file"
   ]
  },
  {
   "cell_type": "markdown",
   "metadata": {},
   "source": [
    "## Data load"
   ]
  },
  {
   "cell_type": "code",
   "execution_count": 3,
   "metadata": {},
   "outputs": [],
   "source": [
    "data_folder = '../../data'\n",
    "\n",
    "problem_name = 'a9a'\n",
    "results = {problem_name: {}}\n",
    "W, y = load_svmlight_file(os.path.join(data_folder, problem_name))\n",
    "y = y.reshape(-1, 1)\n",
    "W = W.toarray()"
   ]
  },
  {
   "cell_type": "markdown",
   "metadata": {},
   "source": [
    "## Data preprocessing"
   ]
  },
  {
   "cell_type": "code",
   "execution_count": 4,
   "metadata": {},
   "outputs": [],
   "source": [
    "# multiplicative multiplication of the structure of the recognizable structure\n",
    "W = numpy.matlib.repmat(y, 1, W.shape[1]) * W\n",
    "# summation of feature descriptions\n",
    "sA = np.sum(W, 1)\n",
    "# if the sum of the string is negative, invert it\n",
    "W[sA < 0, :] = -W[sA < 0, :]\n",
    "# zero row deletion\n",
    "W = W[sA != 0, :]\n",
    "# W = scipy.sparse.csr_matrix(W)\n",
    "\n",
    "Bias = 1\n",
    "b = (Bias * y).squeeze()\n",
    "b = np.abs(b)\n",
    "if (b.any == 0):\n",
    "    print(' Input parameter y error')\n",
    "\n",
    "y = b\n",
    "N, n = W.shape"
   ]
  },
  {
   "cell_type": "markdown",
   "metadata": {},
   "source": [
    "## Parameters initialization"
   ]
  },
  {
   "cell_type": "code",
   "execution_count": 5,
   "metadata": {},
   "outputs": [],
   "source": [
    "lam =  np.sqrt(N)/2\n",
    "#first set of parameters\n",
    "Mf = max(2 / np.sqrt(y))\n",
    "nu = 3\n",
    "I = np.eye(n)\n",
    "Iv = np.ones(n)\n",
    "#running parameters\n",
    "x0 = np.ones(n) / n\n",
    "terminate_tol = 1e-10\n",
    "M = ps.poisson(W, y, lam, x0)[0] / lam\n",
    "\n",
    "FW_params={\n",
    "    'iter_FW': 50000,\n",
    "    'line_search_tol': 1e-10,\n",
    "}\n",
    "\n",
    "\n",
    "sc_params={\n",
    "    #parameters for SCOPT\n",
    "    'iter_SC': 1000,\n",
    "    'Lest': 'estimate', #estimate L\n",
    "    'use_two_phase': True,\n",
    "    #FISTA parameters\n",
    "    'fista_type': 'mfista',\n",
    "    'fista_tol': 1e-5,\n",
    "    'fista_iter': 1000,\n",
    "    #Conjugate Gradient Parameters\n",
    "    'conj_grad_tol': 1e-2,\n",
    "    'conj_grad_iter': 100,\n",
    "}"
   ]
  },
  {
   "cell_type": "markdown",
   "metadata": {},
   "source": [
    "## Auxilary functions"
   ]
  },
  {
   "cell_type": "code",
   "execution_count": 6,
   "metadata": {},
   "outputs": [],
   "source": [
    "func_x = lambda x: ps.poisson(W, y, lam, x)\n",
    "grad_x = lambda x, dot_product: ps.grad_poisson(W, y, lam, x, dot_product)\n",
    "grad_beta = lambda x, s, beta, dot_product, dot_product_s: ps.grad_poisson(W, y, lam, (1 - beta) * x + beta * x, (1 - beta) * dot_product + beta * dot_product_s)\n",
    "hess_mult_x = lambda x, dot_product: ps.hess_mult(W, y, x, dot_product)\n",
    "hess_mult_vec_x = lambda s, dot_product: ps.hess_mult_vec(W, y, s, dot_product)\n",
    "extra_func = lambda x: W @ x\n",
    "linear_orcale = lambda grad: ps.linear_oracle_full_simplex(grad, M)\n",
    "prox_func = lambda x, L: np.maximum(x, np.zeros(len(x))) #used for SCOPT"
   ]
  },
  {
   "cell_type": "markdown",
   "metadata": {},
   "source": [
    "## Run SCOPT"
   ]
  },
  {
   "cell_type": "code",
   "execution_count": 11,
   "metadata": {},
   "outputs": [
    {
     "output_type": "stream",
     "name": "stdout",
     "text": "iter =    1, stepsize = 4.406e-03, rdiff = 1.655e-01 , f = 74848\n\niter =   10, stepsize = 1.624e-03, rdiff = 8.464e-01 , f = 73607.6\n\niter =   20, stepsize = 2.004e-03, rdiff = 6.701e-01 , f = 72354.6\n\niter =   30, stepsize = 2.462e-03, rdiff = 5.125e-01 , f = 71087.7\n\niter =   40, stepsize = 2.313e-03, rdiff = 5.862e-01 , f = 69792.7\n\niter =   50, stepsize = 2.952e-03, rdiff = 4.329e-01 , f = 68519.6\n\niter =   60, stepsize = 2.843e-03, rdiff = 4.788e-01 , f = 67212.3\n\niter =   70, stepsize = 2.735e-03, rdiff = 5.274e-01 , f = 65923\n\niter =   80, stepsize = 2.628e-03, rdiff = 5.769e-01 , f = 64646.5\n\niter =   90, stepsize = 2.543e-03, rdiff = 6.270e-01 , f = 63379\n\niter =  100, stepsize = 2.484e-03, rdiff = 6.769e-01 , f = 62123.7\n\niter =  110, stepsize = 2.440e-03, rdiff = 7.262e-01 , f = 60882.5\n\niter =  120, stepsize = 2.410e-03, rdiff = 7.731e-01 , f = 59654.8\n\niter =  130, stepsize = 2.397e-03, rdiff = 8.171e-01 , f = 58440.7\n\niter =  140, stepsize = 2.396e-03, rdiff = 8.578e-01 , f = 57240.8\n\niter =  150, stepsize = 3.473e-03, rdiff = 5.762e-01 , f = 56051.6\n\niter =  160, stepsize = 3.493e-03, rdiff = 5.956e-01 , f = 54857.9\n\niter =  170, stepsize = 3.526e-03, rdiff = 6.131e-01 , f = 53682.8\n\niter =  180, stepsize = 3.565e-03, rdiff = 6.292e-01 , f = 52529.3\n\niter =  190, stepsize = 5.551e-03, rdiff = 2.833e-01 , f = 51344.9\n\niter =  200, stepsize = 5.667e-03, rdiff = 2.859e-01 , f = 50149.9\n\niter =  210, stepsize = 5.823e-03, rdiff = 2.870e-01 , f = 48982.8\n\niter =  220, stepsize = 6.009e-03, rdiff = 2.863e-01 , f = 47845.4\n\niter =  230, stepsize = 6.232e-03, rdiff = 2.834e-01 , f = 46739\n\niter =  240, stepsize = 6.487e-03, rdiff = 2.782e-01 , f = 45665.1\n\niter =  250, stepsize = 6.812e-03, rdiff = 2.699e-01 , f = 44624.8\n\niter =  260, stepsize = 7.338e-03, rdiff = 2.574e-01 , f = 43620.8\n\niter =  270, stepsize = 7.961e-03, rdiff = 2.414e-01 , f = 42655.1\n\niter =  280, stepsize = 8.444e-03, rdiff = 2.207e-01 , f = 41718.3\n\niter =  290, stepsize = 8.931e-03, rdiff = 1.983e-01 , f = 40823.8\n\niter =  300, stepsize = 9.489e-03, rdiff = 1.751e-01 , f = 39965.3\n\niter =  310, stepsize = 1.014e-02, rdiff = 1.545e-01 , f = 39144.4\n\niter =  320, stepsize = 1.072e-02, rdiff = 1.712e-01 , f = 38362.4\n\niter =  330, stepsize = 1.146e-02, rdiff = 1.781e-01 , f = 37630.6\n\niter =  340, stepsize = 1.271e-02, rdiff = 1.764e-01 , f = 36938.2\n\niter =  350, stepsize = 1.332e-02, rdiff = 2.110e-01 , f = 36292.2\n\niter =  360, stepsize = 1.401e-02, rdiff = 2.418e-01 , f = 35693.9\n\niter =  370, stepsize = 1.690e-02, rdiff = 2.436e-01 , f = 35131.6\n\niter =  380, stepsize = 1.876e-02, rdiff = 2.870e-01 , f = 34614.8\n\niter =  390, stepsize = 2.134e-02, rdiff = 2.929e-01 , f = 34156.9\n\niter =  400, stepsize = 2.327e-02, rdiff = 4.214e-01 , f = 33765.2\n\niter =  410, stepsize = 3.081e-02, rdiff = 2.254e-01 , f = 33443.8\n\niter =  420, stepsize = 4.086e-02, rdiff = 1.678e-01 , f = 33196.7\n\niter =  430, stepsize = 6.204e-02, rdiff = 1.173e-01 , f = 33028.4\n\niter =  440, stepsize = 1.339e-01, rdiff = 4.646e-02 , f = 32941\n\nConvergence achieved!\niter =  450, stepsize = 1.000e+00, rdiff = 0.000e+00,value=32924.3\n\n2104.8814380168915\n"
    }
   ],
   "source": [
    " x, alpha_hist, Q_hist, time_hist, grad_hist = scopt(func_x,\n",
    "          grad_x,\n",
    "          hess_mult_x,\n",
    "          hess_mult_vec_x,\n",
    "          Mf,\n",
    "          nu,\n",
    "          prox_func,\n",
    "          x0,  \n",
    "          sc_params,                                              \n",
    "          eps=terminate_tol,                                              \n",
    "          print_every=10)\n",
    "    \n",
    "results[problem_name]['scopt'] = {\n",
    "    'x': x,\n",
    "    'alpha_hist': alpha_hist,\n",
    "    #'Gap_hist': Gap_hist,\n",
    "    'Q_hist': Q_hist,\n",
    "    'time_hist': time_hist,\n",
    "    'grad_hist': grad_hist\n",
    "}"
   ]
  },
  {
   "cell_type": "code",
   "execution_count": null,
   "metadata": {},
   "outputs": [],
   "source": []
  }
 ]
}