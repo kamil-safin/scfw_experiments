{
 "nbformat": 4,
 "nbformat_minor": 2,
 "metadata": {
  "language_info": {
   "name": "python",
   "codemirror_mode": {
    "name": "ipython",
    "version": 3
   },
   "version": "3.7.3-final"
  },
  "orig_nbformat": 2,
  "file_extension": ".py",
  "mimetype": "text/x-python",
  "name": "python",
  "npconvert_exporter": "python",
  "pygments_lexer": "ipython3",
  "version": 3,
  "kernelspec": {
   "name": "python3",
   "display_name": "Python 3"
  }
 },
 "cells": [
  {
   "cell_type": "code",
   "execution_count": 6,
   "metadata": {},
   "outputs": [],
   "source": [
    "import os\n",
    "import pickle\n",
    "import numpy as np\n",
    "\n",
    "from scopt import scopt\n",
    "import phase_retrival as pr"
   ]
  },
  {
   "cell_type": "markdown",
   "metadata": {},
   "source": [
    "# TODO\n",
    "1. vectorize phase functions\n",
    "2. add extra params to acelerate"
   ]
  },
  {
   "cell_type": "markdown",
   "metadata": {},
   "source": [
    "## Data load"
   ]
  },
  {
   "cell_type": "code",
   "execution_count": 7,
   "metadata": {},
   "outputs": [],
   "source": [
    "data_folder = '../../data'\n",
    "problem_name = 'phase_data_128_32'\n",
    "results = {problem_name: {}}"
   ]
  },
  {
   "cell_type": "code",
   "execution_count": 8,
   "metadata": {},
   "outputs": [],
   "source": [
    "# load data\n",
    "with open(os.path.join(data_folder, problem_name + '.pckl'), 'rb') as f:\n",
    "    data = pickle.load(f)\n",
    "    \n",
    "a = data['a']\n",
    "x_sol = data['x_sol']\n",
    "x_0 = data['x_0']\n",
    "A = np.array([np.dot(a_i.reshape(-1, 1), np.conj(a_i).reshape(1, -1)) for a_i in a])\n",
    "X_sol = np.dot(x_sol.reshape(-1, 1), np.conj(x_sol).reshape(1, -1))\n",
    "X_0 = np.dot(x_0.reshape(-1, 1), np.conj(x_0).reshape(1, -1))\n",
    "\n",
    "lambda_val = [pr.norm(np.vdot(a_i, x_sol)) for a_i in a]\n",
    "y = np.array([np.random.poisson(lambda_i) for lambda_i in lambda_val])\n",
    "\n",
    "#y = data['y']\n",
    "c = np.mean(y)"
   ]
  },
  {
   "cell_type": "markdown",
   "metadata": {},
   "source": [
    "## Parameters initialization"
   ]
  },
  {
   "cell_type": "code",
   "execution_count": 9,
   "metadata": {},
   "outputs": [],
   "source": [
    "#first set of parameters\n",
    "Mf = 2\n",
    "nu = 3\n",
    "#running parameters\n",
    "\n",
    "terminate_tol = 1e-10\n",
    "\n",
    "FW_params={\n",
    "    'iter_FW': 50000,\n",
    "    'line_search_tol': 1e-10,\n",
    "}\n",
    "\n",
    "\n",
    "sc_params={\n",
    "    #parameters for SCOPT\n",
    "    'iter_SC': 1000,\n",
    "    'Lest': 'estimate', #estimate L\n",
    "    'use_two_phase': True,\n",
    "    #FISTA parameters\n",
    "    'fista_type': 'mfista',\n",
    "    'fista_tol': 1e-5,\n",
    "    'fista_iter': 1000,\n",
    "    #Conjugate Gradient Parameters\n",
    "    'conj_grad_tol': 1e-2,\n",
    "    'conj_grad_iter': 100,\n",
    "}"
   ]
  },
  {
   "cell_type": "markdown",
   "metadata": {},
   "source": [
    "# Auxilary functions"
   ]
  },
  {
   "cell_type": "code",
   "execution_count": 10,
   "metadata": {},
   "outputs": [],
   "source": [
    "func_x = lambda X: pr.phase_val(A, X, y)\n",
    "grad_x = lambda X, trace_sum: pr.phase_gradient(A, X, y, trace_sum)\n",
    "#grad_beta = lambda x, s, beta, dot_product, dot_product_s: ps.grad_poisson(W, y, lam, (1 - beta) * x + beta * x, (1 - beta) * dot_product + beta * dot_product_s)\n",
    "hess_mult_x = lambda S, X: pr.hess_mult(A, X, y, S)\n",
    "hess_mult_vec_x = lambda S, X: pr.hess_mult_vec(A, X, y, S)\n",
    "#extra_func = lambda x: W @ x\n",
    "#linear_orcale = lambda grad: ps.linear_oracle_full_simplex(grad, M)\n",
    "prox_func = lambda X, L: pr.proj_map(X, c) #used for SCOPT"
   ]
  },
  {
   "cell_type": "markdown",
   "metadata": {},
   "source": [
    "## Run SCOPT"
   ]
  },
  {
   "cell_type": "code",
   "execution_count": 11,
   "metadata": {},
   "outputs": [
    {
     "output_type": "stream",
     "name": "stdout",
     "text": "iter =    1, stepsize = 1.000e+00, rdiff = 0.000e+00 , f = -112326\n\nConvergence achieved!\niter =    2, stepsize = 1.000e+00, rdiff = 0.000e+00,value=-112326\n\n54.0025429725647\n"
    }
   ],
   "source": [
    " X, alpha_hist, Q_hist, time_hist, grad_hist = scopt(func_x,\n",
    "          grad_x,\n",
    "          hess_mult_x,\n",
    "          hess_mult_vec_x,\n",
    "          Mf,\n",
    "          nu,\n",
    "          prox_func,\n",
    "          X_0,  \n",
    "          sc_params,                                              \n",
    "          eps=terminate_tol,                                              \n",
    "          print_every=10)\n",
    "    \n",
    "results[problem_name]['scopt'] = {\n",
    "    'x': X,\n",
    "    'alpha_hist': alpha_hist,\n",
    "    #'Gap_hist': Gap_hist,\n",
    "    'Q_hist': Q_hist,\n",
    "    'time_hist': time_hist,\n",
    "    'grad_hist': grad_hist\n",
    "}"
   ]
  },
  {
   "cell_type": "code",
   "execution_count": null,
   "metadata": {},
   "outputs": [],
   "source": []
  }
 ]
}