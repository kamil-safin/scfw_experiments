{
 "cells": [
  {
   "cell_type": "code",
   "execution_count": 1,
   "metadata": {},
   "outputs": [],
   "source": [
    "import os\n",
    "import pickle\n",
    "\n",
    "import skimage\n",
    "from skimage import data\n",
    "import numpy as np\n",
    "from numpy import matlib\n",
    "from sklearn.datasets import load_svmlight_file\n",
    "from PIL import Image\n",
    "import matplotlib.pylab as plt\n",
    "from matplotlib.pyplot import imshow\n",
    "\n",
    "import scfw.poisson as ps\n",
    "from scfw.scopt import scopt\n",
    "from scfw.prox_grad import prox_grad"
   ]
  },
  {
   "cell_type": "code",
   "execution_count": 2,
   "metadata": {},
   "outputs": [],
   "source": [
    "%matplotlib inline"
   ]
  },
  {
   "cell_type": "markdown",
   "metadata": {},
   "source": [
    "## Data load"
   ]
  },
  {
   "cell_type": "code",
   "execution_count": 3,
   "metadata": {},
   "outputs": [],
   "source": [
    "data_folder = '../data'\n",
    "\n",
    "problem_name = 'a1a'\n",
    "results = {problem_name: {}}\n",
    "W, y = load_svmlight_file(os.path.join(data_folder, problem_name))\n",
    "y = y.reshape(-1, 1)\n",
    "W = W.toarray()\n",
    "\n",
    "results_folder = './results/'\n",
    "results_file=os.path.join(results_folder, 'poisson', problem_name+'.pckl')\n",
    "results = {problem_name: {}}\n",
    "if os.path.isfile(results_file):\n",
    "    with open(results_file, \"rb\") as f:\n",
    "        results=pickle.load(f)"
   ]
  },
  {
   "cell_type": "markdown",
   "metadata": {},
   "source": [
    "## Data preprocessing"
   ]
  },
  {
   "cell_type": "code",
   "execution_count": 4,
   "metadata": {},
   "outputs": [],
   "source": [
    "# multiplicative multiplication of the structure of the recognizable structure\n",
    "W = matlib.repmat(y, 1, W.shape[1]) * W\n",
    "# summation of feature descriptions\n",
    "sA = np.sum(W, 1)\n",
    "# if the sum of the string is negative, invert it\n",
    "W[sA < 0, :] = -W[sA < 0, :]\n",
    "# zero row deletion\n",
    "W = W[sA != 0, :]\n",
    "# W = scipy.sparse.csr_matrix(W)\n",
    "\n",
    "Bias = 1\n",
    "b = (Bias * y).squeeze()\n",
    "b = np.abs(b)\n",
    "if (b.any == 0):\n",
    "    print(' Input parameter y error')\n",
    "\n",
    "y = b\n",
    "N, n = W.shape"
   ]
  },
  {
   "cell_type": "markdown",
   "metadata": {},
   "source": [
    "## Parameters initialization"
   ]
  },
  {
   "cell_type": "code",
   "execution_count": 5,
   "metadata": {},
   "outputs": [],
   "source": [
    "lam =  np.sqrt(N)/2\n",
    "#first set of parameters\n",
    "Mf = max(2 / np.sqrt(y))\n",
    "nu = 3\n",
    "I = np.eye(n)\n",
    "Iv = np.ones(n)\n",
    "#running parameters\n",
    "x0 = np.ones(n) / n\n",
    "terminate_tol = 1e-10\n",
    "M = ps.poisson_matr(W, y, lam, x0)[0] / lam\n",
    "\n",
    "FW_params={\n",
    "    'iter_FW': 50000,\n",
    "    'line_search_tol': 1e-10,\n",
    "}\n",
    "\n",
    "prox_params={\n",
    "        #parameters for SCOPT\n",
    "        'iter_prox': 1000,\n",
    "        'Lest': 'estimate',#,'estimate', #estimate L\n",
    "        'bb_type': 3,\n",
    "        #FISTA parameters\n",
    "        'fista_type': 'fista',\n",
    "        'fista_tol': 1e-5,\n",
    "        'fista_iter': 1000,\n",
    "        'btk_iters': 100,\n",
    "        'backtracking': True\n",
    "    }\n",
    "\n",
    "sc_params={\n",
    "    #parameters for SCOPT\n",
    "    'iter_SC': 1000,\n",
    "    'Lest': 'estimate', #estimate L\n",
    "    'use_two_phase': True,\n",
    "    #FISTA parameters\n",
    "    'fista_type': 'mfista',\n",
    "    'fista_tol': 1e-5,\n",
    "    'fista_iter': 1000,\n",
    "    #Conjugate Gradient Parameters\n",
    "    'conj_grad_tol': 1e-2,\n",
    "    'conj_grad_iter': 100,\n",
    "}"
   ]
  },
  {
   "cell_type": "markdown",
   "metadata": {},
   "source": [
    "## Auxilary functions"
   ]
  },
  {
   "cell_type": "code",
   "execution_count": 6,
   "metadata": {},
   "outputs": [],
   "source": [
    "func_x = lambda x: ps.poisson_matr(W, y, lam, x)\n",
    "grad_x = lambda x, dot_product: ps.grad_poisson_matr(W, y, lam, x, dot_product)\n",
    "grad_beta = lambda x, s, beta, dot_product, dot_product_s: ps.grad_poisson_matr(W, y, lam, (1 - beta) * x + beta * s, (1 - beta) * dot_product + beta * dot_product_s)\n",
    "hess_mult_x = lambda x, dot_product: ps.hess_mult_matr(W, y, x, dot_product)\n",
    "hess_mult_vec_x = lambda s, dot_product: ps.hess_mult_vec_matr(W, y, s, dot_product)\n",
    "extra_func = lambda x: W @ x\n",
    "linear_orcale = lambda grad: ps.linear_oracle_full_simplex(grad, M)\n",
    "prox_func = lambda x, L: np.maximum(x, 0) #used for SCOPT"
   ]
  },
  {
   "cell_type": "markdown",
   "metadata": {},
   "source": [
    "## Run SCOPT"
   ]
  },
  {
   "cell_type": "code",
   "execution_count": 7,
   "metadata": {
    "scrolled": true,
    "tags": []
   },
   "outputs": [
    {
     "output_type": "stream",
     "name": "stdout",
     "text": "iter =    1, stepsize = 2.728e-02, rdiff = 1.027e-01 , f = 3658.74\niter =   10, stepsize = 2.832e-02, rdiff = 9.296e-02 , f = 3356.65\niter =   20, stepsize = 2.980e-02, rdiff = 8.464e-02 , f = 3035.05\niter =   30, stepsize = 3.176e-02, rdiff = 8.572e-02 , f = 2731.84\niter =   40, stepsize = 3.464e-02, rdiff = 9.074e-02 , f = 2451.68\niter =   50, stepsize = 3.807e-02, rdiff = 1.904e-01 , f = 2199.88\niter =   60, stepsize = 4.610e-02, rdiff = 2.271e-01 , f = 1981.61\niter =   70, stepsize = 5.859e-02, rdiff = 1.335e-01 , f = 1809.1\niter =   80, stepsize = 9.745e-02, rdiff = 1.799e-01 , f = 1693.23\niter =   90, stepsize = 3.178e-01, rdiff = 7.247e-02 , f = 1643\nboo\nConvergence achieved!\niter =   98, stepsize = 1.000e+00, rdiff = 9.442e-15,value=1640.16\n13.643610000610352\nWall time: 13.6 s\n"
    }
   ],
   "source": [
    "%%time\n",
    "x, alpha_hist, Q_hist, time_hist = scopt(func_x,\n",
    "          grad_x,\n",
    "          hess_mult_x,\n",
    "          hess_mult_vec_x,\n",
    "          Mf,\n",
    "          nu,\n",
    "          prox_func,\n",
    "          x0,  \n",
    "          sc_params,                                              \n",
    "          eps=terminate_tol,                                              \n",
    "          print_every=10)\n",
    "    \n",
    "results[problem_name]['scopt'] = {\n",
    "    'x': x,\n",
    "    'alpha_hist': alpha_hist,\n",
    "    #'Gap_hist': Gap_hist,\n",
    "    'Q_hist': Q_hist,\n",
    "    'time_hist': time_hist,\n",
    "}"
   ]
  },
  {
   "cell_type": "code",
   "execution_count": 8,
   "metadata": {
    "tags": []
   },
   "outputs": [
    {
     "output_type": "stream",
     "name": "stdout",
     "text": " rdiff = 3.148e+00 , f = 1644.96\niter =  703, stepsize = 1.333e-02, rdiff = 4.384e-01 , f = 1646.4\niter =  704, stepsize = 1.288e-01, rdiff = 5.806e-01 , f = 1645.46\niter =  705, stepsize = 4.810e-03, rdiff = 9.254e-01 , f = 1650.62\niter =  706, stepsize = 4.814e-03, rdiff = 6.178e+00 , f = 1649.05\niter =  707, stepsize = 4.681e-02, rdiff = 1.205e-01 , f = 1644.23\niter =  708, stepsize = 6.840e-02, rdiff = 2.588e+00 , f = 1643.99\niter =  709, stepsize = 9.198e-03, rdiff = 6.691e-01 , f = 1696.68\niter =  710, stepsize = 9.509e-02, rdiff = 6.638e-01 , f = 1692.58\niter =  711, stepsize = 2.226e-02, rdiff = 6.007e-01 , f = 1659.01\niter =  712, stepsize = 4.456e-02, rdiff = 5.873e-01 , f = 1654.06\niter =  713, stepsize = 2.413e-02, rdiff = 5.524e-01 , f = 1646.81\niter =  714, stepsize = 4.212e-02, rdiff = 5.410e-01 , f = 1644.41\niter =  715, stepsize = 9.542e-02, rdiff = 2.601e-01 , f = 1642.59\niter =  716, stepsize = 1.212e-02, rdiff = 1.131e+00 , f = 1643.41\niter =  717, stepsize = 7.714e-02, rdiff = 1.739e-01 , f = 1642.36\niter =  718, stepsize = 7.324e-02, rdiff = 4.956e-01 , f = 1642.29\niter =  719, stepsize = 7.454e-03, rdiff = 1.913e+00 , f = 1644.86\niter =  720, stepsize = 2.067e-02, rdiff = 5.596e-01 , f = 1642.7\niter =  721, stepsize = 1.541e-01, rdiff = 1.146e-01 , f = 1642.28\niter =  722, stepsize = 1.355e-02, rdiff = 9.914e-01 , f = 1642.86\niter =  723, stepsize = 1.202e-01, rdiff = 1.161e-01 , f = 1642\niter =  724, stepsize = 1.764e-01, rdiff = 5.202e-01 , f = 1641.79\niter =  725, stepsize = 2.384e-03, rdiff = 1.226e+00 , f = 1666.68\niter =  726, stepsize = 1.899e-03, rdiff = 3.456e+01 , f = 1664.47\niter =  727, stepsize = 3.810e-02, rdiff = 6.216e-02 , f = 1643.69\niter =  728, stepsize = 1.502e-01, rdiff = 5.429e-01 , f = 1643.54\niter =  729, stepsize = 4.820e-02, rdiff = 6.856e-01 , f = 1643.98\niter =  730, stepsize = 4.375e-02, rdiff = 1.151e+00 , f = 1643.03\niter =  731, stepsize = 2.671e-02, rdiff = 5.523e-01 , f = 1647.2\niter =  732, stepsize = 7.054e-02, rdiff = 5.425e-01 , f = 1644.43\niter =  733, stepsize = 1.871e-02, rdiff = 8.010e-01 , f = 1643.02\niter =  734, stepsize = 6.663e-02, rdiff = 2.098e-01 , f = 1642.58\niter =  735, stepsize = 1.862e-02, rdiff = 1.402e+00 , f = 1642.83\niter =  736, stepsize = 2.033e-02, rdiff = 4.139e-01 , f = 1643.37\niter =  737, stepsize = 5.804e-02, rdiff = 4.754e-01 , f = 1642.63\niter =  738, stepsize = 1.188e-02, rdiff = 7.738e-01 , f = 1643.64\niter =  739, stepsize = 2.450e-02, rdiff = 1.438e+00 , f = 1642.69\niter =  740, stepsize = 2.510e-02, rdiff = 5.247e-01 , f = 1645.13\niter =  741, stepsize = 7.478e-02, rdiff = 5.212e-01 , f = 1643.27\niter =  742, stepsize = 1.060e-02, rdiff = 6.730e-01 , f = 1644.06\niter =  743, stepsize = 1.640e-02, rdiff = 1.396e+00 , f = 1643.12\niter =  744, stepsize = 2.762e-02, rdiff = 3.346e-01 , f = 1643.06\niter =  745, stepsize = 1.317e-01, rdiff = 1.704e-01 , f = 1642.56\niter =  746, stepsize = 1.096e-02, rdiff = 9.920e-01 , f = 1643.63\niter =  747, stepsize = 2.979e-02, rdiff = 5.341e-01 , f = 1642.5\niter =  748, stepsize = 5.637e-02, rdiff = 4.803e-01 , f = 1642.53\niter =  749, stepsize = 1.257e-02, rdiff = 7.418e-01 , f = 1643.41\niter =  750, stepsize = 3.023e-02, rdiff = 6.242e-01 , f = 1642.53\niter =  751, stepsize = 4.888e-02, rdiff = 4.875e-01 , f = 1642.78\niter =  752, stepsize = 1.977e-02, rdiff = 5.411e-01 , f = 1642.79\niter =  753, stepsize = 1.406e-01, rdiff = 1.333e-01 , f = 1642.33\niter =  754, stepsize = 6.198e-02, rdiff = 6.361e+00 , f = 1641.92\niter =  755, stepsize = 1.950e-03, rdiff = 8.485e-01 , f = 1900.55\niter =  756, stepsize = 3.105e-01, rdiff = 8.923e-01 , f = 1898.48\niter =  757, stepsize = 7.680e-03, rdiff = 5.849e-01 , f = 1659.62\niter =  758, stepsize = 2.000e-01, rdiff = 6.108e-01 , f = 1657.77\niter =  759, stepsize = 5.494e-03, rdiff = 5.140e-01 , f = 1647.58\niter =  760, stepsize = 4.855e-03, rdiff = 9.348e+00 , f = 1646.67\niter =  761, stepsize = 1.589e-02, rdiff = 2.502e-01 , f = 1643.67\niter =  762, stepsize = 1.191e-01, rdiff = 7.601e-01 , f = 1643.17\niter =  763, stepsize = 6.566e-03, rdiff = 1.345e+00 , f = 1645.69\niter =  764, stepsize = 9.679e-03, rdiff = 1.785e+00 , f = 1643.77\niter =  765, stepsize = 8.295e-02, rdiff = 1.254e-01 , f = 1642.26\niter =  766, stepsize = 1.820e-01, rdiff = 5.373e-01 , f = 1642.03\niter =  767, stepsize = 3.368e-03, rdiff = 3.217e+00 , f = 1655.12\niter =  768, stepsize = 4.507e-03, rdiff = 2.809e+00 , f = 1650.3\niter =  769, stepsize = 7.285e-03, rdiff = 1.626e+00 , f = 1646.43\niter =  770, stepsize = 1.316e-02, rdiff = 2.019e+00 , f = 1644.36\niter =  771, stepsize = 2.471e-02, rdiff = 3.635e-01 , f = 1643.79\niter =  772, stepsize = 6.077e-02, rdiff = 4.578e-01 , f = 1643.17\niter =  773, stepsize = 2.089e-02, rdiff = 1.200e+00 , f = 1642.87\niter =  774, stepsize = 3.588e-02, rdiff = 4.879e-01 , f = 1643.36\niter =  775, stepsize = 9.924e-02, rdiff = 1.508e-01 , f = 1642.46\niter =  776, stepsize = 3.544e-01, rdiff = 4.113e-01 , f = 1642.13\niter =  777, stepsize = 1.229e-03, rdiff = 1.252e+00 , f = 1719.21\niter =  778, stepsize = 9.738e-04, rdiff = 4.927e+01 , f = 1716.87\niter =  779, stepsize = 2.665e-03, rdiff = 8.663e-01 , f = 1664.93\niter =  780, stepsize = 2.215e-03, rdiff = 2.054e+01 , f = 1663.35\niter =  781, stepsize = 1.494e-02, rdiff = 2.207e-01 , f = 1646.2\niter =  782, stepsize = 1.341e-02, rdiff = 7.394e+00 , f = 1645.83\niter =  783, stepsize = 5.532e-03, rdiff = 5.199e-01 , f = 1670.45\niter =  784, stepsize = 2.600e-01, rdiff = 5.679e-01 , f = 1668.85\niter =  785, stepsize = 3.424e-03, rdiff = 5.531e-01 , f = 1658.25\niter =  786, stepsize = 2.721e-03, rdiff = 2.116e+01 , f = 1657.23\niter =  787, stepsize = 1.778e-02, rdiff = 1.622e-01 , f = 1646.47\niter =  788, stepsize = 2.311e-01, rdiff = 4.276e-01 , f = 1646.14\niter =  789, stepsize = 1.859e-03, rdiff = 1.022e+00 , f = 1684.18\niter =  790, stepsize = 1.348e-03, rdiff = 6.424e+01 , f = 1682.29\niter =  791, stepsize = 1.709e-02, rdiff = 1.016e-01 , f = 1648.11\niter =  792, stepsize = 2.025e-01, rdiff = 4.577e-01 , f = 1647.9\niter =  793, stepsize = 1.981e-03, rdiff = 2.071e+00 , f = 1680.33\niter =  794, stepsize = 1.859e-03, rdiff = 1.364e+01 , f = 1676.68\niter =  795, stepsize = 3.587e-03, rdiff = 1.416e+00 , f = 1659.52\niter =  796, stepsize = 3.638e-03, rdiff = 6.848e+00 , f = 1657.13\niter =  797, stepsize = 1.093e-02, rdiff = 1.087e+00 , f = 1649.84\niter =  798, stepsize = 2.999e-02, rdiff = 5.166e-01 , f = 1648.62\niter =  799, stepsize = 6.547e-02, rdiff = 3.359e-01 , f = 1648.26\niter =  800, stepsize = 1.097e-02, rdiff = 1.445e+00 , f = 1649.08\niter =  801, stepsize = 6.482e-02, rdiff = 3.459e-01 , f = 1647.81\niter =  802, stepsize = 2.370e-01, rdiff = 4.506e-01 , f = 1647.22\niter =  803, stepsize = 1.644e-03, rdiff = 1.050e+00 , f = 1694.41\niter =  804, stepsize = 1.175e-03, rdiff = 7.643e+01 , f = 1692.46\niter =  805, stepsize = 2.837e-02, rdiff = 1.112e-01 , f = 1649.12\niter =  806, stepsize = 6.671e-02, rdiff = 2.172e+00 , f = 1648.88\niter =  807, stepsize = 2.692e-02, rdiff = 5.343e-01 , f = 1663.7\niter =  808, stepsize = 7.066e-02, rdiff = 5.199e-01 , f = 1657.93\niter =  809, stepsize = 1.872e-02, rdiff = 4.026e-01 , f = 1648.94\niter =  810, stepsize = 7.922e-02, rdiff = 6.955e-01 , f = 1648.12\niter =  811, stepsize = 1.521e-02, rdiff = 2.508e+00 , f = 1646.83\niter =  812, stepsize = 2.357e-02, rdiff = 4.875e-01 , f = 1648.87\niter =  813, stepsize = 4.340e-02, rdiff = 4.757e-01 , f = 1647.03\niter =  814, stepsize = 4.066e-02, rdiff = 2.782e-01 , f = 1646.09\niter =  815, stepsize = 9.927e-02, rdiff = 3.084e-01 , f = 1645.82\niter =  816, stepsize = 6.689e-03, rdiff = 1.756e+00 , f = 1648.85\niter =  817, stepsize = 1.200e-02, rdiff = 2.115e+00 , f = 1646.58\niter =  818, stepsize = 2.705e-02, rdiff = 2.936e-01 , f = 1646.08\niter =  819, stepsize = 2.031e-01, rdiff = 2.022e-01 , f = 1645.55\niter =  820, stepsize = 5.293e-03, rdiff = 1.068e+00 , f = 1650.23\niter =  821, stepsize = 5.397e-03, rdiff = 8.396e+00 , f = 1648.5\niter =  822, stepsize = 1.412e-02, rdiff = 2.851e-01 , f = 1646.74\niter =  823, stepsize = 8.658e-02, rdiff = 4.887e-01 , f = 1646.11\niter =  824, stepsize = 8.240e-03, rdiff = 7.003e-01 , f = 1647.65\niter =  825, stepsize = 1.006e-02, rdiff = 2.612e+00 , f = 1646.57\niter =  826, stepsize = 2.815e-02, rdiff = 2.601e-01 , f = 1645.66\niter =  827, stepsize = 2.224e-01, rdiff = 1.949e-01 , f = 1645.22\niter =  828, stepsize = 7.826e-03, rdiff = 3.231e+00 , f = 1646.32\niter =  829, stepsize = 4.907e-02, rdiff = 1.449e-01 , f = 1644.38\niter =  830, stepsize = 5.116e-02, rdiff = 4.918e-01 , f = 1644.17\niter =  831, stepsize = 3.022e-02, rdiff = 4.804e-01 , f = 1644.77\niter =  832, stepsize = 1.078e-01, rdiff = 1.561e-01 , f = 1643.78\niter =  833, stepsize = 1.360e-02, rdiff = 8.638e-01 , f = 1644.33\niter =  834, stepsize = 6.395e-02, rdiff = 2.482e-01 , f = 1643.47\niter =  835, stepsize = 5.060e-02, rdiff = 4.713e-01 , f = 1643.49\niter =  836, stepsize = 1.542e-02, rdiff = 6.680e-01 , f = 1643.91\niter =  837, stepsize = 6.224e-02, rdiff = 2.958e-01 , f = 1643.21\niter =  838, stepsize = 4.047e-02, rdiff = 4.753e-01 , f = 1643.43\niter =  839, stepsize = 2.900e-02, rdiff = 8.339e-01 , f = 1643.13\niter =  840, stepsize = 2.084e-02, rdiff = 4.724e-01 , f = 1643.94\niter =  841, stepsize = 5.238e-02, rdiff = 4.629e-01 , f = 1643.08\niter =  842, stepsize = 1.339e-02, rdiff = 7.416e-01 , f = 1643.86\niter =  843, stepsize = 3.904e-02, rdiff = 4.662e-01 , f = 1643.02\niter =  844, stepsize = 3.107e-02, rdiff = 4.658e-01 , f = 1643.29\niter =  845, stepsize = 6.824e-02, rdiff = 4.522e-01 , f = 1642.82\niter =  846, stepsize = 2.765e-02, rdiff = 4.978e-01 , f = 1643.97\niter =  847, stepsize = 7.384e-02, rdiff = 4.736e-01 , f = 1642.67\niter =  848, stepsize = 7.953e-03, rdiff = 8.881e-01 , f = 1645.19\niter =  849, stepsize = 1.088e-02, rdiff = 1.996e+00 , f = 1643.88\niter =  850, stepsize = 5.894e-02, rdiff = 2.804e-01 , f = 1642.87\niter =  851, stepsize = 1.796e-02, rdiff = 6.705e-01 , f = 1643.22\niter =  852, stepsize = 1.366e-01, rdiff = 1.211e-01 , f = 1642.68\niter =  853, stepsize = 2.672e-02, rdiff = 1.882e+00 , f = 1642.45\niter =  854, stepsize = 9.916e-03, rdiff = 5.092e-01 , f = 1649.02\niter =  855, stepsize = 9.168e-02, rdiff = 5.412e-01 , f = 1647.64\niter =  856, stepsize = 3.316e-02, rdiff = 1.806e-01 , f = 1642.51\niter =  857, stepsize = 9.330e-02, rdiff = 7.184e-01 , f = 1642.3\niter =  858, stepsize = 3.170e-02, rdiff = 5.586e-01 , f = 1647.63\niter =  859, stepsize = 3.314e-02, rdiff = 5.320e-01 , f = 1644\niter =  860, stepsize = 3.739e-02, rdiff = 4.377e-01 , f = 1642.08\niter =  861, stepsize = 3.154e-02, rdiff = 4.880e-01 , f = 1641.97\niter =  862, stepsize = 3.716e-02, rdiff = 3.870e-01 , f = 1642.05\niter =  863, stepsize = 4.059e-02, rdiff = 4.033e-01 , f = 1641.87\niter =  864, stepsize = 3.165e-02, rdiff = 4.649e-01 , f = 1642.13\niter =  865, stepsize = 6.216e-02, rdiff = 2.745e-01 , f = 1641.77\niter =  866, stepsize = 6.364e-02, rdiff = 5.140e-01 , f = 1642.1\niter =  867, stepsize = 1.114e-02, rdiff = 1.441e+00 , f = 1642.98\niter =  868, stepsize = 1.199e-01, rdiff = 9.429e-02 , f = 1641.81\niter =  869, stepsize = 1.849e-01, rdiff = 1.695e+00 , f = 1641.58\niter =  870, stepsize = 9.198e-03, rdiff = 7.798e-01 , f = 1725.22\niter =  871, stepsize = 1.618e-01, rdiff = 7.923e-01 , f = 1720\niter =  872, stepsize = 1.409e-02, rdiff = 6.349e-01 , f = 1653.27\niter =  873, stepsize = 6.462e-02, rdiff = 6.552e-01 , f = 1650.53\niter =  874, stepsize = 3.304e-02, rdiff = 5.876e-01 , f = 1642.22\niter =  875, stepsize = 8.248e-02, rdiff = 2.193e-01 , f = 1640.9\niter =  876, stepsize = 1.443e-02, rdiff = 1.769e+00 , f = 1641.54\niter =  877, stepsize = 2.861e-02, rdiff = 5.318e-01 , f = 1641.59\niter =  878, stepsize = 2.750e-01, rdiff = 7.336e-02 , f = 1640.91\niter =  879, stepsize = 1.900e-02, rdiff = 1.614e+00 , f = 1641.05\niter =  880, stepsize = 2.468e-02, rdiff = 5.512e-01 , f = 1642.44\niter =  881, stepsize = 7.504e-02, rdiff = 5.719e-01 , f = 1641.1\niter =  882, stepsize = 8.387e-03, rdiff = 9.322e-01 , f = 1643.17\niter =  883, stepsize = 1.256e-02, rdiff = 1.599e+00 , f = 1641.85\niter =  884, stepsize = 5.001e-02, rdiff = 1.929e-01 , f = 1641.07\niter =  885, stepsize = 4.763e-02, rdiff = 4.443e-01 , f = 1641\niter =  886, stepsize = 4.181e-02, rdiff = 5.522e-01 , f = 1641.76\niter =  887, stepsize = 5.318e-02, rdiff = 2.560e-01 , f = 1640.96\niter =  888, stepsize = 3.864e-02, rdiff = 4.866e-01 , f = 1641.11\niter =  889, stepsize = 2.470e-02, rdiff = 1.128e+00 , f = 1641.13\niter =  890, stepsize = 2.887e-02, rdiff = 5.361e-01 , f = 1642.43\niter =  891, stepsize = 4.893e-02, rdiff = 3.922e-01 , f = 1641.11\niter =  892, stepsize = 1.938e-02, rdiff = 6.845e-01 , f = 1641.44\niter =  893, stepsize = 9.777e-02, rdiff = 1.538e-01 , f = 1641.02\niter =  894, stepsize = 1.598e-02, rdiff = 1.652e+00 , f = 1641.51\niter =  895, stepsize = 2.130e-02, rdiff = 3.705e-01 , f = 1641.89\niter =  896, stepsize = 5.920e-02, rdiff = 5.077e-01 , f = 1641.25\niter =  897, stepsize = 1.123e-02, rdiff = 8.322e-01 , f = 1642.48\niter =  898, stepsize = 2.433e-02, rdiff = 7.519e-01 , f = 1641.46\niter =  899, stepsize = 3.337e-02, rdiff = 3.588e-01 , f = 1641.54\niter =  900, stepsize = 9.047e-02, rdiff = 4.030e-01 , f = 1641.2\niter =  901, stepsize = 2.249e-02, rdiff = 5.341e-01 , f = 1643.17\niter =  902, stepsize = 8.125e-02, rdiff = 5.500e-01 , f = 1641.68\niter =  903, stepsize = 8.678e-03, rdiff = 7.953e-01 , f = 1643.36\niter =  904, stepsize = 1.208e-02, rdiff = 1.862e+00 , f = 1642.2\niter =  905, stepsize = 3.597e-02, rdiff = 2.396e-01 , f = 1641.51\niter =  906, stepsize = 1.233e-01, rdiff = 1.912e-01 , f = 1641.26\niter =  907, stepsize = 5.760e-02, rdiff = 5.271e-01 , f = 1641.48\niter =  908, stepsize = 1.386e-02, rdiff = 6.903e-01 , f = 1642.01\niter =  909, stepsize = 3.799e-02, rdiff = 9.187e-01 , f = 1641.23\niter =  910, stepsize = 2.586e-02, rdiff = 5.421e-01 , f = 1644.13\niter =  911, stepsize = 4.003e-02, rdiff = 5.258e-01 , f = 1642.11\niter =  912, stepsize = 7.568e-02, rdiff = 3.378e-01 , f = 1641.2\niter =  913, stepsize = 2.842e-02, rdiff = 5.128e-01 , f = 1642.14\niter =  914, stepsize = 7.351e-02, rdiff = 2.580e-01 , f = 1641.11\niter =  915, stepsize = 1.435e-02, rdiff = 8.012e-01 , f = 1641.87\niter =  916, stepsize = 7.618e-02, rdiff = 3.929e-01 , f = 1641.1\niter =  917, stepsize = 4.008e-02, rdiff = 5.412e-01 , f = 1642.75\niter =  918, stepsize = 8.158e-02, rdiff = 1.698e-01 , f = 1641.02\niter =  919, stepsize = 1.962e-02, rdiff = 7.915e-01 , f = 1641.36\niter =  920, stepsize = 5.277e-02, rdiff = 2.457e-01 , f = 1641.07\niter =  921, stepsize = 2.830e-02, rdiff = 5.857e-01 , f = 1641.16\niter =  922, stepsize = 3.439e-02, rdiff = 3.759e-01 , f = 1641.28\niter =  923, stepsize = 7.041e-02, rdiff = 2.657e-01 , f = 1641\niter =  924, stepsize = 5.646e-02, rdiff = 5.290e-01 , f = 1641.54\niter =  925, stepsize = 1.661e-02, rdiff = 5.878e-01 , f = 1641.63\niter =  926, stepsize = 7.363e-02, rdiff = 2.571e-01 , f = 1641.04\niter =  927, stepsize = 3.409e-02, rdiff = 5.028e-01 , f = 1641.53\niter =  928, stepsize = 7.845e-02, rdiff = 2.032e-01 , f = 1640.98\niter =  929, stepsize = 3.994e-02, rdiff = 4.998e-01 , f = 1641.28\niter =  930, stepsize = 2.750e-02, rdiff = 9.369e-01 , f = 1641.13\niter =  931, stepsize = 1.797e-02, rdiff = 4.872e-01 , f = 1642.26\niter =  932, stepsize = 1.021e-01, rdiff = 5.331e-01 , f = 1641.41\niter =  933, stepsize = 5.446e-03, rdiff = 9.717e-01 , f = 1646.67\niter =  934, stepsize = 5.888e-03, rdiff = 4.427e+00 , f = 1645.08\niter =  935, stepsize = 9.356e-02, rdiff = 6.964e-02 , f = 1641.68\niter =  936, stepsize = 1.784e-01, rdiff = 1.005e+00 , f = 1641.53\niter =  937, stepsize = 1.314e-02, rdiff = 6.357e-01 , f = 1660.09\niter =  938, stepsize = 6.996e-02, rdiff = 6.432e-01 , f = 1657.1\niter =  939, stepsize = 3.092e-02, rdiff = 5.713e-01 , f = 1646.14\niter =  940, stepsize = 3.290e-02, rdiff = 6.102e-01 , f = 1644.14\niter =  941, stepsize = 3.074e-02, rdiff = 2.203e+00 , f = 1642.93\niter =  942, stepsize = 2.352e-02, rdiff = 5.673e-01 , f = 1644.06\niter =  943, stepsize = 4.319e-02, rdiff = 5.565e-01 , f = 1642.29\niter =  944, stepsize = 4.123e-02, rdiff = 6.064e-01 , f = 1641.44\niter =  945, stepsize = 2.018e-02, rdiff = 5.140e-01 , f = 1642.56\niter =  946, stepsize = 5.006e-02, rdiff = 5.373e-01 , f = 1641.59\niter =  947, stepsize = 1.516e-02, rdiff = 1.399e+00 , f = 1641.93\niter =  948, stepsize = 3.438e-02, rdiff = 2.796e-01 , f = 1641.61\niter =  949, stepsize = 1.547e-01, rdiff = 2.673e-01 , f = 1641.29\niter =  950, stepsize = 4.812e-02, rdiff = 5.664e-01 , f = 1643.16\niter =  951, stepsize = 1.577e-01, rdiff = 1.438e-01 , f = 1641\niter =  952, stepsize = 1.125e-02, rdiff = 1.070e+00 , f = 1642.18\niter =  953, stepsize = 4.103e-02, rdiff = 3.566e-01 , f = 1641.05\niter =  954, stepsize = 5.583e-02, rdiff = 5.305e-01 , f = 1641.22\niter =  955, stepsize = 1.285e-02, rdiff = 7.830e-01 , f = 1642.01\niter =  956, stepsize = 3.501e-02, rdiff = 9.429e-01 , f = 1641.13\niter =  957, stepsize = 1.448e-02, rdiff = 5.151e-01 , f = 1643.67\niter =  958, stepsize = 6.527e-02, rdiff = 5.572e-01 , f = 1642.53\niter =  959, stepsize = 2.040e-02, rdiff = 4.271e-01 , f = 1641.53\niter =  960, stepsize = 9.836e-02, rdiff = 2.234e-01 , f = 1641.11\niter =  961, stepsize = 6.633e-02, rdiff = 5.367e-01 , f = 1641.66\niter =  962, stepsize = 1.196e-02, rdiff = 1.334e+00 , f = 1642.16\niter =  963, stepsize = 2.011e-01, rdiff = 1.087e-01 , f = 1641.13\niter =  964, stepsize = 3.602e-02, rdiff = 2.517e+00 , f = 1640.94\niter =  965, stepsize = 1.025e-02, rdiff = 6.057e-01 , f = 1665.36\niter =  966, stepsize = 8.710e-02, rdiff = 6.114e-01 , f = 1662.43\niter =  967, stepsize = 1.370e-02, rdiff = 5.174e-01 , f = 1644.89\niter =  968, stepsize = 6.906e-02, rdiff = 5.512e-01 , f = 1643.54\niter =  969, stepsize = 3.008e-02, rdiff = 2.710e-01 , f = 1641.39\niter =  970, stepsize = 1.277e-01, rdiff = 3.807e-01 , f = 1641.16\niter =  971, stepsize = 2.759e-02, rdiff = 1.518e+00 , f = 1641.3\niter =  972, stepsize = 1.251e-02, rdiff = 5.224e-01 , f = 1644.91\niter =  973, stepsize = 7.426e-02, rdiff = 5.586e-01 , f = 1643.65\niter =  974, stepsize = 2.493e-02, rdiff = 3.076e-01 , f = 1641.39\niter =  975, stepsize = 1.224e-01, rdiff = 2.082e-01 , f = 1641.09\niter =  976, stepsize = 4.382e-02, rdiff = 5.284e-01 , f = 1641.59\niter =  977, stepsize = 3.448e-02, rdiff = 3.650e-01 , f = 1641.07\niter =  978, stepsize = 5.149e-02, rdiff = 3.366e-01 , f = 1641.05\niter =  979, stepsize = 2.040e-02, rdiff = 6.686e-01 , f = 1641.34\niter =  980, stepsize = 7.255e-02, rdiff = 2.014e-01 , f = 1641.01\niter =  981, stepsize = 1.930e-02, rdiff = 7.543e-01 , f = 1641.38\niter =  982, stepsize = 6.445e-02, rdiff = 2.114e-01 , f = 1641.02\niter =  983, stepsize = 2.089e-02, rdiff = 1.385e+00 , f = 1641.28\niter =  984, stepsize = 2.782e-02, rdiff = 5.220e-01 , f = 1642.53\niter =  985, stepsize = 4.503e-02, rdiff = 4.307e-01 , f = 1641.23\niter =  986, stepsize = 1.894e-02, rdiff = 1.299e+00 , f = 1641.51\niter =  987, stepsize = 2.190e-02, rdiff = 3.949e-01 , f = 1641.97\niter =  988, stepsize = 5.657e-02, rdiff = 4.824e-01 , f = 1641.31\niter =  989, stepsize = 1.146e-02, rdiff = 8.351e-01 , f = 1642.56\niter =  990, stepsize = 2.643e-02, rdiff = 6.780e-01 , f = 1641.55\niter =  991, stepsize = 3.316e-02, rdiff = 3.746e-01 , f = 1641.68\niter =  992, stepsize = 7.693e-02, rdiff = 4.516e-01 , f = 1641.33\niter =  993, stepsize = 2.397e-02, rdiff = 5.222e-01 , f = 1643.02\niter =  994, stepsize = 4.420e-02, rdiff = 5.042e-01 , f = 1641.6\niter =  995, stepsize = 2.604e-02, rdiff = 4.696e-01 , f = 1641.41\niter =  996, stepsize = 7.339e-02, rdiff = 2.313e-01 , f = 1641.21\niter =  997, stepsize = 1.528e-02, rdiff = 1.547e+00 , f = 1641.77\niter =  998, stepsize = 2.624e-02, rdiff = 3.264e-01 , f = 1641.75\niter =  999, stepsize = 9.923e-02, rdiff = 2.579e-01 , f = 1641.26\niter = 1000, stepsize = 8.815e-03, rdiff = 1.797e+00 , f = 1643.18\n0.000997781753540039\nWall time: 595 ms\n"
    }
   ],
   "source": [
    "%%time\n",
    "x, alpha_hist, Q_hist, time_hist = prox_grad(func_x,\n",
    "                grad_x,\n",
    "                prox_func,\n",
    "                Mf,\n",
    "                x0,\n",
    "                prox_params,\n",
    "                eps=terminate_tol,\n",
    "                print_every=100)"
   ]
  },
  {
   "cell_type": "markdown",
   "metadata": {},
   "source": [
    "## Run prox grad"
   ]
  },
  {
   "cell_type": "code",
   "execution_count": 8,
   "metadata": {},
   "outputs": [],
   "source": [
    "def run_prox_grad(problem_name):\n",
    "    results = {problem_name: {}}\n",
    "    W, y = load_svmlight_file(os.path.join(data_folder, problem_name))\n",
    "    y = y.reshape(-1, 1)\n",
    "    W = W.toarray()\n",
    "    results_file=os.path.join(results_folder, 'poisson', problem_name+'.pckl')\n",
    "    results = {problem_name: {}}\n",
    "    if os.path.isfile(results_file):\n",
    "        with open(results_file, \"rb\") as f:\n",
    "            results=pickle.load(f)\n",
    "    # multiplicative multiplication of the structure of the recognizable structure\n",
    "    W = matlib.repmat(y, 1, W.shape[1]) * W\n",
    "    # summation of feature descriptions\n",
    "    sA = np.sum(W, 1)\n",
    "    # if the sum of the string is negative, invert it\n",
    "    W[sA < 0, :] = -W[sA < 0, :]\n",
    "    # zero row deletion\n",
    "    W = W[sA != 0, :]\n",
    "    # W = scipy.sparse.csr_matrix(W)\n",
    "    Bias = 1\n",
    "    b = (Bias * y).squeeze()\n",
    "    b = np.abs(b)\n",
    "    if (b.any == 0):\n",
    "        print(' Input parameter y error')\n",
    "    y = b\n",
    "    N, n = W.shape\n",
    "    lam =  np.sqrt(N)/2\n",
    "    Mf = max(2 / np.sqrt(y))\n",
    "    nu = 3\n",
    "    I = np.eye(n)\n",
    "    Iv = np.ones(n)\n",
    "    x0 = np.ones(n) / n\n",
    "    terminate_tol = 1e-10\n",
    "    M = ps.poisson_matr(W, y, lam, x0)[0] / lam\n",
    "    func_x = lambda x: ps.poisson_matr(W, y, lam, x)\n",
    "    grad_x = lambda x, dot_product: ps.grad_poisson_matr(W, y, lam, x, dot_product)\n",
    "    grad_beta = lambda x, s, beta, dot_product, dot_product_s: ps.grad_poisson_matr(W, y, lam, (1 - beta) * x + beta * s, (1 - beta) * dot_product + beta * dot_product_s)\n",
    "    hess_mult_x = lambda x, dot_product: ps.hess_mult_matr(W, y, x, dot_product)\n",
    "    hess_mult_vec_x = lambda s, dot_product: ps.hess_mult_vec_matr(W, y, s, dot_product)\n",
    "    extra_func = lambda x: W @ x\n",
    "    linear_orcale = lambda grad: ps.linear_oracle_full_simplex(grad, M)\n",
    "    prox_func = lambda x, L: np.maximum(x, 0) #used for SCOPT\n",
    "    prox_params={\n",
    "        #parameters for SCOPT\n",
    "        'iter_prox': 50000,\n",
    "        'Lest': 'estimate',#,'estimate', #estimate L\n",
    "        'bb_type': 2,\n",
    "        #FISTA parameters\n",
    "        'fista_type': 'fista',\n",
    "        'fista_tol': 1e-5,\n",
    "        'fista_iter': 1000,\n",
    "        'btk_iters': 100,\n",
    "        'backtracking': True\n",
    "    }\n",
    "\n",
    "    x, alpha_hist, Q_hist, time_hist = prox_grad(func_x,\n",
    "                grad_x,\n",
    "                prox_func,\n",
    "                Mf,\n",
    "                x0,\n",
    "                prox_params,\n",
    "                eps=terminate_tol,\n",
    "                print_every=10000)\n",
    "\n",
    "    results[problem_name]['prox_grad'] = {\n",
    "        'x': x,\n",
    "        'alpha_hist': alpha_hist,\n",
    "        'Q_hist': Q_hist,\n",
    "        'time_hist': time_hist,\n",
    "    }\n",
    "    with open(results_file, 'wb') as f:\n",
    "        pickle.dump(results, f)"
   ]
  },
  {
   "cell_type": "code",
   "execution_count": 9,
   "metadata": {
    "tags": []
   },
   "outputs": [
    {
     "output_type": "stream",
     "name": "stdout",
     "text": "iter =    1, stepsize = 6.602e-05, rdiff = 1.833e-01 , f = 3658.74\niter = 10000, stepsize = 5.477e-04, rdiff = 1.951e-01 , f = 1933.45\nConvergence achieved!\niter = 11843, stepsize = 1.000e+00, rdiff = 8.894e-11,value=1640.16\n0.0\niter =    1, stepsize = 4.678e-05, rdiff = 9.167e-02 , f = 5158.41\niter = 10000, stepsize = 1.250e-04, rdiff = 1.529e-01 , f = 3682.06\nConvergence achieved!\niter = 16530, stepsize = 1.000e+00, rdiff = 2.198e-11,value=2307.58\n0.0\niter =    1, stepsize = 3.240e-05, rdiff = 9.054e-02 , f = 7318.45\niter = 10000, stepsize = 5.627e-05, rdiff = 5.928e-02 , f = 6054\niter = 20000, stepsize = 2.235e-04, rdiff = 9.841e-02 , f = 3982.58\nConvergence achieved!\niter = 23966, stepsize = 1.000e+00, rdiff = 7.837e-11,value=3236.42\n0.0009980201721191406\niter =    1, stepsize = 2.156e-05, rdiff = 1.811e-01 , f = 10978.1\niter = 10000, stepsize = 3.016e-05, rdiff = 5.125e-02 , f = 9791.35\niter = 20000, stepsize = 4.962e-05, rdiff = 7.007e-02 , f = 8236.28\niter = 30000, stepsize = 1.453e-04, rdiff = 9.855e-02 , f = 5994.47\nConvergence achieved!\niter = 35896, stepsize = 1.000e+00, rdiff = 6.844e-11,value=4844.98\n0.0009958744049072266\niter =    1, stepsize = 1.606e-05, rdiff = 9.054e-02 , f = 14720.9\niter = 10000, stepsize = 2.043e-05, rdiff = 4.786e-02 , f = 13559.9\niter = 20000, stepsize = 2.819e-05, rdiff = 5.967e-02 , f = 12122.6\niter = 30000, stepsize = 4.505e-05, rdiff = 7.745e-02 , f = 10319.7\niter = 40000, stepsize = 1.110e-04, rdiff = 9.870e-02 , f = 7979.69\nConvergence achieved!\niter = 47618, stepsize = 1.000e+00, rdiff = 7.310e-11,value=6488.64\n0.000997781753540039\niter =    1, stepsize = 9.186e-06, rdiff = 9.054e-02 , f = 25732.3\niter = 10000, stepsize = 1.043e-05, rdiff = 4.402e-02 , f = 24646.1\niter = 20000, stepsize = 1.215e-05, rdiff = 9.860e-02 , f = 23381.9\niter = 30000, stepsize = 1.444e-05, rdiff = 1.112e-01 , f = 22012.6\niter = 40000, stepsize = 1.781e-05, rdiff = 1.272e-01 , f = 20458.2\niter = 50000, stepsize = 2.341e-05, rdiff = 7.405e-02 , f = 18618.9\n0.000997304916381836\niter =    1, stepsize = 6.398e-06, rdiff = 1.811e-01 , f = 36910.6\niter = 10000, stepsize = 7.006e-06, rdiff = 8.562e-02 , f = 35795.5\niter = 20000, stepsize = 7.718e-06, rdiff = 4.606e-02 , f = 34629.4\niter = 30000, stepsize = 8.571e-06, rdiff = 4.974e-02 , f = 33395.7\niter = 40000, stepsize = 9.647e-06, rdiff = 5.404e-02 , f = 32046.6\niter = 50000, stepsize = 1.107e-05, rdiff = 5.920e-02 , f = 30544.1\n0.001993417739868164\niter =    1, stepsize = 4.499e-06, rdiff = 9.017e-02 , f = 52180.9\niter = 10000, stepsize = 4.789e-06, rdiff = 8.322e-02 , f = 51088.1\niter = 20000, stepsize = 5.114e-06, rdiff = 4.376e-02 , f = 49960.5\niter = 30000, stepsize = 5.491e-06, rdiff = 4.618e-02 , f = 48753.6\niter = 40000, stepsize = 5.941e-06, rdiff = 9.789e-02 , f = 47436\niter = 50000, stepsize = 6.448e-06, rdiff = 1.038e-01 , f = 46101.7\n0.003987789154052734\niter =    1, stepsize = 3.136e-06, rdiff = 9.017e-02 , f = 74848\niter = 10000, stepsize = 3.277e-06, rdiff = 8.205e-02 , f = 73744.7\niter = 20000, stepsize = 3.430e-06, rdiff = 8.501e-02 , f = 72610.3\niter = 30000, stepsize = 3.598e-06, rdiff = 4.409e-02 , f = 71435.7\niter = 40000, stepsize = 3.782e-06, rdiff = 4.579e-02 , f = 70220.1\niter = 50000, stepsize = 3.981e-06, rdiff = 4.756e-02 , f = 68985.3\n0.00299072265625\n"
    }
   ],
   "source": [
    "data_list =  ['a1a','a2a','a3a', 'a4a', 'a5a', 'a6a','a7a','a8a','a9a']\n",
    "for problem_name in data_list:\n",
    "    run_prox_grad(problem_name)"
   ]
  },
  {
   "cell_type": "code",
   "execution_count": 7,
   "metadata": {
    "tags": []
   },
   "outputs": [
    {
     "output_type": "stream",
     "name": "stdout",
     "text": "iter =    1, stepsize = 6.343e-05, rdiff = 1.592e+01 , f = 3658.74\niter = 1000, stepsize = 7.845e-05, rdiff = 9.239e-02 , f = 3452.16\niter = 2000, stepsize = 9.291e-05, rdiff = 1.043e-01 , f = 3256.85\niter = 3000, stepsize = 1.139e-04, rdiff = 1.192e-01 , f = 3035.15\niter = 4000, stepsize = 1.470e-04, rdiff = 1.384e-01 , f = 2779.97\niter = 5000, stepsize = 2.070e-04, rdiff = 1.626e-01 , f = 2482.21\niter = 6000, stepsize = 3.493e-04, rdiff = 1.883e-01 , f = 2134.04\niter = 7000, stepsize = 1.096e-03, rdiff = 1.634e-01 , f = 1765.1\niter = 8000, stepsize = 1.000e+00, rdiff = 4.605e-07 , f = 1640.16\niter = 9000, stepsize = 1.000e+00, rdiff = 1.815e-08 , f = 1640.16\niter = 10000, stepsize = 1.000e+00, rdiff = 4.908e-09 , f = 1640.16\niter = 11000, stepsize = 1.000e+00, rdiff = 2.519e-09 , f = 1640.16\niter = 12000, stepsize = 1.000e+00, rdiff = 1.205e-09 , f = 1640.16\niter = 13000, stepsize = 1.000e+00, rdiff = 1.168e-09 , f = 1640.16\niter = 14000, stepsize = 1.000e+00, rdiff = 7.506e-10 , f = 1640.16\niter = 15000, stepsize = 1.000e+00, rdiff = 4.191e-10 , f = 1640.16\niter = 16000, stepsize = 1.000e+00, rdiff = 3.574e-10 , f = 1640.16\niter = 17000, stepsize = 1.000e+00, rdiff = 4.251e-10 , f = 1640.16\niter = 18000, stepsize = 1.000e+00, rdiff = 2.940e-10 , f = 1640.16\niter = 19000, stepsize = 1.000e+00, rdiff = 2.311e-10 , f = 1640.16\niter = 20000, stepsize = 1.000e+00, rdiff = 1.969e-10 , f = 1640.16\niter = 21000, stepsize = 1.000e+00, rdiff = 1.397e-10 , f = 1640.16\niter = 22000, stepsize = 1.000e+00, rdiff = 1.391e-10 , f = 1640.16\nboo\nConvergence achieved!\niter = 22510, stepsize = 1.000e+00, rdiff = 9.996e-11,value=1640.16\n14.955914497375488\n"
    }
   ],
   "source": [
    "prox_params={\n",
    "        #parameters for SCOPT\n",
    "        'iter_prox': 50000,\n",
    "        'Lest': 'estimate',#,'estimate', #estimate L\n",
    "        'bb_type': 1,\n",
    "        #FISTA parameters\n",
    "        'fista_type': 'fista',\n",
    "        'fista_tol': 1e-5,\n",
    "        'fista_iter': 1000,\n",
    "    }\n",
    "\n",
    "x, alpha_hist, Q_hist, time_hist = prox_grad(func_x,\n",
    "            grad_x,\n",
    "            hess_mult_vec_x,\n",
    "            prox_func,\n",
    "            Mf,\n",
    "            x0,\n",
    "            prox_params,\n",
    "            eps=terminate_tol,\n",
    "            print_every=1000)\n",
    "\n",
    "results[problem_name]['prox_grad'] = {\n",
    "    'x': x,\n",
    "    'alpha_hist': alpha_hist,\n",
    "    'Q_hist': Q_hist,\n",
    "    'time_hist': time_hist,\n",
    "}"
   ]
  },
  {
   "cell_type": "code",
   "execution_count": 8,
   "metadata": {},
   "outputs": [],
   "source": [
    "with open(results_file, 'wb') as f:\n",
    "    pickle.dump(results, f)"
   ]
  },
  {
   "cell_type": "code",
   "execution_count": 8,
   "metadata": {},
   "outputs": [
    {
     "output_type": "execute_result",
     "data": {
      "text/plain": "dict_keys(['standard', 'line_search', 'backtracking', 'sc', 'sc_backtracking', 'sc_hybrid', 'scopt', 'prox_grad'])"
     },
     "metadata": {},
     "execution_count": 8
    }
   ],
   "source": [
    "results['a1a'].keys()"
   ]
  },
  {
   "cell_type": "code",
   "execution_count": null,
   "metadata": {},
   "outputs": [],
   "source": []
  }
 ],
 "metadata": {
  "file_extension": ".py",
  "kernelspec": {
   "display_name": "Python 3",
   "language": "python",
   "name": "python3"
  },
  "language_info": {
   "codemirror_mode": {
    "name": "ipython",
    "version": 3
   },
   "file_extension": ".py",
   "mimetype": "text/x-python",
   "name": "python",
   "nbconvert_exporter": "python",
   "pygments_lexer": "ipython3",
   "version": "3.7.3-final"
  },
  "mimetype": "text/x-python",
  "name": "python",
  "npconvert_exporter": "python",
  "pygments_lexer": "ipython3",
  "version": 3
 },
 "nbformat": 4,
 "nbformat_minor": 4
}