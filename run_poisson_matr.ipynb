{
 "cells": [
  {
   "cell_type": "code",
   "execution_count": 1,
   "metadata": {},
   "outputs": [],
   "source": [
    "import os\n",
    "import pickle\n",
    "\n",
    "import skimage\n",
    "from skimage import data\n",
    "import numpy as np\n",
    "from numpy import matlib\n",
    "from sklearn.datasets import load_svmlight_file\n",
    "from PIL import Image\n",
    "import matplotlib.pylab as plt\n",
    "from matplotlib.pyplot import imshow\n",
    "\n",
    "import scfw.poisson as ps\n",
    "from scfw.scopt import scopt\n",
    "from scfw.prox_grad import prox_grad"
   ]
  },
  {
   "cell_type": "code",
   "execution_count": 2,
   "metadata": {},
   "outputs": [],
   "source": [
    "%matplotlib inline"
   ]
  },
  {
   "cell_type": "markdown",
   "metadata": {},
   "source": [
    "## Data load"
   ]
  },
  {
   "cell_type": "code",
   "execution_count": 3,
   "metadata": {},
   "outputs": [],
   "source": [
    "data_folder = '../data'\n",
    "\n",
    "problem_name = 'a1a'\n",
    "results = {problem_name: {}}\n",
    "W, y = load_svmlight_file(os.path.join(data_folder, problem_name))\n",
    "y = y.reshape(-1, 1)\n",
    "W = W.toarray()\n",
    "\n",
    "results_folder = './results/'\n",
    "results_file=os.path.join(results_folder, 'poisson', problem_name+'.pckl')\n",
    "results = {problem_name: {}}\n",
    "if os.path.isfile(results_file):\n",
    "    with open(results_file, \"rb\") as f:\n",
    "        results=pickle.load(f)"
   ]
  },
  {
   "cell_type": "markdown",
   "metadata": {},
   "source": [
    "## Data preprocessing"
   ]
  },
  {
   "cell_type": "code",
   "execution_count": 4,
   "metadata": {},
   "outputs": [],
   "source": [
    "# multiplicative multiplication of the structure of the recognizable structure\n",
    "W = matlib.repmat(y, 1, W.shape[1]) * W\n",
    "# summation of feature descriptions\n",
    "sA = np.sum(W, 1)\n",
    "# if the sum of the string is negative, invert it\n",
    "W[sA < 0, :] = -W[sA < 0, :]\n",
    "# zero row deletion\n",
    "W = W[sA != 0, :]\n",
    "# W = scipy.sparse.csr_matrix(W)\n",
    "\n",
    "Bias = 1\n",
    "b = (Bias * y).squeeze()\n",
    "b = np.abs(b)\n",
    "if (b.any == 0):\n",
    "    print(' Input parameter y error')\n",
    "\n",
    "y = b\n",
    "N, n = W.shape"
   ]
  },
  {
   "cell_type": "markdown",
   "metadata": {},
   "source": [
    "## Parameters initialization"
   ]
  },
  {
   "cell_type": "code",
   "execution_count": 5,
   "metadata": {},
   "outputs": [],
   "source": [
    "lam =  np.sqrt(N)/2\n",
    "#first set of parameters\n",
    "Mf = max(2 / np.sqrt(y))\n",
    "nu = 3\n",
    "I = np.eye(n)\n",
    "Iv = np.ones(n)\n",
    "#running parameters\n",
    "x0 = np.ones(n) / n\n",
    "terminate_tol = 1e-10\n",
    "M = ps.poisson_matr(W, y, lam, x0)[0] / lam\n",
    "\n",
    "FW_params={\n",
    "    'iter_FW': 50000,\n",
    "    'line_search_tol': 1e-10,\n",
    "}\n",
    "\n",
    "\n",
    "sc_params={\n",
    "    #parameters for SCOPT\n",
    "    'iter_SC': 1000,\n",
    "    'Lest': 'estimate', #estimate L\n",
    "    'use_two_phase': True,\n",
    "    #FISTA parameters\n",
    "    'fista_type': 'mfista',\n",
    "    'fista_tol': 1e-5,\n",
    "    'fista_iter': 1000,\n",
    "    #Conjugate Gradient Parameters\n",
    "    'conj_grad_tol': 1e-2,\n",
    "    'conj_grad_iter': 100,\n",
    "}"
   ]
  },
  {
   "cell_type": "markdown",
   "metadata": {},
   "source": [
    "## Auxilary functions"
   ]
  },
  {
   "cell_type": "code",
   "execution_count": 6,
   "metadata": {},
   "outputs": [],
   "source": [
    "func_x = lambda x: ps.poisson_matr(W, y, lam, x)\n",
    "grad_x = lambda x, dot_product: ps.grad_poisson_matr(W, y, lam, x, dot_product)\n",
    "grad_beta = lambda x, s, beta, dot_product, dot_product_s: ps.grad_poisson_matr(W, y, lam, (1 - beta) * x + beta * s, (1 - beta) * dot_product + beta * dot_product_s)\n",
    "hess_mult_x = lambda x, dot_product: ps.hess_mult_matr(W, y, x, dot_product)\n",
    "hess_mult_vec_x = lambda s, dot_product: ps.hess_mult_vec_matr(W, y, s, dot_product)\n",
    "extra_func = lambda x: W @ x\n",
    "linear_orcale = lambda grad: ps.linear_oracle_full_simplex(grad, M)\n",
    "prox_func = lambda x, L: np.maximum(x, 0) #used for SCOPT"
   ]
  },
  {
   "cell_type": "markdown",
   "metadata": {},
   "source": [
    "## Run SCOPT"
   ]
  },
  {
   "cell_type": "code",
   "execution_count": 7,
   "metadata": {
    "scrolled": true,
    "tags": [
     "outputPrepend"
    ]
   },
   "outputs": [
    {
     "output_type": "stream",
     "name": "stdout",
     "text": "40.16\nFista err = 3.977e-09; Subiter =   2; subproblem converged!\nFista err = 3.919e-09; Subiter =   2; subproblem converged!\nFista err = 3.862e-09; Subiter =   2; subproblem converged!\nFista err = 3.805e-09; Subiter =   2; subproblem converged!\nFista err = 3.750e-09; Subiter =   2; subproblem converged!\nFista err = 3.695e-09; Subiter =   2; subproblem converged!\nFista err = 3.641e-09; Subiter =   2; subproblem converged!\nFista err = 3.588e-09; Subiter =   2; subproblem converged!\nFista err = 3.535e-09; Subiter =   2; subproblem converged!\nFista err = 3.484e-09; Subiter =   2; subproblem converged!\niter =  460, stepsize = 1.000e+00, rdiff = 6.993e-09 , f = 1640.16\nFista err = 3.433e-09; Subiter =   2; subproblem converged!\nFista err = 3.383e-09; Subiter =   2; subproblem converged!\nFista err = 3.333e-09; Subiter =   2; subproblem converged!\nFista err = 3.285e-09; Subiter =   2; subproblem converged!\nFista err = 3.237e-09; Subiter =   2; subproblem converged!\nFista err = 3.189e-09; Subiter =   2; subproblem converged!\nFista err = 3.143e-09; Subiter =   2; subproblem converged!\nFista err = 3.097e-09; Subiter =   2; subproblem converged!\nFista err = 3.052e-09; Subiter =   2; subproblem converged!\nFista err = 3.007e-09; Subiter =   2; subproblem converged!\niter =  470, stepsize = 1.000e+00, rdiff = 6.036e-09 , f = 1640.16\nFista err = 2.963e-09; Subiter =   2; subproblem converged!\nFista err = 2.920e-09; Subiter =   2; subproblem converged!\nFista err = 2.877e-09; Subiter =   2; subproblem converged!\nFista err = 2.835e-09; Subiter =   2; subproblem converged!\nFista err = 2.794e-09; Subiter =   2; subproblem converged!\nFista err = 2.753e-09; Subiter =   2; subproblem converged!\nFista err = 2.713e-09; Subiter =   2; subproblem converged!\nFista err = 2.673e-09; Subiter =   2; subproblem converged!\nFista err = 2.634e-09; Subiter =   2; subproblem converged!\nFista err = 2.596e-09; Subiter =   2; subproblem converged!\niter =  480, stepsize = 1.000e+00, rdiff = 5.210e-09 , f = 1640.16\nFista err = 2.558e-09; Subiter =   2; subproblem converged!\nFista err = 2.520e-09; Subiter =   2; subproblem converged!\nFista err = 2.484e-09; Subiter =   2; subproblem converged!\nFista err = 2.447e-09; Subiter =   2; subproblem converged!\nFista err = 2.412e-09; Subiter =   2; subproblem converged!\nFista err = 2.376e-09; Subiter =   2; subproblem converged!\nFista err = 2.342e-09; Subiter =   2; subproblem converged!\nFista err = 2.307e-09; Subiter =   2; subproblem converged!\nFista err = 2.274e-09; Subiter =   2; subproblem converged!\nFista err = 2.240e-09; Subiter =   2; subproblem converged!\niter =  490, stepsize = 1.000e+00, rdiff = 4.498e-09 , f = 1640.16\nFista err = 2.208e-09; Subiter =   2; subproblem converged!\nFista err = 2.176e-09; Subiter =   2; subproblem converged!\nFista err = 2.144e-09; Subiter =   2; subproblem converged!\nFista err = 2.112e-09; Subiter =   2; subproblem converged!\nFista err = 2.082e-09; Subiter =   2; subproblem converged!\nFista err = 2.051e-09; Subiter =   2; subproblem converged!\nFista err = 2.021e-09; Subiter =   2; subproblem converged!\nFista err = 1.992e-09; Subiter =   2; subproblem converged!\nFista err = 1.963e-09; Subiter =   2; subproblem converged!\nFista err = 1.934e-09; Subiter =   2; subproblem converged!\niter =  500, stepsize = 1.000e+00, rdiff = 3.882e-09 , f = 1640.16\nFista err = 1.906e-09; Subiter =   2; subproblem converged!\nFista err = 1.878e-09; Subiter =   2; subproblem converged!\nFista err = 1.850e-09; Subiter =   2; subproblem converged!\nFista err = 1.823e-09; Subiter =   2; subproblem converged!\nFista err = 1.797e-09; Subiter =   2; subproblem converged!\nFista err = 1.771e-09; Subiter =   2; subproblem converged!\nFista err = 1.745e-09; Subiter =   2; subproblem converged!\nFista err = 1.719e-09; Subiter =   2; subproblem converged!\nFista err = 1.694e-09; Subiter =   2; subproblem converged!\nFista err = 1.669e-09; Subiter =   2; subproblem converged!\niter =  510, stepsize = 1.000e+00, rdiff = 3.351e-09 , f = 1640.16\nFista err = 1.645e-09; Subiter =   2; subproblem converged!\nFista err = 1.621e-09; Subiter =   2; subproblem converged!\nFista err = 1.597e-09; Subiter =   2; subproblem converged!\nFista err = 1.574e-09; Subiter =   2; subproblem converged!\nFista err = 1.551e-09; Subiter =   2; subproblem converged!\nFista err = 1.528e-09; Subiter =   2; subproblem converged!\nFista err = 1.506e-09; Subiter =   2; subproblem converged!\nFista err = 1.484e-09; Subiter =   2; subproblem converged!\nFista err = 1.462e-09; Subiter =   2; subproblem converged!\nFista err = 1.441e-09; Subiter =   2; subproblem converged!\niter =  520, stepsize = 1.000e+00, rdiff = 2.892e-09 , f = 1640.16\nFista err = 1.420e-09; Subiter =   2; subproblem converged!\nFista err = 1.399e-09; Subiter =   2; subproblem converged!\nFista err = 1.379e-09; Subiter =   2; subproblem converged!\nFista err = 1.359e-09; Subiter =   2; subproblem converged!\nFista err = 1.339e-09; Subiter =   2; subproblem converged!\nFista err = 1.319e-09; Subiter =   2; subproblem converged!\nFista err = 1.300e-09; Subiter =   2; subproblem converged!\nFista err = 1.281e-09; Subiter =   2; subproblem converged!\nFista err = 1.262e-09; Subiter =   2; subproblem converged!\nFista err = 1.244e-09; Subiter =   2; subproblem converged!\niter =  530, stepsize = 1.000e+00, rdiff = 2.497e-09 , f = 1640.16\nFista err = 1.226e-09; Subiter =   2; subproblem converged!\nFista err = 1.208e-09; Subiter =   2; subproblem converged!\nFista err = 1.190e-09; Subiter =   2; subproblem converged!\nFista err = 1.173e-09; Subiter =   2; subproblem converged!\nFista err = 1.156e-09; Subiter =   2; subproblem converged!\nFista err = 1.139e-09; Subiter =   2; subproblem converged!\nFista err = 1.122e-09; Subiter =   2; subproblem converged!\nFista err = 1.106e-09; Subiter =   2; subproblem converged!\nFista err = 1.089e-09; Subiter =   2; subproblem converged!\nFista err = 1.074e-09; Subiter =   2; subproblem converged!\niter =  540, stepsize = 1.000e+00, rdiff = 2.155e-09 , f = 1640.16\nFista err = 1.058e-09; Subiter =   2; subproblem converged!\nFista err = 1.042e-09; Subiter =   2; subproblem converged!\nFista err = 1.027e-09; Subiter =   2; subproblem converged!\nFista err = 1.012e-09; Subiter =   2; subproblem converged!\nFista err = 9.974e-10; Subiter =   2; subproblem converged!\nFista err = 9.829e-10; Subiter =   2; subproblem converged!\nFista err = 9.685e-10; Subiter =   2; subproblem converged!\nFista err = 9.544e-10; Subiter =   2; subproblem converged!\nFista err = 9.404e-10; Subiter =   2; subproblem converged!\nFista err = 9.267e-10; Subiter =   2; subproblem converged!\niter =  550, stepsize = 1.000e+00, rdiff = 1.860e-09 , f = 1640.16\nFista err = 9.132e-10; Subiter =   2; subproblem converged!\nFista err = 8.998e-10; Subiter =   2; subproblem converged!\nFista err = 8.867e-10; Subiter =   2; subproblem converged!\nFista err = 8.737e-10; Subiter =   2; subproblem converged!\nFista err = 8.610e-10; Subiter =   2; subproblem converged!\nFista err = 8.484e-10; Subiter =   2; subproblem converged!\nFista err = 8.360e-10; Subiter =   2; subproblem converged!\nFista err = 8.238e-10; Subiter =   2; subproblem converged!\nFista err = 8.118e-10; Subiter =   2; subproblem converged!\nFista err = 7.999e-10; Subiter =   2; subproblem converged!\niter =  560, stepsize = 1.000e+00, rdiff = 1.606e-09 , f = 1640.16\nFista err = 7.882e-10; Subiter =   2; subproblem converged!\nFista err = 7.767e-10; Subiter =   2; subproblem converged!\nFista err = 7.654e-10; Subiter =   2; subproblem converged!\nFista err = 7.542e-10; Subiter =   2; subproblem converged!\nFista err = 7.432e-10; Subiter =   2; subproblem converged!\nFista err = 7.323e-10; Subiter =   2; subproblem converged!\nFista err = 7.216e-10; Subiter =   2; subproblem converged!\nFista err = 7.111e-10; Subiter =   2; subproblem converged!\nFista err = 7.007e-10; Subiter =   2; subproblem converged!\nFista err = 6.904e-10; Subiter =   2; subproblem converged!\niter =  570, stepsize = 1.000e+00, rdiff = 1.386e-09 , f = 1640.16\nFista err = 6.804e-10; Subiter =   2; subproblem converged!\nFista err = 6.704e-10; Subiter =   2; subproblem converged!\nFista err = 6.606e-10; Subiter =   2; subproblem converged!\nFista err = 6.510e-10; Subiter =   2; subproblem converged!\nFista err = 6.415e-10; Subiter =   2; subproblem converged!\nFista err = 6.321e-10; Subiter =   2; subproblem converged!\nFista err = 6.229e-10; Subiter =   2; subproblem converged!\nFista err = 6.138e-10; Subiter =   2; subproblem converged!\nFista err = 6.048e-10; Subiter =   2; subproblem converged!\nFista err = 5.960e-10; Subiter =   2; subproblem converged!\niter =  580, stepsize = 1.000e+00, rdiff = 1.196e-09 , f = 1640.16\nFista err = 5.873e-10; Subiter =   2; subproblem converged!\nFista err = 5.787e-10; Subiter =   2; subproblem converged!\nFista err = 5.702e-10; Subiter =   2; subproblem converged!\nFista err = 5.619e-10; Subiter =   2; subproblem converged!\nFista err = 5.537e-10; Subiter =   2; subproblem converged!\nFista err = 5.456e-10; Subiter =   2; subproblem converged!\nFista err = 5.376e-10; Subiter =   2; subproblem converged!\nFista err = 5.298e-10; Subiter =   2; subproblem converged!\nFista err = 5.221e-10; Subiter =   2; subproblem converged!\nFista err = 5.144e-10; Subiter =   2; subproblem converged!\niter =  590, stepsize = 1.000e+00, rdiff = 1.033e-09 , f = 1640.16\nFista err = 5.069e-10; Subiter =   2; subproblem converged!\nFista err = 4.995e-10; Subiter =   2; subproblem converged!\nFista err = 4.922e-10; Subiter =   2; subproblem converged!\nFista err = 4.850e-10; Subiter =   2; subproblem converged!\nFista err = 4.779e-10; Subiter =   2; subproblem converged!\nFista err = 4.710e-10; Subiter =   2; subproblem converged!\nFista err = 4.641e-10; Subiter =   2; subproblem converged!\nFista err = 4.573e-10; Subiter =   2; subproblem converged!\nFista err = 4.506e-10; Subiter =   2; subproblem converged!\nFista err = 4.440e-10; Subiter =   2; subproblem converged!\niter =  600, stepsize = 1.000e+00, rdiff = 8.914e-10 , f = 1640.16\nFista err = 4.376e-10; Subiter =   2; subproblem converged!\nFista err = 4.312e-10; Subiter =   2; subproblem converged!\nFista err = 4.249e-10; Subiter =   2; subproblem converged!\nFista err = 4.187e-10; Subiter =   2; subproblem converged!\nFista err = 4.126e-10; Subiter =   2; subproblem converged!\nFista err = 4.065e-10; Subiter =   2; subproblem converged!\nFista err = 4.006e-10; Subiter =   2; subproblem converged!\nFista err = 3.947e-10; Subiter =   2; subproblem converged!\nFista err = 3.890e-10; Subiter =   2; subproblem converged!\nFista err = 3.833e-10; Subiter =   2; subproblem converged!\niter =  610, stepsize = 1.000e+00, rdiff = 7.694e-10 , f = 1640.16\nFista err = 3.777e-10; Subiter =   2; subproblem converged!\nFista err = 3.722e-10; Subiter =   2; subproblem converged!\nFista err = 3.667e-10; Subiter =   2; subproblem converged!\nFista err = 3.614e-10; Subiter =   2; subproblem converged!\nFista err = 3.561e-10; Subiter =   2; subproblem converged!\nFista err = 3.509e-10; Subiter =   2; subproblem converged!\nFista err = 3.458e-10; Subiter =   2; subproblem converged!\nFista err = 3.407e-10; Subiter =   2; subproblem converged!\nFista err = 3.357e-10; Subiter =   2; subproblem converged!\nFista err = 3.308e-10; Subiter =   2; subproblem converged!\niter =  620, stepsize = 1.000e+00, rdiff = 6.641e-10 , f = 1640.16\nFista err = 3.260e-10; Subiter =   2; subproblem converged!\nFista err = 3.213e-10; Subiter =   2; subproblem converged!\nFista err = 3.166e-10; Subiter =   2; subproblem converged!\nFista err = 3.119e-10; Subiter =   2; subproblem converged!\nFista err = 3.074e-10; Subiter =   2; subproblem converged!\nFista err = 3.029e-10; Subiter =   2; subproblem converged!\nFista err = 2.985e-10; Subiter =   2; subproblem converged!\nFista err = 2.941e-10; Subiter =   2; subproblem converged!\nFista err = 2.898e-10; Subiter =   2; subproblem converged!\nFista err = 2.856e-10; Subiter =   2; subproblem converged!\niter =  630, stepsize = 1.000e+00, rdiff = 5.733e-10 , f = 1640.16\nFista err = 2.814e-10; Subiter =   2; subproblem converged!\nFista err = 2.773e-10; Subiter =   2; subproblem converged!\nFista err = 2.732e-10; Subiter =   2; subproblem converged!\nFista err = 2.693e-10; Subiter =   2; subproblem converged!\nFista err = 2.653e-10; Subiter =   2; subproblem converged!\nFista err = 2.614e-10; Subiter =   2; subproblem converged!\nFista err = 2.576e-10; Subiter =   2; subproblem converged!\nFista err = 2.539e-10; Subiter =   2; subproblem converged!\nFista err = 2.502e-10; Subiter =   2; subproblem converged!\nFista err = 2.465e-10; Subiter =   2; subproblem converged!\niter =  640, stepsize = 1.000e+00, rdiff = 4.948e-10 , f = 1640.16\nFista err = 2.429e-10; Subiter =   2; subproblem converged!\nFista err = 2.394e-10; Subiter =   2; subproblem converged!\nFista err = 2.359e-10; Subiter =   2; subproblem converged!\nFista err = 2.324e-10; Subiter =   2; subproblem converged!\nFista err = 2.290e-10; Subiter =   2; subproblem converged!\nFista err = 2.257e-10; Subiter =   2; subproblem converged!\nFista err = 2.224e-10; Subiter =   2; subproblem converged!\nFista err = 2.191e-10; Subiter =   2; subproblem converged!\nFista err = 2.159e-10; Subiter =   2; subproblem converged!\nFista err = 2.128e-10; Subiter =   2; subproblem converged!\niter =  650, stepsize = 1.000e+00, rdiff = 4.271e-10 , f = 1640.16\nFista err = 2.097e-10; Subiter =   2; subproblem converged!\nFista err = 2.066e-10; Subiter =   2; subproblem converged!\nFista err = 2.036e-10; Subiter =   2; subproblem converged!\nFista err = 2.006e-10; Subiter =   2; subproblem converged!\nFista err = 1.977e-10; Subiter =   2; subproblem converged!\nFista err = 1.948e-10; Subiter =   2; subproblem converged!\nFista err = 1.920e-10; Subiter =   2; subproblem converged!\nFista err = 1.891e-10; Subiter =   2; subproblem converged!\nFista err = 1.864e-10; Subiter =   2; subproblem converged!\nFista err = 1.837e-10; Subiter =   2; subproblem converged!\niter =  660, stepsize = 1.000e+00, rdiff = 3.687e-10 , f = 1640.16\nFista err = 1.810e-10; Subiter =   2; subproblem converged!\nFista err = 1.783e-10; Subiter =   2; subproblem converged!\nFista err = 1.757e-10; Subiter =   2; subproblem converged!\nFista err = 1.732e-10; Subiter =   2; subproblem converged!\nFista err = 1.706e-10; Subiter =   2; subproblem converged!\nFista err = 1.681e-10; Subiter =   2; subproblem converged!\nFista err = 1.657e-10; Subiter =   2; subproblem converged!\nFista err = 1.633e-10; Subiter =   2; subproblem converged!\nFista err = 1.609e-10; Subiter =   2; subproblem converged!\nFista err = 1.585e-10; Subiter =   2; subproblem converged!\niter =  670, stepsize = 1.000e+00, rdiff = 3.182e-10 , f = 1640.16\nFista err = 1.562e-10; Subiter =   2; subproblem converged!\nFista err = 1.539e-10; Subiter =   2; subproblem converged!\nFista err = 1.517e-10; Subiter =   2; subproblem converged!\nFista err = 1.495e-10; Subiter =   2; subproblem converged!\nFista err = 1.473e-10; Subiter =   2; subproblem converged!\nFista err = 1.451e-10; Subiter =   2; subproblem converged!\nFista err = 1.430e-10; Subiter =   2; subproblem converged!\nFista err = 1.409e-10; Subiter =   2; subproblem converged!\nFista err = 1.389e-10; Subiter =   2; subproblem converged!\nFista err = 1.368e-10; Subiter =   2; subproblem converged!\niter =  680, stepsize = 1.000e+00, rdiff = 2.747e-10 , f = 1640.16\nFista err = 1.348e-10; Subiter =   2; subproblem converged!\nFista err = 1.329e-10; Subiter =   2; subproblem converged!\nFista err = 1.309e-10; Subiter =   2; subproblem converged!\nFista err = 1.290e-10; Subiter =   2; subproblem converged!\nFista err = 1.271e-10; Subiter =   2; subproblem converged!\nFista err = 1.253e-10; Subiter =   2; subproblem converged!\nFista err = 1.234e-10; Subiter =   2; subproblem converged!\nFista err = 1.216e-10; Subiter =   2; subproblem converged!\nFista err = 1.199e-10; Subiter =   2; subproblem converged!\nFista err = 1.181e-10; Subiter =   2; subproblem converged!\niter =  690, stepsize = 1.000e+00, rdiff = 2.371e-10 , f = 1640.16\nFista err = 1.164e-10; Subiter =   2; subproblem converged!\nFista err = 1.147e-10; Subiter =   2; subproblem converged!\nFista err = 1.130e-10; Subiter =   2; subproblem converged!\nFista err = 1.114e-10; Subiter =   2; subproblem converged!\nFista err = 1.097e-10; Subiter =   2; subproblem converged!\nFista err = 1.081e-10; Subiter =   2; subproblem converged!\nFista err = 1.066e-10; Subiter =   2; subproblem converged!\nFista err = 1.050e-10; Subiter =   2; subproblem converged!\nFista err = 1.035e-10; Subiter =   2; subproblem converged!\nFista err = 1.020e-10; Subiter =   2; subproblem converged!\niter =  700, stepsize = 1.000e+00, rdiff = 2.047e-10 , f = 1640.16\nFista err = 1.005e-10; Subiter =   2; subproblem converged!\nFista err = 9.900e-11; Subiter =   2; subproblem converged!\nFista err = 9.755e-11; Subiter =   2; subproblem converged!\nFista err = 9.613e-11; Subiter =   2; subproblem converged!\nFista err = 9.472e-11; Subiter =   2; subproblem converged!\nFista err = 9.334e-11; Subiter =   2; subproblem converged!\nFista err = 9.198e-11; Subiter =   2; subproblem converged!\nFista err = 9.063e-11; Subiter =   2; subproblem converged!\nFista err = 8.931e-11; Subiter =   2; subproblem converged!\nFista err = 8.801e-11; Subiter =   2; subproblem converged!\niter =  710, stepsize = 1.000e+00, rdiff = 1.767e-10 , f = 1640.16\nFista err = 8.672e-11; Subiter =   2; subproblem converged!\nFista err = 8.545e-11; Subiter =   2; subproblem converged!\nFista err = 8.421e-11; Subiter =   2; subproblem converged!\nFista err = 8.298e-11; Subiter =   2; subproblem converged!\nFista err = 8.176e-11; Subiter =   2; subproblem converged!\nFista err = 8.057e-11; Subiter =   2; subproblem converged!\nFista err = 7.939e-11; Subiter =   2; subproblem converged!\nFista err = 7.823e-11; Subiter =   2; subproblem converged!\nFista err = 7.709e-11; Subiter =   2; subproblem converged!\nFista err = 7.596e-11; Subiter =   2; subproblem converged!\niter =  720, stepsize = 1.000e+00, rdiff = 1.525e-10 , f = 1640.16\nFista err = 7.486e-11; Subiter =   2; subproblem converged!\nFista err = 7.376e-11; Subiter =   2; subproblem converged!\nFista err = 7.268e-11; Subiter =   2; subproblem converged!\nFista err = 7.162e-11; Subiter =   2; subproblem converged!\nFista err = 7.058e-11; Subiter =   2; subproblem converged!\nFista err = 6.955e-11; Subiter =   2; subproblem converged!\nFista err = 6.853e-11; Subiter =   2; subproblem converged!\nFista err = 6.753e-11; Subiter =   2; subproblem converged!\nFista err = 6.654e-11; Subiter =   2; subproblem converged!\nFista err = 6.557e-11; Subiter =   2; subproblem converged!\niter =  730, stepsize = 1.000e+00, rdiff = 1.316e-10 , f = 1640.16\nFista err = 6.461e-11; Subiter =   2; subproblem converged!\nFista err = 6.367e-11; Subiter =   2; subproblem converged!\nFista err = 6.274e-11; Subiter =   2; subproblem converged!\nFista err = 6.182e-11; Subiter =   2; subproblem converged!\nFista err = 6.092e-11; Subiter =   2; subproblem converged!\nFista err = 6.003e-11; Subiter =   2; subproblem converged!\nFista err = 5.915e-11; Subiter =   2; subproblem converged!\nFista err = 5.829e-11; Subiter =   2; subproblem converged!\nFista err = 5.744e-11; Subiter =   2; subproblem converged!\nFista err = 5.660e-11; Subiter =   2; subproblem converged!\niter =  740, stepsize = 1.000e+00, rdiff = 1.136e-10 , f = 1640.16\nFista err = 5.577e-11; Subiter =   2; subproblem converged!\nFista err = 5.496e-11; Subiter =   2; subproblem converged!\nFista err = 5.416e-11; Subiter =   2; subproblem converged!\nFista err = 5.336e-11; Subiter =   2; subproblem converged!\nFista err = 5.258e-11; Subiter =   2; subproblem converged!\nFista err = 5.182e-11; Subiter =   2; subproblem converged!\nFista err = 5.106e-11; Subiter =   2; subproblem converged!\nFista err = 5.031e-11; Subiter =   2; subproblem converged!\nFista err = 4.958e-11; Subiter =   2; subproblem converged!\nboo\nConvergence achieved!\niter =  749, stepsize = 1.000e+00, rdiff = 9.952e-11,value=1640.16\n8.479254484176636\n"
    }
   ],
   "source": [
    "x, alpha_hist, Q_hist, time_hist = scopt(func_x,\n",
    "          grad_x,\n",
    "          hess_mult_x,\n",
    "          hess_mult_vec_x,\n",
    "          Mf,\n",
    "          nu,\n",
    "          prox_func,\n",
    "          x0,  \n",
    "          sc_params,                                              \n",
    "          eps=terminate_tol,                                              \n",
    "          print_every=10)\n",
    "    \n",
    "results[problem_name]['scopt'] = {\n",
    "    'x': x,\n",
    "    'alpha_hist': alpha_hist,\n",
    "    #'Gap_hist': Gap_hist,\n",
    "    'Q_hist': Q_hist,\n",
    "    'time_hist': time_hist,\n",
    "}"
   ]
  },
  {
   "cell_type": "markdown",
   "metadata": {},
   "source": [
    "## Run prox grad"
   ]
  },
  {
   "cell_type": "code",
   "execution_count": 9,
   "metadata": {},
   "outputs": [],
   "source": [
    "def run_prox_grad(problem_name):\n",
    "    results = {problem_name: {}}\n",
    "    W, y = load_svmlight_file(os.path.join(data_folder, problem_name))\n",
    "    y = y.reshape(-1, 1)\n",
    "    W = W.toarray()\n",
    "    results_file=os.path.join(results_folder, 'poisson', problem_name+'.pckl')\n",
    "    results = {problem_name: {}}\n",
    "    if os.path.isfile(results_file):\n",
    "        with open(results_file, \"rb\") as f:\n",
    "            results=pickle.load(f)\n",
    "    # multiplicative multiplication of the structure of the recognizable structure\n",
    "    W = matlib.repmat(y, 1, W.shape[1]) * W\n",
    "    # summation of feature descriptions\n",
    "    sA = np.sum(W, 1)\n",
    "    # if the sum of the string is negative, invert it\n",
    "    W[sA < 0, :] = -W[sA < 0, :]\n",
    "    # zero row deletion\n",
    "    W = W[sA != 0, :]\n",
    "    # W = scipy.sparse.csr_matrix(W)\n",
    "    Bias = 1\n",
    "    b = (Bias * y).squeeze()\n",
    "    b = np.abs(b)\n",
    "    if (b.any == 0):\n",
    "        print(' Input parameter y error')\n",
    "    y = b\n",
    "    N, n = W.shape\n",
    "    lam =  np.sqrt(N)/2\n",
    "    Mf = max(2 / np.sqrt(y))\n",
    "    nu = 3\n",
    "    I = np.eye(n)\n",
    "    Iv = np.ones(n)\n",
    "    x0 = np.ones(n) / n\n",
    "    terminate_tol = 1e-10\n",
    "    M = ps.poisson_matr(W, y, lam, x0)[0] / lam\n",
    "    func_x = lambda x: ps.poisson_matr(W, y, lam, x)\n",
    "    grad_x = lambda x, dot_product: ps.grad_poisson_matr(W, y, lam, x, dot_product)\n",
    "    grad_beta = lambda x, s, beta, dot_product, dot_product_s: ps.grad_poisson_matr(W, y, lam, (1 - beta) * x + beta * s, (1 - beta) * dot_product + beta * dot_product_s)\n",
    "    hess_mult_x = lambda x, dot_product: ps.hess_mult_matr(W, y, x, dot_product)\n",
    "    hess_mult_vec_x = lambda s, dot_product: ps.hess_mult_vec_matr(W, y, s, dot_product)\n",
    "    extra_func = lambda x: W @ x\n",
    "    linear_orcale = lambda grad: ps.linear_oracle_full_simplex(grad, M)\n",
    "    prox_func = lambda x, L: np.maximum(x, 0) #used for SCOPT\n",
    "    prox_params={\n",
    "        #parameters for SCOPT\n",
    "        'iter_prox': 50000,\n",
    "        'Lest': 'estimate',#,'estimate', #estimate L\n",
    "        'bb_type': 2,\n",
    "        #FISTA parameters\n",
    "        'fista_type': 'fista',\n",
    "        'fista_tol': 1e-5,\n",
    "        'fista_iter': 1000,\n",
    "        'btk_iters': 100,\n",
    "        'backtracking': True\n",
    "    }\n",
    "\n",
    "    x, alpha_hist, Q_hist, time_hist = prox_grad(func_x,\n",
    "                grad_x,\n",
    "                hess_mult_vec_x,\n",
    "                prox_func,\n",
    "                Mf,\n",
    "                x0,\n",
    "                prox_params,\n",
    "                eps=terminate_tol,\n",
    "                print_every=1000)\n",
    "\n",
    "    results[problem_name]['prox_grad'] = {\n",
    "        'x': x,\n",
    "        'alpha_hist': alpha_hist,\n",
    "        'Q_hist': Q_hist,\n",
    "        'time_hist': time_hist,\n",
    "    }\n",
    "    with open(results_file, 'wb') as f:\n",
    "        pickle.dump(results, f)"
   ]
  },
  {
   "cell_type": "code",
   "execution_count": 11,
   "metadata": {
    "tags": [
     "outputPrepend"
    ]
   },
   "outputs": [
    {
     "output_type": "stream",
     "name": "stdout",
     "text": "size = 2.753e-05, rdiff = 4.800e-02 , f = 10105.1\niter = 11000, stepsize = 2.831e-05, rdiff = 4.898e-02 , f = 10008.3\niter = 12000, stepsize = 2.913e-05, rdiff = 5.000e-02 , f = 9909.49\niter = 13000, stepsize = 1.500e-05, rdiff = 1.021e-01 , f = 9808.61\niter = 14000, stepsize = 3.093e-05, rdiff = 5.216e-02 , f = 9705.58\niter = 15000, stepsize = 3.192e-05, rdiff = 5.331e-02 , f = 9600.31\niter = 16000, stepsize = 1.648e-05, rdiff = 1.090e-01 , f = 9492.7\niter = 17000, stepsize = 3.409e-05, rdiff = 5.575e-02 , f = 9382.67\niter = 18000, stepsize = 1.764e-05, rdiff = 1.141e-01 , f = 9270.1\niter = 19000, stepsize = 1.829e-05, rdiff = 1.168e-01 , f = 9154.9\niter = 20000, stepsize = 1.898e-05, rdiff = 1.196e-01 , f = 9036.95\niter = 21000, stepsize = 3.946e-05, rdiff = 6.128e-02 , f = 8916.14\niter = 22000, stepsize = 4.108e-05, rdiff = 6.282e-02 , f = 8792.32\niter = 23000, stepsize = 4.283e-05, rdiff = 6.443e-02 , f = 8665.38\niter = 24000, stepsize = 4.475e-05, rdiff = 6.611e-02 , f = 8535.17\niter = 25000, stepsize = 4.684e-05, rdiff = 6.786e-02 , f = 8401.54\niter = 26000, stepsize = 2.457e-05, rdiff = 1.394e-01 , f = 8264.35\niter = 27000, stepsize = 5.167e-05, rdiff = 7.161e-02 , f = 8123.44\niter = 28000, stepsize = 5.447e-05, rdiff = 7.361e-02 , f = 7978.64\niter = 29000, stepsize = 2.880e-05, rdiff = 1.514e-01 , f = 7829.79\niter = 30000, stepsize = 6.112e-05, rdiff = 7.786e-02 , f = 7676.73\niter = 31000, stepsize = 6.508e-05, rdiff = 8.010e-02 , f = 7519.29\niter = 32000, stepsize = 6.960e-05, rdiff = 8.242e-02 , f = 7357.32\niter = 33000, stepsize = 3.740e-05, rdiff = 1.696e-01 , f = 7190.7\niter = 34000, stepsize = 8.082e-05, rdiff = 8.722e-02 , f = 7019.31\niter = 35000, stepsize = 8.791e-05, rdiff = 8.965e-02 , f = 6843.13\niter = 36000, stepsize = 4.818e-05, rdiff = 1.841e-01 , f = 6662.17\niter = 37000, stepsize = 1.066e-04, rdiff = 9.432e-02 , f = 6476.6\niter = 38000, stepsize = 1.193e-04, rdiff = 9.635e-02 , f = 6286.78\niter = 39000, stepsize = 1.354e-04, rdiff = 9.797e-02 , f = 6093.34\niter = 40000, stepsize = 7.824e-05, rdiff = 1.978e-01 , f = 5897.4\niter = 41000, stepsize = 1.854e-04, rdiff = 9.864e-02 , f = 5700.8\niter = 42000, stepsize = 1.137e-04, rdiff = 1.930e-01 , f = 5506.52\niter = 43000, stepsize = 2.940e-04, rdiff = 9.120e-02 , f = 5319.49\niter = 44000, stepsize = 4.156e-04, rdiff = 8.064e-02 , f = 5147.87\niter = 45000, stepsize = 7.080e-04, rdiff = 6.104e-02 , f = 5005.49\niter = 46000, stepsize = 2.291e-03, rdiff = 2.685e-02 , f = 4915.87\niter = 47000, stepsize = 1.000e+00, rdiff = 9.220e-06 , f = 4844.98\nConvergence achieved!\niter = 47093, stepsize = 1.000e+00, rdiff = 7.099e-11,value=4844.98\n28.0870463848114\niter =    1, stepsize = 8.028e-06, rdiff = 1.811e-01 , f = 14720.9\niter = 1000, stepsize = 1.633e-05, rdiff = 4.035e-02 , f = 14640.8\niter = 2000, stepsize = 1.660e-05, rdiff = 4.088e-02 , f = 14559.6\niter = 3000, stepsize = 1.688e-05, rdiff = 4.141e-02 , f = 14477.5\niter = 4000, stepsize = 1.717e-05, rdiff = 4.197e-02 , f = 14394.2\niter = 5000, stepsize = 1.747e-05, rdiff = 4.253e-02 , f = 14309.8\niter = 6000, stepsize = 1.778e-05, rdiff = 4.311e-02 , f = 14224.3\niter = 7000, stepsize = 9.049e-06, rdiff = 8.741e-02 , f = 14137.5\niter = 8000, stepsize = 1.843e-05, rdiff = 4.432e-02 , f = 14049.6\niter = 9000, stepsize = 1.878e-05, rdiff = 4.494e-02 , f = 13960.5\niter = 10000, stepsize = 9.568e-06, rdiff = 9.118e-02 , f = 13870.1\niter = 11000, stepsize = 9.754e-06, rdiff = 9.250e-02 , f = 13778.4\niter = 12000, stepsize = 1.990e-05, rdiff = 4.693e-02 , f = 13685.3\niter = 13000, stepsize = 2.030e-05, rdiff = 4.763e-02 , f = 13590.9\niter = 14000, stepsize = 1.036e-05, rdiff = 9.669e-02 , f = 13495.1\niter = 15000, stepsize = 2.116e-05, rdiff = 4.908e-02 , f = 13397.8\niter = 16000, stepsize = 1.081e-05, rdiff = 9.968e-02 , f = 13299\niter = 17000, stepsize = 2.209e-05, rdiff = 5.062e-02 , f = 13198.7\niter = 18000, stepsize = 2.259e-05, rdiff = 5.143e-02 , f = 13096.8\niter = 19000, stepsize = 1.155e-05, rdiff = 1.045e-01 , f = 12993.3\niter = 20000, stepsize = 1.183e-05, rdiff = 1.062e-01 , f = 12888.1\niter = 21000, stepsize = 2.423e-05, rdiff = 5.399e-02 , f = 12781.2\niter = 22000, stepsize = 1.241e-05, rdiff = 1.098e-01 , f = 12672.5\niter = 23000, stepsize = 1.273e-05, rdiff = 1.117e-01 , f = 12562\niter = 24000, stepsize = 2.612e-05, rdiff = 5.679e-02 , f = 12449.6\niter = 25000, stepsize = 2.682e-05, rdiff = 5.779e-02 , f = 12335.2\niter = 26000, stepsize = 2.756e-05, rdiff = 5.881e-02 , f = 12218.8\niter = 27000, stepsize = 1.417e-05, rdiff = 1.197e-01 , f = 12100.4\niter = 28000, stepsize = 2.917e-05, rdiff = 6.097e-02 , f = 11979.8\niter = 29000, stepsize = 3.004e-05, rdiff = 6.210e-02 , f = 11856.9\niter = 30000, stepsize = 1.548e-05, rdiff = 1.265e-01 , f = 11731.8\niter = 31000, stepsize = 3.196e-05, rdiff = 6.447e-02 , f = 11604.4\niter = 32000, stepsize = 1.651e-05, rdiff = 1.314e-01 , f = 11474.5\niter = 33000, stepsize = 1.707e-05, rdiff = 1.340e-01 , f = 11342\niter = 34000, stepsize = 3.534e-05, rdiff = 6.833e-02 , f = 11207\niter = 35000, stepsize = 3.663e-05, rdiff = 6.971e-02 , f = 11069.3\niter = 36000, stepsize = 1.901e-05, rdiff = 1.423e-01 , f = 10928.8\niter = 37000, stepsize = 3.952e-05, rdiff = 7.259e-02 , f = 10785.4\niter = 38000, stepsize = 4.114e-05, rdiff = 7.410e-02 , f = 10639.1\niter = 39000, stepsize = 4.291e-05, rdiff = 7.566e-02 , f = 10489.7\niter = 40000, stepsize = 4.482e-05, rdiff = 7.727e-02 , f = 10337.2\niter = 41000, stepsize = 2.346e-05, rdiff = 1.578e-01 , f = 10181.4\niter = 42000, stepsize = 2.461e-05, rdiff = 1.612e-01 , f = 10022.3\niter = 43000, stepsize = 2.589e-05, rdiff = 1.647e-01 , f = 9859.85\niter = 44000, stepsize = 5.459e-05, rdiff = 8.412e-02 , f = 9693.89\niter = 45000, stepsize = 2.887e-05, rdiff = 1.718e-01 , f = 9524.39\niter = 46000, stepsize = 6.126e-05, rdiff = 8.773e-02 , f = 9351.31\niter = 47000, stepsize = 3.263e-05, rdiff = 1.791e-01 , f = 9174.64\niter = 48000, stepsize = 3.490e-05, rdiff = 1.827e-01 , f = 8994.4\niter = 49000, stepsize = 3.751e-05, rdiff = 1.862e-01 , f = 8810.66\niter = 50000, stepsize = 4.054e-05, rdiff = 1.895e-01 , f = 8623.56\n41.612552881240845\niter =    1, stepsize = 9.186e-06, rdiff = 9.054e-02 , f = 25732.3\niter = 1000, stepsize = 4.638e-06, rdiff = 8.036e-02 , f = 25652.3\niter = 2000, stepsize = 9.362e-06, rdiff = 4.048e-02 , f = 25571.7\niter = 3000, stepsize = 9.450e-06, rdiff = 4.078e-02 , f = 25490.5\niter = 4000, stepsize = 9.540e-06, rdiff = 4.108e-02 , f = 25408.7\niter = 5000, stepsize = 9.632e-06, rdiff = 4.139e-02 , f = 25326.3\niter = 6000, stepsize = 9.726e-06, rdiff = 4.171e-02 , f = 25243.3\niter = 7000, stepsize = 4.911e-06, rdiff = 8.405e-02 , f = 25159.6\niter = 8000, stepsize = 9.918e-06, rdiff = 4.235e-02 , f = 25075.3\niter = 9000, stepsize = 5.009e-06, rdiff = 8.535e-02 , f = 24990.4\niter = 10000, stepsize = 1.012e-05, rdiff = 4.301e-02 , f = 24904.8\niter = 11000, stepsize = 1.022e-05, rdiff = 4.334e-02 , f = 24818.5\niter = 12000, stepsize = 5.164e-06, rdiff = 8.737e-02 , f = 24731.6\niter = 13000, stepsize = 1.044e-05, rdiff = 4.403e-02 , f = 24644\niter = 14000, stepsize = 1.055e-05, rdiff = 4.438e-02 , f = 24555.6\niter = 15000, stepsize = 1.066e-05, rdiff = 4.474e-02 , f = 24466.6\niter = 16000, stepsize = 5.386e-06, rdiff = 9.021e-02 , f = 24376.8\niter = 17000, stepsize = 1.089e-05, rdiff = 4.547e-02 , f = 24286.3\niter = 18000, stepsize = 5.505e-06, rdiff = 9.169e-02 , f = 24195.1\niter = 19000, stepsize = 5.566e-06, rdiff = 9.245e-02 , f = 24103.1\niter = 20000, stepsize = 5.628e-06, rdiff = 9.322e-02 , f = 24010.4\niter = 21000, stepsize = 5.692e-06, rdiff = 9.401e-02 , f = 23916.9\niter = 22000, stepsize = 1.152e-05, rdiff = 4.740e-02 , f = 23822.6\niter = 23000, stepsize = 5.825e-06, rdiff = 9.561e-02 , f = 23727.5\niter = 24000, stepsize = 1.179e-05, rdiff = 4.822e-02 , f = 23631.6\niter = 25000, stepsize = 1.193e-05, rdiff = 4.863e-02 , f = 23534.8\niter = 26000, stepsize = 1.207e-05, rdiff = 4.906e-02 , f = 23437.2\niter = 27000, stepsize = 1.222e-05, rdiff = 4.949e-02 , f = 23338.8\niter = 28000, stepsize = 6.185e-06, rdiff = 9.986e-02 , f = 23239.5\niter = 29000, stepsize = 1.252e-05, rdiff = 5.037e-02 , f = 23139.3\niter = 30000, stepsize = 6.341e-06, rdiff = 1.017e-01 , f = 23038.2\niter = 31000, stepsize = 1.285e-05, rdiff = 5.129e-02 , f = 22936.2\niter = 32000, stepsize = 1.301e-05, rdiff = 5.176e-02 , f = 22833.3\niter = 33000, stepsize = 1.318e-05, rdiff = 5.223e-02 , f = 22729.4\niter = 34000, stepsize = 6.680e-06, rdiff = 1.054e-01 , f = 22624.6\niter = 35000, stepsize = 1.354e-05, rdiff = 5.321e-02 , f = 22518.8\niter = 36000, stepsize = 1.373e-05, rdiff = 5.371e-02 , f = 22412\niter = 37000, stepsize = 6.958e-06, rdiff = 1.084e-01 , f = 22304.2\niter = 38000, stepsize = 1.411e-05, rdiff = 5.474e-02 , f = 22195.4\niter = 39000, stepsize = 7.157e-06, rdiff = 1.105e-01 , f = 22085.5\niter = 40000, stepsize = 7.261e-06, rdiff = 1.116e-01 , f = 21974.6\niter = 41000, stepsize = 1.474e-05, rdiff = 5.636e-02 , f = 21862.5\niter = 42000, stepsize = 1.496e-05, rdiff = 5.691e-02 , f = 21749.4\niter = 43000, stepsize = 1.518e-05, rdiff = 5.748e-02 , f = 21635.2\niter = 44000, stepsize = 1.542e-05, rdiff = 5.806e-02 , f = 21519.8\niter = 45000, stepsize = 1.566e-05, rdiff = 5.865e-02 , f = 21403.3\niter = 46000, stepsize = 1.591e-05, rdiff = 5.925e-02 , f = 21285.5\niter = 47000, stepsize = 1.616e-05, rdiff = 5.986e-02 , f = 21166.6\niter = 48000, stepsize = 8.214e-06, rdiff = 1.210e-01 , f = 21046.4\niter = 49000, stepsize = 1.670e-05, rdiff = 6.111e-02 , f = 20925\niter = 50000, stepsize = 1.699e-05, rdiff = 6.176e-02 , f = 20802.3\n78.820876121521\niter =    1, stepsize = 6.400e-06, rdiff = 9.054e-02 , f = 36910.6\niter = 1000, stepsize = 6.444e-06, rdiff = 4.009e-02 , f = 36830.6\niter = 2000, stepsize = 6.486e-06, rdiff = 4.030e-02 , f = 36750.3\niter = 3000, stepsize = 6.528e-06, rdiff = 4.050e-02 , f = 36669.6\niter = 4000, stepsize = 6.571e-06, rdiff = 4.071e-02 , f = 36588.4\niter = 5000, stepsize = 6.614e-06, rdiff = 4.092e-02 , f = 36506.8\niter = 6000, stepsize = 6.658e-06, rdiff = 4.114e-02 , f = 36424.8\niter = 7000, stepsize = 6.703e-06, rdiff = 4.135e-02 , f = 36342.4\niter = 8000, stepsize = 6.748e-06, rdiff = 4.157e-02 , f = 36259.6\niter = 9000, stepsize = 3.397e-06, rdiff = 8.358e-02 , f = 36176.3\niter = 10000, stepsize = 6.840e-06, rdiff = 4.201e-02 , f = 36092.5\niter = 11000, stepsize = 3.444e-06, rdiff = 8.447e-02 , f = 36008.3\niter = 12000, stepsize = 3.468e-06, rdiff = 8.493e-02 , f = 35923.7\niter = 13000, stepsize = 3.492e-06, rdiff = 8.539e-02 , f = 35838.6\niter = 14000, stepsize = 7.033e-06, rdiff = 4.292e-02 , f = 35753.1\niter = 15000, stepsize = 3.541e-06, rdiff = 8.631e-02 , f = 35667\niter = 16000, stepsize = 7.133e-06, rdiff = 4.339e-02 , f = 35580.6\niter = 17000, stepsize = 3.592e-06, rdiff = 8.726e-02 , f = 35493.6\niter = 18000, stepsize = 3.618e-06, rdiff = 8.775e-02 , f = 35406.2\niter = 19000, stepsize = 3.644e-06, rdiff = 8.823e-02 , f = 35318.3\niter = 20000, stepsize = 3.671e-06, rdiff = 8.872e-02 , f = 35229.9\niter = 21000, stepsize = 7.396e-06, rdiff = 4.461e-02 , f = 35141\niter = 22000, stepsize = 7.451e-06, rdiff = 4.486e-02 , f = 35051.6\niter = 23000, stepsize = 7.507e-06, rdiff = 4.511e-02 , f = 34961.7\niter = 24000, stepsize = 7.564e-06, rdiff = 4.537e-02 , f = 34871.2\niter = 25000, stepsize = 7.622e-06, rdiff = 4.563e-02 , f = 34780.3\niter = 26000, stepsize = 7.680e-06, rdiff = 4.589e-02 , f = 34688.9\niter = 27000, stepsize = 7.739e-06, rdiff = 4.616e-02 , f = 34596.9\niter = 28000, stepsize = 7.800e-06, rdiff = 4.642e-02 , f = 34504.4\niter = 29000, stepsize = 3.931e-06, rdiff = 9.339e-02 , f = 34411.4\niter = 30000, stepsize = 7.923e-06, rdiff = 4.697e-02 , f = 34317.8\niter = 31000, stepsize = 7.987e-06, rdiff = 4.725e-02 , f = 34223.6\niter = 32000, stepsize = 8.051e-06, rdiff = 4.752e-02 , f = 34129\niter = 33000, stepsize = 8.116e-06, rdiff = 4.781e-02 , f = 34033.7\niter = 34000, stepsize = 8.182e-06, rdiff = 4.809e-02 , f = 33937.9\niter = 35000, stepsize = 8.250e-06, rdiff = 4.838e-02 , f = 33841.5\niter = 36000, stepsize = 8.318e-06, rdiff = 4.867e-02 , f = 33744.5\niter = 37000, stepsize = 8.388e-06, rdiff = 4.897e-02 , f = 33647\niter = 38000, stepsize = 8.459e-06, rdiff = 4.927e-02 , f = 33548.8\niter = 39000, stepsize = 4.266e-06, rdiff = 9.914e-02 , f = 33450.1\niter = 40000, stepsize = 8.604e-06, rdiff = 4.988e-02 , f = 33350.7\niter = 41000, stepsize = 8.679e-06, rdiff = 5.019e-02 , f = 33250.8\niter = 42000, stepsize = 8.755e-06, rdiff = 5.050e-02 , f = 33150.2\niter = 43000, stepsize = 8.832e-06, rdiff = 5.082e-02 , f = 33048.9\niter = 44000, stepsize = 4.455e-06, rdiff = 1.023e-01 , f = 32947.1\niter = 45000, stepsize = 8.991e-06, rdiff = 5.146e-02 , f = 32844.6\niter = 46000, stepsize = 9.072e-06, rdiff = 5.179e-02 , f = 32741.4\niter = 47000, stepsize = 9.155e-06, rdiff = 5.212e-02 , f = 32637.6\niter = 48000, stepsize = 9.240e-06, rdiff = 5.246e-02 , f = 32533.2\niter = 49000, stepsize = 9.326e-06, rdiff = 5.280e-02 , f = 32428\niter = 50000, stepsize = 9.414e-06, rdiff = 5.314e-02 , f = 32322.2\n99.22845077514648\niter =    1, stepsize = 4.499e-06, rdiff = 9.017e-02 , f = 52180.9\niter = 1000, stepsize = 4.520e-06, rdiff = 3.975e-02 , f = 52101.6\niter = 2000, stepsize = 4.541e-06, rdiff = 3.989e-02 , f = 52022\niter = 3000, stepsize = 2.281e-06, rdiff = 8.008e-02 , f = 51942.1\niter = 4000, stepsize = 4.582e-06, rdiff = 4.018e-02 , f = 51861.9\niter = 5000, stepsize = 4.603e-06, rdiff = 4.033e-02 , f = 51781.4\niter = 6000, stepsize = 2.312e-06, rdiff = 8.095e-02 , f = 51700.7\niter = 7000, stepsize = 4.646e-06, rdiff = 4.062e-02 , f = 51619.6\niter = 8000, stepsize = 2.334e-06, rdiff = 8.155e-02 , f = 51538.3\niter = 9000, stepsize = 4.690e-06, rdiff = 4.092e-02 , f = 51456.6\niter = 10000, stepsize = 2.356e-06, rdiff = 8.215e-02 , f = 51374.7\niter = 11000, stepsize = 4.734e-06, rdiff = 4.123e-02 , f = 51292.4\niter = 12000, stepsize = 2.378e-06, rdiff = 8.276e-02 , f = 51209.9\niter = 13000, stepsize = 4.779e-06, rdiff = 4.154e-02 , f = 51127\niter = 14000, stepsize = 4.802e-06, rdiff = 4.169e-02 , f = 51043.9\niter = 15000, stepsize = 4.825e-06, rdiff = 4.185e-02 , f = 50960.4\niter = 16000, stepsize = 4.849e-06, rdiff = 4.200e-02 , f = 50876.6\niter = 17000, stepsize = 4.872e-06, rdiff = 4.216e-02 , f = 50792.5\niter = 18000, stepsize = 4.896e-06, rdiff = 4.232e-02 , f = 50708\niter = 19000, stepsize = 4.920e-06, rdiff = 4.248e-02 , f = 50623.3\niter = 20000, stepsize = 4.945e-06, rdiff = 4.265e-02 , f = 50538.2\niter = 21000, stepsize = 4.969e-06, rdiff = 4.281e-02 , f = 50452.8\niter = 22000, stepsize = 4.994e-06, rdiff = 4.297e-02 , f = 50367.1\niter = 23000, stepsize = 2.510e-06, rdiff = 8.628e-02 , f = 50281\niter = 24000, stepsize = 2.522e-06, rdiff = 8.661e-02 , f = 50194.6\niter = 25000, stepsize = 5.070e-06, rdiff = 4.348e-02 , f = 50107.9\niter = 26000, stepsize = 5.096e-06, rdiff = 4.364e-02 , f = 50020.8\niter = 27000, stepsize = 5.122e-06, rdiff = 4.382e-02 , f = 49933.4\niter = 28000, stepsize = 2.574e-06, rdiff = 8.797e-02 , f = 49845.7\niter = 29000, stepsize = 2.587e-06, rdiff = 8.832e-02 , f = 49757.6\niter = 30000, stepsize = 2.601e-06, rdiff = 8.867e-02 , f = 49669.2\niter = 31000, stepsize = 5.229e-06, rdiff = 4.451e-02 , f = 49580.4\niter = 32000, stepsize = 5.256e-06, rdiff = 4.469e-02 , f = 49491.2\niter = 33000, stepsize = 5.284e-06, rdiff = 4.487e-02 , f = 49401.8\niter = 34000, stepsize = 2.656e-06, rdiff = 9.009e-02 , f = 49311.9\niter = 35000, stepsize = 5.340e-06, rdiff = 4.523e-02 , f = 49221.7\niter = 36000, stepsize = 5.369e-06, rdiff = 4.541e-02 , f = 49131.1\niter = 37000, stepsize = 5.398e-06, rdiff = 4.559e-02 , f = 49040.2\niter = 38000, stepsize = 5.427e-06, rdiff = 4.578e-02 , f = 48948.9\niter = 39000, stepsize = 2.728e-06, rdiff = 9.193e-02 , f = 48857.2\niter = 40000, stepsize = 2.743e-06, rdiff = 9.231e-02 , f = 48765.2\niter = 41000, stepsize = 5.517e-06, rdiff = 4.634e-02 , f = 48672.7\niter = 42000, stepsize = 5.548e-06, rdiff = 4.653e-02 , f = 48579.9\niter = 43000, stepsize = 2.789e-06, rdiff = 9.345e-02 , f = 48486.7\niter = 44000, stepsize = 2.805e-06, rdiff = 9.384e-02 , f = 48393.1\niter = 45000, stepsize = 5.641e-06, rdiff = 4.712e-02 , f = 48299.2\niter = 46000, stepsize = 5.673e-06, rdiff = 4.731e-02 , f = 48204.8\niter = 47000, stepsize = 2.853e-06, rdiff = 9.502e-02 , f = 48110.1\niter = 48000, stepsize = 5.738e-06, rdiff = 4.771e-02 , f = 48014.9\niter = 49000, stepsize = 5.772e-06, rdiff = 4.791e-02 , f = 47919.4\niter = 50000, stepsize = 2.903e-06, rdiff = 9.623e-02 , f = 47823.4\n139.71087765693665\niter =    1, stepsize = 3.136e-06, rdiff = 9.017e-02 , f = 74848\niter = 1000, stepsize = 3.147e-06, rdiff = 3.973e-02 , f = 74768.7\niter = 2000, stepsize = 3.157e-06, rdiff = 3.983e-02 , f = 74689.1\niter = 3000, stepsize = 3.167e-06, rdiff = 3.993e-02 , f = 74609.4\niter = 4000, stepsize = 3.177e-06, rdiff = 4.003e-02 , f = 74529.5\niter = 5000, stepsize = 1.594e-06, rdiff = 8.025e-02 , f = 74449.4\niter = 6000, stepsize = 3.197e-06, rdiff = 4.023e-02 , f = 74369.1\niter = 7000, stepsize = 3.208e-06, rdiff = 4.033e-02 , f = 74288.6\niter = 8000, stepsize = 1.609e-06, rdiff = 8.086e-02 , f = 74207.9\niter = 9000, stepsize = 1.614e-06, rdiff = 8.107e-02 , f = 74126.9\niter = 10000, stepsize = 1.619e-06, rdiff = 8.128e-02 , f = 74045.8\niter = 11000, stepsize = 3.249e-06, rdiff = 4.074e-02 , f = 73964.5\niter = 12000, stepsize = 1.630e-06, rdiff = 8.169e-02 , f = 73882.9\niter = 13000, stepsize = 3.270e-06, rdiff = 4.095e-02 , f = 73801.2\niter = 14000, stepsize = 3.281e-06, rdiff = 4.106e-02 , f = 73719.2\niter = 15000, stepsize = 3.292e-06, rdiff = 4.116e-02 , f = 73637\niter = 16000, stepsize = 1.651e-06, rdiff = 8.254e-02 , f = 73554.6\niter = 17000, stepsize = 3.314e-06, rdiff = 4.138e-02 , f = 73472\niter = 18000, stepsize = 3.325e-06, rdiff = 4.148e-02 , f = 73389.2\niter = 19000, stepsize = 3.336e-06, rdiff = 4.159e-02 , f = 73306.2\niter = 20000, stepsize = 3.347e-06, rdiff = 4.170e-02 , f = 73222.9\niter = 21000, stepsize = 3.358e-06, rdiff = 4.181e-02 , f = 73139.5\niter = 22000, stepsize = 3.370e-06, rdiff = 4.192e-02 , f = 73055.8\niter = 23000, stepsize = 3.381e-06, rdiff = 4.203e-02 , f = 72971.9\niter = 24000, stepsize = 1.696e-06, rdiff = 8.428e-02 , f = 72887.7\niter = 25000, stepsize = 3.404e-06, rdiff = 4.225e-02 , f = 72803.4\niter = 26000, stepsize = 3.416e-06, rdiff = 4.236e-02 , f = 72718.8\niter = 27000, stepsize = 3.427e-06, rdiff = 4.248e-02 , f = 72634\niter = 28000, stepsize = 1.720e-06, rdiff = 8.518e-02 , f = 72549\niter = 29000, stepsize = 1.725e-06, rdiff = 8.540e-02 , f = 72463.8\niter = 30000, stepsize = 3.463e-06, rdiff = 4.282e-02 , f = 72378.3\niter = 31000, stepsize = 1.737e-06, rdiff = 8.586e-02 , f = 72292.6\niter = 32000, stepsize = 1.743e-06, rdiff = 8.609e-02 , f = 72206.7\niter = 33000, stepsize = 1.750e-06, rdiff = 8.632e-02 , f = 72120.5\niter = 34000, stepsize = 1.756e-06, rdiff = 8.656e-02 , f = 72034.1\niter = 35000, stepsize = 1.762e-06, rdiff = 8.679e-02 , f = 71947.5\niter = 36000, stepsize = 1.768e-06, rdiff = 8.702e-02 , f = 71860.6\niter = 37000, stepsize = 1.774e-06, rdiff = 8.726e-02 , f = 71773.5\niter = 38000, stepsize = 3.561e-06, rdiff = 4.375e-02 , f = 71686.2\niter = 39000, stepsize = 3.574e-06, rdiff = 4.387e-02 , f = 71598.6\niter = 40000, stepsize = 3.587e-06, rdiff = 4.399e-02 , f = 71510.8\niter = 41000, stepsize = 3.600e-06, rdiff = 4.411e-02 , f = 71422.8\niter = 42000, stepsize = 1.806e-06, rdiff = 8.846e-02 , f = 71334.5\niter = 43000, stepsize = 3.626e-06, rdiff = 4.435e-02 , f = 71246\niter = 44000, stepsize = 1.820e-06, rdiff = 8.895e-02 , f = 71157.2\niter = 45000, stepsize = 1.826e-06, rdiff = 8.920e-02 , f = 71068.2\niter = 46000, stepsize = 1.833e-06, rdiff = 8.944e-02 , f = 70978.9\niter = 47000, stepsize = 3.679e-06, rdiff = 4.485e-02 , f = 70889.4\niter = 48000, stepsize = 3.693e-06, rdiff = 4.497e-02 , f = 70799.6\niter = 49000, stepsize = 3.707e-06, rdiff = 4.510e-02 , f = 70709.6\niter = 50000, stepsize = 3.720e-06, rdiff = 4.522e-02 , f = 70619.3\n183.760413646698\n"
    }
   ],
   "source": [
    "data_list =  ['a1a','a2a','a3a', 'a4a', 'a5a', 'a6a','a7a','a8a','a9a']\n",
    "for problem_name in data_list:\n",
    "    run_prox_grad(problem_name)"
   ]
  },
  {
   "cell_type": "code",
   "execution_count": 7,
   "metadata": {
    "tags": []
   },
   "outputs": [
    {
     "output_type": "stream",
     "name": "stdout",
     "text": "iter =    1, stepsize = 6.343e-05, rdiff = 1.592e+01 , f = 3658.74\niter = 1000, stepsize = 7.845e-05, rdiff = 9.239e-02 , f = 3452.16\niter = 2000, stepsize = 9.291e-05, rdiff = 1.043e-01 , f = 3256.85\niter = 3000, stepsize = 1.139e-04, rdiff = 1.192e-01 , f = 3035.15\niter = 4000, stepsize = 1.470e-04, rdiff = 1.384e-01 , f = 2779.97\niter = 5000, stepsize = 2.070e-04, rdiff = 1.626e-01 , f = 2482.21\niter = 6000, stepsize = 3.493e-04, rdiff = 1.883e-01 , f = 2134.04\niter = 7000, stepsize = 1.096e-03, rdiff = 1.634e-01 , f = 1765.1\niter = 8000, stepsize = 1.000e+00, rdiff = 4.605e-07 , f = 1640.16\niter = 9000, stepsize = 1.000e+00, rdiff = 1.815e-08 , f = 1640.16\niter = 10000, stepsize = 1.000e+00, rdiff = 4.908e-09 , f = 1640.16\niter = 11000, stepsize = 1.000e+00, rdiff = 2.519e-09 , f = 1640.16\niter = 12000, stepsize = 1.000e+00, rdiff = 1.205e-09 , f = 1640.16\niter = 13000, stepsize = 1.000e+00, rdiff = 1.168e-09 , f = 1640.16\niter = 14000, stepsize = 1.000e+00, rdiff = 7.506e-10 , f = 1640.16\niter = 15000, stepsize = 1.000e+00, rdiff = 4.191e-10 , f = 1640.16\niter = 16000, stepsize = 1.000e+00, rdiff = 3.574e-10 , f = 1640.16\niter = 17000, stepsize = 1.000e+00, rdiff = 4.251e-10 , f = 1640.16\niter = 18000, stepsize = 1.000e+00, rdiff = 2.940e-10 , f = 1640.16\niter = 19000, stepsize = 1.000e+00, rdiff = 2.311e-10 , f = 1640.16\niter = 20000, stepsize = 1.000e+00, rdiff = 1.969e-10 , f = 1640.16\niter = 21000, stepsize = 1.000e+00, rdiff = 1.397e-10 , f = 1640.16\niter = 22000, stepsize = 1.000e+00, rdiff = 1.391e-10 , f = 1640.16\nboo\nConvergence achieved!\niter = 22510, stepsize = 1.000e+00, rdiff = 9.996e-11,value=1640.16\n14.955914497375488\n"
    }
   ],
   "source": [
    "prox_params={\n",
    "        #parameters for SCOPT\n",
    "        'iter_prox': 50000,\n",
    "        'Lest': 'estimate',#,'estimate', #estimate L\n",
    "        'bb_type': 1,\n",
    "        #FISTA parameters\n",
    "        'fista_type': 'fista',\n",
    "        'fista_tol': 1e-5,\n",
    "        'fista_iter': 1000,\n",
    "    }\n",
    "\n",
    "x, alpha_hist, Q_hist, time_hist = prox_grad(func_x,\n",
    "            grad_x,\n",
    "            hess_mult_vec_x,\n",
    "            prox_func,\n",
    "            Mf,\n",
    "            x0,\n",
    "            prox_params,\n",
    "            eps=terminate_tol,\n",
    "            print_every=1000)\n",
    "\n",
    "results[problem_name]['prox_grad'] = {\n",
    "    'x': x,\n",
    "    'alpha_hist': alpha_hist,\n",
    "    'Q_hist': Q_hist,\n",
    "    'time_hist': time_hist,\n",
    "}"
   ]
  },
  {
   "cell_type": "code",
   "execution_count": 8,
   "metadata": {},
   "outputs": [],
   "source": [
    "with open(results_file, 'wb') as f:\n",
    "    pickle.dump(results, f)"
   ]
  },
  {
   "cell_type": "code",
   "execution_count": 8,
   "metadata": {},
   "outputs": [
    {
     "output_type": "execute_result",
     "data": {
      "text/plain": "dict_keys(['standard', 'line_search', 'backtracking', 'sc', 'sc_backtracking', 'sc_hybrid', 'scopt', 'prox_grad'])"
     },
     "metadata": {},
     "execution_count": 8
    }
   ],
   "source": [
    "results['a1a'].keys()"
   ]
  },
  {
   "cell_type": "code",
   "execution_count": null,
   "metadata": {},
   "outputs": [],
   "source": []
  }
 ],
 "metadata": {
  "file_extension": ".py",
  "kernelspec": {
   "display_name": "Python 3",
   "language": "python",
   "name": "python3"
  },
  "language_info": {
   "codemirror_mode": {
    "name": "ipython",
    "version": 3
   },
   "file_extension": ".py",
   "mimetype": "text/x-python",
   "name": "python",
   "nbconvert_exporter": "python",
   "pygments_lexer": "ipython3",
   "version": "3.7.3-final"
  },
  "mimetype": "text/x-python",
  "name": "python",
  "npconvert_exporter": "python",
  "pygments_lexer": "ipython3",
  "version": 3
 },
 "nbformat": 4,
 "nbformat_minor": 4
}