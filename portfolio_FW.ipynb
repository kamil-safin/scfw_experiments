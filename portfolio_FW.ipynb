{
 "cells": [
  {
   "cell_type": "code",
   "execution_count": 168,
   "metadata": {},
   "outputs": [],
   "source": [
    "import scipy\n",
    "import scipy.io\n",
    "import numpy as np\n",
    "from scipy.linalg import norm\n",
    "from scipy.sparse import csr_matrix\n",
    "from scipy.linalg import norm\n",
    "import pickle\n",
    "import time\n",
    "from collections import defaultdict\n",
    "import json\n",
    "\n",
    "import matplotlib.pyplot as plt"
   ]
  },
  {
   "cell_type": "code",
   "execution_count": 84,
   "metadata": {},
   "outputs": [],
   "source": [
    "results = defaultdict(dict)"
   ]
  },
  {
   "cell_type": "markdown",
   "metadata": {},
   "source": [
    "# Portfolio optimization"
   ]
  },
  {
   "cell_type": "code",
   "execution_count": 5,
   "metadata": {},
   "outputs": [],
   "source": [
    "# alpha policies\n",
    "def alpha_standard(k):\n",
    "    return 2 / (k + 1)\n",
    "\n",
    "def alpha_icml(k, Gap, hess, s, x):\n",
    "    e = hess.dot((s - x).T).T.dot((s - x).T) ** 0.5\n",
    "    t = Gap / (e * (Gap + e))\n",
    "    beta = alpha_standard(k)\n",
    "    return min(beta, t)"
   ]
  },
  {
   "cell_type": "markdown",
   "metadata": {},
   "source": [
    "$$g(x) = -\\sum_{t=1}^n \\log(r_t^T x)$$ \n",
    "$$\\min g(x),\\ x_i \\ge 0,\\ \\sum_{t = 1}^n x_t = 1$$"
   ]
  },
  {
   "cell_type": "code",
   "execution_count": 6,
   "metadata": {},
   "outputs": [],
   "source": [
    "def portfolio(R, x):\n",
    "    \"\"\"\n",
    "        R -- object matrix (N x n)\n",
    "        x -- weights (n)\n",
    "    \"\"\"    \n",
    "    return -np.sum(np.log(R @ x))"
   ]
  },
  {
   "cell_type": "markdown",
   "metadata": {},
   "source": [
    "$$\\nabla g(x) = -\\sum_{t = 1}^n \\frac{r_t}{r_t^T x}$$"
   ]
  },
  {
   "cell_type": "code",
   "execution_count": 7,
   "metadata": {},
   "outputs": [],
   "source": [
    "def grad_portfolio_old(R, x):\n",
    "    \"\"\"\n",
    "        R -- object matrix (N x n)\n",
    "        x -- weights (n)\n",
    "    \"\"\"\n",
    "    return -np.sum(R / (R @ x).reshape(-1, 1), axis=0)\n",
    "\n",
    "def grad_portfolio(R, x):\n",
    "    \"\"\"\n",
    "        R -- object matrix (N x n)\n",
    "        x -- weights (n)\n",
    "    \"\"\"\n",
    "    denom = R.dot(x)\n",
    "    return -R.T.dot(1 / denom)"
   ]
  },
  {
   "cell_type": "markdown",
   "metadata": {},
   "source": [
    "$$\\nabla^2 g(x) = \\sum_{t = 1}^n \\frac{r_t r_t^T}{(r_t^T x)^2}$$"
   ]
  },
  {
   "cell_type": "code",
   "execution_count": 8,
   "metadata": {},
   "outputs": [],
   "source": [
    "def hess_portfolio_old(R, x):\n",
    "    \"\"\"\n",
    "        R -- object matrix (N x n)\n",
    "        x -- weights (n)\n",
    "    \"\"\"\n",
    "    dtype = R.dtype\n",
    "    result = np.zeros([n, n], dtype=dtype)\n",
    "    for i in range(N):\n",
    "        result += R[i].reshape(-1, 1) @ R[i].reshape(1, -1)\n",
    "        result /= (R[i] @ x) ** 2\n",
    "    return result\n",
    "\n",
    "def hess_portfolio(R, x):\n",
    "    \"\"\"\n",
    "        R -- object matrix (N x n)\n",
    "        x -- weights (n)\n",
    "    \"\"\"\n",
    "    dtype = R.dtype\n",
    "    Rx = R @ x\n",
    "    Z = R / Rx.reshape(-1, 1)\n",
    "    return np.einsum('ij,ik->jk', Z, Z, dtype=dtype)"
   ]
  },
  {
   "cell_type": "code",
   "execution_count": 9,
   "metadata": {},
   "outputs": [],
   "source": [
    "# %%time\n",
    "# foo = hess_portfolio(R, np.ones(n, dtype=np.float32) / n)"
   ]
  },
  {
   "cell_type": "code",
   "execution_count": 10,
   "metadata": {},
   "outputs": [],
   "source": [
    "# %%time\n",
    "# bar = hess_portfolio_old(R, np.ones(n, dtype=np.float32) / n)"
   ]
  },
  {
   "cell_type": "code",
   "execution_count": 11,
   "metadata": {},
   "outputs": [],
   "source": [
    "# foo"
   ]
  },
  {
   "cell_type": "code",
   "execution_count": 12,
   "metadata": {},
   "outputs": [],
   "source": [
    "# bar"
   ]
  },
  {
   "cell_type": "code",
   "execution_count": 70,
   "metadata": {},
   "outputs": [],
   "source": [
    "def frank_wolfe_portfolio(R, \n",
    "                          x_0=None,\n",
    "                          alpha_policy='standard',\n",
    "                          max_iter=50000,\n",
    "                          eps=0.001,\n",
    "                          print_every=100,\n",
    "                          dtype=np.float64,\n",
    "                          debug_info=False):\n",
    "    \"\"\"\n",
    "        R -- object matrix (N x n)\n",
    "        x_0 -- starting point (1 x n)\n",
    "        alpha_policy -- name of alpha changing policy function\n",
    "        eps -- epsilon\n",
    "        print_every -- print results every print_every steps\n",
    "    \"\"\"\n",
    "    x_0 = np.ones(R.shape[1]) / R.shape[1] if not x_0 else x_0\n",
    "    R = R.astype(dtype)\n",
    "    x_0 = x_0.astype(dtype)\n",
    "    \n",
    "    x = x_0\n",
    "    x_hist = []\n",
    "    alpha_hist = []\n",
    "    Gap_hist = []\n",
    "    Q_hist = []\n",
    "    time_hist = []\n",
    "    grad_hist = []\n",
    "    print('********* Algorithm starts *********')\n",
    "    for k in range(1, max_iter + 1):\n",
    "        start_time = time.time()\n",
    "        Q = portfolio(R, x)\n",
    "\n",
    "        grad_f = grad_portfolio(R, x) # 1 x n\n",
    "        \n",
    "        grad_min = np.min(grad_f)\n",
    "        s = np.array([el == grad_min for el in grad_f], dtype=dtype)\n",
    "        Gap = grad_f @ (x - s)\n",
    "        \n",
    "        if alpha_policy == 'standard':\n",
    "            alpha = alpha_standard(k)\n",
    "        elif alpha_policy == 'icml':\n",
    "            hessian = hess_portfolio(R, x)\n",
    "            alpha = alpha_icml(k, Gap, hessian, s, x)\n",
    "        alpha = dtype(alpha)\n",
    "            \n",
    "        # filling history\n",
    "        x_hist.append(x)\n",
    "        alpha_hist.append(alpha)\n",
    "        Gap_hist.append(Gap)\n",
    "        Q_hist.append(Q)\n",
    "        grad_hist.append(grad_f)    \n",
    "        \n",
    "        x = (1 - alpha) * x + alpha * s\n",
    "        \n",
    "        criterion = norm(x - x_hist[-1])\n",
    "        if criterion <= eps * max(1, norm(x_hist[-1])):\n",
    "            print('Convergence achieved!')\n",
    "            print(f'iter = {k}, stepsize = {alpha}, crit = {criterion}, Q={Q}')\n",
    "            break\n",
    "            \n",
    "        if k % print_every == 0 or k == 1:\n",
    "            if not debug_info:\n",
    "                print(f'iter = {k}, stepsize = {alpha}, criterion = {criterion}, Q={Q}')\n",
    "            else:\n",
    "                print(k)\n",
    "                print(f's = {np.nonzero(s)}')\n",
    "                print(f'Gap = {Gap}')\n",
    "                print(f'alpha = {alpha}')\n",
    "                print(f'criterion = {criterion}')\n",
    "                x_nz = x[np.nonzero(x)[0]]\n",
    "                print(x.dtype, R.dtype, Q.dtype, grad_f.dtype, grad_min.dtype, s.dtype, type(Gap), type(alpha), type(criterion))\n",
    "                print(f'x non zero: {list(zip(x_nz, np.nonzero(x)[0]))}\\n')\n",
    "        time_hist.append(time.time() - start_time)\n",
    "    return x, alpha_hist, Gap_hist, Q_hist, time_hist, grad_hist"
   ]
  },
  {
   "cell_type": "markdown",
   "metadata": {},
   "source": [
    "## 800"
   ]
  },
  {
   "cell_type": "code",
   "execution_count": 80,
   "metadata": {},
   "outputs": [],
   "source": [
    "data = scipy.io.loadmat('./data/syn_1000_800_10_50.mat')\n",
    "R = data['W']\n",
    "N, n = R.shape"
   ]
  },
  {
   "cell_type": "code",
   "execution_count": 81,
   "metadata": {},
   "outputs": [
    {
     "data": {
      "text/plain": [
       "(1000, 800)"
      ]
     },
     "execution_count": 81,
     "metadata": {},
     "output_type": "execute_result"
    }
   ],
   "source": [
    "N, n"
   ]
  },
  {
   "cell_type": "code",
   "execution_count": 90,
   "metadata": {},
   "outputs": [],
   "source": [
    "with open('data/1000_800_sol.pckl', 'rb') as f:\n",
    "    sol = pickle.load(f)"
   ]
  },
  {
   "cell_type": "markdown",
   "metadata": {},
   "source": [
    "Standard"
   ]
  },
  {
   "cell_type": "code",
   "execution_count": 83,
   "metadata": {
    "scrolled": true
   },
   "outputs": [
    {
     "name": "stdout",
     "output_type": "stream",
     "text": [
      "********* Algorithm starts *********\n",
      "iter = 1, stepsize = 1.0, criterion = 0.9993748045653342, Q=0.056350094467775266\n",
      "iter = 100, stepsize = 0.019801980198019802, criterion = 0.01439972987144384, Q=-4.5709985836724645\n",
      "iter = 200, stepsize = 0.009950248756218905, criterion = 0.010643115038563125, Q=-4.571361486807065\n",
      "iter = 300, stepsize = 0.006644518272425249, criterion = 0.00474717343950455, Q=-4.571366371263135\n",
      "iter = 400, stepsize = 0.004987531172069825, criterion = 0.005325926023236898, Q=-4.571405551488257\n",
      "iter = 500, stepsize = 0.003992015968063872, criterion = 0.0028443917899086406, Q=-4.571383013624775\n",
      "iter = 600, stepsize = 0.0033277870216306157, criterion = 0.0027309115621038586, Q=-4.571399337896671\n",
      "iter = 700, stepsize = 0.0028530670470756064, criterion = 0.0020328296268182625, Q=-4.5713975889606\n",
      "iter = 800, stepsize = 0.0024968789013732834, criterion = 0.0017757431317911353, Q=-4.571411103432629\n",
      "iter = 900, stepsize = 0.0022197558268590455, criterion = 0.0023684748160920244, Q=-4.571412822167425\n",
      "iter = 1000, stepsize = 0.001998001998001998, criterion = 0.0014208516939824994, Q=-4.571409363844826\n",
      "iter = 1100, stepsize = 0.0018165304268846503, criterion = 0.001744365465169981, Q=-4.5714123561704465\n",
      "iter = 1200, stepsize = 0.0016652789342214821, criterion = 0.0011846884911353784, Q=-4.571410898554925\n",
      "iter = 1300, stepsize = 0.0015372790161414297, criterion = 0.0010925285614887066, Q=-4.571413350392638\n",
      "iter = 1400, stepsize = 0.0014275517487508922, criterion = 0.0010154878306688287, Q=-4.571410356572967\n",
      "iter = 1500, stepsize = 0.0013324450366422385, criterion = 0.0010927772188853413, Q=-4.571411967146167\n",
      "iter = 1600, stepsize = 0.0012492192379762648, criterion = 0.0010248482202859593, Q=-4.571411345893177\n",
      "iter = 1700, stepsize = 0.0011757789535567313, criterion = 0.000835960360358565, Q=-4.5714128044654165\n",
      "iter = 1800, stepsize = 0.001110494169905608, criterion = 0.0012406908300893167, Q=-4.571413267234363\n",
      "iter = 1900, stepsize = 0.0010520778537611783, criterion = 0.000748020185812335, Q=-4.571412071069118\n",
      "iter = 2000, stepsize = 0.0009995002498750624, criterion = 0.0009594654888730549, Q=-4.571412858406566\n",
      "iter = 2100, stepsize = 0.0009519276534983341, criterion = 0.0006769803501195223, Q=-4.5714121268190375\n",
      "iter = 2200, stepsize = 0.0009086778736937755, criterion = 0.0006458538757244358, Q=-4.571413090733882\n",
      "iter = 2300, stepsize = 0.000869187309865276, criterion = 0.0009273738366495579, Q=-4.571412769371467\n",
      "iter = 2400, stepsize = 0.0008329862557267805, criterion = 0.0005920804900382441, Q=-4.571412476737727\n",
      "iter = 2500, stepsize = 0.0007996801279488205, criterion = 0.0008531320243345923, Q=-4.571412847111529\n",
      "iter = 2600, stepsize = 0.0007689350249903883, criterion = 0.0008203648092179109, Q=-4.571413403329689\n",
      "iter = 2700, stepsize = 0.0007404664938911515, criterion = 0.0005261551740532338, Q=-4.57141279981356\n",
      "iter = 2800, stepsize = 0.0007140307033202428, criterion = 0.0005854866504316159, Q=-4.571413201876439\n",
      "iter = 2900, stepsize = 0.0006894174422612892, criterion = 0.0004901010986695808, Q=-4.5714131167009615\n",
      "iter = 3000, stepsize = 0.0006664445184938354, criterion = 0.0006395862102343687, Q=-4.571413342097725\n",
      "iter = 3100, stepsize = 0.0006449532408900354, criterion = 0.0005287326676669846, Q=-4.571413513884927\n",
      "iter = 3200, stepsize = 0.0006248047485160887, criterion = 0.0005122043747510992, Q=-4.57141318304212\n",
      "iter = 3300, stepsize = 0.0006058770069675856, criterion = 0.0004968446126651617, Q=-4.571413285865587\n",
      "iter = 3400, stepsize = 0.0005880623346074683, criterion = 0.00041789813455302214, Q=-4.571413089813986\n",
      "iter = 3500, stepsize = 0.0005712653527563553, criterion = 0.0005482103427110215, Q=-4.571413482689689\n",
      "iter = 3600, stepsize = 0.0005554012774229381, criterion = 0.00045536605243375316, Q=-4.571413462825005\n",
      "iter = 3700, stepsize = 0.0005403944879762226, criterion = 0.000443052999245255, Q=-4.571413291286195\n",
      "iter = 3800, stepsize = 0.0005261773217574323, criterion = 0.0004315140027371864, Q=-4.571413239598567\n",
      "iter = 3900, stepsize = 0.0005126890540886952, criterion = 0.0003642992581351609, Q=-4.571413292143719\n",
      "iter = 4000, stepsize = 0.0004998750312421895, criterion = 0.0004097688226582612, Q=-4.571413472372735\n",
      "iter = 4100, stepsize = 0.000487685930260912, criterion = 0.00034654732607122785, Q=-4.57141313853174\n",
      "iter = 4200, stepsize = 0.00047607712449416806, criterion = 0.0003903525308589572, Q=-4.571413275899177\n",
      "iter = 4300, stepsize = 0.00046500813764240875, criterion = 0.0004463173831094176, Q=-4.5714132724523635\n",
      "iter = 4400, stepsize = 0.0004544421722335833, criterion = 0.00032288715384190954, Q=-4.5714133397447\n",
      "iter = 4500, stepsize = 0.00044434570095534326, criterion = 0.00036428277241044263, Q=-4.571413395057636\n",
      "iter = 4600, stepsize = 0.0004346881112801565, criterion = 0.0003089262329403046, Q=-4.571413347374997\n",
      "iter = 4700, stepsize = 0.00042544139544777704, criterion = 0.0003022791486716655, Q=-4.571413493688315\n",
      "iter = 4800, stepsize = 0.00041657987919183504, criterion = 0.0003998130014196372, Q=-4.571413429550291\n",
      "iter = 4900, stepsize = 0.00040807998367680065, criterion = 0.0003345702515896927, Q=-4.571413455878825\n",
      "iter = 5000, stepsize = 0.0003999200159968006, criterion = 0.0003278753042667587, Q=-4.571413370709071\n",
      "iter = 5100, stepsize = 0.00039207998431680063, criterion = 0.00027862344961168814, Q=-4.571413445504826\n",
      "iter = 5200, stepsize = 0.0003845414343395501, criterion = 0.00036906172015781094, Q=-4.571413348750484\n",
      "iter = 5300, stepsize = 0.0003772873042822109, criterion = 0.0003620849782190285, Q=-4.571413483751556\n",
      "iter = 5400, stepsize = 0.00037030179596371043, criterion = 0.0002631221003129476, Q=-4.571413470629216\n",
      "iter = 5500, stepsize = 0.00036357025995273584, criterion = 0.00029809290995010893, Q=-4.571413402534137\n",
      "iter = 5600, stepsize = 0.0003570790930191037, criterion = 0.0002537346211138034, Q=-4.57141346810786\n",
      "iter = 5700, stepsize = 0.00035081564637782847, criterion = 0.00033667900886838936, Q=-4.571413419125662\n",
      "iter = 5800, stepsize = 0.0003447681434235477, criterion = 0.0002826461841670554, Q=-4.571413479977277\n",
      "iter = 5900, stepsize = 0.0003389256058295204, criterion = 0.0002778532919223739, Q=-4.571413343446472\n",
      "iter = 6000, stepsize = 0.0003332777870354941, criterion = 0.00023685487173283763, Q=-4.5714133674681285\n",
      "iter = 6100, stepsize = 0.00032781511227667593, criterion = 0.00023292789976412222, Q=-4.571413446783671\n",
      "iter = 6200, stepsize = 0.0003225286244154169, criterion = 0.0003095206314295033, Q=-4.571413433006811\n",
      "iter = 6300, stepsize = 0.0003174099349309633, criterion = 0.000260232956362441, Q=-4.571413442491606\n",
      "iter = 6400, stepsize = 0.0003124511795032026, criterion = 0.000221987016199754, Q=-4.571413477008318\n",
      "iter = 6500, stepsize = 0.00030764497769573913, criterion = 0.0003281662148119456, Q=-4.571413535443684\n",
      "iter = 6600, stepsize = 0.0003029843963035904, criterion = 0.0002152678785019991, Q=-4.571413410546741\n",
      "iter = 6700, stepsize = 0.00029846291598268916, criterion = 0.00028643826131891846, Q=-4.571413503112579\n",
      "iter = 6800, stepsize = 0.00029407440082340834, criterion = 0.00032853711985131345, Q=-4.571413532837847\n",
      "iter = 6900, stepsize = 0.0002898130705694827, criterion = 0.0002058962909244487, Q=-4.571413519306639\n",
      "iter = 7000, stepsize = 0.00028567347521782604, criterion = 0.00023418059551205374, Q=-4.571413535064616\n",
      "iter = 7100, stepsize = 0.0002816504717645402, criterion = 0.000230880824395171, Q=-4.571413441329202\n",
      "iter = 7200, stepsize = 0.0002777392028884877, criterion = 0.0002665408765506922, Q=-4.5714135297686465\n",
      "iter = 7300, stepsize = 0.00027393507738665936, criterion = 0.0001946404290420841, Q=-4.571413453305674\n",
      "iter = 7400, stepsize = 0.00027023375219564923, criterion = 0.00019198063549501502, Q=-4.5714135254502795\n",
      "iter = 7500, stepsize = 0.0002666311158512198, criterion = 0.0002185827001816267, Q=-4.571413510049515\n",
      "iter = 7600, stepsize = 0.0002631232732535193, criterion = 0.00018694676341116852, Q=-4.57141347810284\n",
      "iter = 7700, stepsize = 0.0002597065316192702, criterion = 0.0002492282571430634, Q=-4.571413526396148\n",
      "iter = 7800, stepsize = 0.00025637738751442123, criterion = 0.00018215862088635063, Q=-4.571413470626274\n",
      "iter = 7900, stepsize = 0.00025313251487153526, criterion = 0.00020749946297597335, Q=-4.571413507620281\n",
      "iter = 8000, stepsize = 0.00024996875390576176, criterion = 0.00020492045655885004, Q=-4.571413441879605\n",
      "iter = 8100, stepsize = 0.0002468831008517467, criterion = 0.00017540298725422177, Q=-4.571413484686019\n",
      "iter = 8200, stepsize = 0.00024387269845140838, criterion = 0.00026013426689424897, Q=-4.5714134966434425\n",
      "iter = 8300, stepsize = 0.00024093482712926153, criterion = 0.0001975083529949826, Q=-4.571413525067154\n",
      "iter = 8400, stepsize = 0.00023806689679800025, criterion = 0.00016913912969662923, Q=-4.571413524604857\n",
      "iter = 8500, stepsize = 0.00023526643924244207, criterion = 0.00022579257341714064, Q=-4.57141351412223\n",
      "iter = 8600, stepsize = 0.0002325311010347634, criterion = 0.00016521013786228417, Q=-4.571413506528646\n",
      "iter = 8700, stepsize = 0.00022985863693828295, criterion = 0.00018841478855618213, Q=-4.5714135226315395\n",
      "iter = 8800, stepsize = 0.00022724690376093625, criterion = 0.00018629624461115747, Q=-4.571413526513984\n",
      "iter = 8900, stepsize = 0.00022469385462307607, criterion = 0.00018420190352837454, Q=-4.571413471187103\n",
      "iter = 9000, stepsize = 0.00022219753360737697, criterion = 0.00021324411072306835, Q=-4.5714135311683854\n",
      "iter = 9100, stepsize = 0.0002197560707614548, criterion = 0.0001561184295440829, Q=-4.571413485658222\n",
      "iter = 9200, stepsize = 0.0002173676774263667, criterion = 0.00017818462225560464, Q=-4.571413526737812\n",
      "iter = 9300, stepsize = 0.00021503064186646596, criterion = 0.00015278384233014054, Q=-4.57141351390889\n",
      "iter = 9400, stepsize = 0.00021274332517817252, criterion = 0.0002041704166690017, Q=-4.571413502762887\n",
      "iter = 9500, stepsize = 0.00021050415745710977, criterion = 0.00020201695490878465, Q=-4.571413529463671\n",
      "iter = 9600, stepsize = 0.00020831163420477033, criterion = 0.00014798518354017262, Q=-4.571413495519478\n",
      "iter = 9700, stepsize = 0.00020616431295742706, criterion = 0.00016900815801745752, Q=-4.57141351529817\n",
      "iter = 9800, stepsize = 0.00020406081012141618, criterion = 0.0001449824253465135, Q=-4.571413483291675\n",
      "iter = 9900, stepsize = 0.000201999798000202, criterion = 0.00021547195209829336, Q=-4.571413524758904\n",
      "iter = 10000, stepsize = 0.00019998000199980003, criterion = 0.0001919128587757541, Q=-4.571413514130665\n",
      "iter = 10100, stepsize = 0.000198000198000198, criterion = 0.00014067027343194987, Q=-4.571413518324789\n",
      "iter = 10200, stepsize = 0.00019605920988138416, criterion = 0.0002091329312790291, Q=-4.5714135468146555\n",
      "iter = 10300, stepsize = 0.00019415590719347637, criterion = 0.00013794195034305345, Q=-4.5714135096760575\n",
      "iter = 10400, stepsize = 0.00019228920296125374, criterion = 0.0001576200765610877, Q=-4.571413532010433\n",
      "iter = 10500, stepsize = 0.00019045805161413198, criterion = 0.00015612749628174036, Q=-4.571413508848782\n",
      "iter = 10600, stepsize = 0.00018866144703329874, criterion = 0.00013403279165239456, Q=-4.57141353633553\n",
      "iter = 10700, stepsize = 0.00018689842070834502, criterion = 0.00020879259353653837, Q=-4.5714135480393985\n",
      "iter = 10800, stepsize = 0.00018516803999629665, criterion = 0.000131553594394975, Q=-4.571413519488194\n",
      "iter = 10900, stepsize = 0.00018346940647647004, criterion = 0.00015039660791409763, Q=-4.571413526296158\n",
      "iter = 11000, stepsize = 0.000181801654395055, criterion = 0.00014903709751911806, Q=-4.571413513357234\n",
      "iter = 11100, stepsize = 0.00018016394919376631, criterion = 0.00012799347222607968, Q=-4.571413539912528\n",
      "iter = 11200, stepsize = 0.00017855548611731096, criterion = 0.00012686614036541547, Q=-4.571413485456007\n",
      "iter = 11300, stepsize = 0.00017697548889478808, criterion = 0.00012573077678153095, Q=-4.571413516746524\n",
      "iter = 11400, stepsize = 0.00017542320849048328, criterion = 0.00016834787437036057, Q=-4.5714135264185645\n",
      "iter = 11500, stepsize = 0.00017389792191983307, criterion = 0.00012355200176409847, Q=-4.571413510784501\n",
      "iter = 11600, stepsize = 0.000172398931126627, criterion = 0.0001224749408390259, Q=-4.571413532494145\n",
      "iter = 11700, stepsize = 0.0001709255619177848, criterion = 0.00018232377189075766, Q=-4.571413528093491\n",
      "iter = 11800, stepsize = 0.00016947716295229217, criterion = 0.00012041099763729216, Q=-4.571413523055579\n",
      "iter = 11900, stepsize = 0.00016805310478111083, criterion = 0.00016127047770842605, Q=-4.5714135276468415\n",
      "iter = 12000, stepsize = 0.00016665277893508876, criterion = 0.00017776443176516994, Q=-4.571413545732928\n",
      "iter = 12100, stepsize = 0.00016527559705809436, criterion = 0.00011741049587471477, Q=-4.571413519523775\n",
      "iter = 12200, stepsize = 0.0001639209900827801, criterion = 0.0001343733843391354, Q=-4.571413533403449\n",
      "iter = 12300, stepsize = 0.00016258840744654907, criterion = 0.00011551444344354345, Q=-4.571413530041879\n",
      "iter = 12400, stepsize = 0.00016127731634545602, criterion = 0.00015476564504392874, Q=-4.571413540450019\n",
      "iter = 12500, stepsize = 0.00015998720102391808, criterion = 0.00013114270561563908, Q=-4.571413546809694\n",
      "iter = 12600, stepsize = 0.00015871756209824618, criterion = 0.00013010141971054397, Q=-4.5714135264031786\n",
      "iter = 12700, stepsize = 0.0001574679159121329, criterion = 0.00012908778299197823, Q=-4.571413529285063\n",
      "iter = 12800, stepsize = 0.0001562377939223498, criterion = 0.00011099495793237106, Q=-4.571413517850186\n",
      "iter = 12900, stepsize = 0.0001550267421130145, criterion = 0.00014876520723666221, Q=-4.571413542924791\n",
      "iter = 13000, stepsize = 0.00015383432043688947, criterion = 0.00012610344631319695, Q=-4.5714135394543085\n",
      "iter = 13100, stepsize = 0.00015266010228226853, criterion = 0.00012514034843272902, Q=-4.571413524105001\n",
      "iter = 13200, stepsize = 0.00015150367396409362, criterion = 0.00014539574885531428, Q=-4.571413534305657\n",
      "iter = 13300, stepsize = 0.00015036463423802722, criterion = 0.00010682101592870086, Q=-4.571413522839819\n",
      "iter = 13400, stepsize = 0.00014924259383628088, criterion = 0.00012233375845361244, Q=-4.571413537252097\n",
      "iter = 13500, stepsize = 0.00014813717502407228, criterion = 0.00012143564746894814, Q=-4.571413520645359\n",
      "iter = 13600, stepsize = 0.00014704801117564886, criterion = 0.00010446500196415228, Q=-4.571413540737176\n",
      "iter = 13700, stepsize = 0.00014597474636887818, criterion = 0.00014008619232348568, Q=-4.571413523724919\n",
      "iter = 13800, stepsize = 0.00014491703499746396, criterion = 0.00011879101606231349, Q=-4.571413535916712\n",
      "iter = 13900, stepsize = 0.00014387454139989928, criterion = 0.00010220751359859443, Q=-4.571413543794497\n",
      "iter = 14000, stepsize = 0.00014284693950432112, criterion = 0.00010148738399448547, Q=-4.57141352904522\n",
      "iter = 14100, stepsize = 0.00014183391248847598, criterion = 0.00010075953802722871, Q=-4.571413545099139\n",
      "iter = 14200, stepsize = 0.00014083515245405255, criterion = 0.00013515188958118228, Q=-4.571413533954614\n",
      "Convergence achieved!\n",
      "iter = 14209, stepsize = 0.00014074595355383532, crit = 9.998737679720534e-05, Q=-4.571413537868807\n",
      "CPU times: user 2min 10s, sys: 52.9 s, total: 3min 3s\n",
      "Wall time: 52 s\n"
     ]
    }
   ],
   "source": [
    "%%time\n",
    "x, \\\n",
    "alpha_hist, \\\n",
    "Gap_hist, \\\n",
    "Q_hist, \\\n",
    "time_hist, \\\n",
    "grad_hist = frank_wolfe_portfolio(R, \n",
    "                                  eps=1e-4, \n",
    "                                  max_iter=50000, \n",
    "                                  alpha_policy='standard', \n",
    "                                  print_every=100)"
   ]
  },
  {
   "cell_type": "code",
   "execution_count": 86,
   "metadata": {},
   "outputs": [],
   "source": [
    "results[800]['standard'] = {\n",
    "    'x': x,\n",
    "    'alpha_hist': alpha_hist,\n",
    "    'Gap_hist': Gap_hist,\n",
    "    'Q_hist': Q_hist,\n",
    "    'time_hist': time_hist,\n",
    "    'grad_hist': grad_hist\n",
    "}"
   ]
  },
  {
   "cell_type": "code",
   "execution_count": 92,
   "metadata": {},
   "outputs": [
    {
     "data": {
      "text/plain": [
       "0.00016788759341065064"
      ]
     },
     "execution_count": 92,
     "metadata": {},
     "output_type": "execute_result"
    }
   ],
   "source": [
    "error = norm(results[800]['standard']['x'] - sol) / max(1, norm(sol))\n",
    "results[800]['standard']['error'] = error\n",
    "error"
   ]
  },
  {
   "cell_type": "markdown",
   "metadata": {},
   "source": [
    "ICML"
   ]
  },
  {
   "cell_type": "code",
   "execution_count": 87,
   "metadata": {
    "scrolled": true
   },
   "outputs": [
    {
     "name": "stdout",
     "output_type": "stream",
     "text": [
      "********* Algorithm starts *********\n",
      "iter = 1, stepsize = 0.4966381523767165, criterion = 0.4963276564711698, Q=0.056350094467775266\n",
      "iter = 100, stepsize = 0.0077612352109741245, criterion = 0.007476288898381706, Q=-4.561672285385955\n",
      "iter = 200, stepsize = 0.0062920156756810725, criterion = 0.005176060091226538, Q=-4.566811953886289\n",
      "iter = 300, stepsize = 0.003720398289094894, criterion = 0.003055330690062332, Q=-4.568407811784301\n",
      "iter = 400, stepsize = 0.0017153760564116564, criterion = 0.0016471490991843889, Q=-4.5691863748334205\n",
      "iter = 500, stepsize = 0.0012289791831255796, criterion = 0.0013116188349367604, Q=-4.5696459287562465\n",
      "iter = 600, stepsize = 0.0018159054715261112, criterion = 0.001489809081690829, Q=-4.569946541534114\n",
      "iter = 700, stepsize = 0.0013659869302551928, criterion = 0.0011203432617918909, Q=-4.570159265020136\n",
      "iter = 800, stepsize = 0.0014551665508736255, criterion = 0.001193665911943958, Q=-4.5703184088386415\n",
      "iter = 900, stepsize = 0.0007602929079030464, criterion = 0.0007297990247983727, Q=-4.570442370097357\n",
      "iter = 1000, stepsize = 0.0007910370306158457, criterion = 0.000844137902832929, Q=-4.570541335662252\n",
      "iter = 1100, stepsize = 0.000999241429542656, criterion = 0.0008194588554394678, Q=-4.570621777736237\n",
      "iter = 1200, stepsize = 0.0009807361153723907, criterion = 0.0008042971092157544, Q=-4.5706884068475855\n",
      "iter = 1300, stepsize = 0.0005606652408366459, criterion = 0.0005381433768718399, Q=-4.570745035222736\n",
      "iter = 1400, stepsize = 0.001077528564700119, criterion = 0.0007658521505334213, Q=-4.570793044168047\n",
      "iter = 1500, stepsize = 0.0008187148967456776, criterion = 0.0005817606854291002, Q=-4.570834643351031\n",
      "iter = 1600, stepsize = 0.0007113107334625178, criterion = 0.0005832517970895265, Q=-4.570871406180592\n",
      "iter = 1700, stepsize = 0.0006591263414776136, criterion = 0.0005404391507046215, Q=-4.570903545049637\n",
      "iter = 1800, stepsize = 0.00041143257851534255, criterion = 0.0003948836994500726, Q=-4.570932245665119\n",
      "iter = 1900, stepsize = 0.0008113987620132533, criterion = 0.0005766254882687375, Q=-4.570957661763699\n",
      "iter = 2000, stepsize = 0.0007482197313901132, criterion = 0.0005317063913128718, Q=-4.570980597945814\n",
      "iter = 2100, stepsize = 0.00032296205688436434, criterion = 0.00030995603044922914, Q=-4.571001486076967\n",
      "iter = 2200, stepsize = 0.0002186354748522355, criterion = 0.0002442662066117648, Q=-4.571020411225466\n",
      "iter = 2300, stepsize = 0.0003824327551567737, criterion = 0.0003670593464402062, Q=-4.571037493736204\n",
      "iter = 2400, stepsize = 0.0006057143290810811, criterion = 0.00043040089702316516, Q=-4.571053280598834\n",
      "iter = 2500, stepsize = 0.000610055963508311, criterion = 0.0004334940221813238, Q=-4.571067726247216\n",
      "iter = 2600, stepsize = 0.0002497364824451438, criterion = 0.000239671167363984, Q=-4.571081217697186\n",
      "iter = 2700, stepsize = 0.00022571753383043193, criterion = 0.00024078590271790163, Q=-4.571093635756155\n",
      "iter = 2800, stepsize = 0.00048185422361849843, criterion = 0.00034236389753779, Q=-4.571105116054539\n",
      "iter = 2900, stepsize = 0.0004716317474793136, criterion = 0.0003351015011619845, Q=-4.571115787450007\n",
      "iter = 3000, stepsize = 0.0001577236671147661, criterion = 0.00017620778355375083, Q=-4.571125796989737\n",
      "iter = 3100, stepsize = 0.00030159391348323687, criterion = 0.00028946210196394113, Q=-4.571135035450416\n",
      "iter = 3200, stepsize = 0.0001829725349563977, criterion = 0.000195182212688287, Q=-4.571143855776347\n",
      "iter = 3300, stepsize = 0.00039433475041508205, criterion = 0.0002801666548240435, Q=-4.571152054546321\n",
      "iter = 3400, stepsize = 0.0004087653835212634, criterion = 0.00029042584478259026, Q=-4.571159780697223\n",
      "iter = 3500, stepsize = 0.0002029709637361201, criterion = 0.00019478911784864115, Q=-4.571167094865261\n",
      "iter = 3600, stepsize = 0.00032852512357337606, criterion = 0.0002693289241931433, Q=-4.571173953158821\n",
      "iter = 3700, stepsize = 0.0002969611867111808, criterion = 0.00024344510588635097, Q=-4.5711804345225815\n",
      "iter = 3800, stepsize = 0.0001396990494136594, criterion = 0.00014901674978102521, Q=-4.571186609032125\n",
      "iter = 3900, stepsize = 0.00035359809134695485, criterion = 0.000251222334236299, Q=-4.57119244010529\n",
      "iter = 4000, stepsize = 0.00017610971748395352, criterion = 0.00016900891769473065, Q=-4.5711980195567525\n",
      "iter = 4100, stepsize = 0.00029297593274422404, criterion = 0.00024018056659852346, Q=-4.571203283259659\n",
      "iter = 4200, stepsize = 0.00025635143476297723, criterion = 0.00021014841350430123, Q=-4.571208298445883\n",
      "iter = 4300, stepsize = 0.00015530023251771773, criterion = 0.0001490344216688591, Q=-4.571213106477892\n",
      "iter = 4400, stepsize = 0.00013672078130765538, criterion = 0.00014584081000877745, Q=-4.571217705484021\n",
      "iter = 4500, stepsize = 0.00023810395678416625, criterion = 0.00019518776696065564, Q=-4.571222065439807\n",
      "iter = 4600, stepsize = 0.00020469919085153328, criterion = 0.00016779918521642122, Q=-4.571226222080901\n",
      "iter = 4700, stepsize = 0.000244408822601243, criterion = 0.00020035788865784798, Q=-4.571230209173941\n",
      "iter = 4800, stepsize = 0.00014077776509105423, criterion = 0.00013509755209066923, Q=-4.57123405139849\n",
      "iter = 4900, stepsize = 0.00015992367187716357, criterion = 0.0001705965484398542, Q=-4.571237743788199\n",
      "iter = 5000, stepsize = 0.00021791558773221622, criterion = 0.00017863645673941116, Q=-4.571241276404898\n",
      "iter = 5100, stepsize = 0.00022902379906061612, criterion = 0.00018774468767719204, Q=-4.571244656940582\n",
      "iter = 5200, stepsize = 0.00013917144319417775, criterion = 0.0001335565082322055, Q=-4.571247928070214\n",
      "iter = 5300, stepsize = 0.00028276827245783323, criterion = 0.00020089502004024277, Q=-4.571251046027024\n",
      "Convergence achieved!\n",
      "iter = 5301, stepsize = 8.908038499552284e-05, crit = 9.951685469542307e-05, Q=-4.571251093416123\n",
      "CPU times: user 59min 25s, sys: 13min 55s, total: 1h 13min 21s\n",
      "Wall time: 48min 36s\n"
     ]
    }
   ],
   "source": [
    "%%time\n",
    "x, \\\n",
    "alpha_hist, \\\n",
    "Gap_hist, \\\n",
    "Q_hist, \\\n",
    "time_hist, \\\n",
    "grad_hist = frank_wolfe_portfolio(R, \n",
    "                                  eps=1e-4, \n",
    "                                  max_iter=50000, \n",
    "                                  alpha_policy='icml', \n",
    "                                  print_every=100)"
   ]
  },
  {
   "cell_type": "code",
   "execution_count": 88,
   "metadata": {},
   "outputs": [],
   "source": [
    "results[800]['icml'] = {\n",
    "    'x': x,\n",
    "    'alpha_hist': alpha_hist,\n",
    "    'Gap_hist': Gap_hist,\n",
    "    'Q_hist': Q_hist,\n",
    "    'time_hist': time_hist,\n",
    "    'grad_hist': grad_hist\n",
    "}"
   ]
  },
  {
   "cell_type": "code",
   "execution_count": 95,
   "metadata": {},
   "outputs": [
    {
     "data": {
      "text/plain": [
       "0.00014503993153316166"
      ]
     },
     "execution_count": 95,
     "metadata": {},
     "output_type": "execute_result"
    }
   ],
   "source": [
    "error = norm(results[800]['icml']['x'] - sol) / max(1, norm(sol))\n",
    "results[800]['icml']['error'] = error\n",
    "error"
   ]
  },
  {
   "cell_type": "markdown",
   "metadata": {},
   "source": [
    "## 1200"
   ]
  },
  {
   "cell_type": "code",
   "execution_count": 154,
   "metadata": {},
   "outputs": [],
   "source": [
    "n = 1200\n",
    "data = scipy.io.loadmat('./data/syn_1000_1200_10_50.mat')\n",
    "R = data['W']\n",
    "N, n = R.shape"
   ]
  },
  {
   "cell_type": "code",
   "execution_count": 155,
   "metadata": {},
   "outputs": [
    {
     "data": {
      "text/plain": [
       "(1000, 1200)"
      ]
     },
     "execution_count": 155,
     "metadata": {},
     "output_type": "execute_result"
    }
   ],
   "source": [
    "N, n"
   ]
  },
  {
   "cell_type": "code",
   "execution_count": 156,
   "metadata": {},
   "outputs": [],
   "source": [
    "with open('data/1000_1200_sol.pckl', 'rb') as f:\n",
    "    sol = pickle.load(f)"
   ]
  },
  {
   "cell_type": "markdown",
   "metadata": {},
   "source": [
    "standard"
   ]
  },
  {
   "cell_type": "code",
   "execution_count": 54,
   "metadata": {
    "scrolled": true
   },
   "outputs": [
    {
     "name": "stdout",
     "output_type": "stream",
     "text": [
      "********* Algorithm starts *********\n",
      "iter = 1, stepsize = 1.0, criterion = 0.9995832464915899, Q=0.0803034692757601\n",
      "iter = 100, stepsize = 0.019801980198019802, criterion = 0.02337764439344425, Q=-5.11870619823452\n",
      "iter = 200, stepsize = 0.009950248756218905, criterion = 0.003469138327959084, Q=-5.118834764907804\n",
      "iter = 300, stepsize = 0.006644518272425249, criterion = 0.00228260401139096, Q=-5.1189300049281945\n",
      "iter = 400, stepsize = 0.004987531172069825, criterion = 0.005648456283809649, Q=-5.1190063635426375\n",
      "iter = 500, stepsize = 0.003992015968063872, criterion = 0.004661311656013507, Q=-5.119006304956166\n",
      "iter = 600, stepsize = 0.0033277870216306157, criterion = 0.0011270008918897263, Q=-5.1190106632526025\n",
      "iter = 700, stepsize = 0.0028530670470756064, criterion = 0.0009676653382835549, Q=-5.119006966735721\n",
      "iter = 800, stepsize = 0.0024968789013732834, criterion = 0.0008478915798291289, Q=-5.119009173003672\n",
      "iter = 900, stepsize = 0.0022197558268590455, criterion = 0.002512297351294069, Q=-5.1190176374881755\n",
      "iter = 1000, stepsize = 0.001998001998001998, criterion = 0.0024364081772452794, Q=-5.119016977610988\n",
      "iter = 1100, stepsize = 0.0018165304268846503, criterion = 0.000614859731148841, Q=-5.119016844348285\n",
      "iter = 1200, stepsize = 0.0016652789342214821, criterion = 0.0005637778965614994, Q=-5.119015568488941\n",
      "iter = 1300, stepsize = 0.0015372790161414297, criterion = 0.0005209957749613454, Q=-5.119014532108163\n",
      "iter = 1400, stepsize = 0.0014275517487508922, criterion = 0.001615114260145415, Q=-5.119018220141791\n",
      "iter = 1500, stepsize = 0.0013324450366422385, criterion = 0.0004504064528642333, Q=-5.11901881550096\n",
      "iter = 1600, stepsize = 0.0012492192379762648, criterion = 0.0004226902781148429, Q=-5.119017739341746\n",
      "iter = 1700, stepsize = 0.0011757789535567313, criterion = 0.00039817757297158646, Q=-5.119017345722611\n",
      "iter = 1800, stepsize = 0.001110494169905608, criterion = 0.0013064718017270125, Q=-5.119018653870447\n",
      "iter = 1900, stepsize = 0.0010520778537611783, criterion = 0.001228088335225046, Q=-5.119018350810534\n",
      "iter = 2000, stepsize = 0.0009995002498750624, criterion = 0.00033792583932337007, Q=-5.119018117985876\n",
      "iter = 2100, stepsize = 0.0009519276534983341, criterion = 0.00032207937265911105, Q=-5.1190181064919535\n",
      "iter = 2200, stepsize = 0.0009086778736937755, criterion = 0.00030766147739996985, Q=-5.119017798578472\n",
      "iter = 2300, stepsize = 0.000869187309865276, criterion = 0.0010224408141268385, Q=-5.1190184127274305\n",
      "iter = 2400, stepsize = 0.0008329862557267805, criterion = 0.0002816222413096253, Q=-5.119018783437724\n",
      "iter = 2500, stepsize = 0.0007996801279488205, criterion = 0.0002705377434316436, Q=-5.11901847116463\n",
      "iter = 2600, stepsize = 0.0007689350249903883, criterion = 0.0008976570920318696, Q=-5.119019014958573\n",
      "iter = 2700, stepsize = 0.0007404664938911515, criterion = 0.00025018187507715937, Q=-5.119019133153648\n",
      "iter = 2800, stepsize = 0.0007140307033202428, criterion = 0.00024139730489023035, Q=-5.119018736018616\n",
      "iter = 2900, stepsize = 0.0006894174422612892, criterion = 0.0002331329017341922, Q=-5.119018563600337\n",
      "iter = 3000, stepsize = 0.0006664445184938354, criterion = 0.0008138922133535598, Q=-5.119019261487474\n",
      "iter = 3100, stepsize = 0.0006449532408900354, criterion = 0.0007529287913015226, Q=-5.119018922771065\n",
      "iter = 3200, stepsize = 0.0006248047485160887, criterion = 0.00021116972325746193, Q=-5.11901877326007\n",
      "iter = 3300, stepsize = 0.0006058770069675856, criterion = 0.00020487533310313723, Q=-5.119018678128083\n",
      "iter = 3400, stepsize = 0.0005880623346074683, criterion = 0.0006917289261508401, Q=-5.119019202010956\n",
      "iter = 3500, stepsize = 0.0005712653527563553, criterion = 0.0001930007908554405, Q=-5.119019047789649\n",
      "iter = 3600, stepsize = 0.0005554012774229381, criterion = 0.00018772948871135017, Q=-5.119019106298111\n",
      "iter = 3700, stepsize = 0.0005403944879762226, criterion = 0.00018274110090455732, Q=-5.11901891684743\n",
      "iter = 3800, stepsize = 0.0005261773217574323, criterion = 0.00017795831480864698, Q=-5.11901845733043\n",
      "iter = 3900, stepsize = 0.0005126890540886952, criterion = 0.00017323288995902634, Q=-5.119019107810185\n",
      "iter = 4000, stepsize = 0.0004998750312421895, criterion = 0.0001689290350319779, Q=-5.119018978738161\n",
      "iter = 4100, stepsize = 0.000487685930260912, criterion = 0.00016487931714943664, Q=-5.119018915812868\n",
      "iter = 4200, stepsize = 0.00047607712449416806, criterion = 0.0001608083584504638, Q=-5.119019268758914\n",
      "iter = 4300, stepsize = 0.00046500813764240875, criterion = 0.0005469795742232348, Q=-5.11901909074567\n",
      "iter = 4400, stepsize = 0.0004544421722335833, criterion = 0.00015359202346164162, Q=-5.119019020149813\n",
      "iter = 4500, stepsize = 0.00044434570095534326, criterion = 0.00015023566675380327, Q=-5.119018926443758\n",
      "iter = 4600, stepsize = 0.0004346881112801565, criterion = 0.0005074193468937283, Q=-5.119019235023571\n",
      "iter = 4700, stepsize = 0.00042544139544777704, criterion = 0.00014374598730403844, Q=-5.119019120332599\n",
      "iter = 4800, stepsize = 0.00041657987919183504, criterion = 0.00014080214728864145, Q=-5.119019102299955\n",
      "iter = 4900, stepsize = 0.00040807998367680065, criterion = 0.00048003048742148604, Q=-5.119019256065485\n",
      "iter = 5000, stepsize = 0.0003999200159968006, criterion = 0.00045247511750665743, Q=-5.119019101767057\n",
      "iter = 5100, stepsize = 0.00039207998431680063, criterion = 0.00013248843427327652, Q=-5.119019203821047\n",
      "iter = 5200, stepsize = 0.0003845414343395501, criterion = 0.0001299568737309944, Q=-5.119019024821637\n",
      "iter = 5300, stepsize = 0.0003772873042822109, criterion = 0.00012754737366678847, Q=-5.119018962346743\n",
      "iter = 5400, stepsize = 0.00037030179596371043, criterion = 0.00043556317551668634, Q=-5.119019115244613\n",
      "iter = 5500, stepsize = 0.00036357025995273584, criterion = 0.0001228425861769219, Q=-5.119019178746992\n",
      "iter = 5600, stepsize = 0.0003570790930191037, criterion = 0.00012068748000312409, Q=-5.119019110966794\n",
      "iter = 5700, stepsize = 0.00035081564637782847, criterion = 0.00039691437503827263, Q=-5.119019217321078\n",
      "iter = 5800, stepsize = 0.0003447681434235477, criterion = 0.0003900529794495878, Q=-5.119019206855199\n",
      "iter = 5900, stepsize = 0.0003389256058295204, criterion = 0.0001144920880524293, Q=-5.119019047127249\n",
      "iter = 6000, stepsize = 0.0003332777870354941, criterion = 0.00039202410804276634, Q=-5.119019259138023\n",
      "iter = 6100, stepsize = 0.00032781511227667593, criterion = 0.00011071717940495125, Q=-5.1190192726191945\n",
      "iter = 6200, stepsize = 0.0003225286244154169, criterion = 0.00010893112552187271, Q=-5.119019195946134\n",
      "iter = 6300, stepsize = 0.0003174099349309633, criterion = 0.0001072640746928565, Q=-5.119019186957505\n",
      "iter = 6400, stepsize = 0.0003124511795032026, criterion = 0.00010558685067766576, Q=-5.119019074769751\n",
      "iter = 6500, stepsize = 0.00030764497769573913, criterion = 0.0003480486477341334, Q=-5.119019232950044\n",
      "iter = 6600, stepsize = 0.0003029843963035904, criterion = 0.00010234236529631517, Q=-5.1190191579983395\n",
      "iter = 6700, stepsize = 0.00029846291598268916, criterion = 0.00010085321755166974, Q=-5.1190191684649395\n",
      "Convergence achieved!\n",
      "iter = 6757, stepsize = 0.0002959455460195324, crit = 9.999378654009934e-05, Q=-5.1190191764219515\n",
      "CPU times: user 1min 34s, sys: 34.6 s, total: 2min 9s\n",
      "Wall time: 35.9 s\n"
     ]
    }
   ],
   "source": [
    "%%time\n",
    "x, \\\n",
    "alpha_hist, \\\n",
    "Gap_hist, \\\n",
    "Q_hist, \\\n",
    "time_hist, \\\n",
    "grad_hist = frank_wolfe_portfolio(R, \n",
    "                                  eps=1e-4, \n",
    "                                  max_iter=50000, \n",
    "                                  alpha_policy='standard', \n",
    "                                  print_every=100)"
   ]
  },
  {
   "cell_type": "code",
   "execution_count": 98,
   "metadata": {},
   "outputs": [],
   "source": [
    "results[1200]['standard'] = {\n",
    "    'x': x,\n",
    "    'alpha_hist': alpha_hist,\n",
    "    'Gap_hist': Gap_hist,\n",
    "    'Q_hist': Q_hist,\n",
    "    'time_hist': time_hist,\n",
    "    'grad_hist': grad_hist\n",
    "}"
   ]
  },
  {
   "cell_type": "code",
   "execution_count": 102,
   "metadata": {},
   "outputs": [
    {
     "data": {
      "text/plain": [
       "0.00022855299436283144"
      ]
     },
     "execution_count": 102,
     "metadata": {},
     "output_type": "execute_result"
    }
   ],
   "source": [
    "error = norm(results[n]['standard']['x'] - sol) / max(1, norm(sol))\n",
    "results[1200]['standard']['error'] = error\n",
    "error"
   ]
  },
  {
   "cell_type": "markdown",
   "metadata": {},
   "source": [
    "ICML"
   ]
  },
  {
   "cell_type": "code",
   "execution_count": 163,
   "metadata": {
    "scrolled": true
   },
   "outputs": [
    {
     "name": "stdout",
     "output_type": "stream",
     "text": [
      "********* Algorithm starts *********\n",
      "iter = 1, stepsize = 0.5183535191932658, criterion = 0.5181374935455453, Q=0.0803034692757601\n",
      "iter = 100, stepsize = 0.005400723599906357, criterion = 0.006368114093045444, Q=-5.108508702893242\n",
      "iter = 200, stepsize = 0.003061515733192035, criterion = 0.003468958165963421, Q=-5.114263960466085\n",
      "iter = 300, stepsize = 0.0011238792120157781, criterion = 0.0013119822210430464, Q=-5.115927223041931\n",
      "iter = 400, stepsize = 0.004987531172069825, criterion = 0.0016903655454745163, Q=-5.116740086802039\n",
      "iter = 500, stepsize = 0.0014373272923815486, criterion = 0.001627479033520891, Q=-5.117224915587389\n",
      "iter = 600, stepsize = 0.0033277870216306157, criterion = 0.001126210118466312, Q=-5.117534508922107\n",
      "iter = 700, stepsize = 0.0005109017296010407, criterion = 0.000596396561487173, Q=-5.117756758459911\n",
      "iter = 800, stepsize = 0.0007815230533574133, criterion = 0.0008845215302749417, Q=-5.117921405945598\n",
      "iter = 900, stepsize = 0.0022197558268590455, criterion = 0.0007506666996376844, Q=-5.1180475857884264\n",
      "iter = 1000, stepsize = 0.001998001998001998, criterion = 0.0006751962984918758, Q=-5.118149681311174\n",
      "iter = 1100, stepsize = 0.00032854318920341123, criterion = 0.0003864675734014096, Q=-5.1182326312618365\n",
      "iter = 1200, stepsize = 0.00039670705288064924, criterion = 0.00046313376361287086, Q=-5.118301337110912\n",
      "iter = 1300, stepsize = 0.00047273217118580925, criterion = 0.0005349407191807114, Q=-5.118359153687241\n",
      "iter = 1400, stepsize = 0.00023882632283456294, criterion = 0.00028092144863948884, Q=-5.118407820925621\n",
      "iter = 1500, stepsize = 0.00034119102356487143, criterion = 0.0003983167711810893, Q=-5.118450529548971\n",
      "iter = 1600, stepsize = 0.00044981997042086726, criterion = 0.0005090246890844467, Q=-5.118487674383757\n",
      "iter = 1700, stepsize = 0.0011757789535567313, criterion = 0.00039727463700976615, Q=-5.118520108650381\n",
      "iter = 1800, stepsize = 0.001110494169905608, criterion = 0.00037499528369914906, Q=-5.118549213824567\n",
      "iter = 1900, stepsize = 0.0003261892693942538, criterion = 0.000369086194065348, Q=-5.11857503138594\n",
      "iter = 2000, stepsize = 0.0009995002498750624, criterion = 0.00033766680573427615, Q=-5.118598016304835\n",
      "iter = 2100, stepsize = 0.00016867281795833607, criterion = 0.00019689093290342836, Q=-5.118619076907489\n",
      "iter = 2200, stepsize = 0.00028260039186505954, criterion = 0.0003197561565177986, Q=-5.118638093661513\n",
      "iter = 2300, stepsize = 0.000869187309865276, criterion = 0.00029362425874053424, Q=-5.118655238009554\n",
      "iter = 2400, stepsize = 0.0008329862557267805, criterion = 0.0002812690155419742, Q=-5.118671162009848\n",
      "iter = 2500, stepsize = 0.0001690281714357959, criterion = 0.00019882519478452783, Q=-5.118685784213714\n",
      "iter = 2600, stepsize = 0.0007689350249903883, criterion = 0.00025972735893714906, Q=-5.118698974462882\n",
      "iter = 2700, stepsize = 0.0007404664938911515, criterion = 0.0002500230289178529, Q=-5.118711441089443\n",
      "iter = 2800, stepsize = 0.00022300107030961378, criterion = 0.0002523126493914355, Q=-5.118722928774531\n",
      "iter = 2900, stepsize = 0.0006894174422612892, criterion = 0.00023286437858890057, Q=-5.118733503167921\n",
      "iter = 3000, stepsize = 0.00011801656774817136, criterion = 0.0001377590881223485, Q=-5.118743498811201\n",
      "iter = 3100, stepsize = 0.00019983070606013298, criterion = 0.00022609423192411645, Q=-5.118752788762414\n",
      "iter = 3200, stepsize = 0.0006248047485160887, criterion = 0.00021102671569654942, Q=-5.118761413879643\n",
      "iter = 3300, stepsize = 8.616366034969045e-05, criterion = 0.00010504202688406824, Q=-5.118769619153291\n",
      "iter = 3400, stepsize = 0.00021175844867322752, criterion = 0.00023959432239448522, Q=-5.118777267486361\n",
      "iter = 3500, stepsize = 9.555252084063249e-05, criterion = 0.00011239148231791764, Q=-5.1187844312186215\n",
      "Convergence achieved!\n",
      "iter = 3562, stepsize = 7.982440237266035e-05, crit = 9.731383062295404e-05, Q=-5.118788743138635\n",
      "CPU times: user 1h 10min 13s, sys: 10min 5s, total: 1h 20min 18s\n",
      "Wall time: 1h 1min 48s\n"
     ]
    }
   ],
   "source": [
    "%%time\n",
    "x, \\\n",
    "alpha_hist, \\\n",
    "Gap_hist, \\\n",
    "Q_hist, \\\n",
    "time_hist, \\\n",
    "grad_hist = frank_wolfe_portfolio(R, \n",
    "                                  eps=1e-4, \n",
    "                                  max_iter=50000, \n",
    "                                  alpha_policy='icml', \n",
    "                                  print_every=100)"
   ]
  },
  {
   "cell_type": "code",
   "execution_count": 164,
   "metadata": {},
   "outputs": [],
   "source": [
    "results[1200]['icml'] = {\n",
    "    'x': x,\n",
    "    'alpha_hist': alpha_hist,\n",
    "    'Gap_hist': Gap_hist,\n",
    "    'Q_hist': Q_hist,\n",
    "    'time_hist': time_hist,\n",
    "    'grad_hist': grad_hist\n",
    "}"
   ]
  },
  {
   "cell_type": "code",
   "execution_count": 166,
   "metadata": {},
   "outputs": [
    {
     "data": {
      "text/plain": [
       "0.00022855299436283144"
      ]
     },
     "execution_count": 166,
     "metadata": {},
     "output_type": "execute_result"
    }
   ],
   "source": [
    "error = norm(results[1200]['icml']['x'] - sol) / max(1, norm(sol))\n",
    "results[1200]['icml']['error'] = error\n",
    "error"
   ]
  },
  {
   "cell_type": "markdown",
   "metadata": {},
   "source": [
    "## 1500"
   ]
  },
  {
   "cell_type": "code",
   "execution_count": 126,
   "metadata": {},
   "outputs": [],
   "source": [
    "data = scipy.io.loadmat('./data/syn_1000_1500_10_50.mat')\n",
    "R = data['W']\n",
    "N, n = R.shape"
   ]
  },
  {
   "cell_type": "code",
   "execution_count": 127,
   "metadata": {},
   "outputs": [
    {
     "data": {
      "text/plain": [
       "(1000, 1500)"
      ]
     },
     "execution_count": 127,
     "metadata": {},
     "output_type": "execute_result"
    }
   ],
   "source": [
    "N, n"
   ]
  },
  {
   "cell_type": "code",
   "execution_count": 128,
   "metadata": {},
   "outputs": [],
   "source": [
    "with open('data/1000_1500_sol.pckl', 'rb') as f:\n",
    "    sol = pickle.load(f)"
   ]
  },
  {
   "cell_type": "markdown",
   "metadata": {},
   "source": [
    "Standard"
   ]
  },
  {
   "cell_type": "code",
   "execution_count": 69,
   "metadata": {
    "scrolled": true
   },
   "outputs": [
    {
     "name": "stdout",
     "output_type": "stream",
     "text": [
      "********* Algorithm starts *********\n",
      "iter = 1, stepsize = 1.0, criterion = 0.9996666110925848, Q=0.021289312869133274\n",
      "iter = 100, stepsize = 0.019801980198019802, criterion = 0.015590493586394838, Q=-4.474600766473991\n",
      "iter = 200, stepsize = 0.009950248756218905, criterion = 0.007813498992139708, Q=-4.474989724821573\n",
      "iter = 300, stepsize = 0.006644518272425249, criterion = 0.006802815462519957, Q=-4.475070486745722\n",
      "iter = 400, stepsize = 0.004987531172069825, criterion = 0.0038855048239829397, Q=-4.475087166814085\n",
      "iter = 500, stepsize = 0.003992015968063872, criterion = 0.0031140721574401424, Q=-4.475078809126474\n",
      "iter = 600, stepsize = 0.0033277870216306157, criterion = 0.002785263993325362, Q=-4.475089793438819\n",
      "iter = 700, stepsize = 0.0028530670470756064, criterion = 0.002220118499531042, Q=-4.4750917786757505\n",
      "iter = 800, stepsize = 0.0024968789013732834, criterion = 0.0019435268992091543, Q=-4.475086191560047\n",
      "iter = 900, stepsize = 0.0022197558268590455, criterion = 0.002451422671810708, Q=-4.475092593499156\n",
      "iter = 1000, stepsize = 0.001998001998001998, criterion = 0.002041675558016509, Q=-4.47509087749804\n",
      "iter = 1100, stepsize = 0.0018165304268846503, criterion = 0.001413323110900208, Q=-4.475090526949735\n",
      "iter = 1200, stepsize = 0.0016652789342214821, criterion = 0.0017012778789060998, Q=-4.4750921569338935\n",
      "iter = 1300, stepsize = 0.0015372790161414297, criterion = 0.0012858189567697411, Q=-4.475091808363515\n",
      "iter = 1400, stepsize = 0.0014275517487508922, criterion = 0.0011104249743302734, Q=-4.475091164619024\n",
      "iter = 1500, stepsize = 0.0013324450366422385, criterion = 0.001114943489992081, Q=-4.475091344791951\n",
      "iter = 1600, stepsize = 0.0012492192379762648, criterion = 0.001152204686782407, Q=-4.475092276122062\n",
      "iter = 1700, stepsize = 0.0011757789535567313, criterion = 0.0010844544608573626, Q=-4.475090953029705\n",
      "iter = 1800, stepsize = 0.001110494169905608, criterion = 0.0010244119410632686, Q=-4.475092163699528\n",
      "iter = 1900, stepsize = 0.0010520778537611783, criterion = 0.0009705057514623649, Q=-4.475092058620112\n",
      "iter = 2000, stepsize = 0.0009995002498750624, criterion = 0.0008360811003522593, Q=-4.475092173297536\n",
      "iter = 2100, stepsize = 0.0009519276534983341, criterion = 0.0007406153632993793, Q=-4.47509231591517\n",
      "iter = 2200, stepsize = 0.0009086778736937755, criterion = 0.0007602274915911004, Q=-4.475091735329812\n",
      "iter = 2300, stepsize = 0.000869187309865276, criterion = 0.0007268454254528336, Q=-4.4750927446993725\n",
      "iter = 2400, stepsize = 0.0008329862557267805, criterion = 0.0006480004776733696, Q=-4.475092382511043\n",
      "iter = 2500, stepsize = 0.0007996801279488205, criterion = 0.0006221668597442237, Q=-4.475091626730469\n",
      "iter = 2600, stepsize = 0.0007689350249903883, criterion = 0.0005979162662300171, Q=-4.4750928544723845\n",
      "iter = 2700, stepsize = 0.0007404664938911515, criterion = 0.0006193084545515543, Q=-4.475092144152893\n",
      "iter = 2800, stepsize = 0.0007140307033202428, criterion = 0.0005971067873329061, Q=-4.475092888685682\n",
      "iter = 2900, stepsize = 0.0006894174422612892, criterion = 0.000704131927943721, Q=-4.4750927378287795\n",
      "iter = 3000, stepsize = 0.0006664445184938354, criterion = 0.000518261653620523, Q=-4.47509241741756\n",
      "iter = 3100, stepsize = 0.0006449532408900354, criterion = 0.0006586670918594583, Q=-4.47509287779037\n",
      "iter = 3200, stepsize = 0.0006248047485160887, criterion = 0.0005225645946383438, Q=-4.475092566406627\n",
      "iter = 3300, stepsize = 0.0006058770069675856, criterion = 0.0005066684400126459, Q=-4.475092768489201\n",
      "iter = 3400, stepsize = 0.0005880623346074683, criterion = 0.00045745135375498824, Q=-4.47509248461556\n",
      "iter = 3500, stepsize = 0.0005712653527563553, criterion = 0.0004776944103226372, Q=-4.475092662806089\n",
      "iter = 3600, stepsize = 0.0005554012774229381, criterion = 0.00043191280490839125, Q=-4.475092636588257\n",
      "iter = 3700, stepsize = 0.0005403944879762226, criterion = 0.00045196225596268104, Q=-4.4750926483034865\n",
      "iter = 3800, stepsize = 0.0005261773217574323, criterion = 0.0005809594362333107, Q=-4.475092810602291\n",
      "iter = 3900, stepsize = 0.0005126890540886952, criterion = 0.00047277769632212866, Q=-4.475092713548795\n",
      "iter = 4000, stepsize = 0.0004998750312421895, criterion = 0.00046097374099979705, Q=-4.475092678272228\n",
      "iter = 4100, stepsize = 0.000487685930260912, criterion = 0.0004980859866709143, Q=-4.475092841675918\n",
      "iter = 4200, stepsize = 0.00047607712449416806, criterion = 0.00039813369412396946, Q=-4.475092745848899\n",
      "iter = 4300, stepsize = 0.00046500813764240875, criterion = 0.00036165159966997876, Q=-4.47509263669067\n",
      "iter = 4400, stepsize = 0.0004544421722335833, criterion = 0.000380097501956464, Q=-4.475092745203199\n",
      "iter = 4500, stepsize = 0.00044434570095534326, criterion = 0.000371544622160027, Q=-4.475092812066442\n",
      "iter = 4600, stepsize = 0.0004346881112801565, criterion = 0.0003380808025403415, Q=-4.475092758048866\n",
      "iter = 4700, stepsize = 0.00042544139544777704, criterion = 0.00035578934636011433, Q=-4.475092851093786\n",
      "iter = 4800, stepsize = 0.00041657987919183504, criterion = 0.0004254063713288576, Q=-4.475092795038573\n",
      "iter = 4900, stepsize = 0.00040807998367680065, criterion = 0.0003173755519447643, Q=-4.475092817565402\n",
      "iter = 5000, stepsize = 0.0003999200159968006, criterion = 0.0003344033816263944, Q=-4.475092870400196\n",
      "iter = 5100, stepsize = 0.00039207998431680063, criterion = 0.00040042612356554176, Q=-4.475092721508888\n",
      "iter = 5200, stepsize = 0.0003845414343395501, criterion = 0.00032158615444494734, Q=-4.475092847544097\n",
      "iter = 5300, stepsize = 0.0003772873042822109, criterion = 0.0003853004744828026, Q=-4.475092830365844\n",
      "iter = 5400, stepsize = 0.00037030179596371043, criterion = 0.00028793036518681296, Q=-4.475092889821274\n",
      "iter = 5500, stepsize = 0.00036357025995273584, criterion = 0.0003040128071029102, Q=-4.475092845289059\n",
      "iter = 5600, stepsize = 0.0003570790930191037, criterion = 0.0002777126194854449, Q=-4.475092684461397\n",
      "iter = 5700, stepsize = 0.00035081564637782847, criterion = 0.00032348014468432855, Q=-4.47509285577085\n",
      "iter = 5800, stepsize = 0.0003447681434235477, criterion = 0.0002680892850012034, Q=-4.475092784462501\n",
      "iter = 5900, stepsize = 0.0003389256058295204, criterion = 0.0003125338738659702, Q=-4.475092883528052\n",
      "iter = 6000, stepsize = 0.0003332777870354941, criterion = 0.0003403424886519472, Q=-4.4750928650768405\n",
      "iter = 6100, stepsize = 0.00032781511227667593, criterion = 0.00030226860305552355, Q=-4.475092779798378\n",
      "iter = 6200, stepsize = 0.0003225286244154169, criterion = 0.000269711579311358, Q=-4.475092883833155\n",
      "iter = 6300, stepsize = 0.0003174099349309633, criterion = 0.0002926896956943718, Q=-4.475092825143831\n",
      "iter = 6400, stepsize = 0.0003124511795032026, criterion = 0.0002429759081714679, Q=-4.475092875014064\n",
      "iter = 6500, stepsize = 0.00030764497769573913, criterion = 0.00031417843085624887, Q=-4.475092890767447\n",
      "iter = 6600, stepsize = 0.0003029843963035904, criterion = 0.0002533852436499814, Q=-4.47509279933389\n",
      "iter = 6700, stepsize = 0.00029846291598268916, criterion = 0.00023209407744523216, Q=-4.475092862411461\n",
      "iter = 6800, stepsize = 0.00029407440082340834, criterion = 0.00022869318863991844, Q=-4.475092835629161\n",
      "iter = 6900, stepsize = 0.0002898130705694827, criterion = 0.0003199763857693815, Q=-4.475092911140566\n",
      "iter = 7000, stepsize = 0.00028567347521782604, criterion = 0.0002221271602409238, Q=-4.475092876680393\n",
      "iter = 7100, stepsize = 0.0002816504717645402, criterion = 0.00021902768945441056, Q=-4.475092838186988\n",
      "iter = 7200, stepsize = 0.0002777392028884877, criterion = 0.00023223931996577707, Q=-4.47509286814236\n",
      "iter = 7300, stepsize = 0.00027393507738665936, criterion = 0.0002129976496467354, Q=-4.475092894791939\n",
      "iter = 7400, stepsize = 0.00027023375219564923, criterion = 0.00022597653372062512, Q=-4.475092834931795\n",
      "iter = 7500, stepsize = 0.0002666311158512198, criterion = 0.00024583162527508183, Q=-4.475092903844827\n",
      "iter = 7600, stepsize = 0.0002631232732535193, criterion = 0.0002045890110097606, Q=-4.475092883064011\n",
      "iter = 7700, stepsize = 0.0002597065316192702, criterion = 0.00021716303894354647, Q=-4.475092872516627\n",
      "iter = 7800, stepsize = 0.00025637738751442123, criterion = 0.00023638872614252548, Q=-4.4750929084221625\n",
      "iter = 7900, stepsize = 0.00025313251487153526, criterion = 0.00023339718893711792, Q=-4.475092847594312\n",
      "iter = 8000, stepsize = 0.00024996875390576176, criterion = 0.00023048956446749858, Q=-4.475092894548342\n",
      "iter = 8100, stepsize = 0.0002468831008517467, criterion = 0.0002276445449165232, Q=-4.475092888135994\n",
      "iter = 8200, stepsize = 0.00024387269845140838, criterion = 0.00020391614794928708, Q=-4.475092880222194\n",
      "iter = 8300, stepsize = 0.00024093482712926153, criterion = 0.00018735540046991214, Q=-4.475092887290263\n",
      "iter = 8400, stepsize = 0.00023806689679800025, criterion = 0.000199071865815313, Q=-4.475092868812241\n",
      "iter = 8500, stepsize = 0.00023526643924244207, criterion = 0.00018292562655269795, Q=-4.4750929137691475\n",
      "iter = 8600, stepsize = 0.0002325311010347634, criterion = 0.00018081844483784268, Q=-4.475092884779656\n",
      "iter = 8700, stepsize = 0.00022985863693828295, criterion = 0.00023473569722103502, Q=-4.475092858340662\n",
      "iter = 8800, stepsize = 0.00022724690376093625, criterion = 0.00017668896848548234, Q=-4.475092922624482\n",
      "iter = 8900, stepsize = 0.00022469385462307607, criterion = 0.00017471108841097895, Q=-4.475092844764161\n",
      "iter = 9000, stepsize = 0.00022219753360737697, criterion = 0.000185781935407127, Q=-4.475092928329266\n",
      "iter = 9100, stepsize = 0.0002197560707614548, criterion = 0.0001708635591511922, Q=-4.4750929113829985\n",
      "iter = 9200, stepsize = 0.0002173676774263667, criterion = 0.00016901326810286264, Q=-4.4750928631246225\n",
      "iter = 9300, stepsize = 0.00021503064186646596, criterion = 0.00019825331808811475, Q=-4.475092928719643\n",
      "iter = 9400, stepsize = 0.00021274332517817252, criterion = 0.00017788695398599812, Q=-4.475092877714759\n",
      "iter = 9500, stepsize = 0.00021050415745710977, criterion = 0.0001940872014761112, Q=-4.475092918797051\n",
      "iter = 9600, stepsize = 0.00020831163420477033, criterion = 0.00021272405740631212, Q=-4.475092911859429\n",
      "iter = 9700, stepsize = 0.00020616431295742706, criterion = 0.00019007836290796157, Q=-4.475092886268135\n",
      "iter = 9800, stepsize = 0.00020406081012141618, criterion = 0.0001881531842415877, Q=-4.4750929136763515\n",
      "iter = 9900, stepsize = 0.000201999798000202, criterion = 0.00016890527291500387, Q=-4.475092885088597\n",
      "iter = 10000, stepsize = 0.00019998000199980003, criterion = 0.00015548531841571748, Q=-4.475092917240592\n",
      "iter = 10100, stepsize = 0.000198000198000198, criterion = 0.00015395542361552165, Q=-4.475092877800861\n",
      "iter = 10200, stepsize = 0.00019605920988138416, criterion = 0.0001807744841831041, Q=-4.4750928868799535\n",
      "iter = 10300, stepsize = 0.00019415590719347637, criterion = 0.00019826420826316574, Q=-4.475092922468049\n",
      "iter = 10400, stepsize = 0.00019228920296125374, criterion = 0.00016078155789671066, Q=-4.475092889832489\n",
      "iter = 10500, stepsize = 0.00019045805161413198, criterion = 0.00021027554436328457, Q=-4.4750929273097775\n",
      "iter = 10600, stepsize = 0.00018866144703329874, criterion = 0.00019266233794164992, Q=-4.475092913053691\n",
      "iter = 10700, stepsize = 0.00018689842070834502, criterion = 0.00014531786632624035, Q=-4.47509290033789\n",
      "iter = 10800, stepsize = 0.00018516803999629665, criterion = 0.0001890906512674247, Q=-4.475092926576808\n",
      "iter = 10900, stepsize = 0.00018346940647647004, criterion = 0.00015340835270409695, Q=-4.4750929106707025\n",
      "iter = 11000, stepsize = 0.000181801654395055, criterion = 0.00014135426196296982, Q=-4.47509289653599\n",
      "iter = 11100, stepsize = 0.00018016394919376631, criterion = 0.00015065383432508002, Q=-4.475092901406541\n",
      "iter = 11200, stepsize = 0.00017855548611731096, criterion = 0.00014929168564900498, Q=-4.475092914591503\n",
      "iter = 11300, stepsize = 0.00017697548889478808, criterion = 0.00013760467366833208, Q=-4.475092906629718\n",
      "iter = 11400, stepsize = 0.00017542320849048328, criterion = 0.00014668175225376748, Q=-4.475092913442882\n",
      "iter = 11500, stepsize = 0.00017389792191983307, criterion = 0.00016032797123418405, Q=-4.475092906181179\n",
      "iter = 11600, stepsize = 0.000172398931126627, criterion = 0.00013404549180231308, Q=-4.4750929114590825\n",
      "iter = 11700, stepsize = 0.0001709255619177848, criterion = 0.000157592330014976, Q=-4.475092912792066\n",
      "iter = 11800, stepsize = 0.00016947716295229217, criterion = 0.00015625985283048246, Q=-4.475092914976329\n",
      "iter = 11900, stepsize = 0.00016805310478111083, criterion = 0.00014051611704350952, Q=-4.475092905579183\n",
      "iter = 12000, stepsize = 0.00016665277893508876, criterion = 0.00015365747583916435, Q=-4.475092901178332\n",
      "iter = 12100, stepsize = 0.00016527559705809436, criterion = 0.00015239044028669008, Q=-4.475092915102298\n",
      "iter = 12200, stepsize = 0.0001639209900827801, criterion = 0.00012744971875292092, Q=-4.475092912254585\n",
      "iter = 12300, stepsize = 0.00016258840744654907, criterion = 0.00014991685701352703, Q=-4.475092909547556\n",
      "iter = 12400, stepsize = 0.00016127731634545602, criterion = 0.00013485173645642337, Q=-4.4750929205636485\n",
      "iter = 12500, stepsize = 0.00015998720102391808, criterion = 0.00016337209311417927, Q=-4.475092908270519\n",
      "iter = 12600, stepsize = 0.00015871756209824618, criterion = 0.00013271866322460654, Q=-4.475092913716757\n",
      "iter = 12700, stepsize = 0.0001574679159121329, criterion = 0.00013166039279114916, Q=-4.475092922566994\n",
      "iter = 12800, stepsize = 0.0001562377939223498, criterion = 0.00012147775861142281, Q=-4.475092921088111\n",
      "iter = 12900, stepsize = 0.0001550267421130145, criterion = 0.00012962631921286085, Q=-4.4750929220166915\n",
      "iter = 13000, stepsize = 0.00015383432043688947, criterion = 0.0001570920895428725, Q=-4.475092915018838\n",
      "iter = 13100, stepsize = 0.00015266010228226853, criterion = 0.00011869552526290705, Q=-4.47509292360094\n",
      "iter = 13200, stepsize = 0.00015150367396409362, criterion = 0.0001547093504291492, Q=-4.475092920518674\n",
      "iter = 13300, stepsize = 0.00015036463423802722, criterion = 0.00012573277507061132, Q=-4.475092892535196\n",
      "iter = 13400, stepsize = 0.00014924259383628088, criterion = 0.00011603788613575467, Q=-4.475092917135174\n",
      "iter = 13500, stepsize = 0.00014813717502407228, criterion = 0.00011518154380211702, Q=-4.475092904615538\n",
      "iter = 13600, stepsize = 0.00014704801117564886, criterion = 0.0001355780561563605, Q=-4.475092925635004\n",
      "iter = 13700, stepsize = 0.00014597474636887818, criterion = 0.00013458466968334595, Q=-4.475092911210073\n",
      "iter = 13800, stepsize = 0.00014491703499746396, criterion = 0.00011267726660838753, Q=-4.475092901768155\n",
      "iter = 13900, stepsize = 0.00014387454139989928, criterion = 0.00012029997348160261, Q=-4.475092919564953\n",
      "iter = 14000, stepsize = 0.00014284693950432112, criterion = 0.00013170439133276698, Q=-4.475092913296446\n",
      "iter = 14100, stepsize = 0.00014183391248847598, criterion = 0.00011028434606014304, Q=-4.4750929136039375\n",
      "iter = 14200, stepsize = 0.00014083515245405255, criterion = 0.00014381784539033474, Q=-4.475092920631646\n",
      "iter = 14300, stepsize = 0.0001398503601146773, criterion = 0.00012894480016102102, Q=-4.4750929074685635\n",
      "iter = 14400, stepsize = 0.00013887924449690992, criterion = 0.00011612399296367439, Q=-4.475092920787903\n",
      "iter = 14500, stepsize = 0.00013792152265361008, criterion = 0.00012716937699624748, Q=-4.475092911853934\n",
      "iter = 14600, stepsize = 0.00013697691938908293, criterion = 0.00010649991211551301, Q=-4.475092924859332\n",
      "iter = 14700, stepsize = 0.0001360451669954425, criterion = 0.00010577812233569563, Q=-4.475092916425041\n",
      "iter = 14800, stepsize = 0.00013512600499966218, criterion = 0.00011298952329574692, Q=-4.475092908039709\n",
      "iter = 14900, stepsize = 0.00013421917992081068, criterion = 0.0001122234875721876, Q=-4.475092917628372\n",
      "iter = 15000, stepsize = 0.00013332444503699753, criterion = 0.00010366230958119159, Q=-4.475092920093017\n",
      "iter = 15100, stepsize = 0.0001324415601615787, criterion = 0.00011074043876712533, Q=-4.475092908927317\n",
      "iter = 15200, stepsize = 0.0001315702914281955, criterion = 0.00010229175401732583, Q=-4.475092925523549\n",
      "iter = 15300, stepsize = 0.00013071041108424287, criterion = 0.00010162947661137283, Q=-4.475092916747177\n",
      "iter = 15400, stepsize = 0.0001298616972923836, criterion = 0.00010858091557507948, Q=-4.475092920900195\n",
      "iter = 15500, stepsize = 0.00012902393393974583, criterion = 0.00011895564368019865, Q=-4.4750929262549155\n",
      "Convergence achieved!\n",
      "iter = 15552, stepsize = 0.00012859255449109496, crit = 9.998281640794463e-05, Q=-4.475092921129493\n",
      "CPU times: user 4min 38s, sys: 1min 38s, total: 6min 16s\n",
      "Wall time: 1min 45s\n"
     ]
    }
   ],
   "source": [
    "%%time\n",
    "x, \\\n",
    "alpha_hist, \\\n",
    "Gap_hist, \\\n",
    "Q_hist, \\\n",
    "time_hist, \\\n",
    "grad_hist = frank_wolfe_portfolio(R, \n",
    "                                  eps=1e-4, \n",
    "                                  max_iter=50000, \n",
    "                                  alpha_policy='standard', \n",
    "                                  print_every=100)"
   ]
  },
  {
   "cell_type": "code",
   "execution_count": 130,
   "metadata": {},
   "outputs": [],
   "source": [
    "results[1500]['standard'] = {\n",
    "    'x': x,\n",
    "    'alpha_hist': alpha_hist,\n",
    "    'Gap_hist': Gap_hist,\n",
    "    'Q_hist': Q_hist,\n",
    "    'time_hist': time_hist,\n",
    "    'grad_hist': grad_hist\n",
    "}"
   ]
  },
  {
   "cell_type": "code",
   "execution_count": 131,
   "metadata": {},
   "outputs": [
    {
     "data": {
      "text/plain": [
       "6.319718274801206e-05"
      ]
     },
     "execution_count": 131,
     "metadata": {},
     "output_type": "execute_result"
    }
   ],
   "source": [
    "error = norm(results[1500]['standard']['x'] - sol) / max(1, norm(sol))\n",
    "results[1500]['standard']['error'] = error\n",
    "error"
   ]
  },
  {
   "cell_type": "markdown",
   "metadata": {},
   "source": [
    "ICML "
   ]
  },
  {
   "cell_type": "code",
   "execution_count": 73,
   "metadata": {
    "scrolled": true
   },
   "outputs": [
    {
     "name": "stdout",
     "output_type": "stream",
     "text": [
      "********* Algorithm starts *********\n",
      "iter = 1, stepsize = 0.463056500269208, criterion = 0.46290212236851186, Q=0.021289312869133274\n",
      "iter = 100, stepsize = 0.011521761315972325, criterion = 0.009687633303622135, Q=-4.464671696688804\n",
      "iter = 200, stepsize = 0.006550107264641202, criterion = 0.005109366945297007, Q=-4.470150701554282\n",
      "iter = 300, stepsize = 0.00268728804871834, criterion = 0.0024800012168575583, Q=-4.471872073749786\n",
      "iter = 400, stepsize = 0.0028148949335326102, criterion = 0.0023568696579499377, Q=-4.472701757437687\n",
      "iter = 500, stepsize = 0.0016223340222052914, criterion = 0.0016581175948639977, Q=-4.473192890773646\n",
      "iter = 600, stepsize = 0.0019084770302515445, criterion = 0.0014849487689423365, Q=-4.47351547412401\n",
      "iter = 700, stepsize = 0.0016952551908507383, criterion = 0.001318962098247747, Q=-4.473746351819814\n",
      "iter = 800, stepsize = 0.0011551726986775413, criterion = 0.0009662610782766826, Q=-4.473916800991374\n",
      "iter = 900, stepsize = 0.0011954497225324945, criterion = 0.0010000675097990434, Q=-4.474050194021194\n",
      "iter = 1000, stepsize = 0.0012557470085344503, criterion = 0.0009768820360185968, Q=-4.474155333872529\n",
      "iter = 1100, stepsize = 0.0007127259373563476, criterion = 0.000657265715985006, Q=-4.474242057048084\n",
      "iter = 1200, stepsize = 0.0009197072944164463, criterion = 0.0007693056726922965, Q=-4.474313720236495\n",
      "iter = 1300, stepsize = 0.000614360124592379, criterion = 0.0006275528652518023, Q=-4.474374382655608\n",
      "iter = 1400, stepsize = 0.0008067184896002139, criterion = 0.0006273899527985627, Q=-4.474426043700854\n",
      "iter = 1500, stepsize = 0.000782977503371169, criterion = 0.000608928893873827, Q=-4.474471167850368\n",
      "iter = 1600, stepsize = 0.0005717523764699023, criterion = 0.0004781375512987622, Q=-4.474510202201023\n",
      "iter = 1700, stepsize = 0.0006278182717360178, criterion = 0.0005250630594046332, Q=-4.474544960184645\n",
      "iter = 1800, stepsize = 0.0004557744610454792, criterion = 0.000420272197976722, Q=-4.47457540240433\n",
      "iter = 1900, stepsize = 0.000652612911823793, criterion = 0.0005458289895369748, Q=-4.474602787462618\n",
      "iter = 2000, stepsize = 0.00045573666774518807, criterion = 0.0004491940677102387, Q=-4.4746275823117845\n",
      "iter = 2100, stepsize = 0.0006273537332284073, criterion = 0.0004878946015543361, Q=-4.474649859421226\n",
      "iter = 2200, stepsize = 0.00034048718851128557, criterion = 0.00033556379878577243, Q=-4.474670210246755\n",
      "iter = 2300, stepsize = 0.00048210541799971696, criterion = 0.0004031750928653007, Q=-4.474688732395362\n",
      "iter = 2400, stepsize = 0.00033420937806139477, criterion = 0.00032937991871730615, Q=-4.474705675944024\n",
      "iter = 2500, stepsize = 0.0005891523266202866, criterion = 0.00045818936143289556, Q=-4.4747212136296515\n",
      "iter = 2600, stepsize = 0.0003220437787256097, criterion = 0.00029694410404069505, Q=-4.4747356553540305\n",
      "iter = 2700, stepsize = 0.0004508007997911218, criterion = 0.000376995318783005, Q=-4.4747489440579535\n",
      "iter = 2800, stepsize = 0.0003233140316221811, criterion = 0.00031864969349803857, Q=-4.4747613395570225\n",
      "iter = 2900, stepsize = 0.0004522734096547866, criterion = 0.00035170014484937315, Q=-4.474772809257432\n",
      "iter = 3000, stepsize = 0.00024861160885991467, criterion = 0.0002450074875693333, Q=-4.474783569846894\n",
      "iter = 3100, stepsize = 0.00035613487653925413, criterion = 0.0002978092030106822, Q=-4.474793608108575\n",
      "iter = 3200, stepsize = 0.0002495881108603561, criterion = 0.00024597215694653027, Q=-4.474803002113722\n",
      "iter = 3300, stepsize = 0.00044451162785932304, criterion = 0.00034567071458716317, Q=-4.474811800113453\n",
      "iter = 3400, stepsize = 0.00024526813746740496, criterion = 0.00022614521205489458, Q=-4.474820139398461\n",
      "iter = 3500, stepsize = 0.00034639317686517606, criterion = 0.00028966486363333783, Q=-4.474827955127426\n",
      "iter = 3600, stepsize = 0.0002505024175954136, criterion = 0.00024687885979777303, Q=-4.474835371340175\n",
      "iter = 3700, stepsize = 0.000353144118813198, criterion = 0.0002745994558216107, Q=-4.474842344954903\n",
      "iter = 3800, stepsize = 0.0001955275536157364, criterion = 0.00019268878998990655, Q=-4.47484898660356\n",
      "iter = 3900, stepsize = 0.00028204241620457935, criterion = 0.00023584220630404714, Q=-4.474855271165527\n",
      "iter = 4000, stepsize = 0.00019894722090917953, criterion = 0.0001960604989711466, Q=-4.47486123158169\n",
      "iter = 4100, stepsize = 0.0003565118304566111, criterion = 0.00027722368664629034, Q=-4.474866884683459\n",
      "iter = 4200, stepsize = 0.00019784635696217526, criterion = 0.00018241727599816723, Q=-4.474872307195576\n",
      "iter = 4300, stepsize = 0.0002809682648838346, criterion = 0.00023494609445966498, Q=-4.474877447291916\n",
      "iter = 4400, stepsize = 0.00020425529346950328, criterion = 0.00020129571262344765, Q=-4.474882377149638\n",
      "iter = 4500, stepsize = 0.0002893769190258005, criterion = 0.00022500713025033067, Q=-4.474887060439909\n",
      "iter = 4600, stepsize = 0.00016097166269156608, criterion = 0.0001586323471146972, Q=-4.474891564106157\n",
      "iter = 4700, stepsize = 0.0002332540481222572, criterion = 0.0001950407805246425, Q=-4.474895865280917\n",
      "iter = 4800, stepsize = 0.00016524031849320968, criterion = 0.00016284023064617664, Q=-4.474899980700171\n",
      "iter = 4900, stepsize = 0.00029733316128481904, criterion = 0.00023119808203786433, Q=-4.474903916843975\n",
      "iter = 5000, stepsize = 0.00013471042715209634, criterion = 0.00013275069936784253, Q=-4.474907719741071\n",
      "iter = 5100, stepsize = 0.0001442198712013828, criterion = 0.00014727620715315588, Q=-4.4749113444611925\n",
      "iter = 5200, stepsize = 0.000249837813561059, criterion = 0.00019425989841751547, Q=-4.474914842137974\n",
      "iter = 5300, stepsize = 0.00015146045157072045, criterion = 0.00013964508009256237, Q=-4.474918227601658\n",
      "iter = 5400, stepsize = 0.0001992843936735449, criterion = 0.00016663232986332974, Q=-4.474921470069743\n",
      "iter = 5500, stepsize = 0.0002156399657493628, criterion = 0.00019883188124751014, Q=-4.474924589318739\n",
      "iter = 5600, stepsize = 0.00012768245209846487, criterion = 0.00013038718241270369, Q=-4.47492762462106\n",
      "iter = 5700, stepsize = 0.00018338234279800412, criterion = 0.00016908360569471288, Q=-4.474930512090009\n",
      "iter = 5800, stepsize = 0.00012698217893774874, criterion = 0.00012513543982612015, Q=-4.47493334522181\n",
      "iter = 5900, stepsize = 0.00013529812386985684, criterion = 0.00013816554717213894, Q=-4.474936046381398\n",
      "iter = 6000, stepsize = 0.00021673721383375823, criterion = 0.00016851960355766994, Q=-4.4749386660812505\n",
      "iter = 6100, stepsize = 0.00013144816522339252, criterion = 0.00012119310508104307, Q=-4.4749412126389885\n",
      "iter = 6200, stepsize = 0.00017307067580186883, criterion = 0.0001447118162115055, Q=-4.4749436637294036\n",
      "iter = 6300, stepsize = 0.00018767491912680915, criterion = 0.00017304379703914836, Q=-4.474946033071497\n",
      "iter = 6400, stepsize = 0.00011137382203618693, criterion = 0.00011373217403078229, Q=-4.474948349290626\n",
      "iter = 6500, stepsize = 0.00016030616069340962, criterion = 0.0001478049714143506, Q=-4.474950562789549\n",
      "Convergence achieved!\n",
      "iter = 6551, stepsize = 9.013224436041296e-05, crit = 9.951142581050291e-05, Q=-4.474951694018879\n",
      "CPU times: user 3h 7min 34s, sys: 18min 29s, total: 3h 26min 3s\n",
      "Wall time: 2h 51min 28s\n"
     ]
    }
   ],
   "source": [
    "%%time\n",
    "x, \\\n",
    "alpha_hist, \\\n",
    "Gap_hist, \\\n",
    "Q_hist, \\\n",
    "time_hist, \\\n",
    "grad_hist = frank_wolfe_portfolio(R, \n",
    "                                  eps=1e-4, \n",
    "                                  max_iter=50000, \n",
    "                                  alpha_policy='icml', \n",
    "                                  print_every=100)"
   ]
  },
  {
   "cell_type": "code",
   "execution_count": 140,
   "metadata": {},
   "outputs": [],
   "source": [
    "results[1500]['icml'] = {\n",
    "    'x': x,\n",
    "    'alpha_hist': alpha_hist,\n",
    "    'Gap_hist': Gap_hist,\n",
    "    'Q_hist': Q_hist,\n",
    "    'time_hist': time_hist,\n",
    "    'grad_hist': grad_hist\n",
    "}"
   ]
  },
  {
   "cell_type": "code",
   "execution_count": 141,
   "metadata": {},
   "outputs": [
    {
     "data": {
      "text/plain": [
       "6.319718274801206e-05"
      ]
     },
     "execution_count": 141,
     "metadata": {},
     "output_type": "execute_result"
    }
   ],
   "source": [
    "error = norm(results[1500]['icml']['x'] - sol) / max(1, norm(sol))\n",
    "results[1500]['icml']['error'] = error\n",
    "error"
   ]
  },
  {
   "cell_type": "markdown",
   "metadata": {},
   "source": [
    "# Save results"
   ]
  },
  {
   "cell_type": "code",
   "execution_count": 171,
   "metadata": {},
   "outputs": [],
   "source": [
    "with open('results/results_dict.pckl', 'wb') as f:\n",
    "    pickle.dump(results, f)"
   ]
  }
 ],
 "metadata": {
  "kernelspec": {
   "display_name": "Python 3.7.3 (pyenv)",
   "language": "python",
   "name": "venv3.7"
  },
  "language_info": {
   "codemirror_mode": {
    "name": "ipython",
    "version": 3
   },
   "file_extension": ".py",
   "mimetype": "text/x-python",
   "name": "python",
   "nbconvert_exporter": "python",
   "pygments_lexer": "ipython3",
   "version": "3.7.3"
  }
 },
 "nbformat": 4,
 "nbformat_minor": 4
}
