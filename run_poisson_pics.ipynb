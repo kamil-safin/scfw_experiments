{
 "cells": [
  {
   "cell_type": "code",
   "execution_count": 67,
   "metadata": {},
   "outputs": [],
   "source": [
    "import os\n",
    "\n",
    "import skimage\n",
    "from skimage import data\n",
    "from skimage.util import img_as_uint\n",
    "from skimage.transform import resize\n",
    "import numpy as np\n",
    "from numpy import matlib\n",
    "from sklearn.datasets import load_svmlight_file\n",
    "import matplotlib.pylab as plt\n",
    "from matplotlib.pyplot import imshow\n",
    "import scipy.ndimage\n",
    "\n",
    "import scfw.poisson as ps\n",
    "from scfw.scopt import scopt"
   ]
  },
  {
   "cell_type": "code",
   "execution_count": 2,
   "metadata": {},
   "outputs": [],
   "source": [
    "%load_ext autoreload\n",
    "%autoreload 2"
   ]
  },
  {
   "cell_type": "code",
   "execution_count": 3,
   "metadata": {},
   "outputs": [],
   "source": [
    "%matplotlib inline"
   ]
  },
  {
   "cell_type": "markdown",
   "metadata": {},
   "source": [
    "## Data load and preprocessing"
   ]
  },
  {
   "cell_type": "code",
   "execution_count": 4,
   "metadata": {},
   "outputs": [],
   "source": [
    "def blur_image(im, scale_factor=10):\n",
    "    blur = np.array([0.011178978813925, 0.050100707167907, 0.082602101584847, 0.050100707167907, 0.011178978813925,\n",
    "                     0.050100707167907, 0.224535791730617, 0.370196935859762, 0.224535791730617, 0.050100707167907,\n",
    "                     0.082602101584847, 0.370196935859762, 0.610351562500000, 0.370196935859762, 0.082602101584847,\n",
    "                     0.050100707167907, 0.224535791730617, 0.370196935859762, 0.224535791730617, 0.050100707167907,\n",
    "                     0.011178978813925, 0.050100707167907, 0.082602101584847, 0.050100707167907, 0.011178978813925])\n",
    "    blur *= 1e-4\n",
    "\n",
    "    im = img_as_uint(im)\n",
    "    im *= scale_factor\n",
    "    im_star = scipy.ndimage.convolve(im, blur.reshape(1, -1), mode='constant')\n",
    "    y = np.random.poisson(im_star)\n",
    "    y = np.round(y)\n",
    "    return im_star, y"
   ]
  },
  {
   "cell_type": "code",
   "execution_count": 5,
   "metadata": {},
   "outputs": [],
   "source": [
    "def matlab_gauss2d(shape, sigma):\n",
    "    \"\"\"\n",
    "    2D gaussian mask - should give the same result as MATLAB's\n",
    "    fspecial('gaussian',[shape],[sigma])\n",
    "    \"\"\"\n",
    "    m, n = [(ss - 1) / 2 for ss in shape]\n",
    "    y, x = np.ogrid[-m : m + 1, -n : n + 1]\n",
    "    h = np.exp(-(x**2 + y**2) / (2 * sigma**2))\n",
    "    h[h < np.finfo(h.dtype).eps * h.max()] = 0\n",
    "    sumh = h.sum()\n",
    "    if sumh != 0:\n",
    "        h /= sumh\n",
    "    return h"
   ]
  },
  {
   "cell_type": "code",
   "execution_count": 68,
   "metadata": {},
   "outputs": [],
   "source": [
    "im = data.camera()\n",
    "im = resize(im, (im.shape[0] / 2, im.shape[1] / 2))\n",
    "im = img_as_uint(im)\n",
    "# im_star, y = blur_image(im, 1)\n",
    "\n",
    "peak = 30\n",
    "b = 0 # background intensity\n",
    "\n",
    "# scaling of the underlying image so as to simulate the \n",
    "# level of the poisson noise. The smaller the values of the original\n",
    "# intensities the higher the noise level. \n",
    "fs = im / np.max(im) * peak + b\n",
    "\n",
    "h = matlab_gauss2d((9, 9), 4)\n",
    "yb = scipy.ndimage.convolve(fs, h, mode='wrap') # wrap -- circular convolution\n",
    "Y_rhs = np.random.poisson(yb)"
   ]
  },
  {
   "cell_type": "code",
   "execution_count": 7,
   "metadata": {},
   "outputs": [],
   "source": [
    "skimage.io.imsave('data/camera512.png', im)"
   ]
  },
  {
   "cell_type": "code",
   "execution_count": 8,
   "metadata": {},
   "outputs": [],
   "source": [
    "# plt.figure(figsize=(20, 7))\n",
    "\n",
    "# plt.subplot(131)\n",
    "# imshow(im, 'gray')\n",
    "# plt.title('Original')\n",
    "\n",
    "# plt.subplot(132)\n",
    "# imshow(yb, 'gray')\n",
    "# plt.title('Blurred')\n",
    "\n",
    "# plt.subplot(133)\n",
    "# imshow(y, 'gray')\n",
    "# plt.title('Noise')"
   ]
  },
  {
   "cell_type": "markdown",
   "metadata": {},
   "source": [
    "M - number of objects\n",
    "\n",
    "N - number of features"
   ]
  },
  {
   "cell_type": "code",
   "execution_count": 71,
   "metadata": {},
   "outputs": [],
   "source": [
    "M, N = im.shape"
   ]
  },
  {
   "cell_type": "markdown",
   "metadata": {},
   "source": [
    "## Parameters initialization"
   ]
  },
  {
   "cell_type": "markdown",
   "metadata": {},
   "source": [
    "### From JMLR paper"
   ]
  },
  {
   "cell_type": "code",
   "execution_count": 72,
   "metadata": {},
   "outputs": [],
   "source": [
    "lam = 0\n",
    "mu = 1e-10\n",
    "\n",
    "original_A_opr = lambda x: scipy.ndimage.convolve(x, h, mode='wrap')\n",
    "original_AT_opr = lambda x: scipy.ndimage.convolve(x, h, mode='wrap')\n",
    "\n",
    "prob_A_opr = lambda z: A_opr(idct2(z))\n",
    "prob_AT_opr = lambda z: dct2(AT_opr(z))\n",
    "\n",
    "Y_g_zero = Y_rhs[Y_rhs > 0]\n",
    "Mf = max(2 / np.sqrt(Y_g_zero))"
   ]
  },
  {
   "cell_type": "markdown",
   "metadata": {},
   "source": [
    "#### Starting point"
   ]
  },
  {
   "cell_type": "code",
   "execution_count": 73,
   "metadata": {},
   "outputs": [],
   "source": [
    "A_f = original_A_opr(im)\n",
    "AT_y = original_AT_opr(Y_rhs)\n",
    "x_tmp = original_AT_opr(np.ones_like(Y_rhs, dtype=float)).sum()\n",
    "x = (Y_rhs.sum() * AT_y.size) / (AT_y.sum() * x_tmp) * AT_y\n",
    "x0 = ps.dct2(x)"
   ]
  },
  {
   "cell_type": "markdown",
   "metadata": {},
   "source": [
    "Итого:\n",
    "\n",
    "- Y_rhs -- M x N\n",
    "- x_0 -- M x N"
   ]
  },
  {
   "cell_type": "code",
   "execution_count": 74,
   "metadata": {},
   "outputs": [],
   "source": [
    "#first set of parameters\n",
    "nu = 3\n",
    "\n",
    "#running parameters\n",
    "# x0 = np.ones(n) / n\n",
    "terminate_tol = 1e-10\n",
    "# M = ps.poisson(W, y, lam, x0)[0] / lam\n",
    "\n",
    "FW_params={\n",
    "    'iter_FW': 50000,\n",
    "    'line_search_tol': 1e-10,\n",
    "}\n",
    "\n",
    "sc_params={\n",
    "    #parameters for SCOPT\n",
    "    'iter_SC': 500,\n",
    "    'Lest': 'estimate', #estimate L\n",
    "    'use_two_phase': True,\n",
    "    #FISTA parameters\n",
    "    'fista_type': 'mfista',\n",
    "    'fista_tol': 1e-5,\n",
    "    'fista_iter': 1000,\n",
    "    #Conjugate Gradient Parameters\n",
    "    'conj_grad_tol': 1e-2,\n",
    "    'conj_grad_iter': 100,\n",
    "}"
   ]
  },
  {
   "cell_type": "markdown",
   "metadata": {},
   "source": [
    "## Auxilary functions"
   ]
  },
  {
   "cell_type": "code",
   "execution_count": 75,
   "metadata": {},
   "outputs": [],
   "source": [
    "func_x = lambda x: ps.poisson_pict(Y_rhs, x, h, mu)\n",
    "# grad_x = lambda x, dot_product: ps.grad_poisson(W, y, lam, x, dot_product)\n",
    "grad_x = lambda X, Ax: ps.grad_pict(Y_rhs, X, h, mu, Ax)\n",
    "# grad_beta = lambda X, s, beta, dot_product, dot_product_s: ps.grad_poisson_pict(W, y, lam, (1 - beta) * x + beta * s, (1 - beta) * dot_product + beta * dot_product_s)\n",
    "hess_mult_x = lambda x, Ax: ps.hess_mult_pict(Y_rhs, x, h, mu, Ax)\n",
    "hess_mult_vec_x = lambda s, As: ps.hess_mult_vec_pict(Y_rhs, s, h, mu, As)\n",
    "extra_func = lambda x: W @ x\n",
    "# linear_orcale = lambda grad: ps.linear_oracle_full_simplex(grad, M)\n",
    "prox_func = lambda x, L: np.maximum(x, 0) #used for SCOPT"
   ]
  },
  {
   "cell_type": "markdown",
   "metadata": {},
   "source": [
    "## Run SCOPT"
   ]
  },
  {
   "cell_type": "code",
   "execution_count": 76,
   "metadata": {
    "scrolled": true
   },
   "outputs": [
    {
     "name": "stdout",
     "output_type": "stream",
     "text": [
      "boo\n"
     ]
    },
    {
     "ename": "TypeError",
     "evalue": "only size-1 arrays can be converted to Python scalars",
     "output_type": "error",
     "traceback": [
      "\u001b[0;31m---------------------------------------------------------------------------\u001b[0m",
      "\u001b[0;31mTypeError\u001b[0m                                 Traceback (most recent call last)",
      "\u001b[0;32m<ipython-input-76-b3fc4eaddb02>\u001b[0m in \u001b[0;36m<module>\u001b[0;34m\u001b[0m\n\u001b[1;32m      9\u001b[0m           \u001b[0msc_params\u001b[0m\u001b[0;34m,\u001b[0m\u001b[0;34m\u001b[0m\u001b[0;34m\u001b[0m\u001b[0m\n\u001b[1;32m     10\u001b[0m           \u001b[0meps\u001b[0m\u001b[0;34m=\u001b[0m\u001b[0mterminate_tol\u001b[0m\u001b[0;34m,\u001b[0m\u001b[0;34m\u001b[0m\u001b[0;34m\u001b[0m\u001b[0m\n\u001b[0;32m---> 11\u001b[0;31m           print_every=1)\n\u001b[0m\u001b[1;32m     12\u001b[0m \u001b[0;34m\u001b[0m\u001b[0m\n\u001b[1;32m     13\u001b[0m results[problem_name]['scopt'] = {\n",
      "\u001b[0;32m~/Documents/articles/scfw/scfw_experiments/scfw/scopt.py\u001b[0m in \u001b[0;36mscopt\u001b[0;34m(func_x, grad_x, hess_mult, hess_mult_vec, Mf, nu, prox_func, x0, sc_params, eps, print_every)\u001b[0m\n\u001b[1;32m    234\u001b[0m \u001b[0;34m\u001b[0m\u001b[0m\n\u001b[1;32m    235\u001b[0m         \u001b[0;32mif\u001b[0m \u001b[0;34m(\u001b[0m\u001b[0mi\u001b[0m \u001b[0;34m%\u001b[0m \u001b[0mprint_every\u001b[0m \u001b[0;34m==\u001b[0m \u001b[0;36m0\u001b[0m\u001b[0;34m)\u001b[0m \u001b[0;32mor\u001b[0m \u001b[0;34m(\u001b[0m\u001b[0mi\u001b[0m \u001b[0;34m==\u001b[0m \u001b[0;36m1\u001b[0m\u001b[0;34m)\u001b[0m\u001b[0;34m:\u001b[0m\u001b[0;34m\u001b[0m\u001b[0;34m\u001b[0m\u001b[0m\n\u001b[0;32m--> 236\u001b[0;31m             \u001b[0mprint\u001b[0m\u001b[0;34m(\u001b[0m\u001b[0;34m'iter = %4d, stepsize = %3.3e, rdiff = %3.3e , f = %g\\n'\u001b[0m \u001b[0;34m%\u001b[0m \u001b[0;34m(\u001b[0m\u001b[0mi\u001b[0m\u001b[0;34m,\u001b[0m \u001b[0mtau_k\u001b[0m\u001b[0;34m,\u001b[0m \u001b[0mrdiff\u001b[0m\u001b[0;34m,\u001b[0m \u001b[0mQ\u001b[0m\u001b[0;34m)\u001b[0m\u001b[0;34m)\u001b[0m\u001b[0;34m\u001b[0m\u001b[0;34m\u001b[0m\u001b[0m\n\u001b[0m\u001b[1;32m    237\u001b[0m \u001b[0;34m\u001b[0m\u001b[0m\n\u001b[1;32m    238\u001b[0m         \u001b[0;31m# if mod(iter, options.printst) ~= 0\u001b[0m\u001b[0;34m\u001b[0m\u001b[0;34m\u001b[0m\u001b[0;34m\u001b[0m\u001b[0m\n",
      "\u001b[0;31mTypeError\u001b[0m: only size-1 arrays can be converted to Python scalars"
     ]
    }
   ],
   "source": [
    "x, alpha_hist, Q_hist, time_hist = scopt(func_x,\n",
    "          grad_x,\n",
    "          hess_mult_x,\n",
    "          hess_mult_vec_x,\n",
    "          Mf,\n",
    "          nu,\n",
    "          prox_func,\n",
    "          x0,  \n",
    "          sc_params,\n",
    "          eps=terminate_tol,\n",
    "          print_every=1)\n",
    "    \n",
    "results[problem_name]['scopt'] = {\n",
    "    'x': x,\n",
    "    'alpha_hist': alpha_hist,\n",
    "    #'Gap_hist': Gap_hist,\n",
    "    'Q_hist': Q_hist,\n",
    "    'time_hist': time_hist,\n",
    "}"
   ]
  }
 ],
 "metadata": {
  "file_extension": ".py",
  "kernelspec": {
   "display_name": "Python 3.7.3 (pyenv)",
   "language": "python",
   "name": "venv3.7"
  },
  "language_info": {
   "codemirror_mode": {
    "name": "ipython",
    "version": 3
   },
   "file_extension": ".py",
   "mimetype": "text/x-python",
   "name": "python",
   "nbconvert_exporter": "python",
   "pygments_lexer": "ipython3",
   "version": "3.7.3"
  },
  "mimetype": "text/x-python",
  "name": "python",
  "npconvert_exporter": "python",
  "pygments_lexer": "ipython3",
  "version": 3
 },
 "nbformat": 4,
 "nbformat_minor": 4
}
