{
 "cells": [
  {
   "cell_type": "code",
   "execution_count": 1,
   "metadata": {},
   "outputs": [],
   "source": [
    "import numpy as np\n",
    "import pickle\n",
    "from sklearn.datasets import load_svmlight_file\n",
    "import matplotlib.pyplot as plt\n",
    "\n",
    "from scfw.scopt import scopt\n",
    "from scfw import dwd\n",
    "from scfw.frank_wolfe import frank_wolfe"
   ]
  },
  {
   "cell_type": "code",
   "execution_count": 6,
   "metadata": {},
   "outputs": [],
   "source": [
    "def run_fw(problem_name):\n",
    "    out_dir = os.path.join('results', 'dwd')\n",
    "    if not os.path.exists(out_dir):\n",
    "        os.mkdir(out_dir)\n",
    "    results_file = os.path.join(out_dir, problem_name + '.pckl')\n",
    "    if os.path.exists(results_file):\n",
    "        with open(results_file, 'rb') as f:\n",
    "            results = pickle.load(f)\n",
    "    else:\n",
    "        results = {problem_name: {}}\n",
    "    A, y = load_svmlight_file(os.path.join('../data', problem_name))\n",
    "    # fix classes\n",
    "    if max(y) == 2:\n",
    "        y = 2 * y - 3\n",
    "    # normalize\n",
    "    for i, row in enumerate(A):\n",
    "        if np.sum(row.multiply(row)) != 0:\n",
    "            A[i] = row.multiply(1 / np.sqrt(np.sum(row.multiply(row))))\n",
    "\n",
    "    p, d = A.shape\n",
    "    n = p + d + 1\n",
    "    q = 2\n",
    "    c = np.array([1] * p)\n",
    "\n",
    "    E = np.eye(p)\n",
    "    max_norm = max([np.linalg.norm(np.hstack((A[i].toarray().flatten(), y[i], E[i])))**(q/(q + 2)) for i in range(p)])\n",
    "    Mf = (q + 2) / (q * (q + 1))**((q + 2) / 2) * n**(1 / (q + 2)) * max_norm\n",
    "    nu = 2 * (q + 3) / (q + 2)\n",
    "    #nu = 3\n",
    "    \n",
    "    #running parameters\n",
    "    R = 1\n",
    "    u = 1\n",
    "    x0 = np.array([0]*(d + 1) + [1]*p)\n",
    "    terminate_tol = 1e-15\n",
    "    \n",
    "    #parameters for FW\n",
    "    FW_params={\n",
    "        'iter_FW':50000,\n",
    "        'line_search_tol':1e-10,\n",
    "        'rho':np.sqrt(n), #parameters for ll00\n",
    "        'diam_X':2,\n",
    "        'sigma_f':1,                   \n",
    "    }\n",
    "    \n",
    "    \n",
    "    sc_params={\n",
    "        #parameters for SCOPT\n",
    "        'iter_SC': 1000,\n",
    "        'Lest': 'backtracking',#,'estimate', #estimate L\n",
    "        'use_two_phase':False,\n",
    "        #FISTA parameters\n",
    "        'fista_type': 'mfista',\n",
    "        'fista_tol': 1e-5,\n",
    "        'fista_iter': 1000,\n",
    "        #Conjugate Gradient Parameters\n",
    "        'conj_grad_tol':1e-5,\n",
    "        'conj_grad_iter':1000,\n",
    "    }\n",
    "\n",
    "    func_x = lambda x: dwd.dwd_val(A, y, c, x, n, d, p, q)\n",
    "    func_beta = lambda x, s, beta, denom, denom_s: dwd.dwd_val(A, y, c, (1 - beta) * x + beta * s, n, d, p, q, (1 - beta) * denom + beta * denom_s)\n",
    "    grad_x = lambda x, denom: dwd.dwd_grad(A, y, c, x, n, d, p, q, denom=denom)\n",
    "    grad_beta = lambda x, s, beta, denom, denom_s: dwd.dwd_grad(A, y, c, (1 - beta) * x + beta * s, n, d, p, q, (1 - beta) * denom + beta * denom_s)\n",
    "    hess_x = lambda s, exp_product: dwd.hess()\n",
    "    hess_mult_x = lambda s, denom: dwd.hess_mult(A, y, c, s, n, d, p, q, denom=denom)\n",
    "    hess_mult_vec_x = lambda s, denom: dwd.hess_mult_vec(A, y, c, s, n, d, p, q, denom=denom)\n",
    "    extra_func = lambda x: A @ x[:d] + x[d] * y + x[(d + 1):]\n",
    "    linear_oracle = lambda grad: dwd.linear_oracle(grad, d, p, R, u)\n",
    "    # llo_oracle = lambda x, r, grad, rho: pr.llo_oracle(x, r, grad,rho)\n",
    "    prox_func = lambda x, L: dwd.projection(x, n, d, p, R, u)\n",
    "\n",
    "#    run_alpha_policies = ['standard', 'line_search', 'backtracking', 'sc']\n",
    "    run_alpha_policies = ['sc']\n",
    "\n",
    "    for policy in run_alpha_policies:\n",
    "        print(f'{policy} for {problem_name} started!')\n",
    "        x, alpha_hist, Gap_hist, Q_hist, time_hist = frank_wolfe(func_x,\n",
    "                           func_beta,                                      \n",
    "                           grad_x,\n",
    "                           grad_beta,\n",
    "                           hess_mult_x,\n",
    "                           extra_func,\n",
    "                           Mf,\n",
    "                           nu,\n",
    "                           linear_oracle,                                                    \n",
    "                           x0,\n",
    "                           FW_params,\n",
    "                           hess=None, \n",
    "                           lloo_oracle=None,                                                 \n",
    "                           alpha_policy=policy,                                                    \n",
    "                           eps=terminate_tol, \n",
    "                           print_every=1, \n",
    "                           debug_info=False)\n",
    "  \n",
    "        results[problem_name][policy] = {\n",
    "            'x': x,\n",
    "            'alpha_hist': alpha_hist,\n",
    "            'Gap_hist': Gap_hist,\n",
    "            'Q_hist': Q_hist,\n",
    "            'time_hist': time_hist,\n",
    "        }\n",
    "\n",
    "    x, alpha_hist, Q_hist, time_hist = scopt(func_x,\n",
    "        grad_x,\n",
    "        hess_mult_x,\n",
    "        hess_mult_vec_x,\n",
    "        Mf,\n",
    "        nu,\n",
    "        prox_func,\n",
    "        x0,  \n",
    "        sc_params,                                              \n",
    "        eps=terminate_tol,                                              \n",
    "        print_every=100)\n",
    "        \n",
    "    results[problem_name]['scopt'] = {\n",
    "        'x': x,\n",
    "        'alpha_hist': alpha_hist,\n",
    "        'Q_hist': Q_hist,\n",
    "        'time_hist': time_hist,\n",
    "    }\n",
    "\n",
    "#    with open(results_file, 'wb') as f:\n",
    "#        pickle.dump(results, f)    \n",
    "\n",
    "    print(f'{policy} for {problem_name} finished!')\n",
    "    return results"
   ]
  },
  {
   "cell_type": "code",
   "execution_count": 8,
   "metadata": {
    "tags": [
     "outputPrepend",
     "outputPrepend",
     "outputPrepend",
     "outputPrepend",
     "outputPrepend",
     "outputPrepend",
     "outputPrepend",
     "outputPrepend",
     "outputPrepend",
     "outputPrepend",
     "outputPrepend"
    ]
   },
   "outputs": [
    {
     "output_type": "stream",
     "name": "stdout",
     "text": "5892863930184, lower_bound=-45.728492106923, real_Gap=7.88e+01, f_val=24411387.0564964\niter=1827, stepsize=5.40e-04, criterion=1.64e-06, upper_bound=33.05892863930184, lower_bound=-45.728492106923, real_Gap=7.88e+01, f_val=1125088.3050280106\niter=1828, stepsize=5.53e-05, criterion=1.64e-06, upper_bound=33.05892863930184, lower_bound=-45.728492106923, real_Gap=7.88e+01, f_val=66709763.05248119\niter=1829, stepsize=2.65e-04, criterion=1.64e-06, upper_bound=33.05892863930184, lower_bound=-45.728492106923, real_Gap=7.88e+01, f_val=4723413.198229258\niter=1830, stepsize=2.10e-04, criterion=1.64e-06, upper_bound=33.05892863930184, lower_bound=-45.728492106923, real_Gap=7.88e+01, f_val=5388588.822682042\niter=1831, stepsize=2.53e-04, criterion=1.64e-06, upper_bound=33.05892863930184, lower_bound=-45.728492106923, real_Gap=7.88e+01, f_val=4544653.676188821\niter=1832, stepsize=2.74e-05, criterion=1.64e-06, upper_bound=33.05892863930184, lower_bound=-45.728492106923, real_Gap=7.88e+01, f_val=263463385.2214396\niter=1833, stepsize=6.53e-05, criterion=1.64e-06, upper_bound=33.05892863930184, lower_bound=-45.728492106923, real_Gap=7.88e+01, f_val=47238817.5598554\niter=1834, stepsize=1.01e-04, criterion=1.64e-06, upper_bound=33.05892863930184, lower_bound=-45.728492106923, real_Gap=7.88e+01, f_val=23335740.847894553\niter=1835, stepsize=1.40e-04, criterion=1.64e-06, upper_bound=33.05892863930184, lower_bound=-45.728492106923, real_Gap=7.88e+01, f_val=10836761.07187035\niter=1836, stepsize=4.10e-04, criterion=1.64e-06, upper_bound=33.05892863930184, lower_bound=-45.728492106923, real_Gap=7.88e+01, f_val=2337786.237177277\niter=1837, stepsize=1.10e-04, criterion=1.64e-06, upper_bound=33.05892863930184, lower_bound=-45.728492106923, real_Gap=7.88e+01, f_val=17057364.08144548\niter=1838, stepsize=3.35e-04, criterion=1.64e-06, upper_bound=33.05892863930184, lower_bound=-45.728492106923, real_Gap=7.88e+01, f_val=3168695.0251605953\niter=1839, stepsize=1.07e-04, criterion=1.64e-06, upper_bound=33.05892863930184, lower_bound=-45.728492106923, real_Gap=7.88e+01, f_val=17777851.22718626\niter=1840, stepsize=4.13e-04, criterion=1.64e-06, upper_bound=33.05892863930184, lower_bound=-45.728492106923, real_Gap=7.88e+01, f_val=2341761.266344409\niter=1841, stepsize=1.47e-04, criterion=1.64e-06, upper_bound=33.05892863930184, lower_bound=-45.728492106923, real_Gap=7.88e+01, f_val=10049320.519405331\niter=1842, stepsize=9.54e-04, criterion=1.64e-06, upper_bound=33.05892863930184, lower_bound=-45.728492106923, real_Gap=7.88e+01, f_val=587493.170163543\niter=1843, stepsize=8.19e-04, criterion=1.64e-06, upper_bound=33.05892863930184, lower_bound=-45.728492106923, real_Gap=7.88e+01, f_val=1065554.3834598733\niter=1844, stepsize=1.56e-04, criterion=1.64e-06, upper_bound=33.05892863930184, lower_bound=-45.728492106923, real_Gap=7.88e+01, f_val=10400768.292916497\niter=1845, stepsize=1.04e-03, criterion=1.64e-06, upper_bound=33.05892863930184, lower_bound=-45.728492106923, real_Gap=7.88e+01, f_val=442905.31285839615\niter=1846, stepsize=6.25e-04, criterion=1.64e-06, upper_bound=33.05892863930184, lower_bound=-45.728492106923, real_Gap=7.88e+01, f_val=1436104.7649201285\niter=1847, stepsize=1.23e-04, criterion=1.64e-06, upper_bound=33.05892863930184, lower_bound=-45.728492106923, real_Gap=7.88e+01, f_val=14427243.480940241\niter=1848, stepsize=1.03e-03, criterion=1.64e-06, upper_bound=33.05892863930184, lower_bound=-45.728492106923, real_Gap=7.88e+01, f_val=519635.49629834807\niter=1849, stepsize=9.95e-04, criterion=1.64e-06, upper_bound=33.05892863930184, lower_bound=-45.728492106923, real_Gap=7.88e+01, f_val=764504.1954515106\niter=1850, stepsize=3.78e-05, criterion=1.64e-06, upper_bound=33.05892863930184, lower_bound=-45.728492106923, real_Gap=7.88e+01, f_val=139818739.69146046\niter=1851, stepsize=3.26e-04, criterion=1.64e-06, upper_bound=33.05892863930184, lower_bound=-45.728492106923, real_Gap=7.88e+01, f_val=3777443.7758440063\niter=1852, stepsize=7.85e-04, criterion=1.64e-06, upper_bound=33.05892863930184, lower_bound=-45.728492106923, real_Gap=7.88e+01, f_val=1049339.98042245\niter=1853, stepsize=2.85e-04, criterion=1.64e-06, upper_bound=33.05892863930184, lower_bound=-45.728492106923, real_Gap=7.88e+01, f_val=4257856.47502924\niter=1854, stepsize=1.72e-03, criterion=1.64e-06, upper_bound=33.05892863930184, lower_bound=-45.728492106923, real_Gap=7.88e+01, f_val=374315.027965091\niter=1855, stepsize=2.73e-04, criterion=1.64e-06, upper_bound=33.05892863930184, lower_bound=-45.728492106923, real_Gap=7.88e+01, f_val=3783114.161201111\niter=1856, stepsize=2.31e-04, criterion=1.64e-06, upper_bound=33.05892863930184, lower_bound=-45.728492106923, real_Gap=7.88e+01, f_val=6051643.018299411\niter=1857, stepsize=8.27e-04, criterion=1.64e-06, upper_bound=33.05892863930184, lower_bound=-45.728492106923, real_Gap=7.88e+01, f_val=769095.6493743818\niter=1858, stepsize=1.14e-03, criterion=1.64e-06, upper_bound=33.05892863930184, lower_bound=-45.728492106923, real_Gap=7.88e+01, f_val=488135.4415853161\niter=1859, stepsize=2.11e-04, criterion=1.64e-06, upper_bound=33.05892863930184, lower_bound=-45.728492106923, real_Gap=7.88e+01, f_val=6481534.097954883\niter=1860, stepsize=6.35e-04, criterion=1.64e-06, upper_bound=33.05892863930184, lower_bound=-45.728492106923, real_Gap=7.88e+01, f_val=915727.1995441848\niter=1861, stepsize=2.24e-03, criterion=1.64e-06, upper_bound=33.05892863930184, lower_bound=-45.728492106923, real_Gap=7.88e+01, f_val=107439.48787678378\niter=1862, stepsize=1.04e-03, criterion=1.64e-06, upper_bound=33.05892863930184, lower_bound=-45.728492106923, real_Gap=7.88e+01, f_val=817626.8170165623\niter=1863, stepsize=5.57e-04, criterion=1.64e-06, upper_bound=33.05892863930184, lower_bound=-45.728492106923, real_Gap=7.88e+01, f_val=1867233.159668957\niter=1864, stepsize=1.71e-04, criterion=1.64e-06, upper_bound=33.05892863930184, lower_bound=-45.728492106923, real_Gap=7.88e+01, f_val=12333812.072404994\niter=1865, stepsize=4.14e-04, criterion=1.64e-06, upper_bound=33.05892863930184, lower_bound=-45.728492106923, real_Gap=7.88e+01, f_val=1684841.9904303795\niter=1866, stepsize=2.04e-04, criterion=1.64e-06, upper_bound=33.05892863930184, lower_bound=-45.728492106923, real_Gap=7.88e+01, f_val=11174639.181729907\niter=1867, stepsize=1.65e-03, criterion=1.64e-06, upper_bound=33.05892863930184, lower_bound=-45.728492106923, real_Gap=7.88e+01, f_val=298962.28030926274\niter=1868, stepsize=4.15e-04, criterion=1.64e-06, upper_bound=33.05892863930184, lower_bound=-45.728492106923, real_Gap=7.88e+01, f_val=3062405.9149305113\niter=1869, stepsize=5.04e-04, criterion=1.64e-06, upper_bound=33.05892863930184, lower_bound=-45.728492106923, real_Gap=7.88e+01, f_val=2698366.511507267\niter=1870, stepsize=1.10e-04, criterion=1.64e-06, upper_bound=33.05892863930184, lower_bound=-45.728492106923, real_Gap=7.88e+01, f_val=24080023.66617415\niter=1871, stepsize=5.60e-04, criterion=1.64e-06, upper_bound=33.05892863930184, lower_bound=-45.728492106923, real_Gap=7.88e+01, f_val=1461783.5633154532\niter=1872, stepsize=4.80e-04, criterion=1.64e-06, upper_bound=33.05892863930184, lower_bound=-45.728492106923, real_Gap=7.88e+01, f_val=1716932.6630246874\niter=1873, stepsize=8.42e-04, criterion=1.64e-06, upper_bound=33.05892863930184, lower_bound=-45.728492106923, real_Gap=7.88e+01, f_val=670362.7640384715\niter=1874, stepsize=1.28e-04, criterion=1.64e-06, upper_bound=33.05892863930184, lower_bound=-45.728492106923, real_Gap=7.88e+01, f_val=12712977.2104179\niter=1875, stepsize=6.19e-04, criterion=1.64e-06, upper_bound=33.05892863930184, lower_bound=-45.728492106923, real_Gap=7.88e+01, f_val=1203050.8513121875\niter=1876, stepsize=1.54e-03, criterion=1.64e-06, upper_bound=33.05892863930184, lower_bound=-45.728492106923, real_Gap=7.88e+01, f_val=306212.0907305477\niter=1877, stepsize=5.64e-04, criterion=1.64e-06, upper_bound=33.05892863930184, lower_bound=-45.728492106923, real_Gap=7.88e+01, f_val=1397055.4748297557\niter=1878, stepsize=2.12e-04, criterion=1.64e-06, upper_bound=33.05892863930184, lower_bound=-45.728492106923, real_Gap=7.88e+01, f_val=6355213.488082327\niter=1879, stepsize=4.17e-04, criterion=1.64e-06, upper_bound=33.05892863930184, lower_bound=-45.728492106923, real_Gap=7.88e+01, f_val=3124590.10465404\niter=1880, stepsize=3.84e-05, criterion=1.64e-06, upper_bound=33.05892863930184, lower_bound=-45.728492106923, real_Gap=7.88e+01, f_val=136313288.16819492\niter=1881, stepsize=2.44e-04, criterion=1.64e-06, upper_bound=33.05892863930184, lower_bound=-45.728492106923, real_Gap=7.88e+01, f_val=4122134.5954213724\niter=1882, stepsize=4.33e-04, criterion=1.64e-06, upper_bound=33.05892863930184, lower_bound=-45.728492106923, real_Gap=7.88e+01, f_val=1667660.8515422205\niter=1883, stepsize=1.30e-04, criterion=1.64e-06, upper_bound=33.05892863930184, lower_bound=-45.728492106923, real_Gap=7.88e+01, f_val=32016603.118434712\niter=1884, stepsize=2.10e-04, criterion=1.64e-06, upper_bound=33.05892863930184, lower_bound=-45.728492106923, real_Gap=7.88e+01, f_val=5124129.289827325\niter=1885, stepsize=1.21e-04, criterion=1.64e-06, upper_bound=33.05892863930184, lower_bound=-45.728492106923, real_Gap=7.88e+01, f_val=16939365.401235692\niter=1886, stepsize=3.84e-04, criterion=1.64e-06, upper_bound=33.05892863930184, lower_bound=-45.728492106923, real_Gap=7.88e+01, f_val=2686084.2516414877\niter=1887, stepsize=6.42e-04, criterion=1.64e-06, upper_bound=33.05892863930184, lower_bound=-45.728492106923, real_Gap=7.88e+01, f_val=1013364.1027326531\niter=1888, stepsize=1.66e-04, criterion=1.64e-06, upper_bound=33.05892863930184, lower_bound=-45.728492106923, real_Gap=7.88e+01, f_val=8197661.010060122\niter=1889, stepsize=5.69e-04, criterion=1.64e-06, upper_bound=33.05892863930184, lower_bound=-45.728492106923, real_Gap=7.88e+01, f_val=962675.4014633612\niter=1890, stepsize=1.51e-04, criterion=1.64e-06, upper_bound=33.05892863930184, lower_bound=-45.728492106923, real_Gap=7.88e+01, f_val=9940443.006675972\niter=1891, stepsize=7.87e-04, criterion=1.64e-06, upper_bound=33.05892863930184, lower_bound=-45.728492106923, real_Gap=7.88e+01, f_val=689094.6519101138\niter=1892, stepsize=4.24e-04, criterion=1.64e-06, upper_bound=33.05892863930184, lower_bound=-45.728492106923, real_Gap=7.88e+01, f_val=4039458.411278265\niter=1893, stepsize=2.09e-05, criterion=1.64e-06, upper_bound=33.05892863930184, lower_bound=-45.728492106923, real_Gap=7.88e+01, f_val=453542359.79171354\niter=1894, stepsize=3.85e-07, criterion=6.75e-07, upper_bound=33.05892863930184, lower_bound=-45.728492106923, real_Gap=7.88e+01, f_val=1323561575681.3884\niter=1895, stepsize=2.53e-05, criterion=6.75e-07, upper_bound=33.05892863930184, lower_bound=-45.728492106923, real_Gap=7.88e+01, f_val=310945338.4027857\niter=1896, stepsize=2.72e-04, criterion=6.75e-07, upper_bound=33.05892863930184, lower_bound=-45.728492106923, real_Gap=7.88e+01, f_val=4740313.893825079\niter=1897, stepsize=2.92e-04, criterion=6.75e-07, upper_bound=33.05892863930184, lower_bound=-45.728492106923, real_Gap=7.88e+01, f_val=4609965.562408648\niter=1898, stepsize=9.07e-04, criterion=6.75e-07, upper_bound=33.05892863930184, lower_bound=-45.728492106923, real_Gap=7.88e+01, f_val=1234866.3539601595\niter=1899, stepsize=1.84e-04, criterion=6.75e-07, upper_bound=33.05892863930184, lower_bound=-45.728492106923, real_Gap=7.88e+01, f_val=7270027.983922238\niter=1900, stepsize=4.75e-05, criterion=6.75e-07, upper_bound=33.05892863930184, lower_bound=-45.728492106923, real_Gap=7.88e+01, f_val=88558354.79708782\niter=1901, stepsize=1.93e-04, criterion=6.75e-07, upper_bound=33.05892863930184, lower_bound=-45.728492106923, real_Gap=7.88e+01, f_val=7121501.8850354105\niter=1902, stepsize=1.80e-04, criterion=6.75e-07, upper_bound=33.05892863930184, lower_bound=-45.728492106923, real_Gap=7.88e+01, f_val=6413672.564380956\niter=1903, stepsize=1.07e-04, criterion=6.75e-07, upper_bound=33.05892863930184, lower_bound=-45.728492106923, real_Gap=7.88e+01, f_val=35352491.5804682\niter=1904, stepsize=6.65e-04, criterion=6.75e-07, upper_bound=33.05892863930184, lower_bound=-45.728492106923, real_Gap=7.88e+01, f_val=1711207.485731848\niter=1905, stepsize=1.33e-03, criterion=6.75e-07, upper_bound=33.05892863930184, lower_bound=-45.728492106923, real_Gap=7.88e+01, f_val=579917.8498505878\niter=1906, stepsize=2.28e-04, criterion=6.75e-07, upper_bound=33.05892863930184, lower_bound=-45.728492106923, real_Gap=7.88e+01, f_val=4090655.9356638626\niter=1907, stepsize=4.96e-04, criterion=6.75e-07, upper_bound=33.05892863930184, lower_bound=-45.728492106923, real_Gap=7.88e+01, f_val=1065072.769363278\niter=1908, stepsize=3.11e-04, criterion=6.75e-07, upper_bound=33.05892863930184, lower_bound=-45.728492106923, real_Gap=7.88e+01, f_val=4527022.785647153\niter=1909, stepsize=1.60e-04, criterion=6.75e-07, upper_bound=33.05892863930184, lower_bound=-45.728492106923, real_Gap=7.88e+01, f_val=8659460.36819867\niter=1910, stepsize=1.77e-03, criterion=6.75e-07, upper_bound=33.05892863930184, lower_bound=-45.728492106923, real_Gap=7.88e+01, f_val=247286.57090387\niter=1911, stepsize=6.00e-04, criterion=6.75e-07, upper_bound=33.05892863930184, lower_bound=-45.728492106923, real_Gap=7.88e+01, f_val=1106405.8393149083\niter=1912, stepsize=1.55e-04, criterion=6.75e-07, upper_bound=33.05892863930184, lower_bound=-45.728492106923, real_Gap=7.88e+01, f_val=11005737.471421387\niter=1913, stepsize=3.00e-04, criterion=6.75e-07, upper_bound=33.05892863930184, lower_bound=-45.728492106923, real_Gap=7.88e+01, f_val=4784097.484569591\niter=1914, stepsize=7.36e-04, criterion=6.75e-07, upper_bound=33.05892863930184, lower_bound=-45.728492106923, real_Gap=7.88e+01, f_val=1025570.6058966151\niter=1915, stepsize=2.26e-04, criterion=6.75e-07, upper_bound=33.05892863930184, lower_bound=-45.728492106923, real_Gap=7.88e+01, f_val=6270246.391902291\niter=1916, stepsize=1.09e-03, criterion=6.75e-07, upper_bound=33.05892863930184, lower_bound=-45.728492106923, real_Gap=7.88e+01, f_val=466991.42799173325\niter=1917, stepsize=3.05e-03, criterion=6.75e-07, upper_bound=33.05892863930184, lower_bound=-45.728492106923, real_Gap=7.88e+01, f_val=155252.9527029249\niter=1918, stepsize=1.20e-04, criterion=6.75e-07, upper_bound=33.05892863930184, lower_bound=-45.728492106923, real_Gap=7.88e+01, f_val=13796632.946671806\niter=1919, stepsize=1.43e-03, criterion=6.75e-07, upper_bound=33.05892863930184, lower_bound=-45.728492106923, real_Gap=7.88e+01, f_val=486658.91641587956\niter=1920, stepsize=1.85e-03, criterion=6.75e-07, upper_bound=33.05892863930184, lower_bound=-45.728492106923, real_Gap=7.88e+01, f_val=162125.4101764374\niter=1921, stepsize=1.73e-05, criterion=6.75e-07, upper_bound=33.05892863930184, lower_bound=-45.728492106923, real_Gap=7.88e+01, f_val=654445689.0908757\niter=1922, stepsize=4.92e-04, criterion=6.75e-07, upper_bound=33.05892863930184, lower_bound=-45.728492106923, real_Gap=7.88e+01, f_val=1571716.5605336616\niter=1923, stepsize=3.72e-04, criterion=6.75e-07, upper_bound=33.05892863930184, lower_bound=-45.728492106923, real_Gap=7.88e+01, f_val=2400368.426435051\niter=1924, stepsize=6.47e-04, criterion=6.75e-07, upper_bound=33.05892863930184, lower_bound=-45.728492106923, real_Gap=7.88e+01, f_val=682689.2812721616\niter=1925, stepsize=8.94e-04, criterion=6.75e-07, upper_bound=33.05892863930184, lower_bound=-45.728492106923, real_Gap=7.88e+01, f_val=635219.8324221467\niter=1926, stepsize=1.50e-03, criterion=6.75e-07, upper_bound=33.05892863930184, lower_bound=-45.728492106923, real_Gap=7.88e+01, f_val=258470.171940933\niter=1927, stepsize=4.59e-04, criterion=6.75e-07, upper_bound=33.05892863930184, lower_bound=-45.728492106923, real_Gap=7.88e+01, f_val=1168008.6186107725\niter=1928, stepsize=1.70e-04, criterion=6.75e-07, upper_bound=33.05892863930184, lower_bound=-45.728492106923, real_Gap=7.88e+01, f_val=16345255.479083316\niter=1929, stepsize=4.08e-04, criterion=6.75e-07, upper_bound=33.05892863930184, lower_bound=-45.728492106923, real_Gap=7.88e+01, f_val=1875832.1547832617\niter=1930, stepsize=3.95e-04, criterion=6.75e-07, upper_bound=33.05892863930184, lower_bound=-45.728492106923, real_Gap=7.88e+01, f_val=2321915.1978467535\niter=1931, stepsize=4.55e-04, criterion=6.75e-07, upper_bound=33.05892863930184, lower_bound=-45.728492106923, real_Gap=7.88e+01, f_val=1172431.6624069384\niter=1932, stepsize=8.11e-04, criterion=6.75e-07, upper_bound=33.05892863930184, lower_bound=-45.728492106923, real_Gap=7.88e+01, f_val=934994.5489653407\niter=1933, stepsize=2.90e-04, criterion=6.75e-07, upper_bound=33.05892863930184, lower_bound=-45.728492106923, real_Gap=7.88e+01, f_val=2968329.8309401073\niter=1934, stepsize=1.12e-04, criterion=6.75e-07, upper_bound=33.05892863930184, lower_bound=-45.728492106923, real_Gap=7.88e+01, f_val=20264394.051458184\niter=1935, stepsize=2.19e-04, criterion=6.75e-07, upper_bound=33.05892863930184, lower_bound=-45.728492106923, real_Gap=7.88e+01, f_val=5398475.818500765\niter=1936, stepsize=5.03e-05, criterion=6.75e-07, upper_bound=33.05892863930184, lower_bound=-45.728492106923, real_Gap=7.88e+01, f_val=77932157.14658278\niter=1937, stepsize=6.26e-05, criterion=6.75e-07, upper_bound=33.05892863930184, lower_bound=-45.728492106923, real_Gap=7.88e+01, f_val=67704767.00461149\niter=1938, stepsize=1.00e-03, criterion=6.75e-07, upper_bound=33.05892863930184, lower_bound=-45.728492106923, real_Gap=7.88e+01, f_val=453942.78697246395\niter=1939, stepsize=1.55e-03, criterion=6.75e-07, upper_bound=33.05892863930184, lower_bound=-45.728492106923, real_Gap=7.88e+01, f_val=254604.8128270819\niter=1940, stepsize=2.01e-04, criterion=6.75e-07, upper_bound=33.05892863930184, lower_bound=-45.728492106923, real_Gap=7.88e+01, f_val=5276644.572149228\niter=1941, stepsize=6.55e-04, criterion=6.75e-07, upper_bound=33.05892863930184, lower_bound=-45.728492106923, real_Gap=7.88e+01, f_val=1400600.701455988\niter=1942, stepsize=1.82e-03, criterion=6.75e-07, upper_bound=33.05892863930184, lower_bound=-45.728492106923, real_Gap=7.88e+01, f_val=324776.6833042221\niter=1943, stepsize=3.14e-04, criterion=6.75e-07, upper_bound=33.05892863930184, lower_bound=-45.728492106923, real_Gap=7.88e+01, f_val=2117289.5965152145\niter=1944, stepsize=3.18e-04, criterion=6.75e-07, upper_bound=33.05892863930184, lower_bound=-45.728492106923, real_Gap=7.88e+01, f_val=5684546.615229677\niter=1945, stepsize=2.36e-03, criterion=6.75e-07, upper_bound=33.05892863930184, lower_bound=-45.728492106923, real_Gap=7.88e+01, f_val=139788.825909004\niter=1946, stepsize=4.34e-03, criterion=6.75e-07, upper_bound=33.05892863930184, lower_bound=-45.728492106923, real_Gap=7.88e+01, f_val=36079.962934232106\niter=1947, stepsize=1.22e-03, criterion=6.75e-07, upper_bound=33.05892863930184, lower_bound=-45.728492106923, real_Gap=7.88e+01, f_val=154817.2658023063\niter=1948, stepsize=2.58e-03, criterion=6.75e-07, upper_bound=33.05892863930184, lower_bound=-45.728492106923, real_Gap=7.88e+01, f_val=37501.40414959904\niter=1949, stepsize=2.12e-04, criterion=6.75e-07, upper_bound=33.05892863930184, lower_bound=-45.728492106923, real_Gap=7.88e+01, f_val=4380199.297257285\niter=1950, stepsize=5.07e-03, criterion=6.75e-07, upper_bound=33.05892863930184, lower_bound=-45.728492106923, real_Gap=7.88e+01, f_val=19440.657236342267\niter=1951, stepsize=1.55e-02, criterion=6.75e-07, upper_bound=33.05892863930184, lower_bound=-45.728492106923, real_Gap=7.88e+01, f_val=1562.2425902924367\niter=1952, stepsize=1.34e-01, criterion=6.75e-07, upper_bound=33.05892863930184, lower_bound=-45.728492106923, real_Gap=7.88e+01, f_val=182.63167132909908\niter=1953, stepsize=6.48e-01, criterion=6.75e-07, upper_bound=3.566164179259994, lower_bound=-45.728492106923, real_Gap=4.93e+01, f_val=3.566164179259994\niter=1954, stepsize=9.95e-01, criterion=6.75e-07, upper_bound=-31.083129467090775, lower_bound=-45.728492106923, real_Gap=1.46e+01, f_val=-31.083129467090775\niter=1955, stepsize=6.96e-01, criterion=6.75e-07, upper_bound=-41.61264012181242, lower_bound=-45.728492106923, real_Gap=4.12e+00, f_val=-41.61264012181242\n"
    },
    {
     "output_type": "error",
     "ename": "SystemExit",
     "evalue": "lower bound bigger than upper bound",
     "traceback": [
      "An exception has occurred, use %tb to see the full traceback.\n",
      "\u001b[1;31mSystemExit\u001b[0m\u001b[1;31m:\u001b[0m lower bound bigger than upper bound\n"
     ]
    }
   ],
   "source": [
    "#files = ['a1a','a2a','a3a', 'a4a', 'a5a', 'a6a','a7a','a8a','a9a','w1a','w2a','w3a', 'w4a', 'w5a','w6a','w7a','w8a']\n",
    "files = ['a2a']\n",
    "\n",
    "for problem_name in files:\n",
    "    results = run_fw(problem_name)"
   ]
  },
  {
   "cell_type": "code",
   "execution_count": 22,
   "metadata": {},
   "outputs": [],
   "source": [
    "delta_v = 0.256098\n",
    "const = 3\n",
    "Gap = 1645.341991\n",
    "e = 2.068781\n",
    "\n",
    "t = 1 / delta_v * (1 - (1 + (-delta_v * Gap * const / (e ** 2)))) ** (-1 / const)"
   ]
  },
  {
   "cell_type": "code",
   "execution_count": 37,
   "metadata": {},
   "outputs": [],
   "source": [
    "A, y = load_svmlight_file(os.path.join('../data', 'a1a'))\n",
    "p, d = A.shape\n",
    "n = p + d + 1\n",
    "q = 2"
   ]
  },
  {
   "cell_type": "code",
   "execution_count": 38,
   "metadata": {},
   "outputs": [],
   "source": [
    "E = np.eye(p)"
   ]
  },
  {
   "cell_type": "code",
   "execution_count": 39,
   "metadata": {},
   "outputs": [],
   "source": [
    "max_norm = max([np.linalg.norm(np.hstack((A[i].toarray().flatten(), y[i], E[i])))**(q/(q + 2)) for i in range(p)])"
   ]
  },
  {
   "cell_type": "code",
   "execution_count": 41,
   "metadata": {},
   "outputs": [
    {
     "output_type": "execute_result",
     "data": {
      "text/plain": "[2.0,\n 2.0,\n 2.0,\n 2.0,\n 2.0,\n 2.0,\n 2.0,\n 2.0,\n 2.0,\n 2.0,\n 1.9343364202676694,\n 2.0,\n 2.0,\n 2.0,\n 1.9343364202676694,\n 2.0,\n 2.0,\n 2.0,\n 2.0,\n 2.0,\n 2.0,\n 2.0,\n 2.0,\n 2.0,\n 2.0,\n 2.0,\n 2.0,\n 2.0,\n 2.0,\n 2.0,\n 1.9343364202676694,\n 1.9343364202676694,\n 2.0,\n 2.0,\n 2.0,\n 2.0,\n 2.0,\n 2.0,\n 2.0,\n 2.0,\n 2.0,\n 2.0,\n 2.0,\n 2.0,\n 2.0,\n 2.0,\n 2.0,\n 2.0,\n 2.0,\n 2.0,\n 2.0,\n 2.0,\n 2.0,\n 2.0,\n 2.0,\n 2.0,\n 2.0,\n 2.0,\n 2.0,\n 2.0,\n 2.0,\n 1.9343364202676694,\n 2.0,\n 2.0,\n 2.0,\n 2.0,\n 2.0,\n 2.0,\n 2.0,\n 2.0,\n 2.0,\n 2.0,\n 2.0,\n 2.0,\n 2.0,\n 2.0,\n 2.0,\n 2.0,\n 2.0,\n 2.0,\n 2.0,\n 2.0,\n 2.0,\n 2.0,\n 2.0,\n 2.0,\n 2.0,\n 2.0,\n 2.0,\n 2.0,\n 2.0,\n 2.0,\n 2.0,\n 2.0,\n 2.0,\n 2.0,\n 2.0,\n 2.0,\n 2.0,\n 2.0,\n 2.0,\n 2.0,\n 2.0,\n 2.0,\n 2.0,\n 2.0,\n 2.0,\n 2.0,\n 2.0,\n 2.0,\n 1.9679896712654306,\n 2.0,\n 2.0,\n 2.0,\n 2.0,\n 2.0,\n 2.0,\n 2.0,\n 2.0,\n 2.0,\n 2.0,\n 2.0,\n 2.0,\n 2.0,\n 1.9343364202676694,\n 2.0,\n 1.9679896712654306,\n 2.0,\n 2.0,\n 2.0,\n 2.0,\n 2.0,\n 2.0,\n 2.0,\n 2.0,\n 2.0,\n 1.9679896712654306,\n 2.0,\n 2.0,\n 2.0,\n 2.0,\n 2.0,\n 1.9343364202676694,\n 2.0,\n 2.0,\n 2.0,\n 2.0,\n 2.0,\n 1.9343364202676694,\n 2.0,\n 2.0,\n 1.9343364202676694,\n 2.0,\n 2.0,\n 2.0,\n 2.0,\n 2.0,\n 2.0,\n 2.0,\n 2.0,\n 2.0,\n 2.0,\n 2.0,\n 2.0,\n 2.0,\n 2.0,\n 2.0,\n 2.0,\n 2.0,\n 1.9343364202676694,\n 2.0,\n 2.0,\n 2.0,\n 2.0,\n 2.0,\n 2.0,\n 2.0,\n 2.0,\n 2.0,\n 2.0,\n 2.0,\n 2.0,\n 2.0,\n 2.0,\n 2.0,\n 2.0,\n 2.0,\n 2.0,\n 2.0,\n 2.0,\n 2.0,\n 2.0,\n 2.0,\n 2.0,\n 2.0,\n 2.0,\n 2.0,\n 2.0,\n 2.0,\n 1.9343364202676694,\n 1.9343364202676694,\n 2.0,\n 2.0,\n 1.9343364202676694,\n 2.0,\n 2.0,\n 2.0,\n 2.0,\n 2.0,\n 2.0,\n 2.0,\n 2.0,\n 2.0,\n 2.0,\n 2.0,\n 2.0,\n 2.0,\n 2.0,\n 1.9343364202676694,\n 2.0,\n 2.0,\n 2.0,\n 2.0,\n 2.0,\n 2.0,\n 2.0,\n 1.9679896712654306,\n 2.0,\n 2.0,\n 2.0,\n 1.9679896712654306,\n 2.0,\n 2.0,\n 1.9679896712654306,\n 2.0,\n 2.0,\n 2.0,\n 2.0,\n 2.0,\n 2.0,\n 2.0,\n 2.0,\n 2.0,\n 2.0,\n 2.0,\n 1.9679896712654306,\n 2.0,\n 2.0,\n 2.0,\n 2.0,\n 2.0,\n 2.0,\n 2.0,\n 2.0,\n 2.0,\n 2.0,\n 2.0,\n 2.0,\n 2.0,\n 2.0,\n 2.0,\n 2.0,\n 2.0,\n 2.0,\n 2.0,\n 2.0,\n 2.0,\n 2.0,\n 2.0,\n 2.0,\n 2.0,\n 1.9679896712654306,\n 2.0,\n 2.0,\n 2.0,\n 2.0,\n 2.0,\n 2.0,\n 2.0,\n 2.0,\n 2.0,\n 2.0,\n 2.0,\n 2.0,\n 2.0,\n 2.0,\n 2.0,\n 1.9679896712654306,\n 2.0,\n 2.0,\n 2.0,\n 2.0,\n 2.0,\n 2.0,\n 2.0,\n 2.0,\n 2.0,\n 2.0,\n 2.0,\n 2.0,\n 2.0,\n 2.0,\n 2.0,\n 2.0,\n 2.0,\n 2.0,\n 2.0,\n 2.0,\n 2.0,\n 2.0,\n 2.0,\n 2.0,\n 2.0,\n 2.0,\n 2.0,\n 2.0,\n 2.0,\n 2.0,\n 2.0,\n 2.0,\n 1.9343364202676694,\n 2.0,\n 2.0,\n 1.9343364202676694,\n 2.0,\n 2.0,\n 1.9679896712654306,\n 2.0,\n 2.0,\n 2.0,\n 2.0,\n 2.0,\n 2.0,\n 2.0,\n 2.0,\n 2.0,\n 2.0,\n 2.0,\n 2.0,\n 2.0,\n 2.0,\n 2.0,\n 1.9343364202676694,\n 2.0,\n 2.0,\n 2.0,\n 2.0,\n 2.0,\n 2.0,\n 2.0,\n 2.0,\n 2.0,\n 2.0,\n 1.9343364202676694,\n 2.0,\n 2.0,\n 2.0,\n 2.0,\n 2.0,\n 2.0,\n 2.0,\n 2.0,\n 2.0,\n 2.0,\n 2.0,\n 2.0,\n 2.0,\n 2.0,\n 1.9343364202676694,\n 2.0,\n 2.0,\n 2.0,\n 2.0,\n 2.0,\n 2.0,\n 2.0,\n 2.0,\n 2.0,\n 2.0,\n 2.0,\n 2.0,\n 2.0,\n 2.0,\n 2.0,\n 2.0,\n 2.0,\n 2.0,\n 2.0,\n 2.0,\n 2.0,\n 2.0,\n 2.0,\n 2.0,\n 2.0,\n 2.0,\n 2.0,\n 2.0,\n 2.0,\n 2.0,\n 2.0,\n 2.0,\n 1.9343364202676694,\n 2.0,\n 2.0,\n 2.0,\n 2.0,\n 2.0,\n 2.0,\n 1.9343364202676694,\n 2.0,\n 2.0,\n 2.0,\n 2.0,\n 2.0,\n 2.0,\n 2.0,\n 2.0,\n 1.9343364202676694,\n 2.0,\n 2.0,\n 2.0,\n 2.0,\n 2.0,\n 2.0,\n 1.9343364202676694,\n 2.0,\n 2.0,\n 2.0,\n 2.0,\n 2.0,\n 2.0,\n 2.0,\n 2.0,\n 2.0,\n 2.0,\n 2.0,\n 2.0,\n 2.0,\n 2.0,\n 2.0,\n 1.9343364202676694,\n 2.0,\n 2.0,\n 2.0,\n 2.0,\n 2.0,\n 2.0,\n 2.0,\n 2.0,\n 2.0,\n 2.0,\n 2.0,\n 2.0,\n 2.0,\n 2.0,\n 2.0,\n 2.0,\n 2.0,\n 2.0,\n 2.0,\n 2.0,\n 2.0,\n 2.0,\n 2.0,\n 1.9343364202676694,\n 1.9343364202676694,\n 2.0,\n 2.0,\n 2.0,\n 2.0,\n 2.0,\n 1.9343364202676694,\n 2.0,\n 2.0,\n 2.0,\n 2.0,\n 2.0,\n 2.0,\n 2.0,\n 2.0,\n 2.0,\n 2.0,\n 2.0,\n 2.0,\n 2.0,\n 2.0,\n 2.0,\n 2.0,\n 2.0,\n 2.0,\n 2.0,\n 2.0,\n 2.0,\n 2.0,\n 1.9679896712654306,\n 2.0,\n 1.9343364202676694,\n 1.9343364202676694,\n 2.0,\n 2.0,\n 2.0,\n 2.0,\n 2.0,\n 2.0,\n 2.0,\n 2.0,\n 2.0,\n 2.0,\n 2.0,\n 2.0,\n 2.0,\n 2.0,\n 2.0,\n 2.0,\n 2.0,\n 1.9679896712654306,\n 2.0,\n 2.0,\n 2.0,\n 2.0,\n 2.0,\n 2.0,\n 2.0,\n 2.0,\n 2.0,\n 2.0,\n 2.0,\n 2.0,\n 2.0,\n 2.0,\n 1.9343364202676694,\n 2.0,\n 2.0,\n 2.0,\n 2.0,\n 2.0,\n 2.0,\n 2.0,\n 2.0,\n 2.0,\n 2.0,\n 2.0,\n 2.0,\n 2.0,\n 2.0,\n 2.0,\n 2.0,\n 1.9343364202676694,\n 2.0,\n 2.0,\n 1.9679896712654306,\n 1.9343364202676694,\n 2.0,\n 2.0,\n 2.0,\n 2.0,\n 2.0,\n 2.0,\n 2.0,\n 2.0,\n 2.0,\n 1.9679896712654306,\n 2.0,\n 2.0,\n 2.0,\n 2.0,\n 2.0,\n 2.0,\n 2.0,\n 2.0,\n 2.0,\n 2.0,\n 2.0,\n 2.0,\n 2.0,\n 2.0,\n 2.0,\n 2.0,\n 2.0,\n 2.0,\n 2.0,\n 2.0,\n 2.0,\n 2.0,\n 2.0,\n 2.0,\n 2.0,\n 2.0,\n 2.0,\n 2.0,\n 2.0,\n 2.0,\n 2.0,\n 2.0,\n 2.0,\n 2.0,\n 2.0,\n 2.0,\n 2.0,\n 2.0,\n 2.0,\n 2.0,\n 2.0,\n 2.0,\n 2.0,\n 2.0,\n 2.0,\n 2.0,\n 2.0,\n 1.9343364202676694,\n 2.0,\n 2.0,\n 2.0,\n 2.0,\n 2.0,\n 2.0,\n 2.0,\n 2.0,\n 2.0,\n 2.0,\n 2.0,\n 2.0,\n 1.9343364202676694,\n 2.0,\n 2.0,\n 2.0,\n 2.0,\n 2.0,\n 2.0,\n 2.0,\n 2.0,\n 2.0,\n 2.0,\n 1.9343364202676694,\n 2.0,\n 1.9679896712654306,\n 2.0,\n 2.0,\n 2.0,\n 2.0,\n 2.0,\n 2.0,\n 2.0,\n 2.0,\n 2.0,\n 2.0,\n 2.0,\n 2.0,\n 2.0,\n 2.0,\n 2.0,\n 2.0,\n 2.0,\n 2.0,\n 2.0,\n 2.0,\n 2.0,\n 2.0,\n 2.0,\n 2.0,\n 2.0,\n 2.0,\n 2.0,\n 1.9343364202676694,\n 2.0,\n 2.0,\n 2.0,\n 2.0,\n 1.9679896712654306,\n 2.0,\n 2.0,\n 2.0,\n 2.0,\n 2.0,\n 2.0,\n 2.0,\n 2.0,\n 2.0,\n 2.0,\n 2.0,\n 2.0,\n 2.0,\n 2.0,\n 2.0,\n 2.0,\n 2.0,\n 2.0,\n 2.0,\n 2.0,\n 2.0,\n 2.0,\n 1.9343364202676694,\n 2.0,\n 2.0,\n 2.0,\n 2.0,\n 2.0,\n 2.0,\n 2.0,\n 1.9343364202676694,\n 2.0,\n 2.0,\n 2.0,\n 2.0,\n 2.0,\n 2.0,\n 2.0,\n 2.0,\n 2.0,\n 2.0,\n 2.0,\n 2.0,\n 2.0,\n 2.0,\n 2.0,\n 1.9679896712654306,\n 2.0,\n 2.0,\n 2.0,\n 2.0,\n 2.0,\n 2.0,\n 2.0,\n 2.0,\n 2.0,\n 2.0,\n 2.0,\n 2.0,\n 2.0,\n 2.0,\n 2.0,\n 2.0,\n 2.0,\n 2.0,\n 2.0,\n 2.0,\n 2.0,\n 1.9343364202676694,\n 2.0,\n 2.0,\n 2.0,\n 2.0,\n 2.0,\n 1.9343364202676694,\n 2.0,\n 1.9343364202676694,\n 2.0,\n 2.0,\n 2.0,\n 1.9343364202676694,\n 2.0,\n 1.9343364202676694,\n 2.0,\n 2.0,\n 2.0,\n 2.0,\n 2.0,\n 2.0,\n 1.9679896712654306,\n 2.0,\n 2.0,\n 2.0,\n 2.0,\n 2.0,\n 1.9679896712654306,\n 2.0,\n 2.0,\n 2.0,\n 2.0,\n 2.0,\n 2.0,\n 2.0,\n 2.0,\n 2.0,\n 2.0,\n 2.0,\n 2.0,\n 2.0,\n 2.0,\n 1.9343364202676694,\n 2.0,\n 2.0,\n 2.0,\n 2.0,\n 2.0,\n 2.0,\n 2.0,\n 2.0,\n 2.0,\n 2.0,\n 2.0,\n 2.0,\n 2.0,\n 2.0,\n 2.0,\n 2.0,\n 1.9343364202676694,\n 2.0,\n 2.0,\n 2.0,\n 2.0,\n 2.0,\n 1.9679896712654306,\n 2.0,\n 2.0,\n 2.0,\n 1.9343364202676694,\n 2.0,\n 2.0,\n 2.0,\n 2.0,\n 2.0,\n 1.9343364202676694,\n 2.0,\n 2.0,\n 2.0,\n 2.0,\n 2.0,\n 2.0,\n 2.0,\n 2.0,\n 2.0,\n 2.0,\n 2.0,\n 2.0,\n 2.0,\n 2.0,\n 2.0,\n 2.0,\n 2.0,\n 2.0,\n 2.0,\n 2.0,\n 2.0,\n 2.0,\n 2.0,\n 2.0,\n 2.0,\n 2.0,\n 2.0,\n 2.0,\n 2.0,\n 2.0,\n 2.0,\n 2.0,\n 2.0,\n 2.0,\n 2.0,\n 2.0,\n 2.0,\n 2.0,\n 2.0,\n 2.0,\n 2.0,\n 2.0,\n 2.0,\n 2.0,\n 2.0,\n 2.0,\n 2.0,\n 2.0,\n 2.0,\n 2.0,\n 2.0,\n 2.0,\n 2.0,\n 2.0,\n 2.0,\n 2.0,\n 2.0,\n 2.0,\n 2.0,\n 2.0,\n 2.0,\n 2.0,\n 2.0,\n 2.0,\n 2.0,\n 2.0,\n 2.0,\n 2.0,\n 2.0,\n 2.0,\n 2.0,\n 2.0,\n 2.0,\n 2.0,\n 2.0,\n 1.9343364202676694,\n 2.0,\n 2.0,\n 2.0,\n 1.9343364202676694,\n 2.0,\n 2.0,\n 2.0,\n 2.0,\n 2.0,\n 2.0,\n 2.0,\n 2.0,\n 2.0,\n 2.0,\n 2.0,\n 2.0,\n 2.0,\n 2.0,\n 2.0,\n 1.9343364202676694,\n 2.0,\n 2.0,\n 2.0,\n 2.0,\n 2.0,\n 2.0,\n 2.0,\n 2.0,\n 2.0,\n 2.0,\n 2.0,\n 2.0,\n 2.0,\n 2.0,\n 2.0,\n 2.0,\n 2.0,\n 2.0,\n 2.0,\n 2.0,\n 2.0,\n 2.0,\n 1.9343364202676694,\n 2.0,\n 2.0,\n 2.0,\n 2.0,\n 2.0,\n 2.0,\n 2.0,\n 2.0,\n 2.0,\n 2.0,\n 2.0,\n 2.0,\n 2.0,\n 2.0,\n 2.0,\n 2.0,\n 2.0,\n 2.0,\n 2.0,\n 2.0,\n 2.0,\n 2.0,\n 2.0,\n 2.0,\n 2.0,\n 2.0,\n 1.9343364202676694,\n 2.0,\n 2.0,\n 2.0,\n 2.0,\n 1.9343364202676694,\n 2.0,\n 2.0,\n 2.0,\n 2.0,\n 2.0,\n 2.0,\n 2.0,\n 2.0,\n 2.0,\n 2.0,\n 2.0,\n 2.0,\n 2.0,\n 2.0,\n 2.0,\n 2.0,\n 2.0,\n 2.0,\n 2.0,\n 2.0,\n 2.0,\n 2.0,\n 2.0,\n 2.0,\n 2.0,\n 2.0,\n 2.0,\n 2.0,\n 2.0,\n 2.0,\n 2.0,\n 2.0,\n 2.0,\n 1.9343364202676694,\n 1.9343364202676694,\n 2.0,\n ...]"
     },
     "metadata": {},
     "execution_count": 41
    }
   ],
   "source": [
    "[np.linalg.norm(np.hstack((A[i].toarray().flatten(), y[i], E[i])))**(q/(q + 2)) for i in range(p)]"
   ]
  },
  {
   "cell_type": "code",
   "execution_count": 13,
   "metadata": {},
   "outputs": [
    {
     "output_type": "display_data",
     "data": {
      "text/plain": "<Figure size 432x288 with 1 Axes>",
      "image/svg+xml": "<?xml version=\"1.0\" encoding=\"utf-8\" standalone=\"no\"?>\r\n<!DOCTYPE svg PUBLIC \"-//W3C//DTD SVG 1.1//EN\"\r\n  \"http://www.w3.org/Graphics/SVG/1.1/DTD/svg11.dtd\">\r\n<!-- Created with matplotlib (https://matplotlib.org/) -->\r\n<svg height=\"248.518125pt\" version=\"1.1\" viewBox=\"0 0 373.8 248.518125\" width=\"373.8pt\" xmlns=\"http://www.w3.org/2000/svg\" xmlns:xlink=\"http://www.w3.org/1999/xlink\">\r\n <defs>\r\n  <style type=\"text/css\">\r\n*{stroke-linecap:butt;stroke-linejoin:round;}\r\n  </style>\r\n </defs>\r\n <g id=\"figure_1\">\r\n  <g id=\"patch_1\">\r\n   <path d=\"M 0 248.518125 \r\nL 373.8 248.518125 \r\nL 373.8 0 \r\nL 0 0 \r\nz\r\n\" style=\"fill:none;\"/>\r\n  </g>\r\n  <g id=\"axes_1\">\r\n   <g id=\"patch_2\">\r\n    <path d=\"M 31.8 224.64 \r\nL 366.6 224.64 \r\nL 366.6 7.2 \r\nL 31.8 7.2 \r\nz\r\n\" style=\"fill:#ffffff;\"/>\r\n   </g>\r\n   <g id=\"matplotlib.axis_1\">\r\n    <g id=\"xtick_1\">\r\n     <g id=\"line2d_1\">\r\n      <defs>\r\n       <path d=\"M 0 0 \r\nL 0 3.5 \r\n\" id=\"m5bd23dc2a8\" style=\"stroke:#000000;stroke-width:0.8;\"/>\r\n      </defs>\r\n      <g>\r\n       <use style=\"stroke:#000000;stroke-width:0.8;\" x=\"47.018182\" xlink:href=\"#m5bd23dc2a8\" y=\"224.64\"/>\r\n      </g>\r\n     </g>\r\n     <g id=\"text_1\">\r\n      <!-- $\\mathdefault{10^{0}}$ -->\r\n      <defs>\r\n       <path d=\"M 12.40625 8.296875 \r\nL 28.515625 8.296875 \r\nL 28.515625 63.921875 \r\nL 10.984375 60.40625 \r\nL 10.984375 69.390625 \r\nL 28.421875 72.90625 \r\nL 38.28125 72.90625 \r\nL 38.28125 8.296875 \r\nL 54.390625 8.296875 \r\nL 54.390625 0 \r\nL 12.40625 0 \r\nz\r\n\" id=\"DejaVuSans-49\"/>\r\n       <path d=\"M 31.78125 66.40625 \r\nQ 24.171875 66.40625 20.328125 58.90625 \r\nQ 16.5 51.421875 16.5 36.375 \r\nQ 16.5 21.390625 20.328125 13.890625 \r\nQ 24.171875 6.390625 31.78125 6.390625 \r\nQ 39.453125 6.390625 43.28125 13.890625 \r\nQ 47.125 21.390625 47.125 36.375 \r\nQ 47.125 51.421875 43.28125 58.90625 \r\nQ 39.453125 66.40625 31.78125 66.40625 \r\nz\r\nM 31.78125 74.21875 \r\nQ 44.046875 74.21875 50.515625 64.515625 \r\nQ 56.984375 54.828125 56.984375 36.375 \r\nQ 56.984375 17.96875 50.515625 8.265625 \r\nQ 44.046875 -1.421875 31.78125 -1.421875 \r\nQ 19.53125 -1.421875 13.0625 8.265625 \r\nQ 6.59375 17.96875 6.59375 36.375 \r\nQ 6.59375 54.828125 13.0625 64.515625 \r\nQ 19.53125 74.21875 31.78125 74.21875 \r\nz\r\n\" id=\"DejaVuSans-48\"/>\r\n      </defs>\r\n      <g transform=\"translate(38.218182 239.238438)scale(0.1 -0.1)\">\r\n       <use transform=\"translate(0 0.765625)\" xlink:href=\"#DejaVuSans-49\"/>\r\n       <use transform=\"translate(63.623047 0.765625)\" xlink:href=\"#DejaVuSans-48\"/>\r\n       <use transform=\"translate(128.203125 39.046875)scale(0.7)\" xlink:href=\"#DejaVuSans-48\"/>\r\n      </g>\r\n     </g>\r\n    </g>\r\n    <g id=\"xtick_2\">\r\n     <g id=\"line2d_2\">\r\n      <g>\r\n       <use style=\"stroke:#000000;stroke-width:0.8;\" x=\"123.109091\" xlink:href=\"#m5bd23dc2a8\" y=\"224.64\"/>\r\n      </g>\r\n     </g>\r\n     <g id=\"text_2\">\r\n      <!-- $\\mathdefault{10^{1}}$ -->\r\n      <g transform=\"translate(114.309091 239.238438)scale(0.1 -0.1)\">\r\n       <use transform=\"translate(0 0.684375)\" xlink:href=\"#DejaVuSans-49\"/>\r\n       <use transform=\"translate(63.623047 0.684375)\" xlink:href=\"#DejaVuSans-48\"/>\r\n       <use transform=\"translate(128.203125 38.965625)scale(0.7)\" xlink:href=\"#DejaVuSans-49\"/>\r\n      </g>\r\n     </g>\r\n    </g>\r\n    <g id=\"xtick_3\">\r\n     <g id=\"line2d_3\">\r\n      <g>\r\n       <use style=\"stroke:#000000;stroke-width:0.8;\" x=\"199.2\" xlink:href=\"#m5bd23dc2a8\" y=\"224.64\"/>\r\n      </g>\r\n     </g>\r\n     <g id=\"text_3\">\r\n      <!-- $\\mathdefault{10^{2}}$ -->\r\n      <defs>\r\n       <path d=\"M 19.1875 8.296875 \r\nL 53.609375 8.296875 \r\nL 53.609375 0 \r\nL 7.328125 0 \r\nL 7.328125 8.296875 \r\nQ 12.9375 14.109375 22.625 23.890625 \r\nQ 32.328125 33.6875 34.8125 36.53125 \r\nQ 39.546875 41.84375 41.421875 45.53125 \r\nQ 43.3125 49.21875 43.3125 52.78125 \r\nQ 43.3125 58.59375 39.234375 62.25 \r\nQ 35.15625 65.921875 28.609375 65.921875 \r\nQ 23.96875 65.921875 18.8125 64.3125 \r\nQ 13.671875 62.703125 7.8125 59.421875 \r\nL 7.8125 69.390625 \r\nQ 13.765625 71.78125 18.9375 73 \r\nQ 24.125 74.21875 28.421875 74.21875 \r\nQ 39.75 74.21875 46.484375 68.546875 \r\nQ 53.21875 62.890625 53.21875 53.421875 \r\nQ 53.21875 48.921875 51.53125 44.890625 \r\nQ 49.859375 40.875 45.40625 35.40625 \r\nQ 44.1875 33.984375 37.640625 27.21875 \r\nQ 31.109375 20.453125 19.1875 8.296875 \r\nz\r\n\" id=\"DejaVuSans-50\"/>\r\n      </defs>\r\n      <g transform=\"translate(190.4 239.238438)scale(0.1 -0.1)\">\r\n       <use transform=\"translate(0 0.765625)\" xlink:href=\"#DejaVuSans-49\"/>\r\n       <use transform=\"translate(63.623047 0.765625)\" xlink:href=\"#DejaVuSans-48\"/>\r\n       <use transform=\"translate(128.203125 39.046875)scale(0.7)\" xlink:href=\"#DejaVuSans-50\"/>\r\n      </g>\r\n     </g>\r\n    </g>\r\n    <g id=\"xtick_4\">\r\n     <g id=\"line2d_4\">\r\n      <g>\r\n       <use style=\"stroke:#000000;stroke-width:0.8;\" x=\"275.290909\" xlink:href=\"#m5bd23dc2a8\" y=\"224.64\"/>\r\n      </g>\r\n     </g>\r\n     <g id=\"text_4\">\r\n      <!-- $\\mathdefault{10^{3}}$ -->\r\n      <defs>\r\n       <path d=\"M 40.578125 39.3125 \r\nQ 47.65625 37.796875 51.625 33 \r\nQ 55.609375 28.21875 55.609375 21.1875 \r\nQ 55.609375 10.40625 48.1875 4.484375 \r\nQ 40.765625 -1.421875 27.09375 -1.421875 \r\nQ 22.515625 -1.421875 17.65625 -0.515625 \r\nQ 12.796875 0.390625 7.625 2.203125 \r\nL 7.625 11.71875 \r\nQ 11.71875 9.328125 16.59375 8.109375 \r\nQ 21.484375 6.890625 26.8125 6.890625 \r\nQ 36.078125 6.890625 40.9375 10.546875 \r\nQ 45.796875 14.203125 45.796875 21.1875 \r\nQ 45.796875 27.640625 41.28125 31.265625 \r\nQ 36.765625 34.90625 28.71875 34.90625 \r\nL 20.21875 34.90625 \r\nL 20.21875 43.015625 \r\nL 29.109375 43.015625 \r\nQ 36.375 43.015625 40.234375 45.921875 \r\nQ 44.09375 48.828125 44.09375 54.296875 \r\nQ 44.09375 59.90625 40.109375 62.90625 \r\nQ 36.140625 65.921875 28.71875 65.921875 \r\nQ 24.65625 65.921875 20.015625 65.03125 \r\nQ 15.375 64.15625 9.8125 62.3125 \r\nL 9.8125 71.09375 \r\nQ 15.4375 72.65625 20.34375 73.4375 \r\nQ 25.25 74.21875 29.59375 74.21875 \r\nQ 40.828125 74.21875 47.359375 69.109375 \r\nQ 53.90625 64.015625 53.90625 55.328125 \r\nQ 53.90625 49.265625 50.4375 45.09375 \r\nQ 46.96875 40.921875 40.578125 39.3125 \r\nz\r\n\" id=\"DejaVuSans-51\"/>\r\n      </defs>\r\n      <g transform=\"translate(266.490909 239.238438)scale(0.1 -0.1)\">\r\n       <use transform=\"translate(0 0.765625)\" xlink:href=\"#DejaVuSans-49\"/>\r\n       <use transform=\"translate(63.623047 0.765625)\" xlink:href=\"#DejaVuSans-48\"/>\r\n       <use transform=\"translate(128.203125 39.046875)scale(0.7)\" xlink:href=\"#DejaVuSans-51\"/>\r\n      </g>\r\n     </g>\r\n    </g>\r\n    <g id=\"xtick_5\">\r\n     <g id=\"line2d_5\">\r\n      <g>\r\n       <use style=\"stroke:#000000;stroke-width:0.8;\" x=\"351.381818\" xlink:href=\"#m5bd23dc2a8\" y=\"224.64\"/>\r\n      </g>\r\n     </g>\r\n     <g id=\"text_5\">\r\n      <!-- $\\mathdefault{10^{4}}$ -->\r\n      <defs>\r\n       <path d=\"M 37.796875 64.3125 \r\nL 12.890625 25.390625 \r\nL 37.796875 25.390625 \r\nz\r\nM 35.203125 72.90625 \r\nL 47.609375 72.90625 \r\nL 47.609375 25.390625 \r\nL 58.015625 25.390625 \r\nL 58.015625 17.1875 \r\nL 47.609375 17.1875 \r\nL 47.609375 0 \r\nL 37.796875 0 \r\nL 37.796875 17.1875 \r\nL 4.890625 17.1875 \r\nL 4.890625 26.703125 \r\nz\r\n\" id=\"DejaVuSans-52\"/>\r\n      </defs>\r\n      <g transform=\"translate(342.581818 239.238438)scale(0.1 -0.1)\">\r\n       <use transform=\"translate(0 0.684375)\" xlink:href=\"#DejaVuSans-49\"/>\r\n       <use transform=\"translate(63.623047 0.684375)\" xlink:href=\"#DejaVuSans-48\"/>\r\n       <use transform=\"translate(128.203125 38.965625)scale(0.7)\" xlink:href=\"#DejaVuSans-52\"/>\r\n      </g>\r\n     </g>\r\n    </g>\r\n    <g id=\"xtick_6\">\r\n     <g id=\"line2d_6\">\r\n      <defs>\r\n       <path d=\"M 0 0 \r\nL 0 2 \r\n\" id=\"m2cc0461ee4\" style=\"stroke:#000000;stroke-width:0.6;\"/>\r\n      </defs>\r\n      <g>\r\n       <use style=\"stroke:#000000;stroke-width:0.6;\" x=\"35.231551\" xlink:href=\"#m2cc0461ee4\" y=\"224.64\"/>\r\n      </g>\r\n     </g>\r\n    </g>\r\n    <g id=\"xtick_7\">\r\n     <g id=\"line2d_7\">\r\n      <g>\r\n       <use style=\"stroke:#000000;stroke-width:0.6;\" x=\"39.644211\" xlink:href=\"#m2cc0461ee4\" y=\"224.64\"/>\r\n      </g>\r\n     </g>\r\n    </g>\r\n    <g id=\"xtick_8\">\r\n     <g id=\"line2d_8\">\r\n      <g>\r\n       <use style=\"stroke:#000000;stroke-width:0.6;\" x=\"43.536453\" xlink:href=\"#m2cc0461ee4\" y=\"224.64\"/>\r\n      </g>\r\n     </g>\r\n    </g>\r\n    <g id=\"xtick_9\">\r\n     <g id=\"line2d_9\">\r\n      <g>\r\n       <use style=\"stroke:#000000;stroke-width:0.6;\" x=\"69.923828\" xlink:href=\"#m2cc0461ee4\" y=\"224.64\"/>\r\n      </g>\r\n     </g>\r\n    </g>\r\n    <g id=\"xtick_10\">\r\n     <g id=\"line2d_10\">\r\n      <g>\r\n       <use style=\"stroke:#000000;stroke-width:0.6;\" x=\"83.322772\" xlink:href=\"#m2cc0461ee4\" y=\"224.64\"/>\r\n      </g>\r\n     </g>\r\n    </g>\r\n    <g id=\"xtick_11\">\r\n     <g id=\"line2d_11\">\r\n      <g>\r\n       <use style=\"stroke:#000000;stroke-width:0.6;\" x=\"92.829474\" xlink:href=\"#m2cc0461ee4\" y=\"224.64\"/>\r\n      </g>\r\n     </g>\r\n    </g>\r\n    <g id=\"xtick_12\">\r\n     <g id=\"line2d_12\">\r\n      <g>\r\n       <use style=\"stroke:#000000;stroke-width:0.6;\" x=\"100.203445\" xlink:href=\"#m2cc0461ee4\" y=\"224.64\"/>\r\n      </g>\r\n     </g>\r\n    </g>\r\n    <g id=\"xtick_13\">\r\n     <g id=\"line2d_13\">\r\n      <g>\r\n       <use style=\"stroke:#000000;stroke-width:0.6;\" x=\"106.228418\" xlink:href=\"#m2cc0461ee4\" y=\"224.64\"/>\r\n      </g>\r\n     </g>\r\n    </g>\r\n    <g id=\"xtick_14\">\r\n     <g id=\"line2d_14\">\r\n      <g>\r\n       <use style=\"stroke:#000000;stroke-width:0.6;\" x=\"111.32246\" xlink:href=\"#m2cc0461ee4\" y=\"224.64\"/>\r\n      </g>\r\n     </g>\r\n    </g>\r\n    <g id=\"xtick_15\">\r\n     <g id=\"line2d_15\">\r\n      <g>\r\n       <use style=\"stroke:#000000;stroke-width:0.6;\" x=\"115.73512\" xlink:href=\"#m2cc0461ee4\" y=\"224.64\"/>\r\n      </g>\r\n     </g>\r\n    </g>\r\n    <g id=\"xtick_16\">\r\n     <g id=\"line2d_16\">\r\n      <g>\r\n       <use style=\"stroke:#000000;stroke-width:0.6;\" x=\"119.627362\" xlink:href=\"#m2cc0461ee4\" y=\"224.64\"/>\r\n      </g>\r\n     </g>\r\n    </g>\r\n    <g id=\"xtick_17\">\r\n     <g id=\"line2d_17\">\r\n      <g>\r\n       <use style=\"stroke:#000000;stroke-width:0.6;\" x=\"146.014737\" xlink:href=\"#m2cc0461ee4\" y=\"224.64\"/>\r\n      </g>\r\n     </g>\r\n    </g>\r\n    <g id=\"xtick_18\">\r\n     <g id=\"line2d_18\">\r\n      <g>\r\n       <use style=\"stroke:#000000;stroke-width:0.6;\" x=\"159.413681\" xlink:href=\"#m2cc0461ee4\" y=\"224.64\"/>\r\n      </g>\r\n     </g>\r\n    </g>\r\n    <g id=\"xtick_19\">\r\n     <g id=\"line2d_19\">\r\n      <g>\r\n       <use style=\"stroke:#000000;stroke-width:0.6;\" x=\"168.920383\" xlink:href=\"#m2cc0461ee4\" y=\"224.64\"/>\r\n      </g>\r\n     </g>\r\n    </g>\r\n    <g id=\"xtick_20\">\r\n     <g id=\"line2d_20\">\r\n      <g>\r\n       <use style=\"stroke:#000000;stroke-width:0.6;\" x=\"176.294354\" xlink:href=\"#m2cc0461ee4\" y=\"224.64\"/>\r\n      </g>\r\n     </g>\r\n    </g>\r\n    <g id=\"xtick_21\">\r\n     <g id=\"line2d_21\">\r\n      <g>\r\n       <use style=\"stroke:#000000;stroke-width:0.6;\" x=\"182.319327\" xlink:href=\"#m2cc0461ee4\" y=\"224.64\"/>\r\n      </g>\r\n     </g>\r\n    </g>\r\n    <g id=\"xtick_22\">\r\n     <g id=\"line2d_22\">\r\n      <g>\r\n       <use style=\"stroke:#000000;stroke-width:0.6;\" x=\"187.413369\" xlink:href=\"#m2cc0461ee4\" y=\"224.64\"/>\r\n      </g>\r\n     </g>\r\n    </g>\r\n    <g id=\"xtick_23\">\r\n     <g id=\"line2d_23\">\r\n      <g>\r\n       <use style=\"stroke:#000000;stroke-width:0.6;\" x=\"191.826029\" xlink:href=\"#m2cc0461ee4\" y=\"224.64\"/>\r\n      </g>\r\n     </g>\r\n    </g>\r\n    <g id=\"xtick_24\">\r\n     <g id=\"line2d_24\">\r\n      <g>\r\n       <use style=\"stroke:#000000;stroke-width:0.6;\" x=\"195.718271\" xlink:href=\"#m2cc0461ee4\" y=\"224.64\"/>\r\n      </g>\r\n     </g>\r\n    </g>\r\n    <g id=\"xtick_25\">\r\n     <g id=\"line2d_25\">\r\n      <g>\r\n       <use style=\"stroke:#000000;stroke-width:0.6;\" x=\"222.105646\" xlink:href=\"#m2cc0461ee4\" y=\"224.64\"/>\r\n      </g>\r\n     </g>\r\n    </g>\r\n    <g id=\"xtick_26\">\r\n     <g id=\"line2d_26\">\r\n      <g>\r\n       <use style=\"stroke:#000000;stroke-width:0.6;\" x=\"235.50459\" xlink:href=\"#m2cc0461ee4\" y=\"224.64\"/>\r\n      </g>\r\n     </g>\r\n    </g>\r\n    <g id=\"xtick_27\">\r\n     <g id=\"line2d_27\">\r\n      <g>\r\n       <use style=\"stroke:#000000;stroke-width:0.6;\" x=\"245.011292\" xlink:href=\"#m2cc0461ee4\" y=\"224.64\"/>\r\n      </g>\r\n     </g>\r\n    </g>\r\n    <g id=\"xtick_28\">\r\n     <g id=\"line2d_28\">\r\n      <g>\r\n       <use style=\"stroke:#000000;stroke-width:0.6;\" x=\"252.385263\" xlink:href=\"#m2cc0461ee4\" y=\"224.64\"/>\r\n      </g>\r\n     </g>\r\n    </g>\r\n    <g id=\"xtick_29\">\r\n     <g id=\"line2d_29\">\r\n      <g>\r\n       <use style=\"stroke:#000000;stroke-width:0.6;\" x=\"258.410236\" xlink:href=\"#m2cc0461ee4\" y=\"224.64\"/>\r\n      </g>\r\n     </g>\r\n    </g>\r\n    <g id=\"xtick_30\">\r\n     <g id=\"line2d_30\">\r\n      <g>\r\n       <use style=\"stroke:#000000;stroke-width:0.6;\" x=\"263.504278\" xlink:href=\"#m2cc0461ee4\" y=\"224.64\"/>\r\n      </g>\r\n     </g>\r\n    </g>\r\n    <g id=\"xtick_31\">\r\n     <g id=\"line2d_31\">\r\n      <g>\r\n       <use style=\"stroke:#000000;stroke-width:0.6;\" x=\"267.916938\" xlink:href=\"#m2cc0461ee4\" y=\"224.64\"/>\r\n      </g>\r\n     </g>\r\n    </g>\r\n    <g id=\"xtick_32\">\r\n     <g id=\"line2d_32\">\r\n      <g>\r\n       <use style=\"stroke:#000000;stroke-width:0.6;\" x=\"271.80918\" xlink:href=\"#m2cc0461ee4\" y=\"224.64\"/>\r\n      </g>\r\n     </g>\r\n    </g>\r\n    <g id=\"xtick_33\">\r\n     <g id=\"line2d_33\">\r\n      <g>\r\n       <use style=\"stroke:#000000;stroke-width:0.6;\" x=\"298.196555\" xlink:href=\"#m2cc0461ee4\" y=\"224.64\"/>\r\n      </g>\r\n     </g>\r\n    </g>\r\n    <g id=\"xtick_34\">\r\n     <g id=\"line2d_34\">\r\n      <g>\r\n       <use style=\"stroke:#000000;stroke-width:0.6;\" x=\"311.595499\" xlink:href=\"#m2cc0461ee4\" y=\"224.64\"/>\r\n      </g>\r\n     </g>\r\n    </g>\r\n    <g id=\"xtick_35\">\r\n     <g id=\"line2d_35\">\r\n      <g>\r\n       <use style=\"stroke:#000000;stroke-width:0.6;\" x=\"321.102201\" xlink:href=\"#m2cc0461ee4\" y=\"224.64\"/>\r\n      </g>\r\n     </g>\r\n    </g>\r\n    <g id=\"xtick_36\">\r\n     <g id=\"line2d_36\">\r\n      <g>\r\n       <use style=\"stroke:#000000;stroke-width:0.6;\" x=\"328.476172\" xlink:href=\"#m2cc0461ee4\" y=\"224.64\"/>\r\n      </g>\r\n     </g>\r\n    </g>\r\n    <g id=\"xtick_37\">\r\n     <g id=\"line2d_37\">\r\n      <g>\r\n       <use style=\"stroke:#000000;stroke-width:0.6;\" x=\"334.501145\" xlink:href=\"#m2cc0461ee4\" y=\"224.64\"/>\r\n      </g>\r\n     </g>\r\n    </g>\r\n    <g id=\"xtick_38\">\r\n     <g id=\"line2d_38\">\r\n      <g>\r\n       <use style=\"stroke:#000000;stroke-width:0.6;\" x=\"339.595187\" xlink:href=\"#m2cc0461ee4\" y=\"224.64\"/>\r\n      </g>\r\n     </g>\r\n    </g>\r\n    <g id=\"xtick_39\">\r\n     <g id=\"line2d_39\">\r\n      <g>\r\n       <use style=\"stroke:#000000;stroke-width:0.6;\" x=\"344.007847\" xlink:href=\"#m2cc0461ee4\" y=\"224.64\"/>\r\n      </g>\r\n     </g>\r\n    </g>\r\n    <g id=\"xtick_40\">\r\n     <g id=\"line2d_40\">\r\n      <g>\r\n       <use style=\"stroke:#000000;stroke-width:0.6;\" x=\"347.900089\" xlink:href=\"#m2cc0461ee4\" y=\"224.64\"/>\r\n      </g>\r\n     </g>\r\n    </g>\r\n   </g>\r\n   <g id=\"matplotlib.axis_2\">\r\n    <g id=\"ytick_1\">\r\n     <g id=\"line2d_41\">\r\n      <defs>\r\n       <path d=\"M 0 0 \r\nL -3.5 0 \r\n\" id=\"mc2d7144748\" style=\"stroke:#000000;stroke-width:0.8;\"/>\r\n      </defs>\r\n      <g>\r\n       <use style=\"stroke:#000000;stroke-width:0.8;\" x=\"31.8\" xlink:href=\"#mc2d7144748\" y=\"214.756364\"/>\r\n      </g>\r\n     </g>\r\n     <g id=\"text_6\">\r\n      <!-- $\\mathdefault{10^{3}}$ -->\r\n      <g transform=\"translate(7.2 218.555582)scale(0.1 -0.1)\">\r\n       <use transform=\"translate(0 0.765625)\" xlink:href=\"#DejaVuSans-49\"/>\r\n       <use transform=\"translate(63.623047 0.765625)\" xlink:href=\"#DejaVuSans-48\"/>\r\n       <use transform=\"translate(128.203125 39.046875)scale(0.7)\" xlink:href=\"#DejaVuSans-51\"/>\r\n      </g>\r\n     </g>\r\n    </g>\r\n    <g id=\"ytick_2\">\r\n     <g id=\"line2d_42\">\r\n      <g>\r\n       <use style=\"stroke:#000000;stroke-width:0.8;\" x=\"31.8\" xlink:href=\"#mc2d7144748\" y=\"17.083636\"/>\r\n      </g>\r\n     </g>\r\n     <g id=\"text_7\">\r\n      <!-- $\\mathdefault{10^{4}}$ -->\r\n      <g transform=\"translate(7.2 20.882855)scale(0.1 -0.1)\">\r\n       <use transform=\"translate(0 0.684375)\" xlink:href=\"#DejaVuSans-49\"/>\r\n       <use transform=\"translate(63.623047 0.684375)\" xlink:href=\"#DejaVuSans-48\"/>\r\n       <use transform=\"translate(128.203125 38.965625)scale(0.7)\" xlink:href=\"#DejaVuSans-52\"/>\r\n      </g>\r\n     </g>\r\n    </g>\r\n    <g id=\"ytick_3\">\r\n     <g id=\"line2d_43\">\r\n      <defs>\r\n       <path d=\"M 0 0 \r\nL -2 0 \r\n\" id=\"m9d214b2242\" style=\"stroke:#000000;stroke-width:0.6;\"/>\r\n      </defs>\r\n      <g>\r\n       <use style=\"stroke:#000000;stroke-width:0.6;\" x=\"31.8\" xlink:href=\"#m9d214b2242\" y=\"223.801372\"/>\r\n      </g>\r\n     </g>\r\n    </g>\r\n    <g id=\"ytick_4\">\r\n     <g id=\"line2d_44\">\r\n      <g>\r\n       <use style=\"stroke:#000000;stroke-width:0.6;\" x=\"31.8\" xlink:href=\"#m9d214b2242\" y=\"155.250943\"/>\r\n      </g>\r\n     </g>\r\n    </g>\r\n    <g id=\"ytick_5\">\r\n     <g id=\"line2d_45\">\r\n      <g>\r\n       <use style=\"stroke:#000000;stroke-width:0.6;\" x=\"31.8\" xlink:href=\"#m9d214b2242\" y=\"120.442504\"/>\r\n      </g>\r\n     </g>\r\n    </g>\r\n    <g id=\"ytick_6\">\r\n     <g id=\"line2d_46\">\r\n      <g>\r\n       <use style=\"stroke:#000000;stroke-width:0.6;\" x=\"31.8\" xlink:href=\"#m9d214b2242\" y=\"95.745523\"/>\r\n      </g>\r\n     </g>\r\n    </g>\r\n    <g id=\"ytick_7\">\r\n     <g id=\"line2d_47\">\r\n      <g>\r\n       <use style=\"stroke:#000000;stroke-width:0.6;\" x=\"31.8\" xlink:href=\"#m9d214b2242\" y=\"76.589057\"/>\r\n      </g>\r\n     </g>\r\n    </g>\r\n    <g id=\"ytick_8\">\r\n     <g id=\"line2d_48\">\r\n      <g>\r\n       <use style=\"stroke:#000000;stroke-width:0.6;\" x=\"31.8\" xlink:href=\"#m9d214b2242\" y=\"60.937084\"/>\r\n      </g>\r\n     </g>\r\n    </g>\r\n    <g id=\"ytick_9\">\r\n     <g id=\"line2d_49\">\r\n      <g>\r\n       <use style=\"stroke:#000000;stroke-width:0.6;\" x=\"31.8\" xlink:href=\"#m9d214b2242\" y=\"47.703529\"/>\r\n      </g>\r\n     </g>\r\n    </g>\r\n    <g id=\"ytick_10\">\r\n     <g id=\"line2d_50\">\r\n      <g>\r\n       <use style=\"stroke:#000000;stroke-width:0.6;\" x=\"31.8\" xlink:href=\"#m9d214b2242\" y=\"36.240103\"/>\r\n      </g>\r\n     </g>\r\n    </g>\r\n    <g id=\"ytick_11\">\r\n     <g id=\"line2d_51\">\r\n      <g>\r\n       <use style=\"stroke:#000000;stroke-width:0.6;\" x=\"31.8\" xlink:href=\"#m9d214b2242\" y=\"26.128644\"/>\r\n      </g>\r\n     </g>\r\n    </g>\r\n   </g>\r\n   <g id=\"line2d_52\">\r\n    <path clip-path=\"url(#p67ae461bca)\" d=\"M 0 0 \r\n\" style=\"fill:none;stroke:#1f77b4;stroke-linecap:square;stroke-width:1.5;\"/>\r\n   </g>\r\n   <g id=\"patch_3\">\r\n    <path d=\"M 31.8 224.64 \r\nL 31.8 7.2 \r\n\" style=\"fill:none;stroke:#000000;stroke-linecap:square;stroke-linejoin:miter;stroke-width:0.8;\"/>\r\n   </g>\r\n   <g id=\"patch_4\">\r\n    <path d=\"M 366.6 224.64 \r\nL 366.6 7.2 \r\n\" style=\"fill:none;stroke:#000000;stroke-linecap:square;stroke-linejoin:miter;stroke-width:0.8;\"/>\r\n   </g>\r\n   <g id=\"patch_5\">\r\n    <path d=\"M 31.8 224.64 \r\nL 366.6 224.64 \r\n\" style=\"fill:none;stroke:#000000;stroke-linecap:square;stroke-linejoin:miter;stroke-width:0.8;\"/>\r\n   </g>\r\n   <g id=\"patch_6\">\r\n    <path d=\"M 31.8 7.2 \r\nL 366.6 7.2 \r\n\" style=\"fill:none;stroke:#000000;stroke-linecap:square;stroke-linejoin:miter;stroke-width:0.8;\"/>\r\n   </g>\r\n  </g>\r\n </g>\r\n <defs>\r\n  <clipPath id=\"p67ae461bca\">\r\n   <rect height=\"217.44\" width=\"334.8\" x=\"31.8\" y=\"7.2\"/>\r\n  </clipPath>\r\n </defs>\r\n</svg>\r\n",
      "image/png": "[encoded data removed]"
     },
     "metadata": {
      "needs_background": "light"
     }
    }
   ],
   "source": [
    "plt.plot(results['a1a']['sc']['Q_hist'])\n",
    "plt.xscale('log')\n",
    "plt.yscale('log')"
   ]
  },
  {
   "cell_type": "code",
   "execution_count": 19,
   "metadata": {},
   "outputs": [
    {
     "output_type": "execute_result",
     "data": {
      "text/plain": "[1605.9304347826087,\n -39.87506038395894,\n -39.914401147499,\n -39.91450129037479,\n -39.91477682614629,\n -39.91502687173042,\n -39.915230800918664,\n -39.915419447324794,\n -39.915577561263184,\n -39.91572517639667]"
     },
     "metadata": {},
     "execution_count": 19
    }
   ],
   "source": [
    "results['a1a']['line_search']['Q_hist'][:10]"
   ]
  },
  {
   "cell_type": "code",
   "execution_count": 20,
   "metadata": {},
   "outputs": [
    {
     "output_type": "execute_result",
     "data": {
      "text/plain": "[1605.9304347826087,\n -39.875060479720396,\n -39.90183794619601,\n -39.914311143004184,\n -39.915734882823784,\n -39.91574539431036,\n -39.91587600448429,\n -39.91600008665281,\n -39.91610099243266,\n -39.91620189357121]"
     },
     "metadata": {},
     "execution_count": 20
    }
   ],
   "source": [
    "results['a1a']['sc']['Q_hist'][:10]"
   ]
  },
  {
   "cell_type": "code",
   "execution_count": 2,
   "metadata": {},
   "outputs": [],
   "source": [
    "A, y = load_svmlight_file(os.path.join('../data', 'a1a'))\n",
    "# fix classes\n",
    "if max(y) == 2:\n",
    "    y = 2 * y - 3\n",
    "# normalize\n",
    "#for i, row in enumerate(Phi):\n",
    "#    if np.sum(row.multiply(row)) != 0:\n",
    "#        A[i] = row.multiply(1 / np.sqrt(np.sum(row.multiply(row))))\n",
    "\n",
    "p, d = A.shape\n",
    "n = p + d + 1\n",
    "q = 2\n",
    "c = np.array([1] * p)\n",
    "R = 1\n",
    "u = 1\n",
    "x0 = np.array([0]*(d + 1) + [1]*p)"
   ]
  },
  {
   "cell_type": "code",
   "execution_count": 3,
   "metadata": {},
   "outputs": [],
   "source": [
    "val, denom = dwd.dwd_val(A, y, c, x0, n, d, p, q)\n",
    "grad = dwd.dwd_grad(A, y, c, x0, n, d, p, q, denom=denom)\n",
    "s = dwd.linear_oracle(grad, d, p, 1, 1)"
   ]
  },
  {
   "cell_type": "code",
   "execution_count": 4,
   "metadata": {},
   "outputs": [
    {
     "output_type": "execute_result",
     "data": {
      "text/plain": "-45.58512110621393"
     },
     "metadata": {},
     "execution_count": 4
    }
   ],
   "source": [
    "np.dot(grad, s)"
   ]
  },
  {
   "cell_type": "code",
   "execution_count": 29,
   "metadata": {},
   "outputs": [
    {
     "output_type": "execute_result",
     "data": {
      "text/plain": "5.833043468344695"
     },
     "metadata": {},
     "execution_count": 29
    }
   ],
   "source": [
    "hess_mult"
   ]
  },
  {
   "cell_type": "code",
   "execution_count": 26,
   "metadata": {},
   "outputs": [],
   "source": [
    "denom = 1 / (denom**(2 + 2))"
   ]
  },
  {
   "cell_type": "code",
   "execution_count": 23,
   "metadata": {},
   "outputs": [
    {
     "output_type": "execute_result",
     "data": {
      "text/plain": "array([ 0.,  0.,  0., ..., -1., -1., -1.])"
     },
     "metadata": {},
     "execution_count": 23
    }
   ],
   "source": [
    "s - x0"
   ]
  },
  {
   "cell_type": "code",
   "execution_count": 30,
   "metadata": {},
   "outputs": [],
   "source": [
    "hess_mult_x = lambda s, denom: dwd.hess_mult(A, y, c, s, n, d, p, q, denom=denom)"
   ]
  },
  {
   "cell_type": "code",
   "execution_count": 31,
   "metadata": {},
   "outputs": [
    {
     "output_type": "execute_result",
     "data": {
      "text/plain": "5.833043468344695"
     },
     "metadata": {},
     "execution_count": 31
    }
   ],
   "source": [
    "hess_mult_x(s-x0, denom)"
   ]
  },
  {
   "cell_type": "code",
   "execution_count": 36,
   "metadata": {},
   "outputs": [],
   "source": [
    "a = np.array([1, 2, 3, 4, 5])"
   ]
  },
  {
   "cell_type": "code",
   "execution_count": 46,
   "metadata": {},
   "outputs": [],
   "source": [
    "mask = ([bool(i % 2) for i in range(5)])"
   ]
  },
  {
   "cell_type": "code",
   "execution_count": 48,
   "metadata": {},
   "outputs": [],
   "source": [
    "a[mask] = a[mask] * (-1)"
   ]
  },
  {
   "cell_type": "code",
   "execution_count": 53,
   "metadata": {},
   "outputs": [
    {
     "output_type": "execute_result",
     "data": {
      "text/plain": "1.0"
     },
     "metadata": {},
     "execution_count": 53
    }
   ],
   "source": [
    "np.linalg.norm(a / np.linalg.norm(a))"
   ]
  },
  {
   "cell_type": "code",
   "execution_count": 51,
   "metadata": {},
   "outputs": [
    {
     "output_type": "execute_result",
     "data": {
      "text/plain": "array([ 1, -2,  3, -4,  5])"
     },
     "metadata": {},
     "execution_count": 51
    }
   ],
   "source": [
    "a"
   ]
  },
  {
   "cell_type": "code",
   "execution_count": null,
   "metadata": {},
   "outputs": [],
   "source": []
  }
 ],
 "metadata": {
  "language_info": {
   "codemirror_mode": {
    "name": "ipython",
    "version": 3
   },
   "file_extension": ".py",
   "mimetype": "text/x-python",
   "name": "python",
   "nbconvert_exporter": "python",
   "pygments_lexer": "ipython3",
   "version": "3.7.3-final"
  },
  "orig_nbformat": 2,
  "kernelspec": {
   "name": "python3",
   "display_name": "Python 3"
  }
 },
 "nbformat": 4,
 "nbformat_minor": 2
}