{
 "cells": [
  {
   "cell_type": "code",
   "execution_count": 1,
   "metadata": {},
   "outputs": [],
   "source": [
    "import os\n",
    "import pickle\n",
    "import numpy as np\n",
    "from numpy import matlib\n",
    "from sklearn.datasets import load_svmlight_file\n",
    "import scfw.kl as kl\n",
    "from scfw.frank_wolfe import frank_wolfe\n",
    "from scfw.scopt import scopt\n",
    "from scfw.prox_grad import prox_grad"
   ]
  },
  {
   "cell_type": "code",
   "execution_count": 2,
   "metadata": {},
   "outputs": [],
   "source": [
    "data_folder = '../data'\n",
    "results_folder = './results/'"
   ]
  },
  {
   "cell_type": "markdown",
   "metadata": {},
   "source": [
    "## Run FW"
   ]
  },
  {
   "cell_type": "code",
   "execution_count": 3,
   "metadata": {},
   "outputs": [],
   "source": [
    "def run_fw(problem_name):\n",
    "    policy_list = ['sc', 'backtracking', 'line_search']\n",
    "    results = {problem_name: {}}\n",
    "    results_file = os.path.join(results_folder,'kl',problem_name+'.pckl')\n",
    "    results = {problem_name: {}}\n",
    "    if os.path.isfile(results_file):\n",
    "        with open(results_file, \"rb\") as f:\n",
    "            results=pickle.load(f)\n",
    "    W, y = load_svmlight_file(os.path.join(data_folder, problem_name))\n",
    "    y = y.reshape(-1, 1)\n",
    "    W = W.toarray()\n",
    "    W = matlib.repmat(y, 1, W.shape[1]) * W\n",
    "    sA = np.sum(W, 1)\n",
    "    W[sA < 0, :] = -W[sA < 0, :]\n",
    "    W = W[sA != 0, :]\n",
    "    Bias = 1\n",
    "    b = (Bias * y).squeeze()\n",
    "    b = np.abs(b)\n",
    "    if (b.any == 0):\n",
    "        print(' Input parameter y error')\n",
    "    y = b\n",
    "    N, n = W.shape\n",
    "    lam =  np.sqrt(n)/2\n",
    "    #lam =  0.005\n",
    "    Mf = 1\n",
    "    nu = 4\n",
    "    R = 30\n",
    "    x0 = np.hstack((np.ones(n) / n, R))\n",
    "    terminate_tol = 1e-15\n",
    "    FW_params={\n",
    "        'iter_FW': 50000,\n",
    "        'line_search_tol': 1e-10,\n",
    "    }\n",
    "    func_x = lambda x: kl.val(W, y, lam, x)\n",
    "    func_beta = lambda x, s, beta, dot_product, dot_product_s: kl.val(W, y, lam, (1 - beta) * x + beta * s, (1 - beta) * dot_product + beta * dot_product_s)\n",
    "    grad_x = lambda x, dot_product: kl.grad(W, y, lam, x, dot_product)\n",
    "    grad_beta = lambda x, s, beta, dot_product, dot_product_s: kl.grad(W, y, lam, (1 - beta) * x + beta * s, (1 - beta) * dot_product + beta * dot_product_s)\n",
    "    hess_mult_x = lambda x, dot_product: kl.hess_mult(W, y, lam, x, dot_product)\n",
    "    hess_mult_vec_x = lambda s, dot_product: kl.hess_mult_vec(W, y, lam, s, dot_product)\n",
    "    extra_func = lambda x: W @ x[:-1]\n",
    "    linear_oracle = lambda grad, x: kl.linear_oracle(grad, x)\n",
    "    for policy in policy_list:\n",
    "        x, alpha_hist, Gap_hist, Q_hist, time_hist = frank_wolfe(func_x,\n",
    "                                func_beta,                                      \n",
    "                                grad_x,\n",
    "                                grad_beta,\n",
    "                                hess_mult_x,\n",
    "                                extra_func,\n",
    "                                Mf,\n",
    "                                nu,\n",
    "                                linear_oracle,                                                    \n",
    "                                x0,\n",
    "                                FW_params,\n",
    "                                hess=None, \n",
    "                                lloo_oracle=None,                                                 \n",
    "                                alpha_policy=policy,                                                    \n",
    "                                eps=terminate_tol, \n",
    "                                print_every=10000, \n",
    "                                debug_info=False)\n",
    "        results[problem_name][policy] = {\n",
    "            'x': x,\n",
    "            'alpha_hist': alpha_hist,\n",
    "            'Q_hist': Q_hist,\n",
    "            'time_hist': time_hist,\n",
    "        }\n",
    "    with open(results_file, 'wb') as f:\n",
    "        pickle.dump(results, f)"
   ]
  },
  {
   "cell_type": "code",
   "execution_count": 4,
   "metadata": {
    "tags": []
   },
   "outputs": [
    {
     "output_type": "stream",
     "name": "stdout",
     "text": "********* Algorithm starts *********\niter=1, stepsize=3.64e-06, criterion=5.15e-06, upper_bound=-425.1844977638899, lower_bound=-98132.92996543091, real_Gap=9.77e+04, f_val=-425.1844977638899\nConvergence achieved!\niter=5224, stepsize=-1.80e-16, criterion=2.34e-16, upper_bound=-1597.858908081988, lower_bound=-1597.8589077351394, real_Gap=-3.47e-07, f_val=-1597.8589080819877\n********* Algorithm starts *********\niter=1, stepsize=1.33e-02, criterion=1.00e-05, upper_bound=-425.1844977638899, lower_bound=-98132.92996543091, real_Gap=9.77e+04, f_val=-425.1844977638899\nConvergence achieved!\niter=814, stepsize=4.36e-16, criterion=5.36e-16, upper_bound=-1597.8056012660354, lower_bound=-1597.8056006648737, real_Gap=-6.01e-07, f_val=-1597.8056012660354\n********* Algorithm starts *********\niter=1, stepsize=2.97e-02, criterion=1.00e-05, upper_bound=-425.1844977638899, lower_bound=-98132.92996543091, real_Gap=9.77e+04, f_val=-425.1844977638899\niter=10000, stepsize=5.82e-11, criterion=7.59e-11, upper_bound=-1597.2941558269686, lower_bound=-1597.2935636709055, real_Gap=-5.92e-04, f_val=-1597.2941558267241\niter=20000, stepsize=5.82e-11, criterion=7.59e-11, upper_bound=-1597.2941558269686, lower_bound=-1597.2932442237636, real_Gap=-9.12e-04, f_val=-1597.294155826289\niter=30000, stepsize=5.82e-11, criterion=7.59e-11, upper_bound=-1597.2941558269686, lower_bound=-1597.2929247768777, real_Gap=-1.23e-03, f_val=-1597.2941558256662\niter=40000, stepsize=5.82e-11, criterion=7.59e-11, upper_bound=-1597.2941558269686, lower_bound=-1597.2926053303956, real_Gap=-1.55e-03, f_val=-1597.294155824862\niter=50000, stepsize=5.82e-11, criterion=7.35e-11, upper_bound=-1597.2941558269686, lower_bound=-1597.292454027724, real_Gap=-1.70e-03, f_val=-1597.2941558238956\n166.18705439567566\n********* Algorithm starts *********\niter=1, stepsize=2.57e-06, criterion=3.64e-06, upper_bound=-667.4213518773242, lower_bound=-138915.04196375466, real_Gap=1.38e+05, f_val=-667.4213518773242\nConvergence achieved!\niter=7436, stepsize=4.90e-16, criterion=6.46e-16, upper_bound=-2257.4818950519175, lower_bound=-2257.481895051918, real_Gap=4.55e-13, f_val=-2257.4818950519175\n********* Algorithm starts *********\niter=1, stepsize=9.38e-03, criterion=1.00e-05, upper_bound=-667.4213518773242, lower_bound=-138915.04196375466, real_Gap=1.38e+05, f_val=-667.4213518773242\nConvergence achieved!\niter=1593, stepsize=-6.28e-09, criterion=2.99e-17, upper_bound=-2257.2607922575785, lower_bound=-2257.260792175273, real_Gap=-8.23e-08, f_val=-2257.2607922575785\n********* Algorithm starts *********\niter=1, stepsize=2.96e-02, criterion=1.00e-05, upper_bound=-667.4213518773242, lower_bound=-138915.04196375466, real_Gap=1.38e+05, f_val=-667.4213518773242\niter=10000, stepsize=5.82e-11, criterion=6.33e-11, upper_bound=-2257.1468950151457, lower_bound=-2257.146855887269, real_Gap=-3.91e-05, f_val=-2257.146895015139\niter=20000, stepsize=5.82e-11, criterion=6.33e-11, upper_bound=-2257.1468950151457, lower_bound=-2257.146816049469, real_Gap=-7.90e-05, f_val=-2257.146895015108\niter=30000, stepsize=5.82e-11, criterion=6.33e-11, upper_bound=-2257.1468950151457, lower_bound=-2257.1467769410415, real_Gap=-1.18e-04, f_val=-2257.1468950150456\niter=40000, stepsize=5.82e-11, criterion=6.33e-11, upper_bound=-2257.1468950151457, lower_bound=-2257.1467438852496, real_Gap=-1.51e-04, f_val=-2257.146895014965\niter=50000, stepsize=5.82e-11, criterion=6.33e-11, upper_bound=-2257.1468950151457, lower_bound=-2257.146710845425, real_Gap=-1.84e-04, f_val=-2257.146895014873\n197.5777885913849\n********* Algorithm starts *********\niter=1, stepsize=1.79e-06, criterion=2.53e-06, upper_bound=-983.2455619315587, lower_bound=-197200.81828350382, real_Gap=1.96e+05, f_val=-983.2455619315587\niter=10000, stepsize=1.14e-03, criterion=2.53e-06, upper_bound=-3175.0134625689075, lower_bound=-3184.965917435256, real_Gap=9.95e+00, f_val=-3175.0134625689075\nConvergence achieved!\niter=10515, stepsize=7.87e-16, criterion=9.23e-16, upper_bound=-3177.047617998472, lower_bound=-3177.047617998473, real_Gap=9.09e-13, f_val=-3177.0476179984717\n********* Algorithm starts *********\niter=1, stepsize=1.33e-02, criterion=1.00e-05, upper_bound=-983.2455619315587, lower_bound=-197200.81828350382, real_Gap=1.96e+05, f_val=-983.2455619315587\nConvergence achieved!\niter=1596, stepsize=1.23e-16, criterion=2.03e-16, upper_bound=-3176.961676784804, lower_bound=-3176.9616759555174, real_Gap=-8.29e-07, f_val=-3176.961676784804\n********* Algorithm starts *********\niter=1, stepsize=2.97e-02, criterion=1.00e-05, upper_bound=-983.2455619315587, lower_bound=-197200.81828350382, real_Gap=1.96e+05, f_val=-983.2455619315587\niter=10000, stepsize=5.82e-11, criterion=6.67e-11, upper_bound=-3176.809330679241, lower_bound=-3176.8093069637757, real_Gap=-2.37e-05, f_val=-3176.809330679236\niter=20000, stepsize=5.82e-11, criterion=6.67e-11, upper_bound=-3176.809330679241, lower_bound=-3176.8092813409467, real_Gap=-4.93e-05, f_val=-3176.8093306792202\niter=30000, stepsize=5.82e-11, criterion=6.67e-11, upper_bound=-3176.809330679241, lower_bound=-3176.8092557214595, real_Gap=-7.50e-05, f_val=-3176.809330679188\niter=40000, stepsize=5.82e-11, criterion=6.67e-11, upper_bound=-3176.809330679241, lower_bound=-3176.8092300881276, real_Gap=-1.01e-04, f_val=-3176.809330679131\niter=50000, stepsize=5.82e-11, criterion=6.67e-11, upper_bound=-3176.809330679241, lower_bound=-3176.8092044624063, real_Gap=-1.26e-04, f_val=-3176.8093306790583\n260.146892786026\n********* Algorithm starts *********\niter=1, stepsize=1.19e-06, criterion=1.68e-06, upper_bound=-1558.941135123633, lower_bound=-297163.83518971497, real_Gap=2.96e+05, f_val=-1558.941135123633\niter=10000, stepsize=9.69e-04, criterion=1.68e-06, upper_bound=-4711.320053097373, lower_bound=-4786.076812437881, real_Gap=7.48e+01, f_val=-4711.320053097373\nConvergence achieved!\niter=15784, stepsize=7.02e-16, criterion=8.11e-16, upper_bound=-4772.712055970415, lower_bound=-4772.712055970417, real_Gap=1.82e-12, f_val=-4772.7120559704135\n********* Algorithm starts *********\niter=1, stepsize=1.00e-02, criterion=1.00e-05, upper_bound=-1558.941135123633, lower_bound=-297163.83518971497, real_Gap=2.96e+05, f_val=-1558.941135123633\nConvergence achieved!\niter=2538, stepsize=-2.52e-10, criterion=3.61e-17, upper_bound=-4772.619452148843, lower_bound=-4772.619451883625, real_Gap=-2.65e-07, f_val=-4772.619452148843\n********* Algorithm starts *********\niter=1, stepsize=2.97e-02, criterion=1.00e-05, upper_bound=-1558.941135123633, lower_bound=-297163.83518971497, real_Gap=2.96e+05, f_val=-1558.941135123633\niter=10000, stepsize=5.82e-11, criterion=6.44e-11, upper_bound=-4772.545297422023, lower_bound=-4772.545271259985, real_Gap=-2.62e-05, f_val=-4772.545297422013\niter=20000, stepsize=5.82e-11, criterion=6.44e-11, upper_bound=-4772.545297422023, lower_bound=-4772.545241741564, real_Gap=-5.57e-05, f_val=-4772.545297421986\niter=30000, stepsize=5.82e-11, criterion=6.44e-11, upper_bound=-4772.545297422023, lower_bound=-4772.545212247601, real_Gap=-8.52e-05, f_val=-4772.545297421949\niter=40000, stepsize=5.82e-11, criterion=6.44e-11, upper_bound=-4772.545297422023, lower_bound=-4772.545182770758, real_Gap=-1.15e-04, f_val=-4772.545297421893\niter=50000, stepsize=5.82e-11, criterion=6.44e-11, upper_bound=-4772.545297422023, lower_bound=-4772.545153284054, real_Gap=-1.44e-04, f_val=-4772.545297421821\n367.6119329929352\n********* Algorithm starts *********\niter=1, stepsize=8.81e-07, criterion=1.25e-06, upper_bound=-2148.1327565072725, lower_bound=-399864.93441811815, real_Gap=3.98e+05, f_val=-2148.1327565072725\niter=10000, stepsize=1.55e-03, criterion=1.25e-06, upper_bound=-6258.253571079856, lower_bound=-6476.861699848323, real_Gap=2.19e+02, f_val=-6258.253571079856\niter=20000, stepsize=4.80e-04, criterion=1.25e-06, upper_bound=-6403.315522857907, lower_bound=-6414.1018958621435, real_Gap=1.08e+01, f_val=-6403.315522857907\nConvergence achieved!\niter=21135, stepsize=7.90e-16, criterion=9.86e-16, upper_bound=-6405.527135240751, lower_bound=-6405.5271352407535, real_Gap=2.73e-12, f_val=-6405.527135240749\n********* Algorithm starts *********\niter=1, stepsize=1.35e-02, criterion=1.00e-05, upper_bound=-2148.1327565072725, lower_bound=-399864.93441811815, real_Gap=3.98e+05, f_val=-2148.1327565072725\nConvergence achieved!\niter=6927, stepsize=-9.68e-10, criterion=2.54e-17, upper_bound=-6405.437137468325, lower_bound=-6405.437136942223, real_Gap=-5.26e-07, f_val=-6405.437137468325\n********* Algorithm starts *********\niter=1, stepsize=2.97e-02, criterion=1.00e-05, upper_bound=-2148.1327565072725, lower_bound=-399864.93441811815, real_Gap=3.98e+05, f_val=-2148.1327565072725\niter=10000, stepsize=5.82e-11, criterion=6.44e-11, upper_bound=-6405.411663177933, lower_bound=-6405.411634006725, real_Gap=-2.92e-05, f_val=-6405.411663177925\niter=20000, stepsize=5.82e-11, criterion=6.44e-11, upper_bound=-6405.411663177933, lower_bound=-6405.411600218264, real_Gap=-6.30e-05, f_val=-6405.411663177903\niter=30000, stepsize=5.82e-11, criterion=6.44e-11, upper_bound=-6405.411663177933, lower_bound=-6405.4115664076135, real_Gap=-9.68e-05, f_val=-6405.411663177857\niter=40000, stepsize=5.82e-11, criterion=6.44e-11, upper_bound=-6405.411663177933, lower_bound=-6405.41153260346, real_Gap=-1.31e-04, f_val=-6405.411663177793\niter=50000, stepsize=5.82e-11, criterion=6.44e-11, upper_bound=-6405.411663177933, lower_bound=-6405.411498804299, real_Gap=-1.64e-04, f_val=-6405.411663177708\n523.4618029594421\n********* Algorithm starts *********\niter=1, stepsize=5.04e-07, criterion=7.12e-07, upper_bound=-3882.3675407281967, lower_bound=-699889.8338951402, real_Gap=6.96e+05, f_val=-3882.3675407281967\niter=10000, stepsize=1.92e-06, criterion=7.12e-07, upper_bound=-8481.908368938228, lower_bound=-279267.3873033042, real_Gap=2.71e+05, f_val=-8481.908368938228\niter=20000, stepsize=2.13e-05, criterion=7.12e-07, upper_bound=-11109.040385961594, lower_bound=-11227.83964973511, real_Gap=1.19e+02, f_val=-11109.040385961594\niter=30000, stepsize=1.45e-04, criterion=7.12e-07, upper_bound=-11192.735949933347, lower_bound=-11221.52930485147, real_Gap=2.88e+01, f_val=-11192.735949933347\nConvergence achieved!\niter=36755, stepsize=8.19e-16, criterion=9.36e-16, upper_bound=-11211.092113923478, lower_bound=-11211.092113923482, real_Gap=3.64e-12, f_val=-11211.092113923476\n********* Algorithm starts *********\niter=1, stepsize=1.18e-02, criterion=1.00e-05, upper_bound=-3882.3675407281967, lower_bound=-699889.8338951402, real_Gap=6.96e+05, f_val=-3882.3675407281967\nConvergence achieved!\niter=9730, stepsize=-1.30e-10, criterion=3.29e-17, upper_bound=-11211.072489836266, lower_bound=-11211.072488520895, real_Gap=-1.32e-06, f_val=-11211.072489836266\n********* Algorithm starts *********\niter=1, stepsize=2.97e-02, criterion=1.00e-05, upper_bound=-3882.3675407281967, lower_bound=-699889.8338951402, real_Gap=6.96e+05, f_val=-3882.3675407281967\niter=10000, stepsize=5.82e-11, criterion=6.55e-11, upper_bound=-11210.991711401177, lower_bound=-11210.991678324632, real_Gap=-3.31e-05, f_val=-11210.99171140116\niter=20000, stepsize=5.82e-11, criterion=6.55e-11, upper_bound=-11210.991711401177, lower_bound=-11210.991633656542, real_Gap=-7.77e-05, f_val=-11210.991711401122\niter=30000, stepsize=5.82e-11, criterion=6.55e-11, upper_bound=-11210.991711401177, lower_bound=-11210.99158900745, real_Gap=-1.22e-04, f_val=-11210.991711401068\niter=40000, stepsize=5.82e-11, criterion=6.55e-11, upper_bound=-11210.991711401177, lower_bound=-11210.99154436876, real_Gap=-1.67e-04, f_val=-11210.991711400984\niter=50000, stepsize=5.82e-11, criterion=6.55e-11, upper_bound=-11210.991711401177, lower_bound=-11210.991499615202, real_Gap=-2.12e-04, f_val=-11210.991711400866\n1036.0367257595062\n********* Algorithm starts *********\niter=1, stepsize=3.51e-07, criterion=4.96e-07, upper_bound=-5643.307853783249, lower_bound=-1004227.5407760479, real_Gap=9.99e+05, f_val=-5643.307853783249\niter=10000, stepsize=8.99e-07, criterion=4.96e-07, upper_bound=-10003.445847273157, lower_bound=-577254.4924006335, real_Gap=5.67e+05, f_val=-10003.445847273157\niter=20000, stepsize=2.31e-06, criterion=4.96e-07, upper_bound=-14868.400213122013, lower_bound=-178135.82123872256, real_Gap=1.63e+05, f_val=-14868.400213122013\niter=30000, stepsize=9.64e-05, criterion=4.96e-07, upper_bound=-16001.199830037127, lower_bound=-16107.27677805096, real_Gap=1.06e+02, f_val=-16001.199830037127\niter=40000, stepsize=5.01e-05, criterion=4.96e-07, upper_bound=-16062.321997067458, lower_bound=-16102.412765182058, real_Gap=4.01e+01, f_val=-16062.321997067458\niter=50000, stepsize=1.68e-04, criterion=4.96e-07, upper_bound=-16089.002171370405, lower_bound=-16100.121773025983, real_Gap=1.11e+01, f_val=-16089.002171370405\n108.46228528022766\n********* Algorithm starts *********\niter=1, stepsize=1.69e-02, criterion=1.00e-05, upper_bound=-5643.307853783249, lower_bound=-1004227.5407760479, real_Gap=9.99e+05, f_val=-5643.307853783249\nConvergence achieved!\niter=8826, stepsize=-8.70e-10, criterion=3.11e-17, upper_bound=-16090.813126049827, lower_bound=-16090.813125757015, real_Gap=-2.93e-07, f_val=-16090.813126049827\n********* Algorithm starts *********\niter=1, stepsize=2.97e-02, criterion=1.00e-05, upper_bound=-5643.307853783249, lower_bound=-1004227.5407760479, real_Gap=9.99e+05, f_val=-5643.307853783249\niter=10000, stepsize=5.82e-11, criterion=6.61e-11, upper_bound=-16090.804245092135, lower_bound=-16090.8042109799, real_Gap=-3.41e-05, f_val=-16090.804245092128\niter=20000, stepsize=5.82e-11, criterion=6.61e-11, upper_bound=-16090.804245092135, lower_bound=-16090.804157772394, real_Gap=-8.73e-05, f_val=-16090.804245092097\niter=30000, stepsize=5.82e-11, criterion=6.61e-11, upper_bound=-16090.804245092135, lower_bound=-16090.80410435124, real_Gap=-1.41e-04, f_val=-16090.804245092031\niter=40000, stepsize=5.82e-11, criterion=6.61e-11, upper_bound=-16090.804245092135, lower_bound=-16090.804051140045, real_Gap=-1.94e-04, f_val=-16090.804245091937\niter=50000, stepsize=5.82e-11, criterion=6.61e-11, upper_bound=-16090.804245092135, lower_bound=-16090.803997894162, real_Gap=-2.47e-04, f_val=-16090.804245091816\n1524.2179970741272\n********* Algorithm starts *********\niter=1, stepsize=2.47e-07, criterion=3.49e-07, upper_bound=-7977.29565946142, lower_bound=-1420820.9510943408, real_Gap=1.41e+06, f_val=-7977.29565946142\niter=10000, stepsize=4.80e-07, criterion=3.49e-07, upper_bound=-12090.83808078993, lower_bound=-993524.3738585338, real_Gap=9.81e+05, f_val=-12090.83808078993\niter=20000, stepsize=9.27e-07, criterion=3.49e-07, upper_bound=-17141.585352856713, lower_bound=-579089.4508349753, real_Gap=5.62e+05, f_val=-17141.585352856713\niter=30000, stepsize=1.82e-06, criterion=3.49e-07, upper_bound=-21592.477626327232, lower_bound=-186334.13979075197, real_Gap=1.65e+05, f_val=-21592.477626327232\niter=40000, stepsize=9.06e-04, criterion=3.49e-07, upper_bound=-22578.9249256268, lower_bound=-22704.056111729886, real_Gap=1.25e+02, f_val=-22578.9249256268\niter=50000, stepsize=8.24e-06, criterion=3.49e-07, upper_bound=-22636.083904951018, lower_bound=-22700.120223235925, real_Gap=6.40e+01, f_val=-22636.083904951018\n154.74181985855103\n********* Algorithm starts *********\niter=1, stepsize=1.20e-02, criterion=1.00e-05, upper_bound=-7977.29565946142, lower_bound=-1420820.9510943408, real_Gap=1.41e+06, f_val=-7977.29565946142\niter=10000, stepsize=4.38e-17, criterion=3.80e-17, upper_bound=-22686.571851004785, lower_bound=-22686.57204252177, real_Gap=1.92e-04, f_val=-22686.571851004785\nConvergence achieved!\niter=15014, stepsize=-1.37e-09, criterion=2.28e-17, upper_bound=-22686.57185100488, lower_bound=-22686.571842944573, real_Gap=-8.06e-06, f_val=-22686.57185100488\n********* Algorithm starts *********\niter=1, stepsize=2.97e-02, criterion=1.00e-05, upper_bound=-7977.29565946142, lower_bound=-1420820.9510943408, real_Gap=1.41e+06, f_val=-7977.29565946142\niter=10000, stepsize=5.82e-11, criterion=6.64e-11, upper_bound=-22686.59076320954, lower_bound=-22686.590731298995, real_Gap=-3.19e-05, f_val=-22686.59076320953\niter=20000, stepsize=5.82e-11, criterion=6.64e-11, upper_bound=-22686.59076320954, lower_bound=-22686.590669436995, real_Gap=-9.38e-05, f_val=-22686.590763209486\niter=30000, stepsize=5.82e-11, criterion=6.64e-11, upper_bound=-22686.59076320954, lower_bound=-22686.590607585542, real_Gap=-1.56e-04, f_val=-22686.590763209413\niter=40000, stepsize=5.82e-11, criterion=6.64e-11, upper_bound=-22686.59076320954, lower_bound=-22686.590545688083, real_Gap=-2.18e-04, f_val=-22686.5907632093\niter=50000, stepsize=5.82e-11, criterion=6.64e-11, upper_bound=-22686.59076320954, lower_bound=-22686.590483740965, real_Gap=-2.79e-04, f_val=-22686.590763209144\n2228.8001222610474\n********* Algorithm starts *********\niter=1, stepsize=1.72e-07, criterion=2.44e-07, upper_bound=-11515.911091854961, lower_bound=-2036881.5030858791, real_Gap=2.03e+06, f_val=-11515.911091854961\niter=10000, stepsize=2.74e-07, criterion=2.44e-07, upper_bound=-15443.29428160887, lower_bound=-1609421.7734597223, real_Gap=1.59e+06, f_val=-15443.29428160887\niter=20000, stepsize=4.37e-07, criterion=2.44e-07, upper_bound=-20192.137921427988, lower_bound=-1182847.947332931, real_Gap=1.16e+06, f_val=-20192.137921427988\niter=30000, stepsize=6.86e-07, criterion=2.44e-07, upper_bound=-25332.15574802764, lower_bound=-778516.7687065519, real_Gap=7.53e+05, f_val=-25332.15574802764\niter=40000, stepsize=1.09e-06, criterion=2.44e-07, upper_bound=-29993.700606518214, lower_bound=-384761.5071138773, real_Gap=3.55e+05, f_val=-29993.700606518214\niter=50000, stepsize=1.60e-05, criterion=2.44e-07, upper_bound=-32346.337647178494, lower_bound=-36564.0542611762, real_Gap=4.22e+03, f_val=-32346.337647178494\n226.5981845855713\n********* Algorithm starts *********\niter=1, stepsize=1.72e-02, criterion=1.00e-05, upper_bound=-11515.911091854961, lower_bound=-2036881.5030858791, real_Gap=2.03e+06, f_val=-11515.911091854961\niter=10000, stepsize=2.00e-04, criterion=1.00e-05, upper_bound=-32532.039334070145, lower_bound=-32571.404445942684, real_Gap=3.94e+01, f_val=-32532.039334070145\niter=20000, stepsize=3.52e-17, criterion=2.24e-17, upper_bound=-32551.378122402726, lower_bound=-32551.378196318965, real_Gap=7.39e-05, f_val=-32551.378122402726\nConvergence achieved!\niter=26604, stepsize=-8.32e-09, criterion=2.24e-17, upper_bound=-32551.37812240275, lower_bound=-32551.378116332377, real_Gap=-6.07e-06, f_val=-32551.37812240275\n********* Algorithm starts *********\niter=1, stepsize=2.97e-02, criterion=1.00e-05, upper_bound=-11515.911091854961, lower_bound=-2036881.5030858791, real_Gap=2.03e+06, f_val=-11515.911091854961\niter=10000, stepsize=5.82e-11, criterion=6.69e-11, upper_bound=-32551.388053171668, lower_bound=-32551.388029972062, real_Gap=-2.32e-05, f_val=-32551.388053171657\niter=20000, stepsize=5.82e-11, criterion=6.69e-11, upper_bound=-32551.388053171668, lower_bound=-32551.387957072515, real_Gap=-9.61e-05, f_val=-32551.38805317163\niter=30000, stepsize=5.82e-11, criterion=6.69e-11, upper_bound=-32551.388053171668, lower_bound=-32551.387884373013, real_Gap=-1.69e-04, f_val=-32551.38805317155\niter=40000, stepsize=5.82e-11, criterion=6.69e-11, upper_bound=-32551.388053171668, lower_bound=-32551.387811427878, real_Gap=-2.42e-04, f_val=-32551.388053171424\niter=50000, stepsize=5.82e-11, criterion=6.69e-11, upper_bound=-32551.388053171668, lower_bound=-32551.387738694742, real_Gap=-3.14e-04, f_val=-32551.388053171264\n3333.257654905319\n"
    }
   ],
   "source": [
    "data_list =  ['a1a','a2a','a3a', 'a4a', 'a5a', 'a6a','a7a','a8a','a9a']\n",
    "for problem_name in data_list:\n",
    "    run_fw(problem_name)"
   ]
  },
  {
   "cell_type": "code",
   "execution_count": 2,
   "metadata": {},
   "outputs": [],
   "source": [
    "problem_name = 'a5a'\n",
    "results = {problem_name: {}}\n",
    "W, y = load_svmlight_file(os.path.join(data_folder, problem_name))\n",
    "y = y.reshape(-1, 1)\n",
    "W = W.toarray()\n",
    "\n",
    "# multiplicative multiplication of the structure of the recognizable structure\n",
    "W = matlib.repmat(y, 1, W.shape[1]) * W\n",
    "# summation of feature descriptions\n",
    "sA = np.sum(W, 1)\n",
    "# if the sum of the string is negative, invert it\n",
    "W[sA < 0, :] = -W[sA < 0, :]\n",
    "# zero row deletion\n",
    "W = W[sA != 0, :]\n",
    "# W = scipy.sparse.csr_matrix(W)\n",
    "\n",
    "Bias = 1\n",
    "b = (Bias * y).squeeze()\n",
    "b = np.abs(b)\n",
    "if (b.any == 0):\n",
    "    print(' Input parameter y error')\n",
    "\n",
    "y = b\n",
    "N, n = W.shape"
   ]
  },
  {
   "cell_type": "code",
   "execution_count": 3,
   "metadata": {},
   "outputs": [],
   "source": [
    "#lam =  np.sqrt(N)/2\n",
    "lam =  0.005\n",
    "#first set of parameters\n",
    "Mf = 1\n",
    "nu = 4\n",
    "R = 30\n",
    "#running parameters\n",
    "x0 = np.hstack((np.ones(n) / n, R))\n",
    "terminate_tol = 1e-15\n",
    "\n",
    "FW_params={\n",
    "    'iter_FW': 50000,\n",
    "    'line_search_tol': 1e-10,\n",
    "}\n",
    "\n",
    "prox_params={\n",
    "        #parameters for SCOPT\n",
    "        'iter_prox': 50000,\n",
    "        'Lest': 'estimate',#,'estimate', #estimate L\n",
    "        'bb_type': 3,\n",
    "        #FISTA parameters\n",
    "        'fista_type': 'fista',\n",
    "        'fista_tol': 1e-5,\n",
    "        'fista_iter': 1000,\n",
    "        'btk_iters': 100,\n",
    "        'backtracking': True\n",
    "    }\n",
    "\n",
    "sc_params={\n",
    "    #parameters for SCOPT\n",
    "    'iter_SC': 1000,\n",
    "    'Lest': 'estimate', #estimate L\n",
    "    'use_two_phase': True,\n",
    "    #FISTA parameters\n",
    "    'fista_type': 'mfista',\n",
    "    'fista_tol': 1e-5,\n",
    "    'fista_iter': 1000,\n",
    "    #Conjugate Gradient Parameters\n",
    "    'conj_grad_tol': 1e-2,\n",
    "    'conj_grad_iter': 100,\n",
    "}\n",
    "\n",
    "func_x = lambda x: kl.val(W, y, lam, x)\n",
    "func_beta = lambda x, s, beta, dot_product, dot_product_s: kl.val(W, y, lam, (1 - beta) * x + beta * s, (1 - beta) * dot_product + beta * dot_product_s)\n",
    "grad_x = lambda x, dot_product: kl.grad(W, y, lam, x, dot_product)\n",
    "grad_beta = lambda x, s, beta, dot_product, dot_product_s: kl.grad(W, y, lam, (1 - beta) * x + beta * s, (1 - beta) * dot_product + beta * dot_product_s)\n",
    "hess_mult_x = lambda x, dot_product: kl.hess_mult(W, y, lam, x, dot_product)\n",
    "hess_mult_vec_x = lambda s, dot_product: kl.hess_mult_vec(W, y, lam, s, dot_product)\n",
    "extra_func = lambda x: W @ x[:-1]\n",
    "linear_oracle = lambda grad, x: kl.linear_oracle(grad, x)\n",
    "prox_func = lambda s, L: kl.projection(s) #used for SCOPT\n",
    "#prox_func = lambda s, L: np.maximum(s, 0) #used for SCOPT"
   ]
  },
  {
   "cell_type": "code",
   "execution_count": 4,
   "metadata": {
    "tags": []
   },
   "outputs": [
    {
     "output_type": "stream",
     "name": "stdout",
     "text": "********* Algorithm starts *********\niter=1, stepsize=8.81e-07, criterion=1.25e-06, upper_bound=-2313.663171765081, lower_bound=-399864.93441811873, real_Gap=3.98e+05, f_val=-2313.663171765081\niter=1000, stepsize=1.11e-06, criterion=1.25e-06, upper_bound=-2685.8515026432538, lower_bound=-357148.00527738297, real_Gap=3.54e+05, f_val=-2685.8515026432538\niter=2000, stepsize=1.41e-06, criterion=1.25e-06, upper_bound=-3102.9808945046852, lower_bound=-314414.1441248068, real_Gap=3.11e+05, f_val=-3102.9808945046852\niter=3000, stepsize=1.79e-06, criterion=1.25e-06, upper_bound=-3562.5114451715904, lower_bound=-271726.799982505, real_Gap=2.68e+05, f_val=-3562.5114451715904\niter=4000, stepsize=2.27e-06, criterion=1.25e-06, upper_bound=-4058.040671243533, lower_bound=-229115.81064119458, real_Gap=2.25e+05, f_val=-4058.040671243533\niter=5000, stepsize=2.77e-06, criterion=1.25e-06, upper_bound=-4570.235107684244, lower_bound=-188566.3490315311, real_Gap=1.84e+05, f_val=-4570.235107684244\niter=6000, stepsize=3.52e-06, criterion=1.25e-06, upper_bound=-5086.120773239505, lower_bound=-148453.21199931725, real_Gap=1.43e+05, f_val=-5086.120773239505\niter=7000, stepsize=4.50e-06, criterion=1.25e-06, upper_bound=-5576.733869861772, lower_bound=-108820.2669107472, real_Gap=1.03e+05, f_val=-5576.733869861772\niter=8000, stepsize=5.67e-06, criterion=1.25e-06, upper_bound=-5999.500195356533, lower_bound=-69915.6512801036, real_Gap=6.39e+04, f_val=-5999.500195356533\niter=9000, stepsize=7.82e-06, criterion=1.25e-06, upper_bound=-6288.819091330895, lower_bound=-31636.296805449776, real_Gap=2.53e+04, f_val=-6288.819091330895\niter=10000, stepsize=8.90e-06, criterion=1.25e-06, upper_bound=-6409.9192407202545, lower_bound=-6479.667616139232, real_Gap=6.97e+01, f_val=-6409.9192407202545\niter=11000, stepsize=6.02e-06, criterion=1.25e-06, upper_bound=-6412.686467962904, lower_bound=-6419.118240561537, real_Gap=6.43e+00, f_val=-6412.686467962904\niter=12000, stepsize=2.89e-05, criterion=1.25e-06, upper_bound=-6412.893353939297, lower_bound=-6415.698144230539, real_Gap=2.80e+00, f_val=-6412.893353939297\niter=13000, stepsize=6.28e-06, criterion=1.25e-06, upper_bound=-6412.967499775818, lower_bound=-6415.500292320208, real_Gap=2.53e+00, f_val=-6412.967499775818\niter=14000, stepsize=2.29e-05, criterion=1.25e-06, upper_bound=-6413.037074663153, lower_bound=-6415.431287525511, real_Gap=2.39e+00, f_val=-6413.037074663153\niter=15000, stepsize=8.88e-06, criterion=1.25e-06, upper_bound=-6413.100163502821, lower_bound=-6415.29457989159, real_Gap=2.19e+00, f_val=-6413.100163502821\niter=16000, stepsize=5.39e-05, criterion=1.25e-06, upper_bound=-6413.154751592188, lower_bound=-6415.23709109641, real_Gap=2.08e+00, f_val=-6413.154751592188\niter=17000, stepsize=1.20e-05, criterion=1.25e-06, upper_bound=-6413.204232032944, lower_bound=-6415.23709109641, real_Gap=2.03e+00, f_val=-6413.204232032944\niter=18000, stepsize=4.98e-06, criterion=1.25e-06, upper_bound=-6413.247938688769, lower_bound=-6415.151879870801, real_Gap=1.90e+00, f_val=-6413.247938688769\niter=19000, stepsize=1.82e-05, criterion=1.25e-06, upper_bound=-6413.288381106268, lower_bound=-6415.151879870801, real_Gap=1.86e+00, f_val=-6413.288381106268\niter=20000, stepsize=5.71e-05, criterion=1.25e-06, upper_bound=-6413.32499634682, lower_bound=-6415.151879870801, real_Gap=1.83e+00, f_val=-6413.32499634682\niter=21000, stepsize=7.55e-06, criterion=1.25e-06, upper_bound=-6413.358697172871, lower_bound=-6415.05924854224, real_Gap=1.70e+00, f_val=-6413.358697172871\niter=22000, stepsize=4.09e-06, criterion=1.25e-06, upper_bound=-6413.389538208896, lower_bound=-6415.042679723223, real_Gap=1.65e+00, f_val=-6413.389538208896\niter=23000, stepsize=4.56e-06, criterion=1.25e-06, upper_bound=-6413.417698607458, lower_bound=-6415.042679723223, real_Gap=1.62e+00, f_val=-6413.417698607458\niter=24000, stepsize=6.45e-06, criterion=1.25e-06, upper_bound=-6413.4432697263, lower_bound=-6414.95836561868, real_Gap=1.52e+00, f_val=-6413.4432697263\niter=25000, stepsize=4.29e-06, criterion=1.25e-06, upper_bound=-6413.467592739199, lower_bound=-6414.953941301749, real_Gap=1.49e+00, f_val=-6413.467592739199\niter=26000, stepsize=6.84e-06, criterion=1.25e-06, upper_bound=-6413.489985877539, lower_bound=-6414.87254876011, real_Gap=1.38e+00, f_val=-6413.489985877539\niter=27000, stepsize=5.37e-06, criterion=1.25e-06, upper_bound=-6413.511480939471, lower_bound=-6414.765484514337, real_Gap=1.25e+00, f_val=-6413.511480939471\niter=28000, stepsize=7.45e-05, criterion=1.25e-06, upper_bound=-6413.531083380629, lower_bound=-6414.765484514337, real_Gap=1.23e+00, f_val=-6413.531083380629\niter=29000, stepsize=5.08e-05, criterion=1.25e-06, upper_bound=-6413.549751548356, lower_bound=-6414.6990696185885, real_Gap=1.15e+00, f_val=-6413.549751548356\niter=30000, stepsize=7.42e-06, criterion=1.25e-06, upper_bound=-6413.5671576117165, lower_bound=-6414.6918140596545, real_Gap=1.12e+00, f_val=-6413.5671576117165\niter=31000, stepsize=5.67e-05, criterion=1.25e-06, upper_bound=-6413.5836353607065, lower_bound=-6414.6918140596545, real_Gap=1.11e+00, f_val=-6413.5836353607065\niter=32000, stepsize=7.30e-06, criterion=1.25e-06, upper_bound=-6413.599280018123, lower_bound=-6414.6735220407, real_Gap=1.07e+00, f_val=-6413.599280018123\niter=33000, stepsize=9.38e-06, criterion=1.25e-06, upper_bound=-6413.613876027656, lower_bound=-6414.6735220407, real_Gap=1.06e+00, f_val=-6413.613876027656\niter=34000, stepsize=8.74e-06, criterion=1.25e-06, upper_bound=-6413.627781355935, lower_bound=-6414.61446519433, real_Gap=9.87e-01, f_val=-6413.627781355935\niter=35000, stepsize=1.09e-05, criterion=1.25e-06, upper_bound=-6413.640965087049, lower_bound=-6414.61446519433, real_Gap=9.74e-01, f_val=-6413.640965087049\niter=36000, stepsize=3.93e-05, criterion=1.25e-06, upper_bound=-6413.653565278776, lower_bound=-6414.580301669181, real_Gap=9.27e-01, f_val=-6413.653565278776\niter=37000, stepsize=4.55e-06, criterion=1.25e-06, upper_bound=-6413.665470140914, lower_bound=-6414.572827325272, real_Gap=9.07e-01, f_val=-6413.665470140914\niter=38000, stepsize=7.45e-06, criterion=1.25e-06, upper_bound=-6413.676808249123, lower_bound=-6414.529600273115, real_Gap=8.53e-01, f_val=-6413.676808249123\niter=39000, stepsize=9.16e-06, criterion=1.25e-06, upper_bound=-6413.6876258910115, lower_bound=-6414.503064884783, real_Gap=8.15e-01, f_val=-6413.6876258910115\niter=40000, stepsize=6.11e-05, criterion=1.25e-06, upper_bound=-6413.697853663175, lower_bound=-6414.4848810582935, real_Gap=7.87e-01, f_val=-6413.697853663175\niter=41000, stepsize=7.47e-06, criterion=1.25e-06, upper_bound=-6413.707663140629, lower_bound=-6414.483357018944, real_Gap=7.76e-01, f_val=-6413.707663140629\niter=42000, stepsize=4.85e-05, criterion=1.25e-06, upper_bound=-6413.7170742251465, lower_bound=-6414.437769287182, real_Gap=7.21e-01, f_val=-6413.7170742251465\niter=43000, stepsize=9.15e-06, criterion=1.25e-06, upper_bound=-6413.726017253111, lower_bound=-6414.423061813045, real_Gap=6.97e-01, f_val=-6413.726017253111\niter=44000, stepsize=8.67e-06, criterion=1.25e-06, upper_bound=-6413.734607634083, lower_bound=-6414.392065754641, real_Gap=6.57e-01, f_val=-6413.734607634083\niter=45000, stepsize=6.35e-06, criterion=1.25e-06, upper_bound=-6413.742753486973, lower_bound=-6414.392065754641, real_Gap=6.49e-01, f_val=-6413.742753486973\niter=46000, stepsize=9.60e-05, criterion=1.25e-06, upper_bound=-6413.750514207861, lower_bound=-6414.388769190304, real_Gap=6.38e-01, f_val=-6413.750514207861\niter=47000, stepsize=2.81e-06, criterion=1.25e-06, upper_bound=-6413.758002133813, lower_bound=-6414.379446746199, real_Gap=6.21e-01, f_val=-6413.758002133813\niter=48000, stepsize=9.38e-06, criterion=1.25e-06, upper_bound=-6413.765061753178, lower_bound=-6414.370948014508, real_Gap=6.06e-01, f_val=-6413.765061753178\niter=49000, stepsize=7.42e-06, criterion=1.25e-06, upper_bound=-6413.771889420787, lower_bound=-6414.362772992486, real_Gap=5.91e-01, f_val=-6413.771889420787\niter=50000, stepsize=6.35e-06, criterion=1.25e-06, upper_bound=-6413.778445577565, lower_bound=-6414.338931462847, real_Gap=5.60e-01, f_val=-6413.778445577565\n42.36988067626953\n"
    }
   ],
   "source": [
    "policy = 'sc'\n",
    "x, alpha_hist, Gap_hist, Q_hist, time_hist = frank_wolfe(func_x,\n",
    "                           func_beta,                                      \n",
    "                           grad_x,\n",
    "                           grad_beta,\n",
    "                           hess_mult_x,\n",
    "                           extra_func,\n",
    "                           Mf,\n",
    "                           nu,\n",
    "                           linear_oracle,                                                    \n",
    "                           x0,\n",
    "                           FW_params,\n",
    "                           hess=None, \n",
    "                           lloo_oracle=None,                                                 \n",
    "                           alpha_policy=policy,                                                    \n",
    "                           eps=terminate_tol, \n",
    "                           print_every=1000, \n",
    "                           debug_info=False)"
   ]
  },
  {
   "cell_type": "code",
   "execution_count": 10,
   "metadata": {},
   "outputs": [
    {
     "output_type": "execute_result",
     "data": {
      "text/plain": "1.7104211312130828"
     },
     "metadata": {},
     "execution_count": 10
    }
   ],
   "source": [
    "x[-1]"
   ]
  },
  {
   "cell_type": "code",
   "execution_count": 6,
   "metadata": {
    "tags": []
   },
   "outputs": [
    {
     "output_type": "stream",
     "name": "stdout",
     "text": "iter =    1, stepsize = 5.549e-04, rdiff = 9.997e-01 , f = -2313.66\niter = 1000, stepsize = 4.522e-03, rdiff = 5.234e-01 , f = -6235.16\niter = 2000, stepsize = 5.376e-03, rdiff = 3.697e-01 , f = -4645.9\niter = 3000, stepsize = 2.689e-05, rdiff = 7.334e-01 , f = -4740.57\n"
    },
    {
     "output_type": "error",
     "ename": "ValueError",
     "evalue": "array must not contain infs or NaNs",
     "traceback": [
      "\u001b[1;31m---------------------------------------------------------------------------\u001b[0m",
      "\u001b[1;31mValueError\u001b[0m                                Traceback (most recent call last)",
      "\u001b[1;32m<ipython-input-6-a0ff2c6983d9>\u001b[0m in \u001b[0;36m<module>\u001b[1;34m\u001b[0m\n\u001b[0;32m      6\u001b[0m                 \u001b[0mprox_params\u001b[0m\u001b[1;33m,\u001b[0m\u001b[1;33m\u001b[0m\u001b[1;33m\u001b[0m\u001b[0m\n\u001b[0;32m      7\u001b[0m                 \u001b[0meps\u001b[0m\u001b[1;33m=\u001b[0m\u001b[0mterminate_tol\u001b[0m\u001b[1;33m,\u001b[0m\u001b[1;33m\u001b[0m\u001b[1;33m\u001b[0m\u001b[0m\n\u001b[1;32m----> 8\u001b[1;33m                 print_every=1000)\n\u001b[0m",
      "\u001b[1;32md:\\Users\\Kamil\\Documents\\study\\Optimization\\FW-SC\\scfw_experiments\\scfw\\prox_grad.py\u001b[0m in \u001b[0;36mprox_grad\u001b[1;34m(func_x, grad_x, prox_func, Mf, x0, prox_params, eps, print_every)\u001b[0m\n\u001b[0;32m    156\u001b[0m         \u001b[0mx_nxt\u001b[0m \u001b[1;33m=\u001b[0m \u001b[0mprox_func\u001b[0m\u001b[1;33m(\u001b[0m\u001b[0mx_cur\u001b[0m \u001b[1;33m-\u001b[0m \u001b[1;36m1\u001b[0m\u001b[1;33m/\u001b[0m\u001b[0mLips_cur\u001b[0m \u001b[1;33m*\u001b[0m \u001b[0mgrad_cur\u001b[0m\u001b[1;33m,\u001b[0m \u001b[0mLips_cur\u001b[0m\u001b[1;33m)\u001b[0m\u001b[1;33m\u001b[0m\u001b[1;33m\u001b[0m\u001b[0m\n\u001b[0;32m    157\u001b[0m         \u001b[0mdiffx\u001b[0m \u001b[1;33m=\u001b[0m \u001b[0mx_nxt\u001b[0m \u001b[1;33m-\u001b[0m \u001b[0mx_cur\u001b[0m\u001b[1;33m\u001b[0m\u001b[1;33m\u001b[0m\u001b[0m\n\u001b[1;32m--> 158\u001b[1;33m         \u001b[0mnrm_dx\u001b[0m \u001b[1;33m=\u001b[0m \u001b[0mnorm\u001b[0m\u001b[1;33m(\u001b[0m\u001b[0mdiffx\u001b[0m\u001b[1;33m)\u001b[0m\u001b[1;33m\u001b[0m\u001b[1;33m\u001b[0m\u001b[0m\n\u001b[0m\u001b[0;32m    159\u001b[0m         \u001b[0mlam_k\u001b[0m \u001b[1;33m=\u001b[0m \u001b[0mnp\u001b[0m\u001b[1;33m.\u001b[0m\u001b[0msqrt\u001b[0m\u001b[1;33m(\u001b[0m\u001b[1;33m(\u001b[0m\u001b[0mH\u001b[0m\u001b[1;33m.\u001b[0m\u001b[0mdot\u001b[0m\u001b[1;33m(\u001b[0m\u001b[0mdiffx\u001b[0m\u001b[1;33m)\u001b[0m\u001b[1;33m)\u001b[0m\u001b[1;33m.\u001b[0m\u001b[0mdot\u001b[0m\u001b[1;33m(\u001b[0m\u001b[0mdiffx\u001b[0m\u001b[1;33m)\u001b[0m\u001b[1;33m)\u001b[0m\u001b[1;33m\u001b[0m\u001b[1;33m\u001b[0m\u001b[0m\n\u001b[0;32m    160\u001b[0m         \u001b[0mbeta_k\u001b[0m \u001b[1;33m=\u001b[0m \u001b[0mMf\u001b[0m \u001b[1;33m*\u001b[0m \u001b[0mnorm\u001b[0m\u001b[1;33m(\u001b[0m\u001b[0mdiffx\u001b[0m\u001b[1;33m)\u001b[0m\u001b[1;33m\u001b[0m\u001b[1;33m\u001b[0m\u001b[0m\n",
      "\u001b[1;32md:\\Users\\Kamil\\Documents\\study\\Optimization\\FW-SC\\scfw_experiments\\scfw\\prox_grad.py\u001b[0m in \u001b[0;36mnorm\u001b[1;34m(x)\u001b[0m\n\u001b[0;32m      9\u001b[0m     '''\n\u001b[0;32m     10\u001b[0m     \u001b[1;32mif\u001b[0m \u001b[0mx\u001b[0m\u001b[1;33m.\u001b[0m\u001b[0mndim\u001b[0m \u001b[1;33m==\u001b[0m \u001b[1;36m1\u001b[0m\u001b[1;33m:\u001b[0m\u001b[1;33m\u001b[0m\u001b[1;33m\u001b[0m\u001b[0m\n\u001b[1;32m---> 11\u001b[1;33m         \u001b[1;32mreturn\u001b[0m \u001b[0msc\u001b[0m\u001b[1;33m.\u001b[0m\u001b[0mnorm\u001b[0m\u001b[1;33m(\u001b[0m\u001b[0mx\u001b[0m\u001b[1;33m)\u001b[0m\u001b[1;33m\u001b[0m\u001b[1;33m\u001b[0m\u001b[0m\n\u001b[0m\u001b[0;32m     12\u001b[0m     \u001b[1;32mif\u001b[0m \u001b[0mx\u001b[0m\u001b[1;33m.\u001b[0m\u001b[0mndim\u001b[0m \u001b[1;33m==\u001b[0m \u001b[1;36m2\u001b[0m\u001b[1;33m:\u001b[0m\u001b[1;33m\u001b[0m\u001b[1;33m\u001b[0m\u001b[0m\n\u001b[0;32m     13\u001b[0m         \u001b[1;32mreturn\u001b[0m \u001b[0mnp\u001b[0m\u001b[1;33m.\u001b[0m\u001b[0msqrt\u001b[0m\u001b[1;33m(\u001b[0m\u001b[0mdot_product\u001b[0m\u001b[1;33m(\u001b[0m\u001b[0mx\u001b[0m\u001b[1;33m,\u001b[0m \u001b[0mx\u001b[0m\u001b[1;33m)\u001b[0m\u001b[1;33m)\u001b[0m\u001b[1;33m\u001b[0m\u001b[1;33m\u001b[0m\u001b[0m\n",
      "\u001b[1;32mC:\\ProgramData\\Anaconda3\\lib\\site-packages\\scipy\\linalg\\misc.py\u001b[0m in \u001b[0;36mnorm\u001b[1;34m(a, ord, axis, keepdims, check_finite)\u001b[0m\n\u001b[0;32m    138\u001b[0m     \u001b[1;31m# Differs from numpy only in non-finite handling and the use of blas.\u001b[0m\u001b[1;33m\u001b[0m\u001b[1;33m\u001b[0m\u001b[1;33m\u001b[0m\u001b[0m\n\u001b[0;32m    139\u001b[0m     \u001b[1;32mif\u001b[0m \u001b[0mcheck_finite\u001b[0m\u001b[1;33m:\u001b[0m\u001b[1;33m\u001b[0m\u001b[1;33m\u001b[0m\u001b[0m\n\u001b[1;32m--> 140\u001b[1;33m         \u001b[0ma\u001b[0m \u001b[1;33m=\u001b[0m \u001b[0mnp\u001b[0m\u001b[1;33m.\u001b[0m\u001b[0masarray_chkfinite\u001b[0m\u001b[1;33m(\u001b[0m\u001b[0ma\u001b[0m\u001b[1;33m)\u001b[0m\u001b[1;33m\u001b[0m\u001b[1;33m\u001b[0m\u001b[0m\n\u001b[0m\u001b[0;32m    141\u001b[0m     \u001b[1;32melse\u001b[0m\u001b[1;33m:\u001b[0m\u001b[1;33m\u001b[0m\u001b[1;33m\u001b[0m\u001b[0m\n\u001b[0;32m    142\u001b[0m         \u001b[0ma\u001b[0m \u001b[1;33m=\u001b[0m \u001b[0mnp\u001b[0m\u001b[1;33m.\u001b[0m\u001b[0masarray\u001b[0m\u001b[1;33m(\u001b[0m\u001b[0ma\u001b[0m\u001b[1;33m)\u001b[0m\u001b[1;33m\u001b[0m\u001b[1;33m\u001b[0m\u001b[0m\n",
      "\u001b[1;32mC:\\ProgramData\\Anaconda3\\lib\\site-packages\\numpy\\lib\\function_base.py\u001b[0m in \u001b[0;36masarray_chkfinite\u001b[1;34m(a, dtype, order)\u001b[0m\n\u001b[0;32m    497\u001b[0m     \u001b[1;32mif\u001b[0m \u001b[0ma\u001b[0m\u001b[1;33m.\u001b[0m\u001b[0mdtype\u001b[0m\u001b[1;33m.\u001b[0m\u001b[0mchar\u001b[0m \u001b[1;32min\u001b[0m \u001b[0mtypecodes\u001b[0m\u001b[1;33m[\u001b[0m\u001b[1;34m'AllFloat'\u001b[0m\u001b[1;33m]\u001b[0m \u001b[1;32mand\u001b[0m \u001b[1;32mnot\u001b[0m \u001b[0mnp\u001b[0m\u001b[1;33m.\u001b[0m\u001b[0misfinite\u001b[0m\u001b[1;33m(\u001b[0m\u001b[0ma\u001b[0m\u001b[1;33m)\u001b[0m\u001b[1;33m.\u001b[0m\u001b[0mall\u001b[0m\u001b[1;33m(\u001b[0m\u001b[1;33m)\u001b[0m\u001b[1;33m:\u001b[0m\u001b[1;33m\u001b[0m\u001b[1;33m\u001b[0m\u001b[0m\n\u001b[0;32m    498\u001b[0m         raise ValueError(\n\u001b[1;32m--> 499\u001b[1;33m             \"array must not contain infs or NaNs\")\n\u001b[0m\u001b[0;32m    500\u001b[0m     \u001b[1;32mreturn\u001b[0m \u001b[0ma\u001b[0m\u001b[1;33m\u001b[0m\u001b[1;33m\u001b[0m\u001b[0m\n\u001b[0;32m    501\u001b[0m \u001b[1;33m\u001b[0m\u001b[0m\n",
      "\u001b[1;31mValueError\u001b[0m: array must not contain infs or NaNs"
     ]
    }
   ],
   "source": [
    "x, alpha_hist, Q_hist, time_hist = prox_grad(func_x,\n",
    "                grad_x,\n",
    "                prox_func,\n",
    "                Mf,\n",
    "                x0,\n",
    "                prox_params,\n",
    "                eps=terminate_tol,\n",
    "                print_every=1000)"
   ]
  },
  {
   "cell_type": "code",
   "execution_count": 21,
   "metadata": {},
   "outputs": [
    {
     "output_type": "execute_result",
     "data": {
      "text/plain": "1e-10"
     },
     "metadata": {},
     "execution_count": 21
    }
   ],
   "source": [
    "x[-1]"
   ]
  },
  {
   "cell_type": "code",
   "execution_count": 5,
   "metadata": {
    "tags": []
   },
   "outputs": [
    {
     "output_type": "stream",
     "name": "stdout",
     "text": "The value of nu is not valid\n"
    },
    {
     "output_type": "error",
     "ename": "TypeError",
     "evalue": "cannot unpack non-iterable NoneType object",
     "traceback": [
      "\u001b[1;31m---------------------------------------------------------------------------\u001b[0m",
      "\u001b[1;31mTypeError\u001b[0m                                 Traceback (most recent call last)",
      "\u001b[1;32m<ipython-input-5-d87d4f8991e7>\u001b[0m in \u001b[0;36m<module>\u001b[1;34m\u001b[0m\n\u001b[0;32m      9\u001b[0m           \u001b[0msc_params\u001b[0m\u001b[1;33m,\u001b[0m\u001b[1;33m\u001b[0m\u001b[1;33m\u001b[0m\u001b[0m\n\u001b[0;32m     10\u001b[0m           \u001b[0meps\u001b[0m\u001b[1;33m=\u001b[0m\u001b[0mterminate_tol\u001b[0m\u001b[1;33m,\u001b[0m\u001b[1;33m\u001b[0m\u001b[1;33m\u001b[0m\u001b[0m\n\u001b[1;32m---> 11\u001b[1;33m           print_every=1)\n\u001b[0m",
      "\u001b[1;31mTypeError\u001b[0m: cannot unpack non-iterable NoneType object"
     ]
    }
   ],
   "source": [
    "x, alpha_hist, Q_hist, time_hist = scopt(func_x,\n",
    "          grad_x,\n",
    "          hess_mult_x,\n",
    "          hess_mult_vec_x,\n",
    "          Mf,\n",
    "          nu,\n",
    "          prox_func,\n",
    "          x0,  \n",
    "          sc_params,                                              \n",
    "          eps=terminate_tol,                                              \n",
    "          print_every=1)"
   ]
  },
  {
   "cell_type": "code",
   "execution_count": 7,
   "metadata": {
    "tags": []
   },
   "outputs": [
    {
     "output_type": "execute_result",
     "data": {
      "text/plain": "1"
     },
     "metadata": {},
     "execution_count": 7
    }
   ],
   "source": [
    "np.max((-1, 0))"
   ]
  },
  {
   "cell_type": "code",
   "execution_count": 28,
   "metadata": {},
   "outputs": [
    {
     "output_type": "execute_result",
     "data": {
      "text/plain": "array([[ 9, 12],\n       [12, 16]])"
     },
     "metadata": {},
     "execution_count": 28
    }
   ],
   "source": [
    "np.tensordot(a[1], a[1], axes=0)"
   ]
  },
  {
   "cell_type": "code",
   "execution_count": null,
   "metadata": {},
   "outputs": [],
   "source": []
  }
 ],
 "metadata": {
  "language_info": {
   "codemirror_mode": {
    "name": "ipython",
    "version": 3
   },
   "file_extension": ".py",
   "mimetype": "text/x-python",
   "name": "python",
   "nbconvert_exporter": "python",
   "pygments_lexer": "ipython3",
   "version": 3
  },
  "orig_nbformat": 2,
  "kernelspec": {
   "name": "python_defaultSpec_1594794803228",
   "display_name": "Python 3.7.3 64-bit ('base': conda)"
  }
 },
 "nbformat": 4,
 "nbformat_minor": 2
}