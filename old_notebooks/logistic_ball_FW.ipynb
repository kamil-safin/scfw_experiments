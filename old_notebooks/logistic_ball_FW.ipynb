{
 "cells": [
  {
   "cell_type": "code",
   "execution_count": 19,
   "metadata": {},
   "outputs": [],
   "source": [
    "import pickle\n",
    "\n",
    "import numpy as np\n",
    "import matplotlib.pyplot as plt\n",
    "from sklearn.datasets import load_svmlight_file\n",
    "from scipy.sparse import csr_matrix\n",
    "import scipy.io\n",
    "import tqdm"
   ]
  },
  {
   "cell_type": "code",
   "execution_count": 13,
   "metadata": {},
   "outputs": [
    {
     "data": {
      "text/plain": [
       "((59535, 8), (59535,))"
      ]
     },
     "execution_count": 13,
     "metadata": {},
     "output_type": "execute_result"
    }
   ],
   "source": [
    "Phi, y = load_svmlight_file('data/cod-rna')\n",
    "Phi.shape, y.shape"
   ]
  },
  {
   "cell_type": "code",
   "execution_count": 22,
   "metadata": {},
   "outputs": [
    {
     "data": {
      "text/plain": [
       "(59535, 1)"
      ]
     },
     "execution_count": 22,
     "metadata": {},
     "output_type": "execute_result"
    }
   ],
   "source": [
    "# y = y.reshape(-1, 1)\n",
    "# y = csr_matrix(y)\n",
    "# y.shape"
   ]
  },
  {
   "cell_type": "code",
   "execution_count": 14,
   "metadata": {},
   "outputs": [],
   "source": [
    "N, n = Phi.shape"
   ]
  },
  {
   "cell_type": "code",
   "execution_count": 257,
   "metadata": {},
   "outputs": [],
   "source": [
    "# alpha policies\n",
    "def alpha_standard(k):\n",
    "    return 2 / (k + 2)\n",
    "\n",
    "def alpha_icml(k, Gap, hess, s, x):\n",
    "    e = hess.dot((s - x).T).T.dot((s - x).T) ** 0.5\n",
    "    t = Gap / (e * (Gap + e))\n",
    "    beta = alpha_standard(k)\n",
    "    return min(beta, t)"
   ]
  },
  {
   "cell_type": "markdown",
   "metadata": {},
   "source": [
    "# Logistic regression"
   ]
  },
  {
   "cell_type": "code",
   "execution_count": 266,
   "metadata": {},
   "outputs": [],
   "source": [
    "def logistic_loss(Phi, y, x, mu):\n",
    "    \"\"\"\n",
    "        Phi -- N x n\n",
    "        y -- N x 1\n",
    "        x -- 1 x n\n",
    "        mu -- 1 x 1\n",
    "    \"\"\"\n",
    "    dot_product = Phi * x # N x 1\n",
    "    return np.log(1 + np.exp(-y * (dot_product + mu))) # N x 1\n",
    "\n",
    "def mean_empirical_risk(Phi, y, x, mu, gamma):\n",
    "    \"\"\"\n",
    "        1 / N \\sum_{i = 1}^N logreg(y * (<Phi, x> + mu)) + gamma / 2 * x^Tx\n",
    "        Phi -- N x n\n",
    "        y -- N x 1\n",
    "        x -- 1 x n\n",
    "        mu -- 1 x 1\n",
    "        gamma -- const\n",
    "    \"\"\"\n",
    "    ll = logistic_loss(Phi, y, x, mu) # N x 1\n",
    "    return np.mean(ll) + gamma / 2 * x.dot(x.T) # 1 x 1\n",
    "\n",
    "def grad_mean_empirical_risk(Phi, y, x, mu, gamma):\n",
    "    \"\"\"\n",
    "        1 / N \\sum_{i = 1}^N -y * Phi / (exp(y * (<Phi, x> + mu)) + 1) + gamma * x\n",
    "        Phi -- N x n\n",
    "        y -- N x 1\n",
    "        x -- 1 x n\n",
    "        mu -- 1 x 1\n",
    "        gamma -- const\n",
    "    \"\"\"\n",
    "    numer = -Phi.multiply(y.reshape(-1, 1)) # N x n\n",
    "    dot_product = Phi * x # N x 1\n",
    "    denom = (np.exp(y * dot_product + mu) + 1).reshape(-1, 1) # N x 1\n",
    "    return np.mean(numer / denom.reshape(-1, 1), axis=0) + gamma * x # 1 x n\n",
    "\n",
    "def hess_mean_empirical_risk(Phi, y, x, mu, gamma):\n",
    "    \"\"\"\n",
    "        1 / N \\sum_{i = 1}^N phi_i.T.dot(phi_i) * exp(y * (<Phi, x> + mu)) / (1 + exp(...))^2 + gamma\n",
    "        Phi -- N x n\n",
    "        y -- N x 1\n",
    "        x -- 1 x n\n",
    "        mu -- 1 x 1\n",
    "        gamma -- const\n",
    "    \"\"\"\n",
    "    dot_product = Phi * x # N x 1\n",
    "    exp_product = np.exp(y * (dot_product + mu)) # N x 1\n",
    "    denom = np.power((1 + exp_product), 2)\n",
    "#     Phi = Phi.todense()\n",
    "#     dot_product = dot_product.todense()\n",
    "#     for i in range(Phi.shape[0]):\n",
    "#         matrices.append(Phi[0].T.dot(Phi[0]) * exp_product[i, 0] / denom[i, 0]) #  n x n (N times)\n",
    "#     return np.mean(matrices, axis=0) + gamma\n",
    "    super_Phi = np.einsum('ij,ik->ijk', Phi.toarray(), Phi.toarray())\n",
    "    numer = super_Phi * exp_product.reshape(-1, 1, 1)\n",
    "    return np.mean(numer / denom.reshape(-1, 1, 1), axis=0)\n",
    "\n",
    "def frank_wolfe_log_reg(Phi, \n",
    "                        y,\n",
    "                        x_0=np.zeros(n),\n",
    "                        mu=0, \n",
    "                        gamma=0.01, \n",
    "                        alpha_policy='standard',\n",
    "                        eps=0.001, \n",
    "                        R=1,\n",
    "                        print_every=10):\n",
    "    \"\"\"\n",
    "        Phi -- object matrix (N x n)\n",
    "        y -- class label (N x 1)\n",
    "        x_0 -- starting point (1 x n)\n",
    "        mu -- bias (1 x 1) == 0\n",
    "        gamma -- regularization coefficient\n",
    "        alpha_policy -- name of alpha changing policy function\n",
    "        eps -- epsilon\n",
    "        R -- l_1 ball radius\n",
    "        print_every -- print results every print_every steps\n",
    "    \"\"\"\n",
    "    x = x_0\n",
    "    alpha = 1\n",
    "    alpha_hist = []\n",
    "    Gap_hist = []\n",
    "    Q_hist = []\n",
    "    print('********* Algorithm starts *********')\n",
    "    for k in range(1, 501):\n",
    "        Q = mean_empirical_risk(Phi, y, x, mu, gamma)\n",
    "\n",
    "        grad_f = grad_mean_empirical_risk(Phi, y, x, mu, gamma) # 1 x n\n",
    "        \n",
    "        i_max = np.argmax(np.abs(grad_f))\n",
    "        s = np.zeros(n)\n",
    "        s[i_max] = np.sign(-grad_f[0, i_max]) # 1 x n\n",
    "        Gap = grad_f.dot((x - s).T)[0, 0]\n",
    "        \n",
    "        # filling history\n",
    "        alpha_hist.append(alpha)\n",
    "        Gap_hist.append(Gap)\n",
    "        Q_hist.append(Q)\n",
    "        \n",
    "        if Gap > eps:\n",
    "            if alpha_policy == 'standard':\n",
    "                alpha = alpha_standard(k)\n",
    "            elif alpha_policy == 'icml':\n",
    "                hessian = hess_mean_empirical_risk(Phi, y, x, mu, gamma)\n",
    "                alpha = alpha_icml(k, Gap, hessian, s, x)\n",
    "            x = x + alpha * (s - x)\n",
    "        else:\n",
    "            print('Convergence achieved!')\n",
    "            print(f'iter = {k}, stepsize = {alpha}, Gap = {Gap}')\n",
    "            break\n",
    "            \n",
    "        if k % print_every == 0 or k == 1:\n",
    "            print(f'iter = {k}, stepsize = {alpha}, Gap = {Gap}, Q={Q}')\n",
    "    return x, alpha_hist, Gap_hist, Q_hist"
   ]
  },
  {
   "cell_type": "code",
   "execution_count": 179,
   "metadata": {},
   "outputs": [],
   "source": [
    "lam = np.max(np.sqrt(np.sum(W.power(2), axis=1)))**2 / (4 * n)"
   ]
  },
  {
   "cell_type": "code",
   "execution_count": 253,
   "metadata": {},
   "outputs": [
    {
     "data": {
      "text/plain": [
       "0.6931471805599453"
      ]
     },
     "execution_count": 253,
     "metadata": {},
     "output_type": "execute_result"
    }
   ],
   "source": [
    "mean_empirical_risk(Phi, y, np.zeros(n), 0, lam)"
   ]
  },
  {
   "cell_type": "code",
   "execution_count": 267,
   "metadata": {
    "scrolled": true
   },
   "outputs": [
    {
     "name": "stdout",
     "output_type": "stream",
     "text": [
      "********* Algorithm starts *********\n",
      "iter = 1, stepsize = 0.6666666666666666, Gap = 30.26095574032082, Q=0.6931471805599453\n"
     ]
    },
    {
     "name": "stderr",
     "output_type": "stream",
     "text": [
      "/home/twlvth/.pyenv/versions/wiki_env/lib/python3.6/site-packages/ipykernel_launcher.py:9: RuntimeWarning: overflow encountered in exp\n",
      "  if __name__ == '__main__':\n",
      "/home/twlvth/.pyenv/versions/wiki_env/lib/python3.6/site-packages/ipykernel_launcher.py:34: RuntimeWarning: overflow encountered in exp\n"
     ]
    },
    {
     "name": "stdout",
     "output_type": "stream",
     "text": [
      "iter = 10, stepsize = 0.16666666666666666, Gap = 224.39898556606488, Q=21.986112035919156\n",
      "iter = 20, stepsize = 0.09090909090909091, Gap = 212.01375878068694, Q=10.536324501564618\n",
      "iter = 30, stepsize = 0.0625, Gap = 208.02320238982853, Q=6.918566065210213\n",
      "iter = 40, stepsize = 0.047619047619047616, Gap = 205.90148149910908, Q=5.150392260921868\n",
      "iter = 50, stepsize = 0.038461538461538464, Gap = 204.35762542186347, Q=4.103993921807554\n",
      "iter = 60, stepsize = 0.03225806451612903, Gap = 202.92614863759906, Q=3.4136947708473224\n",
      "iter = 70, stepsize = 0.027777777777777776, Gap = 201.38788146995915, Q=2.9253498541189162\n",
      "iter = 80, stepsize = 0.024390243902439025, Gap = 199.63204688965274, Q=2.562706144793729\n",
      "iter = 90, stepsize = 0.021739130434782608, Gap = 197.60833221044575, Q=2.283687746361442\n",
      "iter = 100, stepsize = 0.0196078431372549, Gap = 195.30375575806758, Q=2.063146889903391\n",
      "iter = 110, stepsize = 0.017857142857142856, Gap = 192.72864685111927, Q=1.8851063976418163\n",
      "iter = 120, stepsize = 0.01639344262295082, Gap = 189.9072345591404, Q=1.7389139367047015\n",
      "iter = 130, stepsize = 0.015151515151515152, Gap = 186.87118257943365, Q=1.617185325630967\n",
      "iter = 140, stepsize = 0.014084507042253521, Gap = 183.65520953431454, Q=1.514635411269043\n",
      "iter = 150, stepsize = 0.013157894736842105, Gap = 180.29421881505007, Q=1.4273791708486046\n",
      "iter = 160, stepsize = 0.012345679012345678, Gap = 176.82151048704694, Q=1.352495852530808\n",
      "iter = 170, stepsize = 0.011627906976744186, Gap = 173.26775239531048, Q=1.2877471667449305\n",
      "iter = 180, stepsize = 0.01098901098901099, Gap = 169.66046982920938, Q=1.231389319405873\n",
      "iter = 190, stepsize = 0.010416666666666666, Gap = 166.0238781682594, Q=1.182044195887739\n",
      "iter = 200, stepsize = 0.009900990099009901, Gap = 162.37893327345776, Q=1.1386089617199397\n",
      "iter = 210, stepsize = 0.009433962264150943, Gap = 158.74351231105894, Q=1.100191281956008\n",
      "iter = 220, stepsize = 0.009009009009009009, Gap = 155.1326655602692, Q=1.0660620305228534\n",
      "iter = 230, stepsize = 0.008620689655172414, Gap = 151.5588997821818, Q=1.035620193032855\n",
      "iter = 240, stepsize = 0.008264462809917356, Gap = 148.03246783797755, Q=1.0083664318359586\n",
      "iter = 250, stepsize = 0.007936507936507936, Gap = 144.56164899796, Q=0.9838829097680799\n",
      "iter = 260, stepsize = 0.007633587786259542, Gap = 141.15301099975608, Q=0.9618177056408684\n",
      "iter = 270, stepsize = 0.007352941176470588, Gap = 137.8116493086128, Q=0.9418726455006831\n",
      "iter = 280, stepsize = 0.0070921985815602835, Gap = 134.54140187726958, Q=0.9237937070689832\n",
      "iter = 290, stepsize = 0.00684931506849315, Gap = 131.34503948534035, Q=0.9073633850189425\n",
      "iter = 300, stepsize = 0.006622516556291391, Gap = 128.22443279958028, Q=0.8923945662478504\n",
      "iter = 310, stepsize = 0.00641025641025641, Gap = 125.18069787977836, Q=0.8787255792273787\n",
      "iter = 320, stepsize = 0.006211180124223602, Gap = 122.21432212603332, Q=0.8662161643768056\n",
      "iter = 330, stepsize = 0.006024096385542169, Gap = 119.32527273468101, Q=0.8547441728850013\n",
      "iter = 340, stepsize = 0.005847953216374269, Gap = 116.51308968198455, Q=0.8442028460526274\n",
      "iter = 350, stepsize = 0.005681818181818182, Gap = 113.77696513433003, Q=0.8344985605297771\n",
      "iter = 360, stepsize = 0.0055248618784530384, Gap = 111.115811028402, Q=0.82554894991055\n",
      "iter = 370, stepsize = 0.005376344086021506, Gap = 108.52831639391339, Q=0.8172813322145847\n",
      "iter = 380, stepsize = 0.005235602094240838, Gap = 106.01299581981651, Q=0.8096313874029684\n",
      "iter = 390, stepsize = 0.00510204081632653, Gap = 103.56823029989076, Q=0.8025420403701207\n",
      "iter = 400, stepsize = 0.004975124378109453, Gap = 101.1923015405789, Q=0.795962513644544\n",
      "iter = 410, stepsize = 0.0048543689320388345, Gap = 98.88342067366038, Q=0.7898475209220023\n",
      "iter = 420, stepsize = 0.004739336492890996, Gap = 96.63975219148915, Q=0.7841565779909873\n",
      "iter = 430, stepsize = 0.004629629629629629, Gap = 94.45943381104041, Q=0.7788534119255686\n",
      "iter = 440, stepsize = 0.004524886877828055, Gap = 92.3405928749453, Q=0.7739054528659857\n",
      "iter = 450, stepsize = 0.004424778761061947, Gap = 90.281359812405, Q=0.7692833954730148\n",
      "iter = 460, stepsize = 0.004329004329004329, Gap = 88.2798791082199, Q=0.7649608193738471\n",
      "iter = 470, stepsize = 0.00423728813559322, Gap = 86.33431816374862, Q=0.7609138597267958\n",
      "iter = 480, stepsize = 0.004149377593360996, Gap = 84.44287437786132, Q=0.7571209205063314\n",
      "iter = 490, stepsize = 0.0040650406504065045, Gap = 82.60378072811915, Q=0.7535624243161541\n",
      "iter = 500, stepsize = 0.00398406374501992, Gap = 80.81531009098276, Q=0.7502205935291486\n"
     ]
    }
   ],
   "source": [
    "x, st_alpha_hist, st_Gap_hist, st_Q_hist = frank_wolfe_log_reg(Phi, y, gamma=lam)"
   ]
  },
  {
   "cell_type": "code",
   "execution_count": 258,
   "metadata": {
    "scrolled": true
   },
   "outputs": [
    {
     "name": "stdout",
     "output_type": "stream",
     "text": [
      "********* Algorithm starts *********\n",
      "iter = 1, stepsize = 0.00043295770276118126, Gap = 30.26095574032082, Q=0.6931471805599453\n",
      "iter = 10, stepsize = 0.0026376774688627834, Gap = 6.963286859447625, Q=0.5728959714020916\n",
      "iter = 20, stepsize = 0.002092650184149595, Gap = 4.92677740219306, Q=0.4954534555542991\n",
      "iter = 30, stepsize = 0.001708974135922036, Gap = 3.607208325503444, Q=0.4510622676418635\n",
      "iter = 40, stepsize = 0.0014091926886904077, Gap = 2.7044308340620833, Q=0.424391306172671\n",
      "iter = 50, stepsize = 0.0011638825248153776, Gap = 2.061826596102098, Q=0.4079336018763829\n",
      "iter = 60, stepsize = 0.0009595938984792936, Gap = 1.5910702156192778, Q=0.3976167536262324\n",
      "iter = 70, stepsize = 0.0007887354178984425, Gap = 1.2387873137710956, Q=0.39108732946162583\n",
      "iter = 80, stepsize = 0.0006460766589406945, Gap = 0.9709314946319112, Q=0.3869306207981837\n",
      "iter = 90, stepsize = 0.0005274567942218942, Gap = 0.7648103530514097, Q=0.3842748290915394\n",
      "iter = 100, stepsize = 0.0004293090113698486, Gap = 0.6047444597824758, Q=0.38257422049394074\n",
      "iter = 110, stepsize = 0.0003484947768589915, Gap = 0.4795760974727902, Q=0.38148377196667044\n",
      "iter = 120, stepsize = 0.00028224903397164374, Gap = 0.3811728666551474, Q=0.380783990294233\n",
      "iter = 130, stepsize = 0.00022815762582989883, Gap = 0.3034918038684159, Q=0.3803346955884765\n",
      "iter = 140, stepsize = 0.00018413809325559555, Gap = 0.24197250099959133, Q=0.38004614515768625\n",
      "iter = 150, stepsize = 0.00014841564212388038, Gap = 0.19313063293581373, Q=0.3798608009290581\n",
      "iter = 160, stepsize = 0.00011949401992804853, Gap = 0.15427779099234276, Q=0.37974173969916253\n",
      "iter = 170, stepsize = 9.612349089049942e-05, Gap = 0.12332345962112334, Q=0.37966525470651385\n",
      "iter = 180, stepsize = 7.726831622265672e-05, Gap = 0.09863197953959535, Q=0.3796161203088767\n",
      "iter = 190, stepsize = 6.207560066200271e-05, Gap = 0.07891729816330267, Q=0.37958455626403764\n",
      "iter = 200, stepsize = 4.984668569547568e-05, Gap = 0.06316430782006131, Q=0.3795642796988957\n",
      "iter = 210, stepsize = 4.0011688750706574e-05, Gap = 0.05056928637796925, Q=0.37955125433909254\n",
      "iter = 220, stepsize = 3.210736593421355e-05, Gap = 0.04049431470356649, Q=0.3795428871698102\n",
      "iter = 230, stepsize = 2.5758202957242676e-05, Gap = 0.032432082344766786, Q=0.3795375123826925\n",
      "iter = 240, stepsize = 2.066048198220216e-05, Gap = 0.025978517911434167, Q=0.379534059844397\n",
      "iter = 250, stepsize = 1.6568996920408487e-05, Gap = 0.02081137977103503, Q=0.37953184210258645\n",
      "iter = 260, stepsize = 1.3286067726094807e-05, Gap = 0.016673429615143627, Q=0.37953041754695394\n",
      "iter = 270, stepsize = 1.0652514281684237e-05, Gap = 0.013359157194594977, Q=0.3795295024977531\n",
      "iter = 280, stepsize = 8.540277957711604e-06, Gap = 0.010704274394760443, Q=0.3795289147287804\n",
      "Convergence achieved!\n",
      "iter = 284, stepsize = 1.5128490530244669e-06, Gap = 0.009796571861777377\n"
     ]
    }
   ],
   "source": [
    "x, icml_alpha_hist, icml_Gap_hist, icml_Q_hist = frank_wolfe_log_reg(Phi, y, eps=0.01, alpha_policy='icml', gamma=lam)"
   ]
  },
  {
   "cell_type": "code",
   "execution_count": 259,
   "metadata": {},
   "outputs": [],
   "source": [
    "with open('./concord_points.pckl', 'rb') as f:\n",
    "    concord_points = pickle.load(f)\n",
    "    \n",
    "with open('./AGD_points.pckl', 'rb') as f:\n",
    "    AGD_points = pickle.load(f)"
   ]
  },
  {
   "cell_type": "code",
   "execution_count": 198,
   "metadata": {},
   "outputs": [],
   "source": [
    "W = Phi\n",
    "n = Phi.shape[0]\n",
    "p = Phi.shape[1]\n",
    "\n",
    "bias = 0\n",
    "\n",
    "def fn_logis_Val(y, W, bias, x, lam, topv=None):\n",
    "    \n",
    "    if topv is None:\n",
    "        topv = np.exp(-y * (W * x + bias))\n",
    "    Valv = np.log(1 + topv)\n",
    "#     print(Valv.shape)\n",
    "    Val1 = np.sum(Valv) / n\n",
    "    Val2 = 0.5 * lam * (np.dot(x, x))\n",
    "    Val = Val1 + Val2\n",
    "    return Val"
   ]
  },
  {
   "cell_type": "code",
   "execution_count": 260,
   "metadata": {},
   "outputs": [
    {
     "data": {
      "text/plain": [
       "0.6931471805599453"
      ]
     },
     "execution_count": 260,
     "metadata": {},
     "output_type": "execute_result"
    }
   ],
   "source": [
    "mean_empirical_risk(Phi, y, AGD_points[0], bias, lam)"
   ]
  },
  {
   "cell_type": "code",
   "execution_count": 261,
   "metadata": {},
   "outputs": [
    {
     "name": "stdout",
     "output_type": "stream",
     "text": [
      "(59535,)\n"
     ]
    },
    {
     "data": {
      "text/plain": [
       "5158.314674329543"
      ]
     },
     "execution_count": 261,
     "metadata": {},
     "output_type": "execute_result"
    }
   ],
   "source": [
    "fn_logis_Val(y, W, bias, AGD_points[0], lam)"
   ]
  },
  {
   "cell_type": "code",
   "execution_count": 178,
   "metadata": {},
   "outputs": [
    {
     "data": {
      "text/plain": [
       "498"
      ]
     },
     "execution_count": 178,
     "metadata": {},
     "output_type": "execute_result"
    }
   ],
   "source": [
    "len(icml_Q_hist)"
   ]
  },
  {
   "cell_type": "code",
   "execution_count": 284,
   "metadata": {},
   "outputs": [
    {
     "data": {
      "image/png": "[encoded data removed]",
      "text/plain": [
       "<Figure size 720x360 with 1 Axes>"
      ]
     },
     "metadata": {
      "needs_background": "light"
     },
     "output_type": "display_data"
    }
   ],
   "source": [
    "plt.figure(figsize=(10, 5))\n",
    "plt.plot([mean_empirical_risk(Phi, y, point, 0, lam) for point in concord_points], label='concord')\n",
    "plt.plot([mean_empirical_risk(Phi, y, point, 0, lam) for point in AGD_points], label='AGD')\n",
    "plt.plot(st_Q_hist, label='FW standard')\n",
    "plt.plot(icml_Q_hist, label='FW ICML')\n",
    "plt.legend()\n",
    "plt.tight_layout()\n",
    "plt.show()"
   ]
  },
  {
   "cell_type": "code",
   "execution_count": 285,
   "metadata": {},
   "outputs": [
    {
     "data": {
      "image/png": "[encoded data removed]",
      "text/plain": [
       "<Figure size 720x360 with 1 Axes>"
      ]
     },
     "metadata": {
      "needs_background": "light"
     },
     "output_type": "display_data"
    }
   ],
   "source": [
    "plt.figure(figsize=(10, 5))\n",
    "plt.plot([mean_empirical_risk(Phi, y, point, 0, lam) for point in concord_points], label='concord')\n",
    "plt.plot([mean_empirical_risk(Phi, y, point, 0, lam) for point in AGD_points], label='AGD')\n",
    "# plt.plot(st_Q_hist, label='FW standard')\n",
    "plt.plot(icml_Q_hist, label='FW ICML')\n",
    "plt.legend()\n",
    "plt.tight_layout()\n",
    "plt.show()"
   ]
  }
 ],
 "metadata": {
  "kernelspec": {
   "display_name": "Python 3.6.6 (wiki_env)",
   "language": "python",
   "name": "wiki_env"
  },
  "language_info": {
   "codemirror_mode": {
    "name": "ipython",
    "version": 3
   },
   "file_extension": ".py",
   "mimetype": "text/x-python",
   "name": "python",
   "nbconvert_exporter": "python",
   "pygments_lexer": "ipython3",
   "version": "3.6.6"
  }
 },
 "nbformat": 4,
 "nbformat_minor": 2
}
