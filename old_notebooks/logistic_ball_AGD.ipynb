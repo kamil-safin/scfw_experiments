{
 "cells": [
  {
   "cell_type": "code",
   "execution_count": 10,
   "metadata": {},
   "outputs": [],
   "source": [
    "import scipy\n",
    "import scipy.io\n",
    "import pickle\n",
    "import numpy as np\n",
    "from scipy.linalg import norm\n",
    "import matplotlib.pyplot as plt\n",
    "from sklearn.datasets import load_svmlight_file"
   ]
  },
  {
   "cell_type": "code",
   "execution_count": 21,
   "metadata": {},
   "outputs": [],
   "source": [
    "W, y = load_svmlight_file('./data/cod-rna')"
   ]
  },
  {
   "cell_type": "code",
   "execution_count": 22,
   "metadata": {},
   "outputs": [],
   "source": [
    "# параметры алгоритма\n",
    "n = W.shape[0]\n",
    "p = W.shape[1]\n",
    "lam  = np.max(np.sqrt(np.sum(W.power(2), axis=1)))**2 / (4 * n)\n",
    "x0 = np.zeros(p) # надо еще одну размерность?\n",
    "bias = 0\n",
    "terminate_tol = 1e-6\n",
    "steps_tol = 0.25\n",
    "n_steps = 1000\n",
    "alpha = 2 # alpha = 3\n",
    "R = 1\n",
    "printst = 100"
   ]
  },
  {
   "cell_type": "code",
   "execution_count": 23,
   "metadata": {},
   "outputs": [],
   "source": [
    "def projection_simplex_sort(v, z=1):\n",
    "    n_features = v.shape[0]\n",
    "    u = np.sort(v)[::-1]\n",
    "    cssv = np.cumsum(u) - z\n",
    "    ind = np.arange(n_features) + 1\n",
    "    cond = u - cssv / ind > 0\n",
    "    rho = ind[cond][-1]\n",
    "    theta = cssv[cond][-1] / float(rho)\n",
    "    w = np.maximum(v - theta, 0)\n",
    "    return w\n",
    "\n",
    "def l1_ball_projection(y, z=R):\n",
    "    if norm(y, 1) <= R:\n",
    "        return y\n",
    "    pos_proj = projection_simplex_sort(np.abs(y), z)\n",
    "    return np.sign(y) * pos_proj"
   ]
  },
  {
   "cell_type": "code",
   "execution_count": 24,
   "metadata": {},
   "outputs": [],
   "source": [
    "def fn_logis_Grad(y, W, bias, x, lam):\n",
    "    Top = np.exp(-y * ( W * x  + bias)) # why minus?\n",
    "    Rat = Top / (1 + Top)\n",
    "    LM = -Rat * y\n",
    "    ResM = scipy.sparse.diags(LM) * W\n",
    "    Grad = ResM.sum(axis=0).A1 + lam * n * x\n",
    "    return Grad, Top"
   ]
  },
  {
   "cell_type": "code",
   "execution_count": 25,
   "metadata": {},
   "outputs": [],
   "source": [
    "def powereig2(svec, M):  \n",
    "    # A = M' * M\n",
    "    d = svec\n",
    "    for i in range(1, 21):\n",
    "        dv = M.transpose() * ( M * d)\n",
    "        d = dv / norm(d)\n",
    "    maxeig = dv.dot(d) / (d.dot(d))\n",
    "    return maxeig"
   ]
  },
  {
   "cell_type": "code",
   "execution_count": 28,
   "metadata": {
    "scrolled": true
   },
   "outputs": [
    {
     "name": "stdout",
     "output_type": "stream",
     "text": [
      "********* Algorithm starts *********\n",
      "iter =  100, rdiff = 3.385e-02\n",
      "\n",
      "iter =  200, rdiff = 5.456e-03\n",
      "\n",
      "iter =  300, rdiff = 5.275e-04\n",
      "\n",
      "iter =  400, rdiff = 4.583e-05\n",
      "\n",
      "iter =  500, rdiff = 4.040e-05\n",
      "\n",
      "iter =  600, rdiff = 1.360e-05\n",
      "\n",
      "Convergence achieved!\n"
     ]
    }
   ],
   "source": [
    "x_cur = x0\n",
    "y_cur = x_cur\n",
    "mu = lam * n\n",
    "\n",
    "if p < n:\n",
    "    M = W.copy()\n",
    "    svec = np.ones(p)\n",
    "else:\n",
    "    M  = W.transpose()\n",
    "    svec = np.ones(n)\n",
    "\n",
    "maxeig = powereig2(svec, M)\n",
    "L  = 0.25 * maxeig + mu\n",
    "\n",
    "points = []\n",
    "points.append(x_cur)\n",
    "\n",
    "print('********* Algorithm starts *********')\n",
    "\n",
    "for i in range(1, n_steps + 1):\n",
    "    \n",
    "    # Evaluate the gradient.\n",
    "    grad_fx, _ = fn_logis_Grad(y, W, bias, y_cur, lam)\n",
    "    if i == 1:\n",
    "        norm_grad0 = max(1, norm(grad_fx.flatten(), 2))\n",
    "    \n",
    "    # Check the stopping criterion.\n",
    "    rdiff = norm(grad_fx.flatten(), 2) / norm_grad0\n",
    "    if (rdiff <= terminate_tol) and i > 1:\n",
    "        print('Convergence achieved!')\n",
    "        break\n",
    "    \n",
    "    \n",
    "    x_nxt = l1_ball_projection(y_cur - (1 / L) * grad_fx)\n",
    "    s = (np.sqrt(L) - np.sqrt(mu)) / (np.sqrt(L) + np.sqrt(mu))\n",
    "    #s = (i-1) / (i +2)\n",
    "    y_cur = x_nxt + s * (x_nxt - x_cur)\n",
    "    x_cur = x_nxt\n",
    "    \n",
    "    points.append(x_cur)\n",
    "    # Print the iteration.\n",
    "    if i % printst  == 0:\n",
    "        print('iter = %4d, rdiff = %3.3e\\n' % (i, rdiff))\n",
    "        \n",
    "if i >= n_steps:\n",
    "    print('Exceed the maximum number of iterations')"
   ]
  },
  {
   "cell_type": "code",
   "execution_count": 29,
   "metadata": {},
   "outputs": [],
   "source": [
    "with open('./AGD_points.pckl', 'wb') as f:\n",
    "    pickle.dump(points, f)"
   ]
  },
  {
   "cell_type": "code",
   "execution_count": null,
   "metadata": {},
   "outputs": [],
   "source": []
  }
 ],
 "metadata": {
  "kernelspec": {
   "display_name": "Python 3",
   "language": "python",
   "name": "python3"
  },
  "language_info": {
   "codemirror_mode": {
    "name": "ipython",
    "version": 3
   },
   "file_extension": ".py",
   "mimetype": "text/x-python",
   "name": "python",
   "nbconvert_exporter": "python",
   "pygments_lexer": "ipython3",
   "version": "3.7.3"
  }
 },
 "nbformat": 4,
 "nbformat_minor": 2
}
