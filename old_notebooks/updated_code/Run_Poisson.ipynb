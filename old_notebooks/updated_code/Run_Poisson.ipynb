{
 "cells": [
  {
   "cell_type": "code",
   "execution_count": 1,
   "metadata": {},
   "outputs": [
    {
     "name": "stdout",
     "output_type": "stream",
     "text": [
      "importing Jupyter notebook from Poisson.ipynb\n",
      "importing Jupyter notebook from FW.ipynb\n",
      "importing Jupyter notebook from SCOPT.ipynb\n"
     ]
    }
   ],
   "source": [
    "import scipy\n",
    "import scipy.io\n",
    "import numpy as np\n",
    "from scipy.linalg import norm\n",
    "from scipy.sparse import csr_matrix\n",
    "from scipy.linalg import norm\n",
    "import pickle\n",
    "import time\n",
    "from collections import defaultdict\n",
    "import json\n",
    "from sklearn.datasets import load_svmlight_file\n",
    "import matplotlib.pyplot as plt\n",
    "import pandas as pd\n",
    "import numpy.matlib\n",
    "import import_ipynb\n",
    "import Poisson as ps\n",
    "import FW\n",
    "import SCOPT as sc\n",
    "#import SCOPT\n"
   ]
  },
  {
   "cell_type": "code",
   "execution_count": 2,
   "metadata": {},
   "outputs": [],
   "source": [
    "results = defaultdict(dict)\n",
    "with open('./results/results_poisson_dict.pckl', 'rb') as f:\n",
    "        results=pickle.load(f)"
   ]
  },
  {
   "cell_type": "markdown",
   "metadata": {},
   "source": [
    "## Data load"
   ]
  },
  {
   "cell_type": "code",
   "execution_count": 3,
   "metadata": {},
   "outputs": [],
   "source": [
    "example='a9a'\n",
    "W, y = load_svmlight_file('./data/'+ example)\n",
    "y = y.reshape(-1, 1)\n",
    "W = W.toarray()"
   ]
  },
  {
   "cell_type": "code",
   "execution_count": 4,
   "metadata": {},
   "outputs": [
    {
     "data": {
      "text/plain": [
       "((32561, 123), (32561, 1))"
      ]
     },
     "execution_count": 4,
     "metadata": {},
     "output_type": "execute_result"
    }
   ],
   "source": [
    "W.shape, y.shape"
   ]
  },
  {
   "cell_type": "code",
   "execution_count": 5,
   "metadata": {},
   "outputs": [],
   "source": [
    "#y = y.squeeze()"
   ]
  },
  {
   "cell_type": "markdown",
   "metadata": {},
   "source": [
    "### Some preprocessing"
   ]
  },
  {
   "cell_type": "code",
   "execution_count": 5,
   "metadata": {},
   "outputs": [],
   "source": [
    "# multiplicative multiplication of the structure of the recognizable structure\n",
    "W = numpy.matlib.repmat(y, 1, W.shape[1]) * W\n",
    "# summation of feature descriptions\n",
    "sA = np.sum(W, 1)\n",
    "# if the sum of the string is negative, invert it\n",
    "W[sA < 0, :] = -W[sA < 0, :]\n",
    "# zero row deletion\n",
    "W = W[sA != 0, :]\n",
    "# W = scipy.sparse.csr_matrix(W)"
   ]
  },
  {
   "cell_type": "code",
   "execution_count": 6,
   "metadata": {},
   "outputs": [],
   "source": [
    "Bias = 1\n",
    "b = (Bias * y).squeeze()\n",
    "b = np.abs(b)\n",
    "if (b.any == 0):\n",
    "    print(' Input parameter y error')"
   ]
  },
  {
   "cell_type": "code",
   "execution_count": 7,
   "metadata": {},
   "outputs": [],
   "source": [
    "y = b\n",
    "y.shape\n",
    "N, n = W.shape"
   ]
  },
  {
   "cell_type": "code",
   "execution_count": 8,
   "metadata": {},
   "outputs": [],
   "source": [
    "N, n = W.shape\n",
    "lam =  np.sqrt(N)/2\n",
    "#first set of parameters\n",
    "Mf = max(2/np.sqrt(y))\n",
    "nu = 3\n",
    "I = np.eye(n)\n",
    "Iv = np.ones(n)\n",
    "\n",
    "#running parameters\n",
    "x0 = np.ones(n) / n\n",
    "terminate_tol = 1e-10\n",
    "M = ps.poisson(W,y,lam,x0)[0]/lam\n",
    "\n",
    "#parameters for FW\n",
    "FW_params={\n",
    "    'iter_FW':50000,\n",
    "    'line_search_tol':1e-10,\n",
    "}\n",
    "\n",
    "\n",
    "sc_params={\n",
    "    #parameters for SCOPT\n",
    "    'iter_SC': 1000,\n",
    "    'Lest': 'estimate', #estimate L\n",
    "    'use_two_phase':True,\n",
    "    #FISTA parameters\n",
    "    'fista_type': 'mfista',\n",
    "    'fista_tol': 1e-5,\n",
    "    'fista_iter': 1000,\n",
    "    #Conjugate Gradient Parameters\n",
    "    'conj_grad_tol':1e-2,\n",
    "    'conj_grad_iter':100,\n",
    "}"
   ]
  },
  {
   "cell_type": "markdown",
   "metadata": {},
   "source": [
    "## Auxilary functions"
   ]
  },
  {
   "cell_type": "code",
   "execution_count": 9,
   "metadata": {},
   "outputs": [],
   "source": [
    "func_x = lambda x: ps.poisson(W,y,lam,x)\n",
    "grad_x = lambda x,dot_product: ps.grad_poisson(W, y, lam, x,dot_product)\n",
    "grad_beta = lambda x,s,beta,dot_product,dot_product_s: ps.grad_poisson(W, y, lam, (1-beta)*x+beta*x,(1-beta)*dot_product+beta*dot_product_s)\n",
    "hess_mult_x = lambda x,dot_product: ps.hess_mult(W, y, x, dot_product)\n",
    "hess_mult_vec_x= lambda s,dot_product: ps.hess_mult_vec(W, y, s, dot_product)\n",
    "extra_func = lambda x: W@x\n",
    "linear_orcale = lambda grad: ps.linear_oracle_full_simplex(grad, M)\n",
    "prox_func=lambda x,L: np.maximum(x,np.zeros(len(x))) #used for SCOPT"
   ]
  },
  {
   "cell_type": "markdown",
   "metadata": {},
   "source": [
    "# Run FW"
   ]
  },
  {
   "cell_type": "code",
   "execution_count": 11,
   "metadata": {
    "scrolled": true
   },
   "outputs": [
    {
     "name": "stdout",
     "output_type": "stream",
     "text": [
      "********* Algorithm starts *********\n",
      "iter = 1, stepsize = 0.6666666666666666, criterion = 1.0, upper_bound=74847.9848381503, lower_bound=-202794943.749325\n",
      "iter = 1000, stepsize = 0.001996007984031936, criterion = 0.001996007984031923, upper_bound=32775.29632473193, lower_bound=32356.503210620653\n",
      "iter = 2000, stepsize = 0.000999000999000999, criterion = 0.0009990009990009797, upper_bound=32764.018607172788, lower_bound=32442.53517101841\n",
      "iter = 3000, stepsize = 0.0006662225183211193, criterion = 0.0006662225183211301, upper_bound=32756.20965760683, lower_bound=32496.265388996184\n",
      "iter = 4000, stepsize = 0.0004997501249375312, criterion = 0.0004997501249375804, upper_bound=32754.54422035398, lower_bound=32508.773738109372\n",
      "iter = 5000, stepsize = 0.00039984006397441024, criterion = 0.00039984006397438785, upper_bound=32753.40010390113, lower_bound=32522.158832388315\n",
      "iter = 6000, stepsize = 0.0003332222592469177, criterion = 0.00033322225924696514, upper_bound=32751.982933696643, lower_bound=32538.546373224264\n",
      "iter = 7000, stepsize = 0.00028563267637817766, criterion = 0.00028563267637814893, upper_bound=32751.51697189499, lower_bound=32544.329664245703\n",
      "iter = 8000, stepsize = 0.00024993751562109475, criterion = 0.00024993751562112836, upper_bound=32751.175310385333, lower_bound=32544.329664245703\n",
      "iter = 9000, stepsize = 0.00022217285047767163, criterion = 0.00022217285047768478, upper_bound=32750.659378122222, lower_bound=32548.326909582516\n",
      "iter = 10000, stepsize = 0.0001999600079984003, criterion = 0.00019996000799846786, upper_bound=32750.442209702, lower_bound=32550.956303822768\n",
      "iter = 11000, stepsize = 0.00018178512997636792, criterion = 0.00018178512997639166, upper_bound=32750.282921242768, lower_bound=32550.956303822768\n",
      "iter = 12000, stepsize = 0.00016663889351774705, criterion = 0.00016663889351772914, upper_bound=32748.994181636794, lower_bound=32554.27494568458\n",
      "iter = 13000, stepsize = 0.00015382248884786957, criterion = 0.0001538224888478314, upper_bound=32739.962275238246, lower_bound=32556.513420956097\n",
      "iter = 14000, stepsize = 0.00014283673760891302, criterion = 0.00014283673760893492, upper_bound=32738.860664494034, lower_bound=32645.671346974206\n",
      "iter = 15000, stepsize = 0.0001333155579256099, criterion = 0.00013331555792564566, upper_bound=32738.860664494034, lower_bound=32645.671346974206\n",
      "iter = 16000, stepsize = 0.00012498437695288088, criterion = 0.00012498437695291823, upper_bound=32738.860664494034, lower_bound=32645.671346974206\n",
      "iter = 17000, stepsize = 0.00011763321962122103, criterion = 0.00011763321962125861, upper_bound=32738.860664494034, lower_bound=32645.671346974206\n",
      "iter = 18000, stepsize = 0.00011109876680368848, criterion = 0.00011109876680363414, upper_bound=32738.860664494034, lower_bound=32645.671346974206\n",
      "iter = 19000, stepsize = 0.00010525207872855489, criterion = 0.00010473496606522986, upper_bound=32738.860664494034, lower_bound=32645.671346974206\n",
      "iter = 20000, stepsize = 9.999000099990002e-05, criterion = 9.999000099994714e-05, upper_bound=32738.860664494034, lower_bound=32645.671346974206\n",
      "iter = 21000, stepsize = 9.522902580706599e-05, criterion = 9.522902580713396e-05, upper_bound=32738.860664494034, lower_bound=32645.671346974206\n",
      "iter = 22000, stepsize = 9.09008271975275e-05, criterion = 9.090082719749462e-05, upper_bound=32738.860664494034, lower_bound=32645.671346974206\n",
      "iter = 23000, stepsize = 8.694896095991653e-05, criterion = 8.694896095993647e-05, upper_bound=32738.860664494034, lower_bound=32645.671346974206\n",
      "iter = 24000, stepsize = 8.332638946754438e-05, criterion = 8.332638946753397e-05, upper_bound=32738.860664494034, lower_bound=32645.671346974206\n",
      "iter = 25000, stepsize = 7.999360051195904e-05, criterion = 7.999360051192463e-05, upper_bound=32738.860664494034, lower_bound=32645.671346974206\n",
      "iter = 26000, stepsize = 7.691716021844474e-05, criterion = 7.691716021848191e-05, upper_bound=32738.860664494034, lower_bound=32645.671346974206\n",
      "iter = 27000, stepsize = 7.406858751203614e-05, criterion = 7.406858751201282e-05, upper_bound=32738.860664494034, lower_bound=32645.671346974206\n",
      "iter = 28000, stepsize = 7.142346975216056e-05, criterion = 7.142346975213565e-05, upper_bound=32738.860664494034, lower_bound=32645.671346974206\n",
      "iter = 29000, stepsize = 6.896076132680504e-05, criterion = 6.896076132683719e-05, upper_bound=32738.860664494034, lower_bound=32645.671346974206\n",
      "iter = 30000, stepsize = 6.666222251849876e-05, criterion = 6.666222251849539e-05, upper_bound=32738.860664494034, lower_bound=32645.671346974206\n",
      "iter = 31000, stepsize = 6.451196696987291e-05, criterion = 6.451196696987935e-05, upper_bound=32738.860664494034, lower_bound=32645.671346974206\n",
      "iter = 32000, stepsize = 6.249609399412537e-05, criterion = 6.24960939941452e-05, upper_bound=32738.860664494034, lower_bound=32645.671346974206\n",
      "iter = 33000, stepsize = 6.0602387734076725e-05, criterion = 6.060238773406697e-05, upper_bound=32738.860664494034, lower_bound=32645.671346974206\n",
      "iter = 34000, stepsize = 5.88200694076819e-05, criterion = 5.8820069407676745e-05, upper_bound=32738.860664494034, lower_bound=32657.489175491686\n",
      "iter = 35000, stepsize = 5.713959202331295e-05, criterion = 5.7139592023337054e-05, upper_bound=32737.396165811308, lower_bound=32661.696322545737\n",
      "iter = 36000, stepsize = 5.555246930726071e-05, criterion = 5.555246930729231e-05, upper_bound=32737.286953974148, lower_bound=32662.560327835134\n",
      "iter = 37000, stepsize = 5.4051132371223176e-05, criterion = 5.281630522992713e-05, upper_bound=32737.21063055922, lower_bound=32662.996219822144\n",
      "iter = 38000, stepsize = 5.2628809010052104e-05, criterion = 4.9455590752644055e-05, upper_bound=32737.161610898882, lower_bound=32663.05599284822\n",
      "iter = 39000, stepsize = 5.127942156812471e-05, criterion = 4.6785359634935805e-05, upper_bound=32737.127881773613, lower_bound=32663.05599284822\n",
      "iter = 40000, stepsize = 4.999750012499375e-05, criterion = 4.492184381763429e-05, upper_bound=32737.127881773613, lower_bound=32663.05599284822\n",
      "iter = 41000, stepsize = 4.877810838495683e-05, criterion = 4.332395859513094e-05, upper_bound=32737.127881773613, lower_bound=32663.479674938993\n",
      "iter = 42000, stepsize = 4.7616780153326035e-05, criterion = 4.1615098400020724e-05, upper_bound=32737.127881773613, lower_bound=32663.479674938993\n",
      "iter = 43000, stepsize = 4.650946467606158e-05, criterion = 4.0141929794187804e-05, upper_bound=32737.127881773613, lower_bound=32663.479674938993\n",
      "iter = 44000, stepsize = 4.545247943275306e-05, criterion = 3.91393823464395e-05, upper_bound=32737.127881773613, lower_bound=32663.479674938993\n",
      "iter = 45000, stepsize = 4.444246922359006e-05, criterion = 3.846011726621393e-05, upper_bound=32737.127881773613, lower_bound=32663.479674938993\n",
      "iter = 46000, stepsize = 4.347637059258293e-05, criterion = 3.787958435151484e-05, upper_bound=32737.127881773613, lower_bound=32663.479674938993\n",
      "iter = 47000, stepsize = 4.255138079230671e-05, criterion = 3.7384921315620894e-05, upper_bound=32737.127881773613, lower_bound=32663.479674938993\n",
      "iter = 48000, stepsize = 4.1664930627890504e-05, criterion = 3.663984341645578e-05, upper_bound=32737.127881773613, lower_bound=32663.479674938993\n",
      "iter = 49000, stepsize = 4.0814660626096896e-05, criterion = 3.62541967820345e-05, upper_bound=32737.127881773613, lower_bound=32663.479674938993\n",
      "iter = 50000, stepsize = 3.999840006399744e-05, criterion = 3.596180330684911e-05, upper_bound=32737.127881773613, lower_bound=32663.479674938993\n",
      "321.69044494628906\n",
      "********* Algorithm starts *********\n",
      "iter = 1, stepsize = 0.001066127500962466, criterion = 0.8844354328179085, upper_bound=74847.9848381503, lower_bound=-202794943.749325\n",
      "iter = 1000, stepsize = 0.0013254887307994068, criterion = 3.376111139922375e-06, upper_bound=32776.36277268035, lower_bound=32733.22218450033\n",
      "iter = 2000, stepsize = 0.0010046404204331338, criterion = 2.3264058622760596e-06, upper_bound=32766.612345982227, lower_bound=32733.908292272947\n",
      "iter = 3000, stepsize = 7.235212251543999e-08, criterion = 2.203354610255312e-06, upper_bound=32760.618473001847, lower_bound=32734.339324257384\n",
      "iter = 4000, stepsize = 7.828930392861366e-08, criterion = 1.5883444971886498e-06, upper_bound=32756.61573206063, lower_bound=32734.595679401005\n",
      "iter = 5000, stepsize = 0.0005827881977893412, criterion = 1.330328041742508e-06, upper_bound=32753.732311824355, lower_bound=32734.794993418833\n",
      "iter = 6000, stepsize = 5.74218574911356e-07, criterion = 1.2420803464581464e-06, upper_bound=32751.552324746324, lower_bound=32734.935813283362\n",
      "iter = 7000, stepsize = 5.112378858029842e-07, criterion = 9.935682861437661e-07, upper_bound=32749.846621710396, lower_bound=32735.08219242176\n",
      "iter = 8000, stepsize = 4.342873580753803e-07, criterion = 9.09735194620334e-07, upper_bound=32748.48066799255, lower_bound=32735.149453753544\n",
      "iter = 9000, stepsize = 3.9354199543595314e-07, criterion = 8.273369336237496e-07, upper_bound=32747.361764034267, lower_bound=32735.23368886438\n",
      "iter = 10000, stepsize = 3.850436769425869e-07, criterion = 8.242397360767439e-07, upper_bound=32746.42483566766, lower_bound=32735.29337746884\n",
      "iter = 11000, stepsize = 0.000316966965328902, criterion = 6.659727996956314e-07, upper_bound=32745.630758559266, lower_bound=32735.34606313403\n",
      "iter = 12000, stepsize = 3.307941369712353e-07, criterion = 6.637639423486405e-07, upper_bound=32744.95142366991, lower_bound=32735.382004730036\n",
      "iter = 13000, stepsize = 2.9063085094094276e-07, criterion = 5.844853918418822e-07, upper_bound=32744.357077484114, lower_bound=32735.432417805816\n",
      "iter = 14000, stepsize = 2.896995283663273e-07, criterion = 5.834306171870651e-07, upper_bound=32743.838447465794, lower_bound=32735.46154945303\n",
      "iter = 15000, stepsize = 2.7281930670142174e-07, criterion = 5.048625709100697e-07, upper_bound=32743.381306750845, lower_bound=32735.495131710162\n",
      "iter = 16000, stepsize = 2.4336623027920723e-07, criterion = 5.041910707151949e-07, upper_bound=32742.973743473005, lower_bound=32735.515474332882\n",
      "iter = 17000, stepsize = 2.442975528538227e-07, criterion = 4.260741358172664e-07, upper_bound=32742.608603371027, lower_bound=32735.546569405582\n",
      "iter = 18000, stepsize = 2.321903593838215e-07, criterion = 4.255182576275184e-07, upper_bound=32742.28042915868, lower_bound=32735.568794661544\n",
      "iter = 19000, stepsize = 2.0890729501843452e-07, criterion = 4.251458609328329e-07, upper_bound=32741.981523875067, lower_bound=32735.584344222647\n",
      "iter = 20000, stepsize = 2.1123560145497322e-07, criterion = 4.246922189624165e-07, upper_bound=32741.710678150936, lower_bound=32735.604811009965\n",
      "iter = 21000, stepsize = 2.0203879103064537e-07, criterion = 4.242730215836299e-07, upper_bound=32741.46278482005, lower_bound=32735.620964677204\n",
      "iter = 22000, stepsize = 1.4842953532934189e-08, criterion = 3.4694559355378667e-07, upper_bound=32741.235978369077, lower_bound=32735.636945088274\n",
      "iter = 23000, stepsize = 1.8597347661852837e-07, criterion = 3.4694559355378667e-07, upper_bound=32741.0271006768, lower_bound=32735.657591295923\n",
      "iter = 24000, stepsize = 1.6746344044804573e-07, criterion = 3.4644420445243537e-07, upper_bound=32740.834290542116, lower_bound=32735.661935019885\n",
      "iter = 25000, stepsize = 1.3795215636491776e-08, criterion = 3.461779714711656e-07, upper_bound=32740.65599853371, lower_bound=32735.6750172921\n",
      "iter = 26000, stepsize = 1.5547266229987144e-07, criterion = 3.460385969728894e-07, upper_bound=32740.489676012447, lower_bound=32735.686706122015\n",
      "iter = 27000, stepsize = 1.2980308383703232e-08, criterion = 2.6896220066013887e-07, upper_bound=32740.33540596108, lower_bound=32735.69782825723\n",
      "iter = 28000, stepsize = 0.00013816793216392398, criterion = 2.688581918159728e-07, upper_bound=32740.191337323824, lower_bound=32735.705989931364\n",
      "iter = 29000, stepsize = 0.00013361143646761775, criterion = 2.6868476419292506e-07, upper_bound=32740.05651544563, lower_bound=32735.716496218723\n",
      "iter = 30000, stepsize = 1.362641341984272e-07, criterion = 2.68551252154551e-07, upper_bound=32739.92956144458, lower_bound=32735.723964226883\n",
      "iter = 31000, stepsize = 1.3184035196900368e-07, criterion = 2.684339241922393e-07, upper_bound=32739.810753000507, lower_bound=32735.73122289901\n",
      "iter = 32000, stepsize = 0.00012172729475423694, criterion = 2.683458765078642e-07, upper_bound=32739.69842604677, lower_bound=32735.738221195825\n",
      "iter = 33000, stepsize = 1.1583324521780014e-08, criterion = 2.6823586771071196e-07, upper_bound=32739.59251965786, lower_bound=32735.746399692845\n",
      "iter = 34000, stepsize = 0.00011518079554662108, criterion = 2.6813675437386064e-07, upper_bound=32739.492869279402, lower_bound=32735.75064883389\n",
      "iter = 35000, stepsize = 9.720679372549057e-09, criterion = 2.680570676807422e-07, upper_bound=32739.398214339588, lower_bound=32735.758046439638\n",
      "iter = 36000, stepsize = 1.15192960947752e-07, criterion = 2.6796280852294183e-07, upper_bound=32739.308874272512, lower_bound=32735.762328986926\n",
      "iter = 37000, stepsize = 1.195003278553486e-07, criterion = 1.9135516188416535e-07, upper_bound=32739.22390358328, lower_bound=32735.77136065932\n",
      "iter = 38000, stepsize = 1.0960502550005913e-07, criterion = 1.9131451970417805e-07, upper_bound=32739.143202844123, lower_bound=32735.77709661849\n",
      "iter = 39000, stepsize = 0.00010143761755898595, criterion = 1.912572453544135e-07, upper_bound=32739.066552506538, lower_bound=32735.780673571255\n",
      "iter = 40000, stepsize = 8.731149137020111e-10, criterion = 1.912572453544135e-07, upper_bound=32738.992942254317, lower_bound=32735.7837443663\n",
      "iter = 41000, stepsize = 8.440110832452774e-09, criterion = 1.9115520343099447e-07, upper_bound=32738.9233400316, lower_bound=32735.79024400769\n",
      "iter = 42000, stepsize = 8.440110832452774e-09, criterion = 1.9110531955645833e-07, upper_bound=32738.85660588736, lower_bound=32735.795433570456\n",
      "iter = 43000, stepsize = 7.974449545145035e-09, criterion = 1.9105799928465647e-07, upper_bound=32738.793091935866, lower_bound=32735.79879381074\n",
      "iter = 44000, stepsize = 9.493669494986534e-08, criterion = 1.9101927361461252e-07, upper_bound=32738.732076751912, lower_bound=32735.801479541842\n",
      "iter = 45000, stepsize = 6.402842700481415e-10, criterion = 1.9097866608013632e-07, upper_bound=32738.67388824737, lower_bound=32735.805506491535\n",
      "iter = 46000, stepsize = 8.32369551062584e-09, criterion = 1.9094206927192463e-07, upper_bound=32738.61789236056, lower_bound=32735.81013773557\n",
      "iter = 47000, stepsize = 9.516952559351921e-08, criterion = 1.9090757824768324e-07, upper_bound=32738.56427178619, lower_bound=32735.813310003447\n",
      "iter = 48000, stepsize = 8.305843221023679e-05, criterion = 1.9087416605109688e-07, upper_bound=32738.512808681327, lower_bound=32735.816685364982\n",
      "iter = 49000, stepsize = 8.597271516919136e-08, criterion = 1.9084006253992362e-07, upper_bound=32738.463252195244, lower_bound=32735.81946062625\n",
      "iter = 50000, stepsize = 6.9267116487026215e-09, criterion = 1.9080888476254258e-07, upper_bound=32738.415597111205, lower_bound=32735.824115113093\n",
      "3244.6381158828735\n",
      "********* Algorithm starts *********\n",
      "iter = 1, stepsize = 7.64901360500047e-07, criterion = 0.000634544991313083, upper_bound=74847.9848381503, lower_bound=-202794943.749325\n",
      "iter = 1000, stepsize = 1.4513977173250748e-07, criterion = 2.5688973576021165e-05, upper_bound=32821.63679734097, lower_bound=32703.64629777083\n",
      "iter = 2000, stepsize = 0.0016221953760129568, criterion = 6.8661494861004974e-06, upper_bound=32793.6621179769, lower_bound=32718.981249008353\n",
      "iter = 3000, stepsize = 3.1327016600875384e-07, criterion = 4.945399883495992e-06, upper_bound=32778.55281168405, lower_bound=32725.732698979024\n",
      "iter = 4000, stepsize = 9.250772107787474e-07, criterion = 4.097423950818965e-06, upper_bound=32769.356994171234, lower_bound=32729.35734611587\n",
      "iter = 5000, stepsize = 1.30072840280065e-07, criterion = 2.2067167221132427e-06, upper_bound=32763.42802721113, lower_bound=32731.463774060157\n",
      "iter = 6000, stepsize = 2.823179078016287e-09, criterion = 1.937110428034349e-06, upper_bound=32759.578073140125, lower_bound=32732.768652700885\n",
      "iter = 7000, stepsize = 4.134335826033744e-09, criterion = 1.350159535031555e-06, upper_bound=32756.609700893536, lower_bound=32733.53023018746\n",
      "iter = 8000, stepsize = 0.0005607717801932545, criterion = 1.1833943785451785e-06, upper_bound=32754.33385615961, lower_bound=32734.10118594622\n",
      "iter = 9000, stepsize = 7.435856298097494e-08, criterion = 1.083391088324951e-06, upper_bound=32752.464438309282, lower_bound=32734.54457056813\n",
      "iter = 10000, stepsize = 0.00045328867445842134, criterion = 1.083391088324951e-06, upper_bound=32750.87046996081, lower_bound=32734.8846304209\n",
      "iter = 11000, stepsize = 4.1512154666923906e-07, criterion = 1.083391088324951e-06, upper_bound=32749.55788307977, lower_bound=32735.13905849537\n",
      "iter = 12000, stepsize = 3.8272317841474663e-07, criterion = 1.0693560717596489e-06, upper_bound=32748.472080382227, lower_bound=32735.319880117808\n",
      "iter = 13000, stepsize = 0.00034792804925606543, criterion = 1.0693560717596489e-06, upper_bound=32747.558562732, lower_bound=32735.49073918801\n",
      "iter = 14000, stepsize = 0.00032694752882884726, criterion = 6.401909730881209e-07, upper_bound=32746.758191955185, lower_bound=32735.516002371318\n",
      "iter = 15000, stepsize = 2.7600306116893856e-08, criterion = 6.401909730881209e-07, upper_bound=32746.055646522193, lower_bound=32735.54128157878\n",
      "iter = 16000, stepsize = 3.1624230915851246e-07, criterion = 6.401909730881209e-07, upper_bound=32745.435630329634, lower_bound=32735.57006315163\n",
      "iter = 17000, stepsize = 2.9937667556827687e-07, criterion = 6.401909730881209e-07, upper_bound=32744.882367293336, lower_bound=32735.590868749372\n",
      "iter = 18000, stepsize = 2.6515705779460875e-07, criterion = 6.401909730881209e-07, upper_bound=32744.392317362326, lower_bound=32735.605892702064\n",
      "iter = 19000, stepsize = 2.6888962567096524e-08, criterion = 6.401909730881209e-07, upper_bound=32743.947355792334, lower_bound=32735.623865230682\n",
      "iter = 20000, stepsize = 2.514863895036557e-08, criterion = 5.642492255548914e-07, upper_bound=32743.54624198676, lower_bound=32735.64147861511\n",
      "iter = 21000, stepsize = 0.0002225914938008986, criterion = 5.642492255548914e-07, upper_bound=32743.181209069306, lower_bound=32735.657082206395\n",
      "iter = 22000, stepsize = 2.216941047205622e-07, criterion = 5.139348831141394e-07, upper_bound=32742.84926482495, lower_bound=32735.669645095313\n",
      "iter = 23000, stepsize = 2.1040714653456722e-07, criterion = 5.060710043032491e-07, upper_bound=32742.544700627786, lower_bound=32735.683616808772\n",
      "iter = 24000, stepsize = 2.0269684373875415e-07, criterion = 5.060710043032491e-07, upper_bound=32742.264336441243, lower_bound=32735.693812054837\n",
      "iter = 25000, stepsize = 1.8706782030886944e-08, criterion = 4.5854406466762846e-07, upper_bound=32742.003221424817, lower_bound=32735.71479396393\n",
      "iter = 26000, stepsize = 1.9017280247470314e-07, criterion = 4.379350801833474e-07, upper_bound=32741.761542030457, lower_bound=32735.717962604558\n",
      "iter = 27000, stepsize = 1.9322966128869652e-07, criterion = 4.329117280539036e-07, upper_bound=32741.535769206712, lower_bound=32735.727211289774\n",
      "iter = 28000, stepsize = 1.736978618138623e-07, criterion = 4.064546754031742e-07, upper_bound=32741.325926995774, lower_bound=32735.736654928885\n",
      "iter = 29000, stepsize = 1.798146377756259e-07, criterion = 4.064546754031742e-07, upper_bound=32741.12859190672, lower_bound=32735.74570719318\n",
      "iter = 30000, stepsize = 0.00015514936783665633, criterion = 3.8338280731781904e-07, upper_bound=32740.94520645007, lower_bound=32735.754483036017\n",
      "iter = 31000, stepsize = 1.4675905236923015e-08, criterion = 3.622071430255606e-07, upper_bound=32740.7724496845, lower_bound=32735.763987668146\n",
      "iter = 32000, stepsize = 0.00014507194244325336, criterion = 3.39801277992916e-07, upper_bound=32740.611112283583, lower_bound=32735.767881140247\n",
      "iter = 33000, stepsize = 1.2714855268153613e-08, criterion = 3.2986957907641437e-07, upper_bound=32740.458932712274, lower_bound=32735.77587825014\n",
      "iter = 34000, stepsize = 1.2628689963187262e-08, criterion = 3.218881602275318e-07, upper_bound=32740.316286395162, lower_bound=32735.779195946594\n",
      "iter = 35000, stepsize = 1.3002630117698309e-08, criterion = 3.0146010631978306e-07, upper_bound=32740.18179194907, lower_bound=32735.78592161801\n",
      "iter = 36000, stepsize = 1.3552121260791855e-07, criterion = 3.0146010631978306e-07, upper_bound=32740.054753747456, lower_bound=32735.791972771418\n",
      "iter = 37000, stepsize = 1.3984747345029133e-07, criterion = 2.8752055366925494e-07, upper_bound=32739.934321221164, lower_bound=32735.79830166022\n",
      "iter = 38000, stepsize = 1.3596471817561865e-07, criterion = 2.740450485212675e-07, upper_bound=32739.820512742852, lower_bound=32735.803955480107\n",
      "iter = 39000, stepsize = 0.00011765563202396502, criterion = 2.740450485212675e-07, upper_bound=32739.712787980872, lower_bound=32735.80601173174\n",
      "iter = 40000, stepsize = 1.287994851626221e-07, criterion = 2.5916793041610776e-07, upper_bound=32739.60998876323, lower_bound=32735.810226787722\n",
      "iter = 41000, stepsize = 1.3849543460835132e-08, criterion = 2.4929610274050054e-07, upper_bound=32739.513062980615, lower_bound=32735.811796276408\n",
      "iter = 42000, stepsize = 1.2230674012304058e-07, criterion = 2.475489007505283e-07, upper_bound=32739.42069040375, lower_bound=32735.815394027257\n",
      "iter = 43000, stepsize = 1.1205854701713523e-07, criterion = 2.408733679742316e-07, upper_bound=32739.333006323453, lower_bound=32735.82154011019\n",
      "iter = 44000, stepsize = 0.00010375315154424212, criterion = 2.329853832333852e-07, upper_bound=32739.24975998226, lower_bound=32735.82154011019\n",
      "iter = 45000, stepsize = 1.0620436678389e-07, criterion = 2.2841555742707637e-07, upper_bound=32739.17017603066, lower_bound=32735.824653871015\n",
      "iter = 46000, stepsize = 1.0369703428803446e-07, criterion = 2.212828374434973e-07, upper_bound=32739.094624463327, lower_bound=32735.8281115371\n",
      "iter = 47000, stepsize = 8.661183533946716e-09, criterion = 2.1899424967028368e-07, upper_bound=32739.02222745595, lower_bound=32735.830752627062\n",
      "iter = 48000, stepsize = 9.461640748794221e-05, criterion = 2.1596456312155705e-07, upper_bound=32738.953347320912, lower_bound=32735.83453022813\n",
      "iter = 49000, stepsize = 9.255242999900035e-05, criterion = 2.0909628249470766e-07, upper_bound=32738.88721470882, lower_bound=32735.835015224773\n",
      "iter = 50000, stepsize = 1.016938269097492e-07, criterion = 2.0065489140251828e-07, upper_bound=32738.823787089295, lower_bound=32735.838922109673\n",
      "442.52043747901917\n"
     ]
    }
   ],
   "source": [
    "run_alpha_policies = [\"standard\",\"line_search\",\"icml\"]\n",
    "\n",
    "for policy in run_alpha_policies:\n",
    "    x, alpha_hist, Gap_hist, Q_hist, time_hist, grad_hist = FW.frank_wolfe(func_x,\n",
    "                       grad_x,\n",
    "                       grad_beta,\n",
    "                       hess_mult_x,\n",
    "                       extra_func,                                                    \n",
    "                       Mf,\n",
    "                       nu,\n",
    "                       linear_orcale,                                                    \n",
    "                       x0,\n",
    "                       FW_params,        \n",
    "                       alpha_policy=policy,                                                    \n",
    "                       eps=terminate_tol, \n",
    "                       print_every=1000, \n",
    "                       debug_info=False)\n",
    "    \n",
    "    results[example][policy] = {\n",
    "        'x': x,\n",
    "        'alpha_hist': alpha_hist,\n",
    "        'Gap_hist': Gap_hist,\n",
    "        'Q_hist': Q_hist,\n",
    "        'time_hist': time_hist,\n",
    "        'grad_hist': grad_hist\n",
    "    }\n",
    "    "
   ]
  },
  {
   "cell_type": "markdown",
   "metadata": {},
   "source": [
    "## Run SCOPT"
   ]
  },
  {
   "cell_type": "code",
   "execution_count": null,
   "metadata": {},
   "outputs": [
    {
     "name": "stdout",
     "output_type": "stream",
     "text": [
      "iter =    1, stepsize = 4.406e-03, rdiff = 1.655e-01 , f = 74848\n",
      "\n"
     ]
    },
    {
     "name": "stderr",
     "output_type": "stream",
     "text": [
      "Poisson.ipynb:10: RuntimeWarning: divide by zero encountered in log\n",
      "  \"import scipy.io\\n\",\n"
     ]
    },
    {
     "name": "stdout",
     "output_type": "stream",
     "text": [
      "iter =   10, stepsize = 1.624e-03, rdiff = 8.464e-01 , f = 73607.6\n",
      "\n",
      "iter =   20, stepsize = 2.004e-03, rdiff = 6.701e-01 , f = 72354.6\n",
      "\n",
      "iter =   30, stepsize = 2.462e-03, rdiff = 5.125e-01 , f = 71087.7\n",
      "\n",
      "iter =   40, stepsize = 2.313e-03, rdiff = 5.862e-01 , f = 69792.7\n",
      "\n",
      "iter =   50, stepsize = 2.952e-03, rdiff = 4.329e-01 , f = 68519.6\n",
      "\n",
      "iter =   60, stepsize = 2.843e-03, rdiff = 4.788e-01 , f = 67212.3\n",
      "\n",
      "iter =   70, stepsize = 2.735e-03, rdiff = 5.274e-01 , f = 65923\n",
      "\n",
      "iter =   80, stepsize = 2.628e-03, rdiff = 5.769e-01 , f = 64646.5\n",
      "\n",
      "iter =   90, stepsize = 2.543e-03, rdiff = 6.270e-01 , f = 63379\n",
      "\n",
      "iter =  100, stepsize = 2.484e-03, rdiff = 6.769e-01 , f = 62123.7\n",
      "\n",
      "iter =  110, stepsize = 2.440e-03, rdiff = 7.262e-01 , f = 60882.5\n",
      "\n",
      "iter =  120, stepsize = 2.410e-03, rdiff = 7.731e-01 , f = 59654.8\n",
      "\n",
      "iter =  130, stepsize = 2.397e-03, rdiff = 8.171e-01 , f = 58440.7\n",
      "\n",
      "iter =  140, stepsize = 2.396e-03, rdiff = 8.578e-01 , f = 57240.8\n",
      "\n",
      "iter =  150, stepsize = 3.473e-03, rdiff = 5.762e-01 , f = 56051.6\n",
      "\n",
      "iter =  160, stepsize = 3.493e-03, rdiff = 5.956e-01 , f = 54857.9\n",
      "\n",
      "iter =  170, stepsize = 3.526e-03, rdiff = 6.131e-01 , f = 53682.8\n",
      "\n",
      "iter =  180, stepsize = 3.565e-03, rdiff = 6.292e-01 , f = 52529.3\n",
      "\n",
      "iter =  190, stepsize = 5.551e-03, rdiff = 2.833e-01 , f = 51344.9\n",
      "\n",
      "iter =  200, stepsize = 5.667e-03, rdiff = 2.859e-01 , f = 50149.9\n",
      "\n",
      "iter =  210, stepsize = 5.823e-03, rdiff = 2.870e-01 , f = 48982.8\n",
      "\n",
      "iter =  220, stepsize = 6.009e-03, rdiff = 2.863e-01 , f = 47845.4\n",
      "\n",
      "iter =  230, stepsize = 6.232e-03, rdiff = 2.834e-01 , f = 46739\n",
      "\n",
      "iter =  240, stepsize = 6.487e-03, rdiff = 2.782e-01 , f = 45665.1\n",
      "\n",
      "iter =  250, stepsize = 6.812e-03, rdiff = 2.699e-01 , f = 44624.8\n",
      "\n"
     ]
    }
   ],
   "source": [
    " x, alpha_hist, Q_hist, time_hist, grad_hist = sc.scopt(func_x,\n",
    "          grad_x,\n",
    "          hess_mult_x,\n",
    "          hess_mult_vec_x,\n",
    "          Mf,\n",
    "          nu,\n",
    "          prox_func,\n",
    "          x0,  \n",
    "          sc_params,                                              \n",
    "          eps=terminate_tol,                                              \n",
    "          print_every=10)\n",
    "    \n",
    "results[example]['scopt'] = {\n",
    "    'x': x,\n",
    "    'alpha_hist': alpha_hist,\n",
    "    'Gap_hist': Gap_hist,\n",
    "    'Q_hist': Q_hist,\n",
    "    'time_hist': time_hist,\n",
    "    'grad_hist': grad_hist\n",
    "}"
   ]
  },
  {
   "cell_type": "markdown",
   "metadata": {},
   "source": [
    "## Save results"
   ]
  },
  {
   "cell_type": "code",
   "execution_count": 13,
   "metadata": {},
   "outputs": [],
   "source": [
    "with open('./results/results_poisson_dict.pckl', 'wb') as f:\n",
    "    pickle.dump(results, f)"
   ]
  },
  {
   "cell_type": "markdown",
   "metadata": {},
   "source": [
    "## Summarize"
   ]
  },
  {
   "cell_type": "code",
   "execution_count": null,
   "metadata": {},
   "outputs": [],
   "source": [
    "print(example)\n",
    "\n",
    "methods= [\"standard\",\"line_search\",\"icml\",\"scopt\"]\n",
    "for example in ['a9a','a5a']:\n",
    "    print(example)\n",
    "    for method in methods:\n",
    "    \n",
    "        x=results[example][method]['x']\n",
    "        time_hist=results[example][method]['time_hist']\n",
    "        Q_hist=results[example][method]['Q_hist']\n",
    "    \n",
    "        print(method)\n",
    "        print(\"sum_x=%g,iter=%d,total_time=%3.3e,time_per_iter=%g,minimal_val=%g\\n\"%(sum(abs(x)),len(time_hist)-1,sum(time_hist),sum(time_hist)/(len(time_hist)-1),\n",
    "            min(Q_hist)))\n"
   ]
  },
  {
   "cell_type": "code",
   "execution_count": 15,
   "metadata": {
    "scrolled": true
   },
   "outputs": [
    {
     "data": {
      "image/png": "[encoded data removed]",
      "text/plain": [
       "<Figure size 432x288 with 1 Axes>"
      ]
     },
     "metadata": {
      "needs_background": "light"
     },
     "output_type": "display_data"
    },
    {
     "data": {
      "image/png": "[encoded data removed]",
      "text/plain": [
       "<Figure size 432x288 with 1 Axes>"
      ]
     },
     "metadata": {
      "needs_background": "light"
     },
     "output_type": "display_data"
    },
    {
     "data": {
      "image/png": "[encoded data removed]",
      "text/plain": [
       "<Figure size 432x288 with 1 Axes>"
      ]
     },
     "metadata": {
      "needs_background": "light"
     },
     "output_type": "display_data"
    },
    {
     "data": {
      "image/png": "[encoded data removed]",
      "text/plain": [
       "<Figure size 432x288 with 1 Axes>"
      ]
     },
     "metadata": {
      "needs_background": "light"
     },
     "output_type": "display_data"
    }
   ],
   "source": [
    "with open('./results/results_poisson_dict.pckl', 'rb') as f:\n",
    "        results=pickle.load(f)\n",
    "k=0\n",
    "colors={'icml':'r','standard':'b','line_search':'g','scopt':'k'}\n",
    "for example in ['a9a','a5a']:\n",
    "    min_Q=1e10\n",
    "    for method in methods:\n",
    "        min_Q=min(min(results[example][method]['Q_hist']),min_Q)\n",
    "    min_Q=min_Q-1e-10\n",
    "        \n",
    "    plt.figure(k)\n",
    "    for method in methods:\n",
    "        plt.loglog(results[example][method]['Q_hist']/min_Q-1,colors[method])\n",
    "    plt.ylim((1e-5,1e+9))\n",
    "    plt.xlabel('Iteration')\n",
    "    plt.ylabel('Distance from optimal')\n",
    "    plt.title(example)\n",
    "    \n",
    "    k+=1\n",
    "    plt.figure(k)\n",
    "    for method in methods:\n",
    "        plt.loglog(np.cumsum(results[example][method]['time_hist']),results[example][method]['Q_hist']/min_Q-1,colors[method])\n",
    "    plt.xlim((0.4e-2,1e+4))\n",
    "    plt.ylim((1e-5,1e+9))\n",
    "    plt.xlabel('Time')\n",
    "    plt.ylabel('Distance from optimal')\n",
    "    plt.title(example)\n",
    "    k+=1"
   ]
  }
 ],
 "metadata": {
  "kernelspec": {
   "display_name": "Python 3",
   "language": "python",
   "name": "python3"
  },
  "language_info": {
   "codemirror_mode": {
    "name": "ipython",
    "version": 3
   },
   "file_extension": ".py",
   "mimetype": "text/x-python",
   "name": "python",
   "nbconvert_exporter": "python",
   "pygments_lexer": "ipython3",
   "version": "3.7.3"
  }
 },
 "nbformat": 4,
 "nbformat_minor": 4
}
