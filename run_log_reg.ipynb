{
 "cells": [
  {
   "cell_type": "code",
   "execution_count": 9,
   "metadata": {},
   "outputs": [
    {
     "name": "stdout",
     "output_type": "stream",
     "text": [
      "The autoreload extension is already loaded. To reload it, use:\n",
      "  %reload_ext autoreload\n"
     ]
    }
   ],
   "source": [
    "%load_ext autoreload\n",
    "%autoreload 2"
   ]
  },
  {
   "cell_type": "code",
   "execution_count": 10,
   "metadata": {},
   "outputs": [],
   "source": [
    "import os\n",
    "import pickle\n",
    "\n",
    "import numpy as np\n",
    "from sklearn.datasets import load_svmlight_file\n",
    "from scipy.linalg import norm\n",
    "\n",
    "from scfw import log_reg as lr\n",
    "from scfw.frank_wolfe import frank_wolfe"
   ]
  },
  {
   "cell_type": "code",
   "execution_count": 11,
   "metadata": {},
   "outputs": [
    {
     "data": {
      "text/plain": [
       "((1605, 119), (1605,))"
      ]
     },
     "execution_count": 11,
     "metadata": {},
     "output_type": "execute_result"
    }
   ],
   "source": [
    "problem_name = 'a1a'\n",
    "results = {problem_name: {}}\n",
    "Phi, y = load_svmlight_file('data/a1a')\n",
    "N, n = Phi.shape\n",
    "x = np.ones(n) / n\n",
    "Phi.shape, y.shape"
   ]
  },
  {
   "cell_type": "code",
   "execution_count": 14,
   "metadata": {},
   "outputs": [],
   "source": [
    "f, Phix = lr.log_reg(Phi, y, x, 1, 0)"
   ]
  },
  {
   "cell_type": "markdown",
   "metadata": {},
   "source": [
    "# Check grad"
   ]
  },
  {
   "cell_type": "markdown",
   "metadata": {},
   "source": [
    "$$\\nabla f(x) = \\frac{1}{N} \\sum_{i=1}^N \\frac{-y_i \\phi_i}{\\exp(y_i(\\langle \\Phi_i; x \\rangle + \\mu) + 1} + \\gamma x$$"
   ]
  },
  {
   "cell_type": "code",
   "execution_count": 15,
   "metadata": {},
   "outputs": [],
   "source": [
    "def grad_naive(Phi, y, x, mu, gamma):\n",
    "    numer = -Phi.multiply(y.reshape(-1, 1))\n",
    "    denom = np.exp(y * (Phi @ x + mu)) + 1\n",
    "    return np.array(np.mean(numer / denom.reshape(-1, 1), axis=0) + gamma * x).flatten()"
   ]
  },
  {
   "cell_type": "code",
   "execution_count": 29,
   "metadata": {},
   "outputs": [
    {
     "name": "stdout",
     "output_type": "stream",
     "text": [
      "(119,)\n"
     ]
    }
   ],
   "source": [
    "grad_n = grad_naive(Phi, y, x, 1, 0)\n",
    "print(grad_n.shape)"
   ]
  },
  {
   "cell_type": "code",
   "execution_count": 30,
   "metadata": {},
   "outputs": [
    {
     "name": "stdout",
     "output_type": "stream",
     "text": [
      "(1605, 119)\n",
      "(1605, 1)\n",
      "(119, 1)\n",
      "(119,)\n"
     ]
    }
   ],
   "source": [
    "grad = lr.grad_log_reg(Phi, y, x, 1, 0, Phix)\n",
    "print(grad.shape)"
   ]
  },
  {
   "cell_type": "markdown",
   "metadata": {},
   "source": [
    "# Check hess mult vec"
   ]
  },
  {
   "cell_type": "markdown",
   "metadata": {},
   "source": [
    "$$\\nabla^2 f(x) = \\frac{1}{N} \\sum_{i=1}^N \\phi_i \\phi_i^T \\frac{exp(...)}{(1 + exp(...))^2} + \\gamma$$"
   ]
  },
  {
   "cell_type": "markdown",
   "metadata": {},
   "source": [
    "$$\\nabla^2 f(x) x = \\frac{1}{N} \\sum_{i=1}^N \\phi_i \\phi_i^T x \\frac{exp(...)}{(1 + exp(...))^2} + \\gamma x$$"
   ]
  },
  {
   "cell_type": "code",
   "execution_count": 34,
   "metadata": {},
   "outputs": [],
   "source": [
    "def hess_mult_naive(Phi, y, x, mu, gamma):\n",
    "    Phix = Phi @ x\n",
    "    Phi_m_x = Phi.multiply(x.reshape(1, -1)).sum(axis=1) # N x 1\n",
    "    exp_product = np.exp(y * (Phix + mu)) # N x 1\n",
    "    frac = exp_product / (1 + exp_product) ** 2\n",
    "    fst_term = Phi.multiply(frac.reshape(-1, 1)) # N x n\n",
    "    print(fst_term.shape)\n",
    "    print(Phi_m_x.shape)\n",
    "    print(x.reshape(-1, 1).shape)\n",
    "    return np.array(np.mean(fst_term.multiply(Phi_m_x), axis=0) + gamma * x).flatten()"
   ]
  },
  {
   "cell_type": "code",
   "execution_count": 35,
   "metadata": {},
   "outputs": [
    {
     "name": "stdout",
     "output_type": "stream",
     "text": [
      "(1605, 119)\n",
      "(1605, 1)\n",
      "(119, 1)\n",
      "(119,)\n"
     ]
    }
   ],
   "source": [
    "hess_mult_n = hess_mult_naive(Phi, y, x, 1, 0)\n",
    "print(hess_mult_n.shape)"
   ]
  },
  {
   "cell_type": "code",
   "execution_count": 36,
   "metadata": {},
   "outputs": [
    {
     "name": "stdout",
     "output_type": "stream",
     "text": [
      "(119,)\n"
     ]
    }
   ],
   "source": [
    "hess_mult = lr.hess_mult_vec(Phi, y, x, 1, 0, Phix)\n",
    "print(hess_mult.shape)"
   ]
  },
  {
   "cell_type": "markdown",
   "metadata": {},
   "source": [
    "# Check hess mult vec vec"
   ]
  },
  {
   "cell_type": "markdown",
   "metadata": {},
   "source": [
    "$$x^T \\nabla^2 f(x) x = \\frac{1}{N} \\sum_{i=1}^N \\exp(...) \\left( \\frac{\\phi_i^T x}{1 + \\exp(...)} \\right)^2 + \\gamma \\|x\\|_2^2$$"
   ]
  },
  {
   "cell_type": "code",
   "execution_count": 38,
   "metadata": {},
   "outputs": [],
   "source": [
    "def hess_mult_log_reg_naive(Phi, y, x, mu, gamma):\n",
    "    Phix = Phi @ x\n",
    "    exp_product = np.exp(y * (Phix + mu))\n",
    "    Z = (Phix / (1 + exp_product))**2\n",
    "    return 1 / N * np.sum(exp_product * Z) + gamma * x.dot(x)"
   ]
  },
  {
   "cell_type": "code",
   "execution_count": 40,
   "metadata": {},
   "outputs": [
    {
     "data": {
      "text/plain": [
       "False"
      ]
     },
     "execution_count": 40,
     "metadata": {},
     "output_type": "execute_result"
    }
   ],
   "source": [
    "hess_mult_lr_n = hess_mult_log_reg_naive(Phi, y, x, 1, 0)\n",
    "hess_mult_lr = lr.hess_mult_log_reg(Phi, y, x, 1, , Phix)\n",
    "hess_mult_lr_n == hess_mult_lr"
   ]
  },
  {
   "cell_type": "markdown",
   "metadata": {},
   "source": [
    "## Data preprocessing and parameters initialization"
   ]
  },
  {
   "cell_type": "code",
   "execution_count": null,
   "metadata": {},
   "outputs": [],
   "source": [
    "if max(y) == 2:\n",
    "    y = 2 * y - 3"
   ]
  },
  {
   "cell_type": "markdown",
   "metadata": {},
   "source": [
    "Normalize"
   ]
  },
  {
   "cell_type": "code",
   "execution_count": 61,
   "metadata": {},
   "outputs": [],
   "source": [
    "N, n = Phi.shape\n",
    "\n",
    "for i, row in enumerate(Phi):\n",
    "    if np.sum(row.multiply(row)) != 0:\n",
    "        Phi[i] = row.multiply(1 / np.sqrt(np.sum(row.multiply(row))))"
   ]
  },
  {
   "cell_type": "code",
   "execution_count": 40,
   "metadata": {},
   "outputs": [],
   "source": [
    "gamma = 1 / 4\n",
    "Mf = 1 / np.sqrt(gamma) * np.max(np.sqrt((Phi.multiply(Phi)).sum(axis=1)))\n",
    "mu = 0\n",
    "nu = 2\n",
    "M = 1\n",
    "\n",
    "#running parameters\n",
    "x0 = np.zeros(n)\n",
    "terminate_tol = 1e-20\n",
    "\n",
    "#parameters for FW\n",
    "FW_params={\n",
    "    'iter_FW':50000,\n",
    "    'line_search_tol':1e-10,\n",
    "    'rho':np.sqrt(n), #parameters for ll00\n",
    "    'diam_X':np.sqrt(2),\n",
    "    'sigma_f':1,                   \n",
    "}\n",
    "\n",
    "\n",
    "sc_params={\n",
    "    #parameters for SCOPT\n",
    "    'iter_SC': 1000,\n",
    "    'Lest': 'backtracking',#,'estimate', #estimate L\n",
    "    'use_two_phase':False,\n",
    "    #FISTA parameters\n",
    "    'fista_type': 'mfista',\n",
    "    'fista_tol': 1e-5,\n",
    "    'fista_iter': 1000,\n",
    "    #Conjugate Gradient Parameters\n",
    "    'conj_grad_tol':1e-5,\n",
    "    'conj_grad_iter':1000,\n",
    "}"
   ]
  },
  {
   "cell_type": "markdown",
   "metadata": {},
   "source": [
    "## Auxilary functions"
   ]
  },
  {
   "cell_type": "code",
   "execution_count": 46,
   "metadata": {},
   "outputs": [],
   "source": [
    "func_x = lambda x: lr.log_reg(Phi, y, x, mu, gamma)\n",
    "grad_x = lambda x, dot_product: lr.grad_log_reg(Phi, y, x, mu, gamma, dot_product)\n",
    "grad_beta = lambda x, s, beta, dot_product, dot_product_s: lr.grad_log_reg(Phi, y, (1 - beta) * x + beta * s, mu, gamma, (1 - beta) * dot_product + beta * dot_product_s)\n",
    "# hess_x = lambda x, dot_product: lr.hess_portfolio(R, x, dot_product)\n",
    "hess_mult_x = lambda x, dot_product: lr.hess_mult_log_reg(Phi, y, x, mu, gamma, dot_product)\n",
    "hess_mult_vec_x = lambda s, dot_product: lr.hess_mult_vec(Phi, y, s, mu, gamma, dot_product)\n",
    "extra_func = lambda x: Phi @ x\n",
    "linear_oracle = lambda grad: lr.linear_oracle_full_simplex(grad, M)\n",
    "# llo_oracle = lambda x, r, grad, rho: pr.llo_oracle(x, r, grad,rho)\n",
    "# prox_func = lambda x, L: lr.proj_simplex(x)"
   ]
  },
  {
   "cell_type": "markdown",
   "metadata": {},
   "source": [
    "## Run FW"
   ]
  },
  {
   "cell_type": "code",
   "execution_count": 96,
   "metadata": {
    "scrolled": true
   },
   "outputs": [],
   "source": [
    "files = ['a4a','w4a','a1a','a2a','a3a','a5a','a6a','a7a','a8a','a9a','w1a','w2a','w3a','w5a','w6a','w7a','w8a']\n",
    "out_dir = 'out'\n",
    "if not os.path.exists(out_dir):\n",
    "    os.mkdir(out_dir)\n",
    "def run_fw(file_name, out_dir):\n",
    "    results = {problem_name: {}}\n",
    "    Phi, y = load_svmlight_file(os.path.join('data', file_name))\n",
    "\n",
    "    # fix classes\n",
    "    if max(y) == 2:\n",
    "        y = 2 * y - 3\n",
    "\n",
    "    N, n = Phi.shape\n",
    "\n",
    "    # normalize\n",
    "    for i, row in enumerate(Phi):\n",
    "        if np.sum(row.multiply(row)) != 0:\n",
    "            Phi[i] = row.multiply(1 / np.sqrt(np.sum(row.multiply(row))))\n",
    "\n",
    "    rho = 1 / 4\n",
    "    # regularization param\n",
    "    gamma = 0\n",
    "    # self-concordant coef\n",
    "    Mf = 1 / np.sqrt(rho) * np.max(np.sqrt((Phi.multiply(Phi)).sum(axis=1)))\n",
    "    # bias\n",
    "    mu = 0\n",
    "    # from tran-dihn\n",
    "    nu = 2\n",
    "\n",
    "    #running parameters\n",
    "    x0 = np.ones(n) / n\n",
    "    # radius\n",
    "    M = lr.log_reg(Phi, y, x0, mu, gamma)[0] / rho\n",
    "\n",
    "    # terminate_tolerance\n",
    "    terminate_tol = 1e-20\n",
    "\n",
    "    #parameters for FW\n",
    "    FW_params={\n",
    "        'iter_FW':50000,\n",
    "        'line_search_tol':1e-10,\n",
    "        'rho':np.sqrt(n), #parameters for ll00\n",
    "        'diam_X':np.sqrt(2),\n",
    "        'sigma_f':1,\n",
    "    }\n",
    "\n",
    "    func_x = lambda x: lr.log_reg(Phi, y, x, mu, gamma)\n",
    "    grad_x = lambda x, dot_product: lr.grad_log_reg(Phi, y, x, mu, gamma, dot_product)\n",
    "    grad_beta = lambda x, s, beta, dot_product, dot_product_s: lr.grad_log_reg(Phi, y, (1 - beta) * x + beta * s, mu, gamma, (1 - beta) * dot_product + beta * dot_product_s)\n",
    "    # hess_x = lambda x, dot_product: lr.hess_portfolio(R, x, dot_product)\n",
    "    hess_mult_x = lambda x, dot_product: lr.hess_mult_log_reg(Phi, y, x, mu, gamma, dot_product)\n",
    "    hess_mult_vec_x = lambda s, dot_product: lr.hess_mult_vec(Phi, y, s, mu, gamma, dot_product)\n",
    "    extra_func = lambda x: Phi @ x\n",
    "    linear_oracle = lambda grad: lr.linear_oracle_full_simplex(grad, M)\n",
    "\n",
    "    run_alpha_policies = [\"standard\", \"line_search\", \"icml\"]\n",
    "#     run_alpha_policies = ['standard']\n",
    "    # run_alpha_policies = ['new_lloo','lloo']\n",
    "\n",
    "    for policy in run_alpha_policies:\n",
    "        x, alpha_hist, Gap_hist, Q_hist, time_hist, grad_hist = frank_wolfe(func_x,\n",
    "                           grad_x,\n",
    "                           grad_beta,\n",
    "                           hess_mult_x,\n",
    "                           extra_func,\n",
    "                           Mf,\n",
    "                           nu,\n",
    "                           linear_oracle,                                                    \n",
    "                           x0,\n",
    "                           FW_params,\n",
    "                           hess=None, \n",
    "                           lloo_oracle=None,                                                 \n",
    "                           alpha_policy=policy,                                                    \n",
    "                           eps=terminate_tol, \n",
    "                           print_every=1000, \n",
    "                           debug_info=False)\n",
    "\n",
    "        results[problem_name][policy] = {\n",
    "            'x': x,\n",
    "            'alpha_hist': alpha_hist,\n",
    "            'Gap_hist': Gap_hist,\n",
    "            'Q_hist': Q_hist,\n",
    "            'time_hist': time_hist,\n",
    "            'grad_hist': grad_hist\n",
    "        }\n",
    "        \n",
    "#     with open(os.path.join(out_dir, file_name), 'wb') as f:\n",
    "#         pickle.dump(results, f)\n",
    "    return results"
   ]
  }
 ],
 "metadata": {
  "kernelspec": {
   "display_name": "Python 3.7.3 (pyenv)",
   "language": "python",
   "name": "venv3.7"
  },
  "language_info": {
   "codemirror_mode": {
    "name": "ipython",
    "version": 3
   },
   "file_extension": ".py",
   "mimetype": "text/x-python",
   "name": "python",
   "nbconvert_exporter": "python",
   "pygments_lexer": "ipython3",
   "version": "3.7.3"
  }
 },
 "nbformat": 4,
 "nbformat_minor": 4
}
