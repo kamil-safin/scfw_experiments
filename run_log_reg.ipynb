{
 "cells": [
  {
   "cell_type": "code",
   "execution_count": 1,
   "metadata": {},
   "outputs": [],
   "source": [
    "%load_ext autoreload\n",
    "%autoreload 2"
   ]
  },
  {
   "cell_type": "code",
   "execution_count": 13,
   "metadata": {},
   "outputs": [],
   "source": [
    "import os\n",
    "import pickle\n",
    "import scipy.io\n",
    "import numpy as np\n",
    "import time\n",
    "\n",
    "from scfw.scopt import scopt\n",
    "from scfw import log_reg as lr\n",
    "from scfw.frank_wolfe import frank_wolfe\n",
    "import matplotlib.pyplot as plt\n",
    "from sklearn.datasets import load_svmlight_file"
   ]
  },
  {
   "cell_type": "code",
   "execution_count": 44,
   "metadata": {},
   "outputs": [
    {
     "data": {
      "text/plain": [
       "((4781, 122), (4781,))"
      ]
     },
     "execution_count": 44,
     "metadata": {},
     "output_type": "execute_result"
    }
   ],
   "source": [
    "data_folder = 'data'\n",
    "\n",
    "problem_name = 'a4a'\n",
    "Phi, y = load_svmlight_file(os.path.join(data_folder, problem_name))\n",
    "N, n = Phi.shape\n",
    "Phi.shape, y.shape"
   ]
  },
  {
   "cell_type": "code",
   "execution_count": 46,
   "metadata": {},
   "outputs": [
    {
     "data": {
      "text/plain": [
       "((32561, 123), (32561,))"
      ]
     },
     "execution_count": 46,
     "metadata": {},
     "output_type": "execute_result"
    }
   ],
   "source": [
    "data_folder = 'data'\n",
    "\n",
    "problem_name = 'a9a'\n",
    "Phi, y = load_svmlight_file(os.path.join(data_folder, problem_name))\n",
    "N, n = Phi.shape\n",
    "Phi.shape, y.shape"
   ]
  },
  {
   "cell_type": "code",
   "execution_count": 45,
   "metadata": {},
   "outputs": [
    {
     "data": {
      "text/plain": [
       "<4781x122 sparse matrix of type '<class 'numpy.float64'>'\n",
       "\twith 66290 stored elements in Compressed Sparse Row format>"
      ]
     },
     "execution_count": 45,
     "metadata": {},
     "output_type": "execute_result"
    }
   ],
   "source": [
    "Phi"
   ]
  },
  {
   "cell_type": "code",
   "execution_count": 8,
   "metadata": {},
   "outputs": [],
   "source": [
    "results_folder = './results/'\n",
    "results_file=os.path.join(results_folder,'log_reg',problem_name+'.pckl')\n",
    "results = {problem_name: {}}\n",
    "if os.path.isfile(results_file):\n",
    "    with open(results_file, \"rb\") as f:\n",
    "        try:\n",
    "            results=pickle.load(f)\n",
    "        except Exception: # so many things could go wrong, can't be more specific.\n",
    "            pass "
   ]
  },
  {
   "cell_type": "markdown",
   "metadata": {},
   "source": [
    "Normalize"
   ]
  },
  {
   "cell_type": "code",
   "execution_count": 14,
   "metadata": {},
   "outputs": [],
   "source": [
    "N, n = Phi.shape"
   ]
  },
  {
   "cell_type": "code",
   "execution_count": 39,
   "metadata": {},
   "outputs": [
    {
     "name": "stdout",
     "output_type": "stream",
     "text": [
      "CPU times: user 38.8 s, sys: 6.37 ms, total: 38.9 s\n",
      "Wall time: 38.9 s\n"
     ]
    }
   ],
   "source": [
    "for i, row in enumerate(Phi):\n",
    "    if np.sum(row.multiply(row)) != 0:\n",
    "        Phi[i] = row.multiply(1 / np.sqrt(np.sum(row.multiply(row))))"
   ]
  },
  {
   "cell_type": "code",
   "execution_count": 4,
   "metadata": {},
   "outputs": [],
   "source": [
    "gamma = 1 / 2*np.sqrt(N)\n",
    "Mf = N/gamma*np.max(np.sqrt(np.sum(Phi.multiply(Phi),axis=1)))\n",
    "nu = 3\n",
    "mu = 0\n",
    "\n",
    "\n",
    "#running parameters\n",
    "x0 = np.zeros(n)\n",
    "r = n*0.05\n",
    "terminate_tol = 1e-20\n",
    "\n",
    "#parameters for FW\n",
    "FW_params={\n",
    "    'iter_FW':50000,\n",
    "    'line_search_tol':1e-10,\n",
    "    'rho':np.sqrt(n), #parameters for ll00\n",
    "    'diam_X':2,\n",
    "    'sigma_f':1,\n",
    "}\n",
    "\n",
    "\n",
    "sc_params={\n",
    "    #parameters for SCOPT\n",
    "    'iter_SC': 1000,\n",
    "    'Lest': 'backtracking',#,'estimate', #estimate L\n",
    "    'use_two_phase':False,\n",
    "    #FISTA parameters\n",
    "    'fista_type': 'mfista',\n",
    "    'fista_tol': 1e-5,\n",
    "    'fista_iter': 1000,\n",
    "    #Conjugate Gradient Parameters\n",
    "    'conj_grad_tol':1e-5,\n",
    "    'conj_grad_iter':1000,\n",
    "}"
   ]
  },
  {
   "cell_type": "markdown",
   "metadata": {},
   "source": [
    "## Auxilary functions"
   ]
  },
  {
   "cell_type": "code",
   "execution_count": 5,
   "metadata": {},
   "outputs": [],
   "source": [
    "func_x = lambda x: lr.log_reg(Phi, y, x, mu, gamma)\n",
    "func_beta = lambda x, s, beta, exp_product, exp_product_s:lr.log_reg(Phi, y, (1 - beta) * x + beta * s, mu,gamma,np.exp(np.log(exp_product)*(1-beta)+np.log(exp_product_s)*beta))\n",
    "grad_x = lambda x, exp_product: lr.grad_log_reg(Phi, y, x,  mu, gamma, exp_product)\n",
    "grad_beta = lambda x, s, beta, exp_product, exp_product_s: lr.grad_log_reg(Phi, y, (1 - beta) * x + beta * s, mu, gamma, (1 - beta) * exp_product + beta * exp_product_s)\n",
    "hess_x = lambda s, exp_product: lr.hess(Phi, y, mu, gamma, exp_product,s)\n",
    "hess_mult_x = lambda s, exp_product: lr.hess_mult_log_reg(Phi, y, mu, gamma, exp_product,s)\n",
    "hess_mult_vec_x = lambda s, exp_product: lr.hess_mult_vec(Phi, y,mu, gamma, exp_product,s)\n",
    "extra_func = lambda x: np.exp(-y*(Phi @ x+mu))\n",
    "linear_oracle = lambda grad: lr.linear_oracle_l1(grad, r)\n",
    "# llo_oracle = lambda x, r, grad, rho: pr.llo_oracle(x, r, grad,rho)\n",
    "prox_func = lambda x, L: lr.projection_l1(x,r)"
   ]
  },
  {
   "cell_type": "markdown",
   "metadata": {},
   "source": [
    "## Run FW"
   ]
  },
  {
   "cell_type": "code",
   "execution_count": 1,
   "metadata": {
    "scrolled": true
   },
   "outputs": [],
   "source": [
    "files = ['a4a','w4a','a1a','a2a','a3a','a5a','a6a','a7a','a8a','a9a','w1a','w2a','w3a','w5a','w6a','w7a','w8a']\n",
    "def run_fw(problem_name):\n",
    "    out_dir = os.path.join('results', 'log_reg')\n",
    "    if not os.path.exists(out_dir):\n",
    "        os.mkdir(out_dir)\n",
    "\n",
    "    results_file = os.path.join(out_dir, problem_name + '.pckl')\n",
    "    if os.path.exists(results_file):\n",
    "        with open(results_file, 'rb') as f:\n",
    "            results = pickle.load(f)\n",
    "    else:\n",
    "        results = {problem_name: {}}\n",
    "\n",
    "    Phi, y = load_svmlight_file(os.path.join('data', problem_name))\n",
    "\n",
    "    # fix classes\n",
    "    if max(y) == 2:\n",
    "        y = 2 * y - 3\n",
    "\n",
    "    N, n = Phi.shape\n",
    "\n",
    "    # normalize\n",
    "    for i, row in enumerate(Phi):\n",
    "        if np.sum(row.multiply(row)) != 0:\n",
    "            Phi[i] = row.multiply(1 / np.sqrt(np.sum(row.multiply(row))))\n",
    "\n",
    "    gamma = 1 / 2 * np.sqrt(N)\n",
    "    Mf = 1/gamma*np.max(np.sqrt(np.sum(Phi.multiply(Phi),axis=1)))\n",
    "    nu = 3\n",
    "    mu = 0\n",
    "    \n",
    "    \n",
    "    #running parameters\n",
    "    x0 = np.zeros(n)\n",
    "    r = n*0.05\n",
    "    terminate_tol = 1e-20\n",
    "    \n",
    "    #parameters for FW\n",
    "    FW_params={\n",
    "        'iter_FW':50000,\n",
    "        'line_search_tol':1e-10,\n",
    "        'rho':np.sqrt(n), #parameters for ll00\n",
    "        'diam_X':2,\n",
    "        'sigma_f':1,                   \n",
    "    }\n",
    "    \n",
    "    \n",
    "    sc_params={\n",
    "        #parameters for SCOPT\n",
    "        'iter_SC': 1000,\n",
    "        'Lest': 'backtracking',#,'estimate', #estimate L\n",
    "        'use_two_phase':False,\n",
    "        #FISTA parameters\n",
    "        'fista_type': 'mfista',\n",
    "        'fista_tol': 1e-5,\n",
    "        'fista_iter': 1000,\n",
    "        #Conjugate Gradient Parameters\n",
    "        'conj_grad_tol':1e-5,\n",
    "        'conj_grad_iter':1000,\n",
    "    }\n",
    "\n",
    "    func_x = lambda x: lr.log_reg(Phi, y, x, mu, gamma)\n",
    "    func_beta = lambda x, s, beta, exp_product, exp_product_s:lr.log_reg(Phi, y, (1 - beta) * x + beta * s, mu,gamma,np.exp(np.log(exp_product)*(1-beta)+np.log(exp_product_s)*beta))\n",
    "    grad_x = lambda x, exp_product: lr.grad_log_reg(Phi, y, x,  mu, gamma, exp_product)\n",
    "    grad_beta = lambda x, s, beta, exp_product, exp_product_s: lr.grad_log_reg(Phi, y, (1 - beta) * x + beta * s, mu, gamma, (1 - beta) * exp_product + beta * exp_product_s)\n",
    "    hess_x = lambda s, exp_product: lr.hess(Phi, y, mu, gamma, exp_product,s)\n",
    "    hess_mult_x = lambda s, exp_product: lr.hess_mult_log_reg(Phi, y, mu, gamma, exp_product,s)\n",
    "    hess_mult_vec_x = lambda s, exp_product: lr.hess_mult_vec(Phi, y,mu, gamma, exp_product,s)\n",
    "    extra_func = lambda x: np.exp(-y*(Phi @ x+mu))\n",
    "    linear_oracle = lambda grad: lr.linear_oracle_l1(grad, r)\n",
    "    # llo_oracle = lambda x, r, grad, rho: pr.llo_oracle(x, r, grad,rho)\n",
    "    prox_func = lambda x, L: lr.projection_l1(x,r)\n",
    "\n",
    "    run_alpha_policies = [\"backtracking\", \"standard\", \"line_search\", \"icml\"]\n",
    "#     run_alpha_policies = ['icml']\n",
    "\n",
    "    for policy in run_alpha_policies:\n",
    "        print(f'{policy} for {problem_name} started!')\n",
    "        x, alpha_hist, Gap_hist, Q_hist, time_hist = frank_wolfe(func_x,\n",
    "                           func_beta,                                      \n",
    "                           grad_x,\n",
    "                           grad_beta,\n",
    "                           hess_mult_x,\n",
    "                           extra_func,\n",
    "                           Mf,\n",
    "                           nu,\n",
    "                           linear_oracle,                                                    \n",
    "                           x0,\n",
    "                           FW_params,\n",
    "                           hess=None, \n",
    "                           lloo_oracle=None,                                                 \n",
    "                           alpha_policy=policy,                                                    \n",
    "                           eps=terminate_tol, \n",
    "                           print_every=50000, \n",
    "                           debug_info=False)\n",
    "  \n",
    "        results[problem_name][policy] = {\n",
    "            'x': x,\n",
    "            'alpha_hist': alpha_hist,\n",
    "            'Gap_hist': Gap_hist,\n",
    "            'Q_hist': Q_hist,\n",
    "            'time_hist': time_hist,\n",
    "        }\n",
    "\n",
    "        with open(results_file, 'wb') as f:\n",
    "            pickle.dump(results, f)    \n",
    "\n",
    "        print(f'{policy} for {problem_name} finished!')\n",
    "    return results"
   ]
  }
 ],
 "metadata": {
  "kernelspec": {
   "display_name": "Python 3",
   "language": "python",
   "name": "python3"
  },
  "language_info": {
   "codemirror_mode": {
    "name": "ipython",
    "version": 3
   },
   "file_extension": ".py",
   "mimetype": "text/x-python",
   "name": "python",
   "nbconvert_exporter": "python",
   "pygments_lexer": "ipython3",
   "version": "3.7.3"
  }
 },
 "nbformat": 4,
 "nbformat_minor": 4
}
