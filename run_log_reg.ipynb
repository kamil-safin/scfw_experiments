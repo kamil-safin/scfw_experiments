{
 "cells": [
  {
   "cell_type": "code",
   "execution_count": 1,
   "metadata": {},
   "outputs": [],
   "source": [
    "%load_ext autoreload\n",
    "%autoreload 2"
   ]
  },
  {
   "cell_type": "code",
   "execution_count": 2,
   "metadata": {},
   "outputs": [],
   "source": [
    "import os\n",
    "import pickle\n",
    "import scipy.io\n",
    "import numpy as np\n",
    "\n",
    "from scfw.scopt import scopt\n",
    "from scfw import log_reg as lr\n",
    "from scfw.frank_wolfe import frank_wolfe\n",
    "import matplotlib.pyplot as plt\n",
    "from sklearn.datasets import load_svmlight_file\n"
   ]
  },
  {
   "cell_type": "code",
   "execution_count": 3,
   "metadata": {},
   "outputs": [
    {
     "data": {
      "text/plain": [
       "((32561, 123), (32561,))"
      ]
     },
     "execution_count": 3,
     "metadata": {},
     "output_type": "execute_result"
    }
   ],
   "source": [
    "data_folder = '../data'\n",
    "\n",
    "problem_name = 'a9a'\n",
    "Phi, y = load_svmlight_file(os.path.join(data_folder, problem_name))\n",
    "N, n = Phi.shape\n",
    "x = np.ones(n) / n\n",
    "Phi.shape, y.shape"
   ]
  },
  {
   "cell_type": "code",
   "execution_count": 4,
   "metadata": {},
   "outputs": [],
   "source": [
    "results_folder = './results/'\n",
    "results_file=os.path.join(results_folder,'log_reg',problem_name+'.pckl')\n",
    "results = {problem_name: {}}\n",
    "if os.path.isfile(results_file):\n",
    "    with open(results_file, \"rb\") as f:\n",
    "        try:\n",
    "            results=pickle.load(f)\n",
    "        except Exception: # so many things could go wrong, can't be more specific.\n",
    "            pass "
   ]
  },
  {
   "cell_type": "markdown",
   "metadata": {},
   "source": [
    "Normalize"
   ]
  },
  {
   "cell_type": "code",
   "execution_count": 5,
   "metadata": {},
   "outputs": [],
   "source": [
    "N, n = Phi.shape\n",
    "\n",
    "for i, row in enumerate(Phi):\n",
    "    if np.sum(row.multiply(row)) != 0:\n",
    "        Phi[i] = row.multiply(1 / np.sqrt(np.sum(row.multiply(row))))"
   ]
  },
  {
   "cell_type": "code",
   "execution_count": 6,
   "metadata": {},
   "outputs": [],
   "source": [
    "gamma = 1 / 2*np.sqrt(N)\n",
    "Mf = N/gamma*np.max(np.sqrt(np.sum(Phi.multiply(Phi),axis=1)))\n",
    "nu = 3\n",
    "mu = 0\n",
    "\n",
    "\n",
    "#running parameters\n",
    "x0 = np.zeros(n)\n",
    "r = n*0.05\n",
    "terminate_tol = 1e-20\n",
    "\n",
    "#parameters for FW\n",
    "FW_params={\n",
    "    'iter_FW':50000,\n",
    "    'line_search_tol':1e-10,\n",
    "    'rho':np.sqrt(n), #parameters for ll00\n",
    "    'diam_X':2,\n",
    "    'sigma_f':1,                   \n",
    "}\n",
    "\n",
    "\n",
    "sc_params={\n",
    "    #parameters for SCOPT\n",
    "    'iter_SC': 1000,\n",
    "    'Lest': 'backtracking',#,'estimate', #estimate L\n",
    "    'use_two_phase':False,\n",
    "    #FISTA parameters\n",
    "    'fista_type': 'mfista',\n",
    "    'fista_tol': 1e-5,\n",
    "    'fista_iter': 1000,\n",
    "    #Conjugate Gradient Parameters\n",
    "    'conj_grad_tol':1e-5,\n",
    "    'conj_grad_iter':1000,\n",
    "}"
   ]
  },
  {
   "cell_type": "markdown",
   "metadata": {},
   "source": [
    "## Auxilary functions"
   ]
  },
  {
   "cell_type": "code",
   "execution_count": 7,
   "metadata": {},
   "outputs": [],
   "source": [
    "func_x = lambda x: lr.log_reg(Phi, y, x, mu, gamma)\n",
    "func_beta = lambda x, s, beta, exp_product, exp_product_s:lr.log_reg(Phi, y, (1 - beta) * x + beta * s, mu,gamma,np.exp(np.log(exp_product)*(1-beta)+np.log(exp_product_s)*beta))\n",
    "grad_x = lambda x, exp_product: lr.grad_log_reg(Phi, y, x,  mu, gamma, exp_product)\n",
    "grad_beta = lambda x, s, beta, exp_product, exp_product_s: lr.grad_log_reg(Phi, y, (1 - beta) * x + beta * s, mu, gamma, (1 - beta) * exp_product + beta * exp_product_s)\n",
    "hess_x = lambda s, exp_product: lr.hess(Phi, y, mu, gamma, exp_product,s)\n",
    "hess_mult_x = lambda s, exp_product: lr.hess_mult_log_reg(Phi, y, mu, gamma, exp_product,s)\n",
    "hess_mult_vec_x = lambda s, exp_product: lr.hess_mult_vec(Phi, y,mu, gamma, exp_product,s)\n",
    "extra_func = lambda x: np.exp(-y*(Phi @ x+mu))\n",
    "linear_oracle = lambda grad: lr.linear_oracle_l1(grad, r)\n",
    "# llo_oracle = lambda x, r, grad, rho: pr.llo_oracle(x, r, grad,rho)\n",
    "prox_func = lambda x, L: lr.projection_l1(x,r)"
   ]
  },
  {
   "cell_type": "code",
   "execution_count": null,
   "metadata": {},
   "outputs": [
    {
     "name": "stdout",
     "output_type": "stream",
     "text": [
      "backtracking\n",
      "********* Algorithm starts *********\n",
      "iter = 1, stepsize = 0.37446301349305844, criterion = 9.999999999999999e-11, upper_bound=22569.565346212377, lower_bound=8066.522962502984, real_Gap=14503.042383709393\n",
      "iter = 1000, stepsize = 0.001102253403032789, criterion = 9.999999999999999e-11, upper_bound=16881.98159321663, lower_bound=16867.216628229766, real_Gap=14.76496498686538\n",
      "iter = 2000, stepsize = 0.0006169625467931153, criterion = 9.999999999999999e-11, upper_bound=16875.837640769478, lower_bound=16868.467464287805, real_Gap=7.370176481672388\n",
      "iter = 3000, stepsize = 0.00031320518186063543, criterion = 9.999999999999999e-11, upper_bound=16873.752020427935, lower_bound=16868.77615953425, real_Gap=4.975860893686331\n",
      "iter = 4000, stepsize = 0.00021739331009457027, criterion = 9.999999999999999e-11, upper_bound=16872.70391031122, lower_bound=16868.949379242844, real_Gap=3.75453106837449\n",
      "iter = 5000, stepsize = 0.00023555957855542203, criterion = 9.999999999999999e-11, upper_bound=16872.07113983981, lower_bound=16869.123239268578, real_Gap=2.9479005712310027\n",
      "iter = 6000, stepsize = 0.0002254434864191546, criterion = 9.999999999999999e-11, upper_bound=16871.647463204677, lower_bound=16869.181757993036, real_Gap=2.4657052116417617\n",
      "iter = 7000, stepsize = 6.4515048350774e-05, criterion = 9.999999999999999e-11, upper_bound=16871.3442769027, lower_bound=16869.204617409978, real_Gap=2.1396594927209662\n"
     ]
    }
   ],
   "source": [
    "run_alpha_policies = [\"backtracking\",\"standard\", \"line_search\", \"icml\"]\n",
    "\n",
    "for policy in run_alpha_policies:\n",
    "        print(policy)\n",
    "        x, alpha_hist, Gap_hist, Q_hist, time_hist = frank_wolfe(func_x,\n",
    "                           func_beta,                                      \n",
    "                           grad_x,\n",
    "                           grad_beta,\n",
    "                           hess_mult_x,\n",
    "                           extra_func,\n",
    "                           Mf,\n",
    "                           nu,\n",
    "                           linear_oracle,                                                    \n",
    "                           x0,\n",
    "                           FW_params,\n",
    "                           hess=None, \n",
    "                           lloo_oracle=None,                                                 \n",
    "                           alpha_policy=policy,                                                    \n",
    "                           eps=terminate_tol, \n",
    "                           print_every=1000, \n",
    "                           debug_info=False)\n",
    "\n",
    "        results[problem_name][policy] = {\n",
    "            'x': x,\n",
    "            'alpha_hist': alpha_hist,\n",
    "            'Gap_hist': Gap_hist,\n",
    "            'Q_hist': Q_hist,\n",
    "            'time_hist': time_hist,\n",
    "        }\n",
    "        \n",
    "        with open(results_file, 'wb') as f:\n",
    "            pickle.dump(results, f)"
   ]
  },
  {
   "cell_type": "code",
   "execution_count": null,
   "metadata": {},
   "outputs": [],
   "source": [
    "x, alpha_hist, Q_hist, time_hist = scopt(func_x,\n",
    "        grad_x,\n",
    "        hess_mult_x,\n",
    "        hess_mult_vec_x,\n",
    "        Mf,\n",
    "        nu,\n",
    "        prox_func,\n",
    "        x0,  \n",
    "        sc_params,                                              \n",
    "        eps=terminate_tol,                                              \n",
    "        print_every=10)\n",
    "    \n",
    "results[problem_name]['scopt'] = {\n",
    "    'x': x,\n",
    "    'alpha_hist': alpha_hist,\n",
    "#    'Gap_hist': Gap_hist,\n",
    "    'Q_hist': Q_hist,\n",
    "    'time_hist': time_hist,\n",
    "#    'grad_hist': grad_hist\n",
    "}\n",
    "\n",
    "with open(results_file, 'wb') as f:\n",
    "           pickle.dump(results, f)"
   ]
  },
  {
   "cell_type": "markdown",
   "metadata": {},
   "source": [
    "## Run FW"
   ]
  },
  {
   "cell_type": "code",
   "execution_count": null,
   "metadata": {},
   "outputs": [],
   "source": []
  },
  {
   "cell_type": "code",
   "execution_count": null,
   "metadata": {
    "scrolled": true
   },
   "outputs": [],
   "source": [
    "files = ['a4a','w4a','a1a','a2a','a3a','a5a','a6a','a7a','a8a','a9a','w1a','w2a','w3a','w5a','w6a','w7a','w8a']\n",
    "out_dir = 'out'\n",
    "if not os.path.exists(out_dir):\n",
    "    os.mkdir(out_dir)\n",
    "def run_fw(file_name, out_dir):\n",
    "    results = {problem_name: {}}\n",
    "    Phi, y = load_svmlight_file(os.path.join('data', file_name))\n",
    "\n",
    "    # fix classes\n",
    "    if max(y) == 2:\n",
    "        y = 2 * y - 3\n",
    "\n",
    "    N, n = Phi.shape\n",
    "\n",
    "    # normalize\n",
    "    for i, row in enumerate(Phi):\n",
    "        if np.sum(row.multiply(row)) != 0:\n",
    "            Phi[i] = row.multiply(1 / np.sqrt(np.sum(row.multiply(row))))\n",
    "\n",
    "    rho = 1 / 4\n",
    "    # regularization param\n",
    "    gamma = 0\n",
    "    # self-concordant coef\n",
    "    Mf = 1 / np.sqrt(rho) * np.max(np.sqrt((Phi.multiply(Phi)).sum(axis=1)))\n",
    "    # bias\n",
    "    mu = 0\n",
    "    # from tran-dihn\n",
    "    nu = 2\n",
    "\n",
    "    #running parameters\n",
    "    x0 = np.ones(n) / n\n",
    "    # radius\n",
    "    M = lr.log_reg(Phi, y, x0, mu, gamma)[0] / rho\n",
    "\n",
    "    # terminate_tolerance\n",
    "    terminate_tol = 1e-20\n",
    "\n",
    "    #parameters for FW\n",
    "    FW_params={\n",
    "        'iter_FW':50000,\n",
    "        'line_search_tol':1e-10,\n",
    "        'rho':np.sqrt(n), #parameters for ll00\n",
    "        'diam_X':np.sqrt(2),\n",
    "        'sigma_f':1,\n",
    "    }\n",
    "\n",
    "    func_x = lambda x: lr.log_reg(Phi, y, x, mu, gamma)\n",
    "    grad_x = lambda x, dot_product: lr.grad_log_reg(Phi, y, x, mu, gamma, dot_product)\n",
    "    grad_beta = lambda x, s, beta, dot_product, dot_product_s: lr.grad_log_reg(Phi, y, (1 - beta) * x + beta * s, mu, gamma, (1 - beta) * dot_product + beta * dot_product_s)\n",
    "    # hess_x = lambda x, dot_product: lr.hess_portfolio(R, x, dot_product)\n",
    "    hess_mult_x = lambda x, dot_product: lr.hess_mult_log_reg(Phi, y, x, mu, gamma, dot_product)\n",
    "    hess_mult_vec_x = lambda s, dot_product: lr.hess_mult_vec(Phi, y, s, mu, gamma, dot_product)\n",
    "    extra_func = lambda x: Phi @ x\n",
    "    linear_oracle = lambda grad: lr.linear_oracle_full_simplex(grad, M)\n",
    "\n",
    "    run_alpha_policies = [\"standard\", \"line_search\", \"icml\"]\n",
    "#     run_alpha_policies = ['standard']\n",
    "    # run_alpha_policies = ['new_lloo','lloo']\n",
    "\n",
    "    for policy in run_alpha_policies:\n",
    "        x, alpha_hist, Gap_hist, Q_hist, time_hist = frank_wolfe(func_x,\n",
    "                           grad_x,\n",
    "                           grad_beta,\n",
    "                           hess_mult_x,\n",
    "                           extra_func,\n",
    "                           Mf,\n",
    "                           nu,\n",
    "                           linear_oracle,                                                    \n",
    "                           x0,\n",
    "                           FW_params,\n",
    "                           hess=None, \n",
    "                           lloo_oracle=None,                                                 \n",
    "                           alpha_policy=policy,                                                    \n",
    "                           eps=terminate_tol, \n",
    "                           print_every=1000, \n",
    "                           debug_info=False)\n",
    "\n",
    "        results[problem_name][policy] = {\n",
    "            'x': x,\n",
    "            'alpha_hist': alpha_hist,\n",
    "            'Gap_hist': Gap_hist,\n",
    "            'Q_hist': Q_hist,\n",
    "            'time_hist': time_hist,\n",
    "        }\n",
    "        \n",
    "#     with open(os.path.join(out_dir, file_name), 'wb') as f:\n",
    "#         pickle.dump(results, f)\n",
    "    return results"
   ]
  },
  {
   "cell_type": "code",
   "execution_count": null,
   "metadata": {},
   "outputs": [],
   "source": []
  }
 ],
 "metadata": {
  "kernelspec": {
   "display_name": "Python 3",
   "language": "python",
   "name": "python3"
  },
  "language_info": {
   "codemirror_mode": {
    "name": "ipython",
    "version": 3
   },
   "file_extension": ".py",
   "mimetype": "text/x-python",
   "name": "python",
   "nbconvert_exporter": "python",
   "pygments_lexer": "ipython3",
   "version": "3.7.0"
  }
 },
 "nbformat": 4,
 "nbformat_minor": 4
}
