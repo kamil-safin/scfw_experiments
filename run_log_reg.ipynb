{
 "cells": [
  {
   "cell_type": "code",
   "execution_count": 1,
   "metadata": {},
   "outputs": [],
   "source": [
    "%load_ext autoreload\n",
    "%autoreload 2"
   ]
  },
  {
   "cell_type": "code",
   "execution_count": 2,
   "metadata": {},
   "outputs": [],
   "source": [
    "import os\n",
    "import pickle\n",
    "import scipy.io\n",
    "import numpy as np\n",
    "import time\n",
    "\n",
    "from scfw.scopt import scopt\n",
    "from scfw import log_reg as lr\n",
    "from scfw.frank_wolfe import frank_wolfe\n",
    "import matplotlib.pyplot as plt\n",
    "from sklearn.datasets import load_svmlight_file"
   ]
  },
  {
   "cell_type": "code",
   "execution_count": 3,
   "metadata": {},
   "outputs": [
    {
     "data": {
      "text/plain": [
       "((6414, 122), (6414,))"
      ]
     },
     "execution_count": 3,
     "metadata": {},
     "output_type": "execute_result"
    }
   ],
   "source": [
    "data_folder = '../data'\n",
    "\n",
    "problem_name = 'a5a'\n",
    "Phi, y = load_svmlight_file(os.path.join(data_folder, problem_name))\n",
    "N, n = Phi.shape\n",
    "Phi.shape, y.shape"
   ]
  },
  {
   "cell_type": "code",
   "execution_count": 4,
   "metadata": {},
   "outputs": [],
   "source": [
    "#data_folder = 'data'\n",
    "\n",
    "#problem_name = 'a9a'\n",
    "#Phi, y = load_svmlight_file(os.path.join(data_folder, problem_name))\n",
    "#N, n = Phi.shape\n",
    "#Phi.shape, y.shape"
   ]
  },
  {
   "cell_type": "code",
   "execution_count": 5,
   "metadata": {},
   "outputs": [
    {
     "data": {
      "text/plain": [
       "<6414x122 sparse matrix of type '<class 'numpy.float64'>'\n",
       "\twith 88939 stored elements in Compressed Sparse Row format>"
      ]
     },
     "execution_count": 5,
     "metadata": {},
     "output_type": "execute_result"
    }
   ],
   "source": [
    "Phi"
   ]
  },
  {
   "cell_type": "code",
   "execution_count": 6,
   "metadata": {},
   "outputs": [],
   "source": [
    "results_folder = './results/'\n",
    "results_file=os.path.join(results_folder,'log_reg',problem_name+'.pckl')\n",
    "results = {problem_name: {}}\n",
    "if os.path.isfile(results_file):\n",
    "    with open(results_file, \"rb\") as f:\n",
    "        try:\n",
    "            results=pickle.load(f)\n",
    "        except Exception: # so many things could go wrong, can't be more specific.\n",
    "            pass "
   ]
  },
  {
   "cell_type": "markdown",
   "metadata": {},
   "source": [
    "Normalize"
   ]
  },
  {
   "cell_type": "code",
   "execution_count": 7,
   "metadata": {},
   "outputs": [],
   "source": [
    "N, n = Phi.shape"
   ]
  },
  {
   "cell_type": "code",
   "execution_count": 8,
   "metadata": {},
   "outputs": [],
   "source": [
    "for i, row in enumerate(Phi):\n",
    "    if np.sum(row.multiply(row)) != 0:\n",
    "        Phi[i] = row.multiply(1 / np.sqrt(np.sum(row.multiply(row))))"
   ]
  },
  {
   "cell_type": "code",
   "execution_count": 9,
   "metadata": {},
   "outputs": [],
   "source": [
    "gamma = 1 / (np.sqrt(N)) \n",
    "Mf = np.max(np.sqrt(np.sum(Phi.multiply(Phi),axis=1)))/np.sqrt(gamma)\n",
    "mult = N\n",
    "Mf = Mf/np.sqrt(mult)\n",
    "nu = 3\n",
    "mu = 0\n",
    "\n",
    "\n",
    "#running parameters\n",
    "x0 = np.zeros(n)\n",
    "r = n*0.05\n",
    "terminate_tol = 1e-20\n",
    "\n",
    "#parameters for FW\n",
    "FW_params={\n",
    "    'iter_FW':50000,\n",
    "    'line_search_tol':1e-10,\n",
    "    'rho':np.sqrt(n), #parameters for ll00\n",
    "    'diam_X':2,\n",
    "    'sigma_f':1,\n",
    "}\n",
    "\n",
    "\n",
    "sc_params={\n",
    "    #parameters for SCOPT\n",
    "    'iter_SC': 1000,\n",
    "    'Lest': 'backtracking',#,'estimate', #estimate L\n",
    "    'use_two_phase':False,\n",
    "    #FISTA parameters\n",
    "    'fista_type': 'mfista',\n",
    "    'fista_tol': 1e-5,\n",
    "    'fista_iter': 1000,\n",
    "    #Conjugate Gradient Parameters\n",
    "    'conj_grad_tol':1e-5,\n",
    "    'conj_grad_iter':1000,\n",
    "}"
   ]
  },
  {
   "cell_type": "markdown",
   "metadata": {},
   "source": [
    "## Auxilary functions"
   ]
  },
  {
   "cell_type": "code",
   "execution_count": 10,
   "metadata": {},
   "outputs": [],
   "source": [
    "func_x = lambda x: lr.log_reg(Phi, y, x, mu, gamma,mult)\n",
    "func_beta = lambda x, s, beta, exp_product, exp_product_s:lr.log_reg(Phi, y, (1 - beta) * x + beta * s, mu,gamma,mult,np.exp(np.log(exp_product)*(1-beta)+np.log(exp_product_s)*beta))\n",
    "grad_x = lambda x, exp_product: lr.grad_log_reg(Phi, y, x,  mu, gamma, exp_product,mult)\n",
    "grad_beta = lambda x, s, beta, exp_product, exp_product_s: lr.grad_log_reg(Phi, y, (1 - beta) * x + beta * s, mu, gamma, (1 - beta) * exp_product + beta * exp_product_s,mult)\n",
    "hess_x = lambda s, exp_product: lr.hess(Phi, y, mu, gamma, exp_product,s,mult)\n",
    "hess_mult_x = lambda s, exp_product: lr.hess_mult_log_reg(Phi, y, mu, gamma, exp_product,s,mult)\n",
    "hess_mult_vec_x = lambda s, exp_product: lr.hess_mult_vec(Phi, y,mu, gamma, exp_product,s,mult)\n",
    "extra_func = lambda x: np.exp(-y*(Phi @ x+mu))\n",
    "linear_oracle = lambda grad: lr.linear_oracle_l1(grad, r)\n",
    "# llo_oracle = lambda x, r, grad, rho: pr.llo_oracle(x, r, grad,rho)\n",
    "prox_func = lambda x, L: lr.projection_l1(x,r)"
   ]
  },
  {
   "cell_type": "markdown",
   "metadata": {},
   "source": [
    "## Run FW"
   ]
  },
  {
   "cell_type": "code",
   "execution_count": null,
   "metadata": {
    "scrolled": true
   },
   "outputs": [
    {
     "name": "stdout",
     "output_type": "stream",
     "text": [
      "icml for a5a started!\n",
      "********* Algorithm starts *********\n",
      "iter = 1, stepsize = 9.710635722617155e-06, criterion = 9.999999999999999e-11, upper_bound=0.6931471805599453, lower_bound=0.26184488959438557, real_Gap=0.4313022909655597\n",
      "iter = 1000, stepsize = 1.0035572115965547e-05, criterion = 9.999999999999999e-11, upper_bound=0.6889668195332698, lower_bound=0.2723996763921531, real_Gap=0.41656714314111665\n",
      "iter = 2000, stepsize = 1.0380442854591393e-05, criterion = 9.999999999999999e-11, upper_bound=0.6847915113987291, lower_bound=0.2831055136792328, real_Gap=0.40168599771949626\n",
      "iter = 3000, stepsize = 1.0796239778850376e-05, criterion = 9.999999999999999e-11, upper_bound=0.6806209879724843, lower_bound=0.2927039014946843, real_Gap=0.3879170864778\n",
      "iter = 4000, stepsize = 1.1046655206092316e-05, criterion = 9.999999999999999e-11, upper_bound=0.6764540019900818, lower_bound=0.30122356473847084, real_Gap=0.3752304372516109\n",
      "iter = 5000, stepsize = 1.1393219496423356e-05, criterion = 9.999999999999999e-11, upper_bound=0.6722985958870782, lower_bound=0.30981405354941555, real_Gap=0.36248454233766264\n",
      "iter = 6000, stepsize = 1.175892289004873e-05, criterion = 9.999999999999999e-11, upper_bound=0.6681573331560398, lower_bound=0.31848096692153366, real_Gap=0.3496763662345061\n",
      "iter = 7000, stepsize = 1.2144947401069646e-05, criterion = 9.999999999999999e-11, upper_bound=0.6640329794986926, lower_bound=0.32721830720262185, real_Gap=0.3368146722960707\n",
      "iter = 8000, stepsize = 1.2731602591238881e-05, criterion = 9.999999999999999e-11, upper_bound=0.659928708090464, lower_bound=0.33602645851256424, real_Gap=0.32390224957789976\n",
      "iter = 9000, stepsize = 1.3192617642670226e-05, criterion = 9.999999999999999e-11, upper_bound=0.6558479423601415, lower_bound=0.34490576623635644, real_Gap=0.3109421761237851\n",
      "iter = 10000, stepsize = 1.3683106091341813e-05, criterion = 9.999999999999999e-11, upper_bound=0.6517945455299474, lower_bound=0.3538578700782356, real_Gap=0.2979366754517118\n",
      "iter = 11000, stepsize = 1.4205311039106264e-05, criterion = 9.999999999999999e-11, upper_bound=0.6477729032040462, lower_bound=0.3628740026087531, real_Gap=0.28489890059529316\n",
      "iter = 12000, stepsize = 1.4431536176919286e-05, criterion = 9.999999999999999e-11, upper_bound=0.6437877510749559, lower_bound=0.3719561528610779, real_Gap=0.271831598213878\n",
      "iter = 13000, stepsize = 1.4970940449571184e-05, criterion = 9.999999999999999e-11, upper_bound=0.6398445417931103, lower_bound=0.38109926243188624, real_Gap=0.2587452793612241\n",
      "iter = 14000, stepsize = 1.5541311756263643e-05, criterion = 9.999999999999999e-11, upper_bound=0.6359492768342083, lower_bound=0.3903023035153885, real_Gap=0.2456469733188198\n",
      "iter = 15000, stepsize = 1.6665206968895114e-05, criterion = 9.999999999999999e-11, upper_bound=0.6321086496667659, lower_bound=0.399556516166503, real_Gap=0.23255213350026294\n",
      "iter = 16000, stepsize = 1.6779600941730873e-05, criterion = 9.999999999999999e-11, upper_bound=0.6283299886421381, lower_bound=0.4088574766898099, real_Gap=0.2194725119523282\n",
      "iter = 17000, stepsize = 1.815799141789603e-05, criterion = 9.999999999999999e-11, upper_bound=0.6246218575006197, lower_bound=0.41819889504795726, real_Gap=0.20642296245266245\n",
      "iter = 18000, stepsize = 1.897694173112135e-05, criterion = 9.999999999999999e-11, upper_bound=0.6208617457228064, lower_bound=0.4271899608210694, real_Gap=0.19367178490173698\n",
      "iter = 19000, stepsize = 1.9853398897156874e-05, criterion = 9.999999999999999e-11, upper_bound=0.617087845392497, lower_bound=0.4359582075420192, real_Gap=0.18112963785047775\n",
      "iter = 20000, stepsize = 2.6716836282142822e-05, criterion = 9.999999999999999e-11, upper_bound=0.6133943494190028, lower_bound=0.4447531304704705, real_Gap=0.16864121894853235\n",
      "iter = 21000, stepsize = 2.18054029631744e-05, criterion = 9.999999999999999e-11, upper_bound=0.609790774724236, lower_bound=0.4535573242275972, real_Gap=0.15623345049663884\n",
      "iter = 22000, stepsize = 2.1236689617418835e-05, criterion = 9.999999999999999e-11, upper_bound=0.6062909910794333, lower_bound=0.4623733020599067, real_Gap=0.14391768901952662\n",
      "iter = 23000, stepsize = 2.4042657235683616e-05, criterion = 9.999999999999999e-11, upper_bound=0.6029088586226977, lower_bound=0.47117246791492834, real_Gap=0.13173639070776938\n",
      "iter = 24000, stepsize = 4.410253495260604e-05, criterion = 9.999999999999999e-11, upper_bound=0.5991359516227655, lower_bound=0.47824426464789715, real_Gap=0.1208916869748683\n",
      "iter = 25000, stepsize = 3.9403087301297026e-05, criterion = 9.999999999999999e-11, upper_bound=0.5953012505294207, lower_bound=0.48422899119466334, real_Gap=0.1110722593347574\n",
      "iter = 26000, stepsize = 4.8482313729124e-05, criterion = 9.999999999999999e-11, upper_bound=0.591572733042371, lower_bound=0.4900906869005494, real_Gap=0.1014820461418216\n",
      "iter = 27000, stepsize = 2.888667458183621e-05, criterion = 9.999999999999999e-11, upper_bound=0.5878999294070092, lower_bound=0.495848204950047, real_Gap=0.09205172445696219\n",
      "iter = 28000, stepsize = 2.58981105226068e-05, criterion = 9.999999999999999e-11, upper_bound=0.5843943248944669, lower_bound=0.5014275953499585, real_Gap=0.08296672954450834\n",
      "iter = 29000, stepsize = 2.66403359074117e-05, criterion = 9.999999999999999e-11, upper_bound=0.5810711610933641, lower_bound=0.5068210887508953, real_Gap=0.07425007234246883\n",
      "iter = 30000, stepsize = 2.733128301439217e-05, criterion = 9.999999999999999e-11, upper_bound=0.577902242604032, lower_bound=0.5119115324581968, real_Gap=0.06599071014583524\n",
      "iter = 31000, stepsize = 5.703936098806548e-05, criterion = 9.999999999999999e-11, upper_bound=0.5746704829663367, lower_bound=0.5161849263212526, real_Gap=0.05848555664508415\n",
      "iter = 32000, stepsize = 2.8423879770387033e-05, criterion = 9.999999999999999e-11, upper_bound=0.5716733923807874, lower_bound=0.5201999277158926, real_Gap=0.051473464664894775\n",
      "iter = 33000, stepsize = 3.8740742553401185e-05, criterion = 9.999999999999999e-11, upper_bound=0.5689208647859859, lower_bound=0.5239316351512981, real_Gap=0.044989229634687766\n",
      "iter = 34000, stepsize = 4.0413839044971645e-05, criterion = 9.999999999999999e-11, upper_bound=0.5662034480307397, lower_bound=0.5269174233562877, real_Gap=0.03928602467445208\n",
      "iter = 35000, stepsize = 2.899653425663161e-05, criterion = 9.999999999999999e-11, upper_bound=0.5635478932210212, lower_bound=0.5292737813128304, real_Gap=0.03427411190819074\n",
      "iter = 36000, stepsize = 5.81407892579134e-05, criterion = 9.999999999999999e-11, upper_bound=0.5610696199307303, lower_bound=0.5310919075292985, real_Gap=0.029977712401431877\n",
      "iter = 37000, stepsize = 5.852973959658648e-05, criterion = 9.999999999999999e-11, upper_bound=0.5588497984374351, lower_bound=0.5322499797397953, real_Gap=0.026599818697639832\n",
      "iter = 38000, stepsize = 2.7834423190509543e-05, criterion = 9.999999999999999e-11, upper_bound=0.5568132277605233, lower_bound=0.5331576233159275, real_Gap=0.0236556044445958\n",
      "iter = 39000, stepsize = 2.720237941824648e-05, criterion = 9.999999999999999e-11, upper_bound=0.5550319370336004, lower_bound=0.5339630747849142, real_Gap=0.021068862248686204\n",
      "iter = 40000, stepsize = 0.000447992683425916, criterion = 9.999999999999999e-11, upper_bound=0.5534803365406223, lower_bound=0.534609720496758, real_Gap=0.018870616043864308\n",
      "iter = 41000, stepsize = 2.5726158236145335e-05, criterion = 9.999999999999999e-11, upper_bound=0.552102850514198, lower_bound=0.5351490243953237, real_Gap=0.016953826118874304\n",
      "iter = 42000, stepsize = 4.46707935983395e-05, criterion = 9.999999999999999e-11, upper_bound=0.550904962186604, lower_bound=0.5355085521186881, real_Gap=0.015396410067915922\n",
      "iter = 43000, stepsize = 2.4040142018661005e-05, criterion = 9.999999999999999e-11, upper_bound=0.549844871536586, lower_bound=0.5358015293581104, real_Gap=0.014043342178475582\n",
      "iter = 44000, stepsize = 2.321806187990786e-05, criterion = 9.999999999999999e-11, upper_bound=0.5489228316817687, lower_bound=0.5360438674250011, real_Gap=0.0128789642567676\n",
      "iter = 45000, stepsize = 4.2927362138620385e-05, criterion = 9.999999999999999e-11, upper_bound=0.548113852162574, lower_bound=0.5362276586833381, real_Gap=0.011886193479235918\n",
      "iter = 46000, stepsize = 0.0001469460613594396, criterion = 9.999999999999999e-11, upper_bound=0.5474011424208615, lower_bound=0.5363879379041534, real_Gap=0.011013204516708064\n"
     ]
    },
    {
     "name": "stdout",
     "output_type": "stream",
     "text": [
      "iter = 47000, stepsize = 2.0942471376421867e-05, criterion = 9.999999999999999e-11, upper_bound=0.5467530947278825, lower_bound=0.536499077247514, real_Gap=0.010254017480368471\n",
      "iter = 48000, stepsize = 4.0559332055450054e-05, criterion = 9.999999999999999e-11, upper_bound=0.54619012648069, lower_bound=0.536619282371891, real_Gap=0.009570844108798937\n",
      "iter = 49000, stepsize = 3.991391171526641e-05, criterion = 9.999999999999999e-11, upper_bound=0.5456741968227997, lower_bound=0.5367067111457673, real_Gap=0.008967485677032427\n",
      "iter = 50000, stepsize = 5.071320126533059e-05, criterion = 9.999999999999999e-11, upper_bound=0.5452216392027727, lower_bound=0.5367803745022858, real_Gap=0.008441264700486895\n",
      "iter = 51000, stepsize = 3.8168494351521434e-05, criterion = 9.999999999999999e-11, upper_bound=0.5448128167651656, lower_bound=0.5368418187042066, real_Gap=0.007970998060959023\n",
      "iter = 52000, stepsize = 1.7699143339231077e-05, criterion = 9.999999999999999e-11, upper_bound=0.5444376909072886, lower_bound=0.5369033651880715, real_Gap=0.007534325719217083\n",
      "iter = 53000, stepsize = 1.7137684771131507e-05, criterion = 9.999999999999999e-11, upper_bound=0.5441017723008774, lower_bound=0.5369519175627676, real_Gap=0.0071498547381098065\n",
      "iter = 54000, stepsize = 1.6607388759983717e-05, criterion = 9.999999999999999e-11, upper_bound=0.543793494512709, lower_bound=0.5369972085558697, real_Gap=0.006796285956839232\n",
      "iter = 55000, stepsize = 1.609413186227975e-05, criterion = 9.999999999999999e-11, upper_bound=0.5435129754589341, lower_bound=0.5370296668234689, real_Gap=0.006483308635465201\n",
      "iter = 56000, stepsize = 1.564757665610586e-05, criterion = 9.999999999999999e-11, upper_bound=0.543252390105948, lower_bound=0.5370642366956534, real_Gap=0.00618815341029455\n",
      "iter = 57000, stepsize = 3.028464375040304e-05, criterion = 9.999999999999999e-11, upper_bound=0.5430123846838708, lower_bound=0.5371023370776781, real_Gap=0.0059100476061927365\n",
      "iter = 58000, stepsize = 3.2993237972031994e-05, criterion = 9.999999999999999e-11, upper_bound=0.5427950034883157, lower_bound=0.5371217434798645, real_Gap=0.005673260008451142\n",
      "iter = 59000, stepsize = 2.70637152325954e-05, criterion = 9.999999999999999e-11, upper_bound=0.5425899696549382, lower_bound=0.5371462697755378, real_Gap=0.00544369987940041\n",
      "iter = 60000, stepsize = 3.16687984506938e-05, criterion = 9.999999999999999e-11, upper_bound=0.5424024447694611, lower_bound=0.5371717688189219, real_Gap=0.005230675950539165\n",
      "iter = 61000, stepsize = 1.3625755760121363e-05, criterion = 9.999999999999999e-11, upper_bound=0.5422253188940813, lower_bound=0.5371894537340572, real_Gap=0.005035865160024078\n",
      "iter = 62000, stepsize = 2.8891709979851882e-05, criterion = 9.999999999999999e-11, upper_bound=0.5420618877967643, lower_bound=0.5372073882046426, real_Gap=0.004854499592121697\n",
      "iter = 63000, stepsize = 1.297702652729898e-05, criterion = 9.999999999999999e-11, upper_bound=0.5419075413486006, lower_bound=0.537220079856802, real_Gap=0.004687461491798661\n",
      "iter = 64000, stepsize = 3.8697686027251756e-05, criterion = 9.999999999999999e-11, upper_bound=0.5417639960471398, lower_bound=0.537233754097228, real_Gap=0.004530241949911806\n",
      "iter = 65000, stepsize = 2.878014328024551e-05, criterion = 9.999999999999999e-11, upper_bound=0.5416299315795331, lower_bound=0.5372518158507702, real_Gap=0.004378115728762899\n",
      "iter = 66000, stepsize = 3.051896414001143e-05, criterion = 9.999999999999999e-11, upper_bound=0.5415028500482948, lower_bound=0.5372589256241436, real_Gap=0.004243924424151224\n",
      "iter = 67000, stepsize = 1.180694658590932e-05, criterion = 9.999999999999999e-11, upper_bound=0.5413835624386828, lower_bound=0.537269487250084, real_Gap=0.0041140751885987425\n",
      "iter = 68000, stepsize = 3.440213845565017e-05, criterion = 9.999999999999999e-11, upper_bound=0.5412715970854659, lower_bound=0.5372823812883241, real_Gap=0.003989215797141843\n",
      "iter = 69000, stepsize = 1.1276052827210957e-05, criterion = 9.999999999999999e-11, upper_bound=0.5411654130819177, lower_bound=0.5372918945317914, real_Gap=0.003873518550126298\n",
      "iter = 70000, stepsize = 2.5992211453693688e-05, criterion = 9.999999999999999e-11, upper_bound=0.5410648349907823, lower_bound=0.5373002664226724, real_Gap=0.003764568568109916\n",
      "iter = 71000, stepsize = 1.999427476717893e-05, criterion = 9.999999999999999e-11, upper_bound=0.5409698484317211, lower_bound=0.5373094792160248, real_Gap=0.0036603692156963463\n",
      "iter = 72000, stepsize = 1.0602982461593919e-05, criterion = 9.999999999999999e-11, upper_bound=0.5408793781179031, lower_bound=0.5373174699650258, real_Gap=0.003561908152877269\n",
      "iter = 73000, stepsize = 1.0397389173974562e-05, criterion = 9.999999999999999e-11, upper_bound=0.5407933367536035, lower_bound=0.5373194843105107, real_Gap=0.0034738524430928397\n",
      "iter = 74000, stepsize = 1.0178947196280225e-05, criterion = 9.999999999999999e-11, upper_bound=0.540712133935296, lower_bound=0.5373278549298823, real_Gap=0.003384279005413715\n",
      "iter = 75000, stepsize = 9.990335592595896e-06, criterion = 9.999999999999999e-11, upper_bound=0.5406342881777869, lower_bound=0.5373342290365638, real_Gap=0.0033000591412231106\n",
      "iter = 76000, stepsize = 1.4052177468973353e-05, criterion = 9.999999999999999e-11, upper_bound=0.5405601950281558, lower_bound=0.5373395349165199, real_Gap=0.003220660111635909\n",
      "iter = 77000, stepsize = 9.612559415460634e-06, criterion = 9.999999999999999e-11, upper_bound=0.540489670837846, lower_bound=0.5373438577018204, real_Gap=0.003145813136025688\n",
      "iter = 78000, stepsize = 2.3101589379766255e-05, criterion = 9.999999999999999e-11, upper_bound=0.5404224746744867, lower_bound=0.5373509067824424, real_Gap=0.0030715678920443246\n",
      "iter = 79000, stepsize = 9.265192472367609e-06, criterion = 9.999999999999999e-11, upper_bound=0.5403577278924362, lower_bound=0.5373551685388143, real_Gap=0.0030025593536219253\n",
      "iter = 80000, stepsize = 9.119038953072396e-06, criterion = 9.999999999999999e-11, upper_bound=0.5402957243733179, lower_bound=0.5373582884274323, real_Gap=0.0029374359458855803\n",
      "iter = 81000, stepsize = 8.95282409896011e-06, criterion = 9.999999999999999e-11, upper_bound=0.5402365943547435, lower_bound=0.5373635925398426, real_Gap=0.0028730018149009107\n",
      "iter = 82000, stepsize = 2.8854437323539742e-05, criterion = 9.999999999999999e-11, upper_bound=0.5401797331698783, lower_bound=0.5373656908934332, real_Gap=0.0028140422764451056\n",
      "iter = 83000, stepsize = 2.1481769758836272e-05, criterion = 9.999999999999999e-11, upper_bound=0.5401252689855806, lower_bound=0.537369088171568, real_Gap=0.002756180814012521\n",
      "iter = 84000, stepsize = 8.514062262145196e-06, criterion = 9.999999999999999e-11, upper_bound=0.5400731955667685, lower_bound=0.537372824962245, real_Gap=0.002700370604523439\n",
      "iter = 85000, stepsize = 2.256256212815646e-05, criterion = 9.999999999999999e-11, upper_bound=0.5400233437042234, lower_bound=0.5373765994846808, real_Gap=0.002646744219542696\n",
      "iter = 86000, stepsize = 8.265583034948774e-06, criterion = 9.999999999999999e-11, upper_bound=0.5399751675765305, lower_bound=0.5373785443824102, real_Gap=0.002596623194120351\n",
      "iter = 87000, stepsize = 2.1489105856460994e-05, criterion = 9.999999999999999e-11, upper_bound=0.5399290890604972, lower_bound=0.5373802909745271, real_Gap=0.002548798085970083\n",
      "iter = 88000, stepsize = 3.350720743542839e-05, criterion = 9.999999999999999e-11, upper_bound=0.539884256211334, lower_bound=0.5373828659121898, real_Gap=0.0025013902991442016\n"
     ]
    }
   ],
   "source": [
    "files = ['a5a','a4a','w4a','a1a','a2a','a3a','a6a','a7a','a8a','a9a','w1a','w2a','w3a','w5a','w6a','w7a','w8a']\n",
    "def run_fw(problem_name):\n",
    "    out_dir = os.path.join('results', 'log_reg')\n",
    "    if not os.path.exists(out_dir):\n",
    "        os.mkdir(out_dir)\n",
    "\n",
    "    results_file = os.path.join(out_dir, problem_name + '.pckl')\n",
    "    if os.path.exists(results_file):\n",
    "        with open(results_file, 'rb') as f:\n",
    "            results = pickle.load(f)\n",
    "    else:\n",
    "        results = {problem_name: {}}\n",
    "\n",
    "    Phi, y = load_svmlight_file(os.path.join('../data', problem_name))\n",
    "\n",
    "    # fix classes\n",
    "    if max(y) == 2:\n",
    "        y = 2 * y - 3\n",
    "\n",
    "    N, n = Phi.shape\n",
    "\n",
    "    # normalize\n",
    "    for i, row in enumerate(Phi):\n",
    "        if np.sum(row.multiply(row)) != 0:\n",
    "            Phi[i] = row.multiply(1 / np.sqrt(np.sum(row.multiply(row))))\n",
    "\n",
    "    gamma = 1 / (np.sqrt(N)) \n",
    "    Mf = np.max(np.sqrt(np.sum(Phi.multiply(Phi),axis=1)))/np.sqrt(gamma)\n",
    "    mult = 1 #scaling parameter\n",
    "    Mf = Mf/np.sqrt(mult) #when nu=3 scaling affects Mf\n",
    "    nu = 3\n",
    "    mu = 0\n",
    "    \n",
    "    gamma = 1 / (np.sqrt(N)) \n",
    "    Mf = np.max(np.sqrt(np.sum(Phi.multiply(Phi),axis=1)))\n",
    "    nu = 2\n",
    "    mult = 1\n",
    "    Mf = Mf #when nu=2 scaling does not affect Mf\n",
    "    \n",
    "    #running parameters\n",
    "    r = n*0.05\n",
    "    x0=np.zeros(n)    \n",
    "    terminate_tol = 1e-20\n",
    "    \n",
    "    #parameters for FW\n",
    "    FW_params={\n",
    "        'iter_FW':100000,\n",
    "        'line_search_tol':1e-10,\n",
    "        'rho':np.sqrt(n), #parameters for ll00\n",
    "        'diam_X':2,\n",
    "        'sigma_f':1,                   \n",
    "    }\n",
    "    \n",
    "    \n",
    "    sc_params={\n",
    "        #parameters for SCOPT\n",
    "        'iter_SC': 1000,\n",
    "        'Lest': 'backtracking',#,'estimate', #estimate L\n",
    "        'use_two_phase':False,\n",
    "        #FISTA parameters\n",
    "        'fista_type': 'mfista',\n",
    "        'fista_tol': 1e-5,\n",
    "        'fista_iter': 1000,\n",
    "        #Conjugate Gradient Parameters\n",
    "        'conj_grad_tol':1e-5,\n",
    "        'conj_grad_iter':1000,\n",
    "    }\n",
    "\n",
    "    func_x = lambda x: lr.log_reg(Phi, y, x, mu, gamma,mult)\n",
    "    func_beta = lambda x, s, beta, exp_product, exp_product_s:lr.log_reg(Phi, y, (1 - beta) * x + beta * s, mu,gamma,mult,np.exp(np.log(exp_product)*(1-beta)+np.log(exp_product_s)*beta))\n",
    "    grad_x = lambda x, exp_product: lr.grad_log_reg(Phi, y, x,  mu, gamma, exp_product,mult)\n",
    "    grad_beta = lambda x, s, beta, exp_product, exp_product_s: lr.grad_log_reg(Phi, y, (1 - beta) * x + beta * s, mu, gamma, (1 - beta) * exp_product + beta * exp_product_s,mult)\n",
    "    hess_x = lambda s, exp_product: lr.hess(Phi, y, mu, gamma, exp_product,s,mult)\n",
    "    hess_mult_x = lambda s, exp_product: lr.hess_mult_log_reg(Phi, y, mu, gamma, exp_product,s,mult)\n",
    "    hess_mult_vec_x = lambda s, exp_product: lr.hess_mult_vec(Phi, y,mu, gamma, exp_product,s,mult)\n",
    "    extra_func = lambda x: np.exp(-y*(Phi @ x+mu))\n",
    "    linear_oracle = lambda grad: lr.linear_oracle_l1(grad, r)\n",
    "    # llo_oracle = lambda x, r, grad, rho: pr.llo_oracle(x, r, grad,rho)\n",
    "    prox_func = lambda x, L: lr.projection_l1(x,r)\n",
    "\n",
    "    run_alpha_policies = [\"backtracking\", \"standard\", \"line_search\", \"icml\"]\n",
    "    run_alpha_policies = [\"icml\"]\n",
    "\n",
    "    for policy in run_alpha_policies:\n",
    "        print(f'{policy} for {problem_name} started!')\n",
    "        x, alpha_hist, Gap_hist, Q_hist, time_hist = frank_wolfe(func_x,\n",
    "                           func_beta,                                      \n",
    "                           grad_x,\n",
    "                           grad_beta,\n",
    "                           hess_mult_x,\n",
    "                           extra_func,\n",
    "                           Mf,\n",
    "                           nu,\n",
    "                           linear_oracle,                                                    \n",
    "                           x0,\n",
    "                           FW_params,\n",
    "                           hess=None, \n",
    "                           lloo_oracle=None,                                                 \n",
    "                           alpha_policy=policy,                                                    \n",
    "                           eps=terminate_tol, \n",
    "                           print_every=1000, \n",
    "                           debug_info=False)\n",
    "  \n",
    "        results[problem_name][policy] = {\n",
    "            'x': x,\n",
    "            'alpha_hist': alpha_hist,\n",
    "            'Gap_hist': [z / mult for z in Gap_hist],\n",
    "            'Q_hist': [z / mult for z in Q_hist],\n",
    "            'time_hist': time_hist,\n",
    "        }\n",
    "\n",
    "        with open(results_file, 'wb') as f:\n",
    "            pickle.dump(results, f)    \n",
    "\n",
    "        print(f'{policy} for {problem_name} finished!')\n",
    "    return results\n",
    "\n",
    "\n",
    "for problem_name in files:\n",
    "    run_fw(problem_name)"
   ]
  }
 ],
 "metadata": {
  "kernelspec": {
   "display_name": "Python 3",
   "language": "python",
   "name": "python3"
  },
  "language_info": {
   "codemirror_mode": {
    "name": "ipython",
    "version": 3
   },
   "file_extension": ".py",
   "mimetype": "text/x-python",
   "name": "python",
   "nbconvert_exporter": "python",
   "pygments_lexer": "ipython3",
   "version": "3.7.0"
  }
 },
 "nbformat": 4,
 "nbformat_minor": 4
}
