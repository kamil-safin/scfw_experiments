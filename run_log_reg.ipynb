{
 "cells": [
  {
   "cell_type": "code",
   "execution_count": 1,
   "metadata": {},
   "outputs": [],
   "source": [
    "%load_ext autoreload\n",
    "%autoreload 2"
   ]
  },
  {
   "cell_type": "code",
   "execution_count": 2,
   "metadata": {},
   "outputs": [],
   "source": [
    "import os\n",
    "import pickle\n",
    "import scipy.io\n",
    "import numpy as np\n",
    "import time\n",
    "\n",
    "from scfw.scopt import scopt\n",
    "from scfw import log_reg as lr\n",
    "from scfw.frank_wolfe import frank_wolfe\n",
    "import matplotlib.pyplot as plt\n",
    "from sklearn.datasets import load_svmlight_file"
   ]
  },
  {
   "cell_type": "code",
   "execution_count": 3,
   "metadata": {},
   "outputs": [
    {
     "data": {
      "text/plain": [
       "((6414, 122), (6414,))"
      ]
     },
     "execution_count": 3,
     "metadata": {},
     "output_type": "execute_result"
    }
   ],
   "source": [
    "data_folder = '../data'\n",
    "\n",
    "problem_name = 'a5a'\n",
    "Phi, y = load_svmlight_file(os.path.join(data_folder, problem_name))\n",
    "N, n = Phi.shape\n",
    "Phi.shape, y.shape"
   ]
  },
  {
   "cell_type": "code",
   "execution_count": 4,
   "metadata": {},
   "outputs": [],
   "source": [
    "#data_folder = 'data'\n",
    "\n",
    "#problem_name = 'a9a'\n",
    "#Phi, y = load_svmlight_file(os.path.join(data_folder, problem_name))\n",
    "#N, n = Phi.shape\n",
    "#Phi.shape, y.shape"
   ]
  },
  {
   "cell_type": "code",
   "execution_count": 5,
   "metadata": {},
   "outputs": [
    {
     "data": {
      "text/plain": [
       "<6414x122 sparse matrix of type '<class 'numpy.float64'>'\n",
       "\twith 88939 stored elements in Compressed Sparse Row format>"
      ]
     },
     "execution_count": 5,
     "metadata": {},
     "output_type": "execute_result"
    }
   ],
   "source": [
    "Phi"
   ]
  },
  {
   "cell_type": "code",
   "execution_count": 6,
   "metadata": {},
   "outputs": [],
   "source": [
    "results_folder = './results/'\n",
    "results_file=os.path.join(results_folder,'log_reg',problem_name+'.pckl')\n",
    "results = {problem_name: {}}\n",
    "if os.path.isfile(results_file):\n",
    "    with open(results_file, \"rb\") as f:\n",
    "        try:\n",
    "            results=pickle.load(f)\n",
    "        except Exception: # so many things could go wrong, can't be more specific.\n",
    "            pass "
   ]
  },
  {
   "cell_type": "markdown",
   "metadata": {},
   "source": [
    "Normalize"
   ]
  },
  {
   "cell_type": "code",
   "execution_count": 7,
   "metadata": {},
   "outputs": [],
   "source": [
    "N, n = Phi.shape"
   ]
  },
  {
   "cell_type": "code",
   "execution_count": 8,
   "metadata": {},
   "outputs": [],
   "source": [
    "for i, row in enumerate(Phi):\n",
    "    if np.sum(row.multiply(row)) != 0:\n",
    "        Phi[i] = row.multiply(1 / np.sqrt(np.sum(row.multiply(row))))"
   ]
  },
  {
   "cell_type": "code",
   "execution_count": 9,
   "metadata": {},
   "outputs": [],
   "source": [
    "gamma = 1 / (np.sqrt(N)) \n",
    "Mf = np.max(np.sqrt(np.sum(Phi.multiply(Phi),axis=1)))/np.sqrt(gamma)\n",
    "mult = N\n",
    "Mf = Mf/np.sqrt(mult)\n",
    "nu = 3\n",
    "mu = 0\n",
    "\n",
    "\n",
    "#running parameters\n",
    "x0 = np.zeros(n)\n",
    "r = n*0.05\n",
    "terminate_tol = 1e-20\n",
    "\n",
    "#parameters for FW\n",
    "FW_params={\n",
    "    'iter_FW':50000,\n",
    "    'line_search_tol':1e-10,\n",
    "    'rho':np.sqrt(n), #parameters for ll00\n",
    "    'diam_X':2,\n",
    "    'sigma_f':1,\n",
    "}\n",
    "\n",
    "\n",
    "sc_params={\n",
    "    #parameters for SCOPT\n",
    "    'iter_SC': 1000,\n",
    "    'Lest': 'backtracking',#,'estimate', #estimate L\n",
    "    'use_two_phase':False,\n",
    "    #FISTA parameters\n",
    "    'fista_type': 'mfista',\n",
    "    'fista_tol': 1e-5,\n",
    "    'fista_iter': 1000,\n",
    "    #Conjugate Gradient Parameters\n",
    "    'conj_grad_tol':1e-5,\n",
    "    'conj_grad_iter':1000,\n",
    "}"
   ]
  },
  {
   "cell_type": "markdown",
   "metadata": {},
   "source": [
    "## Auxilary functions"
   ]
  },
  {
   "cell_type": "code",
   "execution_count": 10,
   "metadata": {},
   "outputs": [],
   "source": [
    "func_x = lambda x: lr.log_reg(Phi, y, x, mu, gamma,mult)\n",
    "func_beta = lambda x, s, beta, exp_product, exp_product_s:lr.log_reg(Phi, y, (1 - beta) * x + beta * s, mu,gamma,mult,np.exp(np.log(exp_product)*(1-beta)+np.log(exp_product_s)*beta))\n",
    "grad_x = lambda x, exp_product: lr.grad_log_reg(Phi, y, x,  mu, gamma, exp_product,mult)\n",
    "grad_beta = lambda x, s, beta, exp_product, exp_product_s: lr.grad_log_reg(Phi, y, (1 - beta) * x + beta * s, mu, gamma, (1 - beta) * exp_product + beta * exp_product_s,mult)\n",
    "hess_x = lambda s, exp_product: lr.hess(Phi, y, mu, gamma, exp_product,s,mult)\n",
    "hess_mult_x = lambda s, exp_product: lr.hess_mult_log_reg(Phi, y, mu, gamma, exp_product,s,mult)\n",
    "hess_mult_vec_x = lambda s, exp_product: lr.hess_mult_vec(Phi, y,mu, gamma, exp_product,s,mult)\n",
    "extra_func = lambda x: np.exp(-y*(Phi @ x+mu))\n",
    "linear_oracle = lambda grad: lr.linear_oracle_l1(grad, r)\n",
    "# llo_oracle = lambda x, r, grad, rho: pr.llo_oracle(x, r, grad,rho)\n",
    "prox_func = lambda x, L: lr.projection_l1(x,r)"
   ]
  },
  {
   "cell_type": "markdown",
   "metadata": {},
   "source": [
    "## Run FW"
   ]
  },
  {
   "cell_type": "code",
   "execution_count": null,
   "metadata": {
    "scrolled": true
   },
   "outputs": [
    {
     "name": "stdout",
     "output_type": "stream",
     "text": [
      "icml for a5a started!\n",
      "********* Algorithm starts *********\n",
      "iter = 1, stepsize = 1.3079497322960857e-05, criterion = 9.999999999999999e-11, upper_bound=0.6523497970211328, lower_bound=0.3297337438996101, real_Gap=0.32261605312152275\n",
      "iter = 1000, stepsize = 1.361856386059672e-05, criterion = 9.999999999999999e-11, upper_bound=0.6481594476883816, lower_bound=0.3421026545284391, real_Gap=0.30605679315994255\n",
      "iter = 2000, stepsize = 1.4191701098685306e-05, criterion = 9.999999999999999e-11, upper_bound=0.6440212201396179, lower_bound=0.35464047181623526, real_Gap=0.2893807483233827\n",
      "iter = 3000, stepsize = 1.5283188999091184e-05, criterion = 9.999999999999999e-11, upper_bound=0.6398982892485627, lower_bound=0.3651611506166193, real_Gap=0.27473713863194343\n",
      "iter = 4000, stepsize = 1.5337379377683415e-05, criterion = 9.999999999999999e-11, upper_bound=0.635798514569034, lower_bound=0.37475579020375144, real_Gap=0.2610427243652826\n",
      "iter = 5000, stepsize = 1.5952111465752663e-05, criterion = 9.999999999999999e-11, upper_bound=0.6317476090009454, lower_bound=0.38441959824600036, real_Gap=0.24732801075494504\n",
      "iter = 6000, stepsize = 1.660323963970911e-05, criterion = 9.999999999999999e-11, upper_bound=0.6277532373793497, lower_bound=0.39414990047487763, real_Gap=0.2336033369044721\n",
      "iter = 7000, stepsize = 1.7291833686771792e-05, criterion = 9.999999999999999e-11, upper_bound=0.6238240212476512, lower_bound=0.40393914968411965, real_Gap=0.2198848715635316\n",
      "iter = 8000, stepsize = 1.904940275962966e-05, criterion = 9.999999999999999e-11, upper_bound=0.6199698605569993, lower_bound=0.41377838589846205, real_Gap=0.20619147465853727\n",
      "iter = 9000, stepsize = 1.8782204585178047e-05, criterion = 9.999999999999999e-11, upper_bound=0.6162012109583146, lower_bound=0.42366235581446193, real_Gap=0.19253885514385266\n",
      "iter = 10000, stepsize = 1.9581382931616196e-05, criterion = 9.999999999999999e-11, upper_bound=0.6125306665771377, lower_bound=0.4335697652820469, real_Gap=0.17896090129509085\n",
      "iter = 11000, stepsize = 2.0411732189698816e-05, criterion = 9.999999999999999e-11, upper_bound=0.6089718151642973, lower_bound=0.443490637863952, real_Gap=0.16548117730034534\n",
      "iter = 12000, stepsize = 2.311576681992322e-05, criterion = 9.999999999999999e-11, upper_bound=0.6055397000219574, lower_bound=0.45340272755346434, real_Gap=0.15213697246849311\n",
      "iter = 13000, stepsize = 2.4321800787323597e-05, criterion = 9.999999999999999e-11, upper_bound=0.6020753406689463, lower_bound=0.46294191538693186, real_Gap=0.13913342528201444\n",
      "iter = 14000, stepsize = 2.305794121826812e-05, criterion = 9.999999999999999e-11, upper_bound=0.5986135282406659, lower_bound=0.47220394359468965, real_Gap=0.1264095846459763\n",
      "iter = 15000, stepsize = 4.468179874080446e-05, criterion = 9.999999999999999e-11, upper_bound=0.5951376502842207, lower_bound=0.4804347553217465, real_Gap=0.11470289496247421\n",
      "iter = 16000, stepsize = 2.4701342077117723e-05, criterion = 9.999999999999999e-11, upper_bound=0.5914804958348984, lower_bound=0.4867717155438712, real_Gap=0.10470878029102715\n",
      "iter = 17000, stepsize = 2.5494812158325045e-05, criterion = 9.999999999999999e-11, upper_bound=0.5878176196824227, lower_bound=0.49272642114824206, real_Gap=0.09509119853418069\n",
      "iter = 18000, stepsize = 3.1058392555879025e-05, criterion = 9.999999999999999e-11, upper_bound=0.5843319180700116, lower_bound=0.4984876778883752, real_Gap=0.08584424018163639\n",
      "iter = 19000, stepsize = 7.0514415449656e-05, criterion = 9.999999999999999e-11, upper_bound=0.5810362865811471, lower_bound=0.5040525915207443, real_Gap=0.07698369506040281\n",
      "iter = 20000, stepsize = 5.3680686953349234e-05, criterion = 9.999999999999999e-11, upper_bound=0.5779458691067896, lower_bound=0.509396912158599, real_Gap=0.06854895694819063\n",
      "iter = 21000, stepsize = 5.461356503454243e-05, criterion = 9.999999999999999e-11, upper_bound=0.5748959363590084, lower_bound=0.5144510048574761, real_Gap=0.060444931501532295\n",
      "iter = 22000, stepsize = 2.8922787785306507e-05, criterion = 9.999999999999999e-11, upper_bound=0.5718076156941952, lower_bound=0.5186233590024338, real_Gap=0.05318425669176141\n",
      "iter = 23000, stepsize = 5.5609348363993504e-05, criterion = 9.999999999999999e-11, upper_bound=0.5689889232779077, lower_bound=0.522504732262822, real_Gap=0.04648419101508572\n",
      "iter = 24000, stepsize = 4.164947782414551e-05, criterion = 9.999999999999999e-11, upper_bound=0.5663187634398787, lower_bound=0.5258844365233365, real_Gap=0.04043432691654225\n",
      "iter = 25000, stepsize = 5.5456411380672934e-05, criterion = 9.999999999999999e-11, upper_bound=0.5637910483100724, lower_bound=0.5286490215989572, real_Gap=0.035142026711115215\n",
      "iter = 26000, stepsize = 2.933318209116347e-05, criterion = 9.999999999999999e-11, upper_bound=0.5613654959880839, lower_bound=0.5304117064956756, real_Gap=0.030953789492408346\n",
      "iter = 27000, stepsize = 2.887755530019043e-05, criterion = 9.999999999999999e-11, upper_bound=0.5590731771587834, lower_bound=0.5316845350132905, real_Gap=0.02738864214549286\n",
      "iter = 28000, stepsize = 2.8285970254777978e-05, criterion = 9.999999999999999e-11, upper_bound=0.557027698052383, lower_bound=0.5326858921645098, real_Gap=0.024341805887873158\n",
      "iter = 29000, stepsize = 4.586170952792194e-05, criterion = 9.999999999999999e-11, upper_bound=0.5551718153215099, lower_bound=0.5335153572966614, real_Gap=0.0216564580248485\n",
      "iter = 30000, stepsize = 4.6013644626021095e-05, criterion = 9.999999999999999e-11, upper_bound=0.5535673025977867, lower_bound=0.534248144678405, real_Gap=0.01931915791938177\n",
      "iter = 31000, stepsize = 5.64426903381185e-05, criterion = 9.999999999999999e-11, upper_bound=0.552158981061577, lower_bound=0.5348097317814398, real_Gap=0.017349249280137258\n",
      "iter = 32000, stepsize = 2.5252593782033286e-05, criterion = 9.999999999999999e-11, upper_bound=0.550908010943332, lower_bound=0.5352589241984853, real_Gap=0.015649086744846663\n",
      "iter = 33000, stepsize = 0.00010880101347198167, criterion = 9.999999999999999e-11, upper_bound=0.5498362834107939, lower_bound=0.535577212036283, real_Gap=0.01425907137451099\n",
      "iter = 34000, stepsize = 2.34210561572868e-05, criterion = 9.999999999999999e-11, upper_bound=0.5488955494749025, lower_bound=0.5358279361845429, real_Gap=0.013067613290359548\n",
      "iter = 35000, stepsize = 2.26496284555888e-05, criterion = 9.999999999999999e-11, upper_bound=0.5480590637617924, lower_bound=0.5360526146440879, real_Gap=0.012006449117704432\n",
      "iter = 36000, stepsize = 2.183672335307735e-05, criterion = 9.999999999999999e-11, upper_bound=0.5473271209742735, lower_bound=0.5362229564753531, real_Gap=0.011104164498920377\n"
     ]
    }
   ],
   "source": [
    "files = ['a5a','a4a','w4a','a1a','a2a','a3a','a6a','a7a','a8a','a9a','w1a','w2a','w3a','w5a','w6a','w7a','w8a']\n",
    "def run_fw(problem_name):\n",
    "    out_dir = os.path.join('results', 'log_reg')\n",
    "    if not os.path.exists(out_dir):\n",
    "        os.mkdir(out_dir)\n",
    "\n",
    "    results_file = os.path.join(out_dir, problem_name + '.pckl')\n",
    "    if os.path.exists(results_file):\n",
    "        with open(results_file, 'rb') as f:\n",
    "            results = pickle.load(f)\n",
    "    else:\n",
    "        results = {problem_name: {}}\n",
    "\n",
    "    Phi, y = load_svmlight_file(os.path.join('../data', problem_name))\n",
    "\n",
    "    # fix classes\n",
    "    if max(y) == 2:\n",
    "        y = 2 * y - 3\n",
    "\n",
    "    N, n = Phi.shape\n",
    "\n",
    "    # normalize\n",
    "    for i, row in enumerate(Phi):\n",
    "        if np.sum(row.multiply(row)) != 0:\n",
    "            Phi[i] = row.multiply(1 / np.sqrt(np.sum(row.multiply(row))))\n",
    "\n",
    "    gamma = 1 / (np.sqrt(N)) \n",
    "    Mf = np.max(np.sqrt(np.sum(Phi.multiply(Phi),axis=1)))/np.sqrt(gamma)\n",
    "    mult = 1 #scaling parameter\n",
    "    Mf = Mf/np.sqrt(mult) #when nu=3 scaling affects Mf\n",
    "    nu = 3\n",
    "    mu = 0\n",
    "    \n",
    "    gamma = 1 / (np.sqrt(N)) \n",
    "    Mf = np.max(np.sqrt(np.sum(Phi.multiply(Phi),axis=1)))\n",
    "    nu = 2\n",
    "    mult = 1\n",
    "    Mf = Mf #when nu=2 scaling does not affect Mf\n",
    "    \n",
    "    #running parameters\n",
    "    r = n*0.05\n",
    "    np.random.seed(245)\n",
    "    x0 = np.random.rand(n)*0.5-1\n",
    "    if sum(abs(x0))>r:\n",
    "        x0 = x0/sum(abs(x0))*r\n",
    "    #x0=np.zeros(n)    \n",
    "    terminate_tol = 1e-20\n",
    "    \n",
    "    #parameters for FW\n",
    "    FW_params={\n",
    "        'iter_FW':100000,\n",
    "        'line_search_tol':1e-10,\n",
    "        'rho':np.sqrt(n), #parameters for ll00\n",
    "        'diam_X':2,\n",
    "        'sigma_f':1,                   \n",
    "    }\n",
    "    \n",
    "    \n",
    "    sc_params={\n",
    "        #parameters for SCOPT\n",
    "        'iter_SC': 1000,\n",
    "        'Lest': 'backtracking',#,'estimate', #estimate L\n",
    "        'use_two_phase':False,\n",
    "        #FISTA parameters\n",
    "        'fista_type': 'mfista',\n",
    "        'fista_tol': 1e-5,\n",
    "        'fista_iter': 1000,\n",
    "        #Conjugate Gradient Parameters\n",
    "        'conj_grad_tol':1e-5,\n",
    "        'conj_grad_iter':1000,\n",
    "    }\n",
    "\n",
    "    func_x = lambda x: lr.log_reg(Phi, y, x, mu, gamma,mult)\n",
    "    func_beta = lambda x, s, beta, exp_product, exp_product_s:lr.log_reg(Phi, y, (1 - beta) * x + beta * s, mu,gamma,mult,np.exp(np.log(exp_product)*(1-beta)+np.log(exp_product_s)*beta))\n",
    "    grad_x = lambda x, exp_product: lr.grad_log_reg(Phi, y, x,  mu, gamma, exp_product,mult)\n",
    "    grad_beta = lambda x, s, beta, exp_product, exp_product_s: lr.grad_log_reg(Phi, y, (1 - beta) * x + beta * s, mu, gamma, (1 - beta) * exp_product + beta * exp_product_s,mult)\n",
    "    hess_x = lambda s, exp_product: lr.hess(Phi, y, mu, gamma, exp_product,s,mult)\n",
    "    hess_mult_x = lambda s, exp_product: lr.hess_mult_log_reg(Phi, y, mu, gamma, exp_product,s,mult)\n",
    "    hess_mult_vec_x = lambda s, exp_product: lr.hess_mult_vec(Phi, y,mu, gamma, exp_product,s,mult)\n",
    "    extra_func = lambda x: np.exp(-y*(Phi @ x+mu))\n",
    "    linear_oracle = lambda grad: lr.linear_oracle_l1(grad, r)\n",
    "    # llo_oracle = lambda x, r, grad, rho: pr.llo_oracle(x, r, grad,rho)\n",
    "    prox_func = lambda x, L: lr.projection_l1(x,r)\n",
    "\n",
    "    run_alpha_policies = [\"backtracking\", \"standard\", \"line_search\", \"icml\"]\n",
    "    run_alpha_policies = [\"icml\"]\n",
    "\n",
    "    for policy in run_alpha_policies:\n",
    "        print(f'{policy} for {problem_name} started!')\n",
    "        x, alpha_hist, Gap_hist, Q_hist, time_hist = frank_wolfe(func_x,\n",
    "                           func_beta,                                      \n",
    "                           grad_x,\n",
    "                           grad_beta,\n",
    "                           hess_mult_x,\n",
    "                           extra_func,\n",
    "                           Mf,\n",
    "                           nu,\n",
    "                           linear_oracle,                                                    \n",
    "                           x0,\n",
    "                           FW_params,\n",
    "                           hess=None, \n",
    "                           lloo_oracle=None,                                                 \n",
    "                           alpha_policy=policy,                                                    \n",
    "                           eps=terminate_tol, \n",
    "                           print_every=1000, \n",
    "                           debug_info=False)\n",
    "  \n",
    "        results[problem_name][policy] = {\n",
    "            'x': x,\n",
    "            'alpha_hist': alpha_hist,\n",
    "            'Gap_hist': [z / mult for z in Gap_hist],\n",
    "            'Q_hist': [z / mult for z in Q_hist],\n",
    "            'time_hist': time_hist,\n",
    "        }\n",
    "\n",
    "        with open(results_file, 'wb') as f:\n",
    "            pickle.dump(results, f)    \n",
    "\n",
    "        print(f'{policy} for {problem_name} finished!')\n",
    "    return results\n",
    "\n",
    "\n",
    "for problem_name in files:\n",
    "    run_fw(problem_name)"
   ]
  }
 ],
 "metadata": {
  "kernelspec": {
   "display_name": "Python 3",
   "language": "python",
   "name": "python3"
  },
  "language_info": {
   "codemirror_mode": {
    "name": "ipython",
    "version": 3
   },
   "file_extension": ".py",
   "mimetype": "text/x-python",
   "name": "python",
   "nbconvert_exporter": "python",
   "pygments_lexer": "ipython3",
   "version": "3.7.0"
  }
 },
 "nbformat": 4,
 "nbformat_minor": 4
}
