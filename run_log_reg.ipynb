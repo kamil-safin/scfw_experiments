{
 "cells": [
  {
   "cell_type": "code",
   "execution_count": 1,
   "metadata": {},
   "outputs": [],
   "source": [
    "%load_ext autoreload\n",
    "%autoreload 2"
   ]
  },
  {
   "cell_type": "code",
   "execution_count": 2,
   "metadata": {},
   "outputs": [],
   "source": [
    "import os\n",
    "import pickle\n",
    "import scipy.io\n",
    "import numpy as np\n",
    "import time\n",
    "\n",
    "from scfw.scopt import scopt\n",
    "from scfw import log_reg as lr\n",
    "from scfw.frank_wolfe import frank_wolfe\n",
    "import matplotlib.pyplot as plt\n",
    "from sklearn.datasets import load_svmlight_file"
   ]
  },
  {
   "cell_type": "code",
   "execution_count": 3,
   "metadata": {},
   "outputs": [
    {
     "data": {
      "text/plain": [
       "((6414, 122), (6414,))"
      ]
     },
     "execution_count": 3,
     "metadata": {},
     "output_type": "execute_result"
    }
   ],
   "source": [
    "data_folder = '../data'\n",
    "\n",
    "problem_name = 'a5a'\n",
    "Phi, y = load_svmlight_file(os.path.join(data_folder, problem_name))\n",
    "N, n = Phi.shape\n",
    "Phi.shape, y.shape"
   ]
  },
  {
   "cell_type": "code",
   "execution_count": 4,
   "metadata": {},
   "outputs": [],
   "source": [
    "#data_folder = 'data'\n",
    "\n",
    "#problem_name = 'a9a'\n",
    "#Phi, y = load_svmlight_file(os.path.join(data_folder, problem_name))\n",
    "#N, n = Phi.shape\n",
    "#Phi.shape, y.shape"
   ]
  },
  {
   "cell_type": "code",
   "execution_count": 5,
   "metadata": {},
   "outputs": [
    {
     "data": {
      "text/plain": [
       "<6414x122 sparse matrix of type '<class 'numpy.float64'>'\n",
       "\twith 88939 stored elements in Compressed Sparse Row format>"
      ]
     },
     "execution_count": 5,
     "metadata": {},
     "output_type": "execute_result"
    }
   ],
   "source": [
    "Phi"
   ]
  },
  {
   "cell_type": "code",
   "execution_count": 6,
   "metadata": {},
   "outputs": [],
   "source": [
    "results_folder = './results/'\n",
    "results_file=os.path.join(results_folder,'log_reg',problem_name+'.pckl')\n",
    "results = {problem_name: {}}\n",
    "if os.path.isfile(results_file):\n",
    "    with open(results_file, \"rb\") as f:\n",
    "        try:\n",
    "            results=pickle.load(f)\n",
    "        except Exception: # so many things could go wrong, can't be more specific.\n",
    "            pass "
   ]
  },
  {
   "cell_type": "markdown",
   "metadata": {},
   "source": [
    "Normalize"
   ]
  },
  {
   "cell_type": "code",
   "execution_count": 7,
   "metadata": {},
   "outputs": [],
   "source": [
    "N, n = Phi.shape"
   ]
  },
  {
   "cell_type": "code",
   "execution_count": 8,
   "metadata": {},
   "outputs": [],
   "source": [
    "for i, row in enumerate(Phi):\n",
    "    if np.sum(row.multiply(row)) != 0:\n",
    "        Phi[i] = row.multiply(1 / np.sqrt(np.sum(row.multiply(row))))"
   ]
  },
  {
   "cell_type": "code",
   "execution_count": 9,
   "metadata": {},
   "outputs": [],
   "source": [
    "gamma = 1 / (np.sqrt(N)) \n",
    "Mf = np.max(np.sqrt(np.sum(Phi.multiply(Phi),axis=1)))/np.sqrt(gamma)\n",
    "mult = N\n",
    "Mf = Mf/np.sqrt(mult)\n",
    "nu = 3\n",
    "mu = 0\n",
    "\n",
    "\n",
    "#running parameters\n",
    "x0 = np.zeros(n)\n",
    "r = n*0.05\n",
    "terminate_tol = 1e-20\n",
    "\n",
    "#parameters for FW\n",
    "FW_params={\n",
    "    'iter_FW':50000,\n",
    "    'line_search_tol':1e-10,\n",
    "    'rho':np.sqrt(n), #parameters for ll00\n",
    "    'diam_X':2,\n",
    "    'sigma_f':1,\n",
    "}\n",
    "\n",
    "\n",
    "sc_params={\n",
    "    #parameters for SCOPT\n",
    "    'iter_SC': 1000,\n",
    "    'Lest': 'backtracking',#,'estimate', #estimate L\n",
    "    'use_two_phase':False,\n",
    "    #FISTA parameters\n",
    "    'fista_type': 'mfista',\n",
    "    'fista_tol': 1e-5,\n",
    "    'fista_iter': 1000,\n",
    "    #Conjugate Gradient Parameters\n",
    "    'conj_grad_tol':1e-5,\n",
    "    'conj_grad_iter':1000,\n",
    "}"
   ]
  },
  {
   "cell_type": "markdown",
   "metadata": {},
   "source": [
    "## Auxilary functions"
   ]
  },
  {
   "cell_type": "code",
   "execution_count": 10,
   "metadata": {},
   "outputs": [],
   "source": [
    "func_x = lambda x: lr.log_reg(Phi, y, x, mu, gamma,mult)\n",
    "func_beta = lambda x, s, beta, exp_product, exp_product_s:lr.log_reg(Phi, y, (1 - beta) * x + beta * s, mu,gamma,mult,np.exp(np.log(exp_product)*(1-beta)+np.log(exp_product_s)*beta))\n",
    "grad_x = lambda x, exp_product: lr.grad_log_reg(Phi, y, x,  mu, gamma, exp_product,mult)\n",
    "grad_beta = lambda x, s, beta, exp_product, exp_product_s: lr.grad_log_reg(Phi, y, (1 - beta) * x + beta * s, mu, gamma, (1 - beta) * exp_product + beta * exp_product_s,mult)\n",
    "hess_x = lambda s, exp_product: lr.hess(Phi, y, mu, gamma, exp_product,s,mult)\n",
    "hess_mult_x = lambda s, exp_product: lr.hess_mult_log_reg(Phi, y, mu, gamma, exp_product,s,mult)\n",
    "hess_mult_vec_x = lambda s, exp_product: lr.hess_mult_vec(Phi, y,mu, gamma, exp_product,s,mult)\n",
    "extra_func = lambda x: np.exp(-y*(Phi @ x+mu))\n",
    "linear_oracle = lambda grad: lr.linear_oracle_l1(grad, r)\n",
    "# llo_oracle = lambda x, r, grad, rho: pr.llo_oracle(x, r, grad,rho)\n",
    "prox_func = lambda x, L: lr.projection_l1(x,r)"
   ]
  },
  {
   "cell_type": "markdown",
   "metadata": {},
   "source": [
    "## Run FW"
   ]
  },
  {
   "cell_type": "code",
   "execution_count": 16,
   "metadata": {
    "scrolled": true
   },
   "outputs": [
    {
     "name": "stdout",
     "output_type": "stream",
     "text": [
      "icml for a5a started!\n",
      "********* Algorithm starts *********\n",
      "iter = 1, stepsize = 0.0009708048255842849, criterion = 9.999999999999999e-11, upper_bound=0.06931471805599453, lower_bound=0.026184488959438555, real_Gap=0.04313022909655597\n",
      "iter = 1000, stepsize = 0.0003590866980244067, criterion = 9.999999999999999e-11, upper_bound=0.05382585337628295, lower_bound=0.05371606522050467, real_Gap=0.00010978815577827872\n",
      "iter = 2000, stepsize = 0.0007043653987057228, criterion = 9.999999999999999e-11, upper_bound=0.053787812892409755, lower_bound=0.05373468946652804, real_Gap=5.312342588171398e-05\n",
      "iter = 3000, stepsize = 0.00018970004727968074, criterion = 9.999999999999999e-11, upper_bound=0.053774283731557376, lower_bound=0.05373762950677946, real_Gap=3.665422477791558e-05\n",
      "iter = 4000, stepsize = 0.00016965194746109758, criterion = 9.999999999999999e-11, upper_bound=0.05376731694304199, lower_bound=0.05374005785362956, real_Gap=2.7259089412430548e-05\n",
      "iter = 5000, stepsize = 0.00014330240838406554, criterion = 9.999999999999999e-11, upper_bound=0.05376305909973343, lower_bound=0.05374090262019096, real_Gap=2.2156479542470575e-05\n",
      "iter = 6000, stepsize = 7.174131479304504e-05, criterion = 9.999999999999999e-11, upper_bound=0.05376018411928032, lower_bound=0.053742204648891095, real_Gap=1.797947038922193e-05\n",
      "iter = 7000, stepsize = 7.653437757158096e-05, criterion = 9.999999999999999e-11, upper_bound=0.05375811879760096, lower_bound=0.053742204648891095, real_Gap=1.5914148709862685e-05\n",
      "iter = 8000, stepsize = 0.0001040868075520818, criterion = 9.999999999999999e-11, upper_bound=0.053756551008040984, lower_bound=0.05374223751169366, real_Gap=1.431349634732626e-05\n",
      "iter = 9000, stepsize = 6.447183375667876e-05, criterion = 9.999999999999999e-11, upper_bound=0.053755325437891174, lower_bound=0.053743024372974776, real_Gap=1.230106491639793e-05\n",
      "iter = 10000, stepsize = 5.8305072598688933e-05, criterion = 9.999999999999999e-11, upper_bound=0.05375434307704097, lower_bound=0.05374376458327712, real_Gap=1.0578493763846453e-05\n",
      "iter = 11000, stepsize = 4.658729232007479e-05, criterion = 9.999999999999999e-11, upper_bound=0.053753538030644046, lower_bound=0.05374376458327712, real_Gap=9.77344736692587e-06\n",
      "iter = 12000, stepsize = 4.703848961569467e-05, criterion = 9.999999999999999e-11, upper_bound=0.05375286220214977, lower_bound=0.05374376458327712, real_Gap=9.09761887264715e-06\n",
      "iter = 13000, stepsize = 5.901302356447328e-05, criterion = 9.999999999999999e-11, upper_bound=0.05375228917928573, lower_bound=0.05374376458327712, real_Gap=8.524596008606389e-06\n",
      "iter = 14000, stepsize = 0.00011377368486804949, criterion = 9.999999999999999e-11, upper_bound=0.05375179744942709, lower_bound=0.05374376458327712, real_Gap=8.032866149969287e-06\n",
      "iter = 15000, stepsize = 3.336954426070958e-05, criterion = 9.999999999999999e-11, upper_bound=0.0537513697070813, lower_bound=0.05374406501322938, real_Gap=7.304693851920008e-06\n",
      "iter = 16000, stepsize = 3.005765961646676e-05, criterion = 9.999999999999999e-11, upper_bound=0.05375099506960179, lower_bound=0.05374406501322938, real_Gap=6.930056372408955e-06\n",
      "iter = 17000, stepsize = 3.6609812988528855e-05, criterion = 9.999999999999999e-11, upper_bound=0.05375066460808882, lower_bound=0.053744075972835786, real_Gap=6.588635253032549e-06\n",
      "iter = 18000, stepsize = 2.7400760577715085e-05, criterion = 9.999999999999999e-11, upper_bound=0.053750370327368145, lower_bound=0.053744075972835786, real_Gap=6.29435453235877e-06\n",
      "iter = 19000, stepsize = 2.7150474249394986e-05, criterion = 9.999999999999999e-11, upper_bound=0.05375010624061624, lower_bound=0.05374431949824739, real_Gap=5.7867423688476305e-06\n",
      "iter = 20000, stepsize = 0.00016294332371356412, criterion = 9.999999999999999e-11, upper_bound=0.05374986898636743, lower_bound=0.05374431949824739, real_Gap=5.549488120037971e-06\n",
      "iter = 21000, stepsize = 2.1977702912440977e-05, criterion = 9.999999999999999e-11, upper_bound=0.053749653659213054, lower_bound=0.05374438248063278, real_Gap=5.271178580276703e-06\n",
      "iter = 22000, stepsize = 2.4983773008419862e-05, criterion = 9.999999999999999e-11, upper_bound=0.05374945752416314, lower_bound=0.05374438248063278, real_Gap=5.0750435303600905e-06\n",
      "iter = 23000, stepsize = 3.342257721531243e-05, criterion = 9.999999999999999e-11, upper_bound=0.053749278157332755, lower_bound=0.05374445866001071, real_Gap=4.819497322047783e-06\n",
      "iter = 24000, stepsize = 2.3397924443005723e-05, criterion = 9.999999999999999e-11, upper_bound=0.05374911372678258, lower_bound=0.05374445866001071, real_Gap=4.655066771871996e-06\n",
      "iter = 25000, stepsize = 1.5189336239067205e-05, criterion = 9.999999999999999e-11, upper_bound=0.0537489626326586, lower_bound=0.05374445866001071, real_Gap=4.503972647895704e-06\n",
      "iter = 26000, stepsize = 2.1535829819316536e-05, criterion = 9.999999999999999e-11, upper_bound=0.05374882290571667, lower_bound=0.05374445866001071, real_Gap=4.3642457059622775e-06\n",
      "iter = 27000, stepsize = 0.00011893518672172386, criterion = 9.999999999999999e-11, upper_bound=0.05374869346434923, lower_bound=0.0537445273362047, real_Gap=4.166128144529602e-06\n",
      "iter = 28000, stepsize = 2.133995038396813e-05, criterion = 9.999999999999999e-11, upper_bound=0.05374857294947079, lower_bound=0.0537445273362047, real_Gap=4.04561326608488e-06\n",
      "iter = 29000, stepsize = 2.657519167915999e-05, criterion = 9.999999999999999e-11, upper_bound=0.05374846061554909, lower_bound=0.05374460458223189, real_Gap=3.856033317199692e-06\n",
      "iter = 30000, stepsize = 1.6068125693375805e-05, criterion = 9.999999999999999e-11, upper_bound=0.05374835589964026, lower_bound=0.053744645534209275, real_Gap=3.710365430988072e-06\n",
      "iter = 31000, stepsize = 4.579894908947771e-05, criterion = 9.999999999999999e-11, upper_bound=0.05374825785661932, lower_bound=0.053744645534209275, real_Gap=3.6123224100431672e-06\n",
      "iter = 32000, stepsize = 1.6243204231759702e-05, criterion = 9.999999999999999e-11, upper_bound=0.05374816599605931, lower_bound=0.053744645534209275, real_Gap=3.520461850037293e-06\n",
      "iter = 33000, stepsize = 1.8168949630477775e-05, criterion = 9.999999999999999e-11, upper_bound=0.05374807936494669, lower_bound=0.0537447602000361, real_Gap=3.3191649105868137e-06\n",
      "iter = 34000, stepsize = 1.5275551877018614e-05, criterion = 9.999999999999999e-11, upper_bound=0.05374799815270909, lower_bound=0.0537447602000361, real_Gap=3.2379526729853225e-06\n",
      "iter = 35000, stepsize = 1.474782022307046e-05, criterion = 9.999999999999999e-11, upper_bound=0.053747921348729834, lower_bound=0.0537447602000361, real_Gap=3.161148693732463e-06\n",
      "iter = 36000, stepsize = 1.501440635507755e-05, criterion = 9.999999999999999e-11, upper_bound=0.053747848817319546, lower_bound=0.0537447602000361, real_Gap=3.0886172834448944e-06\n",
      "iter = 37000, stepsize = 8.876543388772285e-05, criterion = 9.999999999999999e-11, upper_bound=0.05374778019810086, lower_bound=0.0537447602000361, real_Gap=3.01999806475578e-06\n",
      "iter = 38000, stepsize = 1.813268804932732e-05, criterion = 9.999999999999999e-11, upper_bound=0.05374771513680117, lower_bound=0.0537447602000361, real_Gap=2.9549367650677505e-06\n",
      "iter = 39000, stepsize = 1.2350411386675687e-05, criterion = 9.999999999999999e-11, upper_bound=0.05374765340389524, lower_bound=0.05374484795653666, real_Gap=2.8054473585822914e-06\n",
      "iter = 40000, stepsize = 3.413880592318441e-05, criterion = 9.999999999999999e-11, upper_bound=0.05374759492599979, lower_bound=0.05374484795653666, real_Gap=2.746969463132687e-06\n",
      "iter = 41000, stepsize = 3.3782864433624985e-05, criterion = 9.999999999999999e-11, upper_bound=0.053747539027296606, lower_bound=0.05374484795653666, real_Gap=2.691070759945624e-06\n",
      "iter = 42000, stepsize = 1.3947063434095613e-05, criterion = 9.999999999999999e-11, upper_bound=0.0537474858771166, lower_bound=0.05374484795653666, real_Gap=2.6379205799384464e-06\n",
      "iter = 43000, stepsize = 1.3231541638639279e-05, criterion = 9.999999999999999e-11, upper_bound=0.05374743509571557, lower_bound=0.05374489250204521, real_Gap=2.5425936703571406e-06\n",
      "iter = 44000, stepsize = 1.4692440484281934e-05, criterion = 9.999999999999999e-11, upper_bound=0.05374738655217552, lower_bound=0.05374489250204521, real_Gap=2.494050130308345e-06\n",
      "iter = 45000, stepsize = 1.2398507634745951e-05, criterion = 9.999999999999999e-11, upper_bound=0.05374734011380637, lower_bound=0.05374489250204521, real_Gap=2.4476117611582637e-06\n"
     ]
    },
    {
     "name": "stdout",
     "output_type": "stream",
     "text": [
      "iter = 46000, stepsize = 6.630734807850067e-05, criterion = 9.999999999999999e-11, upper_bound=0.05374729597409959, lower_bound=0.05374489250204521, real_Gap=2.4034720543797405e-06\n",
      "iter = 47000, stepsize = 1.0723785589618333e-05, criterion = 9.999999999999999e-11, upper_bound=0.05374725345757777, lower_bound=0.05374489250204521, real_Gap=2.3609555325557197e-06\n",
      "iter = 48000, stepsize = 3.62891115344233e-05, criterion = 9.999999999999999e-11, upper_bound=0.05374721283300403, lower_bound=0.05374489250204521, real_Gap=2.320330958816008e-06\n",
      "iter = 49000, stepsize = 1.0366058196606922e-05, criterion = 9.999999999999999e-11, upper_bound=0.053747173822332, lower_bound=0.05374489250204521, real_Gap=2.2813202867899562e-06\n",
      "iter = 50000, stepsize = 1.0326153691706996e-05, criterion = 9.999999999999999e-11, upper_bound=0.05374713638832212, lower_bound=0.05374489250204521, real_Gap=2.243886276905027e-06\n",
      "93.12467074394226\n",
      "icml for a5a finished!\n"
     ]
    },
    {
     "ename": "FileNotFoundError",
     "evalue": "[Errno 2] No such file or directory: '../data\\\\a4a'",
     "output_type": "error",
     "traceback": [
      "\u001b[1;31m---------------------------------------------------------------------------\u001b[0m",
      "\u001b[1;31mFileNotFoundError\u001b[0m                         Traceback (most recent call last)",
      "\u001b[1;32m<ipython-input-16-8f77f74e9036>\u001b[0m in \u001b[0;36m<module>\u001b[1;34m\u001b[0m\n\u001b[0;32m    118\u001b[0m \u001b[1;33m\u001b[0m\u001b[0m\n\u001b[0;32m    119\u001b[0m \u001b[1;32mfor\u001b[0m \u001b[0mproblem_name\u001b[0m \u001b[1;32min\u001b[0m \u001b[0mfiles\u001b[0m\u001b[1;33m:\u001b[0m\u001b[1;33m\u001b[0m\u001b[0m\n\u001b[1;32m--> 120\u001b[1;33m     \u001b[0mrun_fw\u001b[0m\u001b[1;33m(\u001b[0m\u001b[0mproblem_name\u001b[0m\u001b[1;33m)\u001b[0m\u001b[1;33m\u001b[0m\u001b[0m\n\u001b[0m",
      "\u001b[1;32m<ipython-input-16-8f77f74e9036>\u001b[0m in \u001b[0;36mrun_fw\u001b[1;34m(problem_name)\u001b[0m\n\u001b[0;32m     12\u001b[0m         \u001b[0mresults\u001b[0m \u001b[1;33m=\u001b[0m \u001b[1;33m{\u001b[0m\u001b[0mproblem_name\u001b[0m\u001b[1;33m:\u001b[0m \u001b[1;33m{\u001b[0m\u001b[1;33m}\u001b[0m\u001b[1;33m}\u001b[0m\u001b[1;33m\u001b[0m\u001b[0m\n\u001b[0;32m     13\u001b[0m \u001b[1;33m\u001b[0m\u001b[0m\n\u001b[1;32m---> 14\u001b[1;33m     \u001b[0mPhi\u001b[0m\u001b[1;33m,\u001b[0m \u001b[0my\u001b[0m \u001b[1;33m=\u001b[0m \u001b[0mload_svmlight_file\u001b[0m\u001b[1;33m(\u001b[0m\u001b[0mos\u001b[0m\u001b[1;33m.\u001b[0m\u001b[0mpath\u001b[0m\u001b[1;33m.\u001b[0m\u001b[0mjoin\u001b[0m\u001b[1;33m(\u001b[0m\u001b[1;34m'../data'\u001b[0m\u001b[1;33m,\u001b[0m \u001b[0mproblem_name\u001b[0m\u001b[1;33m)\u001b[0m\u001b[1;33m)\u001b[0m\u001b[1;33m\u001b[0m\u001b[0m\n\u001b[0m\u001b[0;32m     15\u001b[0m \u001b[1;33m\u001b[0m\u001b[0m\n\u001b[0;32m     16\u001b[0m     \u001b[1;31m# fix classes\u001b[0m\u001b[1;33m\u001b[0m\u001b[1;33m\u001b[0m\u001b[0m\n",
      "\u001b[1;32mC:\\ProgramData\\Anaconda3\\lib\\site-packages\\sklearn\\datasets\\_svmlight_format_io.py\u001b[0m in \u001b[0;36mload_svmlight_file\u001b[1;34m(f, n_features, dtype, multilabel, zero_based, query_id, offset, length)\u001b[0m\n\u001b[0;32m    153\u001b[0m     \"\"\"\n\u001b[0;32m    154\u001b[0m     return tuple(load_svmlight_files([f], n_features, dtype, multilabel,\n\u001b[1;32m--> 155\u001b[1;33m                                      zero_based, query_id, offset, length))\n\u001b[0m\u001b[0;32m    156\u001b[0m \u001b[1;33m\u001b[0m\u001b[0m\n\u001b[0;32m    157\u001b[0m \u001b[1;33m\u001b[0m\u001b[0m\n",
      "\u001b[1;32mC:\\ProgramData\\Anaconda3\\lib\\site-packages\\sklearn\\datasets\\_svmlight_format_io.py\u001b[0m in \u001b[0;36mload_svmlight_files\u001b[1;34m(files, n_features, dtype, multilabel, zero_based, query_id, offset, length)\u001b[0m\n\u001b[0;32m    295\u001b[0m     r = [_open_and_load(f, dtype, multilabel, bool(zero_based), bool(query_id),\n\u001b[0;32m    296\u001b[0m                         offset=offset, length=length)\n\u001b[1;32m--> 297\u001b[1;33m          for f in files]\n\u001b[0m\u001b[0;32m    298\u001b[0m \u001b[1;33m\u001b[0m\u001b[0m\n\u001b[0;32m    299\u001b[0m     if (zero_based is False or\n",
      "\u001b[1;32mC:\\ProgramData\\Anaconda3\\lib\\site-packages\\sklearn\\datasets\\_svmlight_format_io.py\u001b[0m in \u001b[0;36m<listcomp>\u001b[1;34m(.0)\u001b[0m\n\u001b[0;32m    295\u001b[0m     r = [_open_and_load(f, dtype, multilabel, bool(zero_based), bool(query_id),\n\u001b[0;32m    296\u001b[0m                         offset=offset, length=length)\n\u001b[1;32m--> 297\u001b[1;33m          for f in files]\n\u001b[0m\u001b[0;32m    298\u001b[0m \u001b[1;33m\u001b[0m\u001b[0m\n\u001b[0;32m    299\u001b[0m     if (zero_based is False or\n",
      "\u001b[1;32mC:\\ProgramData\\Anaconda3\\lib\\site-packages\\sklearn\\datasets\\_svmlight_format_io.py\u001b[0m in \u001b[0;36m_open_and_load\u001b[1;34m(f, dtype, multilabel, zero_based, query_id, offset, length)\u001b[0m\n\u001b[0;32m    180\u001b[0m                                 offset, length)\n\u001b[0;32m    181\u001b[0m     \u001b[1;32melse\u001b[0m\u001b[1;33m:\u001b[0m\u001b[1;33m\u001b[0m\u001b[0m\n\u001b[1;32m--> 182\u001b[1;33m         \u001b[1;32mwith\u001b[0m \u001b[0mclosing\u001b[0m\u001b[1;33m(\u001b[0m\u001b[0m_gen_open\u001b[0m\u001b[1;33m(\u001b[0m\u001b[0mf\u001b[0m\u001b[1;33m)\u001b[0m\u001b[1;33m)\u001b[0m \u001b[1;32mas\u001b[0m \u001b[0mf\u001b[0m\u001b[1;33m:\u001b[0m\u001b[1;33m\u001b[0m\u001b[0m\n\u001b[0m\u001b[0;32m    183\u001b[0m             \u001b[0mactual_dtype\u001b[0m\u001b[1;33m,\u001b[0m \u001b[0mdata\u001b[0m\u001b[1;33m,\u001b[0m \u001b[0mind\u001b[0m\u001b[1;33m,\u001b[0m \u001b[0mindptr\u001b[0m\u001b[1;33m,\u001b[0m \u001b[0mlabels\u001b[0m\u001b[1;33m,\u001b[0m \u001b[0mquery\u001b[0m \u001b[1;33m=\u001b[0m\u001b[0;31m \u001b[0m\u001b[0;31m\\\u001b[0m\u001b[1;33m\u001b[0m\u001b[0m\n\u001b[0;32m    184\u001b[0m                 _load_svmlight_file(f, dtype, multilabel, zero_based, query_id,\n",
      "\u001b[1;32mC:\\ProgramData\\Anaconda3\\lib\\site-packages\\sklearn\\datasets\\_svmlight_format_io.py\u001b[0m in \u001b[0;36m_gen_open\u001b[1;34m(f)\u001b[0m\n\u001b[0;32m    170\u001b[0m         \u001b[1;32mreturn\u001b[0m \u001b[0mBZ2File\u001b[0m\u001b[1;33m(\u001b[0m\u001b[0mf\u001b[0m\u001b[1;33m,\u001b[0m \u001b[1;34m\"rb\"\u001b[0m\u001b[1;33m)\u001b[0m\u001b[1;33m\u001b[0m\u001b[0m\n\u001b[0;32m    171\u001b[0m     \u001b[1;32melse\u001b[0m\u001b[1;33m:\u001b[0m\u001b[1;33m\u001b[0m\u001b[0m\n\u001b[1;32m--> 172\u001b[1;33m         \u001b[1;32mreturn\u001b[0m \u001b[0mopen\u001b[0m\u001b[1;33m(\u001b[0m\u001b[0mf\u001b[0m\u001b[1;33m,\u001b[0m \u001b[1;34m\"rb\"\u001b[0m\u001b[1;33m)\u001b[0m\u001b[1;33m\u001b[0m\u001b[0m\n\u001b[0m\u001b[0;32m    173\u001b[0m \u001b[1;33m\u001b[0m\u001b[0m\n\u001b[0;32m    174\u001b[0m \u001b[1;33m\u001b[0m\u001b[0m\n",
      "\u001b[1;31mFileNotFoundError\u001b[0m: [Errno 2] No such file or directory: '../data\\\\a4a'"
     ]
    }
   ],
   "source": [
    "files = ['a5a','a4a','w4a','a1a','a2a','a3a','a6a','a7a','a8a','a9a','w1a','w2a','w3a','w5a','w6a','w7a','w8a']\n",
    "def run_fw(problem_name):\n",
    "    out_dir = os.path.join('results', 'log_reg')\n",
    "    if not os.path.exists(out_dir):\n",
    "        os.mkdir(out_dir)\n",
    "\n",
    "    results_file = os.path.join(out_dir, problem_name + '.pckl')\n",
    "    if os.path.exists(results_file):\n",
    "        with open(results_file, 'rb') as f:\n",
    "            results = pickle.load(f)\n",
    "    else:\n",
    "        results = {problem_name: {}}\n",
    "\n",
    "    Phi, y = load_svmlight_file(os.path.join('../data', problem_name))\n",
    "\n",
    "    # fix classes\n",
    "    if max(y) == 2:\n",
    "        y = 2 * y - 3\n",
    "\n",
    "    N, n = Phi.shape\n",
    "\n",
    "    # normalize\n",
    "    for i, row in enumerate(Phi):\n",
    "        if np.sum(row.multiply(row)) != 0:\n",
    "            Phi[i] = row.multiply(1 / np.sqrt(np.sum(row.multiply(row))))\n",
    "\n",
    "    gamma = 1 / (np.sqrt(N)) \n",
    "    Mf = np.max(np.sqrt(np.sum(Phi.multiply(Phi),axis=1)))/np.sqrt(gamma)\n",
    "    mult = 1\n",
    "    Mf = Mf/np.sqrt(mult)\n",
    "    nu = 3\n",
    "    mu = 0\n",
    "    \n",
    "    gamma = 1 / (np.sqrt(N)) \n",
    "    Mf = np.max(np.sqrt(np.sum(Phi.multiply(Phi),axis=1)))\n",
    "    nu = 2\n",
    "    mult = 1/10\n",
    "    Mf = Mf*mult\n",
    "    \n",
    "    #running parameters\n",
    "    x0 = np.zeros(n)\n",
    "    r = n*0.05\n",
    "    terminate_tol = 1e-20\n",
    "    \n",
    "    #parameters for FW\n",
    "    FW_params={\n",
    "        'iter_FW':50000,\n",
    "        'line_search_tol':1e-10,\n",
    "        'rho':np.sqrt(n), #parameters for ll00\n",
    "        'diam_X':2,\n",
    "        'sigma_f':1,                   \n",
    "    }\n",
    "    \n",
    "    \n",
    "    sc_params={\n",
    "        #parameters for SCOPT\n",
    "        'iter_SC': 1000,\n",
    "        'Lest': 'backtracking',#,'estimate', #estimate L\n",
    "        'use_two_phase':False,\n",
    "        #FISTA parameters\n",
    "        'fista_type': 'mfista',\n",
    "        'fista_tol': 1e-5,\n",
    "        'fista_iter': 1000,\n",
    "        #Conjugate Gradient Parameters\n",
    "        'conj_grad_tol':1e-5,\n",
    "        'conj_grad_iter':1000,\n",
    "    }\n",
    "\n",
    "    func_x = lambda x: lr.log_reg(Phi, y, x, mu, gamma,mult)\n",
    "    func_beta = lambda x, s, beta, exp_product, exp_product_s:lr.log_reg(Phi, y, (1 - beta) * x + beta * s, mu,gamma,mult,np.exp(np.log(exp_product)*(1-beta)+np.log(exp_product_s)*beta))\n",
    "    grad_x = lambda x, exp_product: lr.grad_log_reg(Phi, y, x,  mu, gamma, exp_product,mult)\n",
    "    grad_beta = lambda x, s, beta, exp_product, exp_product_s: lr.grad_log_reg(Phi, y, (1 - beta) * x + beta * s, mu, gamma, (1 - beta) * exp_product + beta * exp_product_s,mult)\n",
    "    hess_x = lambda s, exp_product: lr.hess(Phi, y, mu, gamma, exp_product,s,mult)\n",
    "    hess_mult_x = lambda s, exp_product: lr.hess_mult_log_reg(Phi, y, mu, gamma, exp_product,s,mult)\n",
    "    hess_mult_vec_x = lambda s, exp_product: lr.hess_mult_vec(Phi, y,mu, gamma, exp_product,s,mult)\n",
    "    extra_func = lambda x: np.exp(-y*(Phi @ x+mu))\n",
    "    linear_oracle = lambda grad: lr.linear_oracle_l1(grad, r)\n",
    "    # llo_oracle = lambda x, r, grad, rho: pr.llo_oracle(x, r, grad,rho)\n",
    "    prox_func = lambda x, L: lr.projection_l1(x,r)\n",
    "\n",
    "    run_alpha_policies = [\"backtracking\", \"standard\", \"line_search\", \"icml\"]\n",
    "    run_alpha_policies = [\"icml\"]\n",
    "\n",
    "    for policy in run_alpha_policies:\n",
    "        print(f'{policy} for {problem_name} started!')\n",
    "        x, alpha_hist, Gap_hist, Q_hist, time_hist = frank_wolfe(func_x,\n",
    "                           func_beta,                                      \n",
    "                           grad_x,\n",
    "                           grad_beta,\n",
    "                           hess_mult_x,\n",
    "                           extra_func,\n",
    "                           Mf,\n",
    "                           nu,\n",
    "                           linear_oracle,                                                    \n",
    "                           x0,\n",
    "                           FW_params,\n",
    "                           hess=None, \n",
    "                           lloo_oracle=None,                                                 \n",
    "                           alpha_policy=policy,                                                    \n",
    "                           eps=terminate_tol, \n",
    "                           print_every=1000, \n",
    "                           debug_info=False)\n",
    "  \n",
    "        results[problem_name][policy] = {\n",
    "            'x': x,\n",
    "            'alpha_hist': alpha_hist,\n",
    "            'Gap_hist': [z / mult for z in Gap_hist],\n",
    "            'Q_hist': [z / mult for z in Q_hist],\n",
    "            'time_hist': time_hist,\n",
    "        }\n",
    "\n",
    "        with open(results_file, 'wb') as f:\n",
    "            pickle.dump(results, f)    \n",
    "\n",
    "        print(f'{policy} for {problem_name} finished!')\n",
    "    return results\n",
    "\n",
    "\n",
    "for problem_name in files:\n",
    "    run_fw(problem_name)"
   ]
  }
 ],
 "metadata": {
  "kernelspec": {
   "display_name": "Python 3",
   "language": "python",
   "name": "python3"
  },
  "language_info": {
   "codemirror_mode": {
    "name": "ipython",
    "version": 3
   },
   "file_extension": ".py",
   "mimetype": "text/x-python",
   "name": "python",
   "nbconvert_exporter": "python",
   "pygments_lexer": "ipython3",
   "version": "3.7.0"
  }
 },
 "nbformat": 4,
 "nbformat_minor": 4
}
