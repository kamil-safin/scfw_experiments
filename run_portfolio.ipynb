{
 "cells": [
  {
   "cell_type": "code",
   "execution_count": 1,
   "metadata": {},
   "outputs": [],
   "source": [
    "import os\n",
    "import pickle\n",
    "import scipy.io\n",
    "import numpy as np\n",
    "from scfw.scopt import scopt\n",
    "from scfw.frank_wolfe import frank_wolfe\n",
    "import scfw.portfolio as pr\n",
    "import matplotlib.pyplot as plt"
   ]
  },
  {
   "cell_type": "code",
   "execution_count": 2,
   "metadata": {},
   "outputs": [],
   "source": [
    "results_folder = './results/'"
   ]
  },
  {
   "cell_type": "code",
   "execution_count": 3,
   "metadata": {},
   "outputs": [],
   "source": [
    "data_folder = '../data'\n",
    "\n",
    "problem_name = 'syn_1000_800_10_50_3'\n",
    "data = scipy.io.loadmat(os.path.join(data_folder, problem_name + '.mat'))\n",
    "R = data['W']\n",
    "results = {problem_name: {}}"
   ]
  },
  {
   "cell_type": "markdown",
   "metadata": {},
   "source": [
    "## Data preprocessing and parameters initialization"
   ]
  },
  {
   "cell_type": "code",
   "execution_count": 4,
   "metadata": {},
   "outputs": [],
   "source": [
    "N, n = R.shape\n",
    "Mf = 2\n",
    "nu = 3\n",
    "\n",
    "I = np.eye(n)\n",
    "Iv = np.ones(n)\n",
    "\n",
    "#running parameters\n",
    "x0 = np.ones(n) / n\n",
    "terminate_tol = 1e-10\n",
    "\n",
    "#parameters for FW\n",
    "FW_params={\n",
    "    'iter_FW':50000,\n",
    "    'line_search_tol':1e-10,\n",
    "    'rho':np.sqrt(n), #parameters for ll00\n",
    "    'diam_X':np.sqrt(2),\n",
    "    'sigma_f':1,                   \n",
    "}\n",
    "\n",
    "\n",
    "sc_params={\n",
    "    #parameters for SCOPT\n",
    "    'iter_SC': 1000,\n",
    "    'Lest': 'backtracking',#,'estimate', #estimate L\n",
    "    'use_two_phase':False,\n",
    "    #FISTA parameters\n",
    "    'fista_type': 'mfista',\n",
    "    'fista_tol': 1e-5,\n",
    "    'fista_iter': 1000,\n",
    "    #Conjugate Gradient Parameters\n",
    "    'conj_grad_tol':1e-5,\n",
    "    'conj_grad_iter':1000,\n",
    "}"
   ]
  },
  {
   "cell_type": "markdown",
   "metadata": {},
   "source": [
    "## Auxilary functions"
   ]
  },
  {
   "cell_type": "code",
   "execution_count": 5,
   "metadata": {},
   "outputs": [],
   "source": [
    "func_x = lambda x, Rx=None: pr.portfolio(R, x, Rx=Rx)\n",
    "grad_x = lambda x, dot_product: pr.grad_portfolio(R, x, dot_product)\n",
    "grad_beta = lambda x, s, beta, dot_product, dot_product_s: pr.grad_portfolio(R, (1 - beta) * x + beta * s, (1 - beta) * dot_product + beta * dot_product_s)\n",
    "hess_x = lambda x, dot_product: pr.hess_portfolio(R, x, dot_product)\n",
    "hess_mult_x = lambda x, dot_product: pr.hess_mult_portfolio(R, x, dot_product)\n",
    "hess_mult_vec_x = lambda s, dot_product: pr.hess_mult_vec(R, s, dot_product)\n",
    "extra_func = lambda x: R @ x\n",
    "linear_oracle = lambda grad: pr.linear_oracle_simplex(grad)\n",
    "llo_oracle = lambda x, r, grad, rho: pr.llo_oracle(x, r, grad,rho)\n",
    "prox_func = lambda x, L: pr.proj_simplex(x)"
   ]
  },
  {
   "cell_type": "markdown",
   "metadata": {},
   "source": [
    "## Run FW"
   ]
  },
  {
   "cell_type": "code",
   "execution_count": 6,
   "metadata": {
    "tags": [
     "outputPrepend",
     "outputPrepend",
     "outputPrepend",
     "outputPrepend",
     "outputPrepend",
     "outputPrepend",
     "outputPrepend",
     "outputPrepend",
     "outputPrepend",
     "outputPrepend",
     "outputPrepend",
     "outputPrepend"
    ]
   },
   "outputs": [
    {
     "output_type": "stream",
     "name": "stdout",
     "text": "********* Algorithm starts *********\niter = 1, stepsize = 0.9999999999417923, criterion = 0.999374804507163, upper_bound=0.030278094597530093, lower_bound=-5.158269983947936, real_Gap=5.188548078545466\nConvergence achieved!\niter = 149, stepsize = 5.820766091346741e-11, crit = 6.058417612168245e-11, upper_bound=-4.297026343108683, lower_bound=-4.297026343253867, real_Gap=1.4518430901944157e-10\n********* Algorithm starts *********\niter = 1, stepsize = 0.49959984730322254, criterion = 0.4992874997595289, upper_bound=0.030278094597530093, lower_bound=-5.158269983947936, real_Gap=5.188548078545466\niter = 1000, stepsize = 0.0005943903381538703, criterion = 0.0005910497664636464, upper_bound=-4.296283994679424, lower_bound=-4.297465244053374, real_Gap=0.0011812493739498109\niter = 2000, stepsize = 0.00027666912400390686, criterion = 0.00029474901522475995, upper_bound=-4.296657698459106, lower_bound=-4.297244159244738, real_Gap=0.0005864607856320703\niter = 3000, stepsize = 0.00022321809152925625, criterion = 0.00019584018807061675, upper_bound=-4.296781146785804, lower_bound=-4.297171174417226, real_Gap=0.00039002763142192975\niter = 4000, stepsize = 0.00044830167759760077, criterion = 0.00014662808028642136, upper_bound=-4.296842640426124, lower_bound=-4.297134820346063, real_Gap=0.00029217991993846226\niter = 5000, stepsize = 0.00012709479057529624, criterion = 0.00011717967511706843, upper_bound=-4.296879500824666, lower_bound=-4.297113175132627, real_Gap=0.0002336743079611736\niter = 6000, stepsize = 0.00014842249893238596, criterion = 9.758070000477509e-05, upper_bound=-4.296904026274552, lower_bound=-4.297098645679176, real_Gap=0.00019461940462406346\niter = 7000, stepsize = 0.00026993036382959377, criterion = 8.359791650691172e-05, upper_bound=-4.296921529433227, lower_bound=-4.2970882812682625, real_Gap=0.00016675183503522817\niter = 8000, stepsize = 7.35488016032083e-05, criterion = 7.311992869760448e-05, upper_bound=-4.296934662882662, lower_bound=-4.297080515551188, real_Gap=0.00014585266852584766\niter = 9000, stepsize = 6.120333994545139e-05, criterion = 6.502646460241508e-05, upper_bound=-4.296944871049005, lower_bound=-4.297074480075932, real_Gap=0.00012960902692693566\niter = 10000, stepsize = 6.678335193111848e-05, criterion = 5.85049766702376e-05, upper_bound=-4.296953031727421, lower_bound=-4.297069654566268, real_Gap=0.00011662283884739111\niter = 11000, stepsize = 0.00016271905446165624, criterion = 5.317226733011433e-05, upper_bound=-4.296959703229595, lower_bound=-4.297065708329546, real_Gap=0.0001060050999512896\niter = 12000, stepsize = 5.287937175856131e-05, criterion = 4.873045321011075e-05, upper_bound=-4.296965265975421, lower_bound=-4.297062442198365, real_Gap=9.717622294402872e-05\niter = 13000, stepsize = 6.842584434908477e-05, criterion = 4.497349709414024e-05, upper_bound=-4.296969968232574, lower_bound=-4.297059658527402, real_Gap=8.969029482841506e-05\niter = 14000, stepsize = 0.00013484342635632296, criterion = 4.175434742835145e-05, upper_bound=-4.296973997510653, lower_bound=-4.297057273411084, real_Gap=8.327590043055721e-05\niter = 15000, stepsize = 3.919433580505273e-05, criterion = 3.89652430558609e-05, upper_bound=-4.296977492718727, lower_bound=-4.297055206977676, real_Gap=7.771425894897988e-05\niter = 16000, stepsize = 3.440459347430969e-05, criterion = 3.65414066985669e-05, upper_bound=-4.296980550190806, lower_bound=-4.297053399356791, real_Gap=7.284916598493396e-05\niter = 17000, stepsize = 3.9263318696367934e-05, criterion = 3.438726883758761e-05, upper_bound=-4.296983246764604, lower_bound=-4.297051804792433, real_Gap=6.855802782901321e-05\niter = 18000, stepsize = 9.93948221491745e-05, criterion = 3.2472958627241054e-05, upper_bound=-4.296985642208682, lower_bound=-4.297050387713426, real_Gap=6.474550474422358e-05\niter = 19000, stepsize = 3.3383742309192815e-05, criterion = 3.0760538293998904e-05, upper_bound=-4.296987787042064, lower_bound=-4.297049128450173, real_Gap=6.13414081085395e-05\niter = 20000, stepsize = 4.446077819004193e-05, criterion = 2.9219669343111545e-05, upper_bound=-4.296989715716984, lower_bound=-4.297047986933521, real_Gap=5.827121653645406e-05\niter = 21000, stepsize = 8.986689015739953e-05, criterion = 2.7825804649356184e-05, upper_bound=-4.296991460310431, lower_bound=-4.297046954334642, real_Gap=5.549402421145544e-05\niter = 22000, stepsize = 2.6715151715585547e-05, criterion = 2.655886537014079e-05, upper_bound=-4.296993047876401, lower_bound=-4.2970460157757095, real_Gap=5.2967899308420385e-05\niter = 23000, stepsize = 2.392726682755382e-05, criterion = 2.54100068139361e-05, upper_bound=-4.29699449713251, lower_bound=-4.297045158968691, real_Gap=5.066183618129827e-05\niter = 24000, stepsize = 2.7805028620072277e-05, criterion = 2.4349306539610346e-05, upper_bound=-4.296995825124152, lower_bound=-4.2970443736783, real_Gap=4.8548554148375445e-05\niter = 25000, stepsize = 7.154950708153822e-05, criterion = 2.3373608198238284e-05, upper_bound=-4.2969970461668305, lower_bound=-4.297043651307598, real_Gap=4.660514076704203e-05\niter = 26000, stepsize = 2.4390988097127054e-05, criterion = 2.247309145334333e-05, upper_bound=-4.2969981741414145, lower_bound=-4.297042989073389, real_Gap=4.481493197427966e-05\niter = 27000, stepsize = 3.292798334258806e-05, criterion = 2.163938742085842e-05, upper_bound=-4.296999217698035, lower_bound=-4.297042371487008, real_Gap=4.3153788972460916e-05\niter = 28000, stepsize = 6.738901305039966e-05, criterion = 2.0865325744714423e-05, upper_bound=-4.297000186517402, lower_bound=-4.297041798086189, real_Gap=4.1611568787125464e-05\niter = 29000, stepsize = 2.026332580475599e-05, criterion = 2.014473034797864e-05, upper_bound=-4.2970010894411175, lower_bound=-4.297041264294954, real_Gap=4.017485383656094e-05\niter = 30000, stepsize = 1.834155549025228e-05, criterion = 1.947679009479655e-05, upper_bound=-4.297001932051076, lower_bound=-4.297040766144166, real_Gap=3.8834093089690214e-05\niter = 31000, stepsize = 2.1523633693020885e-05, criterion = 1.8847460996775283e-05, upper_bound=-4.297002720031022, lower_bound=-4.297040300179226, real_Gap=3.758014820398614e-05\niter = 32000, stepsize = 5.58913709833128e-05, criterion = 1.825752699781361e-05, upper_bound=-4.297003458345805, lower_bound=-4.297039863379346, real_Gap=3.640503354063185e-05\niter = 33000, stepsize = 1.9214894684480848e-05, criterion = 1.7703403661950416e-05, upper_bound=-4.297004152455343, lower_bound=-4.297039455873318, real_Gap=3.530341797475245e-05\niter = 34000, stepsize = 2.6145851735860577e-05, criterion = 1.718192359777261e-05, upper_bound=-4.297004805206253, lower_bound=-4.297039069590745, real_Gap=3.4264384492388444e-05\niter = 35000, stepsize = 5.3905722993757914e-05, criterion = 1.6690286299668727e-05, upper_bound=-4.297005420537131, lower_bound=-4.29703870541471, real_Gap=3.328487757947585e-05\niter = 36000, stepsize = 1.6321551108950998e-05, criterion = 1.6225999677866997e-05, upper_bound=-4.297006002286165, lower_bound=-4.29703836150048, real_Gap=3.2359214315214047e-05\niter = 37000, stepsize = 1.4870146548253684e-05, criterion = 1.5789833220412758e-05, upper_bound=-4.297006552520682, lower_bound=-4.29703803620318, real_Gap=3.1483682497501775e-05\niter = 38000, stepsize = 1.7557256428786918e-05, criterion = 1.5373667305728476e-05, upper_bound=-4.2970070736255215, lower_bound=-4.297037728051597, real_Gap=3.0654426075749086e-05\niter = 39000, stepsize = 4.585599207463427e-05, criterion = 1.4978876291491755e-05, upper_bound=-4.297007567731955, lower_bound=-4.297037435724464, real_Gap=2.9867992509480246e-05\niter = 40000, stepsize = 1.5851057012938832e-05, criterion = 1.4603853021366009e-05, upper_bound=-4.2970080375055915, lower_bound=-4.297037159926683, real_Gap=2.912242109154306e-05\niter = 41000, stepsize = 2.168034347660095e-05, criterion = 1.4247150872017801e-05, upper_bound=-4.297008484003825, lower_bound=-4.29703689570936, real_Gap=2.8411705534914233e-05\niter = 42000, stepsize = 4.4918323983816106e-05, criterion = 1.3907455306623388e-05, upper_bound=-4.297008909162248, lower_bound=-4.297036644089394, real_Gap=2.77349271460281e-05\niter = 43000, stepsize = 1.3663587174835136e-05, criterion = 1.3583581582225186e-05, upper_bound=-4.297009314968827, lower_bound=-4.297036404189656, real_Gap=2.7089220829168426e-05\niter = 44000, stepsize = 1.2503634465282231e-05, criterion = 1.3276562589354902e-05, upper_bound=-4.297009702284315, lower_bound=-4.297036175210847, real_Gap=2.6472926531795338e-05\niter = 45000, stepsize = 1.4825241015643596e-05, criterion = 1.2981093772941775e-05, upper_bound=-4.297010072270221, lower_bound=-4.297035956421265, real_Gap=2.5884151043875647e-05\niter = 46000, stepsize = 3.887574178270954e-05, criterion = 1.2698489334943126e-05, upper_bound=-4.297010425976236, lower_bound=-4.297035747156553, real_Gap=2.532118031695063e-05\niter = 47000, stepsize = 1.3489509393238918e-05, criterion = 1.2427926640888836e-05, upper_bound=-4.297010764901582, lower_bound=-4.297035548179508, real_Gap=2.47832779258772e-05\niter = 48000, stepsize = 1.851764702993187e-05, criterion = 1.2168656111060618e-05, upper_bound=-4.29701108944326, lower_bound=-4.297035356135247, real_Gap=2.426669198651865e-05\niter = 49000, stepsize = 3.8499477623749834e-05, criterion = 1.1919981082775106e-05, upper_bound=-4.297011400680837, lower_bound=-4.297035171939681, real_Gap=2.3771258844007548e-05\niter = 50000, stepsize = 1.1750075806659304e-05, criterion = 1.168126545815596e-05, upper_bound=-4.297011699782177, lower_bound=-4.297034995121555, real_Gap=2.329533937839301e-05\n132.43556547164917\n********* Algorithm starts *********\niter = 1, stepsize = 0.6666666666666666, criterion = 0.6662498697102228, upper_bound=0.030278094597530093, lower_bound=-5.158269983947936, real_Gap=5.188548078545466\niter = 1000, stepsize = 0.001996007984031936, criterion = 0.0010730603781503095, upper_bound=-4.29701784545372, lower_bound=-4.297507711621907, real_Gap=0.0004898661681869143\niter = 2000, stepsize = 0.000999000999000999, criterion = 0.0005362588122281567, upper_bound=-4.297024258218537, lower_bound=-4.297174819984864, real_Gap=0.00015056176632732843\niter = 3000, stepsize = 0.0006662225183211193, criterion = 0.0003576864984787305, upper_bound=-4.297025428076212, lower_bound=-4.297162607623422, real_Gap=0.00013717954720959824\niter = 4000, stepsize = 0.0004997501249375312, criterion = 0.00026823612787078377, upper_bound=-4.297025828844587, lower_bound=-4.297062981898783, real_Gap=3.7153054195826485e-05\niter = 5000, stepsize = 0.00039984006397441024, criterion = 0.00021451387834680333, upper_bound=-4.297026008852559, lower_bound=-4.297062981898783, real_Gap=3.6973046223742756e-05\niter = 6000, stepsize = 0.0003332222592469177, criterion = 0.00017883080153920756, upper_bound=-4.297026115316663, lower_bound=-4.29705784213645, real_Gap=3.1726819787358806e-05\niter = 7000, stepsize = 0.00028563267637817766, criterion = 0.00015326765297314987, upper_bound=-4.297026179463598, lower_bound=-4.29705784213645, real_Gap=3.166267285159563e-05\niter = 8000, stepsize = 0.00024993751562109475, criterion = 0.0001340942198755405, upper_bound=-4.297026211845834, lower_bound=-4.297048429790001, real_Gap=2.2217944167124415e-05\niter = 9000, stepsize = 0.00022217285047767163, criterion = 0.00011917597052706336, upper_bound=-4.297026244614747, lower_bound=-4.297048429790001, real_Gap=2.2185175254207934e-05\niter = 10000, stepsize = 0.0001999600079984003, criterion = 0.00010727841131970902, upper_bound=-4.29702626040582, lower_bound=-4.297046969931969, real_Gap=2.0709526149076396e-05\niter = 11000, stepsize = 0.00018178512997636792, criterion = 9.752665425881947e-05, upper_bound=-4.297026275550836, lower_bound=-4.297046279922217, real_Gap=2.0004371380721864e-05\niter = 12000, stepsize = 0.00016663889351774705, criterion = 8.938887524845228e-05, upper_bound=-4.297026285303254, lower_bound=-4.297046279922217, real_Gap=1.9994618963181665e-05\niter = 13000, stepsize = 0.00015382248884786957, criterion = 8.25088424485976e-05, upper_bound=-4.2970262943517445, lower_bound=-4.297042033830214, real_Gap=1.5739478469889434e-05\niter = 14000, stepsize = 0.00014283673760891302, criterion = 7.662380511568109e-05, upper_bound=-4.297026301900998, lower_bound=-4.297042033830214, real_Gap=1.5731929216222795e-05\niter = 15000, stepsize = 0.0001333155579256099, criterion = 7.151234194890146e-05, upper_bound=-4.297026306288002, lower_bound=-4.297042033830214, real_Gap=1.5727542212573553e-05\niter = 16000, stepsize = 0.00012498437695288088, criterion = 6.703742429247343e-05, upper_bound=-4.297026312072187, lower_bound=-4.297042033830214, real_Gap=1.57217580269986e-05\niter = 17000, stepsize = 0.00011763321962122103, criterion = 6.30931756723454e-05, upper_bound=-4.297026315182737, lower_bound=-4.297036682911674, real_Gap=1.0367728937588083e-05\niter = 18000, stepsize = 0.00011109876680368848, criterion = 5.958628892102674e-05, upper_bound=-4.297026318009113, lower_bound=-4.297036682911674, real_Gap=1.036490256112188e-05\niter = 19000, stepsize = 0.00010525207872855489, criterion = 5.6455665851816996e-05, upper_bound=-4.297026320496318, lower_bound=-4.297036682911674, real_Gap=1.0362415356013344e-05\niter = 20000, stepsize = 9.999000099990002e-05, criterion = 5.363133672817802e-05, upper_bound=-4.297026322519861, lower_bound=-4.297036682911674, real_Gap=1.0360391812902492e-05\niter = 21000, stepsize = 9.522902580706599e-05, criterion = 5.107686655843563e-05, upper_bound=-4.297026325261179, lower_bound=-4.297036682911674, real_Gap=1.0357650495507187e-05\niter = 22000, stepsize = 9.09008271975275e-05, criterion = 4.8754014353821355e-05, upper_bound=-4.297026326435169, lower_bound=-4.297036682911674, real_Gap=1.0356476504824741e-05\niter = 23000, stepsize = 8.694896095991653e-05, criterion = 4.6631904717492425e-05, upper_bound=-4.297026328138058, lower_bound=-4.297036377131944, real_Gap=1.0048993885902746e-05\niter = 24000, stepsize = 8.332638946754438e-05, criterion = 4.469263263235136e-05, upper_bound=-4.2970263292057025, lower_bound=-4.297036377131944, real_Gap=1.0047926241263383e-05\niter = 25000, stepsize = 7.999360051195904e-05, criterion = 4.2905478507428576e-05, upper_bound=-4.297026329989801, lower_bound=-4.2970339393288635, real_Gap=7.609339062852882e-06\niter = 26000, stepsize = 7.691716021844474e-05, criterion = 4.125335061693168e-05, upper_bound=-4.2970263313921535, lower_bound=-4.2970339393288635, real_Gap=7.607936709952412e-06\niter = 27000, stepsize = 7.406858751203614e-05, criterion = 3.97247244853744e-05, upper_bound=-4.297026331957666, lower_bound=-4.2970339393288635, real_Gap=7.607371197870805e-06\niter = 28000, stepsize = 7.142346975216056e-05, criterion = 3.830822945203205e-05, upper_bound=-4.297026333008412, lower_bound=-4.297033067638415, real_Gap=6.734630003002451e-06\niter = 29000, stepsize = 6.896076132680504e-05, criterion = 3.698809484122507e-05, upper_bound=-4.297026333649004, lower_bound=-4.297033067638415, real_Gap=6.733989410534491e-06\niter = 30000, stepsize = 6.666222251849876e-05, criterion = 3.575370857807924e-05, upper_bound=-4.297026334149592, lower_bound=-4.297033067638415, real_Gap=6.733488822519007e-06\niter = 31000, stepsize = 6.451196696987291e-05, criterion = 3.460107541070782e-05, upper_bound=-4.297026334782393, lower_bound=-4.297033067638415, real_Gap=6.732856022040323e-06\niter = 32000, stepsize = 6.249609399412537e-05, criterion = 3.352025301783208e-05, upper_bound=-4.297026335114217, lower_bound=-4.297032051005281, real_Gap=5.715891063573508e-06\niter = 33000, stepsize = 6.0602387734076725e-05, criterion = 3.250329784191084e-05, upper_bound=-4.297026335846457, lower_bound=-4.297032051005281, real_Gap=5.715158823527133e-06\niter = 34000, stepsize = 5.88200694076819e-05, criterion = 3.154685354227394e-05, upper_bound=-4.297026336166256, lower_bound=-4.297032051005281, real_Gap=5.714839024228979e-06\niter = 35000, stepsize = 5.713959202331295e-05, criterion = 3.064535241092813e-05, upper_bound=-4.297026336619576, lower_bound=-4.297030080790304, real_Gap=3.7441707281260506e-06\niter = 36000, stepsize = 5.555246930726071e-05, criterion = 2.9793696158595482e-05, upper_bound=-4.297026336956854, lower_bound=-4.297030080790304, real_Gap=3.743833449476597e-06\niter = 37000, stepsize = 5.4051132371223176e-05, criterion = 2.898992422413281e-05, upper_bound=-4.297026337178299, lower_bound=-4.297030080790304, real_Gap=3.743612004392105e-06\niter = 38000, stepsize = 5.2628809010052104e-05, criterion = 2.8226649306860412e-05, upper_bound=-4.29702633771251, lower_bound=-4.297030080790304, real_Gap=3.743077793494365e-06\niter = 39000, stepsize = 5.127942156812471e-05, criterion = 2.750274807279884e-05, upper_bound=-4.297026337866534, lower_bound=-4.297030080790304, real_Gap=3.7429237700337126e-06\niter = 40000, stepsize = 4.999750012499375e-05, criterion = 2.6815841899288877e-05, upper_bound=-4.297026338177693, lower_bound=-4.297030080790304, real_Gap=3.7426126109352253e-06\niter = 41000, stepsize = 4.877810838495683e-05, criterion = 2.6160095277452134e-05, upper_bound=-4.297026338386572, lower_bound=-4.297030080790304, real_Gap=3.7424037317990155e-06\niter = 42000, stepsize = 4.7616780153326035e-05, criterion = 2.553837966880358e-05, upper_bound=-4.297026338569135, lower_bound=-4.297030080790304, real_Gap=3.742221168501203e-06\niter = 43000, stepsize = 4.650946467606158e-05, criterion = 2.4944736683292128e-05, upper_bound=-4.297026338939649, lower_bound=-4.297030080790304, real_Gap=3.7418506551034625e-06\niter = 44000, stepsize = 4.545247943275306e-05, criterion = 2.437716088534947e-05, upper_bound=-4.297026339044326, lower_bound=-4.297030080790304, real_Gap=3.7417459779476303e-06\niter = 45000, stepsize = 4.444246922359006e-05, criterion = 2.383678185400509e-05, upper_bound=-4.297026339222001, lower_bound=-4.297030080790304, real_Gap=3.7415683022956614e-06\niter = 46000, stepsize = 4.347637059258293e-05, criterion = 2.33178704553052e-05, upper_bound=-4.297026339390214, lower_bound=-4.297030080790304, real_Gap=3.741400089296576e-06\niter = 47000, stepsize = 4.255138079230671e-05, criterion = 2.2821914596793256e-05, upper_bound=-4.2970263395302615, lower_bound=-4.297028637572807, real_Gap=2.2980425455898512e-06\niter = 48000, stepsize = 4.1664930627890504e-05, criterion = 2.234606692542512e-05, upper_bound=-4.297026339719196, lower_bound=-4.297028637572807, real_Gap=2.297853611388234e-06\niter = 49000, stepsize = 4.0814660626096896e-05, criterion = 2.1889655062457047e-05, upper_bound=-4.297026339826468, lower_bound=-4.297028637572807, real_Gap=2.2977463389750596e-06\niter = 50000, stepsize = 3.999840006399744e-05, criterion = 2.1452709513742193e-05, upper_bound=-4.297026340003013, lower_bound=-4.297028637572807, real_Gap=2.297569793974219e-06\n119.08284020423889\n"
    }
   ],
   "source": [
    "run_alpha_policies = [\"line_search\",\"icml\", \"standard\"]\n",
    "#run_alpha_policies = ['new_lloo','lloo']\n",
    "#run_alpha_policies = ['backtracking']\n",
    "\n",
    "\n",
    "for policy in run_alpha_policies:\n",
    "    x, alpha_hist, Gap_hist, Q_hist, time_hist, grad_hist = frank_wolfe(func_x,\n",
    "                       grad_x,\n",
    "                       grad_beta,\n",
    "                       hess_mult_x,\n",
    "                       extra_func,                                                    \n",
    "                       Mf,\n",
    "                       nu,\n",
    "                       linear_oracle,                                                    \n",
    "                       x0,\n",
    "                       FW_params,\n",
    "                       hess=hess_x, \n",
    "                       lloo_oracle=llo_oracle,                                                 \n",
    "                       alpha_policy=policy,                                                    \n",
    "                       eps=terminate_tol, \n",
    "                       print_every=1000, \n",
    "                       debug_info=False)\n",
    "    \n",
    "    results[problem_name][policy] = {\n",
    "        'x': x,\n",
    "        'alpha_hist': alpha_hist,\n",
    "        'Gap_hist': Gap_hist,\n",
    "        'Q_hist': Q_hist,\n",
    "        'time_hist': time_hist,\n",
    "        'grad_hist': grad_hist\n",
    "    }"
   ]
  },
  {
   "cell_type": "markdown",
   "metadata": {},
   "source": [
    "## Run SCOPT"
   ]
  },
  {
   "cell_type": "code",
   "execution_count": 7,
   "metadata": {},
   "outputs": [
    {
     "output_type": "stream",
     "name": "stdout",
     "text": "Fista err = 9.939e-06; Subiter = 119; subproblem converged!\n\niter =    1, stepsize = 5.194e-01, rdiff = 5.792e-01 , f = 0.0302781\n\niter =    2, stepsize = 6.923e-01, rdiff = 2.797e-01 , f = -2.3233\n\niter =    3, stepsize = 8.807e-01, rdiff = 8.542e-02 , f = -3.71065\n\nFista err = 9.884e-06; Subiter =  15; subproblem converged!\n\niter =    4, stepsize = 9.845e-01, rdiff = 9.939e-03 , f = -4.22803\n\nFista err = 5.447e-06; Subiter =   3; subproblem converged!\n\niter =    5, stepsize = 9.998e-01, rdiff = 1.299e-04 , f = -4.29596\n\nFista err = 1.479e-08; Subiter =   2; subproblem converged!\n\niter =    6, stepsize = 1.000e+00, rdiff = 1.128e-06 , f = -4.29703\n\nFista err = 2.801e-08; Subiter =   2; subproblem converged!\n\niter =    7, stepsize = 1.000e+00, rdiff = 5.706e-08 , f = -4.29703\n\nFista err = 1.050e-10; Subiter =   2; subproblem converged!\n\niter =    8, stepsize = 1.000e+00, rdiff = 3.481e-09 , f = -4.29703\n\nFista err = 3.194e-11; Subiter =   2; subproblem converged!\n\niter =    9, stepsize = 1.000e+00, rdiff = 4.301e-07 , f = -4.29703\n\nFista err = 3.194e-11; Subiter =   2; subproblem converged!\n\nboo\nConvergence achieved!\niter =   10, stepsize = 0.000e+00, rdiff = 0.000e+00,value=-4.29703\n\n4.931490421295166\n"
    }
   ],
   "source": [
    "x, alpha_hist, Q_hist, time_hist, grad_hist = scopt(func_x,\n",
    "        grad_x,\n",
    "        hess_mult_x,\n",
    "        hess_mult_vec_x,\n",
    "        Mf,\n",
    "        nu,\n",
    "        prox_func,\n",
    "        x0,  \n",
    "        sc_params,                                              \n",
    "        eps=terminate_tol,                                              \n",
    "        print_every=1)\n",
    "    \n",
    "results[problem_name]['scopt'] = {\n",
    "    'x': x,\n",
    "    'alpha_hist': alpha_hist,\n",
    "    'Gap_hist': Gap_hist,\n",
    "    'Q_hist': Q_hist,\n",
    "    'time_hist': time_hist,\n",
    "    'grad_hist': grad_hist\n",
    "}"
   ]
  },
  {
   "cell_type": "code",
   "execution_count": 8,
   "metadata": {},
   "outputs": [],
   "source": [
    "with open(os.path.join(results_folder, 'portfolio', problem_name + '.pckl'), 'wb') as f:\n",
    "    pickle.dump(results, f)"
   ]
  },
  {
   "cell_type": "code",
   "execution_count": null,
   "metadata": {},
   "outputs": [],
   "source": []
  }
 ],
 "metadata": {
  "file_extension": ".py",
  "kernelspec": {
   "display_name": "Python 3",
   "language": "python",
   "name": "python3"
  },
  "language_info": {
   "codemirror_mode": {
    "name": "ipython",
    "version": 3
   },
   "file_extension": ".py",
   "mimetype": "text/x-python",
   "name": "python",
   "nbconvert_exporter": "python",
   "pygments_lexer": "ipython3",
   "version": "3.7.3-final"
  },
  "mimetype": "text/x-python",
  "name": "python",
  "npconvert_exporter": "python",
  "pygments_lexer": "ipython3",
  "version": 3
 },
 "nbformat": 4,
 "nbformat_minor": 4
}