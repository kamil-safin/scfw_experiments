{
 "cells": [
  {
   "cell_type": "code",
   "execution_count": 1,
   "metadata": {},
   "outputs": [],
   "source": [
    "import os\n",
    "import pickle\n",
    "import scipy.io\n",
    "import numpy as np\n",
    "import numpy.linalg\n",
    "\n",
    "\n",
    "from scfw.scopt import scopt\n",
    "from scfw.prox_grad import prox_grad\n",
    "from scfw.frank_wolfe import frank_wolfe\n",
    "import scfw.portfolio as pr\n",
    "import matplotlib.pyplot as plt"
   ]
  },
  {
   "cell_type": "code",
   "execution_count": 2,
   "metadata": {},
   "outputs": [],
   "source": [
    "data_folder = '../data'\n",
    "\n",
    "problem_name = 'syn_1000_800_10_50'\n",
    "data = scipy.io.loadmat(os.path.join(data_folder, problem_name + '.mat'))\n",
    "R = data['W']\n",
    "results = {problem_name: {}}"
   ]
  },
  {
   "cell_type": "code",
   "execution_count": 3,
   "metadata": {},
   "outputs": [],
   "source": [
    "results_folder = './results/'\n",
    "results_file=os.path.join(results_folder,'portfolio',problem_name+'.pckl')\n",
    "results = {problem_name: {}}\n",
    "if os.path.isfile(results_file):\n",
    "    with open(results_file, \"rb\") as f:\n",
    "        try:\n",
    "            results=pickle.load(f)\n",
    "        except Exception: # so many things could go wrong, can't be more specific.\n",
    "            pass "
   ]
  },
  {
   "cell_type": "code",
   "execution_count": 4,
   "metadata": {},
   "outputs": [],
   "source": [
    "np.random.seed(42)"
   ]
  },
  {
   "cell_type": "markdown",
   "metadata": {},
   "source": [
    "## Data preprocessing and parameters initialization"
   ]
  },
  {
   "cell_type": "code",
   "execution_count": 4,
   "metadata": {},
   "outputs": [],
   "source": [
    "N, n = R.shape\n",
    "Mf = 2\n",
    "nu = 3\n",
    "\n",
    "I = np.eye(n)\n",
    "Iv = np.ones(n)\n",
    "\n",
    "#running parameters\n",
    "x0 = np.ones(n) / n\n",
    "f0,dot_product0=pr.portfolio(R,x0)\n",
    "sigma_f=min(np.linalg.eigvalsh(pr.hess_portfolio(R, x0, dot_product0)))\n",
    "if sigma_f<0:\n",
    "    sigma_f=1e-10\n",
    "terminate_tol = 1e-15\n",
    "\n",
    "#parameters for FW\n",
    "FW_params={\n",
    "    'iter_FW':50000,\n",
    "    'line_search_tol':1e-10,\n",
    "    'rho':np.sqrt(n), #parameters for ll00\n",
    "    'diam_X':np.sqrt(2),\n",
    "    'sigma_f':sigma_f,                   \n",
    "}\n",
    "\n",
    "\n",
    "sc_params={\n",
    "    #parameters for SCOPT\n",
    "    'iter_SC': 1000,\n",
    "    'Lest': 'backtracking',#,'estimate', #estimate L\n",
    "    'use_two_phase':False,\n",
    "    #FISTA parameters\n",
    "    'fista_type': 'mfista',\n",
    "    'fista_tol': 1e-5,\n",
    "    'fista_iter': 1000,\n",
    "    #Conjugate Gradient Parameters\n",
    "    'conj_grad_tol':1e-5,\n",
    "    'conj_grad_iter':1000,\n",
    "}"
   ]
  },
  {
   "cell_type": "markdown",
   "metadata": {},
   "source": [
    "## Auxilary functions"
   ]
  },
  {
   "cell_type": "code",
   "execution_count": 5,
   "metadata": {},
   "outputs": [],
   "source": [
    "func_x = lambda x: pr.portfolio(R,x)\n",
    "func_beta = lambda x, s, beta, dot_product, dot_product_s:lr.log_reg(R, (1 - beta) * x + beta * s, (dot_product)*(1-beta)+(dot_product_s)*beta,gamma)\n",
    "func_beta = lambda x, s, beta, dot_product, dot_product_s: pr.portfolio(R,(1 - beta) * x + beta * s,(1 - beta) * dot_product + beta * dot_product_s)\n",
    "grad_x = lambda x, dot_product: pr.grad_portfolio(R, x, dot_product)\n",
    "grad_beta = lambda x, s, beta, dot_product, dot_product_s: pr.grad_portfolio(R, (1 - beta) * x + beta * s, (1 - beta) * dot_product + beta * dot_product_s)\n",
    "hess_x = lambda x, dot_product: pr.hess_portfolio(R, x, dot_product)\n",
    "hess_mult_x = lambda x, dot_product: pr.hess_mult_portfolio(R, x, dot_product)\n",
    "hess_mult_vec_x = lambda s, dot_product: pr.hess_mult_vec(R, s, dot_product)\n",
    "extra_func = lambda x: R @ x\n",
    "linear_oracle = lambda grad: pr.linear_oracle_simplex(grad)\n",
    "llo_oracle = lambda x, r, grad, rho: pr.llo_oracle(x, r, grad,rho)\n",
    "prox_func = lambda x, L: pr.proj_simplex(x)"
   ]
  },
  {
   "cell_type": "markdown",
   "metadata": {},
   "source": [
    "## Prox grad"
   ]
  },
  {
   "cell_type": "code",
   "execution_count": 4,
   "metadata": {
    "tags": []
   },
   "outputs": [],
   "source": [
    "def run_prox_grad(problem_name):\n",
    "    data = scipy.io.loadmat(os.path.join(data_folder, problem_name + '.mat'))\n",
    "    R = data['W']\n",
    "    results = {problem_name: {}}\n",
    "    results_file = os.path.join(results_folder,'portfolio', problem_name + '.pckl')\n",
    "    results = {problem_name: {}}\n",
    "    if os.path.isfile(results_file):\n",
    "        with open(results_file, \"rb\") as f:\n",
    "                results=pickle.load(f)\n",
    "    N, n = R.shape\n",
    "    Mf = 2\n",
    "    nu = 3\n",
    "    I = np.eye(n)\n",
    "    Iv = np.ones(n)\n",
    "    #running parameters\n",
    "    x0 = np.ones(n) / n\n",
    "    terminate_tol = 1e-15\n",
    "    prox_params={\n",
    "        #parameters for SCOPT\n",
    "        'iter_prox': 50000,\n",
    "        'Lest': 'estimate',#,'estimate', #estimate L\n",
    "        'bb_type': 2,\n",
    "        #FISTA parameters\n",
    "        'fista_type': 'fista',\n",
    "        'fista_tol': 1e-5,\n",
    "        'fista_iter': 1000,\n",
    "        'btk_iters': 100,\n",
    "        'backtracking': True\n",
    "    }\n",
    "    func_x = lambda x: pr.portfolio(R,x)\n",
    "    func_beta = lambda x, s, beta, dot_product, dot_product_s:lr.log_reg(R, (1 - beta) * x + beta * s, (dot_product)*(1-beta)+(dot_product_s)*beta,gamma)\n",
    "    func_beta = lambda x, s, beta, dot_product, dot_product_s: pr.portfolio(R,(1 - beta) * x + beta * s,(1 - beta) * dot_product + beta * dot_product_s)\n",
    "    grad_x = lambda x, dot_product: pr.grad_portfolio(R, x, dot_product)\n",
    "    grad_beta = lambda x, s, beta, dot_product, dot_product_s: pr.grad_portfolio(R, (1 - beta) * x + beta * s, (1 - beta) * dot_product + beta * dot_product_s)\n",
    "    hess_x = lambda x, dot_product: pr.hess_portfolio(R, x, dot_product)\n",
    "    hess_mult_x = lambda x, dot_product: pr.hess_mult_portfolio(R, x, dot_product)\n",
    "    hess_mult_vec_x = lambda s, dot_product: pr.hess_mult_vec(R, s, dot_product)\n",
    "    extra_func = lambda x: R @ x\n",
    "    linear_oracle = lambda grad: pr.linear_oracle_simplex(grad)\n",
    "    llo_oracle = lambda x, r, grad, rho: pr.llo_oracle(x, r, grad,rho)\n",
    "    prox_func = lambda x, L: pr.proj_simplex(x)\n",
    "    \n",
    "    x, alpha_hist, Q_hist, time_hist = prox_grad(func_x,\n",
    "            grad_x,\n",
    "            prox_func,\n",
    "            Mf,\n",
    "            x0,\n",
    "            prox_params,\n",
    "            eps=terminate_tol,\n",
    "            print_every=10000)\n",
    "    results[problem_name]['prox_grad'] = {\n",
    "        'x': x,\n",
    "        'alpha_hist': alpha_hist,\n",
    "        'Q_hist': Q_hist,\n",
    "        'time_hist': time_hist,\n",
    "    }\n",
    "    with open(results_file, 'wb') as f:\n",
    "        pickle.dump(results, f)  "
   ]
  },
  {
   "cell_type": "code",
   "execution_count": 5,
   "metadata": {
    "tags": []
   },
   "outputs": [
    {
     "output_type": "stream",
     "name": "stdout",
     "text": "iter =    1, stepsize = 4.301e-02, rdiff = 5.800e-05 , f = 0.0563501\niter = 10000, stepsize = 1.000e+00, rdiff = 8.740e-15 , f = -4.57141\niter = 20000, stepsize = 1.000e+00, rdiff = 1.604e-14 , f = -4.57141\nConvergence achieved!\niter = 23371, stepsize = 1.000e+00, rdiff = 9.965e-16,value=-4.57141\n0.001995086669921875\niter =    1, stepsize = 3.731e-02, rdiff = 8.910e-05 , f = 0.0803035\niter = 10000, stepsize = 1.000e+00, rdiff = 2.129e-14 , f = -5.11902\niter = 20000, stepsize = 1.000e+00, rdiff = 2.177e-14 , f = -5.11902\niter = 30000, stepsize = 1.000e+00, rdiff = 2.746e-15 , f = -5.11902\nConvergence achieved!\niter = 36289, stepsize = 1.000e+00, rdiff = 9.935e-16,value=-5.11902\n0.004987001419067383\niter =    1, stepsize = 3.352e-02, rdiff = 3.972e-05 , f = 0.0212893\niter = 10000, stepsize = 1.000e+00, rdiff = 1.459e-14 , f = -4.47509\niter = 20000, stepsize = 1.000e+00, rdiff = 2.421e-14 , f = -4.47509\niter = 30000, stepsize = 1.000e+00, rdiff = 1.896e-14 , f = -4.47509\niter = 40000, stepsize = 1.000e+00, rdiff = 5.853e-15 , f = -4.47509\nConvergence achieved!\niter = 42863, stepsize = 1.000e+00, rdiff = 9.727e-16,value=-4.47509\n0.007978677749633789\niter =    1, stepsize = 4.563e-02, rdiff = 1.092e-04 , f = 0.021242\niter = 10000, stepsize = 1.000e+00, rdiff = 2.517e-14 , f = -3.95931\niter = 20000, stepsize = 1.000e+00, rdiff = 3.241e-14 , f = -3.95931\nConvergence achieved!\niter = 23035, stepsize = 1.000e+00, rdiff = 9.885e-16,value=-3.95931\n0.004987478256225586\niter =    1, stepsize = 3.621e-02, rdiff = 4.595e-05 , f = -0.0822446\niter = 10000, stepsize = 1.000e+00, rdiff = 1.223e-14 , f = -4.98384\niter = 20000, stepsize = 1.000e+00, rdiff = 3.725e-14 , f = -4.98384\niter = 30000, stepsize = 1.000e+00, rdiff = 2.370e-15 , f = -4.98384\nConvergence achieved!\niter = 34751, stepsize = 1.000e+00, rdiff = 9.918e-16,value=-4.98384\n0.004987955093383789\niter =    1, stepsize = 3.352e-02, rdiff = 3.972e-05 , f = 0.0212893\niter = 10000, stepsize = 1.000e+00, rdiff = 1.459e-14 , f = -4.47509\niter = 20000, stepsize = 1.000e+00, rdiff = 2.421e-14 , f = -4.47509\niter = 30000, stepsize = 1.000e+00, rdiff = 1.896e-14 , f = -4.47509\niter = 40000, stepsize = 1.000e+00, rdiff = 5.853e-15 , f = -4.47509\nConvergence achieved!\niter = 42863, stepsize = 1.000e+00, rdiff = 9.727e-16,value=-4.47509\n0.005982875823974609\niter =    1, stepsize = 4.564e-02, rdiff = 1.092e-04 , f = 0.0689425\niter = 10000, stepsize = 1.000e+00, rdiff = 7.208e-15 , f = -3.91091\niter = 20000, stepsize = 1.000e+00, rdiff = 3.323e-15 , f = -3.91091\nConvergence achieved!\niter = 23787, stepsize = 1.000e+00, rdiff = 9.985e-16,value=-3.91091\n0.004987239837646484\niter =    1, stepsize = 3.713e-02, rdiff = 4.480e-05 , f = -0.0538704\niter = 10000, stepsize = 1.000e+00, rdiff = 4.249e-14 , f = -5.39871\niter = 20000, stepsize = 1.000e+00, rdiff = 4.519e-14 , f = -5.39871\niter = 30000, stepsize = 1.000e+00, rdiff = 3.191e-14 , f = -5.39871\nConvergence achieved!\niter = 32524, stepsize = 1.000e+00, rdiff = 9.992e-16,value=-5.39871\n0.003988742828369141\niter =    1, stepsize = 3.343e-02, rdiff = 3.982e-05 , f = -0.0150952\niter = 10000, stepsize = 1.000e+00, rdiff = 4.629e-14 , f = -4.25605\niter = 20000, stepsize = 1.000e+00, rdiff = 1.886e-14 , f = -4.25605\niter = 30000, stepsize = 1.000e+00, rdiff = 1.756e-14 , f = -4.25605\niter = 40000, stepsize = 1.000e+00, rdiff = 1.294e-14 , f = -4.25605\nConvergence achieved!\niter = 41669, stepsize = 1.000e+00, rdiff = 9.977e-16,value=-4.25605\n0.005984306335449219\niter =    1, stepsize = 4.622e-02, rdiff = 1.078e-04 , f = 0.0302781\niter = 10000, stepsize = 1.000e+00, rdiff = 1.007e-14 , f = -4.29703\niter = 20000, stepsize = 1.000e+00, rdiff = 6.169e-15 , f = -4.29703\nConvergence achieved!\niter = 23816, stepsize = 1.000e+00, rdiff = 9.833e-16,value=-4.29703\n0.003989219665527344\niter =    1, stepsize = 3.588e-02, rdiff = 4.637e-05 , f = 0.0323058\niter = 10000, stepsize = 1.000e+00, rdiff = 2.065e-14 , f = -4.28157\niter = 20000, stepsize = 1.000e+00, rdiff = 1.138e-14 , f = -4.28157\niter = 30000, stepsize = 1.000e+00, rdiff = 1.052e-14 , f = -4.28157\nConvergence achieved!\niter = 32808, stepsize = 1.000e+00, rdiff = 9.681e-16,value=-4.28157\n0.005983591079711914\niter =    1, stepsize = 3.226e-02, rdiff = 4.126e-05 , f = -0.0233171\niter = 10000, stepsize = 1.000e+00, rdiff = 8.488e-15 , f = -4.81621\niter = 20000, stepsize = 1.000e+00, rdiff = 6.602e-15 , f = -4.81621\niter = 30000, stepsize = 1.000e+00, rdiff = 4.523e-14 , f = -4.81621\niter = 40000, stepsize = 1.000e+00, rdiff = 2.056e-14 , f = -4.81621\nConvergence achieved!\niter = 45283, stepsize = 1.000e+00, rdiff = 9.860e-16,value=-4.81621\n0.006981849670410156\n"
    }
   ],
   "source": [
    "data_list = ['syn_1000_800_10_50', 'syn_1000_1200_10_50', 'syn_1000_1500_10_50',\n",
    "             'syn_1000_800_10_50_1', 'syn_1000_1200_10_50_1', 'syn_1000_1500_10_50_1',\n",
    "            'syn_1000_800_10_50_2', 'syn_1000_1200_10_50_2', 'syn_1000_1500_10_50_2',\n",
    "            'syn_1000_800_10_50_3', 'syn_1000_1200_10_50_3', 'syn_1000_1500_10_50_3']\n",
    "for problem_name in data_list:\n",
    "    run_prox_grad(problem_name)"
   ]
  },
  {
   "cell_type": "markdown",
   "metadata": {},
   "source": [
    "## Run FW"
   ]
  },
  {
   "cell_type": "code",
   "execution_count": 9,
   "metadata": {
    "tags": []
   },
   "outputs": [
    {
     "output_type": "stream",
     "name": "stdout",
     "text": "backtracking\n********* Algorithm starts *********\niter=1, stepsize=1.00e+00, criterion=1.00e-05, upper_bound=0.05635009446772449, lower_bound=-5.176361103704231, real_Gap=5.23e+00, f_val=0.05635009446772449\niter=1000, stepsize=5.74e-08, criterion=3.59e-10, upper_bound=-4.571413550381484, lower_bound=-4.571413558395279, real_Gap=8.01e-09, f_val=-4.571413550381164\niter=2000, stepsize=7.53e-08, criterion=1.36e-11, upper_bound=-4.571413550381705, lower_bound=-4.571413556802577, real_Gap=6.42e-09, f_val=-4.5714135503814575\niter=3000, stepsize=2.50e-07, criterion=5.54e-12, upper_bound=-4.571413550382122, lower_bound=-4.5714135548766555, real_Gap=4.49e-09, f_val=-4.5714135503820446\niter=4000, stepsize=3.77e-08, criterion=5.54e-12, upper_bound=-4.571413550382257, lower_bound=-4.571413553696182, real_Gap=3.31e-09, f_val=-4.571413550382046\niter=5000, stepsize=4.04e-08, criterion=5.54e-12, upper_bound=-4.5714135503832996, lower_bound=-4.571413553696182, real_Gap=3.31e-09, f_val=-4.571413550382898\niter=6000, stepsize=2.79e-08, criterion=5.54e-12, upper_bound=-4.5714135503832996, lower_bound=-4.571413553696182, real_Gap=3.31e-09, f_val=-4.5714135503820446\niter=7000, stepsize=7.98e-08, criterion=5.54e-12, upper_bound=-4.571413550383387, lower_bound=-4.571413552793496, real_Gap=2.41e-09, f_val=-4.571413550382715\niter=8000, stepsize=5.10e-08, criterion=5.54e-12, upper_bound=-4.571413550383387, lower_bound=-4.571413552793496, real_Gap=2.41e-09, f_val=-4.571413550382299\niter=9000, stepsize=8.02e-08, criterion=5.54e-12, upper_bound=-4.571413550383634, lower_bound=-4.571413552793496, real_Gap=2.41e-09, f_val=-4.571413550383372\niter=10000, stepsize=3.45e-08, criterion=5.54e-12, upper_bound=-4.571413550383898, lower_bound=-4.571413552793496, real_Gap=2.41e-09, f_val=-4.571413550383141\niter=11000, stepsize=1.08e-07, criterion=5.54e-12, upper_bound=-4.571413550384255, lower_bound=-4.571413552793496, real_Gap=2.41e-09, f_val=-4.5714135503841025\n"
    }
   ],
   "source": [
    "run_alpha_policies = ['backtracking','sc','sc_backtracking','sc_hybrid']\n",
    "\n",
    "for policy in run_alpha_policies:\n",
    "    print(policy)\n",
    "    x, alpha_hist, Gap_hist, Q_hist, time_hist  = frank_wolfe(func_x,\n",
    "                       func_beta,                                       \n",
    "                       grad_x,\n",
    "                       grad_beta,\n",
    "                       hess_mult_x,\n",
    "                       extra_func,                                                    \n",
    "                       Mf,\n",
    "                       nu,\n",
    "                       linear_oracle,                                                    \n",
    "                       x0,\n",
    "                       FW_params,\n",
    "                       hess=hess_x, \n",
    "                       lloo_oracle=llo_oracle,                                                 \n",
    "                       alpha_policy=policy,                                                    \n",
    "                       eps=terminate_tol, \n",
    "                       print_every=1000, \n",
    "                       debug_info=False)\n",
    "    \n",
    "    results[problem_name][policy] = {\n",
    "        'x': x,\n",
    "        'alpha_hist': alpha_hist,\n",
    "        'Gap_hist': Gap_hist,\n",
    "        'Q_hist': Q_hist,\n",
    "        'time_hist': time_hist,\n",
    "    }\n",
    "    \n",
    "#with open(results_file, 'wb') as f:\n",
    "#        pickle.dump(results, f)"
   ]
  },
  {
   "cell_type": "code",
   "execution_count": 9,
   "metadata": {},
   "outputs": [],
   "source": [
    "run_alpha_policies = []#[\"backtracking\",\"standard\",\"line_search\",\"icml\"]\n",
    "\n",
    "for policy in run_alpha_policies:\n",
    "    print(policy)\n",
    "    #policy_results = []\n",
    "    #for i in range(len(points)):\n",
    "    #    x0 = points[i]\n",
    "    x, alpha_hist, Gap_hist, Q_hist, time_hist = frank_wolfe(func_x,\n",
    "                        func_beta,                                       \n",
    "                        grad_x,\n",
    "                        grad_beta,\n",
    "                        hess_mult_x,\n",
    "                        extra_func,                                                    \n",
    "                        Mf,\n",
    "                        nu,\n",
    "                        linear_oracle,                                                    \n",
    "                        x0,\n",
    "                        FW_params,                                       \n",
    "                        alpha_policy=policy,                                                    \n",
    "                        eps=terminate_tol,\n",
    "                        print_every=1000, \n",
    "                        debug_info=False)\n",
    "        \n",
    "    results[problem_name][policy]={\n",
    "    'x': x,\n",
    "    'alpha_hist': alpha_hist,        \n",
    "    'Q_hist': Q_hist,\n",
    "    'Gap_hist': Gap_hist,        \n",
    "    'time_hist': time_hist,}\n",
    "    with open(results_file, 'wb') as f:\n",
    "        pickle.dump(results, f)\n",
    "#    results[problem_name][policy] = policy_results"
   ]
  },
  {
   "cell_type": "markdown",
   "metadata": {},
   "source": [
    "## Run SCOPT"
   ]
  },
  {
   "cell_type": "code",
   "execution_count": 11,
   "metadata": {
    "tags": []
   },
   "outputs": [
    {
     "output_type": "stream",
     "name": "stdout",
     "text": "Fista err = 9.333e-06; Subiter =  40; subproblem converged!\niter =    1, stepsize = 5.975e-01, rdiff = 4.253e-01 , f = 0.0689425\nFista err = 9.845e-06; Subiter =  29; subproblem converged!\niter =    2, stepsize = 7.868e-01, rdiff = 1.723e-01 , f = -2.36287\nFista err = 9.975e-06; Subiter =  91; subproblem converged!\niter =    3, stepsize = 9.442e-01, rdiff = 3.773e-02 , f = -3.587\nFista err = 9.311e-06; Subiter =  13; subproblem converged!\niter =    4, stepsize = 9.969e-01, rdiff = 1.956e-03 , f = -3.89293\nFista err = 6.277e-06; Subiter =   3; subproblem converged!\niter =    5, stepsize = 9.999e-01, rdiff = 4.274e-05 , f = -3.91085\nFista err = 6.668e-12; Subiter =   2; subproblem converged!\nboo\nConvergence achieved!\niter =    6, stepsize = 0.000e+00, rdiff = 0.000e+00,value=-3.91091\n1.5409066677093506\n"
    },
    {
     "output_type": "error",
     "ename": "KeyError",
     "evalue": "'syn_1000_800_10_50'",
     "traceback": [
      "\u001b[1;31m---------------------------------------------------------------------------\u001b[0m",
      "\u001b[1;31mKeyError\u001b[0m                                  Traceback (most recent call last)",
      "\u001b[1;32m<ipython-input-11-ce8b70e8321c>\u001b[0m in \u001b[0;36m<module>\u001b[1;34m\u001b[0m\n\u001b[0;32m     16\u001b[0m \u001b[1;31m#    'Gap_hist': Gap_hist,\u001b[0m\u001b[1;33m\u001b[0m\u001b[1;33m\u001b[0m\u001b[1;33m\u001b[0m\u001b[0m\n\u001b[0;32m     17\u001b[0m     \u001b[1;34m'Q_hist'\u001b[0m\u001b[1;33m:\u001b[0m \u001b[0mQ_hist\u001b[0m\u001b[1;33m,\u001b[0m\u001b[1;33m\u001b[0m\u001b[1;33m\u001b[0m\u001b[0m\n\u001b[1;32m---> 18\u001b[1;33m     \u001b[1;34m'time_hist'\u001b[0m\u001b[1;33m:\u001b[0m \u001b[0mtime_hist\u001b[0m\u001b[1;33m,\u001b[0m\u001b[1;33m\u001b[0m\u001b[1;33m\u001b[0m\u001b[0m\n\u001b[0m\u001b[0;32m     19\u001b[0m \u001b[1;31m#    'grad_hist': grad_hist\u001b[0m\u001b[1;33m\u001b[0m\u001b[1;33m\u001b[0m\u001b[1;33m\u001b[0m\u001b[0m\n\u001b[0;32m     20\u001b[0m }\n",
      "\u001b[1;31mKeyError\u001b[0m: 'syn_1000_800_10_50'"
     ]
    }
   ],
   "source": [
    "x, alpha_hist, Q_hist, time_hist = scopt(func_x,\n",
    "        grad_x,\n",
    "        hess_mult_x,\n",
    "        hess_mult_vec_x,\n",
    "        Mf,\n",
    "        nu,\n",
    "        prox_func,\n",
    "        x0,  \n",
    "        sc_params,                                              \n",
    "        eps=terminate_tol,                                              \n",
    "        print_every=1)\n",
    "    \n",
    "results[problem_name]['scopt'] = {\n",
    "    'x': x,\n",
    "    'alpha_hist': alpha_hist,\n",
    "#    'Gap_hist': Gap_hist,\n",
    "    'Q_hist': Q_hist,\n",
    "    'time_hist': time_hist,\n",
    "#    'grad_hist': grad_hist\n",
    "}"
   ]
  },
  {
   "cell_type": "code",
   "execution_count": null,
   "metadata": {},
   "outputs": [],
   "source": []
  }
 ],
 "metadata": {
  "file_extension": ".py",
  "kernelspec": {
   "display_name": "Python 3",
   "language": "python",
   "name": "python3"
  },
  "language_info": {
   "codemirror_mode": {
    "name": "ipython",
    "version": 3
   },
   "file_extension": ".py",
   "mimetype": "text/x-python",
   "name": "python",
   "nbconvert_exporter": "python",
   "pygments_lexer": "ipython3",
   "version": "3.7.3-final"
  },
  "mimetype": "text/x-python",
  "name": "python",
  "npconvert_exporter": "python",
  "pygments_lexer": "ipython3",
  "version": 3
 },
 "nbformat": 4,
 "nbformat_minor": 4
}