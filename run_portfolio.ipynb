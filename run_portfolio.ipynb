{
 "cells": [
  {
   "cell_type": "code",
   "execution_count": 1,
   "metadata": {},
   "outputs": [],
   "source": [
    "import os\n",
    "import pickle\n",
    "import scipy.io\n",
    "import numpy as np\n",
    "from scfw.scopt import scopt\n",
    "from scfw.frank_wolfe import frank_wolfe\n",
    "import scfw.portfolio as pr\n",
    "import matplotlib.pyplot as plt"
   ]
  },
  {
   "cell_type": "code",
   "execution_count": 2,
   "metadata": {},
   "outputs": [],
   "source": [
    "results_folder = './results/'"
   ]
  },
  {
   "cell_type": "code",
   "execution_count": 3,
   "metadata": {},
   "outputs": [],
   "source": [
    "data_folder = '../data'\n",
    "\n",
    "problem_name = 'syn_1000_1500_10_50'\n",
    "data = scipy.io.loadmat(os.path.join(data_folder, problem_name + '.mat'))\n",
    "R = data['W']\n",
    "results = {problem_name: {}}"
   ]
  },
  {
   "cell_type": "code",
   "execution_count": 4,
   "metadata": {},
   "outputs": [],
   "source": [
    "np.random.seed(42)"
   ]
  },
  {
   "cell_type": "markdown",
   "metadata": {},
   "source": [
    "## Data preprocessing and parameters initialization"
   ]
  },
  {
   "cell_type": "code",
   "execution_count": 5,
   "metadata": {},
   "outputs": [],
   "source": [
    "N, n = R.shape\n",
    "Mf = 2\n",
    "nu = 3\n",
    "sigma_f = 1\n",
    "diam_X = np.sqrt(2)\n",
    "rho = np.sqrt(n)\n",
    "\n",
    "I = np.eye(n)\n",
    "Iv = np.ones(n)\n",
    "\n",
    "#running parameters\n",
    "x0 = np.ones(n) / n\n",
    "terminate_tol = 1e-20\n",
    "\n",
    "#parameters for FW\n",
    "FW_params={\n",
    "    'iter_FW':50000,\n",
    "    'line_search_tol':1e-10,\n",
    "}\n",
    "\n",
    "\n",
    "sc_params={\n",
    "    #parameters for SCOPT\n",
    "    'iter_SC': 1000,\n",
    "    'Lest': 'backtracking',#,'estimate', #estimate L\n",
    "    'use_two_phase':False,\n",
    "    #FISTA parameters\n",
    "    'fista_type': 'mfista',\n",
    "    'fista_tol': 1e-5,\n",
    "    'fista_iter': 1000,\n",
    "    #Conjugate Gradient Parameters\n",
    "    'conj_grad_tol':1e-5,\n",
    "    'conj_grad_iter':1000,\n",
    "}"
   ]
  },
  {
   "cell_type": "markdown",
   "metadata": {},
   "source": [
    "## Auxilary functions"
   ]
  },
  {
   "cell_type": "code",
   "execution_count": 6,
   "metadata": {},
   "outputs": [],
   "source": [
    "func_x = lambda x: pr.portfolio(R,x)\n",
    "grad_x = lambda x, dot_product: pr.grad_portfolio(R, x, dot_product)\n",
    "grad_beta = lambda x, s, beta, dot_product, dot_product_s: pr.grad_portfolio(R, (1 - beta) * x + beta * s, (1 - beta) * dot_product + beta * dot_product_s)\n",
    "hess_x = lambda x, dot_product: pr.hess_portfolio(R, x, dot_product)\n",
    "hess_mult_x = lambda x, dot_product: pr.hess_mult_portfolio(R, x, dot_product)\n",
    "hess_mult_vec_x = lambda s, dot_product: pr.hess_mult_vec(R, s, dot_product)\n",
    "extra_func = lambda x: R @ x\n",
    "linear_oracle = lambda grad: pr.linear_oracle_simplex(grad)\n",
    "llo_oracle = lambda x, r, grad: pr.llo_oracle(x, r, grad, rho=rho)\n",
    "prox_func = lambda x, L: pr.proj_simplex(x)"
   ]
  },
  {
   "cell_type": "code",
   "execution_count": 7,
   "metadata": {},
   "outputs": [],
   "source": [
    "points = [x0]\n",
    " \n",
    "for _ in range(4):\n",
    "    x = np.abs(np.random.rand(len(x0)))\n",
    "    x = x / sum(x)\n",
    "    points.append(x)"
   ]
  },
  {
   "cell_type": "markdown",
   "metadata": {},
   "source": [
    "## Run FW"
   ]
  },
  {
   "cell_type": "code",
   "execution_count": 8,
   "metadata": {},
   "outputs": [
    {
     "output_type": "stream",
     "name": "stdout",
     "text": "********* Algorithm starts *********\niter = 1, stepsize = 0.6666666666666666, criterion = 9.999999999999999e-11, upper_bound=0.02128931286911006, lower_bound=-4.917163298675453\niter = 10000, stepsize = 0.0001999600079984003, criterion = 9.999999999999999e-11, upper_bound=-4.475092844319556, lower_bound=-4.475118973650115\niter = 20000, stepsize = 9.999000099990002e-05, criterion = 9.999999999999999e-11, upper_bound=-4.475092910483785, lower_bound=-4.475101714730176\niter = 30000, stepsize = 6.666222251849876e-05, criterion = 9.999999999999999e-11, upper_bound=-4.475092922681078, lower_bound=-4.475098189901174\niter = 40000, stepsize = 4.999750012499375e-05, criterion = 9.999999999999999e-11, upper_bound=-4.475092927022443, lower_bound=-4.475097962961407\niter = 50000, stepsize = 3.999840006399744e-05, criterion = 9.999999999999999e-11, upper_bound=-4.475092929028327, lower_bound=-4.475097253048681\n222.2299404144287\n********* Algorithm starts *********\niter = 1, stepsize = 0.9999999999417923, criterion = 9.999999999999999e-11, upper_bound=0.02128931286911006, lower_bound=-4.917163298675453\niter = 10000, stepsize = 2.9103830456733704e-10, criterion = 4.144003750220551e-11, upper_bound=-4.475092932410863, lower_bound=-4.475092932482475\niter = 20000, stepsize = 1.7462298274040222e-10, criterion = 4.144003750220551e-11, upper_bound=-4.475092932410863, lower_bound=-4.475092932482475\niter = 30000, stepsize = 2.9103830456733704e-10, criterion = 4.144003750220551e-11, upper_bound=-4.475092932410863, lower_bound=-4.475092932482475\niter = 40000, stepsize = 2.9103830456733704e-10, criterion = 4.144003750220551e-11, upper_bound=-4.475092932410863, lower_bound=-4.475092932482475\niter = 50000, stepsize = 4.0745362639427185e-10, criterion = 4.144003750220551e-11, upper_bound=-4.475092932410863, lower_bound=-4.475092932482475\n990.5940775871277\n********* Algorithm starts *********\niter = 1, stepsize = 0.4630565002691595, criterion = 9.999999999999999e-11, upper_bound=0.02128931286911006, lower_bound=-4.917163298675453\niter = 10000, stepsize = 7.781518306595377e-05, criterion = 9.999999999999999e-11, upper_bound=-4.4750004882321175, lower_bound=-4.475147392478771\niter = 20000, stepsize = 5.6116746032288506e-05, criterion = 9.999999999999999e-11, upper_bound=-4.475046751492929, lower_bound=-4.475120080872234\niter = 30000, stepsize = 3.543477340407521e-05, criterion = 9.999999999999999e-11, upper_bound=-4.475062155795195, lower_bound=-4.475111013059699\niter = 40000, stepsize = 2.7308440573369674e-05, criterion = 9.999999999999999e-11, upper_bound=-4.475069853551176, lower_bound=-4.475106485977621\niter = 50000, stepsize = 2.3305369840314452e-05, criterion = 9.999999999999999e-11, upper_bound=-4.475074471274776, lower_bound=-4.475103771927117\n247.9238474369049\n"
    }
   ],
   "source": [
    "run_alpha_policies = [\"standard\",\"line_search\",\"icml\"]\n",
    "#run_alpha_policies = ['lloo']\n",
    "\n",
    "\n",
    "for policy in run_alpha_policies:\n",
    "    x, alpha_hist, Gap_hist, Q_hist, time_hist, grad_hist = frank_wolfe(func_x,\n",
    "                       grad_x,\n",
    "                       grad_beta,\n",
    "                       hess_mult_x,\n",
    "                       extra_func,                                                    \n",
    "                       Mf,\n",
    "                       nu,\n",
    "                       linear_oracle,                                                    \n",
    "                       x0,\n",
    "                       FW_params,\n",
    "                       hess=hess_x,\n",
    "                       rho=rho,\n",
    "                       sigma_f=sigma_f,\n",
    "                       diam_X=diam_X,   \n",
    "                       lloo_oracle=llo_oracle,                                                 \n",
    "                       alpha_policy=policy,                                                    \n",
    "                       eps=terminate_tol, \n",
    "                       print_every=10000, \n",
    "                       debug_info=False)\n",
    "    \n",
    "    results[problem_name][policy] = {\n",
    "        'x': x,\n",
    "        'alpha_hist': alpha_hist,\n",
    "        'Gap_hist': Gap_hist,\n",
    "        'Q_hist': Q_hist,\n",
    "        'time_hist': time_hist,\n",
    "        'grad_hist': grad_hist\n",
    "    }"
   ]
  },
  {
   "cell_type": "code",
   "execution_count": 9,
   "metadata": {},
   "outputs": [],
   "source": [
    "#with open(os.path.join(results_folder, 'portfolio', problem_name + '_FW.pckl'), 'wb') as f:\n",
    "#    pickle.dump(results, f)"
   ]
  },
  {
   "cell_type": "markdown",
   "metadata": {},
   "source": [
    "## Run SCOPT"
   ]
  },
  {
   "cell_type": "code",
   "execution_count": 9,
   "metadata": {},
   "outputs": [
    {
     "output_type": "stream",
     "name": "stdout",
     "text": "iter =    1, stepsize = 5.663e-01, rdiff = 4.796e-01 , f = 0.0212893\n\nFista err = 9.137e-06; Subiter =  32; subproblem converged!\n\niter =    2, stepsize = 7.532e-01, rdiff = 2.064e-01 , f = -2.59625\n\nFista err = 9.988e-06; Subiter = 635; subproblem converged!\n\niter =    3, stepsize = 9.230e-01, rdiff = 5.318e-02 , f = -4.02128\n\nFista err = 9.725e-06; Subiter =   9; subproblem converged!\n\niter =    4, stepsize = 9.938e-01, rdiff = 4.001e-03 , f = -4.44041\n\nFista err = 9.632e-06; Subiter =   3; subproblem converged!\n\niter =    5, stepsize = 9.999e-01, rdiff = 7.149e-05 , f = -4.47488\n\nFista err = 7.394e-07; Subiter =   2; subproblem converged!\n\niter =    6, stepsize = 1.000e+00, rdiff = 1.770e-06 , f = -4.47509\n\nFista err = 2.271e-10; Subiter =   2; subproblem converged!\n\niter =    7, stepsize = 1.000e+00, rdiff = 1.061e-06 , f = -4.47509\n\nFista err = 2.271e-10; Subiter =   2; subproblem converged!\n\nboo\nConvergence achieved!\niter =    8, stepsize = 0.000e+00, rdiff = 0.000e+00,value=-4.47509\n\n6.976375102996826\n"
    }
   ],
   "source": [
    "x, alpha_hist, Q_hist, time_hist, grad_hist = scopt(func_x,\n",
    "        grad_x,\n",
    "        hess_mult_x,\n",
    "        hess_mult_vec_x,\n",
    "        Mf,\n",
    "        nu,\n",
    "        prox_func,\n",
    "        x0,  \n",
    "        sc_params,                                              \n",
    "        eps=terminate_tol,                                              \n",
    "        print_every=1)\n",
    "    \n",
    "results[problem_name]['scopt'] = {\n",
    "    'x': x,\n",
    "    'alpha_hist': alpha_hist,\n",
    "    'Gap_hist': Gap_hist,\n",
    "    'Q_hist': Q_hist,\n",
    "    'time_hist': time_hist,\n",
    "    'grad_hist': grad_hist\n",
    "}"
   ]
  },
  {
   "cell_type": "code",
   "execution_count": 10,
   "metadata": {},
   "outputs": [],
   "source": [
    "with open(os.path.join(results_folder, 'portfolio', problem_name + '.pckl'), 'wb') as f:\n",
    "    pickle.dump(results, f)"
   ]
  },
  {
   "cell_type": "code",
   "execution_count": null,
   "metadata": {},
   "outputs": [],
   "source": []
  }
 ],
 "metadata": {
  "file_extension": ".py",
  "kernelspec": {
   "display_name": "Python 3",
   "language": "python",
   "name": "python3"
  },
  "language_info": {
   "codemirror_mode": {
    "name": "ipython",
    "version": 3
   },
   "file_extension": ".py",
   "mimetype": "text/x-python",
   "name": "python",
   "nbconvert_exporter": "python",
   "pygments_lexer": "ipython3",
   "version": "3.7.3-final"
  },
  "mimetype": "text/x-python",
  "name": "python",
  "npconvert_exporter": "python",
  "pygments_lexer": "ipython3",
  "version": 3
 },
 "nbformat": 4,
 "nbformat_minor": 4
}