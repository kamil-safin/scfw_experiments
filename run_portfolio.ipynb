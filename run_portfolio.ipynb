{
 "cells": [
  {
   "cell_type": "code",
   "execution_count": 1,
   "metadata": {},
   "outputs": [],
   "source": [
    "import os\n",
    "import pickle\n",
    "import scipy.io\n",
    "import numpy as np\n",
    "from scfw.scopt import scopt\n",
    "from scfw.frank_wolfe import frank_wolfe\n",
    "import scfw.portfolio as pr\n",
    "import matplotlib.pyplot as plt"
   ]
  },
  {
   "cell_type": "code",
   "execution_count": 2,
   "metadata": {},
   "outputs": [],
   "source": [
    "data_folder = '../data'\n",
    "\n",
    "problem_name = 'syn_1000_800_10_50'\n",
    "data = scipy.io.loadmat(os.path.join(data_folder, problem_name + '.mat'))\n",
    "R = data['W']\n",
    "results = {problem_name: {}}"
   ]
  },
  {
   "cell_type": "code",
   "execution_count": 3,
   "metadata": {},
   "outputs": [],
   "source": [
    "np.random.seed(42)"
   ]
  },
  {
   "cell_type": "markdown",
   "metadata": {},
   "source": [
    "## Data preprocessing and parameters initialization"
   ]
  },
  {
   "cell_type": "code",
   "execution_count": 4,
   "metadata": {},
   "outputs": [],
   "source": [
    "N, n = R.shape\n",
    "Mf = 2\n",
    "nu = 3\n",
    "\n",
    "I = np.eye(n)\n",
    "Iv = np.ones(n)\n",
    "\n",
    "#running parameters\n",
    "x0 = np.ones(n) / n\n",
    "terminate_tol = 1e-12\n",
    "\n",
    "#parameters for FW\n",
    "FW_params={\n",
    "    'iter_FW':50000,\n",
    "    'line_search_tol':1e-10,\n",
    "    'rho':np.sqrt(n), #parameters for ll00\n",
    "    'diam_X':np.sqrt(2),\n",
    "    'sigma_f':1,                   \n",
    "}\n",
    "\n",
    "\n",
    "sc_params={\n",
    "    #parameters for SCOPT\n",
    "    'iter_SC': 1000,\n",
    "    'Lest': 'backtracking',#,'estimate', #estimate L\n",
    "    'use_two_phase':False,\n",
    "    #FISTA parameters\n",
    "    'fista_type': 'mfista',\n",
    "    'fista_tol': 1e-5,\n",
    "    'fista_iter': 1000,\n",
    "    #Conjugate Gradient Parameters\n",
    "    'conj_grad_tol':1e-5,\n",
    "    'conj_grad_iter':1000,\n",
    "}"
   ]
  },
  {
   "cell_type": "markdown",
   "metadata": {},
   "source": [
    "## Auxilary functions"
   ]
  },
  {
   "cell_type": "code",
   "execution_count": 5,
   "metadata": {},
   "outputs": [],
   "source": [
    "func_x = lambda x: pr.portfolio(R,x)\n",
    "grad_x = lambda x, dot_product: pr.grad_portfolio(R, x, dot_product)\n",
    "grad_beta = lambda x, s, beta, dot_product, dot_product_s: pr.grad_portfolio(R, (1 - beta) * x + beta * s, (1 - beta) * dot_product + beta * dot_product_s)\n",
    "hess_x = lambda x, dot_product: pr.hess_portfolio(R, x, dot_product)\n",
    "hess_mult_x = lambda x, dot_product: pr.hess_mult_portfolio(R, x, dot_product)\n",
    "hess_mult_vec_x = lambda s, dot_product: pr.hess_mult_vec(R, s, dot_product)\n",
    "extra_func = lambda x: R @ x\n",
    "linear_oracle = lambda grad: pr.linear_oracle_simplex(grad)\n",
    "llo_oracle = lambda x, r, grad, rho: pr.llo_oracle(x, r, grad,rho)\n",
    "prox_func = lambda x, L: pr.proj_simplex(x)"
   ]
  },
  {
   "cell_type": "code",
   "execution_count": 6,
   "metadata": {},
   "outputs": [],
   "source": [
    "points = [x0]\n",
    " \n",
    "for _ in range(4):\n",
    "    x = np.abs(np.random.rand(len(x0)))\n",
    "    x = x / sum(x)\n",
    "    points.append(x)"
   ]
  },
  {
   "cell_type": "markdown",
   "metadata": {},
   "source": [
    "## Run FW"
   ]
  },
  {
   "cell_type": "code",
   "execution_count": null,
   "metadata": {},
   "outputs": [
    {
     "name": "stdout",
     "output_type": "stream",
     "text": [
      "********* Algorithm starts *********\n",
      "5.232711198171899\n",
      "iter = 1, stepsize = 0.3917318246754077, criterion = 0.01, upper_bound=0.05635009446772796, lower_bound=-5.176361103704171, real_Gap=5.232711198171899\n",
      "iter = 1000, stepsize = 0.0011439559681520565, criterion = 0.0009248454983790988, upper_bound=-4.571409662600624, lower_bound=-4.571699455146176, real_Gap=0.0002897925455513928\n",
      "iter = 2000, stepsize = 0.0007198143544010637, criterion = 0.0004535517143560335, upper_bound=-4.571412618402145, lower_bound=-4.571519133437572, real_Gap=0.00010651503542735696\n",
      "iter = 3000, stepsize = 0.0004789259169793097, criterion = 0.0003023332497081548, upper_bound=-4.571413139630295, lower_bound=-4.571460408543107, real_Gap=4.7268912812370445e-05\n",
      "iter = 4000, stepsize = 0.0005382770017464023, criterion = 0.0002257643857725455, upper_bound=-4.57141332361432, lower_bound=-4.571432137763861, real_Gap=1.8814149541412917e-05\n",
      "iter = 5000, stepsize = 0.0002266682508409376, criterion = 0.00018066708752570985, upper_bound=-4.571413405524506, lower_bound=-4.571432137763861, real_Gap=1.8732239355223612e-05\n",
      "iter = 6000, stepsize = 0.00023906659025637987, criterion = 0.00015021590285326682, upper_bound=-4.571413449115787, lower_bound=-4.571432137763861, real_Gap=1.8688648074416392e-05\n",
      "iter = 7000, stepsize = 0.00020488627619889442, criterion = 0.00012884926404322202, upper_bound=-4.5714134794226435, lower_bound=-4.571432137763861, real_Gap=1.8658341217836494e-05\n",
      "iter = 8000, stepsize = 0.0001415540563344289, criterion = 0.00011259552627248458, upper_bound=-4.5714134951150385, lower_bound=-4.571432137763861, real_Gap=1.8642648822897456e-05\n",
      "iter = 9000, stepsize = 0.00023890160999314928, criterion = 0.0001001988496276248, upper_bound=-4.571413506333418, lower_bound=-4.571430264355438, real_Gap=1.6758022020724184e-05\n",
      "iter = 10000, stepsize = 0.00021498643741231488, criterion = 9.008174082504963e-05, upper_bound=-4.57141351526403, lower_bound=-4.571430264355438, real_Gap=1.674909140803038e-05\n",
      "iter = 11000, stepsize = 0.00029418048134097674, criterion = 8.187946276032936e-05, upper_bound=-4.571413521952024, lower_bound=-4.571429115389122, real_Gap=1.559343709800487e-05\n",
      "iter = 12000, stepsize = 0.00011935465552419379, criterion = 7.509107205720383e-05, upper_bound=-4.57141352658566, lower_bound=-4.571429115389122, real_Gap=1.558880346230751e-05\n",
      "iter = 13000, stepsize = 8.702781400061431e-05, criterion = 6.928373824082004e-05, upper_bound=-4.571413529993636, lower_bound=-4.571422727243562, real_Gap=9.197249926096163e-06\n",
      "iter = 14000, stepsize = 0.00015346247126666452, criterion = 6.434484466184422e-05, upper_bound=-4.571413532369056, lower_bound=-4.571422727243562, real_Gap=9.194874506235351e-06\n",
      "iter = 15000, stepsize = 9.547335651319146e-05, criterion = 6.0000717834932976e-05, upper_bound=-4.5714135346580544, lower_bound=-4.571422727243562, real_Gap=9.192585507911133e-06\n",
      "iter = 16000, stepsize = 8.949772899566434e-05, criterion = 5.628916066011823e-05, upper_bound=-4.571413536618255, lower_bound=-4.571422727243562, real_Gap=9.190625307020639e-06\n",
      "iter = 17000, stepsize = 0.00012635150792427664, criterion = 5.293242279776967e-05, upper_bound=-4.571413538117969, lower_bound=-4.571422520396311, real_Gap=8.982278342450911e-06\n",
      "iter = 18000, stepsize = 6.283393122131286e-05, criterion = 5.000364163063296e-05, upper_bound=-4.571413539543761, lower_bound=-4.571421476006901, real_Gap=7.936463140012506e-06\n",
      "iter = 19000, stepsize = 7.536197001782075e-05, criterion = 4.73464153642898e-05, upper_bound=-4.571413540726207, lower_bound=-4.571421476006901, real_Gap=7.935280694759683e-06\n",
      "iter = 20000, stepsize = 0.0001617374727501344, criterion = 4.499889838430364e-05, upper_bound=-4.571413541551605, lower_bound=-4.571420858210919, real_Gap=7.316659313971741e-06\n",
      "iter = 21000, stepsize = 0.00015402882712179308, criterion = 4.2834516353588546e-05, upper_bound=-4.571413542424069, lower_bound=-4.571420858210919, real_Gap=7.31578685009282e-06\n",
      "iter = 22000, stepsize = 0.0001470168647930463, criterion = 4.090088010291349e-05, upper_bound=-4.571413543126364, lower_bound=-4.571420240017252, real_Gap=6.696890888058249e-06\n",
      "iter = 23000, stepsize = 0.0001406258341697983, criterion = 3.910845634693107e-05, upper_bound=-4.571413543871875, lower_bound=-4.571418455437714, real_Gap=4.9115658384835115e-06\n",
      "iter = 24000, stepsize = 0.0001347358924668165, criterion = 3.749022600029648e-05, upper_bound=-4.571413544290319, lower_bound=-4.571418455437714, real_Gap=4.911147394537352e-06\n",
      "iter = 25000, stepsize = 0.00012934841010800726, criterion = 3.598422230754517e-05, upper_bound=-4.571413544861897, lower_bound=-4.571418455437714, real_Gap=4.9105758170853164e-06\n",
      "iter = 26000, stepsize = 5.505647751023925e-05, criterion = 3.4599508079321113e-05, upper_bound=-4.571413545172984, lower_bound=-4.571418455437714, real_Gap=4.910264729929281e-06\n",
      "iter = 27000, stepsize = 5.301281577218809e-05, criterion = 3.331228572066474e-05, upper_bound=-4.57141354568193, lower_bound=-4.571418455437714, real_Gap=4.909755784154868e-06\n",
      "iter = 28000, stepsize = 4.037929251790465e-05, criterion = 3.2130880317978296e-05, upper_bound=-4.571413545926749, lower_bound=-4.571418455437714, real_Gap=4.909510964878905e-06\n",
      "iter = 29000, stepsize = 7.40448281180565e-05, criterion = 3.101015294251429e-05, upper_bound=-4.571413546207522, lower_bound=-4.5714164240263235, real_Gap=2.87781880192739e-06\n",
      "iter = 30000, stepsize = 7.157342359112744e-05, criterion = 2.9987684269829634e-05, upper_bound=-4.57141354651014, lower_bound=-4.5714164240263235, real_Gap=2.8775161835525864e-06\n",
      "iter = 31000, stepsize = 3.646998955373287e-05, criterion = 2.9022951440133186e-05, upper_bound=-4.571413546741016, lower_bound=-4.5714164240263235, real_Gap=2.8772853077896343e-06\n",
      "iter = 32000, stepsize = 4.4729259668913384e-05, criterion = 2.8105446283578336e-05, upper_bound=-4.571413546983577, lower_bound=-4.5714164240263235, real_Gap=2.8770427462632142e-06\n",
      "iter = 33000, stepsize = 9.798394110620788e-05, criterion = 2.7259450678354032e-05, upper_bound=-4.571413547210604, lower_bound=-4.5714164240263235, real_Gap=2.876815719865533e-06\n",
      "iter = 34000, stepsize = 9.51004040871591e-05, criterion = 2.6451787712750433e-05, upper_bound=-4.571413547350575, lower_bound=-4.5714164240263235, real_Gap=2.876675748275659e-06\n",
      "iter = 35000, stepsize = 9.237987630071638e-05, criterion = 2.570108470852558e-05, upper_bound=-4.571413547539217, lower_bound=-4.5714164240263235, real_Gap=2.876487106284742e-06\n",
      "iter = 36000, stepsize = 5.963556505604691e-05, criterion = 2.4977801632660366e-05, upper_bound=-4.5714135476870945, lower_bound=-4.5714164240263235, real_Gap=2.876339229018754e-06\n",
      "iter = 37000, stepsize = 5.802194707772755e-05, criterion = 2.4310443947137433e-05, upper_bound=-4.571413547867148, lower_bound=-4.5714164240263235, real_Gap=2.8761591757131555e-06\n",
      "iter = 38000, stepsize = 5.6495442756642954e-05, criterion = 2.3665467681357208e-05, upper_bound=-4.571413547946035, lower_bound=-4.5714164240263235, real_Gap=2.876080288594096e-06\n",
      "iter = 39000, stepsize = 3.6696164148557766e-05, criterion = 2.305853818218805e-05, upper_bound=-4.571413548089428, lower_bound=-4.5714164240263235, real_Gap=2.8759368957409492e-06\n",
      "iter = 40000, stepsize = 3.577686718896573e-05, criterion = 2.2482004264536745e-05, upper_bound=-4.5714135481853395, lower_bound=-4.5714164240263235, real_Gap=2.875840984017941e-06\n",
      "iter = 41000, stepsize = 2.7570723344957644e-05, criterion = 2.1935352835239933e-05, upper_bound=-4.571413548292776, lower_bound=-4.57141564791133, real_Gap=2.0996185536859002e-06\n",
      "iter = 42000, stepsize = 5.111768322907203e-05, criterion = 2.140716556939096e-05, upper_bound=-4.571413548415956, lower_bound=-4.57141564791133, real_Gap=2.099495373997229e-06\n",
      "iter = 43000, stepsize = 4.9927492836507645e-05, criterion = 2.0914868682169264e-05, upper_bound=-4.571413548510332, lower_bound=-4.57141564791133, real_Gap=2.0994009979347084e-06\n",
      "iter = 44000, stepsize = 4.879173726099569e-05, criterion = 2.0434143208878083e-05, upper_bound=-4.571413548579024, lower_bound=-4.57141564791133, real_Gap=2.0993323062157287e-06\n"
     ]
    }
   ],
   "source": [
    "#run_alpha_policies = [\"standard\",\"line_search\",\"icml\"]\n",
    "run_alpha_policies = ['new_lloo','lloo']\n",
    "\n",
    "\n",
    "for policy in run_alpha_policies:\n",
    "    x, alpha_hist, Gap_hist, Q_hist, time_hist, grad_hist = frank_wolfe(func_x,\n",
    "                       grad_x,\n",
    "                       grad_beta,\n",
    "                       hess_mult_x,\n",
    "                       extra_func,                                                    \n",
    "                       Mf,\n",
    "                       nu,\n",
    "                       linear_oracle,                                                    \n",
    "                       x0,\n",
    "                       FW_params,\n",
    "                       hess=hess_x, \n",
    "                       lloo_oracle=llo_oracle,                                                 \n",
    "                       alpha_policy=policy,                                                    \n",
    "                       eps=terminate_tol, \n",
    "                       print_every=1000, \n",
    "                       debug_info=False)\n",
    "    \n",
    "    results[problem_name][policy] = {\n",
    "        'x': x,\n",
    "        'alpha_hist': alpha_hist,\n",
    "        'Gap_hist': Gap_hist,\n",
    "        'Q_hist': Q_hist,\n",
    "        'time_hist': time_hist,\n",
    "        'grad_hist': grad_hist\n",
    "    }"
   ]
  },
  {
   "cell_type": "code",
   "execution_count": null,
   "metadata": {},
   "outputs": [],
   "source": [
    "run_alpha_policies = [\"standard\",\"line_search\",\"icml\"]\n",
    "\n",
    "for policy in run_alpha_policies:\n",
    "    policy_results = []\n",
    "    for i in range(len(points)):\n",
    "        x0 = points[i]\n",
    "        x, alpha_hist, Gap_hist, Q_hist, time_hist, grad_hist = frank_wolfe(func_x,\n",
    "                        grad_x,\n",
    "                        grad_beta,\n",
    "                        hess_mult_x,\n",
    "                        extra_func,                                                    \n",
    "                        Mf,\n",
    "                        nu,\n",
    "                        linear_oracle,                                                    \n",
    "                        x0,\n",
    "                        FW_params,                                       \n",
    "                        alpha_policy=policy,                                                    \n",
    "                        eps=terminate_tol,\n",
    "                        print_every=1000, \n",
    "                        debug_info=False)\n",
    "        \n",
    "        policy_results.append(\n",
    "            {\n",
    "        'Q_hist': Q_hist,\n",
    "        'time_hist': time_hist,}\n",
    "        )\n",
    "    with open('./results/portfolio/' + problem_name + '_' + policy + '.pckl', 'wb') as f:\n",
    "        pickle.dump(policy_results, f)\n",
    "#    results[problem_name][policy] = policy_results"
   ]
  },
  {
   "cell_type": "markdown",
   "metadata": {},
   "source": [
    "## Run SCOPT"
   ]
  },
  {
   "cell_type": "code",
   "execution_count": null,
   "metadata": {},
   "outputs": [],
   "source": [
    "scopt_results = []\n",
    "for i in range(len(points)):\n",
    "    x0 = points[i]\n",
    "    x, alpha_hist, Q_hist, time_hist, grad_hist = scopt(func_x,\n",
    "            grad_x,\n",
    "            hess_mult_x,\n",
    "            hess_mult_vec_x,\n",
    "            Mf,\n",
    "            nu,\n",
    "            prox_func,\n",
    "            x0,  \n",
    "            sc_params,                                              \n",
    "            eps=terminate_tol,                                              \n",
    "            print_every=1)\n",
    "        \n",
    "    scopt_results.append({\n",
    "        'Q_hist': Q_hist,\n",
    "        'time_hist': time_hist,\n",
    "    })"
   ]
  },
  {
   "cell_type": "code",
   "execution_count": null,
   "metadata": {},
   "outputs": [],
   "source": []
  }
 ],
 "metadata": {
  "file_extension": ".py",
  "kernelspec": {
   "display_name": "Python 3",
   "language": "python",
   "name": "python3"
  },
  "language_info": {
   "codemirror_mode": {
    "name": "ipython",
    "version": 3
   },
   "file_extension": ".py",
   "mimetype": "text/x-python",
   "name": "python",
   "nbconvert_exporter": "python",
   "pygments_lexer": "ipython3",
   "version": "3.7.0"
  },
  "mimetype": "text/x-python",
  "name": "python",
  "npconvert_exporter": "python",
  "pygments_lexer": "ipython3",
  "version": 3
 },
 "nbformat": 4,
 "nbformat_minor": 4
}
