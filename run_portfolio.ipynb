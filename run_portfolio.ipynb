{
 "cells": [
  {
   "cell_type": "code",
   "execution_count": 1,
   "metadata": {},
   "outputs": [],
   "source": [
    "import os\n",
    "import pickle\n",
    "import scipy.io\n",
    "import numpy as np\n",
    "from scfw.scopt import scopt\n",
    "from scfw.frank_wolfe import frank_wolfe\n",
    "import scfw.portfolio as pr\n",
    "import matplotlib.pyplot as plt"
   ]
  },
  {
   "cell_type": "code",
   "execution_count": 2,
   "metadata": {},
   "outputs": [],
   "source": [
    "data_folder = '../data'\n",
    "\n",
    "problem_name = 'syn_1000_800_10_50'\n",
    "data = scipy.io.loadmat(os.path.join(data_folder, problem_name + '.mat'))\n",
    "R = data['W']\n",
    "results = {problem_name: {}}"
   ]
  },
  {
   "cell_type": "code",
   "execution_count": 3,
   "metadata": {},
   "outputs": [],
   "source": [
    "np.random.seed(42)"
   ]
  },
  {
   "cell_type": "markdown",
   "metadata": {},
   "source": [
    "## Data preprocessing and parameters initialization"
   ]
  },
  {
   "cell_type": "code",
   "execution_count": 4,
   "metadata": {},
   "outputs": [],
   "source": [
    "N, n = R.shape\n",
    "Mf = 2\n",
    "nu = 3\n",
    "sigma_f = 10000\n",
    "diam_X = np.sqrt(2)\n",
    "rho = np.sqrt(n)\n",
    "\n",
    "I = np.eye(n)\n",
    "Iv = np.ones(n)\n",
    "\n",
    "#running parameters\n",
    "x0 = np.ones(n) / n\n",
    "terminate_tol = 1e-10\n",
    "\n",
    "#parameters for FW\n",
    "FW_params={\n",
    "    'iter_FW':50000,\n",
    "    'line_search_tol':1e-10,\n",
    "}\n",
    "\n",
    "\n",
    "sc_params={\n",
    "    #parameters for SCOPT\n",
    "    'iter_SC': 1000,\n",
    "    'Lest': 'backtracking',#,'estimate', #estimate L\n",
    "    'use_two_phase':False,\n",
    "    #FISTA parameters\n",
    "    'fista_type': 'mfista',\n",
    "    'fista_tol': 1e-5,\n",
    "    'fista_iter': 1000,\n",
    "    #Conjugate Gradient Parameters\n",
    "    'conj_grad_tol':1e-5,\n",
    "    'conj_grad_iter':1000,\n",
    "}"
   ]
  },
  {
   "cell_type": "markdown",
   "metadata": {},
   "source": [
    "## Auxilary functions"
   ]
  },
  {
   "cell_type": "code",
   "execution_count": 5,
   "metadata": {},
   "outputs": [],
   "source": [
    "func_x = lambda x: pr.portfolio(R,x)\n",
    "grad_x = lambda x, dot_product: pr.grad_portfolio(R, x, dot_product)\n",
    "grad_beta = lambda x, s, beta, dot_product, dot_product_s: pr.grad_portfolio(R, (1 - beta) * x + beta * s, (1 - beta) * dot_product + beta * dot_product_s)\n",
    "hess_x = lambda x, dot_product: pr.hess_portfolio(R, x, dot_product)\n",
    "hess_mult_x = lambda x, dot_product: pr.hess_mult_portfolio(R, x, dot_product)\n",
    "hess_mult_vec_x = lambda s, dot_product: pr.hess_mult_vec(R, s, dot_product)\n",
    "extra_func = lambda x: R @ x\n",
    "linear_oracle = lambda grad: pr.linear_oracle_simplex(grad)\n",
    "llo_oracle = lambda x, r, grad: pr.llo_oracle(x, r, grad, rho=rho)\n",
    "prox_func = lambda x, L: pr.proj_simplex(x)"
   ]
  },
  {
   "cell_type": "code",
   "execution_count": 6,
   "metadata": {},
   "outputs": [],
   "source": [
    "points = [x0]\n",
    " \n",
    "for _ in range(4):\n",
    "    x = np.abs(np.random.rand(len(x0)))\n",
    "    x = x / sum(x)\n",
    "    points.append(x)"
   ]
  },
  {
   "cell_type": "markdown",
   "metadata": {},
   "source": [
    "## Run FW"
   ]
  },
  {
   "cell_type": "code",
   "execution_count": 7,
   "metadata": {},
   "outputs": [
    {
     "output_type": "stream",
     "name": "stdout",
     "text": "********* Algorithm starts *********\niter = 1, stepsize = 0.6666666666666666, criterion = 0.6662498697102228, upper_bound=0.05635009446772449, lower_bound=-5.176361103704231\niter = 10000, stepsize = 0.0001999600079984003, criterion = 0.00014207315768244438, upper_bound=-4.571413460614516, lower_bound=-4.571424828101149\niter = 20000, stepsize = 9.999000099990002e-05, criterion = 7.103360912409322e-05, upper_bound=-4.5714135287153095, lower_bound=-4.571424828101149\niter = 30000, stepsize = 6.666222251849876e-05, criterion = 4.735611501862078e-05, upper_bound=-4.571413540621646, lower_bound=-4.5714157892183644\niter = 40000, stepsize = 4.999750012499375e-05, criterion = 3.5518986616161234e-05, upper_bound=-4.571413544983082, lower_bound=-4.5714157892183644\niter = 50000, stepsize = 3.999840006399744e-05, criterion = 2.841472370678842e-05, upper_bound=-4.57141354694121, lower_bound=-4.5714157892183644\n130.73730039596558\n********* Algorithm starts *********\niter = 1, stepsize = 0.6666666666666666, criterion = 0.6656337428704809, upper_bound=0.049147919068273545, lower_bound=-5.173689271698835\niter = 10000, stepsize = 0.0001999600079984003, criterion = 0.000142073157676936, upper_bound=-4.571413460756833, lower_bound=-4.571424828122051\niter = 20000, stepsize = 9.999000099990002e-05, criterion = 7.103360912338073e-05, upper_bound=-4.571413528749739, lower_bound=-4.571424828122051\niter = 30000, stepsize = 6.666222251849876e-05, criterion = 4.735611501843672e-05, upper_bound=-4.571413540632793, lower_bound=-4.5714157892207\niter = 40000, stepsize = 4.999750012499375e-05, criterion = 3.5518986616079594e-05, upper_bound=-4.57141354498763, lower_bound=-4.5714157892207\niter = 50000, stepsize = 3.999840006399744e-05, criterion = 2.841472370673626e-05, upper_bound=-4.571413546945385, lower_bound=-4.5714157892207\n128.54114747047424\n********* Algorithm starts *********\niter = 1, stepsize = 0.6666666666666666, criterion = 0.6669533822656898, upper_bound=0.08705028063656792, lower_bound=-5.181166389193315\niter = 10000, stepsize = 0.0001999600079984003, criterion = 0.0001420731576841124, upper_bound=-4.571413460054556, lower_bound=-4.5714248280592065\niter = 20000, stepsize = 9.999000099990002e-05, criterion = 7.103360912427005e-05, upper_bound=-4.571413528577612, lower_bound=-4.5714248280592065\niter = 30000, stepsize = 6.666222251849876e-05, criterion = 4.735611501868234e-05, upper_bound=-4.571413540557616, lower_bound=-4.571415789215585\niter = 40000, stepsize = 4.999750012499375e-05, criterion = 3.5518986616191836e-05, upper_bound=-4.571413544944285, lower_bound=-4.571415789215585\niter = 50000, stepsize = 3.999840006399744e-05, criterion = 2.841472370678012e-05, upper_bound=-4.571413546918834, lower_bound=-4.571415789215585\n121.6946771144867\n********* Algorithm starts *********\niter = 1, stepsize = 0.6666666666666666, criterion = 0.6657066580442246, upper_bound=0.07978113571342738, lower_bound=-5.170846925146667\niter = 10000, stepsize = 0.0001999600079984003, criterion = 0.0001420731576807054, upper_bound=-4.571413460111173, lower_bound=-4.5714248281799374\niter = 20000, stepsize = 9.999000099990002e-05, criterion = 7.103360912387468e-05, upper_bound=-4.571413528589478, lower_bound=-4.5714248281799374\niter = 30000, stepsize = 6.666222251849876e-05, criterion = 4.735611501856049e-05, upper_bound=-4.571413540564244, lower_bound=-4.57141578923377\niter = 40000, stepsize = 4.999750012499375e-05, criterion = 3.551898661614776e-05, upper_bound=-4.571413544950106, lower_bound=-4.57141578923377\niter = 50000, stepsize = 3.999840006399744e-05, criterion = 2.8414723706745935e-05, upper_bound=-4.571413546917135, lower_bound=-4.57141578923377\n125.72521090507507\n********* Algorithm starts *********\niter = 1, stepsize = 0.6666666666666666, criterion = 0.6661139200470375, upper_bound=0.07728407398226664, lower_bound=-5.181379733644665\niter = 10000, stepsize = 0.0001999600079984003, criterion = 0.00014207315768263073, upper_bound=-4.571413460242679, lower_bound=-4.571424828058406\niter = 20000, stepsize = 9.999000099990002e-05, criterion = 7.103360912411109e-05, upper_bound=-4.571413528621901, lower_bound=-4.571424828058406\niter = 30000, stepsize = 6.666222251849876e-05, criterion = 4.7356115018627494e-05, upper_bound=-4.571413540575875, lower_bound=-4.571415789205943\niter = 40000, stepsize = 4.999750012499375e-05, criterion = 3.551898661619151e-05, upper_bound=-4.571413544959075, lower_bound=-4.571415789205943\niter = 50000, stepsize = 3.999840006399744e-05, criterion = 2.841472370681498e-05, upper_bound=-4.571413546930493, lower_bound=-4.571415789205943\n120.77488565444946\n********* Algorithm starts *********\niter = 1, stepsize = 0.9999999999417923, criterion = 0.999374804507163, upper_bound=0.05635009446772449, lower_bound=-5.176361103704231\nConvergence achieved!\niter = 129, stepsize = 5.820766091346741e-11, crit = 6.502448144605321e-11, upper_bound=-4.571413550291059, lower_bound=-4.571413550555999\n********* Algorithm starts *********\niter = 1, stepsize = 0.9999999999417923, criterion = 0.9984506142476041, upper_bound=0.049147919068273545, lower_bound=-5.173689271698835\nConvergence achieved!\niter = 129, stepsize = 5.820766091346741e-11, crit = 6.502448144605321e-11, upper_bound=-4.571413550291287, lower_bound=-4.571413550555792\n********* Algorithm starts *********\niter = 1, stepsize = 0.9999999999417923, criterion = 1.0, upper_bound=0.08705028063656792, lower_bound=-5.181166389193315\nConvergence achieved!\niter = 129, stepsize = 5.820766091346741e-11, crit = 6.502448144605321e-11, upper_bound=-4.571413550290471, lower_bound=-4.571413550555497\n********* Algorithm starts *********\niter = 1, stepsize = 0.9999999999417923, criterion = 0.9985599870082131, upper_bound=0.07978113571342738, lower_bound=-5.170846925146667\nConvergence achieved!\niter = 129, stepsize = 5.820766091346741e-11, crit = 6.502448144605321e-11, upper_bound=-4.571413550290348, lower_bound=-4.571413550555276\n********* Algorithm starts *********\niter = 1, stepsize = 0.9999999999417923, criterion = 0.9991708800123971, upper_bound=0.07728407398226664, lower_bound=-5.181379733644665\nConvergence achieved!\niter = 129, stepsize = 5.820766091346741e-11, crit = 6.502448144605321e-11, upper_bound=-4.571413550290716, lower_bound=-4.571413550555925\n********* Algorithm starts *********\niter = 1, stepsize = 0.49663815237676956, criterion = 0.49632765647122273, upper_bound=0.05635009446772449, lower_bound=-5.176361103704231\niter = 10000, stepsize = 4.7862418721831496e-05, criterion = 5.278136910427205e-05, upper_bound=-4.57132757010893, lower_bound=-4.571469798211726\niter = 20000, stepsize = 2.999593588957629e-05, criterion = 2.6365590703014605e-05, upper_bound=-4.571370599932657, lower_bound=-4.571441565836857\niter = 30000, stepsize = 2.0217454246509263e-05, criterion = 1.754833302217465e-05, upper_bound=-4.571384925789463, lower_bound=-4.571432227348158\niter = 40000, stepsize = 1.953879151415453e-05, criterion = 1.3163271698363473e-05, upper_bound=-4.571392085381942, lower_bound=-4.571427544366111\niter = 50000, stepsize = 1.1657589160716282e-05, criterion = 1.052334487360702e-05, upper_bound=-4.571396380170556, lower_bound=-4.571424747691594\n131.18683099746704\n********* Algorithm starts *********\niter = 1, stepsize = 0.49712301314582225, criterion = 0.4963527778609575, upper_bound=0.049147919068273545, lower_bound=-5.173689271698835\niter = 10000, stepsize = 4.7862386451180013e-05, criterion = 5.2781332642234445e-05, upper_bound=-4.571327570167941, lower_bound=-4.571469798173386\niter = 20000, stepsize = 2.9995925588497438e-05, criterion = 2.6365582015504868e-05, upper_bound=-4.571370599947221, lower_bound=-4.571441565828237\niter = 30000, stepsize = 2.0217449559887028e-05, criterion = 1.7548328930806867e-05, upper_bound=-4.571384925796408, lower_bound=-4.571432227343412\niter = 40000, stepsize = 1.953878656814085e-05, criterion = 1.3163268179288768e-05, upper_bound=-4.571392085387685, lower_bound=-4.571427544362774\niter = 50000, stepsize = 1.1657589294294157e-05, criterion = 1.0523344862701878e-05, upper_bound=-4.5713963801705795, lower_bound=-4.571424747692116\n129.6995644569397\n********* Algorithm starts *********\niter = 1, stepsize = 0.49617633407488, criterion = 0.496389726317148, upper_bound=0.08705028063656792, lower_bound=-5.181166389193315\niter = 10000, stepsize = 4.786249492483816e-05, criterion = 5.2781453198191074e-05, upper_bound=-4.571327569972064, lower_bound=-4.571469798300184\niter = 20000, stepsize = 2.999595959977145e-05, criterion = 2.6365611934556212e-05, upper_bound=-4.571370599898651, lower_bound=-4.571441565858681\niter = 30000, stepsize = 2.021746273148689e-05, criterion = 1.7548341205804434e-05, upper_bound=-4.571384925777086, lower_bound=-4.571432227355956\niter = 40000, stepsize = 1.9538798428710867e-05, criterion = 1.3163276530779287e-05, upper_bound=-4.571392085374407, lower_bound=-4.571427544371439\niter = 50000, stepsize = 1.1657591113190343e-05, criterion = 1.0523346434289237e-05, upper_bound=-4.571396380168043, lower_bound=-4.57142474769339\n127.81902027130127\n********* Algorithm starts *********\niter = 1, stepsize = 0.49846806075123407, criterion = 0.49775026029673436, upper_bound=0.07978113571342738, lower_bound=-5.170846925146667\niter = 10000, stepsize = 4.7862503068448474e-05, criterion = 5.278146222146292e-05, upper_bound=-4.571327569956601, lower_bound=-4.571469798310266\niter = 20000, stepsize = 2.9995962217708774e-05, criterion = 2.6365613960869072e-05, upper_bound=-4.571370599894644, lower_bound=-4.571441565860944\niter = 30000, stepsize = 2.021746584038927e-05, criterion = 1.754834361197791e-05, upper_bound=-4.57138492577274, lower_bound=-4.571432227358585\niter = 40000, stepsize = 1.9538799965225747e-05, criterion = 1.3163277307293531e-05, upper_bound=-4.5713920853726995, lower_bound=-4.5714275443720025\niter = 50000, stepsize = 1.1657594127946824e-05, criterion = 1.052334934166098e-05, upper_bound=-4.571396380163263, lower_bound=-4.571424747696566\n129.98413372039795\n********* Algorithm starts *********\niter = 1, stepsize = 0.49587467491755793, criterion = 0.49546353534207743, upper_bound=0.07728407398226664, lower_bound=-5.181379733644665\niter = 10000, stepsize = 4.7862482065890526e-05, criterion = 5.2781440862811394e-05, upper_bound=-4.571327569995165, lower_bound=-4.571469798285641\niter = 20000, stepsize = 2.9995957624315654e-05, criterion = 2.6365609974806795e-05, upper_bound=-4.571370599902108, lower_bound=-4.571441565856679\niter = 30000, stepsize = 2.0217461533078147e-05, criterion = 1.7548340261554516e-05, upper_bound=-4.571384925778611, lower_bound=-4.571432227355979\niter = 40000, stepsize = 1.9538797869309292e-05, criterion = 1.3163276318413638e-05, upper_bound=-4.571392085374968, lower_bound=-4.57142754437081\niter = 50000, stepsize = 1.1657595560208589e-05, criterion = 1.052335055657638e-05, upper_bound=-4.571396380161522, lower_bound=-4.571424747697231\n127.2602744102478\n"
    }
   ],
   "source": [
    "run_alpha_policies = [\"standard\",\"line_search\",\"icml\"]\n",
    "\n",
    "for policy in run_alpha_policies:\n",
    "    policy_results = []\n",
    "    for i in range(len(points)):\n",
    "        x0 = points[i]\n",
    "        x, alpha_hist, Gap_hist, Q_hist, time_hist, grad_hist = frank_wolfe(func_x,\n",
    "                        grad_x,\n",
    "                        grad_beta,\n",
    "                        hess_mult_x,\n",
    "                        extra_func,                                                    \n",
    "                        Mf,\n",
    "                        nu,\n",
    "                        linear_oracle,                                                    \n",
    "                        x0,\n",
    "                        FW_params,        \n",
    "                        alpha_policy=policy,                                                    \n",
    "                        eps=terminate_tol, \n",
    "                        print_every=10000, \n",
    "                        debug_info=False)\n",
    "        policy_results.append(\n",
    "            {\n",
    "        'Q_hist': Q_hist,\n",
    "        'time_hist': time_hist,}\n",
    "        )\n",
    "    with open('./results/portfolio/' + problem_name + '_' + policy + '.pckl', 'wb') as f:\n",
    "        pickle.dump(policy_results, f)\n",
    "#    results[problem_name][policy] = policy_results"
   ]
  },
  {
   "cell_type": "code",
   "execution_count": 28,
   "metadata": {},
   "outputs": [
    {
     "output_type": "stream",
     "name": "stderr",
     "text": "\nKeyboardInterrupt\n\n"
    }
   ],
   "source": []
  },
  {
   "cell_type": "markdown",
   "metadata": {},
   "source": [
    "## Run FW with LLOO"
   ]
  },
  {
   "cell_type": "code",
   "execution_count": 9,
   "metadata": {},
   "outputs": [
    {
     "output_type": "stream",
     "name": "stdout",
     "text": "********* Algorithm starts *********\niter = 1, stepsize = 5.379930367470755e-05, criterion = 5.376566859566106e-05, upper_bound=0.05635009446772449, lower_bound=-5.1763611036884285\niter = 10, stepsize = 5.379950645429414e-05, criterion = 5.373984370850699e-05, upper_bound=0.05381727192997366, lower_bound=-5.1751942108230065\niter = 20, stepsize = 5.379973149373576e-05, criterion = 5.371116355085553e-05, upper_bound=0.05100511365245083, lower_bound=-5.173899000173009\n"
    },
    {
     "output_type": "error",
     "ename": "KeyboardInterrupt",
     "evalue": "",
     "traceback": [
      "\u001b[1;31m---------------------------------------------------------------------------\u001b[0m",
      "\u001b[1;31mKeyboardInterrupt\u001b[0m                         Traceback (most recent call last)",
      "\u001b[1;32m<ipython-input-9-a2703f0c8175>\u001b[0m in \u001b[0;36m<module>\u001b[1;34m\u001b[0m\n\u001b[0;32m     21\u001b[0m                        \u001b[0meps\u001b[0m\u001b[1;33m=\u001b[0m\u001b[0mterminate_tol\u001b[0m\u001b[1;33m,\u001b[0m\u001b[1;33m\u001b[0m\u001b[1;33m\u001b[0m\u001b[0m\n\u001b[0;32m     22\u001b[0m                        \u001b[0mprint_every\u001b[0m\u001b[1;33m=\u001b[0m\u001b[1;36m10\u001b[0m\u001b[1;33m,\u001b[0m\u001b[1;33m\u001b[0m\u001b[1;33m\u001b[0m\u001b[0m\n\u001b[1;32m---> 23\u001b[1;33m                        debug_info=False)\n\u001b[0m\u001b[0;32m     24\u001b[0m \u001b[1;33m\u001b[0m\u001b[0m\n\u001b[0;32m     25\u001b[0m     results[problem_name][policy] = {\n",
      "\u001b[1;32md:\\Users\\Kamil\\Documents\\study\\Optimization\\FW-SC\\scfw_experiments\\scfw\\frank_wolfe.py\u001b[0m in \u001b[0;36mfrank_wolfe\u001b[1;34m(fun_x, grad_x, grad_beta, hess_mult_x, extra_fun, Mf, nu, linear_oracle, x_0, FW_params, hess, sigma_f, diam_X, rho, alpha_policy, eps, print_every, debug_info)\u001b[0m\n\u001b[0;32m     94\u001b[0m                 \u001b[0mr\u001b[0m \u001b[1;33m=\u001b[0m \u001b[1;36m1\u001b[0m\u001b[1;33m\u001b[0m\u001b[1;33m\u001b[0m\u001b[0m\n\u001b[0;32m     95\u001b[0m             \u001b[0mhess_func\u001b[0m \u001b[1;33m=\u001b[0m \u001b[1;32mlambda\u001b[0m \u001b[0mx\u001b[0m\u001b[1;33m:\u001b[0m \u001b[0mhess\u001b[0m\u001b[1;33m(\u001b[0m\u001b[0mx\u001b[0m\u001b[1;33m,\u001b[0m \u001b[0mdot_product\u001b[0m\u001b[1;33m)\u001b[0m\u001b[1;33m\u001b[0m\u001b[1;33m\u001b[0m\u001b[0m\n\u001b[1;32m---> 96\u001b[1;33m             \u001b[0malpha\u001b[0m\u001b[1;33m,\u001b[0m \u001b[0mr\u001b[0m\u001b[1;33m,\u001b[0m \u001b[0mL\u001b[0m\u001b[1;33m,\u001b[0m \u001b[0mc\u001b[0m \u001b[1;33m=\u001b[0m \u001b[0malpha_lloo\u001b[0m\u001b[1;33m(\u001b[0m\u001b[0mx\u001b[0m\u001b[1;33m,\u001b[0m \u001b[0mhess_func\u001b[0m\u001b[1;33m,\u001b[0m \u001b[0mr\u001b[0m\u001b[1;33m,\u001b[0m \u001b[0mL\u001b[0m\u001b[1;33m,\u001b[0m \u001b[0mc\u001b[0m\u001b[1;33m,\u001b[0m \u001b[0mMf\u001b[0m\u001b[1;33m,\u001b[0m \u001b[0msigma_f\u001b[0m\u001b[1;33m,\u001b[0m \u001b[0mdiam_X\u001b[0m\u001b[1;33m,\u001b[0m \u001b[0mrho\u001b[0m\u001b[1;33m=\u001b[0m\u001b[0mrho\u001b[0m\u001b[1;33m)\u001b[0m\u001b[1;33m\u001b[0m\u001b[1;33m\u001b[0m\u001b[0m\n\u001b[0m\u001b[0;32m     97\u001b[0m             \u001b[0ms\u001b[0m \u001b[1;33m=\u001b[0m \u001b[0mlinear_oracle\u001b[0m\u001b[1;33m(\u001b[0m\u001b[0mx\u001b[0m\u001b[1;33m,\u001b[0m \u001b[0mr\u001b[0m\u001b[1;33m,\u001b[0m \u001b[0mgrad\u001b[0m\u001b[1;33m)\u001b[0m\u001b[1;33m\u001b[0m\u001b[1;33m\u001b[0m\u001b[0m\n\u001b[0;32m     98\u001b[0m             \u001b[0mdelta_x\u001b[0m \u001b[1;33m=\u001b[0m \u001b[0mx\u001b[0m \u001b[1;33m-\u001b[0m \u001b[0ms\u001b[0m\u001b[1;33m\u001b[0m\u001b[1;33m\u001b[0m\u001b[0m\n",
      "\u001b[1;32md:\\Users\\Kamil\\Documents\\study\\Optimization\\FW-SC\\scfw_experiments\\scfw\\alpha_policies.py\u001b[0m in \u001b[0;36malpha_lloo\u001b[1;34m(x, hess_func, r_k, L_k, c_k, Mf, sigma_f, diam_X, rho)\u001b[0m\n\u001b[0;32m     26\u001b[0m \u001b[1;32mdef\u001b[0m \u001b[0malpha_lloo\u001b[0m\u001b[1;33m(\u001b[0m\u001b[0mx\u001b[0m\u001b[1;33m,\u001b[0m \u001b[0mhess_func\u001b[0m\u001b[1;33m,\u001b[0m \u001b[0mr_k\u001b[0m\u001b[1;33m,\u001b[0m \u001b[0mL_k\u001b[0m\u001b[1;33m,\u001b[0m \u001b[0mc_k\u001b[0m\u001b[1;33m,\u001b[0m \u001b[0mMf\u001b[0m\u001b[1;33m,\u001b[0m \u001b[0msigma_f\u001b[0m\u001b[1;33m,\u001b[0m \u001b[0mdiam_X\u001b[0m\u001b[1;33m,\u001b[0m \u001b[0mrho\u001b[0m\u001b[1;33m)\u001b[0m\u001b[1;33m:\u001b[0m\u001b[1;33m\u001b[0m\u001b[1;33m\u001b[0m\u001b[0m\n\u001b[0;32m     27\u001b[0m     \u001b[0mr_k\u001b[0m \u001b[1;33m=\u001b[0m \u001b[0mr_k\u001b[0m \u001b[1;33m*\u001b[0m \u001b[0mnp\u001b[0m\u001b[1;33m.\u001b[0m\u001b[0msqrt\u001b[0m\u001b[1;33m(\u001b[0m\u001b[0mnp\u001b[0m\u001b[1;33m.\u001b[0m\u001b[0mexp\u001b[0m\u001b[1;33m(\u001b[0m\u001b[1;33m-\u001b[0m\u001b[0msigma_f\u001b[0m \u001b[1;33m/\u001b[0m \u001b[1;33m(\u001b[0m\u001b[1;36m12\u001b[0m \u001b[1;33m*\u001b[0m \u001b[0mrho\u001b[0m\u001b[1;33m**\u001b[0m\u001b[1;36m2\u001b[0m \u001b[1;33m*\u001b[0m \u001b[0mc_k\u001b[0m \u001b[1;33m*\u001b[0m \u001b[0mL_k\u001b[0m\u001b[1;33m)\u001b[0m\u001b[1;33m)\u001b[0m\u001b[1;33m)\u001b[0m\u001b[1;33m\u001b[0m\u001b[1;33m\u001b[0m\u001b[0m\n\u001b[1;32m---> 28\u001b[1;33m     \u001b[0mhess\u001b[0m \u001b[1;33m=\u001b[0m \u001b[0mhess_func\u001b[0m\u001b[1;33m(\u001b[0m\u001b[0mx\u001b[0m\u001b[1;33m)\u001b[0m\u001b[1;33m\u001b[0m\u001b[1;33m\u001b[0m\u001b[0m\n\u001b[0m\u001b[0;32m     29\u001b[0m     \u001b[0mL_k\u001b[0m \u001b[1;33m=\u001b[0m \u001b[0mmax\u001b[0m\u001b[1;33m(\u001b[0m\u001b[0mnp\u001b[0m\u001b[1;33m.\u001b[0m\u001b[0mlinalg\u001b[0m\u001b[1;33m.\u001b[0m\u001b[0meigvalsh\u001b[0m\u001b[1;33m(\u001b[0m\u001b[0mhess\u001b[0m\u001b[1;33m)\u001b[0m\u001b[1;33m)\u001b[0m\u001b[1;33m\u001b[0m\u001b[1;33m\u001b[0m\u001b[0m\n\u001b[0;32m     30\u001b[0m     \u001b[0mc_k\u001b[0m \u001b[1;33m=\u001b[0m \u001b[1;36m1\u001b[0m \u001b[1;33m+\u001b[0m \u001b[0mMf\u001b[0m \u001b[1;33m*\u001b[0m \u001b[0mdiam_X\u001b[0m \u001b[1;33m*\u001b[0m \u001b[0mnp\u001b[0m\u001b[1;33m.\u001b[0m\u001b[0msqrt\u001b[0m\u001b[1;33m(\u001b[0m\u001b[0mL_k\u001b[0m\u001b[1;33m)\u001b[0m \u001b[1;33m/\u001b[0m \u001b[1;36m2\u001b[0m\u001b[1;33m\u001b[0m\u001b[1;33m\u001b[0m\u001b[0m\n",
      "\u001b[1;32md:\\Users\\Kamil\\Documents\\study\\Optimization\\FW-SC\\scfw_experiments\\scfw\\frank_wolfe.py\u001b[0m in \u001b[0;36m<lambda>\u001b[1;34m(x)\u001b[0m\n\u001b[0;32m     93\u001b[0m                 \u001b[0mc\u001b[0m \u001b[1;33m=\u001b[0m \u001b[1;36m1\u001b[0m \u001b[1;33m+\u001b[0m \u001b[0mMf\u001b[0m \u001b[1;33m*\u001b[0m \u001b[0mdiam_X\u001b[0m \u001b[1;33m*\u001b[0m \u001b[0mnp\u001b[0m\u001b[1;33m.\u001b[0m\u001b[0msqrt\u001b[0m\u001b[1;33m(\u001b[0m\u001b[0mL\u001b[0m\u001b[1;33m)\u001b[0m \u001b[1;33m/\u001b[0m \u001b[1;36m2\u001b[0m\u001b[1;33m\u001b[0m\u001b[1;33m\u001b[0m\u001b[0m\n\u001b[0;32m     94\u001b[0m                 \u001b[0mr\u001b[0m \u001b[1;33m=\u001b[0m \u001b[1;36m1\u001b[0m\u001b[1;33m\u001b[0m\u001b[1;33m\u001b[0m\u001b[0m\n\u001b[1;32m---> 95\u001b[1;33m             \u001b[0mhess_func\u001b[0m \u001b[1;33m=\u001b[0m \u001b[1;32mlambda\u001b[0m \u001b[0mx\u001b[0m\u001b[1;33m:\u001b[0m \u001b[0mhess\u001b[0m\u001b[1;33m(\u001b[0m\u001b[0mx\u001b[0m\u001b[1;33m,\u001b[0m \u001b[0mdot_product\u001b[0m\u001b[1;33m)\u001b[0m\u001b[1;33m\u001b[0m\u001b[1;33m\u001b[0m\u001b[0m\n\u001b[0m\u001b[0;32m     96\u001b[0m             \u001b[0malpha\u001b[0m\u001b[1;33m,\u001b[0m \u001b[0mr\u001b[0m\u001b[1;33m,\u001b[0m \u001b[0mL\u001b[0m\u001b[1;33m,\u001b[0m \u001b[0mc\u001b[0m \u001b[1;33m=\u001b[0m \u001b[0malpha_lloo\u001b[0m\u001b[1;33m(\u001b[0m\u001b[0mx\u001b[0m\u001b[1;33m,\u001b[0m \u001b[0mhess_func\u001b[0m\u001b[1;33m,\u001b[0m \u001b[0mr\u001b[0m\u001b[1;33m,\u001b[0m \u001b[0mL\u001b[0m\u001b[1;33m,\u001b[0m \u001b[0mc\u001b[0m\u001b[1;33m,\u001b[0m \u001b[0mMf\u001b[0m\u001b[1;33m,\u001b[0m \u001b[0msigma_f\u001b[0m\u001b[1;33m,\u001b[0m \u001b[0mdiam_X\u001b[0m\u001b[1;33m,\u001b[0m \u001b[0mrho\u001b[0m\u001b[1;33m=\u001b[0m\u001b[0mrho\u001b[0m\u001b[1;33m)\u001b[0m\u001b[1;33m\u001b[0m\u001b[1;33m\u001b[0m\u001b[0m\n\u001b[0;32m     97\u001b[0m             \u001b[0ms\u001b[0m \u001b[1;33m=\u001b[0m \u001b[0mlinear_oracle\u001b[0m\u001b[1;33m(\u001b[0m\u001b[0mx\u001b[0m\u001b[1;33m,\u001b[0m \u001b[0mr\u001b[0m\u001b[1;33m,\u001b[0m \u001b[0mgrad\u001b[0m\u001b[1;33m)\u001b[0m\u001b[1;33m\u001b[0m\u001b[1;33m\u001b[0m\u001b[0m\n",
      "\u001b[1;32m<ipython-input-5-88ba89e38b14>\u001b[0m in \u001b[0;36m<lambda>\u001b[1;34m(x, dot_product)\u001b[0m\n\u001b[0;32m      2\u001b[0m \u001b[0mgrad_x\u001b[0m \u001b[1;33m=\u001b[0m \u001b[1;32mlambda\u001b[0m \u001b[0mx\u001b[0m\u001b[1;33m,\u001b[0m \u001b[0mdot_product\u001b[0m\u001b[1;33m:\u001b[0m \u001b[0mpr\u001b[0m\u001b[1;33m.\u001b[0m\u001b[0mgrad_portfolio\u001b[0m\u001b[1;33m(\u001b[0m\u001b[0mR\u001b[0m\u001b[1;33m,\u001b[0m \u001b[0mx\u001b[0m\u001b[1;33m,\u001b[0m \u001b[0mdot_product\u001b[0m\u001b[1;33m)\u001b[0m\u001b[1;33m\u001b[0m\u001b[1;33m\u001b[0m\u001b[0m\n\u001b[0;32m      3\u001b[0m \u001b[0mgrad_beta\u001b[0m \u001b[1;33m=\u001b[0m \u001b[1;32mlambda\u001b[0m \u001b[0mx\u001b[0m\u001b[1;33m,\u001b[0m \u001b[0ms\u001b[0m\u001b[1;33m,\u001b[0m \u001b[0mbeta\u001b[0m\u001b[1;33m,\u001b[0m \u001b[0mdot_product\u001b[0m\u001b[1;33m,\u001b[0m \u001b[0mdot_product_s\u001b[0m\u001b[1;33m:\u001b[0m \u001b[0mpr\u001b[0m\u001b[1;33m.\u001b[0m\u001b[0mgrad_portfolio\u001b[0m\u001b[1;33m(\u001b[0m\u001b[0mR\u001b[0m\u001b[1;33m,\u001b[0m \u001b[1;33m(\u001b[0m\u001b[1;36m1\u001b[0m \u001b[1;33m-\u001b[0m \u001b[0mbeta\u001b[0m\u001b[1;33m)\u001b[0m \u001b[1;33m*\u001b[0m \u001b[0mx\u001b[0m \u001b[1;33m+\u001b[0m \u001b[0mbeta\u001b[0m \u001b[1;33m*\u001b[0m \u001b[0ms\u001b[0m\u001b[1;33m,\u001b[0m \u001b[1;33m(\u001b[0m\u001b[1;36m1\u001b[0m \u001b[1;33m-\u001b[0m \u001b[0mbeta\u001b[0m\u001b[1;33m)\u001b[0m \u001b[1;33m*\u001b[0m \u001b[0mdot_product\u001b[0m \u001b[1;33m+\u001b[0m \u001b[0mbeta\u001b[0m \u001b[1;33m*\u001b[0m \u001b[0mdot_product_s\u001b[0m\u001b[1;33m)\u001b[0m\u001b[1;33m\u001b[0m\u001b[1;33m\u001b[0m\u001b[0m\n\u001b[1;32m----> 4\u001b[1;33m \u001b[0mhess_x\u001b[0m \u001b[1;33m=\u001b[0m \u001b[1;32mlambda\u001b[0m \u001b[0mx\u001b[0m\u001b[1;33m,\u001b[0m \u001b[0mdot_product\u001b[0m\u001b[1;33m:\u001b[0m \u001b[0mpr\u001b[0m\u001b[1;33m.\u001b[0m\u001b[0mhess_portfolio\u001b[0m\u001b[1;33m(\u001b[0m\u001b[0mR\u001b[0m\u001b[1;33m,\u001b[0m \u001b[0mx\u001b[0m\u001b[1;33m,\u001b[0m \u001b[0mdot_product\u001b[0m\u001b[1;33m)\u001b[0m\u001b[1;33m\u001b[0m\u001b[1;33m\u001b[0m\u001b[0m\n\u001b[0m\u001b[0;32m      5\u001b[0m \u001b[0mhess_mult_x\u001b[0m \u001b[1;33m=\u001b[0m \u001b[1;32mlambda\u001b[0m \u001b[0mx\u001b[0m\u001b[1;33m,\u001b[0m \u001b[0mdot_product\u001b[0m\u001b[1;33m:\u001b[0m \u001b[0mpr\u001b[0m\u001b[1;33m.\u001b[0m\u001b[0mhess_mult_portfolio\u001b[0m\u001b[1;33m(\u001b[0m\u001b[0mR\u001b[0m\u001b[1;33m,\u001b[0m \u001b[0mx\u001b[0m\u001b[1;33m,\u001b[0m \u001b[0mdot_product\u001b[0m\u001b[1;33m)\u001b[0m\u001b[1;33m\u001b[0m\u001b[1;33m\u001b[0m\u001b[0m\n\u001b[0;32m      6\u001b[0m \u001b[0mhess_mult_vec_x\u001b[0m \u001b[1;33m=\u001b[0m \u001b[1;32mlambda\u001b[0m \u001b[0ms\u001b[0m\u001b[1;33m,\u001b[0m \u001b[0mdot_product\u001b[0m\u001b[1;33m:\u001b[0m \u001b[0mpr\u001b[0m\u001b[1;33m.\u001b[0m\u001b[0mhess_mult_vec\u001b[0m\u001b[1;33m(\u001b[0m\u001b[0mR\u001b[0m\u001b[1;33m,\u001b[0m \u001b[0ms\u001b[0m\u001b[1;33m,\u001b[0m \u001b[0mdot_product\u001b[0m\u001b[1;33m)\u001b[0m\u001b[1;33m\u001b[0m\u001b[1;33m\u001b[0m\u001b[0m\n",
      "\u001b[1;32md:\\Users\\Kamil\\Documents\\study\\Optimization\\FW-SC\\scfw_experiments\\scfw\\portfolio.py\u001b[0m in \u001b[0;36mhess_portfolio\u001b[1;34m(R, d, Rx)\u001b[0m\n\u001b[0;32m     29\u001b[0m         \u001b[0mRx\u001b[0m \u001b[1;33m=\u001b[0m \u001b[0mR\u001b[0m\u001b[1;33m.\u001b[0m\u001b[0mdot\u001b[0m\u001b[1;33m(\u001b[0m\u001b[0md\u001b[0m\u001b[1;33m)\u001b[0m\u001b[1;33m\u001b[0m\u001b[1;33m\u001b[0m\u001b[0m\n\u001b[0;32m     30\u001b[0m     \u001b[0mZ\u001b[0m \u001b[1;33m=\u001b[0m \u001b[0mR\u001b[0m \u001b[1;33m/\u001b[0m \u001b[0mRx\u001b[0m\u001b[1;33m.\u001b[0m\u001b[0mreshape\u001b[0m\u001b[1;33m(\u001b[0m\u001b[1;33m-\u001b[0m\u001b[1;36m1\u001b[0m\u001b[1;33m,\u001b[0m \u001b[1;36m1\u001b[0m\u001b[1;33m)\u001b[0m\u001b[1;33m\u001b[0m\u001b[1;33m\u001b[0m\u001b[0m\n\u001b[1;32m---> 31\u001b[1;33m     \u001b[1;32mreturn\u001b[0m \u001b[0mnp\u001b[0m\u001b[1;33m.\u001b[0m\u001b[0meinsum\u001b[0m\u001b[1;33m(\u001b[0m\u001b[1;34m'ij,ik->jk'\u001b[0m\u001b[1;33m,\u001b[0m \u001b[0mZ\u001b[0m\u001b[1;33m,\u001b[0m \u001b[0mZ\u001b[0m\u001b[1;33m,\u001b[0m \u001b[0mdtype\u001b[0m\u001b[1;33m=\u001b[0m\u001b[0mdtype\u001b[0m\u001b[1;33m)\u001b[0m\u001b[1;33m\u001b[0m\u001b[1;33m\u001b[0m\u001b[0m\n\u001b[0m\u001b[0;32m     32\u001b[0m \u001b[1;33m\u001b[0m\u001b[0m\n\u001b[0;32m     33\u001b[0m \u001b[1;32mdef\u001b[0m \u001b[0mhess_mult_vec\u001b[0m\u001b[1;33m(\u001b[0m\u001b[0mR\u001b[0m\u001b[1;33m,\u001b[0m \u001b[0md\u001b[0m\u001b[1;33m,\u001b[0m \u001b[0mRx\u001b[0m\u001b[1;33m)\u001b[0m\u001b[1;33m:\u001b[0m\u001b[1;33m\u001b[0m\u001b[1;33m\u001b[0m\u001b[0m\n",
      "\u001b[1;32m<__array_function__ internals>\u001b[0m in \u001b[0;36meinsum\u001b[1;34m(*args, **kwargs)\u001b[0m\n",
      "\u001b[1;32mC:\\ProgramData\\Anaconda3\\lib\\site-packages\\numpy\\core\\einsumfunc.py\u001b[0m in \u001b[0;36meinsum\u001b[1;34m(*operands, **kwargs)\u001b[0m\n\u001b[0;32m   1354\u001b[0m     \u001b[1;31m# If no optimization, run pure einsum\u001b[0m\u001b[1;33m\u001b[0m\u001b[1;33m\u001b[0m\u001b[1;33m\u001b[0m\u001b[0m\n\u001b[0;32m   1355\u001b[0m     \u001b[1;32mif\u001b[0m \u001b[0moptimize_arg\u001b[0m \u001b[1;32mis\u001b[0m \u001b[1;32mFalse\u001b[0m\u001b[1;33m:\u001b[0m\u001b[1;33m\u001b[0m\u001b[1;33m\u001b[0m\u001b[0m\n\u001b[1;32m-> 1356\u001b[1;33m         \u001b[1;32mreturn\u001b[0m \u001b[0mc_einsum\u001b[0m\u001b[1;33m(\u001b[0m\u001b[1;33m*\u001b[0m\u001b[0moperands\u001b[0m\u001b[1;33m,\u001b[0m \u001b[1;33m**\u001b[0m\u001b[0mkwargs\u001b[0m\u001b[1;33m)\u001b[0m\u001b[1;33m\u001b[0m\u001b[1;33m\u001b[0m\u001b[0m\n\u001b[0m\u001b[0;32m   1357\u001b[0m \u001b[1;33m\u001b[0m\u001b[0m\n\u001b[0;32m   1358\u001b[0m     \u001b[0mvalid_einsum_kwargs\u001b[0m \u001b[1;33m=\u001b[0m \u001b[1;33m[\u001b[0m\u001b[1;34m'out'\u001b[0m\u001b[1;33m,\u001b[0m \u001b[1;34m'dtype'\u001b[0m\u001b[1;33m,\u001b[0m \u001b[1;34m'order'\u001b[0m\u001b[1;33m,\u001b[0m \u001b[1;34m'casting'\u001b[0m\u001b[1;33m]\u001b[0m\u001b[1;33m\u001b[0m\u001b[1;33m\u001b[0m\u001b[0m\n",
      "\u001b[1;31mKeyboardInterrupt\u001b[0m: "
     ]
    }
   ],
   "source": [
    "#run_alpha_policies = [\"standard\",\"line_search\",\"icml\"]\n",
    "run_alpha_policies = ['lloo']\n",
    "\n",
    "\n",
    "for policy in run_alpha_policies:\n",
    "    x, alpha_hist, Gap_hist, Q_hist, time_hist, grad_hist = frank_wolfe(func_x,\n",
    "                       grad_x,\n",
    "                       grad_beta,\n",
    "                       hess_mult_x,\n",
    "                       extra_func,                                                    \n",
    "                       Mf,\n",
    "                       nu,\n",
    "                       llo_oracle,                                                    \n",
    "                       x0,\n",
    "                       FW_params,\n",
    "                       hess=hess_x,\n",
    "                       rho=rho,\n",
    "                       sigma_f=sigma_f,\n",
    "                       diam_X=diam_X,                                            \n",
    "                       alpha_policy=policy,                                                    \n",
    "                       eps=terminate_tol, \n",
    "                       print_every=10, \n",
    "                       debug_info=False)\n",
    "    \n",
    "    results[problem_name][policy] = {\n",
    "        'x': x,\n",
    "        'alpha_hist': alpha_hist,\n",
    "        'Gap_hist': Gap_hist,\n",
    "        'Q_hist': Q_hist,\n",
    "        'time_hist': time_hist,\n",
    "        'grad_hist': grad_hist\n",
    "    }"
   ]
  },
  {
   "cell_type": "markdown",
   "metadata": {},
   "source": [
    "## Run SCOPT"
   ]
  },
  {
   "cell_type": "code",
   "execution_count": 8,
   "metadata": {},
   "outputs": [
    {
     "output_type": "error",
     "ename": "KeyboardInterrupt",
     "evalue": "",
     "traceback": [
      "\u001b[1;31m---------------------------------------------------------------------------\u001b[0m",
      "\u001b[1;31mKeyboardInterrupt\u001b[0m                         Traceback (most recent call last)",
      "\u001b[1;32m<ipython-input-8-59d16fda6b87>\u001b[0m in \u001b[0;36m<module>\u001b[1;34m\u001b[0m\n\u001b[0;32m     12\u001b[0m             \u001b[0msc_params\u001b[0m\u001b[1;33m,\u001b[0m\u001b[1;33m\u001b[0m\u001b[1;33m\u001b[0m\u001b[0m\n\u001b[0;32m     13\u001b[0m             \u001b[0meps\u001b[0m\u001b[1;33m=\u001b[0m\u001b[0mterminate_tol\u001b[0m\u001b[1;33m,\u001b[0m\u001b[1;33m\u001b[0m\u001b[1;33m\u001b[0m\u001b[0m\n\u001b[1;32m---> 14\u001b[1;33m             print_every=1)\n\u001b[0m\u001b[0;32m     15\u001b[0m \u001b[1;33m\u001b[0m\u001b[0m\n\u001b[0;32m     16\u001b[0m     scopt_results.append({\n",
      "\u001b[1;32md:\\Users\\Kamil\\Documents\\study\\Optimization\\FW-SC\\scfw_experiments\\scfw\\scopt.py\u001b[0m in \u001b[0;36mscopt\u001b[1;34m(func_x, grad_x, hess_mult, hess_mult_vec, Mf, nu, prox_func, x0, sc_params, eps, print_every)\u001b[0m\n\u001b[0;32m    174\u001b[0m         \u001b[1;32mdef\u001b[0m \u001b[0mgrad_func\u001b[0m\u001b[1;33m(\u001b[0m\u001b[0mxx\u001b[0m\u001b[1;33m)\u001b[0m\u001b[1;33m:\u001b[0m \u001b[1;32mreturn\u001b[0m \u001b[0mHopr\u001b[0m\u001b[1;33m(\u001b[0m\u001b[0mxx\u001b[0m \u001b[1;33m-\u001b[0m \u001b[0mx\u001b[0m\u001b[1;33m)\u001b[0m\u001b[1;33m+\u001b[0m\u001b[0mGrad\u001b[0m\u001b[1;33m\u001b[0m\u001b[1;33m\u001b[0m\u001b[0m\n\u001b[0;32m    175\u001b[0m         \u001b[1;32mdef\u001b[0m \u001b[0mQuad\u001b[0m\u001b[1;33m(\u001b[0m\u001b[0mxx\u001b[0m\u001b[1;33m)\u001b[0m\u001b[1;33m:\u001b[0m \u001b[1;32mreturn\u001b[0m \u001b[0mhess_mult\u001b[0m\u001b[1;33m(\u001b[0m\u001b[0mxx\u001b[0m\u001b[1;33m-\u001b[0m\u001b[0mx\u001b[0m\u001b[1;33m,\u001b[0m\u001b[0mextra_param\u001b[0m\u001b[1;33m)\u001b[0m\u001b[1;33m*\u001b[0m\u001b[1;36m0.5\u001b[0m\u001b[1;33m+\u001b[0m\u001b[0mdot_product\u001b[0m\u001b[1;33m(\u001b[0m\u001b[0mGrad\u001b[0m\u001b[1;33m,\u001b[0m\u001b[0mxx\u001b[0m\u001b[1;33m-\u001b[0m\u001b[0mx\u001b[0m\u001b[1;33m)\u001b[0m\u001b[1;33m\u001b[0m\u001b[1;33m\u001b[0m\u001b[0m\n\u001b[1;32m--> 176\u001b[1;33m         \u001b[0mx_nxt\u001b[0m \u001b[1;33m=\u001b[0m \u001b[0mfista\u001b[0m\u001b[1;33m(\u001b[0m\u001b[0mQuad\u001b[0m\u001b[1;33m,\u001b[0m \u001b[0mgrad_func\u001b[0m\u001b[1;33m,\u001b[0m \u001b[0mprox_func\u001b[0m\u001b[1;33m,\u001b[0m \u001b[0mHopr\u001b[0m\u001b[1;33m,\u001b[0m \u001b[0mx\u001b[0m\u001b[1;33m,\u001b[0m \u001b[0msc_params\u001b[0m\u001b[1;33m)\u001b[0m\u001b[1;33m\u001b[0m\u001b[1;33m\u001b[0m\u001b[0m\n\u001b[0m\u001b[0;32m    177\u001b[0m         \u001b[0mdiffx\u001b[0m \u001b[1;33m=\u001b[0m \u001b[0mx_nxt\u001b[0m \u001b[1;33m-\u001b[0m \u001b[0mx\u001b[0m\u001b[1;33m\u001b[0m\u001b[1;33m\u001b[0m\u001b[0m\n\u001b[0;32m    178\u001b[0m         \u001b[1;32mif\u001b[0m \u001b[0mnorm\u001b[0m\u001b[1;33m(\u001b[0m\u001b[0mdiffx\u001b[0m\u001b[1;33m)\u001b[0m\u001b[1;33m<\u001b[0m\u001b[1;36m1e-10\u001b[0m\u001b[1;33m:\u001b[0m\u001b[1;33m\u001b[0m\u001b[1;33m\u001b[0m\u001b[0m\n",
      "\u001b[1;32md:\\Users\\Kamil\\Documents\\study\\Optimization\\FW-SC\\scfw_experiments\\scfw\\scopt.py\u001b[0m in \u001b[0;36mfista\u001b[1;34m(func, Grad_func, prox_func, Hopr, x, sc_params)\u001b[0m\n\u001b[0;32m    103\u001b[0m             \u001b[0mx_tmp\u001b[0m \u001b[1;33m=\u001b[0m \u001b[0my\u001b[0m \u001b[1;33m-\u001b[0m \u001b[1;36m1\u001b[0m \u001b[1;33m/\u001b[0m \u001b[0mL\u001b[0m \u001b[1;33m*\u001b[0m \u001b[0mgrad_y\u001b[0m\u001b[1;33m\u001b[0m\u001b[1;33m\u001b[0m\u001b[0m\n\u001b[0;32m    104\u001b[0m             \u001b[0mz\u001b[0m \u001b[1;33m=\u001b[0m \u001b[0mprox_func\u001b[0m\u001b[1;33m(\u001b[0m\u001b[0mx_tmp\u001b[0m\u001b[1;33m,\u001b[0m \u001b[0mL\u001b[0m\u001b[1;33m)\u001b[0m\u001b[1;33m\u001b[0m\u001b[1;33m\u001b[0m\u001b[0m\n\u001b[1;32m--> 105\u001b[1;33m             \u001b[0mf_z\u001b[0m \u001b[1;33m=\u001b[0m \u001b[0mfunc\u001b[0m\u001b[1;33m(\u001b[0m\u001b[0mz\u001b[0m\u001b[1;33m)\u001b[0m\u001b[1;33m\u001b[0m\u001b[1;33m\u001b[0m\u001b[0m\n\u001b[0m\u001b[0;32m    106\u001b[0m             \u001b[0mdiff_yz\u001b[0m \u001b[1;33m=\u001b[0m \u001b[0mz\u001b[0m \u001b[1;33m-\u001b[0m \u001b[0my\u001b[0m\u001b[1;33m\u001b[0m\u001b[1;33m\u001b[0m\u001b[0m\n\u001b[0;32m    107\u001b[0m             \u001b[1;32mif\u001b[0m \u001b[0mL\u001b[0m\u001b[1;33m>\u001b[0m\u001b[1;36m1e+20\u001b[0m\u001b[1;33m:\u001b[0m\u001b[1;33m\u001b[0m\u001b[1;33m\u001b[0m\u001b[0m\n",
      "\u001b[1;32md:\\Users\\Kamil\\Documents\\study\\Optimization\\FW-SC\\scfw_experiments\\scfw\\scopt.py\u001b[0m in \u001b[0;36mQuad\u001b[1;34m(xx)\u001b[0m\n\u001b[0;32m    173\u001b[0m         \u001b[1;31m#    print('boo')\u001b[0m\u001b[1;33m\u001b[0m\u001b[1;33m\u001b[0m\u001b[1;33m\u001b[0m\u001b[0m\n\u001b[0;32m    174\u001b[0m         \u001b[1;32mdef\u001b[0m \u001b[0mgrad_func\u001b[0m\u001b[1;33m(\u001b[0m\u001b[0mxx\u001b[0m\u001b[1;33m)\u001b[0m\u001b[1;33m:\u001b[0m \u001b[1;32mreturn\u001b[0m \u001b[0mHopr\u001b[0m\u001b[1;33m(\u001b[0m\u001b[0mxx\u001b[0m \u001b[1;33m-\u001b[0m \u001b[0mx\u001b[0m\u001b[1;33m)\u001b[0m\u001b[1;33m+\u001b[0m\u001b[0mGrad\u001b[0m\u001b[1;33m\u001b[0m\u001b[1;33m\u001b[0m\u001b[0m\n\u001b[1;32m--> 175\u001b[1;33m         \u001b[1;32mdef\u001b[0m \u001b[0mQuad\u001b[0m\u001b[1;33m(\u001b[0m\u001b[0mxx\u001b[0m\u001b[1;33m)\u001b[0m\u001b[1;33m:\u001b[0m \u001b[1;32mreturn\u001b[0m \u001b[0mhess_mult\u001b[0m\u001b[1;33m(\u001b[0m\u001b[0mxx\u001b[0m\u001b[1;33m-\u001b[0m\u001b[0mx\u001b[0m\u001b[1;33m,\u001b[0m\u001b[0mextra_param\u001b[0m\u001b[1;33m)\u001b[0m\u001b[1;33m*\u001b[0m\u001b[1;36m0.5\u001b[0m\u001b[1;33m+\u001b[0m\u001b[0mdot_product\u001b[0m\u001b[1;33m(\u001b[0m\u001b[0mGrad\u001b[0m\u001b[1;33m,\u001b[0m\u001b[0mxx\u001b[0m\u001b[1;33m-\u001b[0m\u001b[0mx\u001b[0m\u001b[1;33m)\u001b[0m\u001b[1;33m\u001b[0m\u001b[1;33m\u001b[0m\u001b[0m\n\u001b[0m\u001b[0;32m    176\u001b[0m         \u001b[0mx_nxt\u001b[0m \u001b[1;33m=\u001b[0m \u001b[0mfista\u001b[0m\u001b[1;33m(\u001b[0m\u001b[0mQuad\u001b[0m\u001b[1;33m,\u001b[0m \u001b[0mgrad_func\u001b[0m\u001b[1;33m,\u001b[0m \u001b[0mprox_func\u001b[0m\u001b[1;33m,\u001b[0m \u001b[0mHopr\u001b[0m\u001b[1;33m,\u001b[0m \u001b[0mx\u001b[0m\u001b[1;33m,\u001b[0m \u001b[0msc_params\u001b[0m\u001b[1;33m)\u001b[0m\u001b[1;33m\u001b[0m\u001b[1;33m\u001b[0m\u001b[0m\n\u001b[0;32m    177\u001b[0m         \u001b[0mdiffx\u001b[0m \u001b[1;33m=\u001b[0m \u001b[0mx_nxt\u001b[0m \u001b[1;33m-\u001b[0m \u001b[0mx\u001b[0m\u001b[1;33m\u001b[0m\u001b[1;33m\u001b[0m\u001b[0m\n",
      "\u001b[1;32m<ipython-input-5-88ba89e38b14>\u001b[0m in \u001b[0;36m<lambda>\u001b[1;34m(x, dot_product)\u001b[0m\n\u001b[0;32m      3\u001b[0m \u001b[0mgrad_beta\u001b[0m \u001b[1;33m=\u001b[0m \u001b[1;32mlambda\u001b[0m \u001b[0mx\u001b[0m\u001b[1;33m,\u001b[0m \u001b[0ms\u001b[0m\u001b[1;33m,\u001b[0m \u001b[0mbeta\u001b[0m\u001b[1;33m,\u001b[0m \u001b[0mdot_product\u001b[0m\u001b[1;33m,\u001b[0m \u001b[0mdot_product_s\u001b[0m\u001b[1;33m:\u001b[0m \u001b[0mpr\u001b[0m\u001b[1;33m.\u001b[0m\u001b[0mgrad_portfolio\u001b[0m\u001b[1;33m(\u001b[0m\u001b[0mR\u001b[0m\u001b[1;33m,\u001b[0m \u001b[1;33m(\u001b[0m\u001b[1;36m1\u001b[0m \u001b[1;33m-\u001b[0m \u001b[0mbeta\u001b[0m\u001b[1;33m)\u001b[0m \u001b[1;33m*\u001b[0m \u001b[0mx\u001b[0m \u001b[1;33m+\u001b[0m \u001b[0mbeta\u001b[0m \u001b[1;33m*\u001b[0m \u001b[0ms\u001b[0m\u001b[1;33m,\u001b[0m \u001b[1;33m(\u001b[0m\u001b[1;36m1\u001b[0m \u001b[1;33m-\u001b[0m \u001b[0mbeta\u001b[0m\u001b[1;33m)\u001b[0m \u001b[1;33m*\u001b[0m \u001b[0mdot_product\u001b[0m \u001b[1;33m+\u001b[0m \u001b[0mbeta\u001b[0m \u001b[1;33m*\u001b[0m \u001b[0mdot_product_s\u001b[0m\u001b[1;33m)\u001b[0m\u001b[1;33m\u001b[0m\u001b[1;33m\u001b[0m\u001b[0m\n\u001b[0;32m      4\u001b[0m \u001b[0mhess_x\u001b[0m \u001b[1;33m=\u001b[0m \u001b[1;32mlambda\u001b[0m \u001b[0mx\u001b[0m\u001b[1;33m,\u001b[0m \u001b[0mdot_product\u001b[0m\u001b[1;33m:\u001b[0m \u001b[0mpr\u001b[0m\u001b[1;33m.\u001b[0m\u001b[0mhess_portfolio\u001b[0m\u001b[1;33m(\u001b[0m\u001b[0mR\u001b[0m\u001b[1;33m,\u001b[0m \u001b[0mx\u001b[0m\u001b[1;33m,\u001b[0m \u001b[0mdot_product\u001b[0m\u001b[1;33m)\u001b[0m\u001b[1;33m\u001b[0m\u001b[1;33m\u001b[0m\u001b[0m\n\u001b[1;32m----> 5\u001b[1;33m \u001b[0mhess_mult_x\u001b[0m \u001b[1;33m=\u001b[0m \u001b[1;32mlambda\u001b[0m \u001b[0mx\u001b[0m\u001b[1;33m,\u001b[0m \u001b[0mdot_product\u001b[0m\u001b[1;33m:\u001b[0m \u001b[0mpr\u001b[0m\u001b[1;33m.\u001b[0m\u001b[0mhess_mult_portfolio\u001b[0m\u001b[1;33m(\u001b[0m\u001b[0mR\u001b[0m\u001b[1;33m,\u001b[0m \u001b[0mx\u001b[0m\u001b[1;33m,\u001b[0m \u001b[0mdot_product\u001b[0m\u001b[1;33m)\u001b[0m\u001b[1;33m\u001b[0m\u001b[1;33m\u001b[0m\u001b[0m\n\u001b[0m\u001b[0;32m      6\u001b[0m \u001b[0mhess_mult_vec_x\u001b[0m \u001b[1;33m=\u001b[0m \u001b[1;32mlambda\u001b[0m \u001b[0ms\u001b[0m\u001b[1;33m,\u001b[0m \u001b[0mdot_product\u001b[0m\u001b[1;33m:\u001b[0m \u001b[0mpr\u001b[0m\u001b[1;33m.\u001b[0m\u001b[0mhess_mult_vec\u001b[0m\u001b[1;33m(\u001b[0m\u001b[0mR\u001b[0m\u001b[1;33m,\u001b[0m \u001b[0ms\u001b[0m\u001b[1;33m,\u001b[0m \u001b[0mdot_product\u001b[0m\u001b[1;33m)\u001b[0m\u001b[1;33m\u001b[0m\u001b[1;33m\u001b[0m\u001b[0m\n\u001b[0;32m      7\u001b[0m \u001b[0mextra_func\u001b[0m \u001b[1;33m=\u001b[0m \u001b[1;32mlambda\u001b[0m \u001b[0mx\u001b[0m\u001b[1;33m:\u001b[0m \u001b[0mR\u001b[0m \u001b[1;33m@\u001b[0m \u001b[0mx\u001b[0m\u001b[1;33m\u001b[0m\u001b[1;33m\u001b[0m\u001b[0m\n",
      "\u001b[1;32md:\\Users\\Kamil\\Documents\\study\\Optimization\\FW-SC\\scfw_experiments\\scfw\\portfolio.py\u001b[0m in \u001b[0;36mhess_mult_portfolio\u001b[1;34m(R, d, Rx)\u001b[0m\n\u001b[0;32m     45\u001b[0m         \u001b[0mx\u001b[0m \u001b[1;33m-\u001b[0m\u001b[1;33m-\u001b[0m \u001b[0mweights\u001b[0m \u001b[1;33m(\u001b[0m\u001b[0mn\u001b[0m\u001b[1;33m)\u001b[0m\u001b[1;33m\u001b[0m\u001b[1;33m\u001b[0m\u001b[0m\n\u001b[0;32m     46\u001b[0m     \"\"\"\n\u001b[1;32m---> 47\u001b[1;33m     \u001b[0mRd\u001b[0m \u001b[1;33m=\u001b[0m \u001b[1;33m(\u001b[0m\u001b[0mR\u001b[0m \u001b[1;33m@\u001b[0m \u001b[0md\u001b[0m\u001b[1;33m)\u001b[0m\u001b[1;33m\u001b[0m\u001b[1;33m\u001b[0m\u001b[0m\n\u001b[0m\u001b[0;32m     48\u001b[0m     \u001b[0mZ\u001b[0m \u001b[1;33m=\u001b[0m \u001b[1;33m(\u001b[0m\u001b[0mRd\u001b[0m \u001b[1;33m/\u001b[0m \u001b[0mRx\u001b[0m\u001b[1;33m)\u001b[0m \u001b[1;33m**\u001b[0m \u001b[1;36m2\u001b[0m\u001b[1;33m\u001b[0m\u001b[1;33m\u001b[0m\u001b[0m\n\u001b[0;32m     49\u001b[0m     \u001b[1;32mreturn\u001b[0m \u001b[0mnp\u001b[0m\u001b[1;33m.\u001b[0m\u001b[0msum\u001b[0m\u001b[1;33m(\u001b[0m\u001b[0mZ\u001b[0m\u001b[1;33m)\u001b[0m\u001b[1;33m\u001b[0m\u001b[1;33m\u001b[0m\u001b[0m\n",
      "\u001b[1;31mKeyboardInterrupt\u001b[0m: "
     ]
    }
   ],
   "source": [
    "scopt_results = []\n",
    "for i in range(len(points)):\n",
    "    x0 = points[i]\n",
    "    x, alpha_hist, Q_hist, time_hist, grad_hist = scopt(func_x,\n",
    "            grad_x,\n",
    "            hess_mult_x,\n",
    "            hess_mult_vec_x,\n",
    "            Mf,\n",
    "            nu,\n",
    "            prox_func,\n",
    "            x0,  \n",
    "            sc_params,                                              \n",
    "            eps=terminate_tol,                                              \n",
    "            print_every=1)\n",
    "        \n",
    "    scopt_results.append({\n",
    "        'Q_hist': Q_hist,\n",
    "        'time_hist': time_hist,\n",
    "    })"
   ]
  },
  {
   "cell_type": "code",
   "execution_count": null,
   "metadata": {},
   "outputs": [],
   "source": []
  }
 ],
 "metadata": {
  "file_extension": ".py",
  "kernelspec": {
   "display_name": "Python 3",
   "language": "python",
   "name": "python3"
  },
  "language_info": {
   "codemirror_mode": {
    "name": "ipython",
    "version": 3
   },
   "file_extension": ".py",
   "mimetype": "text/x-python",
   "name": "python",
   "nbconvert_exporter": "python",
   "pygments_lexer": "ipython3",
   "version": "3.7.3-final"
  },
  "mimetype": "text/x-python",
  "name": "python",
  "npconvert_exporter": "python",
  "pygments_lexer": "ipython3",
  "version": 3
 },
 "nbformat": 4,
 "nbformat_minor": 4
}