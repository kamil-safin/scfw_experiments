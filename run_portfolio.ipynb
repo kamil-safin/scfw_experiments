{
 "cells": [
  {
   "cell_type": "code",
   "execution_count": 1,
   "metadata": {},
   "outputs": [],
   "source": [
    "import os\n",
    "import pickle\n",
    "import scipy.io\n",
    "import numpy as np\n",
    "\n",
    "from scfw.scopt import scopt\n",
    "from scfw.frank_wolfe import frank_wolfe\n",
    "import scfw.portfolio as pr\n",
    "import matplotlib.pyplot as plt"
   ]
  },
  {
   "cell_type": "code",
   "execution_count": 2,
   "metadata": {},
   "outputs": [],
   "source": [
    "results_folder = './results/'"
   ]
  },
  {
   "cell_type": "code",
   "execution_count": 3,
   "metadata": {},
   "outputs": [],
   "source": [
    "data_folder = '../data'\n",
    "\n",
    "problem_name = 'syn_1000_1500_10_50_3'\n",
    "data = scipy.io.loadmat(os.path.join(data_folder, problem_name + '.mat'))\n",
    "R = data['W']\n",
    "results = {problem_name: {}}"
   ]
  },
  {
   "cell_type": "code",
   "execution_count": 4,
   "metadata": {},
   "outputs": [],
   "source": [
    "results_file=os.path.join(results_folder,'portfolio',problem_name+'.pckl')\n",
    "if os.path.isfile(results_file):\n",
    "    with open(results_file, \"rb\") as f:\n",
    "        try:\n",
    "            results=pickle.load(f)\n",
    "        except Exception: # so many things could go wrong, can't be more specific.\n",
    "            pass "
   ]
  },
  {
   "cell_type": "markdown",
   "metadata": {},
   "source": [
    "## Data preprocessing and parameters initialization"
   ]
  },
  {
   "cell_type": "code",
   "execution_count": 5,
   "metadata": {},
   "outputs": [],
   "source": [
    "N, n = R.shape\n",
    "Mf = 2\n",
    "nu = 3\n",
    "\n",
    "I = np.eye(n)\n",
    "Iv = np.ones(n)\n",
    "\n",
    "#running parameters\n",
    "x0 = np.ones(n) / n\n",
    "terminate_tol = 1e-11\n",
    "\n",
    "#parameters for FW\n",
    "FW_params={\n",
    "    'iter_FW':50000,\n",
    "    'line_search_tol':1e-10,\n",
    "    'rho':np.sqrt(n), #parameters for ll00\n",
    "    'diam_X':np.sqrt(2),\n",
    "    'sigma_f':1,                   \n",
    "}\n",
    "\n",
    "\n",
    "sc_params={\n",
    "    #parameters for SCOPT\n",
    "    'iter_SC': 1000,\n",
    "    'Lest': 'backtracking',#,'estimate', #estimate L\n",
    "    'use_two_phase':False,\n",
    "    #FISTA parameters\n",
    "    'fista_type': 'mfista',\n",
    "    'fista_tol': 1e-5,\n",
    "    'fista_iter': 1000,\n",
    "    #Conjugate Gradient Parameters\n",
    "    'conj_grad_tol':1e-5,\n",
    "    'conj_grad_iter':1000,\n",
    "}"
   ]
  },
  {
   "cell_type": "markdown",
   "metadata": {},
   "source": [
    "## Auxilary functions"
   ]
  },
  {
   "cell_type": "code",
   "execution_count": 6,
   "metadata": {},
   "outputs": [],
   "source": [
    "func_x = lambda x, dot_product: pr.portfolio(R,x,dot_product)\n",
    "func_beta = lambda x, s, beta, dot_product, dot_product_s: pr.portfolio(R,(1 - beta) * x + beta * s,(1 - beta) * dot_product + beta * dot_product_s)\n",
    "grad_x = lambda x, dot_product: pr.grad_portfolio(R, x, dot_product)\n",
    "grad_beta = lambda x, s, beta, dot_product, dot_product_s: pr.grad_portfolio(R, (1 - beta) * x + beta * s, (1 - beta) * dot_product + beta * dot_product_s)\n",
    "hess_x = lambda x, dot_product: pr.hess_portfolio(R, x, dot_product)\n",
    "hess_mult_x = lambda x, dot_product: pr.hess_mult_portfolio(R, x, dot_product)\n",
    "hess_mult_vec_x = lambda s, dot_product: pr.hess_mult_vec(R, s, dot_product)\n",
    "extra_func = lambda x: R @ x\n",
    "linear_oracle = lambda grad: pr.linear_oracle_simplex(grad)\n",
    "llo_oracle = lambda x, r, grad, rho: pr.llo_oracle(x, r, grad,rho)\n",
    "prox_func = lambda x, L: pr.proj_simplex(x)"
   ]
  },
  {
   "cell_type": "code",
   "execution_count": 7,
   "metadata": {},
   "outputs": [],
   "source": [
    "points = [x0]\n",
    " \n",
    "for _ in range(1):\n",
    "    x = np.abs(np.random.rand(len(x0)))\n",
    "    x = x / sum(x)\n",
    "    points.append(x)"
   ]
  },
  {
   "cell_type": "markdown",
   "metadata": {},
   "source": [
    "## Run FW"
   ]
  },
  {
   "cell_type": "code",
   "execution_count": 8,
   "metadata": {},
   "outputs": [
    {
     "output_type": "stream",
     "name": "stdout",
     "text": "********* Algorithm starts *********\n5.402714639414114\niter = 1, stepsize = 0.38445711349830225, criterion = 0.09999999999999999, upper_bound=-0.02331708937379639, lower_bound=-5.42603172878791, real_Gap=5.402714639414114\niter = 1000, stepsize = 0.0012083386271202028, criterion = 0.001140853464774229, upper_bound=-4.8162024201217974, lower_bound=-4.8164952384270725, real_Gap=0.0002928183052750555\niter = 2000, stepsize = 0.0007223813286357581, criterion = 0.0005596979503138339, upper_bound=-4.81620588487121, lower_bound=-4.81630489760676, real_Gap=9.901273555001922e-05\niter = 3000, stepsize = 0.0010014827275507804, criterion = 0.00037072658219996645, upper_bound=-4.81620647052039, lower_bound=-4.8162874856226185, real_Gap=8.101510222857655e-05\niter = 4000, stepsize = 0.0007503396585714417, criterion = 0.0002771682164169367, upper_bound=-4.816206698504663, lower_bound=-4.8162635824941695, real_Gap=5.688398950631779e-05\niter = 5000, stepsize = 0.0006000206744381555, criterion = 0.0002214526370097488, upper_bound=-4.816206803942601, lower_bound=-4.816230878129251, real_Gap=2.4074186650402396e-05\niter = 6000, stepsize = 0.0005000823769987314, criterion = 0.00018427064171085922, upper_bound=-4.816206857701672, lower_bound=-4.816230878129251, real_Gap=2.4020427579429793e-05\niter = 7000, stepsize = 0.00042844644779223615, criterion = 0.00015777804094083104, upper_bound=-4.8162068872219885, lower_bound=-4.816230878129251, real_Gap=2.3990907262572136e-05\niter = 8000, stepsize = 0.00037473850796337265, criterion = 0.00013847324989015153, upper_bound=-4.8162069080644905, lower_bound=-4.8162195589671475, real_Gap=1.2650902657007634e-05\niter = 9000, stepsize = 0.00015983216336791048, criterion = 0.00012295745101364674, upper_bound=-4.816206921849997, lower_bound=-4.8162195589671475, real_Gap=1.2637117150049448e-05\niter = 10000, stepsize = 0.0002996800258194728, criterion = 0.00011052587927209086, upper_bound=-4.8162069325273045, lower_bound=-4.816210835794463, real_Gap=3.9032671583782985e-06\niter = 11000, stepsize = 0.0002723837521719702, criterion = 0.00010041639789823434, upper_bound=-4.816206940132875, lower_bound=-4.816210835794463, real_Gap=3.895661587982602e-06\niter = 12000, stepsize = 0.0002496699153052894, criterion = 9.205504616744819e-05, upper_bound=-4.816206945499628, lower_bound=-4.816210835794463, real_Gap=3.890294834718588e-06\niter = 13000, stepsize = 0.00016104945944709007, criterion = 8.492986004168426e-05, upper_bound=-4.81620694981736, lower_bound=-4.816210835794463, real_Gap=3.885977102768834e-06\niter = 14000, stepsize = 0.0001495364423493093, criterion = 7.880691160235453e-05, upper_bound=-4.816206953331058, lower_bound=-4.816210835794463, real_Gap=3.882463404991654e-06\niter = 15000, stepsize = 9.585972917717492e-05, criterion = 7.352849617152115e-05, upper_bound=-4.816206956413804, lower_bound=-4.816210835794463, real_Gap=3.87938065848914e-06\niter = 16000, stepsize = 0.00018721469028887947, criterion = 6.904010063051694e-05, upper_bound=-4.816206958645974, lower_bound=-4.816210835794463, real_Gap=3.87714848848475e-06\niter = 17000, stepsize = 0.00017618372712165293, criterion = 6.495307890370551e-05, upper_bound=-4.8162069604757605, lower_bound=-4.816210835794463, real_Gap=3.875318702384334e-06\niter = 18000, stepsize = 7.986094777818108e-05, criterion = 6.132456636648298e-05, upper_bound=-4.816206962067572, lower_bound=-4.816210835794463, real_Gap=3.873726891256979e-06\niter = 19000, stepsize = 7.565715506017954e-05, criterion = 5.808980225667614e-05, upper_bound=-4.816206963603731, lower_bound=-4.816210835794463, real_Gap=3.8721907316130455e-06\niter = 20000, stepsize = 0.00010462873870464089, criterion = 5.516895420606044e-05, upper_bound=-4.816206964603782, lower_bound=-4.816210835794463, real_Gap=3.871190680904135e-06\niter = 21000, stepsize = 5.693088005735804e-05, criterion = 5.250897366058992e-05, upper_bound=-4.8162069656628415, lower_bound=-4.816210835794463, real_Gap=3.870131621397377e-06\niter = 22000, stepsize = 6.533393781176163e-05, criterion = 5.012902615714395e-05, upper_bound=-4.816206966555139, lower_bound=-4.816210835794463, real_Gap=3.869239323606166e-06\niter = 23000, stepsize = 4.256415744001291e-05, criterion = 4.7930830332605885e-05, upper_bound=-4.8162069672406735, lower_bound=-4.816210835794463, real_Gap=3.86855378931017e-06\niter = 24000, stepsize = 4.980832467379254e-05, criterion = 4.598207199700544e-05, upper_bound=-4.816206967849647, lower_bound=-4.816210835794463, real_Gap=3.867944815993951e-06\niter = 25000, stepsize = 5.748472284619437e-05, criterion = 4.413337975484383e-05, upper_bound=-4.816206968475876, lower_bound=-4.816210835794463, real_Gap=3.867318587147395e-06\niter = 26000, stepsize = 4.597282304968285e-05, criterion = 4.243282505842531e-05, upper_bound=-4.816206968982478, lower_bound=-4.816210835794463, real_Gap=3.866811985275831e-06\niter = 27000, stepsize = 7.748314132738636e-05, criterion = 4.084724331478089e-05, upper_bound=-4.81620696944974, lower_bound=-4.816210835794463, real_Gap=3.8663447226028325e-06\niter = 28000, stepsize = 5.132299903781127e-05, criterion = 3.937574078061847e-05, upper_bound=-4.8162069698564265, lower_bound=-4.816210835794463, real_Gap=3.865938036362593e-06\niter = 29000, stepsize = 4.1215916121207227e-05, criterion = 3.801706011018079e-05, upper_bound=-4.8162069701963635, lower_bound=-4.816210835794463, real_Gap=3.865598099395129e-06\niter = 30000, stepsize = 4.789624250935729e-05, criterion = 3.674853141766478e-05, upper_bound=-4.8162069705139325, lower_bound=-4.816210835794463, real_Gap=3.865280530312987e-06\niter = 31000, stepsize = 4.6351544805310366e-05, criterion = 3.5557556070484674e-05, upper_bound=-4.816206970796626, lower_bound=-4.816210835794463, real_Gap=3.8649978364446724e-06\niter = 32000, stepsize = 4.490300606445399e-05, criterion = 3.447010308430308e-05, upper_bound=-4.816206971097838, lower_bound=-4.816210835794463, real_Gap=3.864696624944486e-06\niter = 33000, stepsize = 6.338572231423202e-05, criterion = 3.342011797778857e-05, upper_bound=-4.81620697135268, lower_bound=-4.816210835794463, real_Gap=3.8644417825750565e-06\niter = 34000, stepsize = 6.15213610483473e-05, criterion = 3.2432206956599147e-05, upper_bound=-4.8162069715877, lower_bound=-4.816210835794463, real_Gap=3.864206762571598e-06\niter = 35000, stepsize = 4.105296184201964e-05, criterion = 3.1501023313898855e-05, upper_bound=-4.816206971780822, lower_bound=-4.8162102098921755, real_Gap=3.2381113532764516e-06\niter = 36000, stepsize = 3.9908968861738455e-05, criterion = 3.0622239282909445e-05, upper_bound=-4.8162069719643, lower_bound=-4.8162102098921755, real_Gap=3.237927875154867e-06\niter = 37000, stepsize = 3.8830695170481265e-05, criterion = 2.9793736458226482e-05, upper_bound=-4.816206972189993, lower_bound=-4.8162102098921755, real_Gap=3.237702182801172e-06\niter = 38000, stepsize = 5.504015734356608e-05, criterion = 2.900605628933959e-05, upper_bound=-4.816206972308876, lower_bound=-4.8162102098921755, real_Gap=3.2375832992315168e-06\niter = 39000, stepsize = 5.3628943176403754e-05, criterion = 2.8258951441124274e-05, upper_bound=-4.816206972467722, lower_bound=-4.8162102098921755, real_Gap=3.237424453850224e-06\niter = 40000, stepsize = 5.228778006877037e-05, criterion = 2.7567758329871397e-05, upper_bound=-4.816206972626059, lower_bound=-4.816210175419829, real_Gap=3.202793769752077e-06\niter = 41000, stepsize = 3.504176327550312e-05, criterion = 2.6892043494154397e-05, upper_bound=-4.816206972711792, lower_bound=-4.816208505007077, real_Gap=1.5322952844343263e-06\niter = 42000, stepsize = 2.8452589571920586e-05, criterion = 2.6248660582905647e-05, upper_bound=-4.816206972837422, lower_bound=-4.816208505007077, real_Gap=1.532169654261395e-06\niter = 43000, stepsize = 6.960670628820144e-05, criterion = 2.5635638665837173e-05, upper_bound=-4.8162069729744434, lower_bound=-4.816208505007077, real_Gap=1.532032633200231e-06\niter = 44000, stepsize = 3.265067602841229e-05, criterion = 2.5052422005378525e-05, upper_bound=-4.816206973081889, lower_bound=-4.816208505007077, real_Gap=1.5319251875922646e-06\niter = 45000, stepsize = 6.651166853695846e-05, criterion = 2.4493135735399734e-05, upper_bound=-4.81620697316716, lower_bound=-4.816208505007077, real_Gap=1.5318399162467244e-06\niter = 46000, stepsize = 4.546414617258081e-05, criterion = 2.3974168802480502e-05, upper_bound=-4.816206973266409, lower_bound=-4.816208505007077, real_Gap=1.5317406676373935e-06\niter = 47000, stepsize = 6.368358423963491e-05, criterion = 2.3446522175265726e-05, upper_bound=-4.816206973339425, lower_bound=-4.816208505007077, real_Gap=1.5316676513776883e-06\niter = 48000, stepsize = 4.357085941542202e-05, criterion = 2.296846877152857e-05, upper_bound=-4.816206973408216, lower_bound=-4.816208505007077, real_Gap=1.5315988610709041e-06\niter = 49000, stepsize = 6.108245679013917e-05, criterion = 2.2497482979333873e-05, upper_bound=-4.816206973479634, lower_bound=-4.816208505007077, real_Gap=1.531527442644176e-06\niter = 50000, stepsize = 5.985951817096683e-05, criterion = 2.204564342956173e-05, upper_bound=-4.816206973552202, lower_bound=-4.816208505007077, real_Gap=1.5314548749145729e-06\n324.5394756793976\n********* Algorithm starts *********\niter = 1, stepsize = 1.6112085735744546e-07, criterion = 1.6106714145087858e-07, upper_bound=-0.02331708937379639, lower_bound=-5.42603172878791, real_Gap=5.402714639414114\niter = 1000, stepsize = 3.051380673080652e-07, criterion = 4.2275558275469616e-10, upper_bound=-4.799825268630164, lower_bound=-4.817300517497081, real_Gap=0.017475248866917426\niter = 2000, stepsize = 0.0020299387527671635, criterion = 4.2275558275469616e-10, upper_bound=-4.8088434365037624, lower_bound=-4.816569152520454, real_Gap=0.007725716016691919\niter = 3000, stepsize = 0.0005040807275446193, criterion = 4.2275558275469616e-10, upper_bound=-4.811330350955537, lower_bound=-4.816450913440136, real_Gap=0.005120562484598246\niter = 4000, stepsize = 2.936648935543743e-07, criterion = 4.2275558275469616e-10, upper_bound=-4.812642250745726, lower_bound=-4.816380461561122, real_Gap=0.003738210815396492\niter = 5000, stepsize = 0.0001568123045143156, criterion = 4.2275558275469616e-10, upper_bound=-4.81341935311913, lower_bound=-4.816380461561122, real_Gap=0.002961108441992266\niter = 6000, stepsize = 0.0002280358567341507, criterion = 4.2275558275469616e-10, upper_bound=-4.813909047226758, lower_bound=-4.816265423735931, real_Gap=0.002356376509172975\niter = 7000, stepsize = 1.98339475793366e-07, criterion = 4.2275558275469616e-10, upper_bound=-4.814275371477388, lower_bound=-4.816265423735931, real_Gap=0.001990052258543429\niter = 8000, stepsize = 1.2308361723648152e-07, criterion = 4.2275558275469616e-10, upper_bound=-4.814529786811541, lower_bound=-4.816254768303857, real_Gap=0.0017249814923161466\niter = 9000, stepsize = 3.95604275296452e-06, criterion = 4.2275558275469616e-10, upper_bound=-4.814726690572707, lower_bound=-4.816254768303857, real_Gap=0.001528077731149935\niter = 10000, stepsize = 3.546999598191556e-05, criterion = 4.2275558275469616e-10, upper_bound=-4.814890988900162, lower_bound=-4.816247988993526, real_Gap=0.0013570000933640358\niter = 11000, stepsize = 0.0004129791191182853, criterion = 4.2275558275469616e-10, upper_bound=-4.8150230281732025, lower_bound=-4.816247988993526, real_Gap=0.0012249608203234175\niter = 12000, stepsize = 5.887710767147216e-05, criterion = 3.381770222665554e-10, upper_bound=-4.815130695284905, lower_bound=-4.816247326641097, real_Gap=0.0011166313561918884\niter = 13000, stepsize = 2.736011346692026e-07, criterion = 3.381770222665554e-10, upper_bound=-4.815229410317114, lower_bound=-4.816247326641097, real_Gap=0.0010179163239829592\niter = 14000, stepsize = 3.8069660307892297e-06, criterion = 3.381770222665554e-10, upper_bound=-4.815312219088256, lower_bound=-4.816247326641097, real_Gap=0.0009351075528414299\niter = 15000, stepsize = 2.469690451568098e-06, criterion = 3.381770222665554e-10, upper_bound=-4.8153802965637285, lower_bound=-4.816240558696031, real_Gap=0.0008602621323028359\niter = 16000, stepsize = 1.582392152039281e-07, criterion = 3.381770222665554e-10, upper_bound=-4.815438125834715, lower_bound=-4.816233545490784, real_Gap=0.0007954196560682192\niter = 17000, stepsize = 1.8800080960331628e-07, criterion = 3.381770222665554e-10, upper_bound=-4.8154902474681105, lower_bound=-4.816233545490784, real_Gap=0.0007432980226731445\niter = 18000, stepsize = 1.1973361758768815e-05, criterion = 3.381770222665554e-10, upper_bound=-4.815532036205576, lower_bound=-4.8162319885922695, real_Gap=0.0006999523866939583\niter = 19000, stepsize = 1.1793098999563091e-05, criterion = 3.381770222665554e-10, upper_bound=-4.815571464169575, lower_bound=-4.8162319885922695, real_Gap=0.0006605244226944862\niter = 20000, stepsize = 0.00010265131859599432, criterion = 3.381770222665554e-10, upper_bound=-4.815606334303507, lower_bound=-4.816229471188814, real_Gap=0.0006231368853066854\niter = 21000, stepsize = 4.220001015844052e-06, criterion = 3.381770222665554e-10, upper_bound=-4.815637187358611, lower_bound=-4.816218180982517, real_Gap=0.0005809936239060676\niter = 22000, stepsize = 1.447435688529118e-06, criterion = 3.381770222665554e-10, upper_bound=-4.815664890552863, lower_bound=-4.816218180982517, real_Gap=0.0005532904296536856\niter = 23000, stepsize = 3.4591643709846627e-07, criterion = 3.381770222665554e-10, upper_bound=-4.81569021885512, lower_bound=-4.816218180982517, real_Gap=0.0005279621273972523\niter = 24000, stepsize = 2.6184174501492163e-08, criterion = 3.381770222665554e-10, upper_bound=-4.8157130866438695, lower_bound=-4.816218180982517, real_Gap=0.0005050943386475382\niter = 25000, stepsize = 3.77144585286838e-07, criterion = 3.381770222665554e-10, upper_bound=-4.815734105205659, lower_bound=-4.816218180982517, real_Gap=0.00048407577685782854\niter = 26000, stepsize = 3.6709225387538675e-07, criterion = 3.381770222665554e-10, upper_bound=-4.815753699693725, lower_bound=-4.816215759696631, real_Gap=0.00046206000290549554\niter = 27000, stepsize = 4.5520327977313836e-07, criterion = 3.381770222665554e-10, upper_bound=-4.815773010123638, lower_bound=-4.816215759696631, real_Gap=0.00044274957299261786\niter = 28000, stepsize = 1.1766212829696515e-07, criterion = 3.381770222665554e-10, upper_bound=-4.8157897665977245, lower_bound=-4.816215759696631, real_Gap=0.0004259930989061189\niter = 29000, stepsize = 4.0257973232761855e-06, criterion = 3.381770222665554e-10, upper_bound=-4.8158055402581645, lower_bound=-4.816215759696631, real_Gap=0.0004102194384660862\niter = 30000, stepsize = 2.177788226390151e-06, criterion = 2.9423256778152657e-10, upper_bound=-4.815820348311245, lower_bound=-4.816215759696631, real_Gap=0.00039541138538545795\niter = 31000, stepsize = 1.7130602536198378e-06, criterion = 2.9423256778152657e-10, upper_bound=-4.815833676556975, lower_bound=-4.816215759696631, real_Gap=0.00038208313965526486\niter = 32000, stepsize = 1.6019626086330747e-07, criterion = 2.9423256778152657e-10, upper_bound=-4.815846229273696, lower_bound=-4.816215759696631, real_Gap=0.0003695304229349716\niter = 33000, stepsize = 2.637916880229249e-06, criterion = 2.9423256778152657e-10, upper_bound=-4.815858971836338, lower_bound=-4.816214786274047, real_Gap=0.00035581443770915655\niter = 34000, stepsize = 1.4094801032543855e-05, criterion = 2.9423256778152657e-10, upper_bound=-4.815870583313325, lower_bound=-4.816214786274047, real_Gap=0.00034420296072212864\niter = 35000, stepsize = 4.2982669644933314e-08, criterion = 2.9423256778152657e-10, upper_bound=-4.8158815477794565, lower_bound=-4.816214786274047, real_Gap=0.0003332384945906597\niter = 36000, stepsize = 8.029172694789484e-07, criterion = 2.9423256778152657e-10, upper_bound=-4.815891014111054, lower_bound=-4.816214786274047, real_Gap=0.0003237721629929524\niter = 37000, stepsize = 4.327170307154002e-05, criterion = 2.9423256778152657e-10, upper_bound=-4.8159007574396515, lower_bound=-4.816214786274047, real_Gap=0.0003140288343956854\niter = 38000, stepsize = 1.766115671959509e-06, criterion = 2.9423256778152657e-10, upper_bound=-4.815909731126086, lower_bound=-4.816214786274047, real_Gap=0.0003050551479608643\niter = 39000, stepsize = 4.094958316965288e-06, criterion = 2.9423256778152657e-10, upper_bound=-4.81591833315915, lower_bound=-4.816214786274047, real_Gap=0.0002964531148972327\niter = 40000, stepsize = 5.929363541863592e-08, criterion = 2.9423256778152657e-10, upper_bound=-4.815926758626773, lower_bound=-4.816214331550016, real_Gap=0.0002875729232432178\niter = 41000, stepsize = 1.243809055554329e-06, criterion = 2.9423256778152657e-10, upper_bound=-4.8159340663397145, lower_bound=-4.816214331550016, real_Gap=0.00028026521030177776\niter = 42000, stepsize = 1.2638098798976038e-06, criterion = 2.9423256778152657e-10, upper_bound=-4.81594150157232, lower_bound=-4.816214331550016, real_Gap=0.00027282997769617623\niter = 43000, stepsize = 3.540621827041686e-07, criterion = 2.9423256778152657e-10, upper_bound=-4.815948258919125, lower_bound=-4.816213463595503, real_Gap=0.000265204676377806\niter = 44000, stepsize = 3.93896708103442e-05, criterion = 2.9423256778152657e-10, upper_bound=-4.815955362018314, lower_bound=-4.816213463595503, real_Gap=0.00025810157718897386\niter = 45000, stepsize = 4.371517546431337e-05, criterion = 2.9423256778152657e-10, upper_bound=-4.815962220015493, lower_bound=-4.816213463595503, real_Gap=0.00025124358000994107\niter = 46000, stepsize = 7.258752359147063e-08, criterion = 2.9423256778152657e-10, upper_bound=-4.815968167187961, lower_bound=-4.816213463595503, real_Gap=0.00024529640754167303\niter = 47000, stepsize = 9.616430661613192e-06, criterion = 2.9423256778152657e-10, upper_bound=-4.815973744256889, lower_bound=-4.816213463595503, real_Gap=0.00023971933861410832\niter = 48000, stepsize = 1.7912563776483603e-06, criterion = 2.9423256778152657e-10, upper_bound=-4.815979352552638, lower_bound=-4.8162103508458065, real_Gap=0.00023099829316830522\niter = 49000, stepsize = 3.979208093105043e-05, criterion = 2.9423256778152657e-10, upper_bound=-4.815984545248623, lower_bound=-4.8162103508458065, real_Gap=0.0002258055971831041\niter = 50000, stepsize = 3.9901831686212524e-05, criterion = 2.9423256778152657e-10, upper_bound=-4.815989609255817, lower_bound=-4.8162103508458065, real_Gap=0.0002207415899890819\n256.34139370918274\n"
    }
   ],
   "source": [
    "run_alpha_policies = ['new_lloo', 'backtracking']\n",
    "\n",
    "for policy in run_alpha_policies:\n",
    "    x, alpha_hist, Gap_hist, Q_hist, time_hist  = frank_wolfe(func_x,\n",
    "                       grad_x,\n",
    "                       grad_beta,\n",
    "                       hess_mult_x,\n",
    "                       extra_func,                                                    \n",
    "                       Mf,\n",
    "                       nu,\n",
    "                       linear_oracle,                                                    \n",
    "                       x0,\n",
    "                       FW_params,\n",
    "                       hess=hess_x, \n",
    "                       lloo_oracle=llo_oracle,                                                 \n",
    "                       alpha_policy=policy,                                                    \n",
    "                       eps=terminate_tol, \n",
    "                       print_every=1000, \n",
    "                       debug_info=False)\n",
    "    \n",
    "    results[problem_name][policy] = {\n",
    "        'x': x,\n",
    "        'alpha_hist': alpha_hist,\n",
    "        'Gap_hist': Gap_hist,\n",
    "        'Q_hist': Q_hist,\n",
    "        'time_hist': time_hist,\n",
    "    }\n",
    "    \n",
    "with open(results_file, 'wb') as f:\n",
    "        pickle.dump(results, f)"
   ]
  },
  {
   "cell_type": "code",
   "execution_count": null,
   "metadata": {},
   "outputs": [
    {
     "name": "stdout",
     "output_type": "stream",
     "text": [
      "backtracking\n",
      "********* Algorithm starts *********\n",
      "iter = 1, stepsize = 7.363777025964322e-08, criterion = 7.361322024385784e-08, upper_bound=0.02128931286912572, lower_bound=-4.917163298675437, real_Gap=4.938452611544562\n",
      "iter = 1000, stepsize = 0.001052323689082904, criterion = 9.617941984714084e-10, upper_bound=-4.457535820063278, lower_bound=-4.477659316146569, real_Gap=0.02012349608329167\n",
      "iter = 2000, stepsize = 7.874479898687913e-06, criterion = 9.617941984714084e-10, upper_bound=-4.466570818394181, lower_bound=-4.47572472164284, real_Gap=0.00915390324865939\n",
      "iter = 3000, stepsize = 0.0011121441717925045, criterion = 8.440960863353929e-10, upper_bound=-4.469641752388953, lower_bound=-4.475554081171069, real_Gap=0.005912328782115672\n",
      "iter = 4000, stepsize = 7.477168899465519e-06, criterion = 8.440960863353929e-10, upper_bound=-4.471098118413302, lower_bound=-4.475269162757174, real_Gap=0.004171044343872055\n",
      "iter = 5000, stepsize = 0.0003174547338831935, criterion = 8.440960863353929e-10, upper_bound=-4.471967103730036, lower_bound=-4.475269162757174, real_Gap=0.0033020590271375383\n",
      "iter = 6000, stepsize = 1.3408399382959512e-05, criterion = 8.440960863353929e-10, upper_bound=-4.4725280600412285, lower_bound=-4.475225502809259, real_Gap=0.0026974427680306334\n",
      "iter = 7000, stepsize = 0.00013734911979767193, criterion = 8.440960863353929e-10, upper_bound=-4.472925805484999, lower_bound=-4.475225502809259, real_Gap=0.0022996973242603858\n",
      "iter = 8000, stepsize = 8.81405536754333e-06, criterion = 6.217711439122056e-10, upper_bound=-4.473217383748017, lower_bound=-4.475197679213221, real_Gap=0.0019802954652039517\n",
      "iter = 9000, stepsize = 4.7117087878284724e-05, criterion = 6.217711439122056e-10, upper_bound=-4.473430778415143, lower_bound=-4.475197679213221, real_Gap=0.00176690079807873\n"
     ]
    }
   ],
   "source": [
    "run_alpha_policies = [\"backtracking\",\"standard\",\"line_search\",\"icml\"]\n",
    "\n",
    "for policy in run_alpha_policies:\n",
    "    print(policy)\n",
    "    #policy_results = []\n",
    "    #for i in range(len(points)):\n",
    "    #    x0 = points[i]\n",
    "    x, alpha_hist, Gap_hist, Q_hist, time_hist = frank_wolfe(func_x,\n",
    "                        grad_x,\n",
    "                        grad_beta,\n",
    "                        hess_mult_x,\n",
    "                        extra_func,                                                    \n",
    "                        Mf,\n",
    "                        nu,\n",
    "                        linear_oracle,                                                    \n",
    "                        x0,\n",
    "                        FW_params,                                       \n",
    "                        alpha_policy=policy,                                                    \n",
    "                        eps=terminate_tol,\n",
    "                        print_every=1000, \n",
    "                        debug_info=False)\n",
    "        \n",
    "    results[problem_name][policy]={\n",
    "    'x': x,\n",
    "    'alpha_hist': alpha_hist,        \n",
    "    'Q_hist': Q_hist,\n",
    "    'Gap_hist': Gap_hist,        \n",
    "    'time_hist': time_hist,}\n",
    "    with open(results_file, 'wb') as f:\n",
    "        pickle.dump(results, f)\n",
    "#    results[problem_name][policy] = policy_results"
   ]
  },
  {
   "cell_type": "markdown",
   "metadata": {},
   "source": [
    "## Run SCOPT"
   ]
  },
  {
   "cell_type": "code",
   "execution_count": null,
   "metadata": {},
   "outputs": [
    {
     "output_type": "stream",
     "name": "stdout",
     "text": "Fista err = 9.939e-06; Subiter = 119; subproblem converged!\n\niter =    1, stepsize = 5.194e-01, rdiff = 5.792e-01 , f = 0.0302781\n\niter =    2, stepsize = 6.923e-01, rdiff = 2.797e-01 , f = -2.3233\n\niter =    3, stepsize = 8.807e-01, rdiff = 8.542e-02 , f = -3.71065\n\nFista err = 9.884e-06; Subiter =  15; subproblem converged!\n\niter =    4, stepsize = 9.845e-01, rdiff = 9.939e-03 , f = -4.22803\n\nFista err = 5.447e-06; Subiter =   3; subproblem converged!\n\niter =    5, stepsize = 9.998e-01, rdiff = 1.299e-04 , f = -4.29596\n\nFista err = 1.479e-08; Subiter =   2; subproblem converged!\n\niter =    6, stepsize = 1.000e+00, rdiff = 1.128e-06 , f = -4.29703\n\nFista err = 2.801e-08; Subiter =   2; subproblem converged!\n\niter =    7, stepsize = 1.000e+00, rdiff = 5.706e-08 , f = -4.29703\n\nFista err = 1.050e-10; Subiter =   2; subproblem converged!\n\niter =    8, stepsize = 1.000e+00, rdiff = 3.481e-09 , f = -4.29703\n\nFista err = 3.194e-11; Subiter =   2; subproblem converged!\n\niter =    9, stepsize = 1.000e+00, rdiff = 4.301e-07 , f = -4.29703\n\nFista err = 3.194e-11; Subiter =   2; subproblem converged!\n\nboo\nConvergence achieved!\niter =   10, stepsize = 0.000e+00, rdiff = 0.000e+00,value=-4.29703\n\n4.931490421295166\n"
    }
   ],
   "source": [
    "x, alpha_hist, Q_hist, time_hist, grad_hist = scopt(func_x,\n",
    "        grad_x,\n",
    "        hess_mult_x,\n",
    "        hess_mult_vec_x,\n",
    "        Mf,\n",
    "        nu,\n",
    "        prox_func,\n",
    "        x0,  \n",
    "        sc_params,                                              \n",
    "        eps=terminate_tol,                                              \n",
    "        print_every=1)\n",
    "    \n",
    "results[problem_name]['scopt'] = {\n",
    "    'x': x,\n",
    "    'alpha_hist': alpha_hist,\n",
    "#    'Gap_hist': Gap_hist,\n",
    "    'Q_hist': Q_hist,\n",
    "    'time_hist': time_hist,\n",
    "    'grad_hist': grad_hist\n",
    "}"
   ]
  },
  {
   "cell_type": "code",
   "execution_count": null,
   "metadata": {},
   "outputs": [],
   "source": [
    "with open(results_file, 'wb') as f:\n",
    "    pickle.dump(results, f)"
   ]
  },
  {
   "cell_type": "code",
   "execution_count": null,
   "metadata": {},
   "outputs": [],
   "source": []
  }
 ],
 "metadata": {
  "file_extension": ".py",
  "kernelspec": {
   "display_name": "Python 3",
   "language": "python",
   "name": "python3"
  },
  "language_info": {
   "codemirror_mode": {
    "name": "ipython",
    "version": 3
   },
   "file_extension": ".py",
   "mimetype": "text/x-python",
   "name": "python",
   "nbconvert_exporter": "python",
   "pygments_lexer": "ipython3",
   "version": "3.7.3-final"
  },
  "mimetype": "text/x-python",
  "name": "python",
  "npconvert_exporter": "python",
  "pygments_lexer": "ipython3",
  "version": 3
 },
 "nbformat": 4,
 "nbformat_minor": 4
}