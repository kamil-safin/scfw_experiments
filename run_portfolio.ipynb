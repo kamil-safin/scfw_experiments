{
 "cells": [
  {
   "cell_type": "code",
   "execution_count": 1,
   "metadata": {},
   "outputs": [],
   "source": [
    "import os\n",
    "import pickle\n",
    "import scipy.io\n",
    "import numpy as np\n",
    "from scfw.scopt import scopt\n",
    "from scfw.frank_wolfe import frank_wolfe\n",
    "import scfw.portfolio as pr\n",
    "import matplotlib.pyplot as plt"
   ]
  },
  {
   "cell_type": "code",
   "execution_count": 2,
   "metadata": {},
   "outputs": [],
   "source": [
    "results_folder = './results/'"
   ]
  },
  {
   "cell_type": "code",
   "execution_count": 3,
   "metadata": {},
   "outputs": [],
   "source": [
    "data_folder = '../data'\n",
    "\n",
    "problem_name = 'syn_1000_1500_10_50'\n",
    "data = scipy.io.loadmat(os.path.join(data_folder, problem_name + '.mat'))\n",
    "R = data['W']\n",
    "results = {problem_name: {}}"
   ]
  },
  {
   "cell_type": "code",
   "execution_count": 4,
   "metadata": {},
   "outputs": [],
   "source": [
    "np.random.seed(42)"
   ]
  },
  {
   "cell_type": "markdown",
   "metadata": {},
   "source": [
    "## Data preprocessing and parameters initialization"
   ]
  },
  {
   "cell_type": "code",
   "execution_count": 5,
   "metadata": {},
   "outputs": [],
   "source": [
    "N, n = R.shape\n",
    "Mf = 2\n",
    "nu = 3\n",
    "\n",
    "I = np.eye(n)\n",
    "Iv = np.ones(n)\n",
    "\n",
    "#running parameters\n",
    "x0 = np.ones(n) / n\n",
    "terminate_tol = 1e-12\n",
    "\n",
    "#parameters for FW\n",
    "FW_params={\n",
    "    'iter_FW':50000,\n",
    "    'line_search_tol':1e-10,\n",
    "    'rho':np.sqrt(n), #parameters for ll00\n",
    "    'diam_X':np.sqrt(2),\n",
    "    'sigma_f':1,                   \n",
    "}\n",
    "\n",
    "\n",
    "sc_params={\n",
    "    #parameters for SCOPT\n",
    "    'iter_SC': 1000,\n",
    "    'Lest': 'backtracking',#,'estimate', #estimate L\n",
    "    'use_two_phase':False,\n",
    "    #FISTA parameters\n",
    "    'fista_type': 'mfista',\n",
    "    'fista_tol': 1e-5,\n",
    "    'fista_iter': 1000,\n",
    "    #Conjugate Gradient Parameters\n",
    "    'conj_grad_tol':1e-5,\n",
    "    'conj_grad_iter':1000,\n",
    "}"
   ]
  },
  {
   "cell_type": "markdown",
   "metadata": {},
   "source": [
    "## Auxilary functions"
   ]
  },
  {
   "cell_type": "code",
   "execution_count": 6,
   "metadata": {},
   "outputs": [],
   "source": [
    "func_x = lambda x: pr.portfolio(R,x)\n",
    "grad_x = lambda x, dot_product: pr.grad_portfolio(R, x, dot_product)\n",
    "grad_beta = lambda x, s, beta, dot_product, dot_product_s: pr.grad_portfolio(R, (1 - beta) * x + beta * s, (1 - beta) * dot_product + beta * dot_product_s)\n",
    "hess_x = lambda x, dot_product: pr.hess_portfolio(R, x, dot_product)\n",
    "hess_mult_x = lambda x, dot_product: pr.hess_mult_portfolio(R, x, dot_product)\n",
    "hess_mult_vec_x = lambda s, dot_product: pr.hess_mult_vec(R, s, dot_product)\n",
    "extra_func = lambda x: R @ x\n",
    "linear_oracle = lambda grad: pr.linear_oracle_simplex(grad)\n",
    "llo_oracle = lambda x, r, grad, rho: pr.llo_oracle(x, r, grad,rho)\n",
    "prox_func = lambda x, L: pr.proj_simplex(x)"
   ]
  },
  {
   "cell_type": "code",
   "execution_count": 7,
   "metadata": {},
   "outputs": [],
   "source": [
    "points = [x0]\n",
    " \n",
    "for _ in range(4):\n",
    "    x = np.abs(np.random.rand(len(x0)))\n",
    "    x = x / sum(x)\n",
    "    points.append(x)"
   ]
  },
  {
   "cell_type": "markdown",
   "metadata": {},
   "source": [
    "## Run FW"
   ]
  },
  {
   "cell_type": "code",
   "execution_count": 8,
   "metadata": {},
   "outputs": [
    {
     "output_type": "stream",
     "text": [
      "********* Algorithm starts *********\n",
      "5.232711198171899\n",
      "iter = 1, stepsize = 0.3917318246754077, criterion = 0.01, upper_bound=0.05635009446772796, lower_bound=-5.176361103704171, real_Gap=5.232711198171899\n",
      "iter = 1000, stepsize = 0.0011439559681520565, criterion = 0.0009248454983790988, upper_bound=-4.571409662600624, lower_bound=-4.571699455146176, real_Gap=0.0002897925455513928\n",
      "iter = 2000, stepsize = 0.0007198143544010637, criterion = 0.0004535517143560335, upper_bound=-4.571412618402145, lower_bound=-4.571519133437572, real_Gap=0.00010651503542735696\n",
      "iter = 3000, stepsize = 0.0004789259169793097, criterion = 0.0003023332497081548, upper_bound=-4.571413139630295, lower_bound=-4.571460408543107, real_Gap=4.7268912812370445e-05\n",
      "iter = 4000, stepsize = 0.0005382770017464023, criterion = 0.0002257643857725455, upper_bound=-4.57141332361432, lower_bound=-4.571432137763861, real_Gap=1.8814149541412917e-05\n",
      "iter = 5000, stepsize = 0.0002266682508409376, criterion = 0.00018066708752570985, upper_bound=-4.571413405524506, lower_bound=-4.571432137763861, real_Gap=1.8732239355223612e-05\n",
      "iter = 6000, stepsize = 0.00023906659025637987, criterion = 0.00015021590285326682, upper_bound=-4.571413449115787, lower_bound=-4.571432137763861, real_Gap=1.8688648074416392e-05\n",
      "iter = 7000, stepsize = 0.00020488627619889442, criterion = 0.00012884926404322202, upper_bound=-4.5714134794226435, lower_bound=-4.571432137763861, real_Gap=1.8658341217836494e-05\n",
      "iter = 8000, stepsize = 0.0001415540563344289, criterion = 0.00011259552627248458, upper_bound=-4.5714134951150385, lower_bound=-4.571432137763861, real_Gap=1.8642648822897456e-05\n",
      "iter = 9000, stepsize = 0.00023890160999314928, criterion = 0.0001001988496276248, upper_bound=-4.571413506333418, lower_bound=-4.571430264355438, real_Gap=1.6758022020724184e-05\n",
      "iter = 10000, stepsize = 0.00021498643741231488, criterion = 9.008174082504963e-05, upper_bound=-4.57141351526403, lower_bound=-4.571430264355438, real_Gap=1.674909140803038e-05\n",
      "iter = 11000, stepsize = 0.00029418048134097674, criterion = 8.187946276032936e-05, upper_bound=-4.571413521952024, lower_bound=-4.571429115389122, real_Gap=1.559343709800487e-05\n",
      "iter = 12000, stepsize = 0.00011935465552419379, criterion = 7.509107205720383e-05, upper_bound=-4.57141352658566, lower_bound=-4.571429115389122, real_Gap=1.558880346230751e-05\n",
      "iter = 13000, stepsize = 8.702781400061431e-05, criterion = 6.928373824082004e-05, upper_bound=-4.571413529993636, lower_bound=-4.571422727243562, real_Gap=9.197249926096163e-06\n",
      "iter = 14000, stepsize = 0.00015346247126666452, criterion = 6.434484466184422e-05, upper_bound=-4.571413532369056, lower_bound=-4.571422727243562, real_Gap=9.194874506235351e-06\n",
      "iter = 15000, stepsize = 9.547335651319146e-05, criterion = 6.0000717834932976e-05, upper_bound=-4.5714135346580544, lower_bound=-4.571422727243562, real_Gap=9.192585507911133e-06\n",
      "iter = 16000, stepsize = 8.949772899566434e-05, criterion = 5.628916066011823e-05, upper_bound=-4.571413536618255, lower_bound=-4.571422727243562, real_Gap=9.190625307020639e-06\n",
      "iter = 17000, stepsize = 0.00012635150792427664, criterion = 5.293242279776967e-05, upper_bound=-4.571413538117969, lower_bound=-4.571422520396311, real_Gap=8.982278342450911e-06\n",
      "iter = 18000, stepsize = 6.283393122131286e-05, criterion = 5.000364163063296e-05, upper_bound=-4.571413539543761, lower_bound=-4.571421476006901, real_Gap=7.936463140012506e-06\n",
      "iter = 19000, stepsize = 7.536197001782075e-05, criterion = 4.73464153642898e-05, upper_bound=-4.571413540726207, lower_bound=-4.571421476006901, real_Gap=7.935280694759683e-06\n",
      "iter = 20000, stepsize = 0.0001617374727501344, criterion = 4.499889838430364e-05, upper_bound=-4.571413541551605, lower_bound=-4.571420858210919, real_Gap=7.316659313971741e-06\n",
      "iter = 21000, stepsize = 0.00015402882712179308, criterion = 4.2834516353588546e-05, upper_bound=-4.571413542424069, lower_bound=-4.571420858210919, real_Gap=7.31578685009282e-06\n",
      "iter = 22000, stepsize = 0.0001470168647930463, criterion = 4.090088010291349e-05, upper_bound=-4.571413543126364, lower_bound=-4.571420240017252, real_Gap=6.696890888058249e-06\n",
      "iter = 23000, stepsize = 0.0001406258341697983, criterion = 3.910845634693107e-05, upper_bound=-4.571413543871875, lower_bound=-4.571418455437714, real_Gap=4.9115658384835115e-06\n",
      "iter = 24000, stepsize = 0.0001347358924668165, criterion = 3.749022600029648e-05, upper_bound=-4.571413544290319, lower_bound=-4.571418455437714, real_Gap=4.911147394537352e-06\n",
      "iter = 25000, stepsize = 0.00012934841010800726, criterion = 3.598422230754517e-05, upper_bound=-4.571413544861897, lower_bound=-4.571418455437714, real_Gap=4.9105758170853164e-06\n",
      "iter = 26000, stepsize = 5.505647751023925e-05, criterion = 3.4599508079321113e-05, upper_bound=-4.571413545172984, lower_bound=-4.571418455437714, real_Gap=4.910264729929281e-06\n",
      "iter = 27000, stepsize = 5.301281577218809e-05, criterion = 3.331228572066474e-05, upper_bound=-4.57141354568193, lower_bound=-4.571418455437714, real_Gap=4.909755784154868e-06\n",
      "iter = 28000, stepsize = 4.037929251790465e-05, criterion = 3.2130880317978296e-05, upper_bound=-4.571413545926749, lower_bound=-4.571418455437714, real_Gap=4.909510964878905e-06\n",
      "iter = 29000, stepsize = 7.40448281180565e-05, criterion = 3.101015294251429e-05, upper_bound=-4.571413546207522, lower_bound=-4.5714164240263235, real_Gap=2.87781880192739e-06\n",
      "iter = 30000, stepsize = 7.157342359112744e-05, criterion = 2.9987684269829634e-05, upper_bound=-4.57141354651014, lower_bound=-4.5714164240263235, real_Gap=2.8775161835525864e-06\n",
      "iter = 31000, stepsize = 3.646998955373287e-05, criterion = 2.9022951440133186e-05, upper_bound=-4.571413546741016, lower_bound=-4.5714164240263235, real_Gap=2.8772853077896343e-06\n",
      "iter = 32000, stepsize = 4.4729259668913384e-05, criterion = 2.8105446283578336e-05, upper_bound=-4.571413546983577, lower_bound=-4.5714164240263235, real_Gap=2.8770427462632142e-06\n",
      "iter = 33000, stepsize = 9.798394110620788e-05, criterion = 2.7259450678354032e-05, upper_bound=-4.571413547210604, lower_bound=-4.5714164240263235, real_Gap=2.876815719865533e-06\n",
      "iter = 34000, stepsize = 9.51004040871591e-05, criterion = 2.6451787712750433e-05, upper_bound=-4.571413547350575, lower_bound=-4.5714164240263235, real_Gap=2.876675748275659e-06\n",
      "iter = 35000, stepsize = 9.237987630071638e-05, criterion = 2.570108470852558e-05, upper_bound=-4.571413547539217, lower_bound=-4.5714164240263235, real_Gap=2.876487106284742e-06\n",
      "iter = 36000, stepsize = 5.963556505604691e-05, criterion = 2.4977801632660366e-05, upper_bound=-4.5714135476870945, lower_bound=-4.5714164240263235, real_Gap=2.876339229018754e-06\n",
      "iter = 37000, stepsize = 5.802194707772755e-05, criterion = 2.4310443947137433e-05, upper_bound=-4.571413547867148, lower_bound=-4.5714164240263235, real_Gap=2.8761591757131555e-06\n",
      "iter = 38000, stepsize = 5.6495442756642954e-05, criterion = 2.3665467681357208e-05, upper_bound=-4.571413547946035, lower_bound=-4.5714164240263235, real_Gap=2.876080288594096e-06\n",
      "iter = 39000, stepsize = 3.6696164148557766e-05, criterion = 2.305853818218805e-05, upper_bound=-4.571413548089428, lower_bound=-4.5714164240263235, real_Gap=2.8759368957409492e-06\n",
      "iter = 40000, stepsize = 3.577686718896573e-05, criterion = 2.2482004264536745e-05, upper_bound=-4.5714135481853395, lower_bound=-4.5714164240263235, real_Gap=2.875840984017941e-06\n",
      "iter = 41000, stepsize = 2.7570723344957644e-05, criterion = 2.1935352835239933e-05, upper_bound=-4.571413548292776, lower_bound=-4.57141564791133, real_Gap=2.0996185536859002e-06\n",
      "iter = 42000, stepsize = 5.111768322907203e-05, criterion = 2.140716556939096e-05, upper_bound=-4.571413548415956, lower_bound=-4.57141564791133, real_Gap=2.099495373997229e-06\n",
      "iter = 43000, stepsize = 4.9927492836507645e-05, criterion = 2.0914868682169264e-05, upper_bound=-4.571413548510332, lower_bound=-4.57141564791133, real_Gap=2.0994009979347084e-06\n",
      "iter = 44000, stepsize = 4.879173726099569e-05, criterion = 2.0434143208878083e-05, upper_bound=-4.571413548579024, lower_bound=-4.57141564791133, real_Gap=2.0993323062157287e-06\n",
      "iter = 45000, stepsize = 3.180208532449266e-05, criterion = 1.99851110503469e-05, upper_bound=-4.571413548681205, lower_bound=-4.571414674342945, real_Gap=1.1256617398203161e-06\n"
     ]
    },
    {
     "name": "stdout",
     "output_type": "stream",
     "text": [
      "iter = 46000, stepsize = 7.028002214314311e-05, criterion = 1.955196908310865e-05, upper_bound=-4.571413548739928, lower_bound=-4.571414674342945, real_Gap=1.1256030170159192e-06\n",
      "iter = 47000, stepsize = 6.878406992311414e-05, criterion = 1.9132775007899974e-05, upper_bound=-4.571413548814043, lower_bound=-4.571414674342945, real_Gap=1.125528902079509e-06\n",
      "iter = 48000, stepsize = 2.9812291999272484e-05, criterion = 1.8737074646568454e-05, upper_bound=-4.571413548868817, lower_bound=-4.571414674342945, real_Gap=1.125474128116366e-06\n",
      "iter = 49000, stepsize = 4.3809824716439726e-05, criterion = 1.8350321968689234e-05, upper_bound=-4.571413548940388, lower_bound=-4.571414674342945, real_Gap=1.1254025569229498e-06\n",
      "iter = 50000, stepsize = 4.2932687095796005e-05, criterion = 1.7985865285638962e-05, upper_bound=-4.571413548980502, lower_bound=-4.571414674342945, real_Gap=1.1253624432328024e-06\n",
      "210.00003051757812\n",
      "********* Algorithm starts *********\n",
      "Convergence achieved!\n",
      "iter = 1, stepsize = 6.358665734317529e-15, crit = 6.354870570019088e-15, upper_bound=0.05635009446772796, lower_bound=-5.176361103704171, real_Gap=5.232711198171899\n"
     ]
    }
   ],
   "source": [
    "#run_alpha_policies = [\"standard\",\"line_search\",\"icml\"]\n",
    "run_alpha_policies = ['new_lloo','lloo']\n",
    "\n",
    "\n",
    "for policy in run_alpha_policies:\n",
    "    x, alpha_hist, Gap_hist, Q_hist, time_hist, grad_hist = frank_wolfe(func_x,\n",
    "                       grad_x,\n",
    "                       grad_beta,\n",
    "                       hess_mult_x,\n",
    "                       extra_func,                                                    \n",
    "                       Mf,\n",
    "                       nu,\n",
    "                       linear_oracle,                                                    \n",
    "                       x0,\n",
    "                       FW_params,\n",
    "                       hess=hess_x, \n",
    "                       lloo_oracle=llo_oracle,                                                 \n",
    "                       alpha_policy=policy,                                                    \n",
    "                       eps=terminate_tol, \n",
    "                       print_every=1000, \n",
    "                       debug_info=False)\n",
    "    \n",
    "    results[problem_name][policy] = {\n",
    "        'x': x,\n",
    "        'alpha_hist': alpha_hist,\n",
    "        'Gap_hist': Gap_hist,\n",
    "        'Q_hist': Q_hist,\n",
    "        'time_hist': time_hist,\n",
    "        'grad_hist': grad_hist\n",
    "    }"
   ]
  },
  {
   "cell_type": "code",
   "execution_count": 9,
   "metadata": {},
   "outputs": [
    {
     "name": "stdout",
     "output_type": "stream",
     "text": [
      "********* Algorithm starts *********\n",
      "iter = 1, stepsize = 0.6666666666666666, criterion = 0.01, upper_bound=0.05635009446772796, lower_bound=-5.176361103704171, real_Gap=5.232711198171899\n",
      "iter = 1000, stepsize = 0.001996007984031936, criterion = 0.001419463780521935, upper_bound=-4.571404478778168, lower_bound=-4.571778436105625, real_Gap=0.0003739573274570418\n",
      "iter = 2000, stepsize = 0.000999000999000999, criterion = 0.0007108677667445316, upper_bound=-4.571411308072072, lower_bound=-4.571608592299427, real_Gap=0.00019728422735454387\n",
      "iter = 3000, stepsize = 0.0006662225183211193, criterion = 0.000473696169495033, upper_bound=-4.571412539815347, lower_bound=-4.571526779724484, real_Gap=0.00011423990913694837\n",
      "iter = 4000, stepsize = 0.0004997501249375312, criterion = 0.0003552706199979203, upper_bound=-4.5714129990584675, lower_bound=-4.571447168541309, real_Gap=3.416948284140631e-05\n",
      "iter = 5000, stepsize = 0.00039984006397441024, criterion = 0.00028416954354734583, upper_bound=-4.571413193606459, lower_bound=-4.571444884661004, real_Gap=3.169105454503551e-05\n",
      "iter = 6000, stepsize = 0.0003332222592469177, criterion = 0.00023682770136791657, upper_bound=-4.571413298527224, lower_bound=-4.571441535900046, real_Gap=2.8237372822204065e-05\n",
      "iter = 7000, stepsize = 0.00028563267637817766, criterion = 0.00020298087805276611, upper_bound=-4.57141336786724, lower_bound=-4.571441535900046, real_Gap=2.8168032805808707e-05\n",
      "iter = 8000, stepsize = 0.00024993751562109475, criterion = 0.00017758472980985664, upper_bound=-4.571413410116916, lower_bound=-4.571428191964818, real_Gap=1.4781847902156642e-05\n",
      "iter = 9000, stepsize = 0.00022217285047767163, criterion = 0.00015786447182776134, upper_bound=-4.571413442653682, lower_bound=-4.571428191964818, real_Gap=1.4749311135986432e-05\n",
      "iter = 10000, stepsize = 0.0001999600079984003, criterion = 0.00014207315768244438, upper_bound=-4.571413460614524, lower_bound=-4.571424828101033, real_Gap=1.1367486508540026e-05\n",
      "iter = 11000, stepsize = 0.00018178512997636792, criterion = 0.0001291512791131956, upper_bound=-4.571413478868104, lower_bound=-4.571424828101033, real_Gap=1.1349232928559161e-05\n",
      "iter = 12000, stepsize = 0.00016663889351774705, criterion = 0.00011839528657730076, upper_bound=-4.571413487919155, lower_bound=-4.571424828101033, real_Gap=1.1340181877983468e-05\n",
      "iter = 13000, stepsize = 0.00015382248884786957, criterion = 0.00010928537089181296, upper_bound=-4.571413497936627, lower_bound=-4.571424828101033, real_Gap=1.133016440579837e-05\n",
      "iter = 14000, stepsize = 0.00014283673760891302, criterion = 0.0001014802373915265, upper_bound=-4.571413504901616, lower_bound=-4.571424828101033, real_Gap=1.1323199416324314e-05\n",
      "iter = 15000, stepsize = 0.0001333155579256099, criterion = 9.471306549761867e-05, upper_bound=-4.571413510819394, lower_bound=-4.571424828101033, real_Gap=1.1317281638945076e-05\n",
      "iter = 16000, stepsize = 0.00012498437695288088, criterion = 8.87936334365827e-05, upper_bound=-4.571413515918562, lower_bound=-4.571424828101033, real_Gap=1.131218247074628e-05\n",
      "iter = 17000, stepsize = 0.00011763321962122103, criterion = 8.357120605205978e-05, upper_bound=-4.571413520106708, lower_bound=-4.571424828101033, real_Gap=1.1307994324916137e-05\n",
      "iter = 18000, stepsize = 0.00011109876680368848, criterion = 7.892655000977471e-05, upper_bound=-4.571413522985038, lower_bound=-4.571424828101033, real_Gap=1.1305115994453274e-05\n",
      "iter = 19000, stepsize = 0.00010525207872855489, criterion = 7.477317428738056e-05, upper_bound=-4.571413525838782, lower_bound=-4.571424828101033, real_Gap=1.1302262250545425e-05\n",
      "iter = 20000, stepsize = 9.999000099990002e-05, criterion = 7.103360912409322e-05, upper_bound=-4.5714135287153095, lower_bound=-4.571424828101033, real_Gap=1.1299385723084754e-05\n",
      "iter = 21000, stepsize = 9.522902580706599e-05, criterion = 6.76512169504701e-05, upper_bound=-4.571413530060896, lower_bound=-4.571424828101033, real_Gap=1.1298040136331622e-05\n",
      "iter = 22000, stepsize = 9.09008271975275e-05, criterion = 6.457730576115064e-05, upper_bound=-4.571413532406334, lower_bound=-4.571424828101033, real_Gap=1.1295694698709724e-05\n",
      "iter = 23000, stepsize = 8.694896095991653e-05, criterion = 6.176831699321168e-05, upper_bound=-4.5714135335473065, lower_bound=-4.571424828101033, real_Gap=1.129455372606003e-05\n",
      "iter = 24000, stepsize = 8.332638946754438e-05, criterion = 5.9194055935888716e-05, upper_bound=-4.571413535275258, lower_bound=-4.571424828101033, real_Gap=1.1292825774944504e-05\n",
      "iter = 25000, stepsize = 7.999360051195904e-05, criterion = 5.6832946428421345e-05, upper_bound=-4.571413536142442, lower_bound=-4.571421241989051, real_Gap=7.705846608807576e-06\n",
      "iter = 26000, stepsize = 7.691716021844474e-05, criterion = 5.464029625328022e-05, upper_bound=-4.571413537508653, lower_bound=-4.571415789218469, real_Gap=2.2517098159369198e-06\n",
      "iter = 27000, stepsize = 7.406858751203614e-05, criterion = 5.2617954907826566e-05, upper_bound=-4.571413538439954, lower_bound=-4.571415789218469, real_Gap=2.2507785155667648e-06\n",
      "iter = 28000, stepsize = 7.142346975216056e-05, criterion = 5.0737903930544964e-05, upper_bound=-4.571413539372521, lower_bound=-4.571415789218469, real_Gap=2.2498459486541833e-06\n",
      "iter = 29000, stepsize = 6.896076132680504e-05, criterion = 4.898793574775383e-05, upper_bound=-4.571413539904716, lower_bound=-4.571415789218469, real_Gap=2.2493137530332774e-06\n",
      "iter = 30000, stepsize = 6.666222251849876e-05, criterion = 4.735611501862078e-05, upper_bound=-4.571413540621634, lower_bound=-4.571415789218469, real_Gap=2.2485968349528207e-06\n",
      "iter = 31000, stepsize = 6.451196696987291e-05, criterion = 4.582813834942023e-05, upper_bound=-4.571413541187791, lower_bound=-4.571415789218469, real_Gap=2.2480306780536807e-06\n",
      "iter = 32000, stepsize = 6.249609399412537e-05, criterion = 4.439934991643735e-05, upper_bound=-4.5714135418179005, lower_bound=-4.571415789218469, real_Gap=2.2474005687556087e-06\n",
      "iter = 33000, stepsize = 6.0602387734076725e-05, criterion = 4.3053510879002286e-05, upper_bound=-4.571413542211906, lower_bound=-4.571415789218469, real_Gap=2.247006563038667e-06\n",
      "iter = 34000, stepsize = 5.88200694076819e-05, criterion = 4.178659468773942e-05, upper_bound=-4.571413542776784, lower_bound=-4.571415789218469, real_Gap=2.2464416851164515e-06\n",
      "iter = 35000, stepsize = 5.713959202331295e-05, criterion = 4.05934337451112e-05, upper_bound=-4.571413543132644, lower_bound=-4.571415789218469, real_Gap=2.246085824886279e-06\n",
      "iter = 36000, stepsize = 5.555246930726071e-05, criterion = 3.9462912780274016e-05, upper_bound=-4.571413543667146, lower_bound=-4.571415789218469, real_Gap=2.2455513235541957e-06\n",
      "iter = 37000, stepsize = 5.4051132371223176e-05, criterion = 3.839588589133284e-05, upper_bound=-4.571413543896604, lower_bound=-4.571415789218469, real_Gap=2.2453218653240015e-06\n",
      "iter = 38000, stepsize = 5.2628809010052104e-05, criterion = 3.738820922315929e-05, upper_bound=-4.571413544450472, lower_bound=-4.571415789218469, real_Gap=2.2447679972614765e-06\n",
      "iter = 39000, stepsize = 5.127942156812471e-05, criterion = 3.64273297754985e-05, upper_bound=-4.571413544533435, lower_bound=-4.571415789218469, real_Gap=2.244685034291649e-06\n",
      "iter = 40000, stepsize = 4.999750012499375e-05, criterion = 3.5518986616161234e-05, upper_bound=-4.571413544983097, lower_bound=-4.571415789218469, real_Gap=2.244235372650394e-06\n",
      "iter = 41000, stepsize = 4.877810838495683e-05, criterion = 3.4652238555449815e-05, upper_bound=-4.571413545050325, lower_bound=-4.571415789218469, real_Gap=2.24416814464945e-06\n",
      "iter = 42000, stepsize = 4.7616780153326035e-05, criterion = 3.382695998908108e-05, upper_bound=-4.571413545470643, lower_bound=-4.571415789218469, real_Gap=2.2437478266468247e-06\n",
      "iter = 43000, stepsize = 4.650946467606158e-05, criterion = 3.304078591752931e-05, upper_bound=-4.571413545611626, lower_bound=-4.571415789218469, real_Gap=2.2436068434217304e-06\n",
      "iter = 44000, stepsize = 4.545247943275306e-05, criterion = 3.228948697224049e-05, upper_bound=-4.57141354587767, lower_bound=-4.571415789218469, real_Gap=2.243340799346072e-06\n",
      "iter = 45000, stepsize = 4.444246922359006e-05, criterion = 3.157008720061984e-05, upper_bound=-4.5714135460540355, lower_bound=-4.571415789218469, real_Gap=2.243164433757272e-06\n"
     ]
    },
    {
     "name": "stdout",
     "output_type": "stream",
     "text": [
      "iter = 46000, stepsize = 4.347637059258293e-05, criterion = 3.088584448692209e-05, upper_bound=-4.571413546227543, lower_bound=-4.571415789218469, real_Gap=2.2429909263266268e-06\n",
      "iter = 47000, stepsize = 4.255138079230671e-05, criterion = 3.022818833563635e-05, upper_bound=-4.571413546366063, lower_bound=-4.571415789218469, real_Gap=2.2428524060202903e-06\n",
      "iter = 48000, stepsize = 4.1664930627890504e-05, criterion = 2.9598839050545453e-05, upper_bound=-4.571413546590672, lower_bound=-4.571415789218469, real_Gap=2.2426277972442676e-06\n",
      "iter = 49000, stepsize = 4.0814660626096896e-05, criterion = 2.8994533294479144e-05, upper_bound=-4.571413546700352, lower_bound=-4.571415789218469, real_Gap=2.2425181169793973e-06\n",
      "iter = 50000, stepsize = 3.999840006399744e-05, criterion = 2.841472370678842e-05, upper_bound=-4.571413546941203, lower_bound=-4.571415789218469, real_Gap=2.2422772660846135e-06\n",
      "172.1743562221527\n",
      "********* Algorithm starts *********\n",
      "iter = 1, stepsize = 0.6666666666666666, criterion = 0.01, upper_bound=0.04914791906826932, lower_bound=-5.173689271698897, real_Gap=5.222837190767166\n",
      "iter = 1000, stepsize = 0.001996007984031936, criterion = 0.0014194637750731547, upper_bound=-4.571404493259094, lower_bound=-4.5717784382601465, real_Gap=0.00037394500105225603\n",
      "iter = 2000, stepsize = 0.000999000999000999, criterion = 0.0007108677660603703, upper_bound=-4.571411311621905, lower_bound=-4.571608591030117, real_Gap=0.00019727940821212542\n",
      "iter = 3000, stepsize = 0.0006662225183211193, criterion = 0.0004736961692924045, upper_bound=-4.5714125413943805, lower_bound=-4.571526779044625, real_Gap=0.00011423765024431987\n",
      "iter = 4000, stepsize = 0.0004997501249375312, criterion = 0.00035527061991250087, upper_bound=-4.571412999953536, lower_bound=-4.571447168209257, real_Gap=3.416825572166715e-05\n",
      "iter = 5000, stepsize = 0.00039984006397441024, criterion = 0.000284169543503608, upper_bound=-4.571413194182047, lower_bound=-4.571444884451165, real_Gap=3.169026911820083e-05\n",
      "iter = 6000, stepsize = 0.0003332222592469177, criterion = 0.00023682770134263002, upper_bound=-4.5714132989312475, lower_bound=-4.57144153596866, real_Gap=2.8237037412282007e-05\n",
      "iter = 7000, stepsize = 0.00028563267637817766, criterion = 0.00020298087803681617, upper_bound=-4.571413368165125, lower_bound=-4.57144153596866, real_Gap=2.816780353498416e-05\n",
      "iter = 8000, stepsize = 0.00024993751562109475, criterion = 0.00017758472979917224, upper_bound=-4.571413410337535, lower_bound=-4.57142819187675, real_Gap=1.4781539214858697e-05\n",
      "iter = 9000, stepsize = 0.00022217285047767163, criterion = 0.0001578644718202538, upper_bound=-4.5714134428269535, lower_bound=-4.57142819187675, real_Gap=1.4749049796591862e-05\n",
      "iter = 10000, stepsize = 0.0001999600079984003, criterion = 0.000142073157676936, upper_bound=-4.5714134607568315, lower_bound=-4.571424828122085, real_Gap=1.136736525353399e-05\n",
      "iter = 11000, stepsize = 0.00018178512997636792, criterion = 0.00012915127910912097, upper_bound=-4.571413478986106, lower_bound=-4.571424828122085, real_Gap=1.1349135979443759e-05\n",
      "iter = 12000, stepsize = 0.00016663889351774705, criterion = 0.00011839528657412143, upper_bound=-4.571413488016902, lower_bound=-4.571424828122085, real_Gap=1.1340105182888749e-05\n",
      "iter = 13000, stepsize = 0.00015382248884786957, criterion = 0.0001092853708893552, upper_bound=-4.571413498020698, lower_bound=-4.571424828122085, real_Gap=1.1330101386874958e-05\n",
      "iter = 14000, stepsize = 0.00014283673760891302, criterion = 0.00010148023738953237, upper_bound=-4.571413504973555, lower_bound=-4.571424828122085, real_Gap=1.1323148529918114e-05\n",
      "iter = 15000, stepsize = 0.0001333155579256099, criterion = 9.47130654960032e-05, upper_bound=-4.571413510881935, lower_bound=-4.571424828122085, real_Gap=1.1317240150354735e-05\n",
      "iter = 16000, stepsize = 0.00012498437695288088, criterion = 8.879363343524858e-05, upper_bound=-4.571413515973281, lower_bound=-4.571424828122085, real_Gap=1.131214880434328e-05\n",
      "iter = 17000, stepsize = 0.00011763321962122103, criterion = 8.357120605093223e-05, upper_bound=-4.571413520154847, lower_bound=-4.571424828122085, real_Gap=1.1307967238138872e-05\n",
      "iter = 18000, stepsize = 0.00011109876680368848, criterion = 7.89265500088016e-05, upper_bound=-4.571413523029181, lower_bound=-4.571424828122085, real_Gap=1.1305092904478897e-05\n",
      "iter = 19000, stepsize = 0.00010525207872855489, criterion = 7.477317428658691e-05, upper_bound=-4.57141352587833, lower_bound=-4.571424828122085, real_Gap=1.1302243755118013e-05\n",
      "iter = 20000, stepsize = 9.999000099990002e-05, criterion = 7.103360912338073e-05, upper_bound=-4.571413528749735, lower_bound=-4.571424828122085, real_Gap=1.1299372349782288e-05\n",
      "iter = 21000, stepsize = 9.522902580706599e-05, criterion = 6.765121694993208e-05, upper_bound=-4.571413530092097, lower_bound=-4.571424828122085, real_Gap=1.1298029988004998e-05\n",
      "iter = 22000, stepsize = 9.09008271975275e-05, criterion = 6.457730576068717e-05, upper_bound=-4.5714135324358995, lower_bound=-4.571424828122085, real_Gap=1.1295686185519571e-05\n",
      "iter = 23000, stepsize = 8.694896095991653e-05, criterion = 6.176831699274403e-05, upper_bound=-4.571413533572615, lower_bound=-4.571424828122085, real_Gap=1.1294549469909043e-05\n",
      "iter = 24000, stepsize = 8.332638946754438e-05, criterion = 5.9194055935527656e-05, upper_bound=-4.571413535297566, lower_bound=-4.571424828122085, real_Gap=1.1292824519060218e-05\n",
      "iter = 25000, stepsize = 7.999360051195904e-05, criterion = 5.6832946428042444e-05, upper_bound=-4.571413536161554, lower_bound=-4.571421242000244, real_Gap=7.705838689808786e-06\n",
      "iter = 26000, stepsize = 7.691716021844474e-05, criterion = 5.464029625294472e-05, upper_bound=-4.571413537526123, lower_bound=-4.571415789220932, real_Gap=2.2516948092743405e-06\n",
      "iter = 27000, stepsize = 7.406858751203614e-05, criterion = 5.261795490754356e-05, upper_bound=-4.57141353845472, lower_bound=-4.571415789220932, real_Gap=2.250766212519295e-06\n",
      "iter = 28000, stepsize = 7.142346975216056e-05, criterion = 5.0737903930293124e-05, upper_bound=-4.571413539386383, lower_bound=-4.571415789220932, real_Gap=2.2498345488841665e-06\n",
      "iter = 29000, stepsize = 6.896076132680504e-05, criterion = 4.898793574754728e-05, upper_bound=-4.571413539915932, lower_bound=-4.571415789220932, real_Gap=2.2493050000349513e-06\n",
      "iter = 30000, stepsize = 6.666222251849876e-05, criterion = 4.735611501843672e-05, upper_bound=-4.571413540632797, lower_bound=-4.571415789220932, real_Gap=2.2485881352451997e-06\n",
      "iter = 31000, stepsize = 6.451196696987291e-05, criterion = 4.582813834921141e-05, upper_bound=-4.571413541198126, lower_bound=-4.571415789220932, real_Gap=2.248022806128347e-06\n",
      "iter = 32000, stepsize = 6.249609399412537e-05, criterion = 4.439934991630725e-05, upper_bound=-4.571413541826884, lower_bound=-4.571415789220932, real_Gap=2.2473940477496512e-06\n",
      "iter = 33000, stepsize = 6.0602387734076725e-05, criterion = 4.305351087884742e-05, upper_bound=-4.571413542219229, lower_bound=-4.571415789220932, real_Gap=2.2470017029263545e-06\n",
      "iter = 34000, stepsize = 5.88200694076819e-05, criterion = 4.1786594687607294e-05, upper_bound=-4.5714135427840095, lower_bound=-4.571415789220932, real_Gap=2.246436922703765e-06\n",
      "iter = 35000, stepsize = 5.713959202331295e-05, criterion = 4.059343374497872e-05, upper_bound=-4.571413543138718, lower_bound=-4.571415789220932, real_Gap=2.246082214441003e-06\n",
      "iter = 36000, stepsize = 5.555246930726071e-05, criterion = 3.94629127801472e-05, upper_bound=-4.5714135436723975, lower_bound=-4.571415789220932, real_Gap=2.245548534673958e-06\n",
      "iter = 37000, stepsize = 5.4051132371223176e-05, criterion = 3.8395885891253104e-05, upper_bound=-4.571413543900461, lower_bound=-4.571415789220932, real_Gap=2.2453204708838825e-06\n",
      "iter = 38000, stepsize = 5.2628809010052104e-05, criterion = 3.738820922303223e-05, upper_bound=-4.5714135444547805, lower_bound=-4.571415789220932, real_Gap=2.2447661516267203e-06\n",
      "iter = 39000, stepsize = 5.127942156812471e-05, criterion = 3.642732977541853e-05, upper_bound=-4.571413544538764, lower_bound=-4.571415789220932, real_Gap=2.2446821681398887e-06\n",
      "iter = 40000, stepsize = 4.999750012499375e-05, criterion = 3.5518986616079594e-05, upper_bound=-4.571413544987632, lower_bound=-4.571415789220932, real_Gap=2.2442333005301407e-06\n"
     ]
    },
    {
     "name": "stdout",
     "output_type": "stream",
     "text": [
      "iter = 41000, stepsize = 4.877810838495683e-05, criterion = 3.465223855539247e-05, upper_bound=-4.571413545055492, lower_bound=-4.571415789220932, real_Gap=2.244165440146162e-06\n",
      "iter = 42000, stepsize = 4.7616780153326035e-05, criterion = 3.382695998900654e-05, upper_bound=-4.5714135454735425, lower_bound=-4.571415789220932, real_Gap=2.2437473896630422e-06\n",
      "iter = 43000, stepsize = 4.650946467606158e-05, criterion = 3.304078591744731e-05, upper_bound=-4.571413545613828, lower_bound=-4.571415789220932, real_Gap=2.243607104546186e-06\n",
      "iter = 44000, stepsize = 4.545247943275306e-05, criterion = 3.228948697216416e-05, upper_bound=-4.571413545879364, lower_bound=-4.571415789220932, real_Gap=2.2433415685085834e-06\n"
     ]
    }
   ],
   "source": [
    "run_alpha_policies = [\"standard\",\"line_search\",\"icml\"]\n",
    "\n",
    "for policy in run_alpha_policies:\n",
    "    policy_results = []\n",
    "    for i in range(len(points)):\n",
    "        x0 = points[i]\n",
    "        x, alpha_hist, Gap_hist, Q_hist, time_hist, grad_hist = frank_wolfe(func_x,\n",
    "                        grad_x,\n",
    "                        grad_beta,\n",
    "                        hess_mult_x,\n",
    "                        extra_func,                                                    \n",
    "                        Mf,\n",
    "                        nu,\n",
    "                        linear_oracle,                                                    \n",
    "                        x0,\n",
    "                        FW_params,                                       \n",
    "                        alpha_policy=policy,                                                    \n",
    "                        eps=terminate_tol,\n",
    "                        print_every=1000, \n",
    "                        debug_info=False)\n",
    "        \n",
    "        policy_results.append(\n",
    "            {\n",
    "        'Q_hist': Q_hist,\n",
    "        'time_hist': time_hist,}\n",
    "        )\n",
    "    with open('./results/portfolio/' + problem_name + '_' + policy + '.pckl', 'wb') as f:\n",
    "        pickle.dump(policy_results, f)\n",
    "#    results[problem_name][policy] = policy_results"
   ]
  },
  {
   "cell_type": "markdown",
   "metadata": {},
   "source": [
    "## Run SCOPT"
   ]
  },
  {
   "cell_type": "code",
   "execution_count": 9,
   "metadata": {},
   "outputs": [],
   "source": [
    "x, alpha_hist, Q_hist, time_hist, grad_hist = scopt(func_x,\n",
    "        grad_x,\n",
    "        hess_mult_x,\n",
    "        hess_mult_vec_x,\n",
    "        Mf,\n",
    "        nu,\n",
    "        prox_func,\n",
    "        x0,  \n",
    "        sc_params,                                              \n",
    "        eps=terminate_tol,                                              \n",
    "        print_every=1)\n",
    "    \n",
    "results[problem_name]['scopt'] = {\n",
    "    'x': x,\n",
    "    'alpha_hist': alpha_hist,\n",
    "    'Gap_hist': Gap_hist,\n",
    "    'Q_hist': Q_hist,\n",
    "    'time_hist': time_hist,\n",
    "    'grad_hist': grad_hist\n",
    "}"
   ]
  },
  {
   "cell_type": "code",
   "execution_count": 10,
   "metadata": {},
   "outputs": [],
   "source": [
    "with open(os.path.join(results_folder, 'portfolio', problem_name + '.pckl'), 'wb') as f:\n",
    "    pickle.dump(results, f)"
   ]
  },
  {
   "cell_type": "code",
   "execution_count": null,
   "metadata": {},
   "outputs": [],
   "source": []
  }
 ],
 "metadata": {
  "file_extension": ".py",
  "kernelspec": {
   "display_name": "Python 3",
   "language": "python",
   "name": "python3"
  },
  "language_info": {
   "codemirror_mode": {
    "name": "ipython",
    "version": 3
   },
   "file_extension": ".py",
   "mimetype": "text/x-python",
   "name": "python",
   "nbconvert_exporter": "python",
   "pygments_lexer": "ipython3",
   "version": "3.7.3-final"
  },
  "mimetype": "text/x-python",
  "name": "python",
  "npconvert_exporter": "python",
  "pygments_lexer": "ipython3",
  "version": 3
 },
 "nbformat": 4,
 "nbformat_minor": 4
}