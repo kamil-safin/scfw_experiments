{
 "cells": [
  {
   "cell_type": "code",
   "execution_count": 1,
   "metadata": {},
   "outputs": [],
   "source": [
    "import os\n",
    "import pickle\n",
    "import scipy.io\n",
    "import numpy as np\n",
    "import numpy.linalg\n",
    "\n",
    "\n",
    "from scfw.scopt import scopt\n",
    "from scfw.frank_wolfe import frank_wolfe\n",
    "import scfw.portfolio as pr\n",
    "import matplotlib.pyplot as plt"
   ]
  },
  {
   "cell_type": "code",
   "execution_count": 2,
   "metadata": {},
   "outputs": [],
   "source": [
    "data_folder = '../data'\n",
    "\n",
    "problem_name = 'syn_1000_800_10_50_3'\n",
    "data = scipy.io.loadmat(os.path.join(data_folder, problem_name + '.mat'))\n",
    "R = data['W']\n",
    "results = {problem_name: {}}"
   ]
  },
  {
   "cell_type": "code",
   "execution_count": 3,
   "metadata": {},
   "outputs": [],
   "source": [
    "results_folder = './results/'\n",
    "results_file=os.path.join(results_folder,'portfolio',problem_name+'.pckl')\n",
    "results = {problem_name: {}}\n",
    "if os.path.isfile(results_file):\n",
    "    with open(results_file, \"rb\") as f:\n",
    "        try:\n",
    "            results=pickle.load(f)\n",
    "        except Exception: # so many things could go wrong, can't be more specific.\n",
    "            pass "
   ]
  },
  {
   "cell_type": "code",
   "execution_count": 4,
   "metadata": {},
   "outputs": [],
   "source": [
    "np.random.seed(42)"
   ]
  },
  {
   "cell_type": "markdown",
   "metadata": {},
   "source": [
    "## Data preprocessing and parameters initialization"
   ]
  },
  {
   "cell_type": "code",
   "execution_count": 5,
   "metadata": {},
   "outputs": [],
   "source": [
    "N, n = R.shape\n",
    "Mf = 2\n",
    "nu = 3\n",
    "\n",
    "I = np.eye(n)\n",
    "Iv = np.ones(n)\n",
    "\n",
    "#running parameters\n",
    "x0 = np.ones(n) / n\n",
    "f0,dot_product0=pr.portfolio(R,x0)\n",
    "sigma_f=min(np.linalg.eigvalsh(pr.hess_portfolio(R, x0, dot_product0)))\n",
    "if sigma_f<0:\n",
    "    sigma_f=1e-10\n",
    "terminate_tol = 1e-15\n",
    "\n",
    "#parameters for FW\n",
    "FW_params={\n",
    "    'iter_FW':50000,\n",
    "    'line_search_tol':1e-10,\n",
    "    'rho':np.sqrt(n), #parameters for ll00\n",
    "    'diam_X':np.sqrt(2),\n",
    "    'sigma_f':sigma_f,                   \n",
    "}\n",
    "\n",
    "\n",
    "sc_params={\n",
    "    #parameters for SCOPT\n",
    "    'iter_SC': 1000,\n",
    "    'Lest': 'backtracking',#,'estimate', #estimate L\n",
    "    'use_two_phase':False,\n",
    "    #FISTA parameters\n",
    "    'fista_type': 'mfista',\n",
    "    'fista_tol': 1e-5,\n",
    "    'fista_iter': 1000,\n",
    "    #Conjugate Gradient Parameters\n",
    "    'conj_grad_tol':1e-5,\n",
    "    'conj_grad_iter':1000,\n",
    "}"
   ]
  },
  {
   "cell_type": "markdown",
   "metadata": {},
   "source": [
    "## Auxilary functions"
   ]
  },
  {
   "cell_type": "code",
   "execution_count": 6,
   "metadata": {},
   "outputs": [],
   "source": [
    "func_x = lambda x: pr.portfolio(R,x)\n",
    "func_beta = lambda x, s, beta, dot_product, dot_product_s:lr.log_reg(R, (1 - beta) * x + beta * s, (dot_product)*(1-beta)+(dot_product_s)*beta,gamma)\n",
    "func_beta = lambda x, s, beta, dot_product, dot_product_s: pr.portfolio(R,(1 - beta) * x + beta * s,(1 - beta) * dot_product + beta * dot_product_s)\n",
    "grad_x = lambda x, dot_product: pr.grad_portfolio(R, x, dot_product)\n",
    "grad_beta = lambda x, s, beta, dot_product, dot_product_s: pr.grad_portfolio(R, (1 - beta) * x + beta * s, (1 - beta) * dot_product + beta * dot_product_s)\n",
    "hess_x = lambda x, dot_product: pr.hess_portfolio(R, x, dot_product)\n",
    "hess_mult_x = lambda x, dot_product: pr.hess_mult_portfolio(R, x, dot_product)\n",
    "hess_mult_vec_x = lambda s, dot_product: pr.hess_mult_vec(R, s, dot_product)\n",
    "extra_func = lambda x: R @ x\n",
    "linear_oracle = lambda grad: pr.linear_oracle_simplex(grad)\n",
    "llo_oracle = lambda x, r, grad, rho: pr.llo_oracle(x, r, grad,rho)\n",
    "prox_func = lambda x, L: pr.proj_simplex(x)"
   ]
  },
  {
   "cell_type": "code",
   "execution_count": 7,
   "metadata": {},
   "outputs": [],
   "source": [
    "points = [x0]\n",
    " \n",
    "for _ in range(1):\n",
    "    x = np.abs(np.random.rand(len(x0)))\n",
    "    x = x / sum(x)\n",
    "    points.append(x)"
   ]
  },
  {
   "cell_type": "markdown",
   "metadata": {},
   "source": [
    "## Run FW"
   ]
  },
  {
   "cell_type": "code",
   "execution_count": 8,
   "metadata": {},
   "outputs": [
    {
     "name": "stdout",
     "output_type": "stream",
     "text": [
      "********* Algorithm starts *********\n",
      "iter = 1, stepsize = 0.380964922288197, criterion = 1e-05, upper_bound=0.02128931286912572, lower_bound=-4.917163298675437, real_Gap=4.938452611544562\n",
      "iter = 1000, stepsize = 0.0021676977600549713, criterion = 1e-05, upper_bound=-4.4750868954505405, lower_bound=-4.4754663579290535, real_Gap=0.00037946247851294856\n",
      "iter = 2000, stepsize = 0.0010774499935317546, criterion = 1e-05, upper_bound=-4.475091411295941, lower_bound=-4.475360690114719, real_Gap=0.0002692788187781403\n",
      "iter = 3000, stepsize = 0.0005360074110300544, criterion = 1e-05, upper_bound=-4.475092312124611, lower_bound=-4.475206687859492, real_Gap=0.00011437573488137787\n",
      "iter = 4000, stepsize = 0.0006786638103880968, criterion = 1e-05, upper_bound=-4.475092578701338, lower_bound=-4.475161664911761, real_Gap=6.908621042356344e-05\n",
      "iter = 5000, stepsize = 0.00025533030304746734, criterion = 1e-05, upper_bound=-4.475092716476, lower_bound=-4.47515282749889, real_Gap=6.011102288994152e-05\n",
      "iter = 6000, stepsize = 0.00026742526618462047, criterion = 1e-05, upper_bound=-4.475092775463196, lower_bound=-4.475149626911892, real_Gap=5.6851448696271234e-05\n",
      "iter = 7000, stepsize = 0.00018225707107622058, criterion = 1e-05, upper_bound=-4.47509281883341, lower_bound=-4.475136321395971, real_Gap=4.350256256113738e-05\n",
      "iter = 8000, stepsize = 0.00020049528044992213, criterion = 1e-05, upper_bound=-4.475092844010479, lower_bound=-4.475136321395971, real_Gap=4.347738549181912e-05\n",
      "iter = 9000, stepsize = 0.00023868691528766323, criterion = 1e-05, upper_bound=-4.475092862063061, lower_bound=-4.475123500750778, real_Gap=3.063868771668865e-05\n",
      "iter = 10000, stepsize = 0.0002147347087109124, criterion = 1e-05, upper_bound=-4.475092875617097, lower_bound=-4.475115139810211, real_Gap=2.2264193114018838e-05\n",
      "iter = 11000, stepsize = 0.00019520778542568928, criterion = 1e-05, upper_bound=-4.475092887344466, lower_bound=-4.475115139810211, real_Gap=2.225246574472095e-05\n",
      "iter = 12000, stepsize = 0.00015975673551835767, criterion = 1e-05, upper_bound=-4.475092893514391, lower_bound=-4.475109858943357, real_Gap=1.696542896567621e-05\n",
      "iter = 13000, stepsize = 0.00020843945246372538, criterion = 1e-05, upper_bound=-4.475092900008383, lower_bound=-4.475109858943357, real_Gap=1.6958934974553586e-05\n",
      "iter = 14000, stepsize = 0.00013691875367890382, criterion = 1e-05, upper_bound=-4.47509290460531, lower_bound=-4.475109858943357, real_Gap=1.6954338047270312e-05\n",
      "iter = 15000, stepsize = 0.00018062490037045427, criterion = 1e-05, upper_bound=-4.475092907642452, lower_bound=-4.475109858943357, real_Gap=1.6951300905176936e-05\n",
      "iter = 16000, stepsize = 0.0001001516125953742, criterion = 1e-05, upper_bound=-4.475092910975491, lower_bound=-4.475109858943357, real_Gap=1.6947967866443037e-05\n",
      "iter = 17000, stepsize = 0.00015935927498381374, criterion = 1e-05, upper_bound=-4.475092913109054, lower_bound=-4.475109858943357, real_Gap=1.694583430289498e-05\n",
      "iter = 18000, stepsize = 0.00011923395604643507, criterion = 1e-05, upper_bound=-4.475092915512725, lower_bound=-4.475109858943357, real_Gap=1.6943430631854994e-05\n",
      "iter = 19000, stepsize = 0.00010087827876101978, criterion = 1e-05, upper_bound=-4.475092917461398, lower_bound=-4.475107853569016, real_Gap=1.493610761826858e-05\n",
      "iter = 20000, stepsize = 9.582542107487564e-05, criterion = 1e-05, upper_bound=-4.475092919153358, lower_bound=-4.475105628292646, real_Gap=1.2709139287636617e-05\n",
      "iter = 21000, stepsize = 0.00010219518163289059, criterion = 1e-05, upper_bound=-4.475092920146465, lower_bound=-4.475105628292646, real_Gap=1.2708146180706592e-05\n",
      "iter = 22000, stepsize = 8.710209350535654e-05, criterion = 1e-05, upper_bound=-4.475092921132464, lower_bound=-4.475102167141367, real_Gap=9.24600890339633e-06\n",
      "iter = 23000, stepsize = 0.00011775607699491201, criterion = 1e-05, upper_bound=-4.475092921959549, lower_bound=-4.475102167141367, real_Gap=9.245181818329229e-06\n",
      "iter = 24000, stepsize = 7.984069767100056e-05, criterion = 1e-05, upper_bound=-4.475092922857482, lower_bound=-4.475102167141367, real_Gap=9.244283885045945e-06\n",
      "iter = 25000, stepsize = 0.00010833113019002795, criterion = 1e-05, upper_bound=-4.475092923651717, lower_bound=-4.475102167141367, real_Gap=9.243489650145875e-06\n",
      "iter = 26000, stepsize = 7.369680314376824e-05, criterion = 1e-05, upper_bound=-4.475092924495745, lower_bound=-4.475102167141367, real_Gap=9.24264562218724e-06\n",
      "iter = 27000, stepsize = 7.096308886071653e-05, criterion = 1e-05, upper_bound=-4.4750929250283065, lower_bound=-4.475102167141367, real_Gap=9.242113060636825e-06\n",
      "iter = 28000, stepsize = 7.662801446471176e-05, criterion = 1e-05, upper_bound=-4.475092925583461, lower_bound=-4.475101928956185, real_Gap=9.003372724691872e-06\n",
      "iter = 29000, stepsize = 7.398042180157672e-05, criterion = 1e-05, upper_bound=-4.475092926060261, lower_bound=-4.475101928956185, real_Gap=9.002895923870824e-06\n",
      "iter = 30000, stepsize = 6.386408211389696e-05, criterion = 1e-05, upper_bound=-4.475092926453657, lower_bound=-4.4751008707419615, real_Gap=7.944288304528868e-06\n",
      "iter = 31000, stepsize = 6.921167401364686e-05, criterion = 1e-05, upper_bound=-4.475092926751001, lower_bound=-4.4751008707419615, real_Gap=7.943990960157521e-06\n",
      "iter = 32000, stepsize = 5.987148944046636e-05, criterion = 1e-05, upper_bound=-4.475092927110817, lower_bound=-4.4751008707419615, real_Gap=7.943631144868846e-06\n",
      "iter = 33000, stepsize = 8.205921611253077e-05, criterion = 1e-05, upper_bound=-4.475092927396855, lower_bound=-4.4751008707419615, real_Gap=7.943345106120603e-06\n",
      "iter = 34000, stepsize = 4.7107599568273984e-05, criterion = 1e-05, upper_bound=-4.475092927820061, lower_bound=-4.4751008707419615, real_Gap=7.942921900649935e-06\n",
      "iter = 35000, stepsize = 7.736843868001412e-05, criterion = 1e-05, upper_bound=-4.475092928088572, lower_bound=-4.4751008707419615, real_Gap=7.942653389214627e-06\n",
      "iter = 36000, stepsize = 4.449067236123067e-05, criterion = 1e-05, upper_bound=-4.475092928319212, lower_bound=-4.4751008707419615, real_Gap=7.942422749707134e-06\n",
      "iter = 37000, stepsize = 7.31849334319044e-05, criterion = 1e-05, upper_bound=-4.475092928490523, lower_bound=-4.4751008707419615, real_Gap=7.942251438741721e-06\n",
      "iter = 38000, stepsize = 5.041670712905491e-05, criterion = 1e-05, upper_bound=-4.475092928646623, lower_bound=-4.4751008707419615, real_Gap=7.942095338719923e-06\n",
      "iter = 39000, stepsize = 6.943062616095659e-05, criterion = 1e-05, upper_bound=-4.475092928872982, lower_bound=-4.475099894309871, real_Gap=6.965436888606291e-06\n",
      "iter = 40000, stepsize = 5.363049910466306e-05, criterion = 1e-05, upper_bound=-4.475092929067836, lower_bound=-4.4750981399104095, real_Gap=5.210842573433183e-06\n",
      "iter = 41000, stepsize = 5.231903696898908e-05, criterion = 1e-05, upper_bound=-4.475092929256896, lower_bound=-4.4750981399104095, real_Gap=5.2106535131102305e-06\n",
      "iter = 42000, stepsize = 3.0319474714090807e-05, criterion = 1e-05, upper_bound=-4.475092929436046, lower_bound=-4.475096244279706, real_Gap=3.3148436600072273e-06\n",
      "iter = 43000, stepsize = 2.9613733176454874e-05, criterion = 1e-05, upper_bound=-4.475092929569902, lower_bound=-4.475096244279706, real_Gap=3.314709804413951e-06\n",
      "iter = 44000, stepsize = 2.8941114689830224e-05, criterion = 1e-05, upper_bound=-4.475092929663693, lower_bound=-4.475096244279706, real_Gap=3.3146160136610092e-06\n",
      "iter = 45000, stepsize = 2.829739957946974e-05, criterion = 1e-05, upper_bound=-4.47509292981402, lower_bound=-4.475096244279706, real_Gap=3.3144656867989397e-06\n",
      "iter = 46000, stepsize = 2.7682625673801367e-05, criterion = 1e-05, upper_bound=-4.475092929866895, lower_bound=-4.475096244279706, real_Gap=3.314412811761258e-06\n",
      "iter = 47000, stepsize = 4.563974444659112e-05, criterion = 1e-05, upper_bound=-4.475092929989733, lower_bound=-4.475096244279706, real_Gap=3.3142899731331e-06\n",
      "iter = 48000, stepsize = 4.469036346410014e-05, criterion = 1e-05, upper_bound=-4.475092930110099, lower_bound=-4.475096244279706, real_Gap=3.314169607193662e-06\n",
      "iter = 49000, stepsize = 4.377512024222178e-05, criterion = 1e-05, upper_bound=-4.475092930223536, lower_bound=-4.475096244279706, real_Gap=3.314056170822255e-06\n",
      "iter = 50000, stepsize = 4.2900982190676934e-05, criterion = 1e-05, upper_bound=-4.475092930295208, lower_bound=-4.475096244279706, real_Gap=3.3139844983764988e-06\n",
      "696.6707150936127\n"
     ]
    }
   ],
   "source": [
    "run_alpha_policies = ['new_lloo']\n",
    "x0=points[0]\n",
    "\n",
    "for policy in run_alpha_policies:\n",
    "    x, alpha_hist, Gap_hist, Q_hist, time_hist  = frank_wolfe(func_x,\n",
    "                       func_beta,                                       \n",
    "                       grad_x,\n",
    "                       grad_beta,\n",
    "                       hess_mult_x,\n",
    "                       extra_func,                                                    \n",
    "                       Mf,\n",
    "                       nu,\n",
    "                       linear_oracle,                                                    \n",
    "                       x0,\n",
    "                       FW_params,\n",
    "                       hess=hess_x, \n",
    "                       lloo_oracle=llo_oracle,                                                 \n",
    "                       alpha_policy=policy,                                                    \n",
    "                       eps=terminate_tol, \n",
    "                       print_every=1000, \n",
    "                       debug_info=False)\n",
    "    \n",
    "    results[problem_name][policy] = {\n",
    "        'x': x,\n",
    "        'alpha_hist': alpha_hist,\n",
    "        'Gap_hist': Gap_hist,\n",
    "        'Q_hist': Q_hist,\n",
    "        'time_hist': time_hist,\n",
    "    }\n",
    "    \n",
    "    with open(results_file, 'wb') as f:\n",
    "        pickle.dump(results, f)"
   ]
  },
  {
   "cell_type": "code",
   "execution_count": 9,
   "metadata": {},
   "outputs": [],
   "source": [
    "run_alpha_policies = []#[\"backtracking\",\"standard\",\"line_search\",\"icml\"]\n",
    "\n",
    "for policy in run_alpha_policies:\n",
    "    print(policy)\n",
    "    #policy_results = []\n",
    "    #for i in range(len(points)):\n",
    "    #    x0 = points[i]\n",
    "    x, alpha_hist, Gap_hist, Q_hist, time_hist = frank_wolfe(func_x,\n",
    "                        func_beta,                                       \n",
    "                        grad_x,\n",
    "                        grad_beta,\n",
    "                        hess_mult_x,\n",
    "                        extra_func,                                                    \n",
    "                        Mf,\n",
    "                        nu,\n",
    "                        linear_oracle,                                                    \n",
    "                        x0,\n",
    "                        FW_params,                                       \n",
    "                        alpha_policy=policy,                                                    \n",
    "                        eps=terminate_tol,\n",
    "                        print_every=1000, \n",
    "                        debug_info=False)\n",
    "        \n",
    "    results[problem_name][policy]={\n",
    "    'x': x,\n",
    "    'alpha_hist': alpha_hist,        \n",
    "    'Q_hist': Q_hist,\n",
    "    'Gap_hist': Gap_hist,        \n",
    "    'time_hist': time_hist,}\n",
    "    with open(results_file, 'wb') as f:\n",
    "        pickle.dump(results, f)\n",
    "#    results[problem_name][policy] = policy_results"
   ]
  },
  {
   "cell_type": "markdown",
   "metadata": {},
   "source": [
    "## Run SCOPT"
   ]
  },
  {
   "cell_type": "code",
   "execution_count": 10,
   "metadata": {},
   "outputs": [
    {
     "name": "stdout",
     "output_type": "stream",
     "text": [
      "iter =    1, stepsize = 5.663e-01, rdiff = 4.796e-01 , f = 0.0212893\n",
      "\n",
      "Fista err = 9.137e-06; Subiter =  32; subproblem converged!\n",
      "\n",
      "iter =    2, stepsize = 7.532e-01, rdiff = 2.064e-01 , f = -2.59625\n",
      "\n",
      "Fista err = 9.999e-06; Subiter = 210; subproblem converged!\n",
      "\n",
      "iter =    3, stepsize = 9.231e-01, rdiff = 5.309e-02 , f = -4.02128\n",
      "\n",
      "Fista err = 9.818e-06; Subiter =  18; subproblem converged!\n",
      "\n",
      "iter =    4, stepsize = 9.937e-01, rdiff = 4.036e-03 , f = -4.44046\n",
      "\n",
      "Fista err = 3.975e-11; Subiter =   2; subproblem converged!\n",
      "\n",
      "iter =    5, stepsize = 1.000e+00, rdiff = 2.237e-05 , f = -4.47488\n",
      "\n",
      "Fista err = 2.515e-12; Subiter =   2; subproblem converged!\n",
      "\n",
      "boo\n",
      "Convergence achieved!\n",
      "iter =    6, stepsize = 0.000e+00, rdiff = 0.000e+00,value=-4.47509\n",
      "\n",
      "16.547945976257324\n"
     ]
    }
   ],
   "source": [
    "x, alpha_hist, Q_hist, time_hist = scopt(func_x,\n",
    "        grad_x,\n",
    "        hess_mult_x,\n",
    "        hess_mult_vec_x,\n",
    "        Mf,\n",
    "        nu,\n",
    "        prox_func,\n",
    "        x0,  \n",
    "        sc_params,                                              \n",
    "        eps=terminate_tol,                                              \n",
    "        print_every=1)\n",
    "    \n",
    "results[problem_name]['scopt'] = {\n",
    "    'x': x,\n",
    "    'alpha_hist': alpha_hist,\n",
    "#    'Gap_hist': Gap_hist,\n",
    "    'Q_hist': Q_hist,\n",
    "    'time_hist': time_hist,\n",
    "#    'grad_hist': grad_hist\n",
    "}"
   ]
  },
  {
   "cell_type": "code",
   "execution_count": 11,
   "metadata": {},
   "outputs": [],
   "source": [
    "with open(results_file, 'wb') as f:\n",
    "    pickle.dump(results, f)"
   ]
  },
  {
   "cell_type": "code",
   "execution_count": null,
   "metadata": {},
   "outputs": [],
   "source": []
  }
 ],
 "metadata": {
  "file_extension": ".py",
  "kernelspec": {
   "display_name": "Python 3",
   "language": "python",
   "name": "python3"
  },
  "language_info": {
   "codemirror_mode": {
    "name": "ipython",
    "version": 3
   },
   "file_extension": ".py",
   "mimetype": "text/x-python",
   "name": "python",
   "nbconvert_exporter": "python",
   "pygments_lexer": "ipython3",
   "version": "3.7.0"
  },
  "mimetype": "text/x-python",
  "name": "python",
  "npconvert_exporter": "python",
  "pygments_lexer": "ipython3",
  "version": 3
 },
 "nbformat": 4,
 "nbformat_minor": 4
}
