{
 "cells": [
  {
   "cell_type": "code",
   "execution_count": 1,
   "metadata": {},
   "outputs": [],
   "source": [
    "import os\n",
    "import pickle\n",
    "import numpy as np\n",
    "from scipy.io import loadmat\n",
    "\n",
    "import scfw.cov_estimation as ce\n",
    "from scfw.frank_wolfe import frank_wolfe\n",
    "from scfw.scopt import scopt"
   ]
  },
  {
   "cell_type": "code",
   "execution_count": 2,
   "metadata": {},
   "outputs": [],
   "source": [
    "data_folder = '../data/'\n",
    "problem_name = 'Lymph.mat'\n",
    "results = {problem_name: {}}\n",
    "results_folder = './results/'\n",
    "results_file = os.path.join(results_folder, 'cov_estimation', problem_name + '.pckl')\n",
    "if os.path.isfile(results_file):\n",
    "    with open(results_file, \"rb\") as f:\n",
    "        try:\n",
    "            results = pickle.load(f)\n",
    "        except Exception:\n",
    "            pass "
   ]
  },
  {
   "cell_type": "code",
   "execution_count": 3,
   "metadata": {},
   "outputs": [],
   "source": [
    "# load data\n",
    "data = loadmat(os.path.join(data_folder, problem_name))\n",
    "    \n",
    "A = data['S']\n",
    "p = A.shape[0]\n",
    "X_0 = np.eye(p) / p"
   ]
  },
  {
   "cell_type": "markdown",
   "metadata": {},
   "source": [
    "## Parameters initialization"
   ]
  },
  {
   "cell_type": "code",
   "execution_count": 4,
   "metadata": {},
   "outputs": [],
   "source": [
    "#first set of parameters\n",
    "Mf = 2\n",
    "nu = 3\n",
    "#running parameters\n",
    "\n",
    "terminate_tol = 1e-10\n",
    "\n",
    "FW_params={\n",
    "    'iter_FW': 100,\n",
    "    'line_search_tol': 1e-10,\n",
    "}\n",
    "\n",
    "\n",
    "sc_params={\n",
    "    #parameters for SCOPT\n",
    "    'iter_SC': 1000,\n",
    "    'Lest': 'estimate', #estimate L\n",
    "    'use_two_phase': True,\n",
    "    #FISTA parameters\n",
    "    'fista_type': 'mfista',\n",
    "    'fista_tol': 1e-5,\n",
    "    'fista_iter': 1000,\n",
    "    #Conjugate Gradient Parameters\n",
    "    'conj_grad_tol': 1e-2,\n",
    "    'conj_grad_iter': 100,\n",
    "}"
   ]
  },
  {
   "cell_type": "markdown",
   "metadata": {},
   "source": [
    "## Functions"
   ]
  },
  {
   "cell_type": "code",
   "execution_count": 5,
   "metadata": {},
   "outputs": [],
   "source": [
    "func_x = lambda X: ce.cov_val(A, X)\n",
    "func_beta = lambda X, S, beta, extra_param, extra_param_s: ce.cov_val(A, (1 - beta) * X + beta * S)\n",
    "grad_x = lambda X, inv_X: ce.cov_grad(A, X, inv_X)\n",
    "grad_beta = lambda X, S, beta, inv_X: ce.cov_grad(A, (1 - beta) * X + beta * S) # TODO: add inverse\n",
    "hess_mult_x = lambda S, inv_X: ce.cov_hess_mult(S, inv_X)\n",
    "hess_mult_vec_x = lambda S, trace_sum: ce.cov_hess_mult_vec(S, inv_X)\n",
    "extra_func = lambda X: np.linalg.eigvalsh(X)\n",
    "linear_oracle = lambda grad: ce.linear_oracle(grad)\n",
    "prox_func = lambda X, L: ce.proj_map(X) #used for SCOPT"
   ]
  },
  {
   "cell_type": "markdown",
   "metadata": {},
   "source": [
    "## Run FW"
   ]
  },
  {
   "cell_type": "code",
   "execution_count": 6,
   "metadata": {
    "tags": [
     "outputPrepend"
    ]
   },
   "outputs": [
    {
     "output_type": "stream",
     "name": "stdout",
     "text": "********* Algorithm starts *********\nf: 3743.139569 Gap: 5.684342e-14\niter = 1, stepsize = 0.5, criterion = 0.49957392408111706, upper_bound=3743.1395692390934, lower_bound=3743.1395692390934, real_Gap=0.0\nf: 4143.640237 Gap: 5.870000e+02\niter = 2, stepsize = 0.4, criterion = 0.44713740270691854, upper_bound=3743.1395692390934, lower_bound=3743.1395692390934, real_Gap=0.0\nf: 4436.830895 Gap: 1.369667e+03\niter = 3, stepsize = 0.3333333333333333, criterion = 0.3726551396583188, upper_bound=3743.1395692390934, lower_bound=3743.1395692390934, real_Gap=0.0\nf: 4667.952041 Gap: 2.348000e+03\niter = 4, stepsize = 0.2857142857142857, criterion = 0.31586022213679094, upper_bound=3743.1395692390934, lower_bound=3743.1395692390934, real_Gap=0.0\nf: 4858.392221 Gap: 3.522000e+03\niter = 5, stepsize = 0.25, criterion = 0.2732874598042857, upper_bound=3743.1395692390934, lower_bound=3743.1395692390934, real_Gap=0.0\nf: 5020.038545 Gap: 4.891667e+03\niter = 6, stepsize = 0.2222222222222222, criterion = 0.24059333254069534, upper_bound=3743.1395692390934, lower_bound=3743.1395692390934, real_Gap=0.0\nf: 5160.203621 Gap: 6.457000e+03\niter = 7, stepsize = 0.2, criterion = 0.21480573105172546, upper_bound=3743.1395692390934, lower_bound=3743.1395692390934, real_Gap=0.0\nf: 5283.714681 Gap: 8.218000e+03\niter = 8, stepsize = 0.18181818181818182, criterion = 0.19398083176008873, upper_bound=3743.1395692390934, lower_bound=3743.1395692390934, real_Gap=0.0\nf: 5393.928871 Gap: 1.017467e+04\niter = 9, stepsize = 0.16666666666666666, criterion = 0.176824989295416, upper_bound=3743.1395692390934, lower_bound=3743.1395692390934, real_Gap=0.0\nf: 5493.276852 Gap: 1.232700e+04\niter = 10, stepsize = 0.15384615384615385, criterion = 0.16245237840700613, upper_bound=3743.1395692390934, lower_bound=3743.1395692390934, real_Gap=0.0\nf: 5583.575855 Gap: 1.467500e+04\niter = 11, stepsize = 0.14285714285714285, criterion = 0.1502388071152753, upper_bound=3743.1395692390934, lower_bound=3743.1395692390934, real_Gap=0.0\nf: 5666.220549 Gap: 1.721867e+04\niter = 12, stepsize = 0.13333333333333333, criterion = 0.13973278979521753, upper_bound=3743.1395692390934, lower_bound=3743.1395692390934, real_Gap=0.0\nf: 5742.304909 Gap: 1.995800e+04\niter = 13, stepsize = 0.125, criterion = 0.13060009252058974, upper_bound=3743.1395692390934, lower_bound=3743.1395692390934, real_Gap=0.0\nf: 5812.703034 Gap: 2.289300e+04\niter = 14, stepsize = 0.11764705882352941, criterion = 0.12258816891456614, upper_bound=3743.1395692390934, lower_bound=3743.1395692390934, real_Gap=0.0\nf: 5878.124478 Gap: 2.602367e+04\niter = 15, stepsize = 0.1111111111111111, criterion = 0.115502722712539, upper_bound=3743.1395692390934, lower_bound=3743.1395692390934, real_Gap=0.0\nf: 5939.153193 Gap: 2.935000e+04\niter = 16, stepsize = 0.10526315789473684, criterion = 0.10919186779247488, upper_bound=3743.1395692390934, lower_bound=3743.1395692390934, real_Gap=0.0\nf: 5996.275573 Gap: 3.287200e+04\niter = 17, stepsize = 0.1, criterion = 0.103535174661182, upper_bound=3743.1395692390934, lower_bound=3743.1395692390934, real_Gap=0.0\nf: 6049.901075 Gap: 3.658967e+04\niter = 18, stepsize = 0.09523809523809523, criterion = 0.09843593741930629, upper_bound=3743.1395692390934, lower_bound=3743.1395692390934, real_Gap=0.0\nf: 6100.377665 Gap: 4.050300e+04\niter = 19, stepsize = 0.09090909090909091, criterion = 0.09381561125467469, upper_bound=3743.1395692390934, lower_bound=3743.1395692390934, real_Gap=0.0\nf: 6148.003562 Gap: 4.461200e+04\niter = 20, stepsize = 0.08695652173913043, criterion = 0.08960974297753062, upper_bound=3743.1395692390934, lower_bound=3743.1395692390934, real_Gap=0.0\nf: 6193.036309 Gap: 4.891667e+04\niter = 21, stepsize = 0.08333333333333333, criterion = 0.0857649478388092, upper_bound=3743.1395692390934, lower_bound=3743.1395692390934, real_Gap=0.0\nf: 6235.699858 Gap: 5.341700e+04\niter = 22, stepsize = 0.08, criterion = 0.08223663208199906, upper_bound=3743.1395692390934, lower_bound=3743.1395692390934, real_Gap=0.0\nf: 6276.190183 Gap: 5.811300e+04\niter = 23, stepsize = 0.07692307692307693, criterion = 0.07898725530225904, upper_bound=3743.1395692390934, lower_bound=3743.1395692390934, real_Gap=0.0\nf: 6314.679760 Gap: 6.300467e+04\niter = 24, stepsize = 0.07407407407407407, criterion = 0.07598498912739035, upper_bound=3743.1395692390934, lower_bound=3743.1395692390934, real_Gap=0.0\nf: 6351.321185 Gap: 6.809200e+04\niter = 25, stepsize = 0.07142857142857142, criterion = 0.07320267068601957, upper_bound=3743.1395692390934, lower_bound=3743.1395692390934, real_Gap=0.0\nf: 6386.250126 Gap: 7.337500e+04\niter = 26, stepsize = 0.06896551724137931, criterion = 0.07061697798394594, upper_bound=3743.1395692390934, lower_bound=3743.1395692390934, real_Gap=0.0\nf: 6419.587739 Gap: 7.885367e+04\niter = 27, stepsize = 0.06666666666666667, criterion = 0.0682077741858456, upper_bound=3743.1395692390934, lower_bound=3743.1395692390934, real_Gap=0.0\nf: 6451.442670 Gap: 8.452800e+04\niter = 28, stepsize = 0.06451612903225806, criterion = 0.06595758178318642, upper_bound=3743.1395692390934, lower_bound=3743.1395692390934, real_Gap=0.0\nf: 6481.912726 Gap: 9.039800e+04\niter = 29, stepsize = 0.0625, criterion = 0.06385115759758413, upper_bound=3743.1395692390934, lower_bound=3743.1395692390934, real_Gap=0.0\nf: 6511.086274 Gap: 9.646367e+04\niter = 30, stepsize = 0.06060606060606061, criterion = 0.06187514676237427, upper_bound=3743.1395692390934, lower_bound=3743.1395692390934, real_Gap=0.0\nf: 6539.043415 Gap: 1.027250e+05\niter = 31, stepsize = 0.058823529411764705, criterion = 0.060017799075815184, upper_bound=3743.1395692390934, lower_bound=3743.1395692390934, real_Gap=0.0\nf: 6565.856993 Gap: 1.091820e+05\niter = 32, stepsize = 0.05714285714285714, criterion = 0.05826873499284094, upper_bound=3743.1395692390934, lower_bound=3743.1395692390934, real_Gap=0.0\nf: 6591.593443 Gap: 1.158347e+05\niter = 33, stepsize = 0.05555555555555555, criterion = 0.05661875140843528, upper_bound=3743.1395692390934, lower_bound=3743.1395692390934, real_Gap=0.0\nf: 6616.313526 Gap: 1.226830e+05\niter = 34, stepsize = 0.05405405405405406, criterion = 0.05505965955633099, upper_bound=3743.1395692390934, lower_bound=3743.1395692390934, real_Gap=0.0\nf: 6640.072955 Gap: 1.297270e+05\niter = 35, stepsize = 0.05263157894736842, criterion = 0.05358414899360603, upper_bound=3743.1395692390934, lower_bound=3743.1395692390934, real_Gap=0.0\nf: 6662.922945 Gap: 1.369667e+05\niter = 36, stepsize = 0.05128205128205128, criterion = 0.05218567290157418, upper_bound=3743.1395692390934, lower_bound=3743.1395692390934, real_Gap=0.0\nf: 6684.910684 Gap: 1.444020e+05\niter = 37, stepsize = 0.05, criterion = 0.050858350904624365, upper_bound=3743.1395692390934, lower_bound=3743.1395692390934, real_Gap=0.0\nf: 6706.079742 Gap: 1.520330e+05\niter = 38, stepsize = 0.04878048780487805, criterion = 0.04959688636296011, upper_bound=3743.1395692390934, lower_bound=3743.1395692390934, real_Gap=0.0\nf: 6726.470439 Gap: 1.598597e+05\niter = 39, stepsize = 0.047619047619047616, criterion = 0.04839649568506368, upper_bound=3743.1395692390934, lower_bound=3743.1395692390934, real_Gap=0.0\nf: 6746.120156 Gap: 1.678820e+05\niter = 40, stepsize = 0.046511627906976744, criterion = 0.047252847670037255, upper_bound=3743.1395692390934, lower_bound=3743.1395692390934, real_Gap=0.0\nf: 6765.063617 Gap: 1.761000e+05\niter = 41, stepsize = 0.045454545454545456, criterion = 0.04616201125775647, upper_bound=3743.1395692390934, lower_bound=3743.1395692390934, real_Gap=0.0\nf: 6783.333135 Gap: 1.845137e+05\niter = 42, stepsize = 0.044444444444444446, criterion = 0.04512041035780902, upper_bound=3743.1395692390934, lower_bound=3743.1395692390934, real_Gap=0.0\nf: 6800.958830 Gap: 1.931230e+05\niter = 43, stepsize = 0.043478260869565216, criterion = 0.04412478466298684, upper_bound=3743.1395692390934, lower_bound=3743.1395692390934, real_Gap=0.0\nf: 6817.968826 Gap: 2.019280e+05\niter = 44, stepsize = 0.0425531914893617, criterion = 0.04317215554224028, upper_bound=3743.1395692390934, lower_bound=3743.1395692390934, real_Gap=0.0\nf: 6834.389422 Gap: 2.109287e+05\niter = 45, stepsize = 0.041666666666666664, criterion = 0.04225979626113783, upper_bound=3743.1395692390934, lower_bound=3743.1395692390934, real_Gap=0.0\nf: 6850.245247 Gap: 2.201250e+05\niter = 46, stepsize = 0.04081632653061224, criterion = 0.04138520590246852, upper_bound=3743.1395692390934, lower_bound=3743.1395692390934, real_Gap=0.0\nf: 6865.559400 Gap: 2.295170e+05\niter = 47, stepsize = 0.04, criterion = 0.04054608646146052, upper_bound=3743.1395692390934, lower_bound=3743.1395692390934, real_Gap=0.0\nf: 6880.353573 Gap: 2.391047e+05\niter = 48, stepsize = 0.0392156862745098, criterion = 0.039740322673701055, upper_bound=3743.1395692390934, lower_bound=3743.1395692390934, real_Gap=0.0\nf: 6894.648167 Gap: 2.488880e+05\niter = 49, stepsize = 0.038461538461538464, criterion = 0.03896596420277853, upper_bound=3743.1395692390934, lower_bound=3743.1395692390934, real_Gap=0.0\nf: 6908.462387 Gap: 2.588670e+05\niter = 50, stepsize = 0.03773584905660377, criterion = 0.038221209871737424, upper_bound=3743.1395692390934, lower_bound=3743.1395692390934, real_Gap=0.0\nf: 6921.814339 Gap: 2.690417e+05\niter = 51, stepsize = 0.037037037037037035, criterion = 0.03750439366986687, upper_bound=3743.1395692390934, lower_bound=3743.1395692390934, real_Gap=0.0\nf: 6934.721111 Gap: 2.794120e+05\niter = 52, stepsize = 0.03636363636363636, criterion = 0.03681397230590904, upper_bound=3743.1395692390934, lower_bound=3743.1395692390934, real_Gap=0.0\nf: 6947.198846 Gap: 2.899780e+05\niter = 53, stepsize = 0.03571428571428571, criterion = 0.03614851411189894, upper_bound=3743.1395692390934, lower_bound=3743.1395692390934, real_Gap=0.0\nf: 6959.262815 Gap: 3.007397e+05\niter = 54, stepsize = 0.03508771929824561, criterion = 0.03550668912967446, upper_bound=3743.1395692390934, lower_bound=3743.1395692390934, real_Gap=0.0\nf: 6970.927474 Gap: 3.116970e+05\niter = 55, stepsize = 0.034482758620689655, criterion = 0.03488726023555155, upper_bound=3743.1395692390934, lower_bound=3743.1395692390934, real_Gap=0.0\nf: 6982.206525 Gap: 3.228500e+05\niter = 56, stepsize = 0.03389830508474576, criterion = 0.034289075178492966, upper_bound=3743.1395692390934, lower_bound=3743.1395692390934, real_Gap=0.0\nf: 6993.112967 Gap: 3.341987e+05\niter = 57, stepsize = 0.03333333333333333, criterion = 0.03371105942392184, upper_bound=3743.1395692390934, lower_bound=3743.1395692390934, real_Gap=0.0\nf: 7003.659141 Gap: 3.457430e+05\niter = 58, stepsize = 0.03278688524590164, criterion = 0.033152209709642576, upper_bound=3743.1395692390934, lower_bound=3743.1395692390934, real_Gap=0.0\nf: 7013.856778 Gap: 3.574830e+05\niter = 59, stepsize = 0.03225806451612903, criterion = 0.032611588232541025, upper_bound=3743.1395692390934, lower_bound=3743.1395692390934, real_Gap=0.0\nf: 7023.717033 Gap: 3.694187e+05\niter = 60, stepsize = 0.031746031746031744, criterion = 0.03208831739518143, upper_bound=3743.1395692390934, lower_bound=3743.1395692390934, real_Gap=0.0\nf: 7033.250530 Gap: 3.815500e+05\niter = 61, stepsize = 0.03125, criterion = 0.031581575050377154, upper_bound=3743.1395692390934, lower_bound=3743.1395692390934, real_Gap=0.0\nf: 7042.467388 Gap: 3.938770e+05\niter = 62, stepsize = 0.03076923076923077, criterion = 0.031090590189518066, upper_bound=3743.1395692390934, lower_bound=3743.1395692390934, real_Gap=0.0\nf: 7051.377255 Gap: 4.063997e+05\niter = 63, stepsize = 0.030303030303030304, criterion = 0.030614639027080493, upper_bound=3743.1395692390934, lower_bound=3743.1395692390934, real_Gap=0.0\nf: 7059.989340 Gap: 4.191180e+05\niter = 64, stepsize = 0.029850746268656716, criterion = 0.03015304143948695, upper_bound=3743.1395692390934, lower_bound=3743.1395692390934, real_Gap=0.0\nf: 7068.312436 Gap: 4.320320e+05\niter = 65, stepsize = 0.029411764705882353, criterion = 0.02970515772145629, upper_bound=3743.1395692390934, lower_bound=3743.1395692390934, real_Gap=0.0\nf: 7076.354944 Gap: 4.451417e+05\niter = 66, stepsize = 0.028985507246376812, criterion = 0.029270385627302744, upper_bound=3743.1395692390934, lower_bound=3743.1395692390934, real_Gap=0.0\nf: 7084.124899 Gap: 4.584470e+05\niter = 67, stepsize = 0.02857142857142857, criterion = 0.028848157668399436, upper_bound=3743.1395692390934, lower_bound=3743.1395692390934, real_Gap=0.0\nf: 7091.629990 Gap: 4.719480e+05\niter = 68, stepsize = 0.028169014084507043, criterion = 0.028437938641297844, upper_bound=3743.1395692390934, lower_bound=3743.1395692390934, real_Gap=0.0\nf: 7098.877579 Gap: 4.856447e+05\niter = 69, stepsize = 0.027777777777777776, criterion = 0.028039223363857113, upper_bound=3743.1395692390934, lower_bound=3743.1395692390934, real_Gap=0.0\nf: 7105.874719 Gap: 4.995370e+05\niter = 70, stepsize = 0.0273972602739726, criterion = 0.027651534599243154, upper_bound=3743.1395692390934, lower_bound=3743.1395692390934, real_Gap=0.0\nf: 7112.628174 Gap: 5.136250e+05\niter = 71, stepsize = 0.02702702702702703, criterion = 0.027274421149855736, upper_bound=3743.1395692390934, lower_bound=3743.1395692390934, real_Gap=0.0\n"
    },
    {
     "output_type": "error",
     "ename": "KeyboardInterrupt",
     "evalue": "",
     "traceback": [
      "\u001b[1;31m---------------------------------------------------------------------------\u001b[0m",
      "\u001b[1;31mKeyboardInterrupt\u001b[0m                         Traceback (most recent call last)",
      "\u001b[1;32m<ipython-input-6-e35f234d7b93>\u001b[0m in \u001b[0;36m<module>\u001b[1;34m\u001b[0m\n\u001b[0;32m     19\u001b[0m                        \u001b[0meps\u001b[0m\u001b[1;33m=\u001b[0m\u001b[0mterminate_tol\u001b[0m\u001b[1;33m,\u001b[0m\u001b[1;33m\u001b[0m\u001b[1;33m\u001b[0m\u001b[0m\n\u001b[0;32m     20\u001b[0m                        \u001b[0mprint_every\u001b[0m\u001b[1;33m=\u001b[0m\u001b[1;36m1\u001b[0m\u001b[1;33m,\u001b[0m\u001b[1;33m\u001b[0m\u001b[1;33m\u001b[0m\u001b[0m\n\u001b[1;32m---> 21\u001b[1;33m                        debug_info=False)\n\u001b[0m\u001b[0;32m     22\u001b[0m \u001b[1;33m\u001b[0m\u001b[0m\n\u001b[0;32m     23\u001b[0m     results[problem_name][policy] = {\n",
      "\u001b[1;32md:\\Users\\Kamil\\Documents\\study\\Optimization\\FW-SC\\scfw_experiments\\scfw\\frank_wolfe.py\u001b[0m in \u001b[0;36mfrank_wolfe\u001b[1;34m(fun_x, func_beta, grad_x, grad_beta, hess_mult_x, extra_fun, Mf, nu, linear_oracle, x_0, FW_params, lloo_oracle, hess, alpha_policy, eps, print_every, debug_info)\u001b[0m\n\u001b[0;32m     75\u001b[0m         \u001b[1;32melif\u001b[0m \u001b[0mx\u001b[0m\u001b[1;33m.\u001b[0m\u001b[0mndim\u001b[0m \u001b[1;33m==\u001b[0m \u001b[1;36m2\u001b[0m\u001b[1;33m:\u001b[0m\u001b[1;33m\u001b[0m\u001b[1;33m\u001b[0m\u001b[0m\n\u001b[0;32m     76\u001b[0m             \u001b[1;31m# matrix case\u001b[0m\u001b[1;33m\u001b[0m\u001b[1;33m\u001b[0m\u001b[1;33m\u001b[0m\u001b[0m\n\u001b[1;32m---> 77\u001b[1;33m             \u001b[0mGap\u001b[0m \u001b[1;33m=\u001b[0m \u001b[0mnp\u001b[0m\u001b[1;33m.\u001b[0m\u001b[0mtrace\u001b[0m\u001b[1;33m(\u001b[0m\u001b[0mnp\u001b[0m\u001b[1;33m.\u001b[0m\u001b[0mconjugate\u001b[0m\u001b[1;33m(\u001b[0m\u001b[0mgrad\u001b[0m\u001b[1;33m)\u001b[0m\u001b[1;33m.\u001b[0m\u001b[0mT\u001b[0m\u001b[1;33m.\u001b[0m\u001b[0mdot\u001b[0m\u001b[1;33m(\u001b[0m\u001b[0mdelta_x\u001b[0m\u001b[1;33m)\u001b[0m\u001b[1;33m)\u001b[0m\u001b[1;33m.\u001b[0m\u001b[0mreal\u001b[0m\u001b[1;33m\u001b[0m\u001b[1;33m\u001b[0m\u001b[0m\n\u001b[0m\u001b[0;32m     78\u001b[0m         \u001b[1;32melse\u001b[0m\u001b[1;33m:\u001b[0m\u001b[1;33m\u001b[0m\u001b[1;33m\u001b[0m\u001b[0m\n\u001b[0;32m     79\u001b[0m             \u001b[0mprint\u001b[0m\u001b[1;33m(\u001b[0m\u001b[1;34m'Invalid dimension'\u001b[0m\u001b[1;33m)\u001b[0m\u001b[1;33m\u001b[0m\u001b[1;33m\u001b[0m\u001b[0m\n",
      "\u001b[1;31mKeyboardInterrupt\u001b[0m: "
     ]
    }
   ],
   "source": [
    "#run_alpha_policies = [\"standard\", \"line_search\", \"icml\", \"backtracking\"]\n",
    "run_alpha_policies = [\"standard\"]\n",
    "\n",
    "for policy in run_alpha_policies:\n",
    "    x, alpha_hist, Gap_hist, Q_hist, time_hist  = frank_wolfe(func_x,\n",
    "                       func_beta,                                       \n",
    "                       grad_x,\n",
    "                       grad_beta,\n",
    "                       hess_mult_x,\n",
    "                       extra_func,                                                    \n",
    "                       Mf,\n",
    "                       nu,\n",
    "                       linear_oracle,                                                    \n",
    "                       X_0,\n",
    "                       FW_params,\n",
    "                       #hess=hess_x, \n",
    "                       #lloo_oracle=llo_oracle,                                                 \n",
    "                       alpha_policy=policy,                                                    \n",
    "                       eps=terminate_tol, \n",
    "                       print_every=1, \n",
    "                       debug_info=False)\n",
    "    \n",
    "    results[problem_name][policy] = {\n",
    "        'x': x,\n",
    "        'alpha_hist': alpha_hist,\n",
    "        'Gap_hist': Gap_hist,\n",
    "        'Q_hist': Q_hist,\n",
    "        'time_hist': time_hist,\n",
    "    }"
   ]
  },
  {
   "cell_type": "code",
   "execution_count": 10,
   "metadata": {},
   "outputs": [],
   "source": [
    "grad = grad_x(X_0, inv_X)"
   ]
  },
  {
   "cell_type": "code",
   "execution_count": 11,
   "metadata": {},
   "outputs": [
    {
     "output_type": "execute_result",
     "data": {
      "text/plain": "array([[-5.86000000e+02,  1.98246239e-01,  2.27265618e-01, ...,\n         1.01218126e-01,  1.81443299e-01, -4.68225435e-03],\n       [ 1.98246239e-01, -5.86000000e+02,  8.49994237e-01, ...,\n        -1.87059762e-01,  1.82687279e-01, -5.51225886e-02],\n       [ 2.27265618e-01,  8.49994237e-01, -5.86000000e+02, ...,\n        -2.60526925e-02,  1.77413834e-01, -1.70621545e-01],\n       ...,\n       [ 1.01218126e-01, -1.87059762e-01, -2.60526925e-02, ...,\n        -5.86000000e+02, -2.05254916e-01, -8.54251376e-02],\n       [ 1.81443299e-01,  1.82687279e-01,  1.77413834e-01, ...,\n        -2.05254916e-01, -5.86000000e+02, -5.12942325e-02],\n       [-4.68225435e-03, -5.51225886e-02, -1.70621545e-01, ...,\n        -8.54251376e-02, -5.12942325e-02, -5.86000000e+02]])"
     },
     "metadata": {},
     "execution_count": 11
    }
   ],
   "source": [
    "grad"
   ]
  },
  {
   "cell_type": "code",
   "execution_count": 12,
   "metadata": {},
   "outputs": [],
   "source": [
    "S = linear_oracle(grad)"
   ]
  },
  {
   "cell_type": "code",
   "execution_count": 13,
   "metadata": {},
   "outputs": [],
   "source": [
    "x_nxt = X_0 + 2/3 * (S - X_0)"
   ]
  },
  {
   "cell_type": "code",
   "execution_count": 16,
   "metadata": {},
   "outputs": [
    {
     "output_type": "execute_result",
     "data": {
      "text/plain": "-1.0"
     },
     "metadata": {},
     "execution_count": 16
    }
   ],
   "source": [
    "np.sum(S)"
   ]
  },
  {
   "cell_type": "code",
   "execution_count": 19,
   "metadata": {},
   "outputs": [
    {
     "output_type": "execute_result",
     "data": {
      "text/plain": "array([[0.00056786, 0.        , 0.        , ..., 0.        , 0.        ,\n        0.        ],\n       [0.        , 0.00056786, 0.        , ..., 0.        , 0.        ,\n        0.        ],\n       [0.        , 0.        , 0.00056786, ..., 0.        , 0.        ,\n        0.        ],\n       ...,\n       [0.        , 0.        , 0.        , ..., 0.00056786, 0.        ,\n        0.        ],\n       [0.        , 0.        , 0.        , ..., 0.        , 0.00056786,\n        0.        ],\n       [0.        , 0.        , 0.        , ..., 0.        , 0.        ,\n        0.00056786]])"
     },
     "metadata": {},
     "execution_count": 19
    }
   ],
   "source": [
    "x_nxt"
   ]
  },
  {
   "cell_type": "code",
   "execution_count": 22,
   "metadata": {},
   "outputs": [],
   "source": [
    "A = np.array([[1, -3], [-4, 3]])"
   ]
  },
  {
   "cell_type": "code",
   "execution_count": 13,
   "metadata": {},
   "outputs": [],
   "source": [
    "x = X_0\n",
    "f_vals = []\n",
    "for i in range(100):\n",
    "    f, inv_X = func_x(x)\n",
    "    x = x - 0.01 * grad_x(x, inv_X)\n",
    "    f_vals.append(f)"
   ]
  },
  {
   "cell_type": "code",
   "execution_count": 14,
   "metadata": {},
   "outputs": [
    {
     "output_type": "execute_result",
     "data": {
      "text/plain": "[3743.1395692390934,\n 2253.9285299320827,\n 2101.179286305169,\n 1948.5753972224338,\n 1796.1892120512784,\n 1644.1986204095851,\n 1493.445091643542,\n nan,\n nan,\n nan,\n nan,\n nan,\n nan,\n nan,\n nan,\n nan,\n nan,\n nan,\n nan,\n nan,\n nan,\n nan,\n nan,\n nan,\n nan,\n nan,\n nan,\n nan,\n nan,\n nan,\n nan,\n nan,\n nan,\n nan,\n nan,\n nan,\n nan,\n nan,\n nan,\n nan,\n nan,\n nan,\n nan,\n nan,\n nan,\n nan,\n nan,\n nan,\n nan,\n nan,\n nan,\n nan,\n nan,\n nan,\n nan,\n nan,\n nan,\n nan,\n nan,\n nan,\n nan,\n nan,\n nan,\n nan,\n nan,\n nan,\n nan,\n nan,\n nan,\n nan,\n nan,\n nan,\n nan,\n nan,\n nan,\n nan,\n nan,\n nan,\n nan,\n nan,\n nan,\n nan,\n nan,\n nan,\n nan,\n nan,\n nan,\n nan,\n nan,\n nan,\n nan,\n nan,\n nan,\n nan,\n nan,\n nan,\n nan,\n nan,\n nan,\n nan]"
     },
     "metadata": {},
     "execution_count": 14
    }
   ],
   "source": [
    "f_vals"
   ]
  },
  {
   "cell_type": "code",
   "execution_count": null,
   "metadata": {},
   "outputs": [],
   "source": []
  }
 ],
 "metadata": {
  "language_info": {
   "codemirror_mode": {
    "name": "ipython",
    "version": 3
   },
   "file_extension": ".py",
   "mimetype": "text/x-python",
   "name": "python",
   "nbconvert_exporter": "python",
   "pygments_lexer": "ipython3",
   "version": "3.7.3-final"
  },
  "orig_nbformat": 2,
  "kernelspec": {
   "name": "python3",
   "display_name": "Python 3"
  }
 },
 "nbformat": 4,
 "nbformat_minor": 2
}