{
 "cells": [
  {
   "cell_type": "code",
   "execution_count": 11,
   "metadata": {},
   "outputs": [],
   "source": [
    "import os\n",
    "import pickle\n",
    "import numpy as np\n",
    "from scipy.io import loadmat\n",
    "\n",
    "import scfw.cov_estimation as ce\n",
    "from scfw.frank_wolfe import frank_wolfe\n",
    "from scfw.scopt import scopt\n",
    "from scfw.prox_grad import prox_grad"
   ]
  },
  {
   "cell_type": "code",
   "execution_count": 12,
   "metadata": {},
   "outputs": [],
   "source": [
    "data_folder = '../data/'\n",
    "problem_name = 'cov_estimation'\n",
    "results = {problem_name: {}}\n",
    "results_folder = './results/'\n",
    "results_file = os.path.join(results_folder, 'cov_estimation', problem_name + '.pckl')\n",
    "if os.path.isfile(results_file):\n",
    "    with open(results_file, \"rb\") as f:\n",
    "        try:\n",
    "            results = pickle.load(f)\n",
    "        except Exception:\n",
    "            pass "
   ]
  },
  {
   "cell_type": "code",
   "execution_count": 13,
   "metadata": {},
   "outputs": [],
   "source": [
    "def sample_l1_point(r, ndim):\n",
    "    vec = np.random.rand(ndim,)\n",
    "    vec /= np.linalg.norm(vec, ord=1)\n",
    "    return vec"
   ]
  },
  {
   "cell_type": "code",
   "execution_count": 14,
   "metadata": {},
   "outputs": [
    {
     "output_type": "error",
     "ename": "FileNotFoundError",
     "evalue": "[Errno 2] No such file or directory: '../data/cov_estimation.mat'",
     "traceback": [
      "\u001b[1;31m---------------------------------------------------------------------------\u001b[0m",
      "\u001b[1;31mFileNotFoundError\u001b[0m                         Traceback (most recent call last)",
      "\u001b[1;32mC:\\ProgramData\\Anaconda3\\lib\\site-packages\\scipy\\io\\matlab\\mio.py\u001b[0m in \u001b[0;36m_open_file\u001b[1;34m(file_like, appendmat, mode)\u001b[0m\n\u001b[0;32m     38\u001b[0m     \u001b[1;32mtry\u001b[0m\u001b[1;33m:\u001b[0m\u001b[1;33m\u001b[0m\u001b[1;33m\u001b[0m\u001b[0m\n\u001b[1;32m---> 39\u001b[1;33m         \u001b[1;32mreturn\u001b[0m \u001b[0mopen\u001b[0m\u001b[1;33m(\u001b[0m\u001b[0mfile_like\u001b[0m\u001b[1;33m,\u001b[0m \u001b[0mmode\u001b[0m\u001b[1;33m)\u001b[0m\u001b[1;33m,\u001b[0m \u001b[1;32mTrue\u001b[0m\u001b[1;33m\u001b[0m\u001b[1;33m\u001b[0m\u001b[0m\n\u001b[0m\u001b[0;32m     40\u001b[0m     \u001b[1;32mexcept\u001b[0m \u001b[0mIOError\u001b[0m\u001b[1;33m:\u001b[0m\u001b[1;33m\u001b[0m\u001b[1;33m\u001b[0m\u001b[0m\n",
      "\u001b[1;31mFileNotFoundError\u001b[0m: [Errno 2] No such file or directory: '../data/cov_estimation.mat'",
      "\nDuring handling of the above exception, another exception occurred:\n",
      "\u001b[1;31mFileNotFoundError\u001b[0m                         Traceback (most recent call last)",
      "\u001b[1;32m<ipython-input-14-55164bf4cee9>\u001b[0m in \u001b[0;36m<module>\u001b[1;34m\u001b[0m\n\u001b[0;32m      1\u001b[0m \u001b[1;31m# load data\u001b[0m\u001b[1;33m\u001b[0m\u001b[1;33m\u001b[0m\u001b[1;33m\u001b[0m\u001b[0m\n\u001b[1;32m----> 2\u001b[1;33m \u001b[0mdata\u001b[0m \u001b[1;33m=\u001b[0m \u001b[0mloadmat\u001b[0m\u001b[1;33m(\u001b[0m\u001b[0mos\u001b[0m\u001b[1;33m.\u001b[0m\u001b[0mpath\u001b[0m\u001b[1;33m.\u001b[0m\u001b[0mjoin\u001b[0m\u001b[1;33m(\u001b[0m\u001b[0mdata_folder\u001b[0m\u001b[1;33m,\u001b[0m \u001b[0mproblem_name\u001b[0m \u001b[1;33m+\u001b[0m \u001b[1;34m'.mat'\u001b[0m\u001b[1;33m)\u001b[0m\u001b[1;33m)\u001b[0m\u001b[1;33m\u001b[0m\u001b[1;33m\u001b[0m\u001b[0m\n\u001b[0m\u001b[0;32m      3\u001b[0m \u001b[1;33m\u001b[0m\u001b[0m\n\u001b[0;32m      4\u001b[0m \u001b[0mA\u001b[0m \u001b[1;33m=\u001b[0m \u001b[0mdata\u001b[0m\u001b[1;33m[\u001b[0m\u001b[1;34m'S'\u001b[0m\u001b[1;33m]\u001b[0m\u001b[1;33m\u001b[0m\u001b[1;33m\u001b[0m\u001b[0m\n\u001b[0;32m      5\u001b[0m \u001b[0mp\u001b[0m \u001b[1;33m=\u001b[0m \u001b[0mA\u001b[0m\u001b[1;33m.\u001b[0m\u001b[0mshape\u001b[0m\u001b[1;33m[\u001b[0m\u001b[1;36m0\u001b[0m\u001b[1;33m]\u001b[0m\u001b[1;33m\u001b[0m\u001b[1;33m\u001b[0m\u001b[0m\n",
      "\u001b[1;32mC:\\ProgramData\\Anaconda3\\lib\\site-packages\\scipy\\io\\matlab\\mio.py\u001b[0m in \u001b[0;36mloadmat\u001b[1;34m(file_name, mdict, appendmat, **kwargs)\u001b[0m\n\u001b[0;32m    220\u001b[0m     \"\"\"\n\u001b[0;32m    221\u001b[0m     \u001b[0mvariable_names\u001b[0m \u001b[1;33m=\u001b[0m \u001b[0mkwargs\u001b[0m\u001b[1;33m.\u001b[0m\u001b[0mpop\u001b[0m\u001b[1;33m(\u001b[0m\u001b[1;34m'variable_names'\u001b[0m\u001b[1;33m,\u001b[0m \u001b[1;32mNone\u001b[0m\u001b[1;33m)\u001b[0m\u001b[1;33m\u001b[0m\u001b[1;33m\u001b[0m\u001b[0m\n\u001b[1;32m--> 222\u001b[1;33m     \u001b[1;32mwith\u001b[0m \u001b[0m_open_file_context\u001b[0m\u001b[1;33m(\u001b[0m\u001b[0mfile_name\u001b[0m\u001b[1;33m,\u001b[0m \u001b[0mappendmat\u001b[0m\u001b[1;33m)\u001b[0m \u001b[1;32mas\u001b[0m \u001b[0mf\u001b[0m\u001b[1;33m:\u001b[0m\u001b[1;33m\u001b[0m\u001b[1;33m\u001b[0m\u001b[0m\n\u001b[0m\u001b[0;32m    223\u001b[0m         \u001b[0mMR\u001b[0m\u001b[1;33m,\u001b[0m \u001b[0m_\u001b[0m \u001b[1;33m=\u001b[0m \u001b[0mmat_reader_factory\u001b[0m\u001b[1;33m(\u001b[0m\u001b[0mf\u001b[0m\u001b[1;33m,\u001b[0m \u001b[1;33m**\u001b[0m\u001b[0mkwargs\u001b[0m\u001b[1;33m)\u001b[0m\u001b[1;33m\u001b[0m\u001b[1;33m\u001b[0m\u001b[0m\n\u001b[0;32m    224\u001b[0m         \u001b[0mmatfile_dict\u001b[0m \u001b[1;33m=\u001b[0m \u001b[0mMR\u001b[0m\u001b[1;33m.\u001b[0m\u001b[0mget_variables\u001b[0m\u001b[1;33m(\u001b[0m\u001b[0mvariable_names\u001b[0m\u001b[1;33m)\u001b[0m\u001b[1;33m\u001b[0m\u001b[1;33m\u001b[0m\u001b[0m\n",
      "\u001b[1;32mC:\\ProgramData\\Anaconda3\\lib\\contextlib.py\u001b[0m in \u001b[0;36m__enter__\u001b[1;34m(self)\u001b[0m\n\u001b[0;32m    110\u001b[0m         \u001b[1;32mdel\u001b[0m \u001b[0mself\u001b[0m\u001b[1;33m.\u001b[0m\u001b[0margs\u001b[0m\u001b[1;33m,\u001b[0m \u001b[0mself\u001b[0m\u001b[1;33m.\u001b[0m\u001b[0mkwds\u001b[0m\u001b[1;33m,\u001b[0m \u001b[0mself\u001b[0m\u001b[1;33m.\u001b[0m\u001b[0mfunc\u001b[0m\u001b[1;33m\u001b[0m\u001b[1;33m\u001b[0m\u001b[0m\n\u001b[0;32m    111\u001b[0m         \u001b[1;32mtry\u001b[0m\u001b[1;33m:\u001b[0m\u001b[1;33m\u001b[0m\u001b[1;33m\u001b[0m\u001b[0m\n\u001b[1;32m--> 112\u001b[1;33m             \u001b[1;32mreturn\u001b[0m \u001b[0mnext\u001b[0m\u001b[1;33m(\u001b[0m\u001b[0mself\u001b[0m\u001b[1;33m.\u001b[0m\u001b[0mgen\u001b[0m\u001b[1;33m)\u001b[0m\u001b[1;33m\u001b[0m\u001b[1;33m\u001b[0m\u001b[0m\n\u001b[0m\u001b[0;32m    113\u001b[0m         \u001b[1;32mexcept\u001b[0m \u001b[0mStopIteration\u001b[0m\u001b[1;33m:\u001b[0m\u001b[1;33m\u001b[0m\u001b[1;33m\u001b[0m\u001b[0m\n\u001b[0;32m    114\u001b[0m             \u001b[1;32mraise\u001b[0m \u001b[0mRuntimeError\u001b[0m\u001b[1;33m(\u001b[0m\u001b[1;34m\"generator didn't yield\"\u001b[0m\u001b[1;33m)\u001b[0m \u001b[1;32mfrom\u001b[0m \u001b[1;32mNone\u001b[0m\u001b[1;33m\u001b[0m\u001b[1;33m\u001b[0m\u001b[0m\n",
      "\u001b[1;32mC:\\ProgramData\\Anaconda3\\lib\\site-packages\\scipy\\io\\matlab\\mio.py\u001b[0m in \u001b[0;36m_open_file_context\u001b[1;34m(file_like, appendmat, mode)\u001b[0m\n\u001b[0;32m     15\u001b[0m \u001b[1;33m@\u001b[0m\u001b[0mcontextmanager\u001b[0m\u001b[1;33m\u001b[0m\u001b[1;33m\u001b[0m\u001b[0m\n\u001b[0;32m     16\u001b[0m \u001b[1;32mdef\u001b[0m \u001b[0m_open_file_context\u001b[0m\u001b[1;33m(\u001b[0m\u001b[0mfile_like\u001b[0m\u001b[1;33m,\u001b[0m \u001b[0mappendmat\u001b[0m\u001b[1;33m,\u001b[0m \u001b[0mmode\u001b[0m\u001b[1;33m=\u001b[0m\u001b[1;34m'rb'\u001b[0m\u001b[1;33m)\u001b[0m\u001b[1;33m:\u001b[0m\u001b[1;33m\u001b[0m\u001b[1;33m\u001b[0m\u001b[0m\n\u001b[1;32m---> 17\u001b[1;33m     \u001b[0mf\u001b[0m\u001b[1;33m,\u001b[0m \u001b[0mopened\u001b[0m \u001b[1;33m=\u001b[0m \u001b[0m_open_file\u001b[0m\u001b[1;33m(\u001b[0m\u001b[0mfile_like\u001b[0m\u001b[1;33m,\u001b[0m \u001b[0mappendmat\u001b[0m\u001b[1;33m,\u001b[0m \u001b[0mmode\u001b[0m\u001b[1;33m)\u001b[0m\u001b[1;33m\u001b[0m\u001b[1;33m\u001b[0m\u001b[0m\n\u001b[0m\u001b[0;32m     18\u001b[0m     \u001b[1;32mtry\u001b[0m\u001b[1;33m:\u001b[0m\u001b[1;33m\u001b[0m\u001b[1;33m\u001b[0m\u001b[0m\n\u001b[0;32m     19\u001b[0m         \u001b[1;32myield\u001b[0m \u001b[0mf\u001b[0m\u001b[1;33m\u001b[0m\u001b[1;33m\u001b[0m\u001b[0m\n",
      "\u001b[1;32mC:\\ProgramData\\Anaconda3\\lib\\site-packages\\scipy\\io\\matlab\\mio.py\u001b[0m in \u001b[0;36m_open_file\u001b[1;34m(file_like, appendmat, mode)\u001b[0m\n\u001b[0;32m     43\u001b[0m             \u001b[1;32mif\u001b[0m \u001b[0mappendmat\u001b[0m \u001b[1;32mand\u001b[0m \u001b[1;32mnot\u001b[0m \u001b[0mfile_like\u001b[0m\u001b[1;33m.\u001b[0m\u001b[0mendswith\u001b[0m\u001b[1;33m(\u001b[0m\u001b[1;34m'.mat'\u001b[0m\u001b[1;33m)\u001b[0m\u001b[1;33m:\u001b[0m\u001b[1;33m\u001b[0m\u001b[1;33m\u001b[0m\u001b[0m\n\u001b[0;32m     44\u001b[0m                 \u001b[0mfile_like\u001b[0m \u001b[1;33m+=\u001b[0m \u001b[1;34m'.mat'\u001b[0m\u001b[1;33m\u001b[0m\u001b[1;33m\u001b[0m\u001b[0m\n\u001b[1;32m---> 45\u001b[1;33m             \u001b[1;32mreturn\u001b[0m \u001b[0mopen\u001b[0m\u001b[1;33m(\u001b[0m\u001b[0mfile_like\u001b[0m\u001b[1;33m,\u001b[0m \u001b[0mmode\u001b[0m\u001b[1;33m)\u001b[0m\u001b[1;33m,\u001b[0m \u001b[1;32mTrue\u001b[0m\u001b[1;33m\u001b[0m\u001b[1;33m\u001b[0m\u001b[0m\n\u001b[0m\u001b[0;32m     46\u001b[0m         \u001b[1;32melse\u001b[0m\u001b[1;33m:\u001b[0m\u001b[1;33m\u001b[0m\u001b[1;33m\u001b[0m\u001b[0m\n\u001b[0;32m     47\u001b[0m             \u001b[1;32mraise\u001b[0m \u001b[0mIOError\u001b[0m\u001b[1;33m(\u001b[0m\u001b[1;34m'Reader needs file name or open file-like object'\u001b[0m\u001b[1;33m)\u001b[0m\u001b[1;33m\u001b[0m\u001b[1;33m\u001b[0m\u001b[0m\n",
      "\u001b[1;31mFileNotFoundError\u001b[0m: [Errno 2] No such file or directory: '../data/cov_estimation.mat'"
     ]
    }
   ],
   "source": [
    "# load data\n",
    "data = loadmat(os.path.join(data_folder, problem_name + '.mat'))\n",
    "    \n",
    "A = data['S']\n",
    "p = A.shape[0]\n",
    "r = 1300\n",
    "X_0 = r * np.eye(p) / p\n",
    "#X_0 = np.diag(sample_l1_point(r, p))"
   ]
  },
  {
   "cell_type": "markdown",
   "metadata": {},
   "source": [
    "## Parameters initialization"
   ]
  },
  {
   "cell_type": "code",
   "execution_count": 5,
   "metadata": {},
   "outputs": [],
   "source": [
    "#first set of parameters\n",
    "Mf = 2\n",
    "nu = 3\n",
    "#running parameters\n",
    "\n",
    "terminate_tol = 1e-15\n",
    "\n",
    "FW_params={\n",
    "    'iter_FW': 30000,\n",
    "    'line_search_tol': 1e-5,\n",
    "}\n",
    "\n",
    "\n",
    "sc_params={\n",
    "    #parameters for SCOPT\n",
    "    'iter_SC': 100,\n",
    "    'Lest': 'estimate', #estimate L\n",
    "    'use_two_phase': True,\n",
    "    #FISTA parameters\n",
    "    'fista_type': 'mfista',\n",
    "    'fista_tol': 1e-5,\n",
    "    'fista_iter': 100,\n",
    "    #Conjugate Gradient Parameters\n",
    "    'conj_grad_tol': 1e-2,\n",
    "    'conj_grad_iter': 100,\n",
    "}"
   ]
  },
  {
   "cell_type": "markdown",
   "metadata": {},
   "source": [
    "## Functions"
   ]
  },
  {
   "cell_type": "code",
   "execution_count": 6,
   "metadata": {},
   "outputs": [],
   "source": [
    "func_x = lambda X: ce.cov_val(A, X)\n",
    "func_beta = lambda X, S, beta, extra_param, extra_param_s: ce.cov_val(A, (1 - beta) * X + beta * S)\n",
    "grad_x = lambda X, inv_X: ce.cov_grad(A, X, inv_X)\n",
    "grad_beta = lambda X, S, beta, inv_X, inv_S: ce.cov_grad(A, (1 - beta) * X + beta * S)\n",
    "hess_mult_x = lambda S, inv_X: ce.cov_hess_mult(S, inv_X)\n",
    "hess_mult_vec_x = lambda S, inv_X: ce.cov_hess_mult_vec(S, inv_X)\n",
    "#extra_func = lambda X: np.linalg.eigvalsh(X)\n",
    "extra_func = lambda X: X\n",
    "linear_oracle = lambda grad: ce.linear_oracle(grad, r)\n",
    "prox_func = lambda X, L: ce.projection(X, r) #used for SCOPT"
   ]
  },
  {
   "cell_type": "markdown",
   "metadata": {},
   "source": [
    "## Run FW"
   ]
  },
  {
   "cell_type": "code",
   "execution_count": 11,
   "metadata": {
    "tags": []
   },
   "outputs": [
    {
     "output_type": "stream",
     "name": "stdout",
     "text": "********* Algorithm starts *********\niter=1, stepsize=2.93e-03, criterion=1.00e-05, upper_bound=833.279397234206, lower_bound=-1177.7958435120934, real_Gap=2.01e+03, f_val=833.279397234206\niter=1000, stepsize=3.40e-04, criterion=1.00e-05, upper_bound=365.6237479710911, lower_bound=-92.77553456170091, real_Gap=4.58e+02, f_val=365.6237479710911\niter=2000, stepsize=1.74e-04, criterion=1.00e-05, upper_bound=330.51029930742243, lower_bound=75.91857969459488, real_Gap=2.55e+02, f_val=330.51029930742243\niter=3000, stepsize=6.87e-05, criterion=1.00e-05, upper_bound=318.120683268992, lower_bound=134.77031530118194, real_Gap=1.83e+02, f_val=318.120683268992\niter=4000, stepsize=5.34e-05, criterion=1.00e-05, upper_bound=310.7950618640304, lower_bound=164.86797960326018, real_Gap=1.46e+02, f_val=310.7950618640304\niter=5000, stepsize=5.34e-05, criterion=1.00e-05, upper_bound=305.91400828774954, lower_bound=182.46013431462598, real_Gap=1.23e+02, f_val=305.91400828774954\niter=6000, stepsize=7.47e-05, criterion=1.00e-05, upper_bound=302.5546546223693, lower_bound=202.33033883484742, real_Gap=1.00e+02, f_val=302.5546546223693\niter=7000, stepsize=5.69e-05, criterion=1.00e-05, upper_bound=300.0796230459837, lower_bound=212.090534219721, real_Gap=8.80e+01, f_val=300.0796230459837\niter=8000, stepsize=2.29e-05, criterion=1.00e-05, upper_bound=298.1189134257463, lower_bound=221.33829381822758, real_Gap=7.68e+01, f_val=298.1189134257463\niter=9000, stepsize=2.29e-05, criterion=1.00e-05, upper_bound=296.8247713132485, lower_bound=232.665976191718, real_Gap=6.42e+01, f_val=296.8247713132485\niter=10000, stepsize=2.29e-05, criterion=1.00e-05, upper_bound=295.80190105811965, lower_bound=237.87768479393378, real_Gap=5.79e+01, f_val=295.80190105811965\niter=11000, stepsize=4.60e-05, criterion=1.00e-05, upper_bound=294.94716671307003, lower_bound=242.6008781354873, real_Gap=5.23e+01, f_val=294.94716671307003\niter=12000, stepsize=2.29e-05, criterion=1.00e-05, upper_bound=294.2279983493765, lower_bound=246.09921204014321, real_Gap=4.81e+01, f_val=294.2279983493765\niter=13000, stepsize=2.29e-05, criterion=1.00e-05, upper_bound=293.6073803009034, lower_bound=248.9838756448869, real_Gap=4.46e+01, f_val=293.6073803009034\niter=14000, stepsize=2.29e-05, criterion=1.00e-05, upper_bound=293.0747239375363, lower_bound=251.67628921831994, real_Gap=4.14e+01, f_val=293.0747239375363\niter=15000, stepsize=7.63e-06, criterion=1.00e-05, upper_bound=292.63425726722176, lower_bound=257.4388243124797, real_Gap=3.52e+01, f_val=292.63425726722176\niter=16000, stepsize=7.63e-06, criterion=1.00e-05, upper_bound=292.3856488759385, lower_bound=262.9231617296635, real_Gap=2.95e+01, f_val=292.3856488759385\niter=17000, stepsize=1.98e-05, criterion=1.00e-05, upper_bound=292.1829814633344, lower_bound=264.3549313730658, real_Gap=2.78e+01, f_val=292.1829814633344\niter=18000, stepsize=7.63e-06, criterion=1.00e-05, upper_bound=292.00094549884864, lower_bound=265.70849455445466, real_Gap=2.63e+01, f_val=292.00094549884864\niter=19000, stepsize=7.63e-06, criterion=1.00e-05, upper_bound=291.83503964964734, lower_bound=266.41570272911554, real_Gap=2.54e+01, f_val=291.83503964964734\niter=20000, stepsize=2.82e-05, criterion=1.00e-05, upper_bound=291.68115336113823, lower_bound=267.21893750440285, real_Gap=2.45e+01, f_val=291.68115336113823\niter=21000, stepsize=7.63e-06, criterion=1.00e-05, upper_bound=291.541148348942, lower_bound=268.2227470832435, real_Gap=2.33e+01, f_val=291.541148348942\niter=22000, stepsize=8.94e-06, criterion=1.00e-05, upper_bound=291.4090745073117, lower_bound=269.0808206317936, real_Gap=2.23e+01, f_val=291.4090745073117\niter=23000, stepsize=7.63e-06, criterion=1.00e-05, upper_bound=291.2872966174381, lower_bound=269.8912138862977, real_Gap=2.14e+01, f_val=291.2872966174381\niter=24000, stepsize=7.63e-06, criterion=1.00e-05, upper_bound=291.1731297878091, lower_bound=271.25626222752976, real_Gap=1.99e+01, f_val=291.1731297878091\niter=25000, stepsize=2.24e-05, criterion=1.00e-05, upper_bound=291.0704739689319, lower_bound=272.30507750361824, real_Gap=1.88e+01, f_val=291.0704739689319\niter=26000, stepsize=7.63e-06, criterion=1.00e-05, upper_bound=290.97746430702244, lower_bound=273.2446840885392, real_Gap=1.77e+01, f_val=290.97746430702244\niter=27000, stepsize=8.29e-06, criterion=1.00e-05, upper_bound=290.8935608947311, lower_bound=273.8663933057612, real_Gap=1.70e+01, f_val=290.8935608947311\niter=28000, stepsize=7.81e-06, criterion=1.00e-05, upper_bound=290.8153202411041, lower_bound=274.58153292296737, real_Gap=1.62e+01, f_val=290.8153202411041\niter=29000, stepsize=8.68e-06, criterion=1.00e-05, upper_bound=290.74325402880373, lower_bound=275.0634683164234, real_Gap=1.57e+01, f_val=290.74325402880373\niter=30000, stepsize=7.63e-06, criterion=1.00e-05, upper_bound=290.6751111864408, lower_bound=275.49032345977474, real_Gap=1.52e+01, f_val=290.6751111864408\n12686.354812860489\n********* Algorithm starts *********\niter=1, stepsize=2.37e-03, criterion=1.00e-05, upper_bound=833.279397234206, lower_bound=-1177.7958435120934, real_Gap=2.01e+03, f_val=833.279397234206\niter=1000, stepsize=1.44e-04, criterion=1.00e-05, upper_bound=371.0265592592559, lower_bound=-114.80574322199845, real_Gap=4.86e+02, f_val=371.0265592592559\niter=2000, stepsize=1.56e-04, criterion=1.00e-05, upper_bound=330.0911479384114, lower_bound=66.92731682520139, real_Gap=2.63e+02, f_val=330.0911479384114\niter=3000, stepsize=6.69e-05, criterion=1.00e-05, upper_bound=317.0615833824533, lower_bound=138.7144575039289, real_Gap=1.78e+02, f_val=317.0615833824533\niter=4000, stepsize=4.03e-05, criterion=1.00e-05, upper_bound=310.6220262295224, lower_bound=175.4873481895517, real_Gap=1.35e+02, f_val=310.6220262295224\niter=5000, stepsize=3.46e-05, criterion=1.00e-05, upper_bound=306.69504850889854, lower_bound=196.19835001116297, real_Gap=1.10e+02, f_val=306.69504850889854\niter=6000, stepsize=5.68e-05, criterion=1.00e-05, upper_bound=303.94398057231194, lower_bound=208.54174056407902, real_Gap=9.54e+01, f_val=303.94398057231194\niter=7000, stepsize=2.54e-05, criterion=1.00e-05, upper_bound=301.87884448074453, lower_bound=218.21394028103438, real_Gap=8.37e+01, f_val=301.87884448074453\niter=8000, stepsize=2.34e-05, criterion=1.00e-05, upper_bound=300.2567146537949, lower_bound=226.71943093168773, real_Gap=7.35e+01, f_val=300.2567146537949\niter=9000, stepsize=1.96e-05, criterion=1.00e-05, upper_bound=298.97416390000143, lower_bound=232.87045489852775, real_Gap=6.61e+01, f_val=298.97416390000143\niter=10000, stepsize=1.76e-05, criterion=1.00e-05, upper_bound=297.94145510277815, lower_bound=238.52843375606335, real_Gap=5.94e+01, f_val=297.94145510277815\niter=11000, stepsize=3.25e-05, criterion=1.00e-05, upper_bound=297.0982839028203, lower_bound=242.94179824920263, real_Gap=5.42e+01, f_val=297.0982839028203\niter=12000, stepsize=3.03e-05, criterion=1.00e-05, upper_bound=296.39348956459736, lower_bound=246.78599311223567, real_Gap=4.96e+01, f_val=296.39348956459736\niter=13000, stepsize=2.73e-05, criterion=1.00e-05, upper_bound=295.79973343858444, lower_bound=250.08379476196873, real_Gap=4.57e+01, f_val=295.79973343858444\niter=14000, stepsize=1.25e-05, criterion=1.00e-05, upper_bound=295.29273984545335, lower_bound=252.94632137474713, real_Gap=4.23e+01, f_val=295.29273984545335\niter=15000, stepsize=1.17e-05, criterion=1.00e-05, upper_bound=294.8505219803911, lower_bound=255.35940867732984, real_Gap=3.95e+01, f_val=294.8505219803911\niter=16000, stepsize=2.30e-05, criterion=1.00e-05, upper_bound=294.46405747992145, lower_bound=257.06965469209115, real_Gap=3.74e+01, f_val=294.46405747992145\niter=17000, stepsize=1.05e-05, criterion=1.00e-05, upper_bound=294.11929233184867, lower_bound=258.9882546843243, real_Gap=3.51e+01, f_val=294.11929233184867\niter=18000, stepsize=1.02e-05, criterion=1.00e-05, upper_bound=293.81487105861584, lower_bound=260.84815074405066, real_Gap=3.30e+01, f_val=293.81487105861584\niter=19000, stepsize=9.37e-06, criterion=1.00e-05, upper_bound=293.5435448700239, lower_bound=262.30418106994705, real_Gap=3.12e+01, f_val=293.5435448700239\niter=20000, stepsize=8.90e-06, criterion=1.00e-05, upper_bound=293.2998425775529, lower_bound=263.59431433294213, real_Gap=2.97e+01, f_val=293.2998425775529\niter=21000, stepsize=1.69e-05, criterion=1.00e-05, upper_bound=293.07929337790546, lower_bound=264.83634706547775, real_Gap=2.82e+01, f_val=293.07929337790546\niter=22000, stepsize=8.14e-06, criterion=1.00e-05, upper_bound=292.87707603053025, lower_bound=265.84766976591175, real_Gap=2.70e+01, f_val=292.87707603053025\niter=23000, stepsize=7.70e-06, criterion=1.00e-05, upper_bound=292.6913654930149, lower_bound=266.6836689840808, real_Gap=2.60e+01, f_val=292.6913654930149\niter=24000, stepsize=7.39e-06, criterion=1.00e-05, upper_bound=292.5212367989675, lower_bound=267.69983096339774, real_Gap=2.48e+01, f_val=292.5212367989675\niter=25000, stepsize=7.13e-06, criterion=1.00e-05, upper_bound=292.3643473602922, lower_bound=268.3542720129677, real_Gap=2.40e+01, f_val=292.3643473602922\niter=26000, stepsize=1.38e-05, criterion=1.00e-05, upper_bound=292.21804663770774, lower_bound=269.2950234219559, real_Gap=2.29e+01, f_val=292.21804663770774\niter=27000, stepsize=6.84e-06, criterion=1.00e-05, upper_bound=292.0829530051902, lower_bound=269.99306851416316, real_Gap=2.21e+01, f_val=292.0829530051902\niter=28000, stepsize=6.34e-06, criterion=1.00e-05, upper_bound=291.95869502138703, lower_bound=270.7265937721546, real_Gap=2.12e+01, f_val=291.95869502138703\niter=29000, stepsize=6.50e-06, criterion=1.00e-05, upper_bound=291.8430452458865, lower_bound=271.4044570409659, real_Gap=2.04e+01, f_val=291.8430452458865\niter=30000, stepsize=6.70e-06, criterion=1.00e-05, upper_bound=291.73565628765715, lower_bound=271.9504453968232, real_Gap=1.98e+01, f_val=291.73565628765715\n7840.078420639038\n********* Algorithm starts *********\niter=1, stepsize=1.99e-03, criterion=1.00e-05, upper_bound=833.279397234206, lower_bound=-1177.7958435120934, real_Gap=2.01e+03, f_val=833.279397234206\niter=1000, stepsize=3.78e-04, criterion=1.00e-05, upper_bound=368.5923954706832, lower_bound=-114.62332383446744, real_Gap=4.83e+02, f_val=368.5923954706832\niter=2000, stepsize=7.22e-05, criterion=1.00e-05, upper_bound=327.2012847556713, lower_bound=65.13908311528166, real_Gap=2.62e+02, f_val=327.2012847556713\niter=3000, stepsize=1.07e-04, criterion=1.00e-05, upper_bound=314.3131476037001, lower_bound=138.37414347542955, real_Gap=1.76e+02, f_val=314.3131476037001\niter=4000, stepsize=8.91e-05, criterion=1.00e-05, upper_bound=307.99433552795125, lower_bound=174.80538086729166, real_Gap=1.33e+02, f_val=307.99433552795125\niter=5000, stepsize=7.74e-05, criterion=1.00e-05, upper_bound=304.1196795349419, lower_bound=195.91737265520166, real_Gap=1.08e+02, f_val=304.1196795349419\niter=6000, stepsize=3.25e-05, criterion=1.00e-05, upper_bound=301.38115855048625, lower_bound=208.1380474041826, real_Gap=9.32e+01, f_val=301.38115855048625\niter=7000, stepsize=5.63e-05, criterion=1.00e-05, upper_bound=299.3307322393819, lower_bound=218.44207393416514, real_Gap=8.09e+01, f_val=299.3307322393819\niter=8000, stepsize=4.63e-05, criterion=1.00e-05, upper_bound=297.7363076470813, lower_bound=226.25529032003072, real_Gap=7.15e+01, f_val=297.7363076470813\niter=9000, stepsize=2.26e-05, criterion=1.00e-05, upper_bound=296.4809541454199, lower_bound=232.87253598264644, real_Gap=6.36e+01, f_val=296.4809541454199\niter=10000, stepsize=4.09e-05, criterion=1.00e-05, upper_bound=295.4897682467429, lower_bound=239.1887811078481, real_Gap=5.63e+01, f_val=295.4897682467429\niter=11000, stepsize=1.84e-05, criterion=1.00e-05, upper_bound=294.68524683124826, lower_bound=243.4606095938695, real_Gap=5.12e+01, f_val=294.68524683124826\niter=12000, stepsize=1.94e-05, criterion=1.00e-05, upper_bound=294.0288558879415, lower_bound=248.11160929966303, real_Gap=4.59e+01, f_val=294.0288558879415\niter=13000, stepsize=1.54e-05, criterion=1.00e-05, upper_bound=293.4873879273184, lower_bound=251.55519949459318, real_Gap=4.19e+01, f_val=293.4873879273184\niter=14000, stepsize=2.85e-05, criterion=1.00e-05, upper_bound=293.03258335523697, lower_bound=254.4523828120358, real_Gap=3.86e+01, f_val=293.03258335523697\niter=15000, stepsize=2.67e-05, criterion=1.00e-05, upper_bound=292.64866376631784, lower_bound=257.17773458702857, real_Gap=3.55e+01, f_val=292.64866376631784\niter=16000, stepsize=1.22e-05, criterion=1.00e-05, upper_bound=292.32041190542776, lower_bound=259.782757650393, real_Gap=3.25e+01, f_val=292.32041190542776\niter=17000, stepsize=1.16e-05, criterion=1.00e-05, upper_bound=292.0407336611692, lower_bound=261.8146694736708, real_Gap=3.02e+01, f_val=292.0407336611692\niter=18000, stepsize=1.05e-05, criterion=1.00e-05, upper_bound=291.7990967546132, lower_bound=263.7124927304851, real_Gap=2.81e+01, f_val=291.7990967546132\niter=19000, stepsize=1.22e-05, criterion=1.00e-05, upper_bound=291.58692647555904, lower_bound=265.36696798740024, real_Gap=2.62e+01, f_val=291.58692647555904\niter=20000, stepsize=1.90e-05, criterion=1.00e-05, upper_bound=291.4038841259667, lower_bound=266.9810146542727, real_Gap=2.44e+01, f_val=291.4038841259667\niter=21000, stepsize=8.77e-06, criterion=1.00e-05, upper_bound=291.2406851219918, lower_bound=268.03239637344797, real_Gap=2.32e+01, f_val=291.2406851219918\niter=22000, stepsize=8.37e-06, criterion=1.00e-05, upper_bound=291.09649663360426, lower_bound=269.18796308300125, real_Gap=2.19e+01, f_val=291.09649663360426\niter=23000, stepsize=7.95e-06, criterion=1.00e-05, upper_bound=290.9680397423076, lower_bound=270.21803421999624, real_Gap=2.08e+01, f_val=290.9680397423076\niter=24000, stepsize=7.43e-06, criterion=1.00e-05, upper_bound=290.85221011474624, lower_bound=271.444419206701, real_Gap=1.94e+01, f_val=290.85221011474624\niter=25000, stepsize=7.22e-06, criterion=1.00e-05, upper_bound=290.7489931214956, lower_bound=272.2326789173152, real_Gap=1.85e+01, f_val=290.7489931214956\niter=26000, stepsize=1.35e-05, criterion=1.00e-05, upper_bound=290.6560511282911, lower_bound=272.9555551201606, real_Gap=1.77e+01, f_val=290.6560511282911\niter=27000, stepsize=1.41e-05, criterion=1.00e-05, upper_bound=290.5711761783366, lower_bound=273.72223692367226, real_Gap=1.68e+01, f_val=290.5711761783366\niter=28000, stepsize=6.13e-06, criterion=1.00e-05, upper_bound=290.4940242546425, lower_bound=274.60961755624317, real_Gap=1.59e+01, f_val=290.4940242546425\niter=29000, stepsize=5.84e-06, criterion=1.00e-05, upper_bound=290.42398870448574, lower_bound=275.10030287531913, real_Gap=1.53e+01, f_val=290.42398870448574\niter=30000, stepsize=5.65e-06, criterion=1.00e-05, upper_bound=290.3599570838138, lower_bound=275.8442272661453, real_Gap=1.45e+01, f_val=290.3599570838138\n2324.09627866745\n"
    }
   ],
   "source": [
    "#run_alpha_policies = ['standard', 'line_search', 'backtracking', 'sc', 'sc_backtracking', 'sc_hybrid']\n",
    "run_alpha_policies = ['line_search', 'backtracking', 'sc']\n",
    "\n",
    "for policy in run_alpha_policies:\n",
    "    x, alpha_hist, Gap_hist, Q_hist, time_hist  = frank_wolfe(func_x,\n",
    "                       func_beta,                                       \n",
    "                       grad_x,\n",
    "                       grad_beta,\n",
    "                       hess_mult_x,\n",
    "                       extra_func,                                                    \n",
    "                       Mf,\n",
    "                       nu,\n",
    "                       linear_oracle,                                                    \n",
    "                       X_0,\n",
    "                       FW_params,\n",
    "                       #hess=hess_x, \n",
    "                       #lloo_oracle=llo_oracle,                                                 \n",
    "                       alpha_policy=policy,                                                    \n",
    "                       eps=terminate_tol, \n",
    "                       print_every=1000, \n",
    "                       debug_info=False)\n",
    "    \n",
    "    results[problem_name + '.mat'][policy] = {\n",
    "        'x': x,\n",
    "        'alpha_hist': alpha_hist,\n",
    "        'Gap_hist': Gap_hist,\n",
    "        'Q_hist': Q_hist,\n",
    "        'time_hist': time_hist,\n",
    "    }\n",
    "#    with open('./results/cov_estimation/lymph.pckl', 'wb') as f:\n",
    "#        pickle.dump(results, f)"
   ]
  },
  {
   "cell_type": "code",
   "execution_count": 10,
   "metadata": {
    "tags": []
   },
   "outputs": [
    {
     "output_type": "stream",
     "name": "stdout",
     "text": "Fista err = 1.924e-13; Subiter =   2; subproblem converged!\niter =    1, stepsize = 3.329e-02, rdiff = 1.198e+00 , f = 833.279\niter =    2, stepsize = 3.439e-02, rdiff = 1.065e+00 , f = 775.809\niter =    3, stepsize = 3.606e-02, rdiff = 1.038e+00 , f = 724.828\niter =    4, stepsize = 3.607e-02, rdiff = 1.037e+00 , f = 677.574\niter =    5, stepsize = 3.583e-02, rdiff = 1.035e+00 , f = 633.844\niter =    6, stepsize = 3.561e-02, rdiff = 1.031e+00 , f = 593.821\niter =    7, stepsize = 3.588e-02, rdiff = 1.012e+00 , f = 557.127\niter =    8, stepsize = 3.678e-02, rdiff = 9.736e-01 , f = 523.302\niter =    9, stepsize = 3.735e-02, rdiff = 9.506e-01 , f = 491.984\niter =   10, stepsize = 3.789e-02, rdiff = 9.310e-01 , f = 463.356\niter =   11, stepsize = 3.955e-02, rdiff = 8.829e-01 , f = 437.344\niter =   12, stepsize = 4.292e-02, rdiff = 8.088e-01 , f = 413.752\niter =   13, stepsize = 4.771e-02, rdiff = 7.144e-01 , f = 392.557\niter =   14, stepsize = 5.302e-02, rdiff = 6.301e-01 , f = 373.717\niter =   15, stepsize = 5.900e-02, rdiff = 5.532e-01 , f = 357.135\niter =   16, stepsize = 6.613e-02, rdiff = 4.773e-01 , f = 342.715\niter =   17, stepsize = 7.549e-02, rdiff = 3.997e-01 , f = 330.35\niter =   18, stepsize = 8.844e-02, rdiff = 3.226e-01 , f = 319.942\niter =   19, stepsize = 1.067e-01, rdiff = 2.503e-01 , f = 311.388\niter =   20, stepsize = 1.344e-01, rdiff = 1.828e-01 , f = 304.565\niter =   21, stepsize = 1.782e-01, rdiff = 1.231e-01 , f = 299.326\niter =   22, stepsize = 2.442e-01, rdiff = 7.821e-02 , f = 295.511\niter =   23, stepsize = 3.388e-01, rdiff = 4.773e-02 , f = 292.909\niter =   24, stepsize = 4.616e-01, rdiff = 2.883e-02 , f = 291.26\niter =   25, stepsize = 5.962e-01, rdiff = 1.783e-02 , f = 290.288\niter =   26, stepsize = 7.136e-01, rdiff = 1.161e-02 , f = 289.753\niter =   27, stepsize = 7.990e-01, rdiff = 8.027e-03 , f = 289.477\niter =   28, stepsize = 1.000e+00, rdiff = 5.832e-03 , f = 289.34\niter =   29, stepsize = 1.000e+00, rdiff = 4.206e-03 , f = 289.258\niter =   30, stepsize = 1.000e+00, rdiff = 3.286e-03 , f = 289.218\niter =   31, stepsize = 1.000e+00, rdiff = 2.707e-03 , f = 289.193\niter =   32, stepsize = 1.000e+00, rdiff = 2.306e-03 , f = 289.176\niter =   33, stepsize = 1.000e+00, rdiff = 2.009e-03 , f = 289.164\niter =   34, stepsize = 1.000e+00, rdiff = 1.772e-03 , f = 289.155\niter =   35, stepsize = 1.000e+00, rdiff = 1.575e-03 , f = 289.147\niter =   36, stepsize = 1.000e+00, rdiff = 1.408e-03 , f = 289.142\niter =   37, stepsize = 1.000e+00, rdiff = 1.265e-03 , f = 289.137\niter =   38, stepsize = 1.000e+00, rdiff = 1.140e-03 , f = 289.133\niter =   39, stepsize = 1.000e+00, rdiff = 1.030e-03 , f = 289.13\niter =   40, stepsize = 1.000e+00, rdiff = 9.320e-04 , f = 289.128\niter =   41, stepsize = 1.000e+00, rdiff = 8.447e-04 , f = 289.126\niter =   42, stepsize = 1.000e+00, rdiff = 7.668e-04 , f = 289.124\niter =   43, stepsize = 1.000e+00, rdiff = 6.968e-04 , f = 289.123\niter =   44, stepsize = 1.000e+00, rdiff = 6.337e-04 , f = 289.122\niter =   45, stepsize = 1.000e+00, rdiff = 5.771e-04 , f = 289.121\niter =   46, stepsize = 1.000e+00, rdiff = 5.255e-04 , f = 289.12\niter =   47, stepsize = 1.000e+00, rdiff = 4.794e-04 , f = 289.119\nFista err = 9.238e-06; Subiter =   2; subproblem converged!\niter =   48, stepsize = 1.000e+00, rdiff = 6.722e-07 , f = 289.119\nFista err = 9.237e-06; Subiter =   2; subproblem converged!\niter =   49, stepsize = 1.000e+00, rdiff = 6.721e-07 , f = 289.119\nFista err = 9.236e-06; Subiter =   2; subproblem converged!\niter =   50, stepsize = 1.000e+00, rdiff = 6.720e-07 , f = 289.119\nFista err = 9.234e-06; Subiter =   2; subproblem converged!\niter =   51, stepsize = 1.000e+00, rdiff = 6.719e-07 , f = 289.119\nFista err = 9.233e-06; Subiter =   2; subproblem converged!\niter =   52, stepsize = 1.000e+00, rdiff = 6.718e-07 , f = 289.119\nFista err = 9.232e-06; Subiter =   2; subproblem converged!\niter =   53, stepsize = 1.000e+00, rdiff = 6.718e-07 , f = 289.119\nFista err = 9.231e-06; Subiter =   2; subproblem converged!\niter =   54, stepsize = 1.000e+00, rdiff = 6.717e-07 , f = 289.119\nFista err = 9.229e-06; Subiter =   2; subproblem converged!\niter =   55, stepsize = 1.000e+00, rdiff = 6.716e-07 , f = 289.119\nFista err = 9.228e-06; Subiter =   2; subproblem converged!\niter =   56, stepsize = 1.000e+00, rdiff = 6.715e-07 , f = 289.119\nFista err = 9.227e-06; Subiter =   2; subproblem converged!\niter =   57, stepsize = 1.000e+00, rdiff = 6.714e-07 , f = 289.119\nFista err = 9.226e-06; Subiter =   2; subproblem converged!\niter =   58, stepsize = 1.000e+00, rdiff = 6.713e-07 , f = 289.119\nFista err = 9.224e-06; Subiter =   2; subproblem converged!\niter =   59, stepsize = 1.000e+00, rdiff = 6.712e-07 , f = 289.119\nFista err = 9.223e-06; Subiter =   2; subproblem converged!\niter =   60, stepsize = 1.000e+00, rdiff = 6.711e-07 , f = 289.119\nFista err = 9.222e-06; Subiter =   2; subproblem converged!\niter =   61, stepsize = 1.000e+00, rdiff = 6.710e-07 , f = 289.119\nFista err = 9.221e-06; Subiter =   2; subproblem converged!\niter =   62, stepsize = 1.000e+00, rdiff = 6.709e-07 , f = 289.119\nFista err = 9.220e-06; Subiter =   2; subproblem converged!\niter =   63, stepsize = 1.000e+00, rdiff = 6.709e-07 , f = 289.119\nFista err = 9.218e-06; Subiter =   2; subproblem converged!\niter =   64, stepsize = 1.000e+00, rdiff = 6.708e-07 , f = 289.119\nFista err = 9.217e-06; Subiter =   2; subproblem converged!\niter =   65, stepsize = 1.000e+00, rdiff = 6.707e-07 , f = 289.119\nFista err = 9.216e-06; Subiter =   2; subproblem converged!\niter =   66, stepsize = 1.000e+00, rdiff = 6.706e-07 , f = 289.119\nFista err = 9.215e-06; Subiter =   2; subproblem converged!\niter =   67, stepsize = 1.000e+00, rdiff = 6.705e-07 , f = 289.119\nFista err = 9.213e-06; Subiter =   2; subproblem converged!\niter =   68, stepsize = 1.000e+00, rdiff = 6.704e-07 , f = 289.119\nFista err = 9.212e-06; Subiter =   2; subproblem converged!\niter =   69, stepsize = 1.000e+00, rdiff = 6.703e-07 , f = 289.119\nFista err = 9.211e-06; Subiter =   2; subproblem converged!\niter =   70, stepsize = 1.000e+00, rdiff = 6.702e-07 , f = 289.119\nFista err = 9.210e-06; Subiter =   2; subproblem converged!\niter =   71, stepsize = 1.000e+00, rdiff = 6.701e-07 , f = 289.119\nFista err = 9.209e-06; Subiter =   2; subproblem converged!\niter =   72, stepsize = 1.000e+00, rdiff = 6.700e-07 , f = 289.119\nFista err = 9.207e-06; Subiter =   2; subproblem converged!\niter =   73, stepsize = 1.000e+00, rdiff = 6.700e-07 , f = 289.119\nFista err = 9.206e-06; Subiter =   2; subproblem converged!\niter =   74, stepsize = 1.000e+00, rdiff = 6.699e-07 , f = 289.119\nFista err = 9.205e-06; Subiter =   2; subproblem converged!\niter =   75, stepsize = 1.000e+00, rdiff = 6.698e-07 , f = 289.119\nFista err = 9.204e-06; Subiter =   2; subproblem converged!\niter =   76, stepsize = 1.000e+00, rdiff = 6.697e-07 , f = 289.119\nFista err = 9.202e-06; Subiter =   2; subproblem converged!\niter =   77, stepsize = 1.000e+00, rdiff = 6.696e-07 , f = 289.119\nFista err = 9.201e-06; Subiter =   2; subproblem converged!\niter =   78, stepsize = 1.000e+00, rdiff = 6.695e-07 , f = 289.119\nFista err = 9.200e-06; Subiter =   2; subproblem converged!\niter =   79, stepsize = 1.000e+00, rdiff = 6.694e-07 , f = 289.119\nFista err = 9.199e-06; Subiter =   2; subproblem converged!\niter =   80, stepsize = 1.000e+00, rdiff = 6.693e-07 , f = 289.119\nFista err = 9.197e-06; Subiter =   2; subproblem converged!\niter =   81, stepsize = 1.000e+00, rdiff = 6.692e-07 , f = 289.119\nFista err = 9.196e-06; Subiter =   2; subproblem converged!\niter =   82, stepsize = 1.000e+00, rdiff = 6.692e-07 , f = 289.119\nFista err = 9.195e-06; Subiter =   2; subproblem converged!\niter =   83, stepsize = 1.000e+00, rdiff = 6.691e-07 , f = 289.119\nFista err = 9.194e-06; Subiter =   2; subproblem converged!\niter =   84, stepsize = 1.000e+00, rdiff = 6.690e-07 , f = 289.119\nFista err = 9.193e-06; Subiter =   2; subproblem converged!\niter =   85, stepsize = 1.000e+00, rdiff = 6.689e-07 , f = 289.119\nFista err = 9.191e-06; Subiter =   2; subproblem converged!\niter =   86, stepsize = 1.000e+00, rdiff = 6.688e-07 , f = 289.119\nFista err = 9.190e-06; Subiter =   2; subproblem converged!\niter =   87, stepsize = 1.000e+00, rdiff = 6.687e-07 , f = 289.119\nFista err = 9.189e-06; Subiter =   2; subproblem converged!\niter =   88, stepsize = 1.000e+00, rdiff = 6.686e-07 , f = 289.119\nFista err = 9.188e-06; Subiter =   2; subproblem converged!\niter =   89, stepsize = 1.000e+00, rdiff = 6.685e-07 , f = 289.119\nFista err = 9.186e-06; Subiter =   2; subproblem converged!\niter =   90, stepsize = 1.000e+00, rdiff = 6.684e-07 , f = 289.119\nFista err = 9.185e-06; Subiter =   2; subproblem converged!\niter =   91, stepsize = 1.000e+00, rdiff = 6.683e-07 , f = 289.119\nFista err = 9.184e-06; Subiter =   2; subproblem converged!\niter =   92, stepsize = 1.000e+00, rdiff = 6.683e-07 , f = 289.119\nFista err = 9.183e-06; Subiter =   2; subproblem converged!\niter =   93, stepsize = 1.000e+00, rdiff = 6.682e-07 , f = 289.119\nFista err = 9.181e-06; Subiter =   2; subproblem converged!\niter =   94, stepsize = 1.000e+00, rdiff = 6.681e-07 , f = 289.119\nFista err = 9.180e-06; Subiter =   2; subproblem converged!\niter =   95, stepsize = 1.000e+00, rdiff = 6.680e-07 , f = 289.119\nFista err = 9.179e-06; Subiter =   2; subproblem converged!\niter =   96, stepsize = 1.000e+00, rdiff = 6.679e-07 , f = 289.119\nFista err = 9.178e-06; Subiter =   2; subproblem converged!\niter =   97, stepsize = 1.000e+00, rdiff = 6.678e-07 , f = 289.119\nFista err = 9.177e-06; Subiter =   2; subproblem converged!\niter =   98, stepsize = 1.000e+00, rdiff = 6.677e-07 , f = 289.119\nFista err = 9.175e-06; Subiter =   2; subproblem converged!\niter =   99, stepsize = 1.000e+00, rdiff = 6.676e-07 , f = 289.119\nFista err = 9.174e-06; Subiter =   2; subproblem converged!\niter =  100, stepsize = 1.000e+00, rdiff = 6.675e-07 , f = 289.119\nExceed the maximum number of iterations\n4128.021342992783\n"
    },
    {
     "output_type": "error",
     "ename": "KeyError",
     "evalue": "'Lymph'",
     "traceback": [
      "\u001b[1;31m---------------------------------------------------------------------------\u001b[0m",
      "\u001b[1;31mKeyError\u001b[0m                                  Traceback (most recent call last)",
      "\u001b[1;32m<ipython-input-10-cbf670d5140c>\u001b[0m in \u001b[0;36m<module>\u001b[1;34m\u001b[0m\n\u001b[0;32m     16\u001b[0m     \u001b[1;31m#'Gap_hist': Gap_hist,\u001b[0m\u001b[1;33m\u001b[0m\u001b[1;33m\u001b[0m\u001b[1;33m\u001b[0m\u001b[0m\n\u001b[0;32m     17\u001b[0m     \u001b[1;34m'Q_hist'\u001b[0m\u001b[1;33m:\u001b[0m \u001b[0mQ_hist\u001b[0m\u001b[1;33m,\u001b[0m\u001b[1;33m\u001b[0m\u001b[1;33m\u001b[0m\u001b[0m\n\u001b[1;32m---> 18\u001b[1;33m     \u001b[1;34m'time_hist'\u001b[0m\u001b[1;33m:\u001b[0m \u001b[0mtime_hist\u001b[0m\u001b[1;33m,\u001b[0m\u001b[1;33m\u001b[0m\u001b[1;33m\u001b[0m\u001b[0m\n\u001b[0m\u001b[0;32m     19\u001b[0m }\n",
      "\u001b[1;31mKeyError\u001b[0m: 'Lymph'"
     ]
    }
   ],
   "source": [
    "x, alpha_hist, Q_hist, time_hist = scopt(func_x,\n",
    "          grad_x,\n",
    "          hess_mult_x,\n",
    "          hess_mult_vec_x,\n",
    "          Mf,\n",
    "          nu,\n",
    "          prox_func,\n",
    "          X_0,  \n",
    "          sc_params,                                              \n",
    "          eps=terminate_tol,                                              \n",
    "          print_every=1)\n",
    "    \n",
    "results[problem_name + '.mat']['scopt'] = {\n",
    "        'x': x,\n",
    "        'alpha_hist': alpha_hist,\n",
    "        'Q_hist': Q_hist,\n",
    "        'time_hist': time_hist,\n",
    "    }"
   ]
  },
  {
   "cell_type": "code",
   "execution_count": 7,
   "metadata": {},
   "outputs": [],
   "source": [
    "prox_params={\n",
    "        #parameters for SCOPT\n",
    "        'iter_prox': 5000,\n",
    "        'Lest': 'estimate',#,'estimate', #estimate L\n",
    "        'bb_type': 2,\n",
    "        #FISTA parameters\n",
    "        'fista_type': 'fista',\n",
    "        'fista_tol': 1e-5,\n",
    "        'fista_iter': 1000,\n",
    "        'btk_iters': 100,\n",
    "        'backtracking': True\n",
    "    }"
   ]
  },
  {
   "cell_type": "code",
   "execution_count": 8,
   "metadata": {
    "tags": [
     "outputPrepend"
    ]
   },
   "outputs": [
    {
     "output_type": "stream",
     "name": "stdout",
     "text": " , f = 289.116\niter = 2030, stepsize = 1.000e+00, rdiff = 1.489e-10 , f = 289.116\niter = 2040, stepsize = 1.000e+00, rdiff = 1.355e-09 , f = 289.116\niter = 2050, stepsize = 1.000e+00, rdiff = 9.821e-11 , f = 289.116\niter = 2060, stepsize = 1.000e+00, rdiff = 2.645e-11 , f = 289.116\niter = 2070, stepsize = 1.000e+00, rdiff = 2.644e-10 , f = 289.116\niter = 2080, stepsize = 1.000e+00, rdiff = 6.251e-10 , f = 289.116\niter = 2090, stepsize = 1.000e+00, rdiff = 2.069e-10 , f = 289.116\niter = 2100, stepsize = 1.000e+00, rdiff = 5.982e-10 , f = 289.116\niter = 2110, stepsize = 1.000e+00, rdiff = 4.139e-10 , f = 289.116\niter = 2120, stepsize = 1.000e+00, rdiff = 1.662e-10 , f = 289.116\niter = 2130, stepsize = 1.000e+00, rdiff = 2.633e-11 , f = 289.116\niter = 2140, stepsize = 1.000e+00, rdiff = 1.147e-11 , f = 289.116\niter = 2150, stepsize = 1.000e+00, rdiff = 4.663e-10 , f = 289.116\niter = 2160, stepsize = 1.000e+00, rdiff = 4.998e-12 , f = 289.116\niter = 2170, stepsize = 1.000e+00, rdiff = 1.173e-12 , f = 289.116\niter = 2180, stepsize = 1.000e+00, rdiff = 1.223e-11 , f = 289.116\niter = 2190, stepsize = 1.000e+00, rdiff = 1.985e-12 , f = 289.116\niter = 2200, stepsize = 1.000e+00, rdiff = 1.341e-12 , f = 289.116\niter = 2210, stepsize = 1.000e+00, rdiff = 4.175e-12 , f = 289.116\niter = 2220, stepsize = 1.000e+00, rdiff = 5.473e-12 , f = 289.116\niter = 2230, stepsize = 1.000e+00, rdiff = 1.852e-12 , f = 289.116\niter = 2240, stepsize = 1.000e+00, rdiff = 1.139e-11 , f = 289.116\niter = 2250, stepsize = 1.000e+00, rdiff = 1.081e-12 , f = 289.116\niter = 2260, stepsize = 1.000e+00, rdiff = 1.047e-12 , f = 289.116\niter = 2270, stepsize = 1.000e+00, rdiff = 9.907e-13 , f = 289.116\niter = 2280, stepsize = 1.000e+00, rdiff = 5.466e-13 , f = 289.116\niter = 2290, stepsize = 1.000e+00, rdiff = 2.051e-11 , f = 289.116\niter = 2300, stepsize = 1.000e+00, rdiff = 5.353e-12 , f = 289.116\niter = 2310, stepsize = 1.000e+00, rdiff = 6.579e-12 , f = 289.116\niter = 2320, stepsize = 1.000e+00, rdiff = 4.177e-13 , f = 289.116\niter = 2330, stepsize = 1.000e+00, rdiff = 1.492e-12 , f = 289.116\niter = 2340, stepsize = 1.000e+00, rdiff = 7.375e-13 , f = 289.116\niter = 2350, stepsize = 1.000e+00, rdiff = 5.878e-13 , f = 289.116\niter = 2360, stepsize = 1.000e+00, rdiff = 3.736e-13 , f = 289.116\niter = 2370, stepsize = 1.000e+00, rdiff = 1.408e-12 , f = 289.116\niter = 2380, stepsize = 1.000e+00, rdiff = 7.523e-13 , f = 289.116\niter = 2390, stepsize = 1.000e+00, rdiff = 6.709e-13 , f = 289.116\niter = 2400, stepsize = 1.000e+00, rdiff = 7.752e-12 , f = 289.116\niter = 2410, stepsize = 1.000e+00, rdiff = 1.188e-12 , f = 289.116\niter = 2420, stepsize = 1.000e+00, rdiff = 3.245e-13 , f = 289.116\niter = 2430, stepsize = 1.000e+00, rdiff = 6.480e-12 , f = 289.116\niter = 2440, stepsize = 1.000e+00, rdiff = 2.911e-13 , f = 289.116\niter = 2450, stepsize = 1.000e+00, rdiff = 5.999e-13 , f = 289.116\niter = 2460, stepsize = 1.000e+00, rdiff = 1.800e-12 , f = 289.116\niter = 2470, stepsize = 1.000e+00, rdiff = 8.035e-13 , f = 289.116\niter = 2480, stepsize = 1.000e+00, rdiff = 4.101e-12 , f = 289.116\niter = 2490, stepsize = 1.000e+00, rdiff = 8.287e-12 , f = 289.116\niter = 2500, stepsize = 1.000e+00, rdiff = 5.216e-13 , f = 289.116\niter = 2510, stepsize = 1.000e+00, rdiff = 5.572e-13 , f = 289.116\niter = 2520, stepsize = 1.000e+00, rdiff = 2.485e-13 , f = 289.116\niter = 2530, stepsize = 1.000e+00, rdiff = 4.000e-13 , f = 289.116\niter = 2540, stepsize = 1.000e+00, rdiff = 1.479e-11 , f = 289.116\niter = 2550, stepsize = 1.000e+00, rdiff = 1.703e-12 , f = 289.116\niter = 2560, stepsize = 1.000e+00, rdiff = 3.641e-13 , f = 289.116\niter = 2570, stepsize = 1.000e+00, rdiff = 1.253e-12 , f = 289.116\niter = 2580, stepsize = 1.000e+00, rdiff = 8.555e-12 , f = 289.116\niter = 2590, stepsize = 1.000e+00, rdiff = 3.355e-12 , f = 289.116\niter = 2600, stepsize = 1.000e+00, rdiff = 7.878e-13 , f = 289.116\niter = 2610, stepsize = 1.000e+00, rdiff = 1.179e-12 , f = 289.116\niter = 2620, stepsize = 1.000e+00, rdiff = 3.400e-12 , f = 289.116\niter = 2630, stepsize = 1.000e+00, rdiff = 4.283e-13 , f = 289.116\niter = 2640, stepsize = 1.000e+00, rdiff = 3.492e-11 , f = 289.116\niter = 2650, stepsize = 1.000e+00, rdiff = 5.051e-12 , f = 289.116\niter = 2660, stepsize = 1.000e+00, rdiff = 4.149e-13 , f = 289.116\niter = 2670, stepsize = 1.000e+00, rdiff = 1.527e-12 , f = 289.116\niter = 2680, stepsize = 1.000e+00, rdiff = 1.357e-13 , f = 289.116\niter = 2690, stepsize = 1.000e+00, rdiff = 2.171e-13 , f = 289.116\niter = 2700, stepsize = 1.000e+00, rdiff = 6.444e-13 , f = 289.116\niter = 2710, stepsize = 1.000e+00, rdiff = 2.302e-13 , f = 289.116\niter = 2720, stepsize = 1.000e+00, rdiff = 6.159e-13 , f = 289.116\niter = 2730, stepsize = 1.000e+00, rdiff = 8.670e-13 , f = 289.116\niter = 2740, stepsize = 1.000e+00, rdiff = 2.109e-13 , f = 289.116\niter = 2750, stepsize = 1.000e+00, rdiff = 5.367e-13 , f = 289.116\niter = 2760, stepsize = 1.000e+00, rdiff = 1.814e-13 , f = 289.116\niter = 2770, stepsize = 1.000e+00, rdiff = 2.671e-13 , f = 289.116\niter = 2780, stepsize = 1.000e+00, rdiff = 1.701e-13 , f = 289.116\niter = 2790, stepsize = 1.000e+00, rdiff = 4.013e-13 , f = 289.116\niter = 2800, stepsize = 1.000e+00, rdiff = 8.454e-13 , f = 289.116\niter = 2810, stepsize = 1.000e+00, rdiff = 1.237e-12 , f = 289.116\niter = 2820, stepsize = 1.000e+00, rdiff = 1.431e-13 , f = 289.116\niter = 2830, stepsize = 1.000e+00, rdiff = 7.442e-14 , f = 289.116\niter = 2840, stepsize = 1.000e+00, rdiff = 9.391e-14 , f = 289.116\niter = 2850, stepsize = 1.000e+00, rdiff = 1.835e-13 , f = 289.116\niter = 2860, stepsize = 1.000e+00, rdiff = 2.038e-13 , f = 289.116\niter = 2870, stepsize = 1.000e+00, rdiff = 7.258e-14 , f = 289.116\niter = 2880, stepsize = 1.000e+00, rdiff = 1.402e-13 , f = 289.116\niter = 2890, stepsize = 1.000e+00, rdiff = 1.632e-13 , f = 289.116\niter = 2900, stepsize = 1.000e+00, rdiff = 1.267e-13 , f = 289.116\niter = 2910, stepsize = 1.000e+00, rdiff = 2.282e-13 , f = 289.116\niter = 2920, stepsize = 1.000e+00, rdiff = 1.402e-12 , f = 289.116\niter = 2930, stepsize = 1.000e+00, rdiff = 1.074e-13 , f = 289.116\niter = 2940, stepsize = 1.000e+00, rdiff = 1.225e-13 , f = 289.116\niter = 2950, stepsize = 1.000e+00, rdiff = 7.140e-13 , f = 289.116\niter = 2960, stepsize = 1.000e+00, rdiff = 1.282e-13 , f = 289.116\niter = 2970, stepsize = 1.000e+00, rdiff = 1.270e-13 , f = 289.116\niter = 2980, stepsize = 1.000e+00, rdiff = 2.215e-13 , f = 289.116\niter = 2990, stepsize = 1.000e+00, rdiff = 1.103e-13 , f = 289.116\niter = 3000, stepsize = 1.000e+00, rdiff = 1.693e-13 , f = 289.116\niter = 3010, stepsize = 1.000e+00, rdiff = 1.718e-13 , f = 289.116\niter = 3020, stepsize = 1.000e+00, rdiff = 1.105e-13 , f = 289.116\niter = 3030, stepsize = 1.000e+00, rdiff = 2.404e-13 , f = 289.116\niter = 3040, stepsize = 1.000e+00, rdiff = 4.927e-14 , f = 289.116\niter = 3050, stepsize = 1.000e+00, rdiff = 4.540e-13 , f = 289.116\niter = 3060, stepsize = 1.000e+00, rdiff = 1.634e-13 , f = 289.116\niter = 3070, stepsize = 1.000e+00, rdiff = 8.208e-13 , f = 289.116\niter = 3080, stepsize = 1.000e+00, rdiff = 3.451e-13 , f = 289.116\niter = 3090, stepsize = 1.000e+00, rdiff = 1.535e-13 , f = 289.116\niter = 3100, stepsize = 1.000e+00, rdiff = 2.839e-12 , f = 289.116\niter = 3110, stepsize = 1.000e+00, rdiff = 3.894e-14 , f = 289.116\niter = 3120, stepsize = 1.000e+00, rdiff = 4.099e-13 , f = 289.116\niter = 3130, stepsize = 1.000e+00, rdiff = 8.208e-14 , f = 289.116\niter = 3140, stepsize = 1.000e+00, rdiff = 5.006e-14 , f = 289.116\niter = 3150, stepsize = 1.000e+00, rdiff = 1.085e-13 , f = 289.116\niter = 3160, stepsize = 1.000e+00, rdiff = 7.905e-14 , f = 289.116\niter = 3170, stepsize = 1.000e+00, rdiff = 5.574e-14 , f = 289.116\niter = 3180, stepsize = 1.000e+00, rdiff = 2.178e-13 , f = 289.116\niter = 3190, stepsize = 1.000e+00, rdiff = 1.331e-13 , f = 289.116\niter = 3200, stepsize = 1.000e+00, rdiff = 3.163e-13 , f = 289.116\niter = 3210, stepsize = 1.000e+00, rdiff = 1.994e-13 , f = 289.116\niter = 3220, stepsize = 1.000e+00, rdiff = 4.423e-14 , f = 289.116\niter = 3230, stepsize = 1.000e+00, rdiff = 5.633e-14 , f = 289.116\niter = 3240, stepsize = 1.000e+00, rdiff = 4.948e-13 , f = 289.116\niter = 3250, stepsize = 1.000e+00, rdiff = 1.206e-13 , f = 289.116\niter = 3260, stepsize = 1.000e+00, rdiff = 4.818e-13 , f = 289.116\niter = 3270, stepsize = 1.000e+00, rdiff = 1.604e-13 , f = 289.116\niter = 3280, stepsize = 1.000e+00, rdiff = 1.712e-13 , f = 289.116\niter = 3290, stepsize = 1.000e+00, rdiff = 3.490e-14 , f = 289.116\niter = 3300, stepsize = 1.000e+00, rdiff = 3.323e-14 , f = 289.116\niter = 3310, stepsize = 1.000e+00, rdiff = 9.729e-14 , f = 289.116\niter = 3320, stepsize = 1.000e+00, rdiff = 7.802e-14 , f = 289.116\niter = 3330, stepsize = 1.000e+00, rdiff = 3.756e-14 , f = 289.116\niter = 3340, stepsize = 1.000e+00, rdiff = 8.563e-14 , f = 289.116\niter = 3350, stepsize = 1.000e+00, rdiff = 1.193e-13 , f = 289.116\niter = 3360, stepsize = 1.000e+00, rdiff = 3.940e-14 , f = 289.116\niter = 3370, stepsize = 1.000e+00, rdiff = 6.455e-14 , f = 289.116\niter = 3380, stepsize = 1.000e+00, rdiff = 9.934e-14 , f = 289.116\niter = 3390, stepsize = 1.000e+00, rdiff = 3.159e-13 , f = 289.116\niter = 3400, stepsize = 1.000e+00, rdiff = 6.564e-14 , f = 289.116\niter = 3410, stepsize = 1.000e+00, rdiff = 1.586e-13 , f = 289.116\niter = 3420, stepsize = 1.000e+00, rdiff = 7.875e-14 , f = 289.116\niter = 3430, stepsize = 1.000e+00, rdiff = 9.313e-14 , f = 289.116\niter = 3440, stepsize = 1.000e+00, rdiff = 2.841e-14 , f = 289.116\niter = 3450, stepsize = 1.000e+00, rdiff = 6.927e-14 , f = 289.116\niter = 3460, stepsize = 1.000e+00, rdiff = 8.962e-14 , f = 289.116\niter = 3470, stepsize = 1.000e+00, rdiff = 9.834e-14 , f = 289.116\niter = 3480, stepsize = 1.000e+00, rdiff = 4.680e-14 , f = 289.116\niter = 3490, stepsize = 1.000e+00, rdiff = 2.878e-14 , f = 289.116\niter = 3500, stepsize = 1.000e+00, rdiff = 2.654e-14 , f = 289.116\niter = 3510, stepsize = 1.000e+00, rdiff = 4.332e-14 , f = 289.116\niter = 3520, stepsize = 1.000e+00, rdiff = 2.554e-14 , f = 289.116\niter = 3530, stepsize = 1.000e+00, rdiff = 4.419e-14 , f = 289.116\niter = 3540, stepsize = 1.000e+00, rdiff = 2.657e-14 , f = 289.116\niter = 3550, stepsize = 1.000e+00, rdiff = 9.486e-14 , f = 289.116\niter = 3560, stepsize = 1.000e+00, rdiff = 1.301e-13 , f = 289.116\niter = 3570, stepsize = 1.000e+00, rdiff = 5.790e-14 , f = 289.116\niter = 3580, stepsize = 1.000e+00, rdiff = 3.357e-14 , f = 289.116\niter = 3590, stepsize = 1.000e+00, rdiff = 3.995e-14 , f = 289.116\niter = 3600, stepsize = 1.000e+00, rdiff = 4.547e-14 , f = 289.116\niter = 3610, stepsize = 1.000e+00, rdiff = 6.150e-14 , f = 289.116\niter = 3620, stepsize = 1.000e+00, rdiff = 4.377e-14 , f = 289.116\niter = 3630, stepsize = 1.000e+00, rdiff = 1.655e-14 , f = 289.116\niter = 3640, stepsize = 1.000e+00, rdiff = 3.479e-14 , f = 289.116\niter = 3650, stepsize = 1.000e+00, rdiff = 4.897e-14 , f = 289.116\niter = 3660, stepsize = 1.000e+00, rdiff = 5.942e-13 , f = 289.116\niter = 3670, stepsize = 1.000e+00, rdiff = 4.891e-14 , f = 289.116\niter = 3680, stepsize = 1.000e+00, rdiff = 5.216e-14 , f = 289.116\niter = 3690, stepsize = 1.000e+00, rdiff = 1.539e-14 , f = 289.116\niter = 3700, stepsize = 1.000e+00, rdiff = 2.676e-13 , f = 289.116\niter = 3710, stepsize = 1.000e+00, rdiff = 4.660e-14 , f = 289.116\niter = 3720, stepsize = 1.000e+00, rdiff = 1.455e-13 , f = 289.116\niter = 3730, stepsize = 1.000e+00, rdiff = 3.455e-14 , f = 289.116\niter = 3740, stepsize = 1.000e+00, rdiff = 4.460e-14 , f = 289.116\niter = 3750, stepsize = 1.000e+00, rdiff = 3.331e-14 , f = 289.116\niter = 3760, stepsize = 1.000e+00, rdiff = 2.487e-14 , f = 289.116\niter = 3770, stepsize = 1.000e+00, rdiff = 1.319e-14 , f = 289.116\niter = 3780, stepsize = 1.000e+00, rdiff = 2.853e-14 , f = 289.116\niter = 3790, stepsize = 1.000e+00, rdiff = 9.928e-14 , f = 289.116\niter = 3800, stepsize = 1.000e+00, rdiff = 5.069e-14 , f = 289.116\niter = 3810, stepsize = 1.000e+00, rdiff = 5.786e-14 , f = 289.116\niter = 3820, stepsize = 1.000e+00, rdiff = 1.762e-13 , f = 289.116\niter = 3830, stepsize = 1.000e+00, rdiff = 4.571e-14 , f = 289.116\niter = 3840, stepsize = 1.000e+00, rdiff = 3.828e-14 , f = 289.116\niter = 3850, stepsize = 1.000e+00, rdiff = 1.178e-13 , f = 289.116\niter = 3860, stepsize = 1.000e+00, rdiff = 4.643e-14 , f = 289.116\niter = 3870, stepsize = 1.000e+00, rdiff = 5.143e-14 , f = 289.116\niter = 3880, stepsize = 1.000e+00, rdiff = 1.053e-14 , f = 289.116\niter = 3890, stepsize = 1.000e+00, rdiff = 6.900e-14 , f = 289.116\niter = 3900, stepsize = 1.000e+00, rdiff = 1.666e-14 , f = 289.116\niter = 3910, stepsize = 1.000e+00, rdiff = 6.267e-14 , f = 289.116\niter = 3920, stepsize = 1.000e+00, rdiff = 5.030e-14 , f = 289.116\niter = 3930, stepsize = 1.000e+00, rdiff = 2.391e-14 , f = 289.116\niter = 3940, stepsize = 1.000e+00, rdiff = 7.114e-14 , f = 289.116\niter = 3950, stepsize = 1.000e+00, rdiff = 1.488e-14 , f = 289.116\niter = 3960, stepsize = 1.000e+00, rdiff = 1.391e-14 , f = 289.116\niter = 3970, stepsize = 1.000e+00, rdiff = 1.873e-13 , f = 289.116\niter = 3980, stepsize = 1.000e+00, rdiff = 1.778e-14 , f = 289.116\niter = 3990, stepsize = 1.000e+00, rdiff = 4.916e-14 , f = 289.116\niter = 4000, stepsize = 1.000e+00, rdiff = 5.051e-14 , f = 289.116\niter = 4010, stepsize = 1.000e+00, rdiff = 6.693e-14 , f = 289.116\niter = 4020, stepsize = 1.000e+00, rdiff = 2.181e-14 , f = 289.116\niter = 4030, stepsize = 1.000e+00, rdiff = 2.761e-14 , f = 289.116\niter = 4040, stepsize = 1.000e+00, rdiff = 2.441e-14 , f = 289.116\niter = 4050, stepsize = 1.000e+00, rdiff = 5.842e-14 , f = 289.116\niter = 4060, stepsize = 1.000e+00, rdiff = 5.017e-13 , f = 289.116\niter = 4070, stepsize = 1.000e+00, rdiff = 1.458e-14 , f = 289.116\niter = 4080, stepsize = 1.000e+00, rdiff = 2.703e-14 , f = 289.116\niter = 4090, stepsize = 1.000e+00, rdiff = 2.011e-14 , f = 289.116\niter = 4100, stepsize = 1.000e+00, rdiff = 1.626e-14 , f = 289.116\niter = 4110, stepsize = 1.000e+00, rdiff = 3.433e-14 , f = 289.116\niter = 4120, stepsize = 1.000e+00, rdiff = 3.066e-14 , f = 289.116\niter = 4130, stepsize = 1.000e+00, rdiff = 5.375e-14 , f = 289.116\niter = 4140, stepsize = 1.000e+00, rdiff = 1.666e-14 , f = 289.116\niter = 4150, stepsize = 1.000e+00, rdiff = 4.961e-14 , f = 289.116\niter = 4160, stepsize = 1.000e+00, rdiff = 1.834e-14 , f = 289.116\niter = 4170, stepsize = 1.000e+00, rdiff = 2.903e-14 , f = 289.116\niter = 4180, stepsize = 1.000e+00, rdiff = 3.159e-14 , f = 289.116\niter = 4190, stepsize = 1.000e+00, rdiff = 6.886e-14 , f = 289.116\niter = 4200, stepsize = 1.000e+00, rdiff = 4.895e-14 , f = 289.116\niter = 4210, stepsize = 1.000e+00, rdiff = 1.968e-14 , f = 289.116\niter = 4220, stepsize = 1.000e+00, rdiff = 2.258e-14 , f = 289.116\niter = 4230, stepsize = 1.000e+00, rdiff = 1.039e-13 , f = 289.116\niter = 4240, stepsize = 1.000e+00, rdiff = 2.645e-14 , f = 289.116\niter = 4250, stepsize = 1.000e+00, rdiff = 1.743e-14 , f = 289.116\niter = 4260, stepsize = 1.000e+00, rdiff = 8.849e-15 , f = 289.116\niter = 4270, stepsize = 1.000e+00, rdiff = 3.311e-14 , f = 289.116\niter = 4280, stepsize = 1.000e+00, rdiff = 1.964e-14 , f = 289.116\niter = 4290, stepsize = 1.000e+00, rdiff = 2.012e-14 , f = 289.116\niter = 4300, stepsize = 1.000e+00, rdiff = 7.145e-14 , f = 289.116\niter = 4310, stepsize = 1.000e+00, rdiff = 1.646e-14 , f = 289.116\niter = 4320, stepsize = 1.000e+00, rdiff = 1.393e-14 , f = 289.116\niter = 4330, stepsize = 1.000e+00, rdiff = 2.519e-13 , f = 289.116\niter = 4340, stepsize = 1.000e+00, rdiff = 1.110e-14 , f = 289.116\niter = 4350, stepsize = 1.000e+00, rdiff = 7.211e-14 , f = 289.116\niter = 4360, stepsize = 1.000e+00, rdiff = 5.936e-14 , f = 289.116\niter = 4370, stepsize = 1.000e+00, rdiff = 1.078e-13 , f = 289.116\niter = 4380, stepsize = 1.000e+00, rdiff = 5.125e-14 , f = 289.116\niter = 4390, stepsize = 1.000e+00, rdiff = 2.470e-14 , f = 289.116\niter = 4400, stepsize = 1.000e+00, rdiff = 2.648e-14 , f = 289.116\niter = 4410, stepsize = 1.000e+00, rdiff = 3.304e-14 , f = 289.116\niter = 4420, stepsize = 1.000e+00, rdiff = 3.040e-14 , f = 289.116\niter = 4430, stepsize = 1.000e+00, rdiff = 5.728e-14 , f = 289.116\niter = 4440, stepsize = 1.000e+00, rdiff = 4.941e-14 , f = 289.116\niter = 4450, stepsize = 1.000e+00, rdiff = 8.399e-14 , f = 289.116\niter = 4460, stepsize = 1.000e+00, rdiff = 1.561e-14 , f = 289.116\niter = 4470, stepsize = 1.000e+00, rdiff = 1.318e-14 , f = 289.116\niter = 4480, stepsize = 1.000e+00, rdiff = 1.370e-14 , f = 289.116\niter = 4490, stepsize = 1.000e+00, rdiff = 2.548e-14 , f = 289.116\niter = 4500, stepsize = 1.000e+00, rdiff = 3.692e-14 , f = 289.116\niter = 4510, stepsize = 1.000e+00, rdiff = 3.640e-14 , f = 289.116\niter = 4520, stepsize = 1.000e+00, rdiff = 3.335e-14 , f = 289.116\niter = 4530, stepsize = 1.000e+00, rdiff = 2.020e-14 , f = 289.116\niter = 4540, stepsize = 1.000e+00, rdiff = 1.087e-14 , f = 289.116\niter = 4550, stepsize = 1.000e+00, rdiff = 2.790e-14 , f = 289.116\niter = 4560, stepsize = 1.000e+00, rdiff = 4.785e-14 , f = 289.116\niter = 4570, stepsize = 1.000e+00, rdiff = 2.731e-14 , f = 289.116\niter = 4580, stepsize = 1.000e+00, rdiff = 4.889e-14 , f = 289.116\niter = 4590, stepsize = 1.000e+00, rdiff = 2.330e-14 , f = 289.116\niter = 4600, stepsize = 1.000e+00, rdiff = 2.827e-14 , f = 289.116\niter = 4610, stepsize = 1.000e+00, rdiff = 5.044e-14 , f = 289.116\niter = 4620, stepsize = 1.000e+00, rdiff = 6.304e-14 , f = 289.116\niter = 4630, stepsize = 1.000e+00, rdiff = 1.775e-14 , f = 289.116\niter = 4640, stepsize = 1.000e+00, rdiff = 6.763e-15 , f = 289.116\niter = 4650, stepsize = 1.000e+00, rdiff = 1.618e-14 , f = 289.116\niter = 4660, stepsize = 1.000e+00, rdiff = 5.836e-14 , f = 289.116\niter = 4670, stepsize = 1.000e+00, rdiff = 2.317e-14 , f = 289.116\niter = 4680, stepsize = 1.000e+00, rdiff = 3.901e-14 , f = 289.116\niter = 4690, stepsize = 1.000e+00, rdiff = 1.868e-14 , f = 289.116\niter = 4700, stepsize = 1.000e+00, rdiff = 4.243e-14 , f = 289.116\niter = 4710, stepsize = 1.000e+00, rdiff = 3.858e-14 , f = 289.116\niter = 4720, stepsize = 1.000e+00, rdiff = 1.612e-14 , f = 289.116\niter = 4730, stepsize = 1.000e+00, rdiff = 2.371e-14 , f = 289.116\niter = 4740, stepsize = 1.000e+00, rdiff = 2.195e-14 , f = 289.116\niter = 4750, stepsize = 1.000e+00, rdiff = 8.720e-15 , f = 289.116\niter = 4760, stepsize = 1.000e+00, rdiff = 3.268e-14 , f = 289.116\niter = 4770, stepsize = 1.000e+00, rdiff = 8.368e-15 , f = 289.116\niter = 4780, stepsize = 1.000e+00, rdiff = 2.832e-14 , f = 289.116\niter = 4790, stepsize = 1.000e+00, rdiff = 3.155e-14 , f = 289.116\niter = 4800, stepsize = 1.000e+00, rdiff = 1.291e-14 , f = 289.116\niter = 4810, stepsize = 1.000e+00, rdiff = 3.518e-14 , f = 289.116\niter = 4820, stepsize = 1.000e+00, rdiff = 2.415e-14 , f = 289.116\niter = 4830, stepsize = 1.000e+00, rdiff = 4.639e-14 , f = 289.116\niter = 4840, stepsize = 1.000e+00, rdiff = 9.066e-15 , f = 289.116\niter = 4850, stepsize = 1.000e+00, rdiff = 3.272e-14 , f = 289.116\niter = 4860, stepsize = 1.000e+00, rdiff = 5.082e-15 , f = 289.116\niter = 4870, stepsize = 1.000e+00, rdiff = 3.131e-14 , f = 289.116\niter = 4880, stepsize = 1.000e+00, rdiff = 3.832e-14 , f = 289.116\niter = 4890, stepsize = 1.000e+00, rdiff = 1.645e-14 , f = 289.116\niter = 4900, stepsize = 1.000e+00, rdiff = 3.811e-14 , f = 289.116\niter = 4910, stepsize = 1.000e+00, rdiff = 3.403e-14 , f = 289.116\niter = 4920, stepsize = 1.000e+00, rdiff = 6.434e-14 , f = 289.116\niter = 4930, stepsize = 1.000e+00, rdiff = 1.677e-14 , f = 289.116\niter = 4940, stepsize = 1.000e+00, rdiff = 4.373e-14 , f = 289.116\niter = 4950, stepsize = 1.000e+00, rdiff = 6.751e-15 , f = 289.116\niter = 4960, stepsize = 1.000e+00, rdiff = 3.161e-14 , f = 289.116\niter = 4970, stepsize = 1.000e+00, rdiff = 5.444e-14 , f = 289.116\niter = 4980, stepsize = 1.000e+00, rdiff = 4.677e-14 , f = 289.116\niter = 4990, stepsize = 1.000e+00, rdiff = 3.706e-14 , f = 289.116\niter = 5000, stepsize = 1.000e+00, rdiff = 6.484e-15 , f = 289.116\n1.0108044147491455\n"
    }
   ],
   "source": [
    "x, alpha_hist, Q_hist, time_hist = prox_grad(func_x,\n",
    "            grad_x,\n",
    "            prox_func,\n",
    "            Mf,\n",
    "            X_0,\n",
    "            prox_params,\n",
    "            eps=terminate_tol,\n",
    "            print_every=10)"
   ]
  },
  {
   "cell_type": "code",
   "execution_count": 9,
   "metadata": {},
   "outputs": [],
   "source": [
    "results[problem_name + '.mat']['prox_grad'] = {\n",
    "        'x': x,\n",
    "        'alpha_hist': alpha_hist,\n",
    "        'Q_hist': Q_hist,\n",
    "        'time_hist': time_hist,\n",
    "    }"
   ]
  },
  {
   "cell_type": "code",
   "execution_count": 10,
   "metadata": {},
   "outputs": [],
   "source": [
    "with open('./results/cov_estimation/lymph.pckl', 'wb') as f:\n",
    "    pickle.dump(results, f)"
   ]
  },
  {
   "cell_type": "code",
   "execution_count": 7,
   "metadata": {},
   "outputs": [
    {
     "output_type": "stream",
     "name": "stdout",
     "text": "********* Algorithm starts *********\nmin_eig: -293.500000\nbeta_max: 0.003396\n0.0033889536353396274\n-652.2146507666092\niter=1, stepsize=3.39e-03, criterion=5.82e-02, upper_bound=833.279397234206, lower_bound=-1177.7958435120934, real_Gap=2.01e+03, f_val=833.279397234206\nmin_eig: 0.000000\nbeta_max: 1.000000\n0.9999923705054695\n-2.2108780343174272\niter=2, stepsize=1.00e+00, criterion=5.82e-02, upper_bound=832.010083035731, lower_bound=-1177.7958435120934, real_Gap=2.01e+03, f_val=832.010083035731\nmin_eig: 0.000000\nbeta_max: 1.000000\n0.9999923705054695\n-1299.9900984965147\niter=3, stepsize=1.00e+00, criterion=5.82e-02, upper_bound=832.010083035731, lower_bound=-1177.7958435120934, real_Gap=2.01e+03, f_val=7734.018144452073\nmin_eig: 0.000000\nbeta_max: 1.000000\n0.9999923705054695\n-1299.9900816572379\niter=4, stepsize=1.00e+00, criterion=5.82e-02, upper_bound=832.010083035731, lower_bound=-1177.7958435120934, real_Gap=2.01e+03, f_val=14620.980842775627\nmin_eig: 0.000000\nbeta_max: 1.000000\n0.9999923705054695\n-1299.9900816571103\niter=5, stepsize=1.00e+00, criterion=5.82e-02, upper_bound=832.010083035731, lower_bound=-1177.7958435120934, real_Gap=2.01e+03, f_val=21496.159984982696\nmin_eig: 0.000000\nbeta_max: 1.000000\n"
    },
    {
     "output_type": "error",
     "ename": "KeyboardInterrupt",
     "evalue": "",
     "traceback": [
      "\u001b[1;31m---------------------------------------------------------------------------\u001b[0m",
      "\u001b[1;31mKeyboardInterrupt\u001b[0m                         Traceback (most recent call last)",
      "\u001b[1;32m<ipython-input-7-eba607164570>\u001b[0m in \u001b[0;36m<module>\u001b[1;34m\u001b[0m\n\u001b[0;32m     15\u001b[0m                        \u001b[0meps\u001b[0m\u001b[1;33m=\u001b[0m\u001b[0mterminate_tol\u001b[0m\u001b[1;33m,\u001b[0m\u001b[1;33m\u001b[0m\u001b[1;33m\u001b[0m\u001b[0m\n\u001b[0;32m     16\u001b[0m                        \u001b[0mprint_every\u001b[0m\u001b[1;33m=\u001b[0m\u001b[1;36m1\u001b[0m\u001b[1;33m,\u001b[0m\u001b[1;33m\u001b[0m\u001b[1;33m\u001b[0m\u001b[0m\n\u001b[1;32m---> 17\u001b[1;33m                        debug_info=False)\n\u001b[0m",
      "\u001b[1;32md:\\Users\\Kamil\\Documents\\study\\Optimization\\FW-SC\\scfw_experiments\\scfw\\frank_wolfe.py\u001b[0m in \u001b[0;36mfrank_wolfe\u001b[1;34m(fun_x, func_beta, grad_x, grad_beta, hess_mult_x, extra_fun, Mf, nu, linear_oracle, x_0, FW_params, lloo_oracle, hess, alpha_policy, eps, print_every, debug_info)\u001b[0m\n\u001b[0;32m    156\u001b[0m             \u001b[0mbeta\u001b[0m \u001b[1;33m=\u001b[0m \u001b[0madjust_beta\u001b[0m\u001b[1;33m(\u001b[0m\u001b[0mextra_param\u001b[0m\u001b[1;33m,\u001b[0m \u001b[0mextra_param_s\u001b[0m\u001b[1;33m,\u001b[0m \u001b[0mx\u001b[0m\u001b[1;33m,\u001b[0m \u001b[0ms\u001b[0m\u001b[1;33m)\u001b[0m\u001b[1;33m\u001b[0m\u001b[1;33m\u001b[0m\u001b[0m\n\u001b[0;32m    157\u001b[0m             \u001b[0mmy_grad_beta\u001b[0m \u001b[1;33m=\u001b[0m \u001b[1;32mlambda\u001b[0m \u001b[0mbeta\u001b[0m\u001b[1;33m:\u001b[0m \u001b[0mgrad_beta\u001b[0m\u001b[1;33m(\u001b[0m\u001b[0mx\u001b[0m\u001b[1;33m,\u001b[0m \u001b[0ms\u001b[0m\u001b[1;33m,\u001b[0m \u001b[0mbeta\u001b[0m\u001b[1;33m,\u001b[0m \u001b[0mextra_param\u001b[0m\u001b[1;33m,\u001b[0m \u001b[0mextra_param_s\u001b[0m\u001b[1;33m)\u001b[0m\u001b[1;33m\u001b[0m\u001b[1;33m\u001b[0m\u001b[0m\n\u001b[1;32m--> 158\u001b[1;33m             \u001b[0malpha\u001b[0m \u001b[1;33m=\u001b[0m \u001b[0malpha_line_search\u001b[0m\u001b[1;33m(\u001b[0m\u001b[0mmy_grad_beta\u001b[0m\u001b[1;33m,\u001b[0m \u001b[1;33m-\u001b[0m\u001b[0mdelta_x\u001b[0m\u001b[1;33m,\u001b[0m \u001b[0mbeta\u001b[0m\u001b[1;33m,\u001b[0m \u001b[0mline_search_tol\u001b[0m\u001b[1;33m)\u001b[0m\u001b[1;33m\u001b[0m\u001b[1;33m\u001b[0m\u001b[0m\n\u001b[0m\u001b[0;32m    159\u001b[0m         \u001b[1;32melif\u001b[0m \u001b[0malpha_policy\u001b[0m \u001b[1;33m==\u001b[0m \u001b[1;34m'sc'\u001b[0m\u001b[1;33m:\u001b[0m\u001b[1;33m\u001b[0m\u001b[1;33m\u001b[0m\u001b[0m\n\u001b[0;32m    160\u001b[0m             \u001b[0mhess_mult\u001b[0m \u001b[1;33m=\u001b[0m \u001b[0mhess_mult_x\u001b[0m\u001b[1;33m(\u001b[0m\u001b[0ms\u001b[0m \u001b[1;33m-\u001b[0m \u001b[0mx\u001b[0m\u001b[1;33m,\u001b[0m \u001b[0mextra_param\u001b[0m\u001b[1;33m)\u001b[0m\u001b[1;33m\u001b[0m\u001b[1;33m\u001b[0m\u001b[0m\n",
      "\u001b[1;32md:\\Users\\Kamil\\Documents\\study\\Optimization\\FW-SC\\scfw_experiments\\scfw\\alpha_policies.py\u001b[0m in \u001b[0;36malpha_line_search\u001b[1;34m(grad_function, delta_x, beta, accuracy)\u001b[0m\n\u001b[0;32m     70\u001b[0m     \u001b[1;32mwhile\u001b[0m \u001b[1;33m(\u001b[0m\u001b[0mt_ub\u001b[0m \u001b[1;33m<\u001b[0m \u001b[0mbeta\u001b[0m \u001b[1;32mand\u001b[0m \u001b[0mub\u001b[0m \u001b[1;33m<\u001b[0m \u001b[1;36m0\u001b[0m\u001b[1;33m)\u001b[0m \u001b[1;32mor\u001b[0m \u001b[1;33m(\u001b[0m\u001b[0mk\u001b[0m \u001b[1;33m<\u001b[0m \u001b[1;36m100\u001b[0m\u001b[1;33m)\u001b[0m\u001b[1;33m:\u001b[0m\u001b[1;33m\u001b[0m\u001b[1;33m\u001b[0m\u001b[0m\n\u001b[0;32m     71\u001b[0m         \u001b[0mt_ub\u001b[0m \u001b[1;33m=\u001b[0m \u001b[0mbeta\u001b[0m \u001b[1;33m-\u001b[0m \u001b[1;33m(\u001b[0m\u001b[0mbeta\u001b[0m \u001b[1;33m-\u001b[0m \u001b[0mt_ub\u001b[0m\u001b[1;33m)\u001b[0m \u001b[1;33m/\u001b[0m \u001b[1;36m2\u001b[0m\u001b[1;33m\u001b[0m\u001b[1;33m\u001b[0m\u001b[0m\n\u001b[1;32m---> 72\u001b[1;33m         \u001b[0mub\u001b[0m \u001b[1;33m=\u001b[0m \u001b[0mdot_product\u001b[0m\u001b[1;33m(\u001b[0m\u001b[0mgrad_function\u001b[0m\u001b[1;33m(\u001b[0m\u001b[0mt_ub\u001b[0m\u001b[1;33m)\u001b[0m\u001b[1;33m,\u001b[0m \u001b[0mdelta_x\u001b[0m\u001b[1;33m)\u001b[0m\u001b[1;33m\u001b[0m\u001b[1;33m\u001b[0m\u001b[0m\n\u001b[0m\u001b[0;32m     73\u001b[0m         \u001b[0mk\u001b[0m \u001b[1;33m+=\u001b[0m \u001b[1;36m1\u001b[0m\u001b[1;33m\u001b[0m\u001b[1;33m\u001b[0m\u001b[0m\n\u001b[0;32m     74\u001b[0m         \u001b[1;31m#ub = grad_function(t_ub).T.dot(delta_x)\u001b[0m\u001b[1;33m\u001b[0m\u001b[1;33m\u001b[0m\u001b[1;33m\u001b[0m\u001b[0m\n",
      "\u001b[1;32md:\\Users\\Kamil\\Documents\\study\\Optimization\\FW-SC\\scfw_experiments\\scfw\\alpha_policies.py\u001b[0m in \u001b[0;36mdot_product\u001b[1;34m(x, y)\u001b[0m\n\u001b[0;32m     11\u001b[0m     \u001b[1;32mif\u001b[0m \u001b[0mx\u001b[0m\u001b[1;33m.\u001b[0m\u001b[0mndim\u001b[0m \u001b[1;33m==\u001b[0m \u001b[1;36m2\u001b[0m\u001b[1;33m:\u001b[0m\u001b[1;33m\u001b[0m\u001b[1;33m\u001b[0m\u001b[0m\n\u001b[0;32m     12\u001b[0m         \u001b[1;31m# for positive semi-definite matrices\u001b[0m\u001b[1;33m\u001b[0m\u001b[1;33m\u001b[0m\u001b[1;33m\u001b[0m\u001b[0m\n\u001b[1;32m---> 13\u001b[1;33m         \u001b[1;32mreturn\u001b[0m \u001b[0mnp\u001b[0m\u001b[1;33m.\u001b[0m\u001b[0mtrace\u001b[0m\u001b[1;33m(\u001b[0m\u001b[0mnp\u001b[0m\u001b[1;33m.\u001b[0m\u001b[0mconjugate\u001b[0m\u001b[1;33m(\u001b[0m\u001b[0mx\u001b[0m\u001b[1;33m)\u001b[0m\u001b[1;33m.\u001b[0m\u001b[0mT\u001b[0m\u001b[1;33m.\u001b[0m\u001b[0mdot\u001b[0m\u001b[1;33m(\u001b[0m\u001b[0my\u001b[0m\u001b[1;33m)\u001b[0m\u001b[1;33m)\u001b[0m\u001b[1;33m.\u001b[0m\u001b[0mreal\u001b[0m\u001b[1;33m\u001b[0m\u001b[1;33m\u001b[0m\u001b[0m\n\u001b[0m\u001b[0;32m     14\u001b[0m     \u001b[1;32melse\u001b[0m\u001b[1;33m:\u001b[0m\u001b[1;33m\u001b[0m\u001b[1;33m\u001b[0m\u001b[0m\n\u001b[0;32m     15\u001b[0m         \u001b[0mprint\u001b[0m\u001b[1;33m(\u001b[0m\u001b[1;34m'Invalid dimension'\u001b[0m\u001b[1;33m)\u001b[0m\u001b[1;33m\u001b[0m\u001b[1;33m\u001b[0m\u001b[0m\n",
      "\u001b[1;31mKeyboardInterrupt\u001b[0m: "
     ]
    }
   ],
   "source": [
    "x, alpha_hist, Gap_hist, Q_hist, time_hist  = frank_wolfe(func_x,\n",
    "                       func_beta,                                       \n",
    "                       grad_x,\n",
    "                       grad_beta,\n",
    "                       hess_mult_x,\n",
    "                       extra_func,                                                    \n",
    "                       Mf,\n",
    "                       nu,\n",
    "                       linear_oracle,                                                    \n",
    "                       X_0,\n",
    "                       FW_params,\n",
    "                       #hess=hess_x, \n",
    "                       #lloo_oracle=llo_oracle,                                                 \n",
    "                       alpha_policy='line_search',                                                    \n",
    "                       eps=terminate_tol, \n",
    "                       print_every=1, \n",
    "                       debug_info=False)\n",
    "                       "
   ]
  },
  {
   "cell_type": "code",
   "execution_count": 12,
   "metadata": {},
   "outputs": [
    {
     "output_type": "stream",
     "name": "stdout",
     "text": "2.2146507666098807\n"
    }
   ],
   "source": [
    "min_eig, _ = scipy.linalg.eigh(X_0)\n",
    "print(min(min_eig))"
   ]
  },
  {
   "cell_type": "code",
   "execution_count": 11,
   "metadata": {},
   "outputs": [],
   "source": [
    "import scipy"
   ]
  },
  {
   "cell_type": "code",
   "execution_count": 23,
   "metadata": {},
   "outputs": [],
   "source": [
    "a = np.array([[0, -10, 0], [-10, 0, 0], [0, 0, 0]])"
   ]
  },
  {
   "cell_type": "code",
   "execution_count": 24,
   "metadata": {},
   "outputs": [
    {
     "output_type": "stream",
     "name": "stdout",
     "text": "-9.99999999999999\n"
    }
   ],
   "source": [
    "min_eig, _ = scipy.linalg.eigh(a)\n",
    "print(min(min_eig))"
   ]
  },
  {
   "cell_type": "code",
   "execution_count": null,
   "metadata": {},
   "outputs": [],
   "source": []
  }
 ],
 "metadata": {
  "language_info": {
   "codemirror_mode": {
    "name": "ipython",
    "version": 3
   },
   "file_extension": ".py",
   "mimetype": "text/x-python",
   "name": "python",
   "nbconvert_exporter": "python",
   "pygments_lexer": "ipython3",
   "version": "3.7.3-final"
  },
  "orig_nbformat": 2,
  "kernelspec": {
   "name": "python3",
   "display_name": "Python 3"
  }
 },
 "nbformat": 4,
 "nbformat_minor": 2
}