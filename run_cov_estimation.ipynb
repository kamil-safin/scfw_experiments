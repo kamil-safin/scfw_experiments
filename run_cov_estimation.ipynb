{
 "cells": [
  {
   "cell_type": "code",
   "execution_count": 1,
   "metadata": {},
   "outputs": [],
   "source": [
    "import os\n",
    "import pickle\n",
    "import numpy as np\n",
    "from scipy.io import loadmat\n",
    "\n",
    "import scfw.cov_estimation as ce\n",
    "from scfw.frank_wolfe import frank_wolfe\n",
    "from scfw.scopt import scopt"
   ]
  },
  {
   "cell_type": "code",
   "execution_count": 2,
   "metadata": {},
   "outputs": [],
   "source": [
    "data_folder = '../data/'\n",
    "problem_name = 'Lymph.mat'\n",
    "results = {problem_name: {}}\n",
    "results_folder = './results/'\n",
    "results_file = os.path.join(results_folder, 'cov_estimation', problem_name + '.pckl')\n",
    "if os.path.isfile(results_file):\n",
    "    with open(results_file, \"rb\") as f:\n",
    "        try:\n",
    "            results = pickle.load(f)\n",
    "        except Exception:\n",
    "            pass "
   ]
  },
  {
   "cell_type": "code",
   "execution_count": 3,
   "metadata": {},
   "outputs": [],
   "source": [
    "def sample_l1_point(r, ndim):\n",
    "    vec = np.random.rand(ndim,)\n",
    "    vec /= np.linalg.norm(vec, ord=1)\n",
    "    return vec"
   ]
  },
  {
   "cell_type": "code",
   "execution_count": 19,
   "metadata": {},
   "outputs": [],
   "source": [
    "# load data\n",
    "data = loadmat(os.path.join(data_folder, problem_name))\n",
    "    \n",
    "A = data['S']\n",
    "p = A.shape[0]\n",
    "r = 50\n",
    "X_0 = r * np.eye(p) / p\n",
    "#X_0 = np.diag(sample_l1_point(r, p))"
   ]
  },
  {
   "cell_type": "markdown",
   "metadata": {},
   "source": [
    "## Parameters initialization"
   ]
  },
  {
   "cell_type": "code",
   "execution_count": 20,
   "metadata": {},
   "outputs": [],
   "source": [
    "#first set of parameters\n",
    "Mf = 2\n",
    "nu = 3\n",
    "#running parameters\n",
    "\n",
    "terminate_tol = 1e-10\n",
    "\n",
    "FW_params={\n",
    "    'iter_FW': 100,\n",
    "    'line_search_tol': 1e-10,\n",
    "}\n",
    "\n",
    "\n",
    "sc_params={\n",
    "    #parameters for SCOPT\n",
    "    'iter_SC': 1000,\n",
    "    'Lest': 'estimate', #estimate L\n",
    "    'use_two_phase': True,\n",
    "    #FISTA parameters\n",
    "    'fista_type': 'mfista',\n",
    "    'fista_tol': 1e-5,\n",
    "    'fista_iter': 1000,\n",
    "    #Conjugate Gradient Parameters\n",
    "    'conj_grad_tol': 1e-2,\n",
    "    'conj_grad_iter': 100,\n",
    "}"
   ]
  },
  {
   "cell_type": "markdown",
   "metadata": {},
   "source": [
    "## Functions"
   ]
  },
  {
   "cell_type": "code",
   "execution_count": 21,
   "metadata": {},
   "outputs": [],
   "source": [
    "func_x = lambda X: ce.cov_val(A, X)\n",
    "func_beta = lambda X, S, beta, extra_param, extra_param_s: ce.cov_val(A, (1 - beta) * X + beta * S)\n",
    "grad_x = lambda X, inv_X: ce.cov_grad(A, X, inv_X)\n",
    "grad_beta = lambda X, S, beta, inv_X: ce.cov_grad(A, (1 - beta) * X + beta * S) # TODO: add inverse\n",
    "hess_mult_x = lambda S, inv_X: ce.cov_hess_mult(S, inv_X)\n",
    "hess_mult_vec_x = lambda S, trace_sum: ce.cov_hess_mult_vec(S, inv_X)\n",
    "extra_func = lambda X: np.linalg.eigvalsh(X)\n",
    "linear_oracle = lambda grad: ce.linear_oracle(grad, r)\n",
    "prox_func = lambda X, L: ce.proj_map(X) #used for SCOPT"
   ]
  },
  {
   "cell_type": "markdown",
   "metadata": {},
   "source": [
    "## Run FW"
   ]
  },
  {
   "cell_type": "code",
   "execution_count": 25,
   "metadata": {
    "tags": [
     "outputPrepend"
    ]
   },
   "outputs": [
    {
     "output_type": "stream",
     "name": "stdout",
     "text": "********* Algorithm starts *********\nf: 1495.782065 Gap: -1.705303e-13\niter = 1, stepsize = 0.5, criterion = 1.0, upper_bound=1495.7820650527729, lower_bound=1495.782065052773, real_Gap=-2.2737367544323206e-13\nf: 1896.282733 Gap: 5.870000e+02\niter = 2, stepsize = 0.4, criterion = 0.8919983278847288, upper_bound=1495.7820650527729, lower_bound=1495.782065052773, real_Gap=-2.2737367544323206e-13\nf: 2189.473390 Gap: 1.369667e+03\niter = 3, stepsize = 0.3333333333333333, criterion = 0.7440185574736169, upper_bound=1495.7820650527729, lower_bound=1495.782065052773, real_Gap=-2.2737367544323206e-13\nf: 2420.594537 Gap: 2.348000e+03\niter = 4, stepsize = 0.2857142857142857, criterion = 0.6691180366054715, upper_bound=1495.7820650527729, lower_bound=1495.782065052773, real_Gap=-2.2737367544323206e-13\nf: 2611.034716 Gap: 3.522000e+03\niter = 5, stepsize = 0.25, criterion = 0.6181403338094523, upper_bound=1495.7820650527729, lower_bound=1495.782065052773, real_Gap=-2.2737367544323206e-13\nf: 2772.681040 Gap: 4.891667e+03\niter = 6, stepsize = 0.2222222222222222, criterion = 0.579214571971086, upper_bound=1495.7820650527729, lower_bound=1495.782065052773, real_Gap=-2.2737367544323206e-13\nf: 2912.846117 Gap: 6.457000e+03\niter = 7, stepsize = 0.2, criterion = 0.5476932250269181, upper_bound=1495.7820650527729, lower_bound=1495.782065052773, real_Gap=-2.2737367544323206e-13\nf: 3036.357177 Gap: 8.218000e+03\niter = 8, stepsize = 0.18181818181818182, criterion = 0.5212520354021549, upper_bound=1495.7820650527729, lower_bound=1495.782065052773, real_Gap=-2.2737367544323206e-13\nf: 3146.571367 Gap: 1.017467e+04\niter = 9, stepsize = 0.16666666666666666, criterion = 0.4985425895457475, upper_bound=1495.7820650527729, lower_bound=1495.782065052773, real_Gap=-2.2737367544323206e-13\nf: 3245.919348 Gap: 1.232700e+04\niter = 10, stepsize = 0.15384615384615385, criterion = 0.4787023752827538, upper_bound=1495.7820650527729, lower_bound=1495.782065052773, real_Gap=-2.2737367544323206e-13\nf: 3336.218351 Gap: 1.467500e+04\niter = 11, stepsize = 0.14285714285714285, criterion = 0.4611410467013337, upper_bound=1495.7820650527729, lower_bound=1495.782065052773, real_Gap=-2.2737367544323206e-13\nf: 3418.863045 Gap: 1.721867e+04\niter = 12, stepsize = 0.13333333333333333, criterion = 0.4454342567150381, upper_bound=1495.7820650527729, lower_bound=1495.782065052773, real_Gap=-2.2737367544323206e-13\nf: 3494.947405 Gap: 1.995800e+04\niter = 13, stepsize = 0.125, criterion = 0.43126554799708566, upper_bound=1495.7820650527729, lower_bound=1495.782065052773, real_Gap=-2.2737367544323206e-13\nf: 3565.345529 Gap: 2.289300e+04\niter = 14, stepsize = 0.11764705882352941, criterion = 0.4183920844162212, upper_bound=1495.7820650527729, lower_bound=1495.782065052773, real_Gap=-2.2737367544323206e-13\nf: 3630.766974 Gap: 2.602367e+04\niter = 15, stepsize = 0.1111111111111111, criterion = 0.4066232232183604, upper_bound=1495.7820650527729, lower_bound=1495.782065052773, real_Gap=-2.2737367544323206e-13\nf: 3691.795689 Gap: 2.935000e+04\niter = 16, stepsize = 0.10526315789473684, criterion = 0.39580647492614884, upper_bound=1495.7820650527729, lower_bound=1495.782065052773, real_Gap=-2.2737367544323206e-13\nf: 3748.918069 Gap: 3.287200e+04\niter = 17, stepsize = 0.1, criterion = 0.3858179479900782, upper_bound=1495.7820650527729, lower_bound=1495.782065052773, real_Gap=-2.2737367544323206e-13\nf: 3802.543571 Gap: 3.658967e+04\niter = 18, stepsize = 0.09523809523809523, criterion = 0.3765556390181151, upper_bound=1495.7820650527729, lower_bound=1495.782065052773, real_Gap=-2.2737367544323206e-13\nf: 3853.020161 Gap: 4.050300e+04\niter = 19, stepsize = 0.09090909090909091, criterion = 0.3679345963146008, upper_bound=1495.7820650527729, lower_bound=1495.782065052773, real_Gap=-2.2737367544323206e-13\nf: 3900.646058 Gap: 4.461200e+04\niter = 20, stepsize = 0.08695652173913043, criterion = 0.35988335557080847, upper_bound=1495.7820650527729, lower_bound=1495.782065052773, real_Gap=-2.2737367544323206e-13\nf: 3945.678805 Gap: 4.891667e+04\niter = 21, stepsize = 0.08333333333333333, criterion = 0.35234126263099985, upper_bound=1495.7820650527729, lower_bound=1495.782065052773, real_Gap=-2.2737367544323206e-13\nf: 3988.342354 Gap: 5.341700e+04\niter = 22, stepsize = 0.08, criterion = 0.3452564290686514, upper_bound=1495.7820650527729, lower_bound=1495.782065052773, real_Gap=-2.2737367544323206e-13\nf: 4028.832679 Gap: 5.811300e+04\niter = 23, stepsize = 0.07692307692307693, criterion = 0.3385841482129179, upper_bound=1495.7820650527729, lower_bound=1495.782065052773, real_Gap=-2.2737367544323206e-13\nf: 4067.322256 Gap: 6.300467e+04\niter = 24, stepsize = 0.07407407407407407, criterion = 0.33228565207855104, upper_bound=1495.7820650527729, lower_bound=1495.782065052773, real_Gap=-2.2737367544323206e-13\n"
    },
    {
     "output_type": "error",
     "ename": "KeyboardInterrupt",
     "evalue": "",
     "traceback": [
      "\u001b[1;31m---------------------------------------------------------------------------\u001b[0m",
      "\u001b[1;31mKeyboardInterrupt\u001b[0m                         Traceback (most recent call last)",
      "\u001b[1;32m<ipython-input-25-e35f234d7b93>\u001b[0m in \u001b[0;36m<module>\u001b[1;34m\u001b[0m\n\u001b[0;32m     19\u001b[0m                        \u001b[0meps\u001b[0m\u001b[1;33m=\u001b[0m\u001b[0mterminate_tol\u001b[0m\u001b[1;33m,\u001b[0m\u001b[1;33m\u001b[0m\u001b[1;33m\u001b[0m\u001b[0m\n\u001b[0;32m     20\u001b[0m                        \u001b[0mprint_every\u001b[0m\u001b[1;33m=\u001b[0m\u001b[1;36m1\u001b[0m\u001b[1;33m,\u001b[0m\u001b[1;33m\u001b[0m\u001b[1;33m\u001b[0m\u001b[0m\n\u001b[1;32m---> 21\u001b[1;33m                        debug_info=False)\n\u001b[0m\u001b[0;32m     22\u001b[0m \u001b[1;33m\u001b[0m\u001b[0m\n\u001b[0;32m     23\u001b[0m     results[problem_name][policy] = {\n",
      "\u001b[1;32md:\\Users\\Kamil\\Documents\\study\\Optimization\\FW-SC\\scfw_experiments\\scfw\\frank_wolfe.py\u001b[0m in \u001b[0;36mfrank_wolfe\u001b[1;34m(fun_x, func_beta, grad_x, grad_beta, hess_mult_x, extra_fun, Mf, nu, linear_oracle, x_0, FW_params, lloo_oracle, hess, alpha_policy, eps, print_every, debug_info)\u001b[0m\n\u001b[0;32m     61\u001b[0m     \u001b[1;32mfor\u001b[0m \u001b[0mk\u001b[0m \u001b[1;32min\u001b[0m \u001b[0mrange\u001b[0m\u001b[1;33m(\u001b[0m\u001b[1;36m1\u001b[0m\u001b[1;33m,\u001b[0m \u001b[0mmax_iter\u001b[0m \u001b[1;33m+\u001b[0m \u001b[1;36m1\u001b[0m\u001b[1;33m)\u001b[0m\u001b[1;33m:\u001b[0m\u001b[1;33m\u001b[0m\u001b[1;33m\u001b[0m\u001b[0m\n\u001b[0;32m     62\u001b[0m         \u001b[0mstart_time\u001b[0m \u001b[1;33m=\u001b[0m \u001b[0mtime\u001b[0m\u001b[1;33m.\u001b[0m\u001b[0mtime\u001b[0m\u001b[1;33m(\u001b[0m\u001b[1;33m)\u001b[0m\u001b[1;33m\u001b[0m\u001b[1;33m\u001b[0m\u001b[0m\n\u001b[1;32m---> 63\u001b[1;33m         \u001b[0mf\u001b[0m\u001b[1;33m,\u001b[0m \u001b[0mextra_param\u001b[0m \u001b[1;33m=\u001b[0m \u001b[0mfun_x\u001b[0m\u001b[1;33m(\u001b[0m\u001b[0mx\u001b[0m\u001b[1;33m)\u001b[0m\u001b[1;33m\u001b[0m\u001b[1;33m\u001b[0m\u001b[0m\n\u001b[0m\u001b[0;32m     64\u001b[0m         \u001b[1;32mif\u001b[0m \u001b[1;33m(\u001b[0m\u001b[0mextra_param\u001b[0m\u001b[1;33m.\u001b[0m\u001b[0mndim\u001b[0m \u001b[1;33m!=\u001b[0m \u001b[1;36m2\u001b[0m\u001b[1;33m)\u001b[0m \u001b[1;32mand\u001b[0m \u001b[1;33m(\u001b[0m\u001b[0mmin\u001b[0m\u001b[1;33m(\u001b[0m\u001b[0mextra_param\u001b[0m\u001b[1;33m)\u001b[0m \u001b[1;33m<\u001b[0m \u001b[1;33m-\u001b[0m\u001b[1;36m1e-10\u001b[0m\u001b[1;33m)\u001b[0m\u001b[1;33m:\u001b[0m \u001b[1;31m#this is a way to know if the gradient is defined on x\u001b[0m\u001b[1;33m\u001b[0m\u001b[1;33m\u001b[0m\u001b[0m\n\u001b[0;32m     65\u001b[0m             \u001b[0mprint\u001b[0m\u001b[1;33m(\u001b[0m\u001b[0mextra_param\u001b[0m\u001b[1;33m)\u001b[0m\u001b[1;33m\u001b[0m\u001b[1;33m\u001b[0m\u001b[0m\n",
      "\u001b[1;32m<ipython-input-21-a91217145775>\u001b[0m in \u001b[0;36m<lambda>\u001b[1;34m(X)\u001b[0m\n\u001b[1;32m----> 1\u001b[1;33m \u001b[0mfunc_x\u001b[0m \u001b[1;33m=\u001b[0m \u001b[1;32mlambda\u001b[0m \u001b[0mX\u001b[0m\u001b[1;33m:\u001b[0m \u001b[0mce\u001b[0m\u001b[1;33m.\u001b[0m\u001b[0mcov_val\u001b[0m\u001b[1;33m(\u001b[0m\u001b[0mA\u001b[0m\u001b[1;33m,\u001b[0m \u001b[0mX\u001b[0m\u001b[1;33m)\u001b[0m\u001b[1;33m\u001b[0m\u001b[1;33m\u001b[0m\u001b[0m\n\u001b[0m\u001b[0;32m      2\u001b[0m \u001b[0mfunc_beta\u001b[0m \u001b[1;33m=\u001b[0m \u001b[1;32mlambda\u001b[0m \u001b[0mX\u001b[0m\u001b[1;33m,\u001b[0m \u001b[0mS\u001b[0m\u001b[1;33m,\u001b[0m \u001b[0mbeta\u001b[0m\u001b[1;33m,\u001b[0m \u001b[0mextra_param\u001b[0m\u001b[1;33m,\u001b[0m \u001b[0mextra_param_s\u001b[0m\u001b[1;33m:\u001b[0m \u001b[0mce\u001b[0m\u001b[1;33m.\u001b[0m\u001b[0mcov_val\u001b[0m\u001b[1;33m(\u001b[0m\u001b[0mA\u001b[0m\u001b[1;33m,\u001b[0m \u001b[1;33m(\u001b[0m\u001b[1;36m1\u001b[0m \u001b[1;33m-\u001b[0m \u001b[0mbeta\u001b[0m\u001b[1;33m)\u001b[0m \u001b[1;33m*\u001b[0m \u001b[0mX\u001b[0m \u001b[1;33m+\u001b[0m \u001b[0mbeta\u001b[0m \u001b[1;33m*\u001b[0m \u001b[0mS\u001b[0m\u001b[1;33m)\u001b[0m\u001b[1;33m\u001b[0m\u001b[1;33m\u001b[0m\u001b[0m\n\u001b[0;32m      3\u001b[0m \u001b[0mgrad_x\u001b[0m \u001b[1;33m=\u001b[0m \u001b[1;32mlambda\u001b[0m \u001b[0mX\u001b[0m\u001b[1;33m,\u001b[0m \u001b[0minv_X\u001b[0m\u001b[1;33m:\u001b[0m \u001b[0mce\u001b[0m\u001b[1;33m.\u001b[0m\u001b[0mcov_grad\u001b[0m\u001b[1;33m(\u001b[0m\u001b[0mA\u001b[0m\u001b[1;33m,\u001b[0m \u001b[0mX\u001b[0m\u001b[1;33m,\u001b[0m \u001b[0minv_X\u001b[0m\u001b[1;33m)\u001b[0m\u001b[1;33m\u001b[0m\u001b[1;33m\u001b[0m\u001b[0m\n\u001b[0;32m      4\u001b[0m \u001b[0mgrad_beta\u001b[0m \u001b[1;33m=\u001b[0m \u001b[1;32mlambda\u001b[0m \u001b[0mX\u001b[0m\u001b[1;33m,\u001b[0m \u001b[0mS\u001b[0m\u001b[1;33m,\u001b[0m \u001b[0mbeta\u001b[0m\u001b[1;33m,\u001b[0m \u001b[0minv_X\u001b[0m\u001b[1;33m:\u001b[0m \u001b[0mce\u001b[0m\u001b[1;33m.\u001b[0m\u001b[0mcov_grad\u001b[0m\u001b[1;33m(\u001b[0m\u001b[0mA\u001b[0m\u001b[1;33m,\u001b[0m \u001b[1;33m(\u001b[0m\u001b[1;36m1\u001b[0m \u001b[1;33m-\u001b[0m \u001b[0mbeta\u001b[0m\u001b[1;33m)\u001b[0m \u001b[1;33m*\u001b[0m \u001b[0mX\u001b[0m \u001b[1;33m+\u001b[0m \u001b[0mbeta\u001b[0m \u001b[1;33m*\u001b[0m \u001b[0mS\u001b[0m\u001b[1;33m)\u001b[0m \u001b[1;31m# TODO: add inverse\u001b[0m\u001b[1;33m\u001b[0m\u001b[1;33m\u001b[0m\u001b[0m\n\u001b[0;32m      5\u001b[0m \u001b[0mhess_mult_x\u001b[0m \u001b[1;33m=\u001b[0m \u001b[1;32mlambda\u001b[0m \u001b[0mS\u001b[0m\u001b[1;33m,\u001b[0m \u001b[0minv_X\u001b[0m\u001b[1;33m:\u001b[0m \u001b[0mce\u001b[0m\u001b[1;33m.\u001b[0m\u001b[0mcov_hess_mult\u001b[0m\u001b[1;33m(\u001b[0m\u001b[0mS\u001b[0m\u001b[1;33m,\u001b[0m \u001b[0minv_X\u001b[0m\u001b[1;33m)\u001b[0m\u001b[1;33m\u001b[0m\u001b[1;33m\u001b[0m\u001b[0m\n",
      "\u001b[1;32md:\\Users\\Kamil\\Documents\\study\\Optimization\\FW-SC\\scfw_experiments\\scfw\\cov_estimation.py\u001b[0m in \u001b[0;36mcov_val\u001b[1;34m(A, X)\u001b[0m\n\u001b[0;32m      7\u001b[0m \u001b[1;32mdef\u001b[0m \u001b[0mcov_val\u001b[0m\u001b[1;33m(\u001b[0m\u001b[0mA\u001b[0m\u001b[1;33m,\u001b[0m \u001b[0mX\u001b[0m\u001b[1;33m)\u001b[0m\u001b[1;33m:\u001b[0m\u001b[1;33m\u001b[0m\u001b[1;33m\u001b[0m\u001b[0m\n\u001b[0;32m      8\u001b[0m     \u001b[0minv_X\u001b[0m \u001b[1;33m=\u001b[0m \u001b[0mnp\u001b[0m\u001b[1;33m.\u001b[0m\u001b[0mlinalg\u001b[0m\u001b[1;33m.\u001b[0m\u001b[0minv\u001b[0m\u001b[1;33m(\u001b[0m\u001b[0mX\u001b[0m\u001b[1;33m)\u001b[0m\u001b[1;33m\u001b[0m\u001b[1;33m\u001b[0m\u001b[0m\n\u001b[1;32m----> 9\u001b[1;33m     \u001b[0mval\u001b[0m \u001b[1;33m=\u001b[0m \u001b[1;33m-\u001b[0m\u001b[0mnp\u001b[0m\u001b[1;33m.\u001b[0m\u001b[0msum\u001b[0m\u001b[1;33m(\u001b[0m\u001b[0mnp\u001b[0m\u001b[1;33m.\u001b[0m\u001b[0mlog\u001b[0m\u001b[1;33m(\u001b[0m\u001b[0mnp\u001b[0m\u001b[1;33m.\u001b[0m\u001b[0mlinalg\u001b[0m\u001b[1;33m.\u001b[0m\u001b[0meigvalsh\u001b[0m\u001b[1;33m(\u001b[0m\u001b[0mX\u001b[0m\u001b[1;33m)\u001b[0m\u001b[1;33m)\u001b[0m\u001b[1;33m)\u001b[0m \u001b[1;33m+\u001b[0m \u001b[0mnp\u001b[0m\u001b[1;33m.\u001b[0m\u001b[0mtrace\u001b[0m\u001b[1;33m(\u001b[0m\u001b[0mA\u001b[0m\u001b[1;33m.\u001b[0m\u001b[0mdot\u001b[0m\u001b[1;33m(\u001b[0m\u001b[0mX\u001b[0m\u001b[1;33m)\u001b[0m\u001b[1;33m)\u001b[0m\u001b[1;33m\u001b[0m\u001b[1;33m\u001b[0m\u001b[0m\n\u001b[0m\u001b[0;32m     10\u001b[0m     \u001b[1;32mreturn\u001b[0m \u001b[0mval\u001b[0m\u001b[1;33m,\u001b[0m \u001b[0minv_X\u001b[0m\u001b[1;33m\u001b[0m\u001b[1;33m\u001b[0m\u001b[0m\n\u001b[0;32m     11\u001b[0m \u001b[1;33m\u001b[0m\u001b[0m\n",
      "\u001b[1;32m<__array_function__ internals>\u001b[0m in \u001b[0;36meigvalsh\u001b[1;34m(*args, **kwargs)\u001b[0m\n",
      "\u001b[1;32mC:\\ProgramData\\Anaconda3\\lib\\site-packages\\numpy\\linalg\\linalg.py\u001b[0m in \u001b[0;36meigvalsh\u001b[1;34m(a, UPLO)\u001b[0m\n\u001b[0;32m   1158\u001b[0m     \u001b[0mt\u001b[0m\u001b[1;33m,\u001b[0m \u001b[0mresult_t\u001b[0m \u001b[1;33m=\u001b[0m \u001b[0m_commonType\u001b[0m\u001b[1;33m(\u001b[0m\u001b[0ma\u001b[0m\u001b[1;33m)\u001b[0m\u001b[1;33m\u001b[0m\u001b[1;33m\u001b[0m\u001b[0m\n\u001b[0;32m   1159\u001b[0m     \u001b[0msignature\u001b[0m \u001b[1;33m=\u001b[0m \u001b[1;34m'D->d'\u001b[0m \u001b[1;32mif\u001b[0m \u001b[0misComplexType\u001b[0m\u001b[1;33m(\u001b[0m\u001b[0mt\u001b[0m\u001b[1;33m)\u001b[0m \u001b[1;32melse\u001b[0m \u001b[1;34m'd->d'\u001b[0m\u001b[1;33m\u001b[0m\u001b[1;33m\u001b[0m\u001b[0m\n\u001b[1;32m-> 1160\u001b[1;33m     \u001b[0mw\u001b[0m \u001b[1;33m=\u001b[0m \u001b[0mgufunc\u001b[0m\u001b[1;33m(\u001b[0m\u001b[0ma\u001b[0m\u001b[1;33m,\u001b[0m \u001b[0msignature\u001b[0m\u001b[1;33m=\u001b[0m\u001b[0msignature\u001b[0m\u001b[1;33m,\u001b[0m \u001b[0mextobj\u001b[0m\u001b[1;33m=\u001b[0m\u001b[0mextobj\u001b[0m\u001b[1;33m)\u001b[0m\u001b[1;33m\u001b[0m\u001b[1;33m\u001b[0m\u001b[0m\n\u001b[0m\u001b[0;32m   1161\u001b[0m     \u001b[1;32mreturn\u001b[0m \u001b[0mw\u001b[0m\u001b[1;33m.\u001b[0m\u001b[0mastype\u001b[0m\u001b[1;33m(\u001b[0m\u001b[0m_realType\u001b[0m\u001b[1;33m(\u001b[0m\u001b[0mresult_t\u001b[0m\u001b[1;33m)\u001b[0m\u001b[1;33m,\u001b[0m \u001b[0mcopy\u001b[0m\u001b[1;33m=\u001b[0m\u001b[1;32mFalse\u001b[0m\u001b[1;33m)\u001b[0m\u001b[1;33m\u001b[0m\u001b[1;33m\u001b[0m\u001b[0m\n\u001b[0;32m   1162\u001b[0m \u001b[1;33m\u001b[0m\u001b[0m\n",
      "\u001b[1;31mKeyboardInterrupt\u001b[0m: "
     ]
    }
   ],
   "source": [
    "#run_alpha_policies = [\"standard\", \"line_search\", \"icml\", \"backtracking\"]\n",
    "run_alpha_policies = [\"standard\"]\n",
    "\n",
    "for policy in run_alpha_policies:\n",
    "    x, alpha_hist, Gap_hist, Q_hist, time_hist  = frank_wolfe(func_x,\n",
    "                       func_beta,                                       \n",
    "                       grad_x,\n",
    "                       grad_beta,\n",
    "                       hess_mult_x,\n",
    "                       extra_func,                                                    \n",
    "                       Mf,\n",
    "                       nu,\n",
    "                       linear_oracle,                                                    \n",
    "                       X_0,\n",
    "                       FW_params,\n",
    "                       #hess=hess_x, \n",
    "                       #lloo_oracle=llo_oracle,                                                 \n",
    "                       alpha_policy=policy,                                                    \n",
    "                       eps=terminate_tol, \n",
    "                       print_every=1, \n",
    "                       debug_info=False)\n",
    "    \n",
    "    results[problem_name][policy] = {\n",
    "        'x': x,\n",
    "        'alpha_hist': alpha_hist,\n",
    "        'Gap_hist': Gap_hist,\n",
    "        'Q_hist': Q_hist,\n",
    "        'time_hist': time_hist,\n",
    "    }"
   ]
  },
  {
   "cell_type": "code",
   "execution_count": 8,
   "metadata": {},
   "outputs": [
    {
     "output_type": "execute_result",
     "data": {
      "text/plain": "(nan, array([[-1469.34901145,    -0.        ,    -0.        , ...,\n            -0.        ,    -0.        ,    -0.        ],\n        [   -0.        ,  -221.87797209,    -0.        , ...,\n            -0.        ,    -0.        ,    -0.        ],\n        [   -0.        ,    -0.        ,  -457.93696046, ...,\n            -0.        ,    -0.        ,    -0.        ],\n        ...,\n        [   -0.        ,    -0.        ,    -0.        , ...,\n         -1842.4513232 ,    -0.        ,    -0.        ],\n        [   -0.        ,    -0.        ,    -0.        , ...,\n            -0.        , -4522.01861138,    -0.        ],\n        [   -0.        ,    -0.        ,    -0.        , ...,\n            -0.        ,    -0.        ,  -392.73802279]]))"
     },
     "metadata": {},
     "execution_count": 8
    }
   ],
   "source": [
    "func_x(X_0)"
   ]
  },
  {
   "cell_type": "code",
   "execution_count": 11,
   "metadata": {},
   "outputs": [
    {
     "output_type": "execute_result",
     "data": {
      "text/plain": "0.0017035775127768314"
     },
     "metadata": {},
     "execution_count": 11
    }
   ],
   "source": [
    "1 / p"
   ]
  },
  {
   "cell_type": "code",
   "execution_count": 10,
   "metadata": {},
   "outputs": [
    {
     "output_type": "execute_result",
     "data": {
      "text/plain": "array([-6.80573500e-04, -4.50698188e-03, -2.18370668e-03,  3.01983470e-03,\n       -3.27882868e-03,  2.29253846e-04,  1.13508338e-03,  2.33774830e-04,\n       -1.42513497e-03,  3.15209217e-03,  1.54156840e-03, -3.21425694e-03,\n       -1.82570357e-03,  3.85337360e-03,  2.69623128e-03, -2.98060194e-04,\n       -2.01372044e-03,  7.15853313e-04,  2.05461860e-03,  1.06456813e-03,\n       -3.22827541e-03,  2.97544840e-03,  2.08333804e-03,  4.91983295e-04,\n       -1.83512940e-03,  9.28407354e-04, -1.00835638e-03, -1.06009277e-03,\n        7.72906916e-04,  1.33349870e-03, -5.95158923e-04,  6.47452436e-04,\n        2.30969871e-03,  8.37492208e-04, -1.09729103e-03, -4.17433867e-03,\n        1.61838037e-03,  1.76493277e-03, -1.45301270e-03,  1.59489027e-03,\n        2.41891281e-05,  1.75209222e-03, -1.86087790e-03,  3.02945582e-03,\n        1.93100392e-03,  2.38266545e-03,  7.62657189e-05, -2.27167719e-03,\n       -2.69730218e-03,  1.46065197e-03,  1.47014870e-03, -1.43536286e-03,\n        6.43824879e-04, -1.05217856e-03,  2.52604115e-03, -6.40844953e-04,\n        3.45248609e-03, -2.42042966e-03, -8.65495305e-04, -1.37890402e-03,\n        1.43029359e-03, -3.84209741e-03, -3.27252887e-03, -2.28103035e-04,\n        4.12421317e-04,  1.49067193e-03, -7.21432847e-04,  3.28844649e-04,\n        1.56943400e-03, -1.69696157e-03, -3.51787345e-03,  8.43572049e-04,\n        4.12438906e-04, -1.63056547e-04,  6.54608223e-04, -1.54799217e-03,\n        2.00544220e-03,  8.58324094e-04, -6.77358881e-04,  7.49652496e-04,\n        1.05529117e-03, -1.32681596e-03, -2.23538017e-03, -9.88828519e-04,\n        2.30642465e-03,  5.27148055e-04,  2.30386922e-03,  3.35376008e-03,\n        3.75405087e-03,  1.03996724e-03,  1.51166677e-03,  4.53906699e-03,\n        4.57837280e-03, -2.30556342e-03,  1.16812270e-03, -6.59414663e-04,\n        2.39661979e-03,  1.86028400e-04, -2.66919872e-03,  1.06930609e-03,\n       -5.02245872e-03, -2.22390347e-03,  2.35608888e-03, -5.88998765e-04,\n        1.10338491e-03, -1.02012487e-03,  3.36990859e-03, -1.63142282e-03,\n       -1.93024751e-03,  1.07515148e-03, -1.80824244e-03,  2.97142245e-04,\n       -1.59622409e-04,  2.96412221e-04, -8.83352112e-04,  6.66073685e-04,\n       -2.20986734e-03, -1.41753243e-03, -1.40098699e-03,  6.17820344e-03,\n        3.44739133e-03, -1.31508502e-03,  1.92703142e-03, -9.38697571e-04,\n       -7.91428260e-04,  3.21283152e-05, -4.25880214e-03,  1.05354713e-03,\n       -3.08088574e-04, -3.16111237e-03,  7.46573580e-04,  1.01057924e-03,\n        2.83827510e-03, -1.09653774e-03, -1.87817058e-03,  2.23401287e-03,\n        1.06449676e-03,  1.28807479e-03,  6.40923724e-04,  5.15302796e-03,\n        1.24305659e-03, -2.77452922e-03,  7.51669022e-04, -1.59217903e-04,\n        2.32420044e-03, -1.90665418e-03, -3.83477567e-04,  4.74194446e-04,\n        2.28319984e-03,  1.03178719e-04,  8.43430992e-04,  2.70843765e-03,\n       -4.00693393e-03, -2.19029260e-03,  1.74185049e-03,  3.28304232e-03,\n        5.64431378e-04, -5.41688763e-03,  3.28269548e-04, -4.18439191e-04,\n        5.61920946e-04, -4.83569046e-04,  1.27847789e-03, -1.91388326e-04,\n       -2.64660937e-04, -1.88748640e-03, -7.17345730e-04, -5.28201238e-03,\n        1.64323796e-03, -1.04708490e-03,  1.22669064e-03,  1.21575623e-03,\n       -2.77292567e-03, -2.69215559e-03, -1.85418062e-04,  1.70879981e-03,\n        1.42470779e-03,  1.50339747e-03,  1.75091568e-03, -1.95894121e-03,\n        1.99621855e-03, -6.84514936e-04, -2.57666185e-03,  3.81188853e-03,\n       -1.57940483e-03,  4.21756643e-03,  3.24809898e-03, -1.25160338e-03,\n        2.81784076e-03,  3.77693450e-03,  3.78350160e-04, -8.03579856e-04,\n       -2.06123013e-03, -1.72599318e-03, -2.80678107e-04, -2.92131348e-03,\n       -1.13620316e-03,  7.40094788e-04, -1.58449505e-04,  7.90776153e-05,\n       -6.97342754e-04, -1.65029412e-03,  1.47326237e-03, -2.79963844e-03,\n       -6.91715611e-04, -4.63443282e-04,  2.76798026e-03, -8.13870372e-04,\n        3.68346850e-04, -5.49063053e-04, -4.30680069e-04,  2.77054605e-04,\n        4.22145104e-03, -3.46388399e-03, -3.69557656e-04,  4.47112825e-05,\n       -2.49248990e-04,  6.98273629e-05,  1.95831045e-03, -9.01907928e-05,\n       -2.11866245e-04,  2.68565179e-03,  1.92424507e-03,  1.81447214e-03,\n       -1.55153934e-03,  1.68958505e-03,  3.10060980e-03, -3.58435605e-03,\n       -5.09054683e-04,  1.62918170e-03,  2.24442325e-04, -4.90158155e-03,\n       -1.92645916e-03,  1.76303150e-03, -9.19173615e-04,  1.11401495e-03,\n       -2.74353978e-03, -2.13218718e-03,  2.21721692e-04,  3.29386116e-04,\n        1.90002151e-03,  1.10031379e-04,  2.41113523e-03, -9.03793986e-04,\n       -2.14071485e-03,  4.61218019e-03, -2.62234464e-03, -2.94849634e-03,\n       -2.95214057e-04,  2.85015394e-03,  1.71743771e-03,  4.06474406e-03,\n        2.27667540e-04, -1.17197415e-03, -4.64816198e-04, -3.03764277e-03,\n        2.95704015e-03, -2.62321631e-03,  7.70192988e-04,  1.83001139e-03,\n       -4.89007764e-04, -9.93635292e-04, -6.83439558e-05, -1.65071116e-03,\n        3.81053695e-03,  1.71856773e-04, -1.47109125e-03,  3.15624755e-03,\n        3.79258978e-03,  1.01282563e-03, -1.95109430e-03,  2.62326675e-03,\n       -4.39336928e-03,  4.21014631e-03, -2.41964972e-03, -2.01935771e-03,\n       -1.18233488e-04, -3.28178128e-03, -1.07049768e-03,  1.11570241e-03,\n       -3.66592966e-03,  2.93269591e-03, -3.73686111e-03,  4.11924325e-03,\n        2.41067900e-03,  9.86091835e-04,  1.78971951e-03, -1.24278888e-03,\n        2.10745820e-03,  3.64333480e-04,  2.21466436e-04,  7.10919373e-04,\n        4.45615110e-04,  1.06481050e-03, -1.51143473e-03,  3.61977268e-03,\n        1.27719320e-03,  2.36633488e-03, -1.10961889e-03, -3.59614615e-03,\n       -4.15985437e-03,  1.98375274e-03,  8.91837556e-04,  5.40058093e-03,\n       -1.72555929e-05,  6.89414389e-04, -1.11555373e-03,  8.82030104e-04,\n       -1.59776602e-03, -5.46213415e-04, -2.90049887e-03,  3.07356078e-04,\n       -1.90334849e-03,  5.57260789e-03,  2.91743215e-03, -1.79782129e-03,\n        1.44888139e-03,  3.26019396e-03, -9.53717757e-04, -1.08094562e-03,\n       -5.37258277e-03, -2.08273473e-03,  2.49528172e-03, -3.89111958e-04,\n        1.94967787e-03,  3.41356699e-03, -3.38178094e-03,  2.32883065e-03,\n       -1.27337729e-03,  6.63819462e-04,  8.69320640e-04, -3.19834745e-03,\n       -3.40769505e-03, -9.34233336e-04, -1.40804269e-03, -3.04201813e-04,\n        2.60264259e-03,  1.72380443e-03,  7.39111588e-03,  9.92281462e-04,\n        2.68989213e-03, -2.97093934e-03, -2.23935331e-03, -1.93246237e-03,\n        2.74200105e-03,  6.44210039e-04, -1.44740306e-03,  2.08212744e-04,\n       -1.81232105e-04, -3.11608590e-03, -2.53928613e-03, -4.65757831e-03,\n       -3.21303075e-04,  2.36486436e-03, -1.25237890e-03,  3.12225637e-04,\n       -1.24757485e-03,  9.13397023e-04, -3.59618412e-03, -2.44432748e-03,\n        2.05001222e-03,  1.07894981e-03, -7.30833869e-04, -1.39552973e-03,\n        2.75228678e-03, -2.19580857e-03,  4.47004135e-03,  3.49172902e-03,\n       -8.29282863e-05,  1.36870441e-03,  3.50865685e-04, -1.26051426e-03,\n       -2.36894575e-05,  1.59887544e-04,  7.69906939e-04,  2.72770661e-03,\n       -3.77573291e-04,  1.80816128e-03, -1.02474874e-04,  1.96213140e-03,\n       -1.16030495e-03,  2.56916264e-03,  1.71986301e-03, -1.52573329e-03,\n        7.68896286e-04, -2.04197444e-03,  2.56274728e-03,  2.75881460e-03,\n       -1.33272947e-03, -3.50105303e-03, -5.22552401e-04,  3.14885879e-03,\n        1.09205634e-03, -4.75363794e-04,  1.25915753e-03, -1.00120254e-03,\n        1.03124947e-04, -2.80157868e-03, -1.15158218e-03, -6.89268698e-04,\n        3.27830794e-03, -2.15645817e-03, -8.89394282e-04, -1.04978087e-03,\n        1.53944266e-03, -1.71030109e-04, -2.05842971e-03,  1.57847368e-03,\n       -2.25809504e-03,  2.11744604e-03,  5.30167396e-04,  2.02958470e-03,\n        4.26606508e-03, -4.61562054e-04, -2.23471069e-03,  1.46389117e-03,\n        7.12235817e-04, -3.07753682e-03, -2.12261359e-03, -2.18209311e-04,\n       -2.55320682e-04, -2.14773739e-03, -5.04112132e-03,  2.55251648e-03,\n        1.60835463e-03,  1.71961124e-03, -5.21873522e-03, -1.80413479e-03,\n        1.33144412e-03, -7.23302509e-04, -1.06732855e-03,  1.63863807e-03,\n        3.29966788e-03, -1.05032851e-03, -8.14400958e-04,  7.56246945e-04,\n        5.37523414e-04,  3.23248326e-03,  2.24413523e-03,  1.66197084e-03,\n       -1.57209971e-03, -1.15265881e-03,  3.76526410e-03,  1.26738181e-03,\n        6.00560477e-04, -1.12500769e-03, -3.49996820e-03, -2.60726082e-03,\n        9.30646877e-04, -2.24493973e-04, -5.35880336e-04,  1.29577487e-03,\n        1.27230961e-03, -7.88004741e-04, -1.38014278e-03,  2.74339253e-03,\n        2.15717552e-04,  1.30253058e-03, -4.80995769e-03,  3.60082896e-03,\n       -1.70104800e-03, -7.87535411e-04,  3.93671902e-03, -1.16203934e-03,\n       -2.56461037e-03,  5.71198184e-04, -4.02334103e-03, -1.13437615e-04,\n        9.61601005e-04, -4.42982318e-03,  1.32996414e-03,  2.15904643e-03,\n        8.53161169e-05,  1.13290195e-04, -2.36653645e-03,  2.82575094e-03,\n        5.52125492e-04,  6.16542432e-04, -6.31864903e-04,  1.57799350e-04,\n        2.39607002e-03, -5.76247128e-04,  9.72489393e-04, -2.34681180e-03,\n        2.74301182e-03, -2.30200006e-03, -2.72284753e-03,  9.98625681e-04,\n        2.78686149e-03,  2.40936203e-03,  3.28955350e-03,  8.88105950e-04,\n        3.72147808e-04,  1.30010410e-03, -2.38995834e-03, -2.56840996e-03,\n       -1.28422040e-03,  3.14727130e-04, -1.97426600e-03, -5.30665015e-04,\n        9.64691304e-04,  4.47500417e-04, -2.85792914e-03,  1.02988622e-03,\n        2.99181513e-03,  7.64777705e-04, -1.05365846e-03, -4.25315673e-04,\n       -1.12490963e-03, -3.66824407e-03, -1.42427960e-03,  2.86375787e-04,\n        8.05838235e-04, -1.60711477e-03,  5.15393344e-04,  9.07885921e-04,\n       -3.83203622e-03,  1.79432891e-03, -2.23323895e-03, -9.53173783e-04,\n       -4.87338203e-04,  2.34047572e-03, -3.73094603e-03, -3.95795986e-03,\n       -8.35170676e-04, -4.40534307e-04, -4.36719642e-04,  2.34101590e-03,\n        9.97967667e-05, -1.81140864e-03, -2.22973452e-03,  3.95442426e-04,\n        8.32056283e-05, -2.36132634e-03,  1.17631336e-03, -2.24789238e-03,\n       -2.74198088e-03, -1.45833123e-03, -7.09018496e-04, -2.68208877e-03,\n        1.00392292e-03, -1.85702043e-03,  9.19490115e-04, -1.35516808e-04,\n        1.25072569e-03, -1.38788168e-06, -2.45324062e-04, -4.06837939e-03,\n        1.35215956e-03,  6.17222778e-04, -1.45750745e-03, -2.76783904e-03,\n       -1.08752132e-05,  3.89015775e-03, -4.56115168e-05, -2.46955625e-03,\n       -2.24821873e-03,  4.56267264e-04,  5.69770822e-04,  5.48421529e-05,\n        1.37585213e-03, -1.47735908e-03, -1.39062595e-03, -4.22775664e-03,\n        1.72046999e-03, -1.89072857e-03,  3.72585699e-04, -2.07044201e-05,\n        2.65356700e-04,  9.90181119e-04,  1.59974967e-03,  2.57688265e-04,\n       -2.52687149e-04, -1.71730298e-03,  2.81132811e-03, -3.40631378e-03,\n        1.60174438e-03, -6.25629507e-04,  2.00833571e-04, -7.03863450e-04,\n        2.14542614e-04, -7.67681293e-04,  3.49491621e-03, -3.28344443e-04,\n       -5.42755180e-04, -2.21140178e-04, -2.54622660e-03])"
     },
     "metadata": {},
     "execution_count": 10
    }
   ],
   "source": [
    "np.diag(X_0)"
   ]
  },
  {
   "cell_type": "code",
   "execution_count": 12,
   "metadata": {},
   "outputs": [],
   "source": [
    "S = linear_oracle(grad)"
   ]
  },
  {
   "cell_type": "code",
   "execution_count": 13,
   "metadata": {},
   "outputs": [],
   "source": [
    "x_nxt = X_0 + 2/3 * (S - X_0)"
   ]
  },
  {
   "cell_type": "code",
   "execution_count": 16,
   "metadata": {},
   "outputs": [
    {
     "output_type": "execute_result",
     "data": {
      "text/plain": "-1.0"
     },
     "metadata": {},
     "execution_count": 16
    }
   ],
   "source": [
    "np.sum(S)"
   ]
  },
  {
   "cell_type": "code",
   "execution_count": 19,
   "metadata": {},
   "outputs": [
    {
     "output_type": "execute_result",
     "data": {
      "text/plain": "array([[0.00056786, 0.        , 0.        , ..., 0.        , 0.        ,\n        0.        ],\n       [0.        , 0.00056786, 0.        , ..., 0.        , 0.        ,\n        0.        ],\n       [0.        , 0.        , 0.00056786, ..., 0.        , 0.        ,\n        0.        ],\n       ...,\n       [0.        , 0.        , 0.        , ..., 0.00056786, 0.        ,\n        0.        ],\n       [0.        , 0.        , 0.        , ..., 0.        , 0.00056786,\n        0.        ],\n       [0.        , 0.        , 0.        , ..., 0.        , 0.        ,\n        0.00056786]])"
     },
     "metadata": {},
     "execution_count": 19
    }
   ],
   "source": [
    "x_nxt"
   ]
  },
  {
   "cell_type": "code",
   "execution_count": 22,
   "metadata": {},
   "outputs": [],
   "source": [
    "A = np.array([[1, -3], [-4, 3]])"
   ]
  },
  {
   "cell_type": "code",
   "execution_count": 13,
   "metadata": {},
   "outputs": [],
   "source": [
    "x = X_0\n",
    "f_vals = []\n",
    "for i in range(100):\n",
    "    f, inv_X = func_x(x)\n",
    "    x = x - 0.01 * grad_x(x, inv_X)\n",
    "    f_vals.append(f)"
   ]
  },
  {
   "cell_type": "code",
   "execution_count": 14,
   "metadata": {},
   "outputs": [
    {
     "output_type": "execute_result",
     "data": {
      "text/plain": "[3743.1395692390934,\n 2253.9285299320827,\n 2101.179286305169,\n 1948.5753972224338,\n 1796.1892120512784,\n 1644.1986204095851,\n 1493.445091643542,\n nan,\n nan,\n nan,\n nan,\n nan,\n nan,\n nan,\n nan,\n nan,\n nan,\n nan,\n nan,\n nan,\n nan,\n nan,\n nan,\n nan,\n nan,\n nan,\n nan,\n nan,\n nan,\n nan,\n nan,\n nan,\n nan,\n nan,\n nan,\n nan,\n nan,\n nan,\n nan,\n nan,\n nan,\n nan,\n nan,\n nan,\n nan,\n nan,\n nan,\n nan,\n nan,\n nan,\n nan,\n nan,\n nan,\n nan,\n nan,\n nan,\n nan,\n nan,\n nan,\n nan,\n nan,\n nan,\n nan,\n nan,\n nan,\n nan,\n nan,\n nan,\n nan,\n nan,\n nan,\n nan,\n nan,\n nan,\n nan,\n nan,\n nan,\n nan,\n nan,\n nan,\n nan,\n nan,\n nan,\n nan,\n nan,\n nan,\n nan,\n nan,\n nan,\n nan,\n nan,\n nan,\n nan,\n nan,\n nan,\n nan,\n nan,\n nan,\n nan,\n nan]"
     },
     "metadata": {},
     "execution_count": 14
    }
   ],
   "source": [
    "f_vals"
   ]
  },
  {
   "cell_type": "code",
   "execution_count": null,
   "metadata": {},
   "outputs": [],
   "source": []
  }
 ],
 "metadata": {
  "language_info": {
   "codemirror_mode": {
    "name": "ipython",
    "version": 3
   },
   "file_extension": ".py",
   "mimetype": "text/x-python",
   "name": "python",
   "nbconvert_exporter": "python",
   "pygments_lexer": "ipython3",
   "version": "3.7.3-final"
  },
  "orig_nbformat": 2,
  "kernelspec": {
   "name": "python3",
   "display_name": "Python 3"
  }
 },
 "nbformat": 4,
 "nbformat_minor": 2
}